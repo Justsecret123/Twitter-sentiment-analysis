{
 "cells": [
  {
   "cell_type": "markdown",
   "id": "2a546e8c",
   "metadata": {
    "papermill": {
     "duration": 0.057376,
     "end_time": "2022-04-16T05:31:29.780565",
     "exception": false,
     "start_time": "2022-04-16T05:31:29.723189",
     "status": "completed"
    },
    "tags": []
   },
   "source": [
    "# Twitter Sentiment Analysis by Ibrahim SEROUIS 💻\n",
    "\n",
    "## What is Sentiment Analysis ? 🔍\n",
    "\n",
    "Sentiment analysis is a natural language processing technique used to identify the emotional tone of pieces of writing. In most cases, goal is to determine whether the corpus is postive, negative or neutral. \n",
    "\n",
    "## What to expect 🤔\n",
    "\n",
    "In this Notebook, we're going to train a Sentiment Analysis model on 1.6 million tweets extracted from the well-known Sentiment140 Dataset. "
   ]
  },
  {
   "cell_type": "markdown",
   "id": "ebcc3267",
   "metadata": {
    "id": "9ZXB7WM81ygu",
    "papermill": {
     "duration": 0.062291,
     "end_time": "2022-04-16T05:31:29.914596",
     "exception": false,
     "start_time": "2022-04-16T05:31:29.852305",
     "status": "completed"
    },
    "tags": []
   },
   "source": [
    "# Libraries"
   ]
  },
  {
   "cell_type": "code",
   "execution_count": 1,
   "id": "71197eb2",
   "metadata": {
    "execution": {
     "iopub.execute_input": "2022-04-16T05:31:30.122996Z",
     "iopub.status.busy": "2022-04-16T05:31:30.122322Z",
     "iopub.status.idle": "2022-04-16T05:31:35.132052Z",
     "shell.execute_reply": "2022-04-16T05:31:35.132480Z",
     "shell.execute_reply.started": "2022-04-16T05:04:12.893018Z"
    },
    "id": "IhWt6DDX1yB8",
    "outputId": "7053acb5-17e2-45c8-fc22-8074d9018976",
    "papermill": {
     "duration": 5.156782,
     "end_time": "2022-04-16T05:31:35.132786",
     "exception": false,
     "start_time": "2022-04-16T05:31:29.976004",
     "status": "completed"
    },
    "tags": []
   },
   "outputs": [
    {
     "name": "stderr",
     "output_type": "stream",
     "text": [
      "2022-04-16 05:31:31.410759: I tensorflow/stream_executor/platform/default/dso_loader.cc:49] Successfully opened dynamic library libcudart.so.11.0\n"
     ]
    }
   ],
   "source": [
    "# Regular expressions\n",
    "import re\n",
    "\n",
    "# Data and visualization \n",
    "import pandas as pd\n",
    "import seaborn as sns\n",
    "import matplotlib.pyplot as plt\n",
    "\n",
    "# Calculations\n",
    "import numpy as np\n",
    "\n",
    "# Machine Learning\n",
    "from sklearn.model_selection import train_test_split\n",
    "from sklearn.metrics import classification_report\n",
    "\n",
    "# Deep LEarning\n",
    "import tensorflow as tf\n",
    "from tensorflow.keras.layers import Embedding, LSTM\n",
    "from tensorflow.keras.layers.experimental.preprocessing import TextVectorization\n",
    "from tensorflow.keras.models import Sequential\n",
    "from tensorflow.keras.optimizers import Adam\n",
    "from tensorflow.keras.preprocessing.text import Tokenizer\n",
    "from tensorflow.keras.preprocessing.sequence import pad_sequences"
   ]
  },
  {
   "cell_type": "markdown",
   "id": "4dd5d9a9",
   "metadata": {
    "id": "8-hCGQqW2o2D",
    "papermill": {
     "duration": 0.06081,
     "end_time": "2022-04-16T05:31:35.254797",
     "exception": false,
     "start_time": "2022-04-16T05:31:35.193987",
     "status": "completed"
    },
    "tags": []
   },
   "source": [
    "# Exploring the dataset 📊"
   ]
  },
  {
   "cell_type": "markdown",
   "id": "bdcafc56",
   "metadata": {
    "id": "OoY1m43i24nU",
    "papermill": {
     "duration": 0.060555,
     "end_time": "2022-04-16T05:31:35.376473",
     "exception": false,
     "start_time": "2022-04-16T05:31:35.315918",
     "status": "completed"
    },
    "tags": []
   },
   "source": [
    "# Load"
   ]
  },
  {
   "cell_type": "code",
   "execution_count": 2,
   "id": "8277e725",
   "metadata": {
    "execution": {
     "iopub.execute_input": "2022-04-16T05:31:35.501035Z",
     "iopub.status.busy": "2022-04-16T05:31:35.500267Z",
     "iopub.status.idle": "2022-04-16T05:31:41.044831Z",
     "shell.execute_reply": "2022-04-16T05:31:41.044293Z",
     "shell.execute_reply.started": "2022-04-16T05:04:18.029597Z"
    },
    "id": "k0bHQUy31HL_",
    "papermill": {
     "duration": 5.608703,
     "end_time": "2022-04-16T05:31:41.044963",
     "exception": false,
     "start_time": "2022-04-16T05:31:35.436260",
     "status": "completed"
    },
    "tags": []
   },
   "outputs": [],
   "source": [
    "dataset = pd.read_csv(\"/kaggle/input/twitter-sentiment-analysis-and-word-embeddings/Dataset/Dataset/training_dataset.csv\", \n",
    "                      encoding=\"latin\", \n",
    "                      header=None, \n",
    "                      names=[\"target\",\"id\",\"date\",\"query\",\"username\",\"content\"]\n",
    "                     )"
   ]
  },
  {
   "cell_type": "markdown",
   "id": "53e66074",
   "metadata": {
    "id": "o9_eOnd67Qpr",
    "papermill": {
     "duration": 0.053761,
     "end_time": "2022-04-16T05:31:41.153598",
     "exception": false,
     "start_time": "2022-04-16T05:31:41.099837",
     "status": "completed"
    },
    "tags": []
   },
   "source": [
    "## Show some examples"
   ]
  },
  {
   "cell_type": "code",
   "execution_count": 3,
   "id": "836e1270",
   "metadata": {
    "execution": {
     "iopub.execute_input": "2022-04-16T05:31:41.271440Z",
     "iopub.status.busy": "2022-04-16T05:31:41.270839Z",
     "iopub.status.idle": "2022-04-16T05:31:41.286849Z",
     "shell.execute_reply": "2022-04-16T05:31:41.287255Z",
     "shell.execute_reply.started": "2022-04-16T05:04:23.578509Z"
    },
    "id": "tPuZ_Aht7QC5",
    "outputId": "b79de459-6d91-411b-feb3-1cb39e67a14a",
    "papermill": {
     "duration": 0.079904,
     "end_time": "2022-04-16T05:31:41.287377",
     "exception": false,
     "start_time": "2022-04-16T05:31:41.207473",
     "status": "completed"
    },
    "tags": []
   },
   "outputs": [
    {
     "data": {
      "text/html": [
       "<div>\n",
       "<style scoped>\n",
       "    .dataframe tbody tr th:only-of-type {\n",
       "        vertical-align: middle;\n",
       "    }\n",
       "\n",
       "    .dataframe tbody tr th {\n",
       "        vertical-align: top;\n",
       "    }\n",
       "\n",
       "    .dataframe thead th {\n",
       "        text-align: right;\n",
       "    }\n",
       "</style>\n",
       "<table border=\"1\" class=\"dataframe\">\n",
       "  <thead>\n",
       "    <tr style=\"text-align: right;\">\n",
       "      <th></th>\n",
       "      <th>target</th>\n",
       "      <th>id</th>\n",
       "      <th>date</th>\n",
       "      <th>query</th>\n",
       "      <th>username</th>\n",
       "      <th>content</th>\n",
       "    </tr>\n",
       "  </thead>\n",
       "  <tbody>\n",
       "    <tr>\n",
       "      <th>0</th>\n",
       "      <td>0</td>\n",
       "      <td>1467810369</td>\n",
       "      <td>Mon Apr 06 22:19:45 PDT 2009</td>\n",
       "      <td>NO_QUERY</td>\n",
       "      <td>_TheSpecialOne_</td>\n",
       "      <td>@switchfoot http://twitpic.com/2y1zl - Awww, t...</td>\n",
       "    </tr>\n",
       "    <tr>\n",
       "      <th>1</th>\n",
       "      <td>0</td>\n",
       "      <td>1467810672</td>\n",
       "      <td>Mon Apr 06 22:19:49 PDT 2009</td>\n",
       "      <td>NO_QUERY</td>\n",
       "      <td>scotthamilton</td>\n",
       "      <td>is upset that he can't update his Facebook by ...</td>\n",
       "    </tr>\n",
       "    <tr>\n",
       "      <th>2</th>\n",
       "      <td>0</td>\n",
       "      <td>1467810917</td>\n",
       "      <td>Mon Apr 06 22:19:53 PDT 2009</td>\n",
       "      <td>NO_QUERY</td>\n",
       "      <td>mattycus</td>\n",
       "      <td>@Kenichan I dived many times for the ball. Man...</td>\n",
       "    </tr>\n",
       "    <tr>\n",
       "      <th>3</th>\n",
       "      <td>0</td>\n",
       "      <td>1467811184</td>\n",
       "      <td>Mon Apr 06 22:19:57 PDT 2009</td>\n",
       "      <td>NO_QUERY</td>\n",
       "      <td>ElleCTF</td>\n",
       "      <td>my whole body feels itchy and like its on fire</td>\n",
       "    </tr>\n",
       "    <tr>\n",
       "      <th>4</th>\n",
       "      <td>0</td>\n",
       "      <td>1467811193</td>\n",
       "      <td>Mon Apr 06 22:19:57 PDT 2009</td>\n",
       "      <td>NO_QUERY</td>\n",
       "      <td>Karoli</td>\n",
       "      <td>@nationwideclass no, it's not behaving at all....</td>\n",
       "    </tr>\n",
       "  </tbody>\n",
       "</table>\n",
       "</div>"
      ],
      "text/plain": [
       "   target          id                          date     query  \\\n",
       "0       0  1467810369  Mon Apr 06 22:19:45 PDT 2009  NO_QUERY   \n",
       "1       0  1467810672  Mon Apr 06 22:19:49 PDT 2009  NO_QUERY   \n",
       "2       0  1467810917  Mon Apr 06 22:19:53 PDT 2009  NO_QUERY   \n",
       "3       0  1467811184  Mon Apr 06 22:19:57 PDT 2009  NO_QUERY   \n",
       "4       0  1467811193  Mon Apr 06 22:19:57 PDT 2009  NO_QUERY   \n",
       "\n",
       "          username                                            content  \n",
       "0  _TheSpecialOne_  @switchfoot http://twitpic.com/2y1zl - Awww, t...  \n",
       "1    scotthamilton  is upset that he can't update his Facebook by ...  \n",
       "2         mattycus  @Kenichan I dived many times for the ball. Man...  \n",
       "3          ElleCTF    my whole body feels itchy and like its on fire   \n",
       "4           Karoli  @nationwideclass no, it's not behaving at all....  "
      ]
     },
     "execution_count": 3,
     "metadata": {},
     "output_type": "execute_result"
    }
   ],
   "source": [
    "dataset.head(5)"
   ]
  },
  {
   "cell_type": "markdown",
   "id": "e1c9aeab",
   "metadata": {
    "id": "2YaoqG3b9C0Y",
    "papermill": {
     "duration": 0.05511,
     "end_time": "2022-04-16T05:31:41.397870",
     "exception": false,
     "start_time": "2022-04-16T05:31:41.342760",
     "status": "completed"
    },
    "tags": []
   },
   "source": [
    "## Check for missing values"
   ]
  },
  {
   "cell_type": "code",
   "execution_count": 4,
   "id": "b27e0cf4",
   "metadata": {
    "execution": {
     "iopub.execute_input": "2022-04-16T05:31:41.510059Z",
     "iopub.status.busy": "2022-04-16T05:31:41.509231Z",
     "iopub.status.idle": "2022-04-16T05:31:42.082540Z",
     "shell.execute_reply": "2022-04-16T05:31:42.083124Z",
     "shell.execute_reply.started": "2022-04-16T05:04:23.606389Z"
    },
    "id": "xhED0yWp7ihG",
    "outputId": "69eba5ef-81e0-41ca-9af0-3c2b55c4d0eb",
    "papermill": {
     "duration": 0.631359,
     "end_time": "2022-04-16T05:31:42.083333",
     "exception": false,
     "start_time": "2022-04-16T05:31:41.451974",
     "status": "completed"
    },
    "tags": []
   },
   "outputs": [
    {
     "name": "stdout",
     "output_type": "stream",
     "text": [
      "Missing values: \n",
      "\n",
      "target      0\n",
      "id          0\n",
      "date        0\n",
      "query       0\n",
      "username    0\n",
      "content     0\n",
      "dtype: int64\n"
     ]
    }
   ],
   "source": [
    "print(f\"Missing values: \\n\\n{dataset.isna().sum()}\")"
   ]
  },
  {
   "cell_type": "markdown",
   "id": "fba35de2",
   "metadata": {
    "id": "JO4eJJq-9xcr",
    "papermill": {
     "duration": 0.054304,
     "end_time": "2022-04-16T05:31:42.193991",
     "exception": false,
     "start_time": "2022-04-16T05:31:42.139687",
     "status": "completed"
    },
    "tags": []
   },
   "source": [
    "\n",
    "\n",
    "```\n",
    " There are 0 missing values within this dataset\n",
    "```\n",
    "\n"
   ]
  },
  {
   "cell_type": "markdown",
   "id": "ab3709ec",
   "metadata": {
    "id": "cSq9QERv-jvp",
    "papermill": {
     "duration": 0.054315,
     "end_time": "2022-04-16T05:31:42.302849",
     "exception": false,
     "start_time": "2022-04-16T05:31:42.248534",
     "status": "completed"
    },
    "tags": []
   },
   "source": [
    "## Target distribution "
   ]
  },
  {
   "cell_type": "markdown",
   "id": "cc3cd414",
   "metadata": {
    "id": "K8tlUnkH-nZQ",
    "papermill": {
     "duration": 0.054018,
     "end_time": "2022-04-16T05:31:42.411872",
     "exception": false,
     "start_time": "2022-04-16T05:31:42.357854",
     "status": "completed"
    },
    "tags": []
   },
   "source": [
    "### Negative samples : (*target = 0*) 😒"
   ]
  },
  {
   "cell_type": "code",
   "execution_count": 5,
   "id": "15629ae0",
   "metadata": {
    "execution": {
     "iopub.execute_input": "2022-04-16T05:31:42.526494Z",
     "iopub.status.busy": "2022-04-16T05:31:42.525780Z",
     "iopub.status.idle": "2022-04-16T05:31:42.614815Z",
     "shell.execute_reply": "2022-04-16T05:31:42.615303Z",
     "shell.execute_reply.started": "2022-04-16T05:04:24.312891Z"
    },
    "id": "Uv8bxTGD9V3l",
    "outputId": "0c83028f-78f0-4bd5-d8eb-c44dd6a1dc47",
    "papermill": {
     "duration": 0.149305,
     "end_time": "2022-04-16T05:31:42.615453",
     "exception": false,
     "start_time": "2022-04-16T05:31:42.466148",
     "status": "completed"
    },
    "tags": []
   },
   "outputs": [
    {
     "name": "stdout",
     "output_type": "stream",
     "text": [
      "Number of negative samples : 800000\n",
      "\n"
     ]
    },
    {
     "data": {
      "text/html": [
       "<div>\n",
       "<style scoped>\n",
       "    .dataframe tbody tr th:only-of-type {\n",
       "        vertical-align: middle;\n",
       "    }\n",
       "\n",
       "    .dataframe tbody tr th {\n",
       "        vertical-align: top;\n",
       "    }\n",
       "\n",
       "    .dataframe thead th {\n",
       "        text-align: right;\n",
       "    }\n",
       "</style>\n",
       "<table border=\"1\" class=\"dataframe\">\n",
       "  <thead>\n",
       "    <tr style=\"text-align: right;\">\n",
       "      <th></th>\n",
       "      <th>target</th>\n",
       "      <th>id</th>\n",
       "      <th>date</th>\n",
       "      <th>query</th>\n",
       "      <th>username</th>\n",
       "      <th>content</th>\n",
       "    </tr>\n",
       "  </thead>\n",
       "  <tbody>\n",
       "    <tr>\n",
       "      <th>0</th>\n",
       "      <td>0</td>\n",
       "      <td>1467810369</td>\n",
       "      <td>Mon Apr 06 22:19:45 PDT 2009</td>\n",
       "      <td>NO_QUERY</td>\n",
       "      <td>_TheSpecialOne_</td>\n",
       "      <td>@switchfoot http://twitpic.com/2y1zl - Awww, t...</td>\n",
       "    </tr>\n",
       "    <tr>\n",
       "      <th>1</th>\n",
       "      <td>0</td>\n",
       "      <td>1467810672</td>\n",
       "      <td>Mon Apr 06 22:19:49 PDT 2009</td>\n",
       "      <td>NO_QUERY</td>\n",
       "      <td>scotthamilton</td>\n",
       "      <td>is upset that he can't update his Facebook by ...</td>\n",
       "    </tr>\n",
       "    <tr>\n",
       "      <th>2</th>\n",
       "      <td>0</td>\n",
       "      <td>1467810917</td>\n",
       "      <td>Mon Apr 06 22:19:53 PDT 2009</td>\n",
       "      <td>NO_QUERY</td>\n",
       "      <td>mattycus</td>\n",
       "      <td>@Kenichan I dived many times for the ball. Man...</td>\n",
       "    </tr>\n",
       "    <tr>\n",
       "      <th>3</th>\n",
       "      <td>0</td>\n",
       "      <td>1467811184</td>\n",
       "      <td>Mon Apr 06 22:19:57 PDT 2009</td>\n",
       "      <td>NO_QUERY</td>\n",
       "      <td>ElleCTF</td>\n",
       "      <td>my whole body feels itchy and like its on fire</td>\n",
       "    </tr>\n",
       "    <tr>\n",
       "      <th>4</th>\n",
       "      <td>0</td>\n",
       "      <td>1467811193</td>\n",
       "      <td>Mon Apr 06 22:19:57 PDT 2009</td>\n",
       "      <td>NO_QUERY</td>\n",
       "      <td>Karoli</td>\n",
       "      <td>@nationwideclass no, it's not behaving at all....</td>\n",
       "    </tr>\n",
       "  </tbody>\n",
       "</table>\n",
       "</div>"
      ],
      "text/plain": [
       "   target          id                          date     query  \\\n",
       "0       0  1467810369  Mon Apr 06 22:19:45 PDT 2009  NO_QUERY   \n",
       "1       0  1467810672  Mon Apr 06 22:19:49 PDT 2009  NO_QUERY   \n",
       "2       0  1467810917  Mon Apr 06 22:19:53 PDT 2009  NO_QUERY   \n",
       "3       0  1467811184  Mon Apr 06 22:19:57 PDT 2009  NO_QUERY   \n",
       "4       0  1467811193  Mon Apr 06 22:19:57 PDT 2009  NO_QUERY   \n",
       "\n",
       "          username                                            content  \n",
       "0  _TheSpecialOne_  @switchfoot http://twitpic.com/2y1zl - Awww, t...  \n",
       "1    scotthamilton  is upset that he can't update his Facebook by ...  \n",
       "2         mattycus  @Kenichan I dived many times for the ball. Man...  \n",
       "3          ElleCTF    my whole body feels itchy and like its on fire   \n",
       "4           Karoli  @nationwideclass no, it's not behaving at all....  "
      ]
     },
     "execution_count": 5,
     "metadata": {},
     "output_type": "execute_result"
    }
   ],
   "source": [
    "negative_samples = dataset[dataset[\"target\"]==0]\n",
    "print(f\"Number of negative samples : {len(negative_samples)}\\n\")\n",
    "negative_samples.head(5)"
   ]
  },
  {
   "cell_type": "markdown",
   "id": "7593554d",
   "metadata": {
    "id": "KM1ZuqFEA6x3",
    "papermill": {
     "duration": 0.054584,
     "end_time": "2022-04-16T05:31:42.725376",
     "exception": false,
     "start_time": "2022-04-16T05:31:42.670792",
     "status": "completed"
    },
    "tags": []
   },
   "source": [
    "### Neutral samples : (*target=2*) 😐"
   ]
  },
  {
   "cell_type": "code",
   "execution_count": 6,
   "id": "2202b4a3",
   "metadata": {
    "execution": {
     "iopub.execute_input": "2022-04-16T05:31:42.841581Z",
     "iopub.status.busy": "2022-04-16T05:31:42.840764Z",
     "iopub.status.idle": "2022-04-16T05:31:42.850072Z",
     "shell.execute_reply": "2022-04-16T05:31:42.850719Z",
     "shell.execute_reply.started": "2022-04-16T05:04:24.446070Z"
    },
    "id": "6DT7jZMCAecG",
    "outputId": "3ada8019-9f04-4135-c142-f622fe23164e",
    "papermill": {
     "duration": 0.070239,
     "end_time": "2022-04-16T05:31:42.850870",
     "exception": false,
     "start_time": "2022-04-16T05:31:42.780631",
     "status": "completed"
    },
    "tags": []
   },
   "outputs": [
    {
     "name": "stdout",
     "output_type": "stream",
     "text": [
      "Number of neutral samples : 0\n",
      "\n",
      "\n"
     ]
    },
    {
     "data": {
      "text/html": [
       "<div>\n",
       "<style scoped>\n",
       "    .dataframe tbody tr th:only-of-type {\n",
       "        vertical-align: middle;\n",
       "    }\n",
       "\n",
       "    .dataframe tbody tr th {\n",
       "        vertical-align: top;\n",
       "    }\n",
       "\n",
       "    .dataframe thead th {\n",
       "        text-align: right;\n",
       "    }\n",
       "</style>\n",
       "<table border=\"1\" class=\"dataframe\">\n",
       "  <thead>\n",
       "    <tr style=\"text-align: right;\">\n",
       "      <th></th>\n",
       "      <th>target</th>\n",
       "      <th>id</th>\n",
       "      <th>date</th>\n",
       "      <th>query</th>\n",
       "      <th>username</th>\n",
       "      <th>content</th>\n",
       "    </tr>\n",
       "  </thead>\n",
       "  <tbody>\n",
       "  </tbody>\n",
       "</table>\n",
       "</div>"
      ],
      "text/plain": [
       "Empty DataFrame\n",
       "Columns: [target, id, date, query, username, content]\n",
       "Index: []"
      ]
     },
     "execution_count": 6,
     "metadata": {},
     "output_type": "execute_result"
    }
   ],
   "source": [
    "neutral_samples = dataset[dataset[\"target\"]==2]\n",
    "print(f\"Number of neutral samples : {len(neutral_samples)}\\n\\n\")\n",
    "neutral_samples.head(5)"
   ]
  },
  {
   "cell_type": "markdown",
   "id": "64e7f07b",
   "metadata": {
    "id": "VHOQYpNmCL6-",
    "papermill": {
     "duration": 0.059987,
     "end_time": "2022-04-16T05:31:42.972799",
     "exception": false,
     "start_time": "2022-04-16T05:31:42.912812",
     "status": "completed"
    },
    "tags": []
   },
   "source": [
    "\n",
    "\n",
    "```\n",
    "0 neutral sample ? Wow\n",
    "```\n",
    "\n"
   ]
  },
  {
   "cell_type": "markdown",
   "id": "61ad18e3",
   "metadata": {
    "id": "NqkK7OZXCROU",
    "papermill": {
     "duration": 0.060287,
     "end_time": "2022-04-16T05:31:43.093193",
     "exception": false,
     "start_time": "2022-04-16T05:31:43.032906",
     "status": "completed"
    },
    "tags": []
   },
   "source": [
    "### Positive samples (*target=4*) 😄"
   ]
  },
  {
   "cell_type": "code",
   "execution_count": 7,
   "id": "47e09d50",
   "metadata": {
    "execution": {
     "iopub.execute_input": "2022-04-16T05:31:43.218084Z",
     "iopub.status.busy": "2022-04-16T05:31:43.217344Z",
     "iopub.status.idle": "2022-04-16T05:31:43.286497Z",
     "shell.execute_reply": "2022-04-16T05:31:43.286972Z",
     "shell.execute_reply.started": "2022-04-16T05:04:24.811191Z"
    },
    "id": "sre7a5oBCQ1Q",
    "outputId": "3b46ce62-a57a-400a-900c-5edfe72418b7",
    "papermill": {
     "duration": 0.13427,
     "end_time": "2022-04-16T05:31:43.287126",
     "exception": false,
     "start_time": "2022-04-16T05:31:43.152856",
     "status": "completed"
    },
    "tags": []
   },
   "outputs": [
    {
     "name": "stdout",
     "output_type": "stream",
     "text": [
      "Number of positive samples 800000\n",
      "\n",
      "\n"
     ]
    },
    {
     "data": {
      "text/html": [
       "<div>\n",
       "<style scoped>\n",
       "    .dataframe tbody tr th:only-of-type {\n",
       "        vertical-align: middle;\n",
       "    }\n",
       "\n",
       "    .dataframe tbody tr th {\n",
       "        vertical-align: top;\n",
       "    }\n",
       "\n",
       "    .dataframe thead th {\n",
       "        text-align: right;\n",
       "    }\n",
       "</style>\n",
       "<table border=\"1\" class=\"dataframe\">\n",
       "  <thead>\n",
       "    <tr style=\"text-align: right;\">\n",
       "      <th></th>\n",
       "      <th>target</th>\n",
       "      <th>id</th>\n",
       "      <th>date</th>\n",
       "      <th>query</th>\n",
       "      <th>username</th>\n",
       "      <th>content</th>\n",
       "    </tr>\n",
       "  </thead>\n",
       "  <tbody>\n",
       "    <tr>\n",
       "      <th>800000</th>\n",
       "      <td>4</td>\n",
       "      <td>1467822272</td>\n",
       "      <td>Mon Apr 06 22:22:45 PDT 2009</td>\n",
       "      <td>NO_QUERY</td>\n",
       "      <td>ersle</td>\n",
       "      <td>I LOVE @Health4UandPets u guys r the best!!</td>\n",
       "    </tr>\n",
       "    <tr>\n",
       "      <th>800001</th>\n",
       "      <td>4</td>\n",
       "      <td>1467822273</td>\n",
       "      <td>Mon Apr 06 22:22:45 PDT 2009</td>\n",
       "      <td>NO_QUERY</td>\n",
       "      <td>becca210</td>\n",
       "      <td>im meeting up with one of my besties tonight! ...</td>\n",
       "    </tr>\n",
       "    <tr>\n",
       "      <th>800002</th>\n",
       "      <td>4</td>\n",
       "      <td>1467822283</td>\n",
       "      <td>Mon Apr 06 22:22:46 PDT 2009</td>\n",
       "      <td>NO_QUERY</td>\n",
       "      <td>Wingman29</td>\n",
       "      <td>@DaRealSunisaKim Thanks for the Twitter add, S...</td>\n",
       "    </tr>\n",
       "    <tr>\n",
       "      <th>800003</th>\n",
       "      <td>4</td>\n",
       "      <td>1467822287</td>\n",
       "      <td>Mon Apr 06 22:22:46 PDT 2009</td>\n",
       "      <td>NO_QUERY</td>\n",
       "      <td>katarinka</td>\n",
       "      <td>Being sick can be really cheap when it hurts t...</td>\n",
       "    </tr>\n",
       "    <tr>\n",
       "      <th>800004</th>\n",
       "      <td>4</td>\n",
       "      <td>1467822293</td>\n",
       "      <td>Mon Apr 06 22:22:46 PDT 2009</td>\n",
       "      <td>NO_QUERY</td>\n",
       "      <td>_EmilyYoung</td>\n",
       "      <td>@LovesBrooklyn2 he has that effect on everyone</td>\n",
       "    </tr>\n",
       "  </tbody>\n",
       "</table>\n",
       "</div>"
      ],
      "text/plain": [
       "        target          id                          date     query  \\\n",
       "800000       4  1467822272  Mon Apr 06 22:22:45 PDT 2009  NO_QUERY   \n",
       "800001       4  1467822273  Mon Apr 06 22:22:45 PDT 2009  NO_QUERY   \n",
       "800002       4  1467822283  Mon Apr 06 22:22:46 PDT 2009  NO_QUERY   \n",
       "800003       4  1467822287  Mon Apr 06 22:22:46 PDT 2009  NO_QUERY   \n",
       "800004       4  1467822293  Mon Apr 06 22:22:46 PDT 2009  NO_QUERY   \n",
       "\n",
       "           username                                            content  \n",
       "800000        ersle       I LOVE @Health4UandPets u guys r the best!!   \n",
       "800001     becca210  im meeting up with one of my besties tonight! ...  \n",
       "800002    Wingman29  @DaRealSunisaKim Thanks for the Twitter add, S...  \n",
       "800003    katarinka  Being sick can be really cheap when it hurts t...  \n",
       "800004  _EmilyYoung    @LovesBrooklyn2 he has that effect on everyone   "
      ]
     },
     "execution_count": 7,
     "metadata": {},
     "output_type": "execute_result"
    }
   ],
   "source": [
    "positive_samples = dataset[dataset[\"target\"]==4]\n",
    "print(f\"Number of positive samples {len(positive_samples)}\\n\\n\")\n",
    "positive_samples.head(5)"
   ]
  },
  {
   "cell_type": "markdown",
   "id": "67c24ce5",
   "metadata": {
    "id": "tZYiR8QDDfnp",
    "papermill": {
     "duration": 0.058933,
     "end_time": "2022-04-16T05:31:43.407086",
     "exception": false,
     "start_time": "2022-04-16T05:31:43.348153",
     "status": "completed"
    },
    "tags": []
   },
   "source": [
    "### Distribution plot"
   ]
  },
  {
   "cell_type": "markdown",
   "id": "c60669ca",
   "metadata": {
    "id": "7Am3AkLNEF9e",
    "papermill": {
     "duration": 0.057318,
     "end_time": "2022-04-16T05:31:43.520597",
     "exception": false,
     "start_time": "2022-04-16T05:31:43.463279",
     "status": "completed"
    },
    "tags": []
   },
   "source": [
    "#### Defining data"
   ]
  },
  {
   "cell_type": "code",
   "execution_count": 8,
   "id": "886e8973",
   "metadata": {
    "execution": {
     "iopub.execute_input": "2022-04-16T05:31:43.639037Z",
     "iopub.status.busy": "2022-04-16T05:31:43.637300Z",
     "iopub.status.idle": "2022-04-16T05:31:43.639648Z",
     "shell.execute_reply": "2022-04-16T05:31:43.640066Z",
     "shell.execute_reply.started": "2022-04-16T05:04:26.049977Z"
    },
    "id": "5EdHWdBdDej7",
    "papermill": {
     "duration": 0.062727,
     "end_time": "2022-04-16T05:31:43.640188",
     "exception": false,
     "start_time": "2022-04-16T05:31:43.577461",
     "status": "completed"
    },
    "tags": []
   },
   "outputs": [],
   "source": [
    "data = [len(negative_samples), len(neutral_samples), len(positive_samples)]\n",
    "labels = [\"Negative\",\"Neutral\",\"Positive\"]"
   ]
  },
  {
   "cell_type": "markdown",
   "id": "2f9b927d",
   "metadata": {
    "id": "Uj1-OsBnEJrV",
    "papermill": {
     "duration": 0.056132,
     "end_time": "2022-04-16T05:31:43.752433",
     "exception": false,
     "start_time": "2022-04-16T05:31:43.696301",
     "status": "completed"
    },
    "tags": []
   },
   "source": [
    "#### Define color palette : See [seaborn color palettes](https://seaborn.pydata.org/tutorial/color_palettes.html)"
   ]
  },
  {
   "cell_type": "code",
   "execution_count": 9,
   "id": "226f66b0",
   "metadata": {
    "execution": {
     "iopub.execute_input": "2022-04-16T05:31:43.869444Z",
     "iopub.status.busy": "2022-04-16T05:31:43.868802Z",
     "iopub.status.idle": "2022-04-16T05:31:43.871309Z",
     "shell.execute_reply": "2022-04-16T05:31:43.870908Z",
     "shell.execute_reply.started": "2022-04-16T05:04:26.914288Z"
    },
    "id": "pXz_gP0-DdNQ",
    "papermill": {
     "duration": 0.062865,
     "end_time": "2022-04-16T05:31:43.871413",
     "exception": false,
     "start_time": "2022-04-16T05:31:43.808548",
     "status": "completed"
    },
    "tags": []
   },
   "outputs": [],
   "source": [
    "colors = sns.color_palette(\"pastel\")"
   ]
  },
  {
   "cell_type": "markdown",
   "id": "19977da3",
   "metadata": {
    "id": "ESqP10mDEUhf",
    "papermill": {
     "duration": 0.055829,
     "end_time": "2022-04-16T05:31:43.983709",
     "exception": false,
     "start_time": "2022-04-16T05:31:43.927880",
     "status": "completed"
    },
    "tags": []
   },
   "source": [
    "#### Dsitribution pie chart"
   ]
  },
  {
   "cell_type": "code",
   "execution_count": 10,
   "id": "a6eceb9e",
   "metadata": {
    "execution": {
     "iopub.execute_input": "2022-04-16T05:31:44.114609Z",
     "iopub.status.busy": "2022-04-16T05:31:44.114047Z",
     "iopub.status.idle": "2022-04-16T05:31:44.200270Z",
     "shell.execute_reply": "2022-04-16T05:31:44.200654Z",
     "shell.execute_reply.started": "2022-04-16T05:04:27.300224Z"
    },
    "id": "YGGg2baaETLr",
    "outputId": "ed0e2df0-c414-42ce-e69c-6e4320857c1c",
    "papermill": {
     "duration": 0.160931,
     "end_time": "2022-04-16T05:31:44.200780",
     "exception": false,
     "start_time": "2022-04-16T05:31:44.039849",
     "status": "completed"
    },
    "tags": []
   },
   "outputs": [
    {
     "data": {
      "image/png": "[encoded data removed]",
      "text/plain": [
       "<Figure size 432x432 with 1 Axes>"
      ]
     },
     "metadata": {},
     "output_type": "display_data"
    }
   ],
   "source": [
    "plt.figure(figsize=(6,6))\n",
    "plt.title(\"Target distribution\")\n",
    "plt.pie(data, labels=labels, colors=colors, autopct=\"%.0f%%\")\n",
    "plt.show()"
   ]
  },
  {
   "cell_type": "markdown",
   "id": "71692a70",
   "metadata": {
    "id": "RTZEZqv_HZOE",
    "papermill": {
     "duration": 0.056499,
     "end_time": "2022-04-16T05:31:44.314177",
     "exception": false,
     "start_time": "2022-04-16T05:31:44.257678",
     "status": "completed"
    },
    "tags": []
   },
   "source": [
    "# Data cleaning 🧽🧼"
   ]
  },
  {
   "cell_type": "markdown",
   "id": "a88d0474",
   "metadata": {
    "id": "yz1BulVbHdGl",
    "papermill": {
     "duration": 0.057132,
     "end_time": "2022-04-16T05:31:44.428938",
     "exception": false,
     "start_time": "2022-04-16T05:31:44.371806",
     "status": "completed"
    },
    "tags": []
   },
   "source": [
    "## Drop unncessary columns\n",
    "These columns are not necessary to train our model : ID, date, query, username. \n",
    "\n",
    "> Notes : \n",
    "- axis = 1 means \"computing along the columns\"\n",
    "- using (inplace = true) will overwrite the existing dataframe"
   ]
  },
  {
   "cell_type": "code",
   "execution_count": 11,
   "id": "fe002d64",
   "metadata": {
    "execution": {
     "iopub.execute_input": "2022-04-16T05:31:44.582817Z",
     "iopub.status.busy": "2022-04-16T05:31:44.581853Z",
     "iopub.status.idle": "2022-04-16T05:31:44.623993Z",
     "shell.execute_reply": "2022-04-16T05:31:44.626887Z",
     "shell.execute_reply.started": "2022-04-16T05:04:28.148119Z"
    },
    "id": "WyZ8e3VLEjfL",
    "papermill": {
     "duration": 0.141281,
     "end_time": "2022-04-16T05:31:44.627091",
     "exception": false,
     "start_time": "2022-04-16T05:31:44.485810",
     "status": "completed"
    },
    "tags": []
   },
   "outputs": [],
   "source": [
    "dataset.drop([\"id\",\"date\",\"query\",\"username\"],axis=1, inplace=True)"
   ]
  },
  {
   "cell_type": "markdown",
   "id": "14eb0356",
   "metadata": {
    "id": "UMcitFGUHzPC",
    "papermill": {
     "duration": 0.102978,
     "end_time": "2022-04-16T05:31:44.835369",
     "exception": false,
     "start_time": "2022-04-16T05:31:44.732391",
     "status": "completed"
    },
    "tags": []
   },
   "source": [
    "### Result"
   ]
  },
  {
   "cell_type": "code",
   "execution_count": 12,
   "id": "f6488cd6",
   "metadata": {
    "execution": {
     "iopub.execute_input": "2022-04-16T05:31:45.044941Z",
     "iopub.status.busy": "2022-04-16T05:31:45.044170Z",
     "iopub.status.idle": "2022-04-16T05:31:45.050213Z",
     "shell.execute_reply": "2022-04-16T05:31:45.050796Z",
     "shell.execute_reply.started": "2022-04-16T05:04:30.574165Z"
    },
    "id": "KFdq0LhqHysm",
    "outputId": "9a7a159c-7c79-4bef-b162-f07fd3df19d4",
    "papermill": {
     "duration": 0.115401,
     "end_time": "2022-04-16T05:31:45.050968",
     "exception": false,
     "start_time": "2022-04-16T05:31:44.935567",
     "status": "completed"
    },
    "tags": []
   },
   "outputs": [
    {
     "data": {
      "text/html": [
       "<div>\n",
       "<style scoped>\n",
       "    .dataframe tbody tr th:only-of-type {\n",
       "        vertical-align: middle;\n",
       "    }\n",
       "\n",
       "    .dataframe tbody tr th {\n",
       "        vertical-align: top;\n",
       "    }\n",
       "\n",
       "    .dataframe thead th {\n",
       "        text-align: right;\n",
       "    }\n",
       "</style>\n",
       "<table border=\"1\" class=\"dataframe\">\n",
       "  <thead>\n",
       "    <tr style=\"text-align: right;\">\n",
       "      <th></th>\n",
       "      <th>target</th>\n",
       "      <th>content</th>\n",
       "    </tr>\n",
       "  </thead>\n",
       "  <tbody>\n",
       "    <tr>\n",
       "      <th>0</th>\n",
       "      <td>0</td>\n",
       "      <td>@switchfoot http://twitpic.com/2y1zl - Awww, t...</td>\n",
       "    </tr>\n",
       "    <tr>\n",
       "      <th>1</th>\n",
       "      <td>0</td>\n",
       "      <td>is upset that he can't update his Facebook by ...</td>\n",
       "    </tr>\n",
       "    <tr>\n",
       "      <th>2</th>\n",
       "      <td>0</td>\n",
       "      <td>@Kenichan I dived many times for the ball. Man...</td>\n",
       "    </tr>\n",
       "    <tr>\n",
       "      <th>3</th>\n",
       "      <td>0</td>\n",
       "      <td>my whole body feels itchy and like its on fire</td>\n",
       "    </tr>\n",
       "    <tr>\n",
       "      <th>4</th>\n",
       "      <td>0</td>\n",
       "      <td>@nationwideclass no, it's not behaving at all....</td>\n",
       "    </tr>\n",
       "  </tbody>\n",
       "</table>\n",
       "</div>"
      ],
      "text/plain": [
       "   target                                            content\n",
       "0       0  @switchfoot http://twitpic.com/2y1zl - Awww, t...\n",
       "1       0  is upset that he can't update his Facebook by ...\n",
       "2       0  @Kenichan I dived many times for the ball. Man...\n",
       "3       0    my whole body feels itchy and like its on fire \n",
       "4       0  @nationwideclass no, it's not behaving at all...."
      ]
     },
     "execution_count": 12,
     "metadata": {},
     "output_type": "execute_result"
    }
   ],
   "source": [
    "dataset.head(5)"
   ]
  },
  {
   "cell_type": "markdown",
   "id": "4e3d6805",
   "metadata": {
    "papermill": {
     "duration": 0.057028,
     "end_time": "2022-04-16T05:31:45.189945",
     "exception": false,
     "start_time": "2022-04-16T05:31:45.132917",
     "status": "completed"
    },
    "tags": []
   },
   "source": [
    "## Replace the targets \n",
    "\n",
    "In the original dataset, 4 means \"true\". For convenience purposes, we'll set it to 1. "
   ]
  },
  {
   "cell_type": "code",
   "execution_count": 13,
   "id": "9b811adf",
   "metadata": {
    "execution": {
     "iopub.execute_input": "2022-04-16T05:31:45.312731Z",
     "iopub.status.busy": "2022-04-16T05:31:45.311768Z",
     "iopub.status.idle": "2022-04-16T05:31:45.325494Z",
     "shell.execute_reply": "2022-04-16T05:31:45.325079Z",
     "shell.execute_reply.started": "2022-04-16T05:04:31.736911Z"
    },
    "papermill": {
     "duration": 0.078659,
     "end_time": "2022-04-16T05:31:45.325664",
     "exception": false,
     "start_time": "2022-04-16T05:31:45.247005",
     "status": "completed"
    },
    "tags": []
   },
   "outputs": [],
   "source": [
    "dataset.target = dataset.target.replace({4: 1})"
   ]
  },
  {
   "cell_type": "markdown",
   "id": "69ac62ab",
   "metadata": {
    "papermill": {
     "duration": 0.057179,
     "end_time": "2022-04-16T05:31:45.441155",
     "exception": false,
     "start_time": "2022-04-16T05:31:45.383976",
     "status": "completed"
    },
    "tags": []
   },
   "source": [
    "### Result"
   ]
  },
  {
   "cell_type": "code",
   "execution_count": 14,
   "id": "5081d21f",
   "metadata": {
    "execution": {
     "iopub.execute_input": "2022-04-16T05:31:45.561224Z",
     "iopub.status.busy": "2022-04-16T05:31:45.560490Z",
     "iopub.status.idle": "2022-04-16T05:31:45.600563Z",
     "shell.execute_reply": "2022-04-16T05:31:45.600138Z",
     "shell.execute_reply.started": "2022-04-16T05:04:33.418689Z"
    },
    "papermill": {
     "duration": 0.102484,
     "end_time": "2022-04-16T05:31:45.600683",
     "exception": false,
     "start_time": "2022-04-16T05:31:45.498199",
     "status": "completed"
    },
    "tags": []
   },
   "outputs": [
    {
     "data": {
      "text/html": [
       "<div>\n",
       "<style scoped>\n",
       "    .dataframe tbody tr th:only-of-type {\n",
       "        vertical-align: middle;\n",
       "    }\n",
       "\n",
       "    .dataframe tbody tr th {\n",
       "        vertical-align: top;\n",
       "    }\n",
       "\n",
       "    .dataframe thead th {\n",
       "        text-align: right;\n",
       "    }\n",
       "</style>\n",
       "<table border=\"1\" class=\"dataframe\">\n",
       "  <thead>\n",
       "    <tr style=\"text-align: right;\">\n",
       "      <th></th>\n",
       "      <th>target</th>\n",
       "      <th>content</th>\n",
       "    </tr>\n",
       "  </thead>\n",
       "  <tbody>\n",
       "    <tr>\n",
       "      <th>800000</th>\n",
       "      <td>1</td>\n",
       "      <td>I LOVE @Health4UandPets u guys r the best!!</td>\n",
       "    </tr>\n",
       "    <tr>\n",
       "      <th>800001</th>\n",
       "      <td>1</td>\n",
       "      <td>im meeting up with one of my besties tonight! ...</td>\n",
       "    </tr>\n",
       "    <tr>\n",
       "      <th>800002</th>\n",
       "      <td>1</td>\n",
       "      <td>@DaRealSunisaKim Thanks for the Twitter add, S...</td>\n",
       "    </tr>\n",
       "    <tr>\n",
       "      <th>800003</th>\n",
       "      <td>1</td>\n",
       "      <td>Being sick can be really cheap when it hurts t...</td>\n",
       "    </tr>\n",
       "    <tr>\n",
       "      <th>800004</th>\n",
       "      <td>1</td>\n",
       "      <td>@LovesBrooklyn2 he has that effect on everyone</td>\n",
       "    </tr>\n",
       "  </tbody>\n",
       "</table>\n",
       "</div>"
      ],
      "text/plain": [
       "        target                                            content\n",
       "800000       1       I LOVE @Health4UandPets u guys r the best!! \n",
       "800001       1  im meeting up with one of my besties tonight! ...\n",
       "800002       1  @DaRealSunisaKim Thanks for the Twitter add, S...\n",
       "800003       1  Being sick can be really cheap when it hurts t...\n",
       "800004       1    @LovesBrooklyn2 he has that effect on everyone "
      ]
     },
     "execution_count": 14,
     "metadata": {},
     "output_type": "execute_result"
    }
   ],
   "source": [
    "dataset[dataset[\"target\"]==1].head()"
   ]
  },
  {
   "cell_type": "markdown",
   "id": "9b9a258b",
   "metadata": {
    "id": "UBAfnoUyISya",
    "papermill": {
     "duration": 0.057552,
     "end_time": "2022-04-16T05:31:45.716920",
     "exception": false,
     "start_time": "2022-04-16T05:31:45.659368",
     "status": "completed"
    },
    "tags": []
   },
   "source": [
    "## Removing mentions, links, extra spaces from tweets"
   ]
  },
  {
   "cell_type": "code",
   "execution_count": 15,
   "id": "f96b3a94",
   "metadata": {
    "execution": {
     "iopub.execute_input": "2022-04-16T05:31:45.836815Z",
     "iopub.status.busy": "2022-04-16T05:31:45.836073Z",
     "iopub.status.idle": "2022-04-16T05:31:45.838058Z",
     "shell.execute_reply": "2022-04-16T05:31:45.838428Z",
     "shell.execute_reply.started": "2022-04-16T05:04:35.630171Z"
    },
    "id": "ikqW_T2zH13p",
    "papermill": {
     "duration": 0.063866,
     "end_time": "2022-04-16T05:31:45.838580",
     "exception": false,
     "start_time": "2022-04-16T05:31:45.774714",
     "status": "completed"
    },
    "tags": []
   },
   "outputs": [],
   "source": [
    "# Remove mentions\n",
    "regex_mentions = r\"@[A-Za-z0-9_]+\"\n",
    "# Remove links\n",
    "regex_links = r\"https?://[A-Za-z0-9./]+\"\n",
    "# Remove some special characters\n",
    "regex_special = r\"[^A-Za-z0-9]+\""
   ]
  },
  {
   "cell_type": "markdown",
   "id": "f5fa03d4",
   "metadata": {
    "id": "I9jaNykeM_yj",
    "papermill": {
     "duration": 0.062445,
     "end_time": "2022-04-16T05:31:45.962424",
     "exception": false,
     "start_time": "2022-04-16T05:31:45.899979",
     "status": "completed"
    },
    "tags": []
   },
   "source": [
    "### Apply preprocessing"
   ]
  },
  {
   "cell_type": "code",
   "execution_count": 16,
   "id": "38e3e086",
   "metadata": {
    "execution": {
     "iopub.execute_input": "2022-04-16T05:31:46.124022Z",
     "iopub.status.busy": "2022-04-16T05:31:46.091262Z",
     "iopub.status.idle": "2022-04-16T05:32:04.730900Z",
     "shell.execute_reply": "2022-04-16T05:32:04.729954Z",
     "shell.execute_reply.started": "2022-04-16T05:04:39.882395Z"
    },
    "id": "EoABeZwEM-r1",
    "papermill": {
     "duration": 18.706043,
     "end_time": "2022-04-16T05:32:04.731054",
     "exception": false,
     "start_time": "2022-04-16T05:31:46.025011",
     "status": "completed"
    },
    "tags": []
   },
   "outputs": [],
   "source": [
    "# Remove mentions\n",
    "dataset.content = dataset.content.apply(lambda x: re.sub(regex_mentions, \" \", str(x).strip()))\n",
    "# Remove links \n",
    "dataset.content = dataset.content.apply(lambda x: re.sub(regex_links, \" \", str(x).strip()))\n",
    "# Remove special characters\n",
    "dataset.content = dataset.content.apply(lambda x: re.sub(regex_special, \" \", str(x).strip()))"
   ]
  },
  {
   "cell_type": "markdown",
   "id": "976e3cd1",
   "metadata": {
    "id": "FqB9ujzoNZ16",
    "papermill": {
     "duration": 0.062738,
     "end_time": "2022-04-16T05:32:04.856517",
     "exception": false,
     "start_time": "2022-04-16T05:32:04.793779",
     "status": "completed"
    },
    "tags": []
   },
   "source": [
    "### Show results "
   ]
  },
  {
   "cell_type": "code",
   "execution_count": 17,
   "id": "01a1d066",
   "metadata": {
    "execution": {
     "iopub.execute_input": "2022-04-16T05:32:04.990227Z",
     "iopub.status.busy": "2022-04-16T05:32:04.989522Z",
     "iopub.status.idle": "2022-04-16T05:32:04.992547Z",
     "shell.execute_reply": "2022-04-16T05:32:04.993045Z",
     "shell.execute_reply.started": "2022-04-16T05:04:57.908369Z"
    },
    "id": "0IwBkikKNG-6",
    "papermill": {
     "duration": 0.074151,
     "end_time": "2022-04-16T05:32:04.993190",
     "exception": false,
     "start_time": "2022-04-16T05:32:04.919039",
     "status": "completed"
    },
    "tags": []
   },
   "outputs": [
    {
     "data": {
      "text/html": [
       "<div>\n",
       "<style scoped>\n",
       "    .dataframe tbody tr th:only-of-type {\n",
       "        vertical-align: middle;\n",
       "    }\n",
       "\n",
       "    .dataframe tbody tr th {\n",
       "        vertical-align: top;\n",
       "    }\n",
       "\n",
       "    .dataframe thead th {\n",
       "        text-align: right;\n",
       "    }\n",
       "</style>\n",
       "<table border=\"1\" class=\"dataframe\">\n",
       "  <thead>\n",
       "    <tr style=\"text-align: right;\">\n",
       "      <th></th>\n",
       "      <th>target</th>\n",
       "      <th>content</th>\n",
       "    </tr>\n",
       "  </thead>\n",
       "  <tbody>\n",
       "    <tr>\n",
       "      <th>0</th>\n",
       "      <td>0</td>\n",
       "      <td>Awww that s a bummer You shoulda got David Ca...</td>\n",
       "    </tr>\n",
       "    <tr>\n",
       "      <th>1</th>\n",
       "      <td>0</td>\n",
       "      <td>is upset that he can t update his Facebook by ...</td>\n",
       "    </tr>\n",
       "    <tr>\n",
       "      <th>2</th>\n",
       "      <td>0</td>\n",
       "      <td>I dived many times for the ball Managed to sav...</td>\n",
       "    </tr>\n",
       "    <tr>\n",
       "      <th>3</th>\n",
       "      <td>0</td>\n",
       "      <td>my whole body feels itchy and like its on fire</td>\n",
       "    </tr>\n",
       "    <tr>\n",
       "      <th>4</th>\n",
       "      <td>0</td>\n",
       "      <td>no it s not behaving at all i m mad why am i h...</td>\n",
       "    </tr>\n",
       "    <tr>\n",
       "      <th>5</th>\n",
       "      <td>0</td>\n",
       "      <td>not the whole crew</td>\n",
       "    </tr>\n",
       "    <tr>\n",
       "      <th>6</th>\n",
       "      <td>0</td>\n",
       "      <td>Need a hug</td>\n",
       "    </tr>\n",
       "    <tr>\n",
       "      <th>7</th>\n",
       "      <td>0</td>\n",
       "      <td>hey long time no see Yes Rains a bit only a bi...</td>\n",
       "    </tr>\n",
       "    <tr>\n",
       "      <th>8</th>\n",
       "      <td>0</td>\n",
       "      <td>nope they didn t have it</td>\n",
       "    </tr>\n",
       "    <tr>\n",
       "      <th>9</th>\n",
       "      <td>0</td>\n",
       "      <td>que me muera</td>\n",
       "    </tr>\n",
       "  </tbody>\n",
       "</table>\n",
       "</div>"
      ],
      "text/plain": [
       "   target                                            content\n",
       "0       0   Awww that s a bummer You shoulda got David Ca...\n",
       "1       0  is upset that he can t update his Facebook by ...\n",
       "2       0  I dived many times for the ball Managed to sav...\n",
       "3       0     my whole body feels itchy and like its on fire\n",
       "4       0  no it s not behaving at all i m mad why am i h...\n",
       "5       0                                 not the whole crew\n",
       "6       0                                         Need a hug\n",
       "7       0  hey long time no see Yes Rains a bit only a bi...\n",
       "8       0                           nope they didn t have it\n",
       "9       0                                      que me muera "
      ]
     },
     "execution_count": 17,
     "metadata": {},
     "output_type": "execute_result"
    }
   ],
   "source": [
    "dataset.head(10)"
   ]
  },
  {
   "cell_type": "markdown",
   "id": "2acf92c9",
   "metadata": {
    "papermill": {
     "duration": 0.066328,
     "end_time": "2022-04-16T05:32:05.121335",
     "exception": false,
     "start_time": "2022-04-16T05:32:05.055007",
     "status": "completed"
    },
    "tags": []
   },
   "source": [
    "## Check for null content after cleaning\n",
    "In some rare cases, tweets may contain only special characters and end up \"empty\" after cleaning"
   ]
  },
  {
   "cell_type": "code",
   "execution_count": 18,
   "id": "6d08d31a",
   "metadata": {
    "execution": {
     "iopub.execute_input": "2022-04-16T05:32:05.431073Z",
     "iopub.status.busy": "2022-04-16T05:32:05.430321Z",
     "iopub.status.idle": "2022-04-16T05:32:05.438078Z",
     "shell.execute_reply": "2022-04-16T05:32:05.438666Z",
     "shell.execute_reply.started": "2022-04-16T05:04:57.921066Z"
    },
    "papermill": {
     "duration": 0.24803,
     "end_time": "2022-04-16T05:32:05.438839",
     "exception": false,
     "start_time": "2022-04-16T05:32:05.190809",
     "status": "completed"
    },
    "tags": []
   },
   "outputs": [
    {
     "name": "stdout",
     "output_type": "stream",
     "text": [
      "Null values: \n",
      "\n",
      "target     0\n",
      "content    0\n",
      "dtype: int64\n"
     ]
    }
   ],
   "source": [
    "print(f\"Null values: \\n\\n{dataset.isna().sum()}\")"
   ]
  },
  {
   "cell_type": "markdown",
   "id": "70a70f13",
   "metadata": {
    "id": "4v0DrR2mOwG-",
    "papermill": {
     "duration": 0.061077,
     "end_time": "2022-04-16T05:32:05.559183",
     "exception": false,
     "start_time": "2022-04-16T05:32:05.498106",
     "status": "completed"
    },
    "tags": []
   },
   "source": [
    "# Data preparation 👨🏾‍🔬"
   ]
  },
  {
   "cell_type": "markdown",
   "id": "5a092698",
   "metadata": {
    "papermill": {
     "duration": 0.058782,
     "end_time": "2022-04-16T05:32:05.719228",
     "exception": false,
     "start_time": "2022-04-16T05:32:05.660446",
     "status": "completed"
    },
    "tags": []
   },
   "source": [
    "## Train/test split\n",
    "\n",
    "Since the dataset is large enough, we will proceed to a 90-10 (90% for training and 10% for validation/test) split. \n",
    "\n",
    "> Note : Fixing the random state parameter makes our splitting operation reproductible by initializing the internal random number generator which will decide the splitting of data into train and test indices in our case. \n",
    "\n",
    "Inspired by [this answer](https://intellipaat.com/community/15379/python-random-state-in-splitting-dataset)\n"
   ]
  },
  {
   "cell_type": "code",
   "execution_count": 19,
   "id": "76e15b93",
   "metadata": {
    "execution": {
     "iopub.execute_input": "2022-04-16T05:32:05.842348Z",
     "iopub.status.busy": "2022-04-16T05:32:05.841810Z",
     "iopub.status.idle": "2022-04-16T05:32:06.201909Z",
     "shell.execute_reply": "2022-04-16T05:32:06.201402Z",
     "shell.execute_reply.started": "2022-04-16T05:04:58.097693Z"
    },
    "id": "uoKZ8VeBOWzJ",
    "papermill": {
     "duration": 0.423197,
     "end_time": "2022-04-16T05:32:06.202031",
     "exception": false,
     "start_time": "2022-04-16T05:32:05.778834",
     "status": "completed"
    },
    "tags": []
   },
   "outputs": [],
   "source": [
    "train, test = train_test_split(dataset, test_size=0.1, random_state=44)"
   ]
  },
  {
   "cell_type": "markdown",
   "id": "81b2ec3f",
   "metadata": {
    "id": "3mReEzwzPr9x",
    "papermill": {
     "duration": 0.059776,
     "end_time": "2022-04-16T05:32:06.322179",
     "exception": false,
     "start_time": "2022-04-16T05:32:06.262403",
     "status": "completed"
    },
    "tags": []
   },
   "source": [
    "### Results "
   ]
  },
  {
   "cell_type": "code",
   "execution_count": 20,
   "id": "3a79d1ad",
   "metadata": {
    "execution": {
     "iopub.execute_input": "2022-04-16T05:32:06.445207Z",
     "iopub.status.busy": "2022-04-16T05:32:06.444468Z",
     "iopub.status.idle": "2022-04-16T05:32:06.447534Z",
     "shell.execute_reply": "2022-04-16T05:32:06.448108Z",
     "shell.execute_reply.started": "2022-04-16T05:04:58.488558Z"
    },
    "id": "aECLgCaePjaU",
    "outputId": "7627359b-9e41-4fa5-8ffc-daaba24acbd4",
    "papermill": {
     "duration": 0.066601,
     "end_time": "2022-04-16T05:32:06.448278",
     "exception": false,
     "start_time": "2022-04-16T05:32:06.381677",
     "status": "completed"
    },
    "tags": []
   },
   "outputs": [
    {
     "name": "stdout",
     "output_type": "stream",
     "text": [
      "Training set length: 1.44M examples\n",
      "Test set length: 0.16M examples\n"
     ]
    }
   ],
   "source": [
    "print(f\"Training set length: {len(train)/1e6}M examples\")\n",
    "print(f\"Test set length: {len(test)/1e6}M examples\")"
   ]
  },
  {
   "cell_type": "markdown",
   "id": "19530c3c",
   "metadata": {
    "id": "lG9lPGZgQJ7r",
    "papermill": {
     "duration": 0.110502,
     "end_time": "2022-04-16T05:32:06.618687",
     "exception": false,
     "start_time": "2022-04-16T05:32:06.508185",
     "status": "completed"
    },
    "tags": []
   },
   "source": [
    "## Tokenization\n",
    "\n",
    "Tokenization is the process of breaking apart original text into individual pieces (tokens) for further analysis. This process is important because the meaning of the text can be interpreted through analysis of the words present in the text. \n",
    "\n",
    "[Inspired from this medium article](https://medium.com/analytics-vidhya/spacy-basics-the-importance-of-tokens-in-natural-language-processing-89a698d8a76). "
   ]
  },
  {
   "cell_type": "markdown",
   "id": "218257a7",
   "metadata": {
    "id": "XG5wc4ugQ18w",
    "papermill": {
     "duration": 0.096377,
     "end_time": "2022-04-16T05:32:06.812071",
     "exception": false,
     "start_time": "2022-04-16T05:32:06.715694",
     "status": "completed"
    },
    "tags": []
   },
   "source": [
    "### Define the tokenizer\n",
    "\n",
    "This class allows to vectorize a text corpus, by turning each text into either a sequence of integers (each integer being the index of a token in a dictionary) or into a vector where the coefficient for each token could be binary, based on word count, based on tf-idf... [[source]](https://www.tensorflow.org/api_docs/python/tf/keras/preprocessing/text/Tokenizer). \n",
    "\n"
   ]
  },
  {
   "cell_type": "code",
   "execution_count": 21,
   "id": "7caa842a",
   "metadata": {
    "execution": {
     "iopub.execute_input": "2022-04-16T05:32:07.013091Z",
     "iopub.status.busy": "2022-04-16T05:32:07.012295Z",
     "iopub.status.idle": "2022-04-16T05:32:32.572264Z",
     "shell.execute_reply": "2022-04-16T05:32:32.571301Z",
     "shell.execute_reply.started": "2022-04-16T05:04:58.494840Z"
    },
    "id": "tGx6CvE8P2Tv",
    "papermill": {
     "duration": 25.662295,
     "end_time": "2022-04-16T05:32:32.572419",
     "exception": false,
     "start_time": "2022-04-16T05:32:06.910124",
     "status": "completed"
    },
    "tags": []
   },
   "outputs": [],
   "source": [
    "# Initialize the tokenizer\n",
    "tokenizer = Tokenizer()\n",
    "# Updates the internal vocabulary based on our tweet contents\n",
    "tokenizer.fit_on_texts(train.content)\n",
    "# Setup the vocabular size based on the tokenizer results\n",
    "vocab_size = len(tokenizer.word_index)+1"
   ]
  },
  {
   "cell_type": "markdown",
   "id": "1b6e5669",
   "metadata": {
    "papermill": {
     "duration": 0.060339,
     "end_time": "2022-04-16T05:32:32.693905",
     "exception": false,
     "start_time": "2022-04-16T05:32:32.633566",
     "status": "completed"
    },
    "tags": []
   },
   "source": [
    "### Results "
   ]
  },
  {
   "cell_type": "code",
   "execution_count": 22,
   "id": "ecacf035",
   "metadata": {
    "execution": {
     "iopub.execute_input": "2022-04-16T05:32:32.826460Z",
     "iopub.status.busy": "2022-04-16T05:32:32.825844Z",
     "iopub.status.idle": "2022-04-16T05:32:32.828802Z",
     "shell.execute_reply": "2022-04-16T05:32:32.829363Z",
     "shell.execute_reply.started": "2022-04-16T05:05:24.417521Z"
    },
    "papermill": {
     "duration": 0.075927,
     "end_time": "2022-04-16T05:32:32.829549",
     "exception": false,
     "start_time": "2022-04-16T05:32:32.753622",
     "status": "completed"
    },
    "tags": []
   },
   "outputs": [
    {
     "name": "stdout",
     "output_type": "stream",
     "text": [
      "Word index length: 268198\n",
      "Some words: ['i', 'to', 'the', 'a', 'my', 'it', 'and', 'you', 'is', 'in']\n"
     ]
    }
   ],
   "source": [
    "print(f\"Word index length: {len(tokenizer.word_index)}\")\n",
    "print(f\"Some words: {list(tokenizer.word_index.keys())[0:10]}\")"
   ]
  },
  {
   "cell_type": "markdown",
   "id": "5d019312",
   "metadata": {
    "id": "Pbm6bM-7RIuW",
    "papermill": {
     "duration": 0.090558,
     "end_time": "2022-04-16T05:32:32.981003",
     "exception": false,
     "start_time": "2022-04-16T05:32:32.890445",
     "status": "completed"
    },
    "tags": []
   },
   "source": [
    "### Get the max token length"
   ]
  },
  {
   "cell_type": "code",
   "execution_count": 23,
   "id": "88949eb4",
   "metadata": {
    "execution": {
     "iopub.execute_input": "2022-04-16T05:32:33.187135Z",
     "iopub.status.busy": "2022-04-16T05:32:33.186354Z",
     "iopub.status.idle": "2022-04-16T05:32:35.371053Z",
     "shell.execute_reply": "2022-04-16T05:32:35.370578Z",
     "shell.execute_reply.started": "2022-04-16T05:05:24.435006Z"
    },
    "id": "Wb1Y8hnVRR-U",
    "outputId": "48614b23-8caf-403c-ce10-d49cb521ce94",
    "papermill": {
     "duration": 2.287622,
     "end_time": "2022-04-16T05:32:35.371187",
     "exception": false,
     "start_time": "2022-04-16T05:32:33.083565",
     "status": "completed"
    },
    "tags": []
   },
   "outputs": [
    {
     "name": "stdout",
     "output_type": "stream",
     "text": [
      "Maximum token length: 53\n"
     ]
    }
   ],
   "source": [
    "# Intialize the mex length to the first tweet length\n",
    "max_length = len(dataset[\"content\"][0].split())\n",
    "\n",
    "# Loop through the tweets\n",
    "for tweet in dataset[\"content\"]: \n",
    "    # Get each tweet's length\n",
    "    length = len(tweet.split())\n",
    "    # Update the max length if greater\n",
    "    if length > max_length: \n",
    "        max_length = length\n",
    "\n",
    "print(f\"Maximum token length: {max_length}\")"
   ]
  },
  {
   "cell_type": "markdown",
   "id": "02305005",
   "metadata": {
    "id": "RoV-mJttTZvW",
    "papermill": {
     "duration": 0.059788,
     "end_time": "2022-04-16T05:32:35.491787",
     "exception": false,
     "start_time": "2022-04-16T05:32:35.431999",
     "status": "completed"
    },
    "tags": []
   },
   "source": [
    "## Define sequences\n",
    "\n",
    "The Tensorlow \"texts_to_sequences\" method transforms each text in texts to a sequence of integers."
   ]
  },
  {
   "cell_type": "code",
   "execution_count": 24,
   "id": "ae1b27b2",
   "metadata": {
    "execution": {
     "iopub.execute_input": "2022-04-16T05:32:35.666056Z",
     "iopub.status.busy": "2022-04-16T05:32:35.656321Z",
     "iopub.status.idle": "2022-04-16T05:32:59.936652Z",
     "shell.execute_reply": "2022-04-16T05:32:59.935833Z",
     "shell.execute_reply.started": "2022-04-16T05:05:26.202359Z"
    },
    "id": "BH5ehzZzRdB0",
    "papermill": {
     "duration": 24.384973,
     "end_time": "2022-04-16T05:32:59.936784",
     "exception": false,
     "start_time": "2022-04-16T05:32:35.551811",
     "status": "completed"
    },
    "tags": []
   },
   "outputs": [],
   "source": [
    "# Training set\n",
    "sequences_train = tokenizer.texts_to_sequences(train.content)\n",
    "# Test set\n",
    "sequences_test = tokenizer.texts_to_sequences(test.content)"
   ]
  },
  {
   "cell_type": "markdown",
   "id": "f98b2a41",
   "metadata": {
    "id": "5qBX1xc-TpbU",
    "papermill": {
     "duration": 0.059101,
     "end_time": "2022-04-16T05:33:00.056111",
     "exception": false,
     "start_time": "2022-04-16T05:32:59.997010",
     "status": "completed"
    },
    "tags": []
   },
   "source": [
    "## Define the training and test sets"
   ]
  },
  {
   "cell_type": "code",
   "execution_count": 25,
   "id": "4400cd94",
   "metadata": {
    "execution": {
     "iopub.execute_input": "2022-04-16T05:33:00.218300Z",
     "iopub.status.busy": "2022-04-16T05:33:00.197910Z",
     "iopub.status.idle": "2022-04-16T05:33:12.383476Z",
     "shell.execute_reply": "2022-04-16T05:33:12.382697Z",
     "shell.execute_reply.started": "2022-04-16T05:05:50.842148Z"
    },
    "id": "UoiSTXzfTnLl",
    "outputId": "cab2975a-b088-4309-f884-88b39eb5a926",
    "papermill": {
     "duration": 12.268353,
     "end_time": "2022-04-16T05:33:12.383619",
     "exception": false,
     "start_time": "2022-04-16T05:33:00.115266",
     "status": "completed"
    },
    "tags": []
   },
   "outputs": [
    {
     "name": "stdout",
     "output_type": "stream",
     "text": [
      "Training test shape : (1440000, 53)\n"
     ]
    }
   ],
   "source": [
    "# Pad the training sequences to the same length after the sequence\n",
    "X_train = pad_sequences(sequences_train, maxlen=max_length, padding=\"post\")\n",
    "# Pad the test sequences to the same length after the sequence\n",
    "X_test = pad_sequences(sequences_test, maxlen=max_length, padding=\"post\")\n",
    "\n",
    "# Setup the training target\n",
    "y_train = train.target.values\n",
    "# Setup the test target values\n",
    "y_test = test.target.values\n",
    "\n",
    "print(f\"Training test shape : {X_train.shape}\")"
   ]
  },
  {
   "cell_type": "markdown",
   "id": "313e1daa",
   "metadata": {
    "id": "ryPd1T9BVkBa",
    "papermill": {
     "duration": 0.059313,
     "end_time": "2022-04-16T05:33:12.502911",
     "exception": false,
     "start_time": "2022-04-16T05:33:12.443598",
     "status": "completed"
    },
    "tags": []
   },
   "source": [
    "## Embedding with Word Embeddings (GloVe)\n",
    "\n",
    "- Embedding is an approach that allows us to give a numeric representation of words. The Word Embeddings method setup words with similar meaning to have a similar representation. [Learn more here](https://www.geeksforgeeks.org/word-embeddings-in-nlp/)\n",
    "- To sum up briefly, the GloVe dataset is a model for distributed word representation pre-trained on a very large corpus. Our GloVe dataset contains 100-dimensional pretrained words, with each row containing the actual word followed by its 100-dimensional representation. "
   ]
  },
  {
   "cell_type": "markdown",
   "id": "2e70cc61",
   "metadata": {
    "id": "AXKpPqNFWK3n",
    "papermill": {
     "duration": 0.117265,
     "end_time": "2022-04-16T05:33:12.718563",
     "exception": false,
     "start_time": "2022-04-16T05:33:12.601298",
     "status": "completed"
    },
    "tags": []
   },
   "source": [
    "### Setup embeddings"
   ]
  },
  {
   "cell_type": "code",
   "execution_count": 26,
   "id": "73da80a8",
   "metadata": {
    "execution": {
     "iopub.execute_input": "2022-04-16T05:33:12.926670Z",
     "iopub.status.busy": "2022-04-16T05:33:12.925040Z",
     "iopub.status.idle": "2022-04-16T05:33:12.932389Z",
     "shell.execute_reply": "2022-04-16T05:33:12.931733Z",
     "shell.execute_reply.started": "2022-04-16T05:08:01.532439Z"
    },
    "id": "cJqPXut3VWWh",
    "papermill": {
     "duration": 0.112078,
     "end_time": "2022-04-16T05:33:12.932575",
     "exception": false,
     "start_time": "2022-04-16T05:33:12.820497",
     "status": "completed"
    },
    "tags": []
   },
   "outputs": [],
   "source": [
    "embeddings_dictionary = dict()\n",
    "embedding_dimension = 100\n",
    "glove_file = open(\"/kaggle/input/twitter-sentiment-analysis-and-word-embeddings/Dataset/Dataset/word_embeddings.txt\")"
   ]
  },
  {
   "cell_type": "markdown",
   "id": "ad4205b2",
   "metadata": {
    "id": "TUEMLeF-Wops",
    "papermill": {
     "duration": 0.088386,
     "end_time": "2022-04-16T05:33:13.119519",
     "exception": false,
     "start_time": "2022-04-16T05:33:13.031133",
     "status": "completed"
    },
    "tags": []
   },
   "source": [
    "### Apply word embedding"
   ]
  },
  {
   "cell_type": "code",
   "execution_count": 27,
   "id": "289b2666",
   "metadata": {
    "execution": {
     "iopub.execute_input": "2022-04-16T05:33:13.244771Z",
     "iopub.status.busy": "2022-04-16T05:33:13.244182Z",
     "iopub.status.idle": "2022-04-16T05:33:30.195251Z",
     "shell.execute_reply": "2022-04-16T05:33:30.195751Z",
     "shell.execute_reply.started": "2022-04-16T05:08:03.318175Z"
    },
    "id": "ISKnOvqPWHwc",
    "papermill": {
     "duration": 17.016899,
     "end_time": "2022-04-16T05:33:30.195925",
     "exception": false,
     "start_time": "2022-04-16T05:33:13.179026",
     "status": "completed"
    },
    "tags": []
   },
   "outputs": [],
   "source": [
    "# Iterate through the glove file\n",
    "for line in glove_file:\n",
    "    # Split each line\n",
    "    records = line.split()\n",
    "    # Get the actual word\n",
    "    word = records[0]\n",
    "    # Get the dimensional representation\n",
    "    representation = np.asarray(records[1:], dtype=\"float32\")\n",
    "    # Update the words dictionary \n",
    "    embeddings_dictionary[word] = representation\n",
    "    \n",
    "# Close the file\n",
    "glove_file.close()\n",
    "\n",
    "# Initialize the embedding_matrix\n",
    "embeddings_matrix = np.zeros((vocab_size, embedding_dimension))\n",
    "\n",
    "# Iterate through the tokenizer words list\n",
    "for word, index in tokenizer.word_index.items():\n",
    "    # Get the word representation\n",
    "    embedding_vector = embeddings_dictionary.get(word)\n",
    "    # Update the word representation if it exist in our dictionary\n",
    "    if embedding_vector is not None:\n",
    "        embeddings_matrix[index] = embedding_vector"
   ]
  },
  {
   "cell_type": "markdown",
   "id": "e27ad16c",
   "metadata": {
    "id": "f1O7nHkcX98b",
    "papermill": {
     "duration": 0.059286,
     "end_time": "2022-04-16T05:33:30.315573",
     "exception": false,
     "start_time": "2022-04-16T05:33:30.256287",
     "status": "completed"
    },
    "tags": []
   },
   "source": [
    "# Define the model 🔧"
   ]
  },
  {
   "cell_type": "markdown",
   "id": "96ffb0c9",
   "metadata": {
    "id": "dzmRd54PYA1R",
    "papermill": {
     "duration": 0.059669,
     "end_time": "2022-04-16T05:33:30.435692",
     "exception": false,
     "start_time": "2022-04-16T05:33:30.376023",
     "status": "completed"
    },
    "tags": []
   },
   "source": [
    "## Set the training parameters"
   ]
  },
  {
   "cell_type": "code",
   "execution_count": 28,
   "id": "4136d721",
   "metadata": {
    "execution": {
     "iopub.execute_input": "2022-04-16T05:33:30.559695Z",
     "iopub.status.busy": "2022-04-16T05:33:30.558860Z",
     "iopub.status.idle": "2022-04-16T05:33:30.560904Z",
     "shell.execute_reply": "2022-04-16T05:33:30.561281Z",
     "shell.execute_reply.started": "2022-04-16T05:08:20.398763Z"
    },
    "id": "DPEKs1DiWRQq",
    "papermill": {
     "duration": 0.065612,
     "end_time": "2022-04-16T05:33:30.561416",
     "exception": false,
     "start_time": "2022-04-16T05:33:30.495804",
     "status": "completed"
    },
    "tags": []
   },
   "outputs": [],
   "source": [
    "num_epochs = 50\n",
    "batch_size = 1000"
   ]
  },
  {
   "cell_type": "markdown",
   "id": "7c5ecb13",
   "metadata": {
    "id": "u-MBH9dkYgGH",
    "papermill": {
     "duration": 0.06004,
     "end_time": "2022-04-16T05:33:30.681165",
     "exception": false,
     "start_time": "2022-04-16T05:33:30.621125",
     "status": "completed"
    },
    "tags": []
   },
   "source": [
    "## Define the embedding layer"
   ]
  },
  {
   "cell_type": "code",
   "execution_count": 29,
   "id": "576a132a",
   "metadata": {
    "execution": {
     "iopub.execute_input": "2022-04-16T05:33:30.804426Z",
     "iopub.status.busy": "2022-04-16T05:33:30.803921Z",
     "iopub.status.idle": "2022-04-16T05:33:30.815775Z",
     "shell.execute_reply": "2022-04-16T05:33:30.815300Z",
     "shell.execute_reply.started": "2022-04-16T05:08:20.403973Z"
    },
    "id": "v55TleKdYEvX",
    "papermill": {
     "duration": 0.07523,
     "end_time": "2022-04-16T05:33:30.815877",
     "exception": false,
     "start_time": "2022-04-16T05:33:30.740647",
     "status": "completed"
    },
    "tags": []
   },
   "outputs": [],
   "source": [
    "embedding_layer = Embedding(\n",
    "                            vocab_size, \n",
    "                            embedding_dimension, \n",
    "                            input_length=max_length, \n",
    "                            weights=[embeddings_matrix], \n",
    "                            trainable=False\n",
    ")"
   ]
  },
  {
   "cell_type": "markdown",
   "id": "2dfcdda2",
   "metadata": {
    "id": "nFD3_-1WeZ0k",
    "papermill": {
     "duration": 0.059653,
     "end_time": "2022-04-16T05:33:30.935122",
     "exception": false,
     "start_time": "2022-04-16T05:33:30.875469",
     "status": "completed"
    },
    "tags": []
   },
   "source": [
    "## Define the callback : Early Stopping\n",
    "\n",
    "We setup the Early Stopping callback to stop the training process if the **validation accuracy** stops increasing after 10 epochs, and restore the weights which minimize the validation accuracy. \n",
    "\n",
    "Important parameters :\n",
    "\n",
    "- **Monitor :** keras will stop training when the monitored metric has stopped improving. The direction (minimze or maximize) is automatically infered from the monitored quantity name, although it remains adjustable with the \"mode\" parameter\n",
    "- **Patience :** the number of epochs without improvement after which the callback will be triggered (i.e, the model will stop training)\n",
    "- **Restore best weights :** tells the model to restore the weights from the \"best\" epoch according to the monitored value"
   ]
  },
  {
   "cell_type": "code",
   "execution_count": 30,
   "id": "cf62829b",
   "metadata": {
    "execution": {
     "iopub.execute_input": "2022-04-16T05:33:31.062727Z",
     "iopub.status.busy": "2022-04-16T05:33:31.062006Z",
     "iopub.status.idle": "2022-04-16T05:33:31.064521Z",
     "shell.execute_reply": "2022-04-16T05:33:31.064104Z",
     "shell.execute_reply.started": "2022-04-16T05:08:20.426792Z"
    },
    "id": "o1aTkm9geZKZ",
    "papermill": {
     "duration": 0.068855,
     "end_time": "2022-04-16T05:33:31.064637",
     "exception": false,
     "start_time": "2022-04-16T05:33:30.995782",
     "status": "completed"
    },
    "tags": []
   },
   "outputs": [],
   "source": [
    "stop_early = tf.keras.callbacks.EarlyStopping(\n",
    "    monitor=\"val_accuracy\", \n",
    "    patience=10, \n",
    "    mode =\"max\", \n",
    "    verbose=2, \n",
    "    restore_best_weights=True\n",
    ")"
   ]
  },
  {
   "cell_type": "markdown",
   "id": "962b64f8",
   "metadata": {
    "id": "_xh5SCzMYnI6",
    "papermill": {
     "duration": 0.060949,
     "end_time": "2022-04-16T05:33:31.185234",
     "exception": false,
     "start_time": "2022-04-16T05:33:31.124285",
     "status": "completed"
    },
    "tags": []
   },
   "source": [
    "## Create the model\n",
    "\n",
    "Architecture : \n",
    "\n",
    "### The embedding layer defined before\n",
    "\n",
    "### 3 Bidirectional LSTM layers followed by dropout layers\n",
    "\n",
    "To sum up : \n",
    "- **LSTM layers** are an RNN architecture used to keep track of arbitrary long-term dependencies in the input sequences. The bidirectional version fits well in our context where each sequence (word) can be related to the previous or the next one to grasp the full meaning of the sentence.\n",
    "- **Dropout** prevents overfitting by randomly dropping neurons\n",
    "\n",
    "### Two fully-connected (dense) layers"
   ]
  },
  {
   "cell_type": "code",
   "execution_count": 31,
   "id": "789a8724",
   "metadata": {
    "execution": {
     "iopub.execute_input": "2022-04-16T05:33:32.837899Z",
     "iopub.status.busy": "2022-04-16T05:33:31.318214Z",
     "iopub.status.idle": "2022-04-16T05:33:35.624485Z",
     "shell.execute_reply": "2022-04-16T05:33:35.623312Z",
     "shell.execute_reply.started": "2022-04-16T05:08:20.433484Z"
    },
    "id": "zlQFKnznacrY",
    "papermill": {
     "duration": 4.379603,
     "end_time": "2022-04-16T05:33:35.624658",
     "exception": false,
     "start_time": "2022-04-16T05:33:31.245055",
     "status": "completed"
    },
    "tags": []
   },
   "outputs": [
    {
     "name": "stderr",
     "output_type": "stream",
     "text": [
      "2022-04-16 05:33:31.320231: I tensorflow/compiler/jit/xla_cpu_device.cc:41] Not creating XLA devices, tf_xla_enable_xla_devices not set\n",
      "2022-04-16 05:33:31.323714: I tensorflow/stream_executor/platform/default/dso_loader.cc:49] Successfully opened dynamic library libcuda.so.1\n",
      "2022-04-16 05:33:31.381162: I tensorflow/stream_executor/cuda/cuda_gpu_executor.cc:941] successful NUMA node read from SysFS had negative value (-1), but there must be at least one NUMA node, so returning NUMA node zero\n",
      "2022-04-16 05:33:31.381919: I tensorflow/core/common_runtime/gpu/gpu_device.cc:1720] Found device 0 with properties: \n",
      "pciBusID: 0000:00:04.0 name: Tesla P100-PCIE-16GB computeCapability: 6.0\n",
      "coreClock: 1.3285GHz coreCount: 56 deviceMemorySize: 15.90GiB deviceMemoryBandwidth: 681.88GiB/s\n",
      "2022-04-16 05:33:31.381997: I tensorflow/stream_executor/platform/default/dso_loader.cc:49] Successfully opened dynamic library libcudart.so.11.0\n",
      "2022-04-16 05:33:31.406375: I tensorflow/stream_executor/platform/default/dso_loader.cc:49] Successfully opened dynamic library libcublas.so.11\n",
      "2022-04-16 05:33:31.406470: I tensorflow/stream_executor/platform/default/dso_loader.cc:49] Successfully opened dynamic library libcublasLt.so.11\n",
      "2022-04-16 05:33:31.421569: I tensorflow/stream_executor/platform/default/dso_loader.cc:49] Successfully opened dynamic library libcufft.so.10\n",
      "2022-04-16 05:33:31.456350: I tensorflow/stream_executor/platform/default/dso_loader.cc:49] Successfully opened dynamic library libcurand.so.10\n",
      "2022-04-16 05:33:31.480145: I tensorflow/stream_executor/platform/default/dso_loader.cc:49] Successfully opened dynamic library libcusolver.so.10\n",
      "2022-04-16 05:33:31.487853: I tensorflow/stream_executor/platform/default/dso_loader.cc:49] Successfully opened dynamic library libcusparse.so.11\n",
      "2022-04-16 05:33:31.491165: I tensorflow/stream_executor/platform/default/dso_loader.cc:49] Successfully opened dynamic library libcudnn.so.8\n",
      "2022-04-16 05:33:31.491321: I tensorflow/stream_executor/cuda/cuda_gpu_executor.cc:941] successful NUMA node read from SysFS had negative value (-1), but there must be at least one NUMA node, so returning NUMA node zero\n",
      "2022-04-16 05:33:31.492066: I tensorflow/stream_executor/cuda/cuda_gpu_executor.cc:941] successful NUMA node read from SysFS had negative value (-1), but there must be at least one NUMA node, so returning NUMA node zero\n",
      "2022-04-16 05:33:31.493603: I tensorflow/core/common_runtime/gpu/gpu_device.cc:1862] Adding visible gpu devices: 0\n",
      "2022-04-16 05:33:31.494043: I tensorflow/core/platform/cpu_feature_guard.cc:142] This TensorFlow binary is optimized with oneAPI Deep Neural Network Library (oneDNN) to use the following CPU instructions in performance-critical operations:  AVX2 AVX512F FMA\n",
      "To enable them in other operations, rebuild TensorFlow with the appropriate compiler flags.\n",
      "2022-04-16 05:33:31.494267: I tensorflow/compiler/jit/xla_gpu_device.cc:99] Not creating XLA devices, tf_xla_enable_xla_devices not set\n",
      "2022-04-16 05:33:31.494425: I tensorflow/stream_executor/cuda/cuda_gpu_executor.cc:941] successful NUMA node read from SysFS had negative value (-1), but there must be at least one NUMA node, so returning NUMA node zero\n",
      "2022-04-16 05:33:31.495063: I tensorflow/core/common_runtime/gpu/gpu_device.cc:1720] Found device 0 with properties: \n",
      "pciBusID: 0000:00:04.0 name: Tesla P100-PCIE-16GB computeCapability: 6.0\n",
      "coreClock: 1.3285GHz coreCount: 56 deviceMemorySize: 15.90GiB deviceMemoryBandwidth: 681.88GiB/s\n",
      "2022-04-16 05:33:31.495113: I tensorflow/stream_executor/platform/default/dso_loader.cc:49] Successfully opened dynamic library libcudart.so.11.0\n",
      "2022-04-16 05:33:31.495137: I tensorflow/stream_executor/platform/default/dso_loader.cc:49] Successfully opened dynamic library libcublas.so.11\n",
      "2022-04-16 05:33:31.495155: I tensorflow/stream_executor/platform/default/dso_loader.cc:49] Successfully opened dynamic library libcublasLt.so.11\n",
      "2022-04-16 05:33:31.495179: I tensorflow/stream_executor/platform/default/dso_loader.cc:49] Successfully opened dynamic library libcufft.so.10\n",
      "2022-04-16 05:33:31.495205: I tensorflow/stream_executor/platform/default/dso_loader.cc:49] Successfully opened dynamic library libcurand.so.10\n",
      "2022-04-16 05:33:31.495225: I tensorflow/stream_executor/platform/default/dso_loader.cc:49] Successfully opened dynamic library libcusolver.so.10\n",
      "2022-04-16 05:33:31.495244: I tensorflow/stream_executor/platform/default/dso_loader.cc:49] Successfully opened dynamic library libcusparse.so.11\n",
      "2022-04-16 05:33:31.495261: I tensorflow/stream_executor/platform/default/dso_loader.cc:49] Successfully opened dynamic library libcudnn.so.8\n",
      "2022-04-16 05:33:31.495438: I tensorflow/stream_executor/cuda/cuda_gpu_executor.cc:941] successful NUMA node read from SysFS had negative value (-1), but there must be at least one NUMA node, so returning NUMA node zero\n",
      "2022-04-16 05:33:31.496143: I tensorflow/stream_executor/cuda/cuda_gpu_executor.cc:941] successful NUMA node read from SysFS had negative value (-1), but there must be at least one NUMA node, so returning NUMA node zero\n",
      "2022-04-16 05:33:31.496728: I tensorflow/core/common_runtime/gpu/gpu_device.cc:1862] Adding visible gpu devices: 0\n",
      "2022-04-16 05:33:31.497758: I tensorflow/stream_executor/platform/default/dso_loader.cc:49] Successfully opened dynamic library libcudart.so.11.0\n",
      "2022-04-16 05:33:32.814228: I tensorflow/core/common_runtime/gpu/gpu_device.cc:1261] Device interconnect StreamExecutor with strength 1 edge matrix:\n",
      "2022-04-16 05:33:32.814273: I tensorflow/core/common_runtime/gpu/gpu_device.cc:1267]      0 \n",
      "2022-04-16 05:33:32.814284: I tensorflow/core/common_runtime/gpu/gpu_device.cc:1280] 0:   N \n",
      "2022-04-16 05:33:32.816587: I tensorflow/stream_executor/cuda/cuda_gpu_executor.cc:941] successful NUMA node read from SysFS had negative value (-1), but there must be at least one NUMA node, so returning NUMA node zero\n",
      "2022-04-16 05:33:32.817392: I tensorflow/stream_executor/cuda/cuda_gpu_executor.cc:941] successful NUMA node read from SysFS had negative value (-1), but there must be at least one NUMA node, so returning NUMA node zero\n",
      "2022-04-16 05:33:32.818119: I tensorflow/stream_executor/cuda/cuda_gpu_executor.cc:941] successful NUMA node read from SysFS had negative value (-1), but there must be at least one NUMA node, so returning NUMA node zero\n",
      "2022-04-16 05:33:32.818724: I tensorflow/core/common_runtime/gpu/gpu_device.cc:1406] Created TensorFlow device (/job:localhost/replica:0/task:0/device:GPU:0 with 14957 MB memory) -> physical GPU (device: 0, name: Tesla P100-PCIE-16GB, pci bus id: 0000:00:04.0, compute capability: 6.0)\n"
     ]
    }
   ],
   "source": [
    "model = Sequential([\n",
    "        embedding_layer,\n",
    "        tf.keras.layers.Bidirectional(LSTM(units=128, return_sequences=True)),\n",
    "        tf.keras.layers.Dropout(0.2),\n",
    "        tf.keras.layers.Bidirectional(LSTM(units=128, return_sequences=True)),\n",
    "        tf.keras.layers.Dropout(0.2),\n",
    "        tf.keras.layers.Bidirectional(LSTM(units=128)),\n",
    "        tf.keras.layers.Dropout(0.2),\n",
    "        tf.keras.layers.Dense(64, activation=\"relu\"),\n",
    "        tf.keras.layers.Dense(1, activation=\"sigmoid\"),\n",
    "    ])"
   ]
  },
  {
   "cell_type": "markdown",
   "id": "061f30dd",
   "metadata": {
    "id": "GBLDT_nyZuD3",
    "papermill": {
     "duration": 0.067676,
     "end_time": "2022-04-16T05:33:35.761357",
     "exception": false,
     "start_time": "2022-04-16T05:33:35.693681",
     "status": "completed"
    },
    "tags": []
   },
   "source": [
    "## Compile the model\n",
    "\n",
    "> Notes : The binary cross entropy loss suits well to our binary classification case (two targets : positive or negative)"
   ]
  },
  {
   "cell_type": "code",
   "execution_count": 32,
   "id": "d1495fcb",
   "metadata": {
    "execution": {
     "iopub.execute_input": "2022-04-16T05:33:35.911435Z",
     "iopub.status.busy": "2022-04-16T05:33:35.910433Z",
     "iopub.status.idle": "2022-04-16T05:33:35.917029Z",
     "shell.execute_reply": "2022-04-16T05:33:35.916523Z",
     "shell.execute_reply.started": "2022-04-16T05:09:39.114642Z"
    },
    "id": "cs-ego69YrAj",
    "papermill": {
     "duration": 0.088903,
     "end_time": "2022-04-16T05:33:35.917140",
     "exception": false,
     "start_time": "2022-04-16T05:33:35.828237",
     "status": "completed"
    },
    "tags": []
   },
   "outputs": [],
   "source": [
    "model.compile(\n",
    "       optimizer = Adam(learning_rate=0.001),\n",
    "       loss=\"binary_crossentropy\", \n",
    "       metrics=[\"accuracy\"]\n",
    "  )"
   ]
  },
  {
   "cell_type": "markdown",
   "id": "82716f91",
   "metadata": {
    "id": "3QFsvRwkbent",
    "papermill": {
     "duration": 0.067538,
     "end_time": "2022-04-16T05:33:36.051347",
     "exception": false,
     "start_time": "2022-04-16T05:33:35.983809",
     "status": "completed"
    },
    "tags": []
   },
   "source": [
    "## Model summary "
   ]
  },
  {
   "cell_type": "code",
   "execution_count": 33,
   "id": "819b7bc6",
   "metadata": {
    "execution": {
     "iopub.execute_input": "2022-04-16T05:33:36.191743Z",
     "iopub.status.busy": "2022-04-16T05:33:36.190770Z",
     "iopub.status.idle": "2022-04-16T05:33:36.197703Z",
     "shell.execute_reply": "2022-04-16T05:33:36.197181Z",
     "shell.execute_reply.started": "2022-04-16T05:09:41.245225Z"
    },
    "id": "CQXLnEwgZzy6",
    "outputId": "98606ea4-b661-474d-b409-e4ae837b4fd4",
    "papermill": {
     "duration": 0.080066,
     "end_time": "2022-04-16T05:33:36.197815",
     "exception": false,
     "start_time": "2022-04-16T05:33:36.117749",
     "status": "completed"
    },
    "tags": []
   },
   "outputs": [
    {
     "name": "stdout",
     "output_type": "stream",
     "text": [
      "Model: \"sequential\"\n",
      "_________________________________________________________________\n",
      "Layer (type)                 Output Shape              Param #   \n",
      "=================================================================\n",
      "embedding (Embedding)        (None, 53, 100)           26819900  \n",
      "_________________________________________________________________\n",
      "bidirectional (Bidirectional (None, 53, 256)           234496    \n",
      "_________________________________________________________________\n",
      "dropout (Dropout)            (None, 53, 256)           0         \n",
      "_________________________________________________________________\n",
      "bidirectional_1 (Bidirection (None, 53, 256)           394240    \n",
      "_________________________________________________________________\n",
      "dropout_1 (Dropout)          (None, 53, 256)           0         \n",
      "_________________________________________________________________\n",
      "bidirectional_2 (Bidirection (None, 256)               394240    \n",
      "_________________________________________________________________\n",
      "dropout_2 (Dropout)          (None, 256)               0         \n",
      "_________________________________________________________________\n",
      "dense (Dense)                (None, 64)                16448     \n",
      "_________________________________________________________________\n",
      "dense_1 (Dense)              (None, 1)                 65        \n",
      "=================================================================\n",
      "Total params: 27,859,389\n",
      "Trainable params: 1,039,489\n",
      "Non-trainable params: 26,819,900\n",
      "_________________________________________________________________\n"
     ]
    }
   ],
   "source": [
    "model.summary()"
   ]
  },
  {
   "cell_type": "markdown",
   "id": "f48b5d52",
   "metadata": {
    "papermill": {
     "duration": 0.066861,
     "end_time": "2022-04-16T05:33:36.331414",
     "exception": false,
     "start_time": "2022-04-16T05:33:36.264553",
     "status": "completed"
    },
    "tags": []
   },
   "source": [
    "## Plot the model architecture"
   ]
  },
  {
   "cell_type": "code",
   "execution_count": 34,
   "id": "e5237f58",
   "metadata": {
    "execution": {
     "iopub.execute_input": "2022-04-16T05:33:36.471306Z",
     "iopub.status.busy": "2022-04-16T05:33:36.470554Z",
     "iopub.status.idle": "2022-04-16T05:33:37.377388Z",
     "shell.execute_reply": "2022-04-16T05:33:37.377938Z",
     "shell.execute_reply.started": "2022-04-16T05:09:53.141253Z"
    },
    "id": "nsbS_JxcfnkB",
    "outputId": "2dc9dfda-f615-41bb-c01a-60aa665eb9bb",
    "papermill": {
     "duration": 0.979524,
     "end_time": "2022-04-16T05:33:37.378089",
     "exception": false,
     "start_time": "2022-04-16T05:33:36.398565",
     "status": "completed"
    },
    "tags": []
   },
   "outputs": [
    {
     "data": {
      "image/png": "[encoded data removed]",
      "text/plain": [
       "<IPython.core.display.Image object>"
      ]
     },
     "execution_count": 34,
     "metadata": {},
     "output_type": "execute_result"
    }
   ],
   "source": [
    "tf.keras.utils.plot_model(model, show_shapes=True)"
   ]
  },
  {
   "cell_type": "markdown",
   "id": "1a8701bc",
   "metadata": {
    "id": "U1wMN2Lcbq3V",
    "papermill": {
     "duration": 0.062965,
     "end_time": "2022-04-16T05:33:37.504513",
     "exception": false,
     "start_time": "2022-04-16T05:33:37.441548",
     "status": "completed"
    },
    "tags": []
   },
   "source": [
    "# Train the model ⚗️"
   ]
  },
  {
   "cell_type": "code",
   "execution_count": 35,
   "id": "63a6b519",
   "metadata": {
    "execution": {
     "iopub.execute_input": "2022-04-16T05:33:37.635905Z",
     "iopub.status.busy": "2022-04-16T05:33:37.635309Z",
     "iopub.status.idle": "2022-04-16T06:32:41.140092Z",
     "shell.execute_reply": "2022-04-16T06:32:41.139656Z"
    },
    "id": "ExFPK4f3bhay",
    "outputId": "cdc7f500-6ba1-45a7-d1cd-3ae4a8540444",
    "papermill": {
     "duration": 3543.572655,
     "end_time": "2022-04-16T06:32:41.140234",
     "exception": false,
     "start_time": "2022-04-16T05:33:37.567579",
     "status": "completed"
    },
    "tags": []
   },
   "outputs": [
    {
     "name": "stderr",
     "output_type": "stream",
     "text": [
      "2022-04-16 05:33:37.901073: I tensorflow/compiler/mlir/mlir_graph_optimization_pass.cc:116] None of the MLIR optimization passes are enabled (registered 2)\n",
      "2022-04-16 05:33:37.911602: I tensorflow/core/platform/profile_utils/cpu_utils.cc:112] CPU Frequency: 2000165000 Hz\n"
     ]
    },
    {
     "name": "stdout",
     "output_type": "stream",
     "text": [
      "Epoch 1/50\n"
     ]
    },
    {
     "name": "stderr",
     "output_type": "stream",
     "text": [
      "2022-04-16 05:33:43.569264: I tensorflow/stream_executor/platform/default/dso_loader.cc:49] Successfully opened dynamic library libcublas.so.11\n",
      "2022-04-16 05:33:44.281560: I tensorflow/stream_executor/platform/default/dso_loader.cc:49] Successfully opened dynamic library libcublasLt.so.11\n",
      "2022-04-16 05:33:44.342930: I tensorflow/stream_executor/platform/default/dso_loader.cc:49] Successfully opened dynamic library libcudnn.so.8\n"
     ]
    },
    {
     "name": "stdout",
     "output_type": "stream",
     "text": [
      "1440/1440 [==============================] - 173s 112ms/step - loss: 0.5153 - accuracy: 0.7409 - val_loss: 0.4312 - val_accuracy: 0.7991\n",
      "Epoch 2/50\n",
      "1440/1440 [==============================] - 160s 111ms/step - loss: 0.4254 - accuracy: 0.8030 - val_loss: 0.4131 - val_accuracy: 0.8081\n",
      "Epoch 3/50\n",
      "1440/1440 [==============================] - 160s 111ms/step - loss: 0.4024 - accuracy: 0.8161 - val_loss: 0.3992 - val_accuracy: 0.8169\n",
      "Epoch 4/50\n",
      "1440/1440 [==============================] - 160s 111ms/step - loss: 0.3891 - accuracy: 0.8233 - val_loss: 0.3909 - val_accuracy: 0.8230\n",
      "Epoch 5/50\n",
      "1440/1440 [==============================] - 160s 111ms/step - loss: 0.3775 - accuracy: 0.8301 - val_loss: 0.3903 - val_accuracy: 0.8233\n",
      "Epoch 6/50\n",
      "1440/1440 [==============================] - 160s 111ms/step - loss: 0.3667 - accuracy: 0.8351 - val_loss: 0.3815 - val_accuracy: 0.8277\n",
      "Epoch 7/50\n",
      "1440/1440 [==============================] - 160s 111ms/step - loss: 0.3585 - accuracy: 0.8398 - val_loss: 0.3831 - val_accuracy: 0.8277\n",
      "Epoch 8/50\n",
      "1440/1440 [==============================] - 160s 111ms/step - loss: 0.3497 - accuracy: 0.8443 - val_loss: 0.3802 - val_accuracy: 0.8287\n",
      "Epoch 9/50\n",
      "1440/1440 [==============================] - 160s 111ms/step - loss: 0.3415 - accuracy: 0.8489 - val_loss: 0.3809 - val_accuracy: 0.8293\n",
      "Epoch 10/50\n",
      "1440/1440 [==============================] - 160s 111ms/step - loss: 0.3329 - accuracy: 0.8533 - val_loss: 0.3845 - val_accuracy: 0.8278\n",
      "Epoch 11/50\n",
      "1440/1440 [==============================] - 160s 111ms/step - loss: 0.3246 - accuracy: 0.8575 - val_loss: 0.3842 - val_accuracy: 0.8297\n",
      "Epoch 12/50\n",
      "1440/1440 [==============================] - 161s 112ms/step - loss: 0.3165 - accuracy: 0.8616 - val_loss: 0.3910 - val_accuracy: 0.8297\n",
      "Epoch 13/50\n",
      "1440/1440 [==============================] - 160s 111ms/step - loss: 0.3085 - accuracy: 0.8656 - val_loss: 0.3970 - val_accuracy: 0.8266\n",
      "Epoch 14/50\n",
      "1440/1440 [==============================] - 160s 111ms/step - loss: 0.3013 - accuracy: 0.8688 - val_loss: 0.3970 - val_accuracy: 0.8270\n",
      "Epoch 15/50\n",
      "1440/1440 [==============================] - 161s 112ms/step - loss: 0.2939 - accuracy: 0.8726 - val_loss: 0.4069 - val_accuracy: 0.8266\n",
      "Epoch 16/50\n",
      "1440/1440 [==============================] - 161s 112ms/step - loss: 0.2868 - accuracy: 0.8759 - val_loss: 0.4162 - val_accuracy: 0.8248\n",
      "Epoch 17/50\n",
      "1440/1440 [==============================] - 161s 112ms/step - loss: 0.2801 - accuracy: 0.8795 - val_loss: 0.4173 - val_accuracy: 0.8243\n",
      "Epoch 18/50\n",
      "1440/1440 [==============================] - 161s 112ms/step - loss: 0.2739 - accuracy: 0.8823 - val_loss: 0.4256 - val_accuracy: 0.8213\n",
      "Epoch 19/50\n",
      "1440/1440 [==============================] - 161s 112ms/step - loss: 0.2684 - accuracy: 0.8847 - val_loss: 0.4334 - val_accuracy: 0.8220\n",
      "Epoch 20/50\n",
      "1440/1440 [==============================] - 160s 111ms/step - loss: 0.2631 - accuracy: 0.8875 - val_loss: 0.4325 - val_accuracy: 0.8206\n",
      "Epoch 21/50\n",
      "1440/1440 [==============================] - 160s 111ms/step - loss: 0.2570 - accuracy: 0.8906 - val_loss: 0.4432 - val_accuracy: 0.8195\n",
      "Epoch 22/50\n",
      "1440/1440 [==============================] - 160s 111ms/step - loss: 0.2523 - accuracy: 0.8932 - val_loss: 0.4429 - val_accuracy: 0.8192\n",
      "Restoring model weights from the end of the best epoch.\n",
      "Epoch 00022: early stopping\n"
     ]
    }
   ],
   "source": [
    "history = model.fit(\n",
    "    X_train,\n",
    "    y_train,\n",
    "    batch_size=batch_size,\n",
    "    epochs=num_epochs,\n",
    "    verbose=1, \n",
    "    validation_data=(X_test,y_test),\n",
    "    callbacks = [stop_early]\n",
    ")"
   ]
  },
  {
   "cell_type": "markdown",
   "id": "3a4ec699",
   "metadata": {
    "papermill": {
     "duration": 8.786335,
     "end_time": "2022-04-16T06:32:58.427915",
     "exception": false,
     "start_time": "2022-04-16T06:32:49.641580",
     "status": "completed"
    },
    "tags": []
   },
   "source": [
    "# Save the model  💾"
   ]
  },
  {
   "cell_type": "markdown",
   "id": "1530c925",
   "metadata": {
    "papermill": {
     "duration": 8.506334,
     "end_time": "2022-04-16T06:33:15.516220",
     "exception": false,
     "start_time": "2022-04-16T06:33:07.009886",
     "status": "completed"
    },
    "tags": []
   },
   "source": [
    " ## Define the text vectorization layer for inferences"
   ]
  },
  {
   "cell_type": "code",
   "execution_count": 36,
   "id": "30b06a8a",
   "metadata": {
    "execution": {
     "iopub.execute_input": "2022-04-16T06:33:33.230649Z",
     "iopub.status.busy": "2022-04-16T06:33:33.229035Z",
     "iopub.status.idle": "2022-04-16T06:33:33.231235Z",
     "shell.execute_reply": "2022-04-16T06:33:33.231665Z"
    },
    "papermill": {
     "duration": 8.946322,
     "end_time": "2022-04-16T06:33:33.231812",
     "exception": false,
     "start_time": "2022-04-16T06:33:24.285490",
     "status": "completed"
    },
    "tags": []
   },
   "outputs": [],
   "source": [
    "# Setup the vocabulary\n",
    "vocabulary = list(tokenizer.word_index.keys())"
   ]
  },
  {
   "cell_type": "code",
   "execution_count": 37,
   "id": "ce9f7565",
   "metadata": {
    "execution": {
     "iopub.execute_input": "2022-04-16T06:33:49.917832Z",
     "iopub.status.busy": "2022-04-16T06:33:49.917234Z",
     "iopub.status.idle": "2022-04-16T06:33:49.920778Z",
     "shell.execute_reply": "2022-04-16T06:33:49.921327Z"
    },
    "papermill": {
     "duration": 8.472734,
     "end_time": "2022-04-16T06:33:49.921528",
     "exception": false,
     "start_time": "2022-04-16T06:33:41.448794",
     "status": "completed"
    },
    "tags": []
   },
   "outputs": [
    {
     "name": "stdout",
     "output_type": "stream",
     "text": [
      "Model input shape: (None, 53)\n"
     ]
    }
   ],
   "source": [
    "# Get the input shape\n",
    "input_shape = tf.keras.Input(shape=(max_length))\n",
    "shape = input_shape.shape\n",
    "print(f\"Model input shape: {shape}\")"
   ]
  },
  {
   "cell_type": "code",
   "execution_count": 38,
   "id": "d2089319",
   "metadata": {
    "execution": {
     "iopub.execute_input": "2022-04-16T06:34:07.468518Z",
     "iopub.status.busy": "2022-04-16T06:34:07.467660Z",
     "iopub.status.idle": "2022-04-16T06:34:24.939321Z",
     "shell.execute_reply": "2022-04-16T06:34:24.938605Z"
    },
    "papermill": {
     "duration": 26.502383,
     "end_time": "2022-04-16T06:34:24.939533",
     "exception": false,
     "start_time": "2022-04-16T06:33:58.437150",
     "status": "completed"
    },
    "tags": []
   },
   "outputs": [],
   "source": [
    "# Create the text vectorization layer\n",
    "vectorize_layer = TextVectorization (\n",
    "    # Standardization to apply to the input text\n",
    "    standardize=\"lower_and_strip_punctuation\",\n",
    "    # Maximum size of the vocabulary for this layer\n",
    "    max_tokens=vocab_size+1,\n",
    "    # Output of the layer \n",
    "    output_mode=\"int\",\n",
    "    output_sequence_length=max_length, \n",
    "    vocabulary=vocabulary\n",
    ")\n",
    "\n",
    "# Adapt to our training content\n",
    "vectorize_layer.adapt(train[\"content\"].values)"
   ]
  },
  {
   "cell_type": "markdown",
   "id": "9c920f6e",
   "metadata": {
    "papermill": {
     "duration": 8.730222,
     "end_time": "2022-04-16T06:34:42.421104",
     "exception": false,
     "start_time": "2022-04-16T06:34:33.690882",
     "status": "completed"
    },
    "tags": []
   },
   "source": [
    "## Define the export model\n",
    "\n",
    "Export model : **Input Layer ---> Vectorization Layer ---> Our trained model ---> The activation layer (score)**"
   ]
  },
  {
   "cell_type": "code",
   "execution_count": 39,
   "id": "8b3b783a",
   "metadata": {
    "execution": {
     "iopub.execute_input": "2022-04-16T06:34:59.068742Z",
     "iopub.status.busy": "2022-04-16T06:34:59.067922Z",
     "iopub.status.idle": "2022-04-16T06:35:00.390602Z",
     "shell.execute_reply": "2022-04-16T06:35:00.389694Z"
    },
    "papermill": {
     "duration": 9.477252,
     "end_time": "2022-04-16T06:35:00.390748",
     "exception": false,
     "start_time": "2022-04-16T06:34:50.913496",
     "status": "completed"
    },
    "tags": []
   },
   "outputs": [],
   "source": [
    "export_model = tf.keras.Sequential([\n",
    "    tf.keras.layers.InputLayer(input_shape=(1,), dtype=tf.string),\n",
    "    vectorize_layer,\n",
    "    model,\n",
    "    tf.keras.layers.Activation(\"sigmoid\")\n",
    "])"
   ]
  },
  {
   "cell_type": "markdown",
   "id": "6621263b",
   "metadata": {
    "papermill": {
     "duration": 8.515614,
     "end_time": "2022-04-16T06:35:17.834496",
     "exception": false,
     "start_time": "2022-04-16T06:35:09.318882",
     "status": "completed"
    },
    "tags": []
   },
   "source": [
    "## Compile the export model"
   ]
  },
  {
   "cell_type": "code",
   "execution_count": 40,
   "id": "b2f0ced3",
   "metadata": {
    "execution": {
     "iopub.execute_input": "2022-04-16T06:35:34.799312Z",
     "iopub.status.busy": "2022-04-16T06:35:34.798450Z",
     "iopub.status.idle": "2022-04-16T06:35:34.803336Z",
     "shell.execute_reply": "2022-04-16T06:35:34.802911Z"
    },
    "papermill": {
     "duration": 8.468814,
     "end_time": "2022-04-16T06:35:34.803447",
     "exception": false,
     "start_time": "2022-04-16T06:35:26.334633",
     "status": "completed"
    },
    "tags": []
   },
   "outputs": [],
   "source": [
    "export_model.compile(\n",
    "       optimizer = Adam(learning_rate = 0.001),\n",
    "       loss=\"binary_crossentropy\", \n",
    "       metrics=[\"accuracy\"]\n",
    ")"
   ]
  },
  {
   "cell_type": "markdown",
   "id": "1b0fee11",
   "metadata": {
    "papermill": {
     "duration": 8.488958,
     "end_time": "2022-04-16T06:35:52.020045",
     "exception": false,
     "start_time": "2022-04-16T06:35:43.531087",
     "status": "completed"
    },
    "tags": []
   },
   "source": [
    "## Save"
   ]
  },
  {
   "cell_type": "code",
   "execution_count": 41,
   "id": "e6019945",
   "metadata": {
    "execution": {
     "iopub.execute_input": "2022-04-16T06:36:09.048571Z",
     "iopub.status.busy": "2022-04-16T06:36:09.047750Z",
     "iopub.status.idle": "2022-04-16T06:36:49.758763Z",
     "shell.execute_reply": "2022-04-16T06:36:49.759419Z"
    },
    "papermill": {
     "duration": 49.225122,
     "end_time": "2022-04-16T06:36:49.759660",
     "exception": false,
     "start_time": "2022-04-16T06:36:00.534538",
     "status": "completed"
    },
    "tags": []
   },
   "outputs": [
    {
     "name": "stderr",
     "output_type": "stream",
     "text": [
      "2022-04-16 06:36:24.641839: W tensorflow/python/util/util.cc:348] Sets are not currently considered sequences, but this may change in the future, so consider avoiding using them.\n"
     ]
    }
   ],
   "source": [
    "export_model.save(\"TSA_model_v4\")"
   ]
  },
  {
   "cell_type": "markdown",
   "id": "c48a8205",
   "metadata": {
    "papermill": {
     "duration": 8.483993,
     "end_time": "2022-04-16T06:37:06.739127",
     "exception": false,
     "start_time": "2022-04-16T06:36:58.255134",
     "status": "completed"
    },
    "tags": []
   },
   "source": [
    "# Plot the results 📊"
   ]
  },
  {
   "cell_type": "code",
   "execution_count": 42,
   "id": "5bb358ba",
   "metadata": {
    "execution": {
     "iopub.execute_input": "2022-04-16T06:37:24.357136Z",
     "iopub.status.busy": "2022-04-16T06:37:24.356304Z",
     "iopub.status.idle": "2022-04-16T06:37:24.359116Z",
     "shell.execute_reply": "2022-04-16T06:37:24.359707Z"
    },
    "papermill": {
     "duration": 9.139874,
     "end_time": "2022-04-16T06:37:24.359896",
     "exception": false,
     "start_time": "2022-04-16T06:37:15.220022",
     "status": "completed"
    },
    "tags": []
   },
   "outputs": [
    {
     "name": "stdout",
     "output_type": "stream",
     "text": [
      "Number of epochs: 22\n"
     ]
    }
   ],
   "source": [
    "number_of_epochs = len(history.history[\"loss\"])\n",
    "print(f\"Number of epochs: {number_of_epochs}\")"
   ]
  },
  {
   "cell_type": "code",
   "execution_count": 43,
   "id": "6090c556",
   "metadata": {
    "execution": {
     "iopub.execute_input": "2022-04-16T06:37:41.057355Z",
     "iopub.status.busy": "2022-04-16T06:37:41.056803Z",
     "iopub.status.idle": "2022-04-16T06:37:41.384322Z",
     "shell.execute_reply": "2022-04-16T06:37:41.383886Z"
    },
    "papermill": {
     "duration": 8.823776,
     "end_time": "2022-04-16T06:37:41.384458",
     "exception": false,
     "start_time": "2022-04-16T06:37:32.560682",
     "status": "completed"
    },
    "tags": []
   },
   "outputs": [
    {
     "data": {
      "image/png": "[encoded data removed]",
      "text/plain": [
       "<Figure size 1008x576 with 2 Axes>"
      ]
     },
     "metadata": {
      "needs_background": "light"
     },
     "output_type": "display_data"
    },
    {
     "name": "stdout",
     "output_type": "stream",
     "text": [
      "Maximum validation accuracy:  0.8297062516212463\n",
      "Minimum loss: 0.3909737169742584\n"
     ]
    }
   ],
   "source": [
    "# Get the accuracy results for each epoch\n",
    "acc = history.history[\"accuracy\"]\n",
    "val_acc = history.history[\"val_accuracy\"]\n",
    "# Get the loss results for each epoch\n",
    "loss = history.history[\"loss\"]\n",
    "val_loss = history.history[\"val_loss\"]\n",
    "# Get the epochs count\n",
    "epochs_range = range(len(history.history[\"loss\"]))\n",
    "\n",
    "# Create the plot area\n",
    "plt.figure(figsize=(14, 8))\n",
    "\n",
    "# Setup the first colum : Accuracy plot\n",
    "plt.subplot(1, 2, 1)\n",
    "# Plot the training and validation accuracy for these epochs\n",
    "plt.plot(epochs_range, acc, label=\"Training Accuracy\")\n",
    "plt.plot(epochs_range, val_acc, label=\"Validation Accuracy\")\n",
    "# Setup the legend\n",
    "plt.legend(loc=\"lower right\")\n",
    "plt.title(\"Training and Validation Accuracy\")\n",
    "\n",
    "# Setup the second colum : Loss plot\n",
    "plt.subplot(1, 2, 2)\n",
    "# Plot the training and validation loss for these epochs\n",
    "plt.plot(epochs_range, loss, label=\"Training Loss\")\n",
    "plt.plot(epochs_range, val_loss, label=\"Validation Loss\")\n",
    "# Setup the legend\n",
    "plt.legend(loc=\"upper right\")\n",
    "plt.title(\"Training and Validation Loss\")\n",
    "\n",
    "# Show the overall plot\n",
    "plt.show()\n",
    "\n",
    "position = np.argmax(history.history[\"val_accuracy\"])\n",
    "print(f\"Maximum validation accuracy:  {history.history['val_accuracy'][position]}\\nMinimum loss: {history.history['val_loss'][position]}\")"
   ]
  },
  {
   "cell_type": "code",
   "execution_count": 44,
   "id": "2b28e417",
   "metadata": {
    "execution": {
     "iopub.execute_input": "2022-04-16T06:37:59.184388Z",
     "iopub.status.busy": "2022-04-16T06:37:59.182771Z",
     "iopub.status.idle": "2022-04-16T06:37:59.186758Z",
     "shell.execute_reply": "2022-04-16T06:37:59.186111Z"
    },
    "papermill": {
     "duration": 9.299953,
     "end_time": "2022-04-16T06:37:59.186911",
     "exception": false,
     "start_time": "2022-04-16T06:37:49.886958",
     "status": "completed"
    },
    "tags": []
   },
   "outputs": [
    {
     "name": "stdout",
     "output_type": "stream",
     "text": [
      "Best validation accuracy : 0.8297062516212463\n"
     ]
    }
   ],
   "source": [
    "best_accuracy = max(history.history[\"val_accuracy\"])\n",
    "print(f\"Best validation accuracy : {best_accuracy}\")"
   ]
  },
  {
   "cell_type": "markdown",
   "id": "a3cd560d",
   "metadata": {
    "papermill": {
     "duration": 8.211665,
     "end_time": "2022-04-16T06:38:15.921874",
     "exception": false,
     "start_time": "2022-04-16T06:38:07.710209",
     "status": "completed"
    },
    "tags": []
   },
   "source": [
    "## Print the classification report"
   ]
  },
  {
   "cell_type": "code",
   "execution_count": 45,
   "id": "50c34ca2",
   "metadata": {
    "execution": {
     "iopub.execute_input": "2022-04-16T06:38:33.473005Z",
     "iopub.status.busy": "2022-04-16T06:38:33.471731Z",
     "iopub.status.idle": "2022-04-16T06:39:09.800549Z",
     "shell.execute_reply": "2022-04-16T06:39:09.799860Z"
    },
    "papermill": {
     "duration": 44.870683,
     "end_time": "2022-04-16T06:39:09.800717",
     "exception": false,
     "start_time": "2022-04-16T06:38:24.930034",
     "status": "completed"
    },
    "tags": []
   },
   "outputs": [
    {
     "name": "stdout",
     "output_type": "stream",
     "text": [
      "              precision    recall  f1-score   support\n",
      "\n",
      "           0       0.83      0.83      0.83     79800\n",
      "           1       0.83      0.83      0.83     80200\n",
      "\n",
      "    accuracy                           0.83    160000\n",
      "   macro avg       0.83      0.83      0.83    160000\n",
      "weighted avg       0.83      0.83      0.83    160000\n",
      "\n"
     ]
    }
   ],
   "source": [
    "predictions = model.predict(X_test)\n",
    "predictions = np.where(predictions<0.5, 0, 1)\n",
    "\n",
    "print(classification_report(y_test, predictions))"
   ]
  },
  {
   "cell_type": "markdown",
   "id": "d36709cd",
   "metadata": {
    "papermill": {
     "duration": 8.570202,
     "end_time": "2022-04-16T06:39:26.834627",
     "exception": false,
     "start_time": "2022-04-16T06:39:18.264425",
     "status": "completed"
    },
    "tags": []
   },
   "source": [
    "## Test"
   ]
  },
  {
   "cell_type": "code",
   "execution_count": 46,
   "id": "92f6542e",
   "metadata": {
    "execution": {
     "iopub.execute_input": "2022-04-16T06:39:44.005878Z",
     "iopub.status.busy": "2022-04-16T06:39:44.005133Z",
     "iopub.status.idle": "2022-04-16T06:39:45.750971Z",
     "shell.execute_reply": "2022-04-16T06:39:45.752055Z"
    },
    "papermill": {
     "duration": 9.916043,
     "end_time": "2022-04-16T06:39:45.752365",
     "exception": false,
     "start_time": "2022-04-16T06:39:35.836322",
     "status": "completed"
    },
    "tags": []
   },
   "outputs": [
    {
     "name": "stdout",
     "output_type": "stream",
     "text": [
      "Examples:  ['being sick can be really cheap when it hurts too much to eat real food plus your friends make you soup']  Type:  <class 'list'>\n"
     ]
    },
    {
     "data": {
      "text/plain": [
       "array([[0.6712652]], dtype=float32)"
      ]
     },
     "execution_count": 46,
     "metadata": {},
     "output_type": "execute_result"
    }
   ],
   "source": [
    "# Sample sentence\n",
    "examples = [\"being sick can be really cheap when it hurts too much to eat real food plus your friends make you soup\"]\n",
    "# Display the example\n",
    "print(\"Examples: \", examples, \" Type: \", type(examples))\n",
    "# Predict and display the score\n",
    "export_model.predict(examples)"
   ]
  },
  {
   "cell_type": "markdown",
   "id": "0f0fcfc0",
   "metadata": {
    "papermill": {
     "duration": 9.002477,
     "end_time": "2022-04-16T06:40:03.181533",
     "exception": false,
     "start_time": "2022-04-16T06:39:54.179056",
     "status": "completed"
    },
    "tags": []
   },
   "source": [
    "# Tune the threshold (experimental) ⚗️"
   ]
  },
  {
   "cell_type": "code",
   "execution_count": 47,
   "id": "a0b3491e",
   "metadata": {
    "execution": {
     "iopub.execute_input": "2022-04-16T06:40:20.248559Z",
     "iopub.status.busy": "2022-04-16T06:40:20.247644Z",
     "iopub.status.idle": "2022-04-16T06:40:54.497298Z",
     "shell.execute_reply": "2022-04-16T06:40:54.496787Z"
    },
    "papermill": {
     "duration": 42.683805,
     "end_time": "2022-04-16T06:40:54.497426",
     "exception": false,
     "start_time": "2022-04-16T06:40:11.813621",
     "status": "completed"
    },
    "tags": []
   },
   "outputs": [],
   "source": [
    "predictions = model.predict(X_test)"
   ]
  },
  {
   "cell_type": "markdown",
   "id": "cf0bfe86",
   "metadata": {
    "papermill": {
     "duration": 8.745621,
     "end_time": "2022-04-16T06:41:11.856174",
     "exception": false,
     "start_time": "2022-04-16T06:41:03.110553",
     "status": "completed"
    },
    "tags": []
   },
   "source": [
    "## Calculate the best f1 score for each threshold"
   ]
  },
  {
   "cell_type": "code",
   "execution_count": 48,
   "id": "ddc33155",
   "metadata": {
    "execution": {
     "iopub.execute_input": "2022-04-16T06:41:28.836711Z",
     "iopub.status.busy": "2022-04-16T06:41:28.835831Z",
     "iopub.status.idle": "2022-04-16T06:41:28.838433Z",
     "shell.execute_reply": "2022-04-16T06:41:28.837999Z"
    },
    "papermill": {
     "duration": 8.52798,
     "end_time": "2022-04-16T06:41:28.838561",
     "exception": false,
     "start_time": "2022-04-16T06:41:20.310581",
     "status": "completed"
    },
    "tags": []
   },
   "outputs": [],
   "source": [
    "# Generate an array from 0 to 1 with a 0.001 step\n",
    "thresholds = np.arange(0, 1, 0.001)\n",
    "thres = 0.1\n",
    "f1_score = 0.001"
   ]
  },
  {
   "cell_type": "markdown",
   "id": "88477b15",
   "metadata": {
    "papermill": {
     "duration": 8.726407,
     "end_time": "2022-04-16T06:41:46.014967",
     "exception": false,
     "start_time": "2022-04-16T06:41:37.288560",
     "status": "completed"
    },
    "tags": []
   },
   "source": [
    "### Positive threshold"
   ]
  },
  {
   "cell_type": "code",
   "execution_count": 49,
   "id": "9f49ed9b",
   "metadata": {
    "execution": {
     "iopub.execute_input": "2022-04-16T06:42:03.019006Z",
     "iopub.status.busy": "2022-04-16T06:42:03.018207Z",
     "iopub.status.idle": "2022-04-16T06:45:59.307894Z",
     "shell.execute_reply": "2022-04-16T06:45:59.308358Z"
    },
    "papermill": {
     "duration": 244.847895,
     "end_time": "2022-04-16T06:45:59.308533",
     "exception": false,
     "start_time": "2022-04-16T06:41:54.460638",
     "status": "completed"
    },
    "tags": []
   },
   "outputs": [
    {
     "name": "stderr",
     "output_type": "stream",
     "text": [
      "/opt/conda/lib/python3.7/site-packages/sklearn/metrics/_classification.py:1221: UndefinedMetricWarning: Precision and F-score are ill-defined and being set to 0.0 in labels with no predicted samples. Use `zero_division` parameter to control this behavior.\n",
      "  _warn_prf(average, modifier, msg_start, len(result))\n"
     ]
    },
    {
     "name": "stdout",
     "output_type": "stream",
     "text": [
      "Best threshold : 0.40700000000000003 \n",
      "Best f1_score: 0.8329186718726354\n"
     ]
    }
   ],
   "source": [
    "# Loop trough the tresholds array\n",
    "for threshold in thresholds :\n",
    "    # Get the positive predictions\n",
    "    prediction = np.where(predictions>threshold, 1, 0)\n",
    "    # Generate the classification report \n",
    "    report = classification_report(y_test, prediction, output_dict=True)\n",
    "    # Get the F1-score from the report\n",
    "    f1_score_new = report[\"1\"][\"f1-score\"]\n",
    "    # Update the final F1-score if greater\n",
    "    if f1_score_new > f1_score: \n",
    "        f1_score = f1_score_new\n",
    "        thres = threshold\n",
    "\n",
    "# Display the results\n",
    "print(f\"Best threshold : {thres} \\nBest f1_score: {f1_score}\")"
   ]
  },
  {
   "cell_type": "markdown",
   "id": "fd681b30",
   "metadata": {
    "papermill": {
     "duration": 8.496625,
     "end_time": "2022-04-16T06:46:16.833310",
     "exception": false,
     "start_time": "2022-04-16T06:46:08.336685",
     "status": "completed"
    },
    "tags": []
   },
   "source": [
    "### Negative threshold"
   ]
  },
  {
   "cell_type": "code",
   "execution_count": 50,
   "id": "32ec5fb5",
   "metadata": {
    "execution": {
     "iopub.execute_input": "2022-04-16T06:46:33.971821Z",
     "iopub.status.busy": "2022-04-16T06:46:33.970938Z",
     "iopub.status.idle": "2022-04-16T06:50:31.016542Z",
     "shell.execute_reply": "2022-04-16T06:50:31.017012Z"
    },
    "papermill": {
     "duration": 245.665166,
     "end_time": "2022-04-16T06:50:31.017178",
     "exception": false,
     "start_time": "2022-04-16T06:46:25.352012",
     "status": "completed"
    },
    "tags": []
   },
   "outputs": [
    {
     "name": "stdout",
     "output_type": "stream",
     "text": [
      "Best threshold : 0.593 \n",
      "Best f1_score: 0.8336332781756912\n"
     ]
    }
   ],
   "source": [
    "thres_neg = 0.1\n",
    "f1_score_neg = 0.001\n",
    "\n",
    "# Loop trough the tresholds array\n",
    "for threshold in thresholds :\n",
    "    # Get the positive predictions\n",
    "    prediction = np.where(predictions>threshold, 1, 0)\n",
    "    # Generate the classification report \n",
    "    report = classification_report(y_test, prediction, output_dict=True)\n",
    "    # Get the F1-score from the report\n",
    "    f1_score_new = report[\"0\"][\"f1-score\"]\n",
    "    # Update the final F1-score if greater\n",
    "    if f1_score_new > f1_score_neg: \n",
    "        f1_score_neg = f1_score_new\n",
    "        thres_neg = threshold\n",
    "\n",
    "# Display the results\n",
    "print(f\"Best threshold : {thres_neg} \\nBest f1_score: {f1_score_neg}\")"
   ]
  },
  {
   "cell_type": "markdown",
   "id": "59d14e79",
   "metadata": {
    "papermill": {
     "duration": 8.398958,
     "end_time": "2022-04-16T06:50:48.015628",
     "exception": false,
     "start_time": "2022-04-16T06:50:39.616670",
     "status": "completed"
    },
    "tags": []
   },
   "source": [
    "## Test"
   ]
  },
  {
   "cell_type": "code",
   "execution_count": 51,
   "id": "b5490f35",
   "metadata": {
    "execution": {
     "iopub.execute_input": "2022-04-16T06:51:05.362280Z",
     "iopub.status.busy": "2022-04-16T06:51:05.361444Z",
     "iopub.status.idle": "2022-04-16T06:51:05.416931Z",
     "shell.execute_reply": "2022-04-16T06:51:05.416184Z"
    },
    "papermill": {
     "duration": 9.076081,
     "end_time": "2022-04-16T06:51:05.417057",
     "exception": false,
     "start_time": "2022-04-16T06:50:56.340976",
     "status": "completed"
    },
    "tags": []
   },
   "outputs": [
    {
     "name": "stdout",
     "output_type": "stream",
     "text": [
      "Examples: [\"this is a very good day, don't you think so ?\"] Type: <class 'list'>\n",
      "Positive (^_^)\n"
     ]
    }
   ],
   "source": [
    "examples = [ \"this is a very good day, don't you think so ?\" ]\n",
    "\n",
    "print(f\"Examples: {examples} Type: {type(examples)}\")\n",
    "\n",
    "results = np.max(export_model.predict(examples))\n",
    "\n",
    "if results > thres: \n",
    "    print(\"Positive (^_^)\")\n",
    "elif results < negative_threshold: \n",
    "    print(\"Negative (>_<)\")\n",
    "else:\n",
    "    print(\"Neutral (-_-)\")"
   ]
  }
 ],
 "metadata": {
  "kernelspec": {
   "display_name": "Python 3",
   "language": "python",
   "name": "python3"
  },
  "language_info": {
   "codemirror_mode": {
    "name": "ipython",
    "version": 3
   },
   "file_extension": ".py",
   "mimetype": "text/x-python",
   "name": "python",
   "nbconvert_exporter": "python",
   "pygments_lexer": "ipython3",
   "version": "3.7.10"
  },
  "papermill": {
   "default_parameters": {},
   "duration": 4793.920813,
   "end_time": "2022-04-16T06:51:16.775944",
   "environment_variables": {},
   "exception": null,
   "input_path": "__notebook__.ipynb",
   "output_path": "__notebook__.ipynb",
   "parameters": {},
   "start_time": "2022-04-16T05:31:22.855131",
   "version": "2.3.3"
  }
 },
 "nbformat": 4,
 "nbformat_minor": 5
}
