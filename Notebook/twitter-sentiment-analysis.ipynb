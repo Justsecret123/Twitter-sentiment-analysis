{
 "cells": [
  {
   "cell_type": "markdown",
   "id": "82a206b6",
   "metadata": {
    "id": "9ZXB7WM81ygu",
    "papermill": {
     "duration": 0.066755,
     "end_time": "2021-09-22T17:59:30.954386",
     "exception": false,
     "start_time": "2021-09-22T17:59:30.887631",
     "status": "completed"
    },
    "tags": []
   },
   "source": [
    "# Libraries"
   ]
  },
  {
   "cell_type": "code",
   "execution_count": 1,
   "id": "a3513d16",
   "metadata": {
    "execution": {
     "iopub.execute_input": "2021-09-22T17:59:31.103279Z",
     "iopub.status.busy": "2021-09-22T17:59:31.101552Z",
     "iopub.status.idle": "2021-09-22T17:59:36.804901Z",
     "shell.execute_reply": "2021-09-22T17:59:36.803786Z",
     "shell.execute_reply.started": "2021-09-22T15:13:12.335555Z"
    },
    "id": "IhWt6DDX1yB8",
    "outputId": "7053acb5-17e2-45c8-fc22-8074d9018976",
    "papermill": {
     "duration": 5.781829,
     "end_time": "2021-09-22T17:59:36.805120",
     "exception": false,
     "start_time": "2021-09-22T17:59:31.023291",
     "status": "completed"
    },
    "tags": []
   },
   "outputs": [
    {
     "name": "stdout",
     "output_type": "stream",
     "text": [
      "[nltk_data] Downloading package stopwords to /usr/share/nltk_data...\n",
      "[nltk_data]   Package stopwords is already up-to-date!\n"
     ]
    },
    {
     "name": "stderr",
     "output_type": "stream",
     "text": [
      "2021-09-22 17:59:32.974929: I tensorflow/stream_executor/platform/default/dso_loader.cc:49] Successfully opened dynamic library libcudart.so.11.0\n"
     ]
    }
   ],
   "source": [
    "import os\n",
    "import pandas as pd\n",
    "import seaborn as sns\n",
    "import matplotlib.pyplot as plt\n",
    "import numpy as np\n",
    "import re\n",
    "\n",
    "\n",
    "#NLTK\n",
    "import nltk \n",
    "nltk.download('stopwords')\n",
    "from nltk.corpus import stopwords\n",
    "from nltk.stem import SnowballStemmer\n",
    "\n",
    "#Tensorflow\n",
    "import tensorflow as tf\n",
    "from tensorflow.keras.preprocessing.text import Tokenizer\n",
    "from tensorflow.keras.preprocessing.sequence import pad_sequences\n",
    "from tensorflow.keras.layers.experimental.preprocessing import TextVectorization\n",
    "from tensorflow.keras.models import Sequential\n",
    "from tensorflow.keras.layers import Activation, Dense, Dropout, Embedding, Flatten, Conv1D, MaxPooling1D, LSTM\n",
    "from tensorflow.keras import utils\n",
    "from tensorflow.keras.callbacks import EarlyStopping\n",
    "from tensorflow.keras.optimizers import Adam\n",
    "\n",
    "#SKLEARN, Wordcloud...\n",
    "from sklearn.model_selection import train_test_split\n",
    "from sklearn.metrics import classification_report"
   ]
  },
  {
   "cell_type": "markdown",
   "id": "fe8509ea",
   "metadata": {
    "id": "8-hCGQqW2o2D",
    "papermill": {
     "duration": 0.06772,
     "end_time": "2021-09-22T17:59:36.942429",
     "exception": false,
     "start_time": "2021-09-22T17:59:36.874709",
     "status": "completed"
    },
    "tags": []
   },
   "source": [
    "# Files "
   ]
  },
  {
   "cell_type": "markdown",
   "id": "a7cc49b4",
   "metadata": {
    "id": "OoY1m43i24nU",
    "papermill": {
     "duration": 0.065745,
     "end_time": "2021-09-22T17:59:37.075601",
     "exception": false,
     "start_time": "2021-09-22T17:59:37.009856",
     "status": "completed"
    },
    "tags": []
   },
   "source": [
    "## Dataset load"
   ]
  },
  {
   "cell_type": "code",
   "execution_count": 2,
   "id": "40ae11d7",
   "metadata": {
    "execution": {
     "iopub.execute_input": "2021-09-22T17:59:37.209927Z",
     "iopub.status.busy": "2021-09-22T17:59:37.209276Z",
     "iopub.status.idle": "2021-09-22T17:59:43.066900Z",
     "shell.execute_reply": "2021-09-22T17:59:43.067607Z",
     "shell.execute_reply.started": "2021-09-22T15:13:18.637953Z"
    },
    "id": "k0bHQUy31HL_",
    "papermill": {
     "duration": 5.927,
     "end_time": "2021-09-22T17:59:43.067812",
     "exception": false,
     "start_time": "2021-09-22T17:59:37.140812",
     "status": "completed"
    },
    "tags": []
   },
   "outputs": [],
   "source": [
    "dataset = pd.read_csv(\"/kaggle/input/twitter-sentiment-analysis-and-word-embeddings/Dataset/training_dataset.csv\", encoding=\"latin\", header=None)"
   ]
  },
  {
   "cell_type": "markdown",
   "id": "10698204",
   "metadata": {
    "id": "o9_eOnd67Qpr",
    "papermill": {
     "duration": 0.104001,
     "end_time": "2021-09-22T17:59:43.294212",
     "exception": false,
     "start_time": "2021-09-22T17:59:43.190211",
     "status": "completed"
    },
    "tags": []
   },
   "source": [
    "# Show some examples"
   ]
  },
  {
   "cell_type": "code",
   "execution_count": 3,
   "id": "e44f66d4",
   "metadata": {
    "execution": {
     "iopub.execute_input": "2021-09-22T17:59:43.444642Z",
     "iopub.status.busy": "2021-09-22T17:59:43.443805Z",
     "iopub.status.idle": "2021-09-22T17:59:43.461329Z",
     "shell.execute_reply": "2021-09-22T17:59:43.461723Z",
     "shell.execute_reply.started": "2021-09-22T15:13:24.881886Z"
    },
    "id": "tPuZ_Aht7QC5",
    "outputId": "b79de459-6d91-411b-feb3-1cb39e67a14a",
    "papermill": {
     "duration": 0.087033,
     "end_time": "2021-09-22T17:59:43.461907",
     "exception": false,
     "start_time": "2021-09-22T17:59:43.374874",
     "status": "completed"
    },
    "tags": []
   },
   "outputs": [
    {
     "data": {
      "text/html": [
       "<div>\n",
       "<style scoped>\n",
       "    .dataframe tbody tr th:only-of-type {\n",
       "        vertical-align: middle;\n",
       "    }\n",
       "\n",
       "    .dataframe tbody tr th {\n",
       "        vertical-align: top;\n",
       "    }\n",
       "\n",
       "    .dataframe thead th {\n",
       "        text-align: right;\n",
       "    }\n",
       "</style>\n",
       "<table border=\"1\" class=\"dataframe\">\n",
       "  <thead>\n",
       "    <tr style=\"text-align: right;\">\n",
       "      <th></th>\n",
       "      <th>0</th>\n",
       "      <th>1</th>\n",
       "      <th>2</th>\n",
       "      <th>3</th>\n",
       "      <th>4</th>\n",
       "      <th>5</th>\n",
       "    </tr>\n",
       "  </thead>\n",
       "  <tbody>\n",
       "    <tr>\n",
       "      <th>0</th>\n",
       "      <td>0</td>\n",
       "      <td>1467810369</td>\n",
       "      <td>Mon Apr 06 22:19:45 PDT 2009</td>\n",
       "      <td>NO_QUERY</td>\n",
       "      <td>_TheSpecialOne_</td>\n",
       "      <td>@switchfoot http://twitpic.com/2y1zl - Awww, t...</td>\n",
       "    </tr>\n",
       "    <tr>\n",
       "      <th>1</th>\n",
       "      <td>0</td>\n",
       "      <td>1467810672</td>\n",
       "      <td>Mon Apr 06 22:19:49 PDT 2009</td>\n",
       "      <td>NO_QUERY</td>\n",
       "      <td>scotthamilton</td>\n",
       "      <td>is upset that he can't update his Facebook by ...</td>\n",
       "    </tr>\n",
       "    <tr>\n",
       "      <th>2</th>\n",
       "      <td>0</td>\n",
       "      <td>1467810917</td>\n",
       "      <td>Mon Apr 06 22:19:53 PDT 2009</td>\n",
       "      <td>NO_QUERY</td>\n",
       "      <td>mattycus</td>\n",
       "      <td>@Kenichan I dived many times for the ball. Man...</td>\n",
       "    </tr>\n",
       "    <tr>\n",
       "      <th>3</th>\n",
       "      <td>0</td>\n",
       "      <td>1467811184</td>\n",
       "      <td>Mon Apr 06 22:19:57 PDT 2009</td>\n",
       "      <td>NO_QUERY</td>\n",
       "      <td>ElleCTF</td>\n",
       "      <td>my whole body feels itchy and like its on fire</td>\n",
       "    </tr>\n",
       "    <tr>\n",
       "      <th>4</th>\n",
       "      <td>0</td>\n",
       "      <td>1467811193</td>\n",
       "      <td>Mon Apr 06 22:19:57 PDT 2009</td>\n",
       "      <td>NO_QUERY</td>\n",
       "      <td>Karoli</td>\n",
       "      <td>@nationwideclass no, it's not behaving at all....</td>\n",
       "    </tr>\n",
       "  </tbody>\n",
       "</table>\n",
       "</div>"
      ],
      "text/plain": [
       "   0           1                             2         3                4  \\\n",
       "0  0  1467810369  Mon Apr 06 22:19:45 PDT 2009  NO_QUERY  _TheSpecialOne_   \n",
       "1  0  1467810672  Mon Apr 06 22:19:49 PDT 2009  NO_QUERY    scotthamilton   \n",
       "2  0  1467810917  Mon Apr 06 22:19:53 PDT 2009  NO_QUERY         mattycus   \n",
       "3  0  1467811184  Mon Apr 06 22:19:57 PDT 2009  NO_QUERY          ElleCTF   \n",
       "4  0  1467811193  Mon Apr 06 22:19:57 PDT 2009  NO_QUERY           Karoli   \n",
       "\n",
       "                                                   5  \n",
       "0  @switchfoot http://twitpic.com/2y1zl - Awww, t...  \n",
       "1  is upset that he can't update his Facebook by ...  \n",
       "2  @Kenichan I dived many times for the ball. Man...  \n",
       "3    my whole body feels itchy and like its on fire   \n",
       "4  @nationwideclass no, it's not behaving at all....  "
      ]
     },
     "execution_count": 3,
     "metadata": {},
     "output_type": "execute_result"
    }
   ],
   "source": [
    "dataset.head(5)"
   ]
  },
  {
   "cell_type": "markdown",
   "id": "e7d865c5",
   "metadata": {
    "id": "s-z4s8BS3ffz",
    "papermill": {
     "duration": 0.062858,
     "end_time": "2021-09-22T17:59:43.588558",
     "exception": false,
     "start_time": "2021-09-22T17:59:43.525700",
     "status": "completed"
    },
    "tags": []
   },
   "source": [
    "# Setting headers"
   ]
  },
  {
   "cell_type": "code",
   "execution_count": 4,
   "id": "fccfab86",
   "metadata": {
    "execution": {
     "iopub.execute_input": "2021-09-22T17:59:43.719097Z",
     "iopub.status.busy": "2021-09-22T17:59:43.718308Z",
     "iopub.status.idle": "2021-09-22T17:59:43.720318Z",
     "shell.execute_reply": "2021-09-22T17:59:43.720668Z",
     "shell.execute_reply.started": "2021-09-22T15:13:24.908607Z"
    },
    "id": "BzL75RoC2zrt",
    "papermill": {
     "duration": 0.069398,
     "end_time": "2021-09-22T17:59:43.720790",
     "exception": false,
     "start_time": "2021-09-22T17:59:43.651392",
     "status": "completed"
    },
    "tags": []
   },
   "outputs": [],
   "source": [
    "column_names = [\"target\",\"id\",\"date\",\"query\",\"username\",\"content\"]\n",
    "dataset.columns = column_names"
   ]
  },
  {
   "cell_type": "markdown",
   "id": "3d85aba4",
   "metadata": {
    "id": "1xOOdN0W8BNd",
    "papermill": {
     "duration": 0.063162,
     "end_time": "2021-09-22T17:59:43.846665",
     "exception": false,
     "start_time": "2021-09-22T17:59:43.783503",
     "status": "completed"
    },
    "tags": []
   },
   "source": [
    "## Result "
   ]
  },
  {
   "cell_type": "code",
   "execution_count": 5,
   "id": "c1ae8e93",
   "metadata": {
    "execution": {
     "iopub.execute_input": "2021-09-22T17:59:43.985445Z",
     "iopub.status.busy": "2021-09-22T17:59:43.984775Z",
     "iopub.status.idle": "2021-09-22T17:59:43.987511Z",
     "shell.execute_reply": "2021-09-22T17:59:43.987901Z",
     "shell.execute_reply.started": "2021-09-22T15:13:24.914518Z"
    },
    "id": "TIDAVUeM3dH-",
    "outputId": "74f9c012-e9a9-4b10-cf86-b1413eb7d258",
    "papermill": {
     "duration": 0.077825,
     "end_time": "2021-09-22T17:59:43.988038",
     "exception": false,
     "start_time": "2021-09-22T17:59:43.910213",
     "status": "completed"
    },
    "tags": []
   },
   "outputs": [
    {
     "data": {
      "text/html": [
       "<div>\n",
       "<style scoped>\n",
       "    .dataframe tbody tr th:only-of-type {\n",
       "        vertical-align: middle;\n",
       "    }\n",
       "\n",
       "    .dataframe tbody tr th {\n",
       "        vertical-align: top;\n",
       "    }\n",
       "\n",
       "    .dataframe thead th {\n",
       "        text-align: right;\n",
       "    }\n",
       "</style>\n",
       "<table border=\"1\" class=\"dataframe\">\n",
       "  <thead>\n",
       "    <tr style=\"text-align: right;\">\n",
       "      <th></th>\n",
       "      <th>target</th>\n",
       "      <th>id</th>\n",
       "      <th>date</th>\n",
       "      <th>query</th>\n",
       "      <th>username</th>\n",
       "      <th>content</th>\n",
       "    </tr>\n",
       "  </thead>\n",
       "  <tbody>\n",
       "    <tr>\n",
       "      <th>0</th>\n",
       "      <td>0</td>\n",
       "      <td>1467810369</td>\n",
       "      <td>Mon Apr 06 22:19:45 PDT 2009</td>\n",
       "      <td>NO_QUERY</td>\n",
       "      <td>_TheSpecialOne_</td>\n",
       "      <td>@switchfoot http://twitpic.com/2y1zl - Awww, t...</td>\n",
       "    </tr>\n",
       "    <tr>\n",
       "      <th>1</th>\n",
       "      <td>0</td>\n",
       "      <td>1467810672</td>\n",
       "      <td>Mon Apr 06 22:19:49 PDT 2009</td>\n",
       "      <td>NO_QUERY</td>\n",
       "      <td>scotthamilton</td>\n",
       "      <td>is upset that he can't update his Facebook by ...</td>\n",
       "    </tr>\n",
       "    <tr>\n",
       "      <th>2</th>\n",
       "      <td>0</td>\n",
       "      <td>1467810917</td>\n",
       "      <td>Mon Apr 06 22:19:53 PDT 2009</td>\n",
       "      <td>NO_QUERY</td>\n",
       "      <td>mattycus</td>\n",
       "      <td>@Kenichan I dived many times for the ball. Man...</td>\n",
       "    </tr>\n",
       "    <tr>\n",
       "      <th>3</th>\n",
       "      <td>0</td>\n",
       "      <td>1467811184</td>\n",
       "      <td>Mon Apr 06 22:19:57 PDT 2009</td>\n",
       "      <td>NO_QUERY</td>\n",
       "      <td>ElleCTF</td>\n",
       "      <td>my whole body feels itchy and like its on fire</td>\n",
       "    </tr>\n",
       "    <tr>\n",
       "      <th>4</th>\n",
       "      <td>0</td>\n",
       "      <td>1467811193</td>\n",
       "      <td>Mon Apr 06 22:19:57 PDT 2009</td>\n",
       "      <td>NO_QUERY</td>\n",
       "      <td>Karoli</td>\n",
       "      <td>@nationwideclass no, it's not behaving at all....</td>\n",
       "    </tr>\n",
       "  </tbody>\n",
       "</table>\n",
       "</div>"
      ],
      "text/plain": [
       "   target          id                          date     query  \\\n",
       "0       0  1467810369  Mon Apr 06 22:19:45 PDT 2009  NO_QUERY   \n",
       "1       0  1467810672  Mon Apr 06 22:19:49 PDT 2009  NO_QUERY   \n",
       "2       0  1467810917  Mon Apr 06 22:19:53 PDT 2009  NO_QUERY   \n",
       "3       0  1467811184  Mon Apr 06 22:19:57 PDT 2009  NO_QUERY   \n",
       "4       0  1467811193  Mon Apr 06 22:19:57 PDT 2009  NO_QUERY   \n",
       "\n",
       "          username                                            content  \n",
       "0  _TheSpecialOne_  @switchfoot http://twitpic.com/2y1zl - Awww, t...  \n",
       "1    scotthamilton  is upset that he can't update his Facebook by ...  \n",
       "2         mattycus  @Kenichan I dived many times for the ball. Man...  \n",
       "3          ElleCTF    my whole body feels itchy and like its on fire   \n",
       "4           Karoli  @nationwideclass no, it's not behaving at all....  "
      ]
     },
     "execution_count": 5,
     "metadata": {},
     "output_type": "execute_result"
    }
   ],
   "source": [
    "dataset.head(5)"
   ]
  },
  {
   "cell_type": "markdown",
   "id": "07f26a9b",
   "metadata": {
    "id": "x6f8D7BM9pXq",
    "papermill": {
     "duration": 0.063554,
     "end_time": "2021-09-22T17:59:44.115409",
     "exception": false,
     "start_time": "2021-09-22T17:59:44.051855",
     "status": "completed"
    },
    "tags": []
   },
   "source": [
    "# Explore data"
   ]
  },
  {
   "cell_type": "markdown",
   "id": "9a14c43b",
   "metadata": {
    "id": "2YaoqG3b9C0Y",
    "papermill": {
     "duration": 0.064527,
     "end_time": "2021-09-22T17:59:44.243347",
     "exception": false,
     "start_time": "2021-09-22T17:59:44.178820",
     "status": "completed"
    },
    "tags": []
   },
   "source": [
    "## Check for missing values"
   ]
  },
  {
   "cell_type": "code",
   "execution_count": 6,
   "id": "c9851ac6",
   "metadata": {
    "execution": {
     "iopub.execute_input": "2021-09-22T17:59:44.375638Z",
     "iopub.status.busy": "2021-09-22T17:59:44.374764Z",
     "iopub.status.idle": "2021-09-22T17:59:44.946745Z",
     "shell.execute_reply": "2021-09-22T17:59:44.947179Z",
     "shell.execute_reply.started": "2021-09-22T15:13:24.931751Z"
    },
    "id": "xhED0yWp7ihG",
    "outputId": "69eba5ef-81e0-41ca-9af0-3c2b55c4d0eb",
    "papermill": {
     "duration": 0.640537,
     "end_time": "2021-09-22T17:59:44.947328",
     "exception": false,
     "start_time": "2021-09-22T17:59:44.306791",
     "status": "completed"
    },
    "tags": []
   },
   "outputs": [
    {
     "data": {
      "text/plain": [
       "target      0\n",
       "id          0\n",
       "date        0\n",
       "query       0\n",
       "username    0\n",
       "content     0\n",
       "dtype: int64"
      ]
     },
     "execution_count": 6,
     "metadata": {},
     "output_type": "execute_result"
    }
   ],
   "source": [
    "missing_values = dataset.isna().sum()\n",
    "missing_values"
   ]
  },
  {
   "cell_type": "markdown",
   "id": "8a0c6461",
   "metadata": {
    "id": "JO4eJJq-9xcr",
    "papermill": {
     "duration": 0.064774,
     "end_time": "2021-09-22T17:59:45.077125",
     "exception": false,
     "start_time": "2021-09-22T17:59:45.012351",
     "status": "completed"
    },
    "tags": []
   },
   "source": [
    "\n",
    "\n",
    "```\n",
    " There are 0 missing values within this dataset\n",
    "```\n",
    "\n"
   ]
  },
  {
   "cell_type": "markdown",
   "id": "68444019",
   "metadata": {
    "id": "cSq9QERv-jvp",
    "papermill": {
     "duration": 0.063932,
     "end_time": "2021-09-22T17:59:45.208489",
     "exception": false,
     "start_time": "2021-09-22T17:59:45.144557",
     "status": "completed"
    },
    "tags": []
   },
   "source": [
    "## Target distribution "
   ]
  },
  {
   "cell_type": "markdown",
   "id": "1d685b38",
   "metadata": {
    "id": "K8tlUnkH-nZQ",
    "papermill": {
     "duration": 0.06383,
     "end_time": "2021-09-22T17:59:45.341011",
     "exception": false,
     "start_time": "2021-09-22T17:59:45.277181",
     "status": "completed"
    },
    "tags": []
   },
   "source": [
    "### Negative samples : *target = 0*"
   ]
  },
  {
   "cell_type": "markdown",
   "id": "fc383742",
   "metadata": {
    "id": "nsdSJiGIANXH",
    "papermill": {
     "duration": 0.064049,
     "end_time": "2021-09-22T17:59:45.469611",
     "exception": false,
     "start_time": "2021-09-22T17:59:45.405562",
     "status": "completed"
    },
    "tags": []
   },
   "source": [
    "#### Display some examples"
   ]
  },
  {
   "cell_type": "code",
   "execution_count": 7,
   "id": "06c8ddff",
   "metadata": {
    "execution": {
     "iopub.execute_input": "2021-09-22T17:59:45.603871Z",
     "iopub.status.busy": "2021-09-22T17:59:45.603154Z",
     "iopub.status.idle": "2021-09-22T17:59:45.687745Z",
     "shell.execute_reply": "2021-09-22T17:59:45.688137Z",
     "shell.execute_reply.started": "2021-09-22T15:13:25.522770Z"
    },
    "id": "Uv8bxTGD9V3l",
    "outputId": "0c83028f-78f0-4bd5-d8eb-c44dd6a1dc47",
    "papermill": {
     "duration": 0.154792,
     "end_time": "2021-09-22T17:59:45.688287",
     "exception": false,
     "start_time": "2021-09-22T17:59:45.533495",
     "status": "completed"
    },
    "tags": []
   },
   "outputs": [
    {
     "data": {
      "text/html": [
       "<div>\n",
       "<style scoped>\n",
       "    .dataframe tbody tr th:only-of-type {\n",
       "        vertical-align: middle;\n",
       "    }\n",
       "\n",
       "    .dataframe tbody tr th {\n",
       "        vertical-align: top;\n",
       "    }\n",
       "\n",
       "    .dataframe thead th {\n",
       "        text-align: right;\n",
       "    }\n",
       "</style>\n",
       "<table border=\"1\" class=\"dataframe\">\n",
       "  <thead>\n",
       "    <tr style=\"text-align: right;\">\n",
       "      <th></th>\n",
       "      <th>target</th>\n",
       "      <th>id</th>\n",
       "      <th>date</th>\n",
       "      <th>query</th>\n",
       "      <th>username</th>\n",
       "      <th>content</th>\n",
       "    </tr>\n",
       "  </thead>\n",
       "  <tbody>\n",
       "    <tr>\n",
       "      <th>0</th>\n",
       "      <td>0</td>\n",
       "      <td>1467810369</td>\n",
       "      <td>Mon Apr 06 22:19:45 PDT 2009</td>\n",
       "      <td>NO_QUERY</td>\n",
       "      <td>_TheSpecialOne_</td>\n",
       "      <td>@switchfoot http://twitpic.com/2y1zl - Awww, t...</td>\n",
       "    </tr>\n",
       "    <tr>\n",
       "      <th>1</th>\n",
       "      <td>0</td>\n",
       "      <td>1467810672</td>\n",
       "      <td>Mon Apr 06 22:19:49 PDT 2009</td>\n",
       "      <td>NO_QUERY</td>\n",
       "      <td>scotthamilton</td>\n",
       "      <td>is upset that he can't update his Facebook by ...</td>\n",
       "    </tr>\n",
       "    <tr>\n",
       "      <th>2</th>\n",
       "      <td>0</td>\n",
       "      <td>1467810917</td>\n",
       "      <td>Mon Apr 06 22:19:53 PDT 2009</td>\n",
       "      <td>NO_QUERY</td>\n",
       "      <td>mattycus</td>\n",
       "      <td>@Kenichan I dived many times for the ball. Man...</td>\n",
       "    </tr>\n",
       "    <tr>\n",
       "      <th>3</th>\n",
       "      <td>0</td>\n",
       "      <td>1467811184</td>\n",
       "      <td>Mon Apr 06 22:19:57 PDT 2009</td>\n",
       "      <td>NO_QUERY</td>\n",
       "      <td>ElleCTF</td>\n",
       "      <td>my whole body feels itchy and like its on fire</td>\n",
       "    </tr>\n",
       "    <tr>\n",
       "      <th>4</th>\n",
       "      <td>0</td>\n",
       "      <td>1467811193</td>\n",
       "      <td>Mon Apr 06 22:19:57 PDT 2009</td>\n",
       "      <td>NO_QUERY</td>\n",
       "      <td>Karoli</td>\n",
       "      <td>@nationwideclass no, it's not behaving at all....</td>\n",
       "    </tr>\n",
       "  </tbody>\n",
       "</table>\n",
       "</div>"
      ],
      "text/plain": [
       "   target          id                          date     query  \\\n",
       "0       0  1467810369  Mon Apr 06 22:19:45 PDT 2009  NO_QUERY   \n",
       "1       0  1467810672  Mon Apr 06 22:19:49 PDT 2009  NO_QUERY   \n",
       "2       0  1467810917  Mon Apr 06 22:19:53 PDT 2009  NO_QUERY   \n",
       "3       0  1467811184  Mon Apr 06 22:19:57 PDT 2009  NO_QUERY   \n",
       "4       0  1467811193  Mon Apr 06 22:19:57 PDT 2009  NO_QUERY   \n",
       "\n",
       "          username                                            content  \n",
       "0  _TheSpecialOne_  @switchfoot http://twitpic.com/2y1zl - Awww, t...  \n",
       "1    scotthamilton  is upset that he can't update his Facebook by ...  \n",
       "2         mattycus  @Kenichan I dived many times for the ball. Man...  \n",
       "3          ElleCTF    my whole body feels itchy and like its on fire   \n",
       "4           Karoli  @nationwideclass no, it's not behaving at all....  "
      ]
     },
     "execution_count": 7,
     "metadata": {},
     "output_type": "execute_result"
    }
   ],
   "source": [
    "negative_samples = dataset[dataset[\"target\"]==0]\n",
    "negative_samples.head()"
   ]
  },
  {
   "cell_type": "markdown",
   "id": "6836d068",
   "metadata": {
    "id": "prqugzCzAQ6P",
    "papermill": {
     "duration": 0.064644,
     "end_time": "2021-09-22T17:59:45.817509",
     "exception": false,
     "start_time": "2021-09-22T17:59:45.752865",
     "status": "completed"
    },
    "tags": []
   },
   "source": [
    "#### Show count"
   ]
  },
  {
   "cell_type": "code",
   "execution_count": 8,
   "id": "dadaaf8f",
   "metadata": {
    "execution": {
     "iopub.execute_input": "2021-09-22T17:59:45.951440Z",
     "iopub.status.busy": "2021-09-22T17:59:45.950885Z",
     "iopub.status.idle": "2021-09-22T17:59:45.955647Z",
     "shell.execute_reply": "2021-09-22T17:59:45.955213Z",
     "shell.execute_reply.started": "2021-09-22T15:13:25.624320Z"
    },
    "id": "O6Zba76H-17c",
    "outputId": "19449631-06a7-43c3-fff3-f2d407e4c4d1",
    "papermill": {
     "duration": 0.073715,
     "end_time": "2021-09-22T17:59:45.955760",
     "exception": false,
     "start_time": "2021-09-22T17:59:45.882045",
     "status": "completed"
    },
    "tags": []
   },
   "outputs": [
    {
     "name": "stdout",
     "output_type": "stream",
     "text": [
      "Number of negative samples : 800000\n"
     ]
    }
   ],
   "source": [
    "negative_samples_count = len(negative_samples)\n",
    "print(f\"Number of negative samples : {negative_samples_count}\")"
   ]
  },
  {
   "cell_type": "markdown",
   "id": "37c6f311",
   "metadata": {
    "id": "KM1ZuqFEA6x3",
    "papermill": {
     "duration": 0.064927,
     "end_time": "2021-09-22T17:59:46.086467",
     "exception": false,
     "start_time": "2021-09-22T17:59:46.021540",
     "status": "completed"
    },
    "tags": []
   },
   "source": [
    "### Neutral samples : *target=2*"
   ]
  },
  {
   "cell_type": "markdown",
   "id": "aefe0969",
   "metadata": {
    "id": "97HrhrQJBOo7",
    "papermill": {
     "duration": 0.109678,
     "end_time": "2021-09-22T17:59:46.302188",
     "exception": false,
     "start_time": "2021-09-22T17:59:46.192510",
     "status": "completed"
    },
    "tags": []
   },
   "source": [
    "#### Display some examples"
   ]
  },
  {
   "cell_type": "code",
   "execution_count": 9,
   "id": "d36c1f04",
   "metadata": {
    "execution": {
     "iopub.execute_input": "2021-09-22T17:59:46.534538Z",
     "iopub.status.busy": "2021-09-22T17:59:46.533742Z",
     "iopub.status.idle": "2021-09-22T17:59:46.545327Z",
     "shell.execute_reply": "2021-09-22T17:59:46.546465Z",
     "shell.execute_reply.started": "2021-09-22T15:13:25.631176Z"
    },
    "id": "6DT7jZMCAecG",
    "outputId": "3ada8019-9f04-4135-c142-f622fe23164e",
    "papermill": {
     "duration": 0.135794,
     "end_time": "2021-09-22T17:59:46.546651",
     "exception": false,
     "start_time": "2021-09-22T17:59:46.410857",
     "status": "completed"
    },
    "tags": []
   },
   "outputs": [
    {
     "data": {
      "text/html": [
       "<div>\n",
       "<style scoped>\n",
       "    .dataframe tbody tr th:only-of-type {\n",
       "        vertical-align: middle;\n",
       "    }\n",
       "\n",
       "    .dataframe tbody tr th {\n",
       "        vertical-align: top;\n",
       "    }\n",
       "\n",
       "    .dataframe thead th {\n",
       "        text-align: right;\n",
       "    }\n",
       "</style>\n",
       "<table border=\"1\" class=\"dataframe\">\n",
       "  <thead>\n",
       "    <tr style=\"text-align: right;\">\n",
       "      <th></th>\n",
       "      <th>target</th>\n",
       "      <th>id</th>\n",
       "      <th>date</th>\n",
       "      <th>query</th>\n",
       "      <th>username</th>\n",
       "      <th>content</th>\n",
       "    </tr>\n",
       "  </thead>\n",
       "  <tbody>\n",
       "  </tbody>\n",
       "</table>\n",
       "</div>"
      ],
      "text/plain": [
       "Empty DataFrame\n",
       "Columns: [target, id, date, query, username, content]\n",
       "Index: []"
      ]
     },
     "execution_count": 9,
     "metadata": {},
     "output_type": "execute_result"
    }
   ],
   "source": [
    "neutral_samples = dataset[dataset[\"target\"]==2]\n",
    "neutral_samples.head(5)"
   ]
  },
  {
   "cell_type": "markdown",
   "id": "c57ee13c",
   "metadata": {
    "id": "jZc0FQiKCBK5",
    "papermill": {
     "duration": 0.073793,
     "end_time": "2021-09-22T17:59:46.734870",
     "exception": false,
     "start_time": "2021-09-22T17:59:46.661077",
     "status": "completed"
    },
    "tags": []
   },
   "source": [
    "#### Show count"
   ]
  },
  {
   "cell_type": "code",
   "execution_count": 10,
   "id": "0d5a65ef",
   "metadata": {
    "execution": {
     "iopub.execute_input": "2021-09-22T17:59:46.869680Z",
     "iopub.status.busy": "2021-09-22T17:59:46.869054Z",
     "iopub.status.idle": "2021-09-22T17:59:46.872128Z",
     "shell.execute_reply": "2021-09-22T17:59:46.872746Z",
     "shell.execute_reply.started": "2021-09-22T15:13:25.653119Z"
    },
    "id": "vdBUfV1IBYGa",
    "outputId": "0f6a8ba5-d0a2-4955-b387-6cfcfe872cbd",
    "papermill": {
     "duration": 0.072992,
     "end_time": "2021-09-22T17:59:46.872918",
     "exception": false,
     "start_time": "2021-09-22T17:59:46.799926",
     "status": "completed"
    },
    "tags": []
   },
   "outputs": [
    {
     "name": "stdout",
     "output_type": "stream",
     "text": [
      "Number of neutral samples : 0\n"
     ]
    }
   ],
   "source": [
    "neutral_samples_count = len(neutral_samples)\n",
    "print(f\"Number of neutral samples : {neutral_samples_count}\")"
   ]
  },
  {
   "cell_type": "markdown",
   "id": "0937f666",
   "metadata": {
    "id": "VHOQYpNmCL6-",
    "papermill": {
     "duration": 0.065326,
     "end_time": "2021-09-22T17:59:47.005136",
     "exception": false,
     "start_time": "2021-09-22T17:59:46.939810",
     "status": "completed"
    },
    "tags": []
   },
   "source": [
    "\n",
    "\n",
    "```\n",
    "0 neutral sample ? Wow\n",
    "```\n",
    "\n"
   ]
  },
  {
   "cell_type": "markdown",
   "id": "b87686d6",
   "metadata": {
    "id": "NqkK7OZXCROU",
    "papermill": {
     "duration": 0.065335,
     "end_time": "2021-09-22T17:59:47.137508",
     "exception": false,
     "start_time": "2021-09-22T17:59:47.072173",
     "status": "completed"
    },
    "tags": []
   },
   "source": [
    "### Positive samples"
   ]
  },
  {
   "cell_type": "markdown",
   "id": "0f4fbc7b",
   "metadata": {
    "id": "Dcvq0b1VCYOX",
    "papermill": {
     "duration": 0.065651,
     "end_time": "2021-09-22T17:59:47.305871",
     "exception": false,
     "start_time": "2021-09-22T17:59:47.240220",
     "status": "completed"
    },
    "tags": []
   },
   "source": [
    "#### Display some results "
   ]
  },
  {
   "cell_type": "code",
   "execution_count": 11,
   "id": "a0bac13f",
   "metadata": {
    "execution": {
     "iopub.execute_input": "2021-09-22T17:59:47.445021Z",
     "iopub.status.busy": "2021-09-22T17:59:47.444259Z",
     "iopub.status.idle": "2021-09-22T17:59:47.507794Z",
     "shell.execute_reply": "2021-09-22T17:59:47.508219Z",
     "shell.execute_reply.started": "2021-09-22T15:13:25.658775Z"
    },
    "id": "sre7a5oBCQ1Q",
    "outputId": "3b46ce62-a57a-400a-900c-5edfe72418b7",
    "papermill": {
     "duration": 0.137381,
     "end_time": "2021-09-22T17:59:47.508385",
     "exception": false,
     "start_time": "2021-09-22T17:59:47.371004",
     "status": "completed"
    },
    "tags": []
   },
   "outputs": [
    {
     "data": {
      "text/html": [
       "<div>\n",
       "<style scoped>\n",
       "    .dataframe tbody tr th:only-of-type {\n",
       "        vertical-align: middle;\n",
       "    }\n",
       "\n",
       "    .dataframe tbody tr th {\n",
       "        vertical-align: top;\n",
       "    }\n",
       "\n",
       "    .dataframe thead th {\n",
       "        text-align: right;\n",
       "    }\n",
       "</style>\n",
       "<table border=\"1\" class=\"dataframe\">\n",
       "  <thead>\n",
       "    <tr style=\"text-align: right;\">\n",
       "      <th></th>\n",
       "      <th>target</th>\n",
       "      <th>id</th>\n",
       "      <th>date</th>\n",
       "      <th>query</th>\n",
       "      <th>username</th>\n",
       "      <th>content</th>\n",
       "    </tr>\n",
       "  </thead>\n",
       "  <tbody>\n",
       "    <tr>\n",
       "      <th>800000</th>\n",
       "      <td>4</td>\n",
       "      <td>1467822272</td>\n",
       "      <td>Mon Apr 06 22:22:45 PDT 2009</td>\n",
       "      <td>NO_QUERY</td>\n",
       "      <td>ersle</td>\n",
       "      <td>I LOVE @Health4UandPets u guys r the best!!</td>\n",
       "    </tr>\n",
       "    <tr>\n",
       "      <th>800001</th>\n",
       "      <td>4</td>\n",
       "      <td>1467822273</td>\n",
       "      <td>Mon Apr 06 22:22:45 PDT 2009</td>\n",
       "      <td>NO_QUERY</td>\n",
       "      <td>becca210</td>\n",
       "      <td>im meeting up with one of my besties tonight! ...</td>\n",
       "    </tr>\n",
       "    <tr>\n",
       "      <th>800002</th>\n",
       "      <td>4</td>\n",
       "      <td>1467822283</td>\n",
       "      <td>Mon Apr 06 22:22:46 PDT 2009</td>\n",
       "      <td>NO_QUERY</td>\n",
       "      <td>Wingman29</td>\n",
       "      <td>@DaRealSunisaKim Thanks for the Twitter add, S...</td>\n",
       "    </tr>\n",
       "    <tr>\n",
       "      <th>800003</th>\n",
       "      <td>4</td>\n",
       "      <td>1467822287</td>\n",
       "      <td>Mon Apr 06 22:22:46 PDT 2009</td>\n",
       "      <td>NO_QUERY</td>\n",
       "      <td>katarinka</td>\n",
       "      <td>Being sick can be really cheap when it hurts t...</td>\n",
       "    </tr>\n",
       "    <tr>\n",
       "      <th>800004</th>\n",
       "      <td>4</td>\n",
       "      <td>1467822293</td>\n",
       "      <td>Mon Apr 06 22:22:46 PDT 2009</td>\n",
       "      <td>NO_QUERY</td>\n",
       "      <td>_EmilyYoung</td>\n",
       "      <td>@LovesBrooklyn2 he has that effect on everyone</td>\n",
       "    </tr>\n",
       "  </tbody>\n",
       "</table>\n",
       "</div>"
      ],
      "text/plain": [
       "        target          id                          date     query  \\\n",
       "800000       4  1467822272  Mon Apr 06 22:22:45 PDT 2009  NO_QUERY   \n",
       "800001       4  1467822273  Mon Apr 06 22:22:45 PDT 2009  NO_QUERY   \n",
       "800002       4  1467822283  Mon Apr 06 22:22:46 PDT 2009  NO_QUERY   \n",
       "800003       4  1467822287  Mon Apr 06 22:22:46 PDT 2009  NO_QUERY   \n",
       "800004       4  1467822293  Mon Apr 06 22:22:46 PDT 2009  NO_QUERY   \n",
       "\n",
       "           username                                            content  \n",
       "800000        ersle       I LOVE @Health4UandPets u guys r the best!!   \n",
       "800001     becca210  im meeting up with one of my besties tonight! ...  \n",
       "800002    Wingman29  @DaRealSunisaKim Thanks for the Twitter add, S...  \n",
       "800003    katarinka  Being sick can be really cheap when it hurts t...  \n",
       "800004  _EmilyYoung    @LovesBrooklyn2 he has that effect on everyone   "
      ]
     },
     "execution_count": 11,
     "metadata": {},
     "output_type": "execute_result"
    }
   ],
   "source": [
    "positive_samples = dataset[dataset[\"target\"]==4]\n",
    "positive_samples.head(5)"
   ]
  },
  {
   "cell_type": "markdown",
   "id": "b2c7b3f9",
   "metadata": {
    "id": "7IQcfsgYC1iy",
    "papermill": {
     "duration": 0.065636,
     "end_time": "2021-09-22T17:59:47.640120",
     "exception": false,
     "start_time": "2021-09-22T17:59:47.574484",
     "status": "completed"
    },
    "tags": []
   },
   "source": [
    "#### Show count"
   ]
  },
  {
   "cell_type": "code",
   "execution_count": 12,
   "id": "755d35e2",
   "metadata": {
    "execution": {
     "iopub.execute_input": "2021-09-22T17:59:47.777719Z",
     "iopub.status.busy": "2021-09-22T17:59:47.776190Z",
     "iopub.status.idle": "2021-09-22T17:59:47.779823Z",
     "shell.execute_reply": "2021-09-22T17:59:47.779359Z",
     "shell.execute_reply.started": "2021-09-22T15:13:25.733642Z"
    },
    "id": "LumGz_fvCJj3",
    "outputId": "815f5451-258f-4967-a261-a1e565d14443",
    "papermill": {
     "duration": 0.073887,
     "end_time": "2021-09-22T17:59:47.779948",
     "exception": false,
     "start_time": "2021-09-22T17:59:47.706061",
     "status": "completed"
    },
    "tags": []
   },
   "outputs": [
    {
     "name": "stdout",
     "output_type": "stream",
     "text": [
      "Number of positive samples 800000\n"
     ]
    }
   ],
   "source": [
    "positive_samples_count = len(positive_samples)\n",
    "print(f\"Number of positive samples {positive_samples_count}\")"
   ]
  },
  {
   "cell_type": "markdown",
   "id": "06f8936e",
   "metadata": {
    "id": "tZYiR8QDDfnp",
    "papermill": {
     "duration": 0.06669,
     "end_time": "2021-09-22T17:59:47.913213",
     "exception": false,
     "start_time": "2021-09-22T17:59:47.846523",
     "status": "completed"
    },
    "tags": []
   },
   "source": [
    "## Target distribution plot"
   ]
  },
  {
   "cell_type": "markdown",
   "id": "edb47d4d",
   "metadata": {
    "id": "7Am3AkLNEF9e",
    "papermill": {
     "duration": 0.066471,
     "end_time": "2021-09-22T17:59:48.046277",
     "exception": false,
     "start_time": "2021-09-22T17:59:47.979806",
     "status": "completed"
    },
    "tags": []
   },
   "source": [
    "#### Defining data"
   ]
  },
  {
   "cell_type": "code",
   "execution_count": 13,
   "id": "726f1450",
   "metadata": {
    "execution": {
     "iopub.execute_input": "2021-09-22T17:59:48.184694Z",
     "iopub.status.busy": "2021-09-22T17:59:48.184131Z",
     "iopub.status.idle": "2021-09-22T17:59:48.187064Z",
     "shell.execute_reply": "2021-09-22T17:59:48.186639Z",
     "shell.execute_reply.started": "2021-09-22T15:13:25.742667Z"
    },
    "id": "5EdHWdBdDej7",
    "papermill": {
     "duration": 0.073822,
     "end_time": "2021-09-22T17:59:48.187166",
     "exception": false,
     "start_time": "2021-09-22T17:59:48.113344",
     "status": "completed"
    },
    "tags": []
   },
   "outputs": [],
   "source": [
    "data = [negative_samples_count, neutral_samples_count, positive_samples_count]\n",
    "labels = [\"Negative\",\"Neutral\",\"Positive\"]"
   ]
  },
  {
   "cell_type": "markdown",
   "id": "8aacf234",
   "metadata": {
    "id": "Uj1-OsBnEJrV",
    "papermill": {
     "duration": 0.070824,
     "end_time": "2021-09-22T17:59:48.324174",
     "exception": false,
     "start_time": "2021-09-22T17:59:48.253350",
     "status": "completed"
    },
    "tags": []
   },
   "source": [
    "#### Define color palette"
   ]
  },
  {
   "cell_type": "code",
   "execution_count": 14,
   "id": "ee43b5bd",
   "metadata": {
    "execution": {
     "iopub.execute_input": "2021-09-22T17:59:48.465649Z",
     "iopub.status.busy": "2021-09-22T17:59:48.464140Z",
     "iopub.status.idle": "2021-09-22T17:59:48.466350Z",
     "shell.execute_reply": "2021-09-22T17:59:48.466778Z",
     "shell.execute_reply.started": "2021-09-22T15:13:25.754687Z"
    },
    "id": "pXz_gP0-DdNQ",
    "papermill": {
     "duration": 0.074492,
     "end_time": "2021-09-22T17:59:48.466901",
     "exception": false,
     "start_time": "2021-09-22T17:59:48.392409",
     "status": "completed"
    },
    "tags": []
   },
   "outputs": [],
   "source": [
    "colors = sns.color_palette(\"pastel\")[0:3]"
   ]
  },
  {
   "cell_type": "markdown",
   "id": "f23b422c",
   "metadata": {
    "id": "ESqP10mDEUhf",
    "papermill": {
     "duration": 0.065639,
     "end_time": "2021-09-22T17:59:48.598988",
     "exception": false,
     "start_time": "2021-09-22T17:59:48.533349",
     "status": "completed"
    },
    "tags": []
   },
   "source": [
    "#### Create pie chart"
   ]
  },
  {
   "cell_type": "code",
   "execution_count": 15,
   "id": "cf356484",
   "metadata": {
    "execution": {
     "iopub.execute_input": "2021-09-22T17:59:48.749901Z",
     "iopub.status.busy": "2021-09-22T17:59:48.749279Z",
     "iopub.status.idle": "2021-09-22T17:59:48.840913Z",
     "shell.execute_reply": "2021-09-22T17:59:48.840511Z",
     "shell.execute_reply.started": "2021-09-22T15:13:25.766092Z"
    },
    "id": "YGGg2baaETLr",
    "outputId": "ed0e2df0-c414-42ce-e69c-6e4320857c1c",
    "papermill": {
     "duration": 0.176003,
     "end_time": "2021-09-22T17:59:48.841042",
     "exception": false,
     "start_time": "2021-09-22T17:59:48.665039",
     "status": "completed"
    },
    "tags": []
   },
   "outputs": [
    {
     "data": {
      "image/png": "[encoded data removed]",
      "text/plain": [
       "<Figure size 432x432 with 1 Axes>"
      ]
     },
     "metadata": {},
     "output_type": "display_data"
    }
   ],
   "source": [
    "plt.figure(figsize=(6,6))\n",
    "plt.title(\"Target distribution\")\n",
    "plt.pie(data, labels=labels, colors=colors, autopct=\"%.0f%%\")\n",
    "plt.show()"
   ]
  },
  {
   "cell_type": "markdown",
   "id": "12c2f646",
   "metadata": {
    "id": "RTZEZqv_HZOE",
    "papermill": {
     "duration": 0.066822,
     "end_time": "2021-09-22T17:59:48.974570",
     "exception": false,
     "start_time": "2021-09-22T17:59:48.907748",
     "status": "completed"
    },
    "tags": []
   },
   "source": [
    "# Preparing data "
   ]
  },
  {
   "cell_type": "markdown",
   "id": "67792fd5",
   "metadata": {
    "id": "yz1BulVbHdGl",
    "papermill": {
     "duration": 0.066887,
     "end_time": "2021-09-22T17:59:49.109267",
     "exception": false,
     "start_time": "2021-09-22T17:59:49.042380",
     "status": "completed"
    },
    "tags": []
   },
   "source": [
    "## Drop unncessary columns"
   ]
  },
  {
   "cell_type": "code",
   "execution_count": 16,
   "id": "c7a07276",
   "metadata": {
    "execution": {
     "iopub.execute_input": "2021-09-22T17:59:49.278309Z",
     "iopub.status.busy": "2021-09-22T17:59:49.245666Z",
     "iopub.status.idle": "2021-09-22T17:59:49.281899Z",
     "shell.execute_reply": "2021-09-22T17:59:49.281491Z",
     "shell.execute_reply.started": "2021-09-22T15:13:25.897874Z"
    },
    "id": "WyZ8e3VLEjfL",
    "papermill": {
     "duration": 0.105324,
     "end_time": "2021-09-22T17:59:49.282031",
     "exception": false,
     "start_time": "2021-09-22T17:59:49.176707",
     "status": "completed"
    },
    "tags": []
   },
   "outputs": [],
   "source": [
    "dataset.drop([\"id\",\"date\",\"query\",\"username\"],axis=1, inplace=True)"
   ]
  },
  {
   "cell_type": "markdown",
   "id": "c282e6c6",
   "metadata": {
    "id": "UMcitFGUHzPC",
    "papermill": {
     "duration": 0.069131,
     "end_time": "2021-09-22T17:59:49.419432",
     "exception": false,
     "start_time": "2021-09-22T17:59:49.350301",
     "status": "completed"
    },
    "tags": []
   },
   "source": [
    "### Result"
   ]
  },
  {
   "cell_type": "code",
   "execution_count": 17,
   "id": "19c09d2a",
   "metadata": {
    "execution": {
     "iopub.execute_input": "2021-09-22T17:59:49.563748Z",
     "iopub.status.busy": "2021-09-22T17:59:49.563095Z",
     "iopub.status.idle": "2021-09-22T17:59:49.566312Z",
     "shell.execute_reply": "2021-09-22T17:59:49.566700Z",
     "shell.execute_reply.started": "2021-09-22T15:13:25.939465Z"
    },
    "id": "KFdq0LhqHysm",
    "outputId": "9a7a159c-7c79-4bef-b162-f07fd3df19d4",
    "papermill": {
     "duration": 0.079834,
     "end_time": "2021-09-22T17:59:49.566821",
     "exception": false,
     "start_time": "2021-09-22T17:59:49.486987",
     "status": "completed"
    },
    "tags": []
   },
   "outputs": [
    {
     "data": {
      "text/html": [
       "<div>\n",
       "<style scoped>\n",
       "    .dataframe tbody tr th:only-of-type {\n",
       "        vertical-align: middle;\n",
       "    }\n",
       "\n",
       "    .dataframe tbody tr th {\n",
       "        vertical-align: top;\n",
       "    }\n",
       "\n",
       "    .dataframe thead th {\n",
       "        text-align: right;\n",
       "    }\n",
       "</style>\n",
       "<table border=\"1\" class=\"dataframe\">\n",
       "  <thead>\n",
       "    <tr style=\"text-align: right;\">\n",
       "      <th></th>\n",
       "      <th>target</th>\n",
       "      <th>content</th>\n",
       "    </tr>\n",
       "  </thead>\n",
       "  <tbody>\n",
       "    <tr>\n",
       "      <th>0</th>\n",
       "      <td>0</td>\n",
       "      <td>@switchfoot http://twitpic.com/2y1zl - Awww, t...</td>\n",
       "    </tr>\n",
       "    <tr>\n",
       "      <th>1</th>\n",
       "      <td>0</td>\n",
       "      <td>is upset that he can't update his Facebook by ...</td>\n",
       "    </tr>\n",
       "    <tr>\n",
       "      <th>2</th>\n",
       "      <td>0</td>\n",
       "      <td>@Kenichan I dived many times for the ball. Man...</td>\n",
       "    </tr>\n",
       "    <tr>\n",
       "      <th>3</th>\n",
       "      <td>0</td>\n",
       "      <td>my whole body feels itchy and like its on fire</td>\n",
       "    </tr>\n",
       "    <tr>\n",
       "      <th>4</th>\n",
       "      <td>0</td>\n",
       "      <td>@nationwideclass no, it's not behaving at all....</td>\n",
       "    </tr>\n",
       "  </tbody>\n",
       "</table>\n",
       "</div>"
      ],
      "text/plain": [
       "   target                                            content\n",
       "0       0  @switchfoot http://twitpic.com/2y1zl - Awww, t...\n",
       "1       0  is upset that he can't update his Facebook by ...\n",
       "2       0  @Kenichan I dived many times for the ball. Man...\n",
       "3       0    my whole body feels itchy and like its on fire \n",
       "4       0  @nationwideclass no, it's not behaving at all...."
      ]
     },
     "execution_count": 17,
     "metadata": {},
     "output_type": "execute_result"
    }
   ],
   "source": [
    "dataset.head(5)"
   ]
  },
  {
   "cell_type": "markdown",
   "id": "72e26396",
   "metadata": {
    "papermill": {
     "duration": 0.075991,
     "end_time": "2021-09-22T17:59:49.719978",
     "exception": false,
     "start_time": "2021-09-22T17:59:49.643987",
     "status": "completed"
    },
    "tags": []
   },
   "source": [
    "## Replace 4 by 1 (TRUE)"
   ]
  },
  {
   "cell_type": "code",
   "execution_count": 18,
   "id": "e4578d34",
   "metadata": {
    "execution": {
     "iopub.execute_input": "2021-09-22T17:59:49.874346Z",
     "iopub.status.busy": "2021-09-22T17:59:49.873391Z",
     "iopub.status.idle": "2021-09-22T17:59:49.893107Z",
     "shell.execute_reply": "2021-09-22T17:59:49.892607Z",
     "shell.execute_reply.started": "2021-09-22T15:13:25.951727Z"
    },
    "papermill": {
     "duration": 0.098687,
     "end_time": "2021-09-22T17:59:49.893247",
     "exception": false,
     "start_time": "2021-09-22T17:59:49.794560",
     "status": "completed"
    },
    "tags": []
   },
   "outputs": [],
   "source": [
    "dataset.target = dataset.target.replace({4: 1})"
   ]
  },
  {
   "cell_type": "markdown",
   "id": "71f53cad",
   "metadata": {
    "papermill": {
     "duration": 0.071978,
     "end_time": "2021-09-22T17:59:50.037759",
     "exception": false,
     "start_time": "2021-09-22T17:59:49.965781",
     "status": "completed"
    },
    "tags": []
   },
   "source": [
    "### Result"
   ]
  },
  {
   "cell_type": "code",
   "execution_count": 19,
   "id": "1dbfdf42",
   "metadata": {
    "execution": {
     "iopub.execute_input": "2021-09-22T17:59:50.188173Z",
     "iopub.status.busy": "2021-09-22T17:59:50.187537Z",
     "iopub.status.idle": "2021-09-22T17:59:50.191999Z",
     "shell.execute_reply": "2021-09-22T17:59:50.192397Z",
     "shell.execute_reply.started": "2021-09-22T15:13:25.976826Z"
    },
    "papermill": {
     "duration": 0.082101,
     "end_time": "2021-09-22T17:59:50.192526",
     "exception": false,
     "start_time": "2021-09-22T17:59:50.110425",
     "status": "completed"
    },
    "tags": []
   },
   "outputs": [
    {
     "data": {
      "text/html": [
       "<div>\n",
       "<style scoped>\n",
       "    .dataframe tbody tr th:only-of-type {\n",
       "        vertical-align: middle;\n",
       "    }\n",
       "\n",
       "    .dataframe tbody tr th {\n",
       "        vertical-align: top;\n",
       "    }\n",
       "\n",
       "    .dataframe thead th {\n",
       "        text-align: right;\n",
       "    }\n",
       "</style>\n",
       "<table border=\"1\" class=\"dataframe\">\n",
       "  <thead>\n",
       "    <tr style=\"text-align: right;\">\n",
       "      <th></th>\n",
       "      <th>target</th>\n",
       "      <th>content</th>\n",
       "    </tr>\n",
       "  </thead>\n",
       "  <tbody>\n",
       "    <tr>\n",
       "      <th>0</th>\n",
       "      <td>0</td>\n",
       "      <td>@switchfoot http://twitpic.com/2y1zl - Awww, t...</td>\n",
       "    </tr>\n",
       "    <tr>\n",
       "      <th>1</th>\n",
       "      <td>0</td>\n",
       "      <td>is upset that he can't update his Facebook by ...</td>\n",
       "    </tr>\n",
       "    <tr>\n",
       "      <th>2</th>\n",
       "      <td>0</td>\n",
       "      <td>@Kenichan I dived many times for the ball. Man...</td>\n",
       "    </tr>\n",
       "    <tr>\n",
       "      <th>3</th>\n",
       "      <td>0</td>\n",
       "      <td>my whole body feels itchy and like its on fire</td>\n",
       "    </tr>\n",
       "    <tr>\n",
       "      <th>4</th>\n",
       "      <td>0</td>\n",
       "      <td>@nationwideclass no, it's not behaving at all....</td>\n",
       "    </tr>\n",
       "  </tbody>\n",
       "</table>\n",
       "</div>"
      ],
      "text/plain": [
       "   target                                            content\n",
       "0       0  @switchfoot http://twitpic.com/2y1zl - Awww, t...\n",
       "1       0  is upset that he can't update his Facebook by ...\n",
       "2       0  @Kenichan I dived many times for the ball. Man...\n",
       "3       0    my whole body feels itchy and like its on fire \n",
       "4       0  @nationwideclass no, it's not behaving at all...."
      ]
     },
     "execution_count": 19,
     "metadata": {},
     "output_type": "execute_result"
    }
   ],
   "source": [
    "dataset.head(5)"
   ]
  },
  {
   "cell_type": "code",
   "execution_count": 20,
   "id": "97721b65",
   "metadata": {
    "execution": {
     "iopub.execute_input": "2021-09-22T17:59:50.336899Z",
     "iopub.status.busy": "2021-09-22T17:59:50.336174Z",
     "iopub.status.idle": "2021-09-22T17:59:50.377258Z",
     "shell.execute_reply": "2021-09-22T17:59:50.377657Z",
     "shell.execute_reply.started": "2021-09-22T15:13:25.988617Z"
    },
    "papermill": {
     "duration": 0.116667,
     "end_time": "2021-09-22T17:59:50.377795",
     "exception": false,
     "start_time": "2021-09-22T17:59:50.261128",
     "status": "completed"
    },
    "tags": []
   },
   "outputs": [
    {
     "data": {
      "text/html": [
       "<div>\n",
       "<style scoped>\n",
       "    .dataframe tbody tr th:only-of-type {\n",
       "        vertical-align: middle;\n",
       "    }\n",
       "\n",
       "    .dataframe tbody tr th {\n",
       "        vertical-align: top;\n",
       "    }\n",
       "\n",
       "    .dataframe thead th {\n",
       "        text-align: right;\n",
       "    }\n",
       "</style>\n",
       "<table border=\"1\" class=\"dataframe\">\n",
       "  <thead>\n",
       "    <tr style=\"text-align: right;\">\n",
       "      <th></th>\n",
       "      <th>target</th>\n",
       "      <th>content</th>\n",
       "    </tr>\n",
       "  </thead>\n",
       "  <tbody>\n",
       "    <tr>\n",
       "      <th>800000</th>\n",
       "      <td>1</td>\n",
       "      <td>I LOVE @Health4UandPets u guys r the best!!</td>\n",
       "    </tr>\n",
       "    <tr>\n",
       "      <th>800001</th>\n",
       "      <td>1</td>\n",
       "      <td>im meeting up with one of my besties tonight! ...</td>\n",
       "    </tr>\n",
       "    <tr>\n",
       "      <th>800002</th>\n",
       "      <td>1</td>\n",
       "      <td>@DaRealSunisaKim Thanks for the Twitter add, S...</td>\n",
       "    </tr>\n",
       "    <tr>\n",
       "      <th>800003</th>\n",
       "      <td>1</td>\n",
       "      <td>Being sick can be really cheap when it hurts t...</td>\n",
       "    </tr>\n",
       "    <tr>\n",
       "      <th>800004</th>\n",
       "      <td>1</td>\n",
       "      <td>@LovesBrooklyn2 he has that effect on everyone</td>\n",
       "    </tr>\n",
       "    <tr>\n",
       "      <th>...</th>\n",
       "      <td>...</td>\n",
       "      <td>...</td>\n",
       "    </tr>\n",
       "    <tr>\n",
       "      <th>1599995</th>\n",
       "      <td>1</td>\n",
       "      <td>Just woke up. Having no school is the best fee...</td>\n",
       "    </tr>\n",
       "    <tr>\n",
       "      <th>1599996</th>\n",
       "      <td>1</td>\n",
       "      <td>TheWDB.com - Very cool to hear old Walt interv...</td>\n",
       "    </tr>\n",
       "    <tr>\n",
       "      <th>1599997</th>\n",
       "      <td>1</td>\n",
       "      <td>Are you ready for your MoJo Makeover? Ask me f...</td>\n",
       "    </tr>\n",
       "    <tr>\n",
       "      <th>1599998</th>\n",
       "      <td>1</td>\n",
       "      <td>Happy 38th Birthday to my boo of alll time!!! ...</td>\n",
       "    </tr>\n",
       "    <tr>\n",
       "      <th>1599999</th>\n",
       "      <td>1</td>\n",
       "      <td>happy #charitytuesday @theNSPCC @SparksCharity...</td>\n",
       "    </tr>\n",
       "  </tbody>\n",
       "</table>\n",
       "<p>800000 rows × 2 columns</p>\n",
       "</div>"
      ],
      "text/plain": [
       "         target                                            content\n",
       "800000        1       I LOVE @Health4UandPets u guys r the best!! \n",
       "800001        1  im meeting up with one of my besties tonight! ...\n",
       "800002        1  @DaRealSunisaKim Thanks for the Twitter add, S...\n",
       "800003        1  Being sick can be really cheap when it hurts t...\n",
       "800004        1    @LovesBrooklyn2 he has that effect on everyone \n",
       "...         ...                                                ...\n",
       "1599995       1  Just woke up. Having no school is the best fee...\n",
       "1599996       1  TheWDB.com - Very cool to hear old Walt interv...\n",
       "1599997       1  Are you ready for your MoJo Makeover? Ask me f...\n",
       "1599998       1  Happy 38th Birthday to my boo of alll time!!! ...\n",
       "1599999       1  happy #charitytuesday @theNSPCC @SparksCharity...\n",
       "\n",
       "[800000 rows x 2 columns]"
      ]
     },
     "execution_count": 20,
     "metadata": {},
     "output_type": "execute_result"
    }
   ],
   "source": [
    "dataset[dataset[\"target\"]==1]"
   ]
  },
  {
   "cell_type": "markdown",
   "id": "f92c403b",
   "metadata": {
    "id": "UBAfnoUyISya",
    "papermill": {
     "duration": 0.069007,
     "end_time": "2021-09-22T17:59:50.516964",
     "exception": false,
     "start_time": "2021-09-22T17:59:50.447957",
     "status": "completed"
    },
    "tags": []
   },
   "source": [
    "## Removing mentions, links, extra spaces from tweets"
   ]
  },
  {
   "cell_type": "code",
   "execution_count": 21,
   "id": "13025613",
   "metadata": {
    "execution": {
     "iopub.execute_input": "2021-09-22T17:59:50.661169Z",
     "iopub.status.busy": "2021-09-22T17:59:50.660616Z",
     "iopub.status.idle": "2021-09-22T17:59:50.664471Z",
     "shell.execute_reply": "2021-09-22T17:59:50.664022Z",
     "shell.execute_reply.started": "2021-09-22T15:13:26.039163Z"
    },
    "id": "ikqW_T2zH13p",
    "papermill": {
     "duration": 0.077222,
     "end_time": "2021-09-22T17:59:50.664597",
     "exception": false,
     "start_time": "2021-09-22T17:59:50.587375",
     "status": "completed"
    },
    "tags": []
   },
   "outputs": [],
   "source": [
    "regex = \"@\\S+|https?:\\S+|http?:\\S|[^A-Za-z0-9]+\""
   ]
  },
  {
   "cell_type": "markdown",
   "id": "af3dff65",
   "metadata": {
    "id": "I9jaNykeM_yj",
    "papermill": {
     "duration": 0.070172,
     "end_time": "2021-09-22T17:59:50.806891",
     "exception": false,
     "start_time": "2021-09-22T17:59:50.736719",
     "status": "completed"
    },
    "tags": []
   },
   "source": [
    "### Apply preprocessing"
   ]
  },
  {
   "cell_type": "code",
   "execution_count": 22,
   "id": "8800c068",
   "metadata": {
    "execution": {
     "iopub.execute_input": "2021-09-22T17:59:50.982298Z",
     "iopub.status.busy": "2021-09-22T17:59:50.981417Z",
     "iopub.status.idle": "2021-09-22T18:00:08.608326Z",
     "shell.execute_reply": "2021-09-22T18:00:08.609209Z",
     "shell.execute_reply.started": "2021-09-22T15:13:26.045726Z"
    },
    "id": "EoABeZwEM-r1",
    "papermill": {
     "duration": 17.732285,
     "end_time": "2021-09-22T18:00:08.609439",
     "exception": false,
     "start_time": "2021-09-22T17:59:50.877154",
     "status": "completed"
    },
    "tags": []
   },
   "outputs": [],
   "source": [
    "dataset.content = dataset.content.apply(lambda x: re.sub(regex, ' ', str(x).lower()).strip())"
   ]
  },
  {
   "cell_type": "markdown",
   "id": "494b60c6",
   "metadata": {
    "id": "FqB9ujzoNZ16",
    "papermill": {
     "duration": 0.068429,
     "end_time": "2021-09-22T18:00:08.767766",
     "exception": false,
     "start_time": "2021-09-22T18:00:08.699337",
     "status": "completed"
    },
    "tags": []
   },
   "source": [
    "### Show results "
   ]
  },
  {
   "cell_type": "code",
   "execution_count": 23,
   "id": "cef4f671",
   "metadata": {
    "execution": {
     "iopub.execute_input": "2021-09-22T18:00:08.915017Z",
     "iopub.status.busy": "2021-09-22T18:00:08.914376Z",
     "iopub.status.idle": "2021-09-22T18:00:08.917119Z",
     "shell.execute_reply": "2021-09-22T18:00:08.917537Z",
     "shell.execute_reply.started": "2021-09-22T15:13:43.617726Z"
    },
    "id": "0IwBkikKNG-6",
    "papermill": {
     "duration": 0.080946,
     "end_time": "2021-09-22T18:00:08.917671",
     "exception": false,
     "start_time": "2021-09-22T18:00:08.836725",
     "status": "completed"
    },
    "tags": []
   },
   "outputs": [
    {
     "data": {
      "text/html": [
       "<div>\n",
       "<style scoped>\n",
       "    .dataframe tbody tr th:only-of-type {\n",
       "        vertical-align: middle;\n",
       "    }\n",
       "\n",
       "    .dataframe tbody tr th {\n",
       "        vertical-align: top;\n",
       "    }\n",
       "\n",
       "    .dataframe thead th {\n",
       "        text-align: right;\n",
       "    }\n",
       "</style>\n",
       "<table border=\"1\" class=\"dataframe\">\n",
       "  <thead>\n",
       "    <tr style=\"text-align: right;\">\n",
       "      <th></th>\n",
       "      <th>target</th>\n",
       "      <th>content</th>\n",
       "    </tr>\n",
       "  </thead>\n",
       "  <tbody>\n",
       "    <tr>\n",
       "      <th>0</th>\n",
       "      <td>0</td>\n",
       "      <td>awww that s a bummer you shoulda got david car...</td>\n",
       "    </tr>\n",
       "    <tr>\n",
       "      <th>1</th>\n",
       "      <td>0</td>\n",
       "      <td>is upset that he can t update his facebook by ...</td>\n",
       "    </tr>\n",
       "    <tr>\n",
       "      <th>2</th>\n",
       "      <td>0</td>\n",
       "      <td>i dived many times for the ball managed to sav...</td>\n",
       "    </tr>\n",
       "    <tr>\n",
       "      <th>3</th>\n",
       "      <td>0</td>\n",
       "      <td>my whole body feels itchy and like its on fire</td>\n",
       "    </tr>\n",
       "    <tr>\n",
       "      <th>4</th>\n",
       "      <td>0</td>\n",
       "      <td>no it s not behaving at all i m mad why am i h...</td>\n",
       "    </tr>\n",
       "    <tr>\n",
       "      <th>5</th>\n",
       "      <td>0</td>\n",
       "      <td>not the whole crew</td>\n",
       "    </tr>\n",
       "    <tr>\n",
       "      <th>6</th>\n",
       "      <td>0</td>\n",
       "      <td>need a hug</td>\n",
       "    </tr>\n",
       "    <tr>\n",
       "      <th>7</th>\n",
       "      <td>0</td>\n",
       "      <td>hey long time no see yes rains a bit only a bi...</td>\n",
       "    </tr>\n",
       "    <tr>\n",
       "      <th>8</th>\n",
       "      <td>0</td>\n",
       "      <td>nope they didn t have it</td>\n",
       "    </tr>\n",
       "    <tr>\n",
       "      <th>9</th>\n",
       "      <td>0</td>\n",
       "      <td>que me muera</td>\n",
       "    </tr>\n",
       "  </tbody>\n",
       "</table>\n",
       "</div>"
      ],
      "text/plain": [
       "   target                                            content\n",
       "0       0  awww that s a bummer you shoulda got david car...\n",
       "1       0  is upset that he can t update his facebook by ...\n",
       "2       0  i dived many times for the ball managed to sav...\n",
       "3       0     my whole body feels itchy and like its on fire\n",
       "4       0  no it s not behaving at all i m mad why am i h...\n",
       "5       0                                 not the whole crew\n",
       "6       0                                         need a hug\n",
       "7       0  hey long time no see yes rains a bit only a bi...\n",
       "8       0                           nope they didn t have it\n",
       "9       0                                       que me muera"
      ]
     },
     "execution_count": 23,
     "metadata": {},
     "output_type": "execute_result"
    }
   ],
   "source": [
    "dataset.head(10)"
   ]
  },
  {
   "cell_type": "markdown",
   "id": "fbd99573",
   "metadata": {
    "id": "4v0DrR2mOwG-",
    "papermill": {
     "duration": 0.074819,
     "end_time": "2021-09-22T18:00:09.067005",
     "exception": false,
     "start_time": "2021-09-22T18:00:08.992186",
     "status": "completed"
    },
    "tags": []
   },
   "source": [
    "## Train/test split"
   ]
  },
  {
   "cell_type": "code",
   "execution_count": 24,
   "id": "a89bbbfe",
   "metadata": {
    "execution": {
     "iopub.execute_input": "2021-09-22T18:00:09.213025Z",
     "iopub.status.busy": "2021-09-22T18:00:09.212040Z",
     "iopub.status.idle": "2021-09-22T18:00:09.559922Z",
     "shell.execute_reply": "2021-09-22T18:00:09.559440Z",
     "shell.execute_reply.started": "2021-09-22T15:13:43.631733Z"
    },
    "id": "uoKZ8VeBOWzJ",
    "papermill": {
     "duration": 0.42342,
     "end_time": "2021-09-22T18:00:09.560062",
     "exception": false,
     "start_time": "2021-09-22T18:00:09.136642",
     "status": "completed"
    },
    "tags": []
   },
   "outputs": [],
   "source": [
    "train, test = train_test_split(dataset, test_size=0.1, random_state=44)"
   ]
  },
  {
   "cell_type": "markdown",
   "id": "d5ae6497",
   "metadata": {
    "id": "40W8tb84Pb7c",
    "papermill": {
     "duration": 0.068422,
     "end_time": "2021-09-22T18:00:09.698003",
     "exception": false,
     "start_time": "2021-09-22T18:00:09.629581",
     "status": "completed"
    },
    "tags": []
   },
   "source": [
    "\n",
    "\n",
    "```\n",
    "The dataset is large enough to proceed to a 90-10 split. \n",
    "```\n",
    "\n"
   ]
  },
  {
   "cell_type": "markdown",
   "id": "d05c3248",
   "metadata": {
    "id": "3mReEzwzPr9x",
    "papermill": {
     "duration": 0.068445,
     "end_time": "2021-09-22T18:00:09.834534",
     "exception": false,
     "start_time": "2021-09-22T18:00:09.766089",
     "status": "completed"
    },
    "tags": []
   },
   "source": [
    "### Display results "
   ]
  },
  {
   "cell_type": "code",
   "execution_count": 25,
   "id": "c8f350ef",
   "metadata": {
    "execution": {
     "iopub.execute_input": "2021-09-22T18:00:09.976776Z",
     "iopub.status.busy": "2021-09-22T18:00:09.975999Z",
     "iopub.status.idle": "2021-09-22T18:00:09.978861Z",
     "shell.execute_reply": "2021-09-22T18:00:09.979463Z",
     "shell.execute_reply.started": "2021-09-22T15:13:43.991397Z"
    },
    "id": "aECLgCaePjaU",
    "outputId": "7627359b-9e41-4fa5-8ffc-daaba24acbd4",
    "papermill": {
     "duration": 0.076583,
     "end_time": "2021-09-22T18:00:09.979639",
     "exception": false,
     "start_time": "2021-09-22T18:00:09.903056",
     "status": "completed"
    },
    "tags": []
   },
   "outputs": [
    {
     "name": "stdout",
     "output_type": "stream",
     "text": [
      "Training set length: 1.44M examples\n",
      "Test set length: 0.16M examples\n"
     ]
    }
   ],
   "source": [
    "print(f\"Training set length: {len(train)/1e6}M examples\")\n",
    "print(f\"Test set length: {len(test)/1e6}M examples\")"
   ]
  },
  {
   "cell_type": "markdown",
   "id": "eff723ad",
   "metadata": {
    "id": "lG9lPGZgQJ7r",
    "papermill": {
     "duration": 0.068635,
     "end_time": "2021-09-22T18:00:10.118250",
     "exception": false,
     "start_time": "2021-09-22T18:00:10.049615",
     "status": "completed"
    },
    "tags": []
   },
   "source": [
    "## Tokenization"
   ]
  },
  {
   "cell_type": "markdown",
   "id": "e5c26d66",
   "metadata": {
    "id": "XG5wc4ugQ18w",
    "papermill": {
     "duration": 0.068554,
     "end_time": "2021-09-22T18:00:10.255642",
     "exception": false,
     "start_time": "2021-09-22T18:00:10.187088",
     "status": "completed"
    },
    "tags": []
   },
   "source": [
    "### Define the tokenizer"
   ]
  },
  {
   "cell_type": "code",
   "execution_count": 26,
   "id": "1a41a8f4",
   "metadata": {
    "execution": {
     "iopub.execute_input": "2021-09-22T18:00:10.416844Z",
     "iopub.status.busy": "2021-09-22T18:00:10.406533Z",
     "iopub.status.idle": "2021-09-22T18:00:36.103173Z",
     "shell.execute_reply": "2021-09-22T18:00:36.102181Z",
     "shell.execute_reply.started": "2021-09-22T15:13:43.999220Z"
    },
    "id": "tGx6CvE8P2Tv",
    "papermill": {
     "duration": 25.779081,
     "end_time": "2021-09-22T18:00:36.103330",
     "exception": false,
     "start_time": "2021-09-22T18:00:10.324249",
     "status": "completed"
    },
    "tags": []
   },
   "outputs": [],
   "source": [
    "tokenizer = Tokenizer()\n",
    "tokenizer.fit_on_texts(train.content)\n",
    "vocab_size = len(tokenizer.word_index)+1"
   ]
  },
  {
   "cell_type": "code",
   "execution_count": 27,
   "id": "ed2eaab8",
   "metadata": {
    "execution": {
     "iopub.execute_input": "2021-09-22T18:00:36.260585Z",
     "iopub.status.busy": "2021-09-22T18:00:36.259947Z",
     "iopub.status.idle": "2021-09-22T18:00:36.262853Z",
     "shell.execute_reply": "2021-09-22T18:00:36.263429Z",
     "shell.execute_reply.started": "2021-09-22T15:14:09.508134Z"
    },
    "papermill": {
     "duration": 0.086901,
     "end_time": "2021-09-22T18:00:36.263607",
     "exception": false,
     "start_time": "2021-09-22T18:00:36.176706",
     "status": "completed"
    },
    "tags": []
   },
   "outputs": [
    {
     "name": "stdout",
     "output_type": "stream",
     "text": [
      "Word index length: 313592\n",
      "Some words: ['i', 'to', 'the', 'a', 'my', 'it', 'and', 'you', 'is', 'in']\n"
     ]
    }
   ],
   "source": [
    "print(f\"Word index length: {len(tokenizer.word_index)}\")\n",
    "print(f\"Some words: {list(tokenizer.word_index.keys())[0:10]}\")"
   ]
  },
  {
   "cell_type": "markdown",
   "id": "30bb4927",
   "metadata": {
    "id": "Pbm6bM-7RIuW",
    "papermill": {
     "duration": 0.068557,
     "end_time": "2021-09-22T18:00:36.402358",
     "exception": false,
     "start_time": "2021-09-22T18:00:36.333801",
     "status": "completed"
    },
    "tags": []
   },
   "source": [
    "### Get the max length"
   ]
  },
  {
   "cell_type": "code",
   "execution_count": 28,
   "id": "65dba716",
   "metadata": {
    "execution": {
     "iopub.execute_input": "2021-09-22T18:00:36.545124Z",
     "iopub.status.busy": "2021-09-22T18:00:36.544360Z",
     "iopub.status.idle": "2021-09-22T18:00:36.546746Z",
     "shell.execute_reply": "2021-09-22T18:00:36.546319Z",
     "shell.execute_reply.started": "2021-09-22T15:14:09.532440Z"
    },
    "id": "yIRR_133RC2W",
    "papermill": {
     "duration": 0.07515,
     "end_time": "2021-09-22T18:00:36.546846",
     "exception": false,
     "start_time": "2021-09-22T18:00:36.471696",
     "status": "completed"
    },
    "tags": []
   },
   "outputs": [],
   "source": [
    "content = dataset[\"content\"]"
   ]
  },
  {
   "cell_type": "code",
   "execution_count": 29,
   "id": "4fe330d2",
   "metadata": {
    "execution": {
     "iopub.execute_input": "2021-09-22T18:00:36.717867Z",
     "iopub.status.busy": "2021-09-22T18:00:36.711655Z",
     "iopub.status.idle": "2021-09-22T18:00:38.638814Z",
     "shell.execute_reply": "2021-09-22T18:00:38.638312Z",
     "shell.execute_reply.started": "2021-09-22T15:14:09.550526Z"
    },
    "id": "Wb1Y8hnVRR-U",
    "outputId": "48614b23-8caf-403c-ce10-d49cb521ce94",
    "papermill": {
     "duration": 2.023098,
     "end_time": "2021-09-22T18:00:38.638944",
     "exception": false,
     "start_time": "2021-09-22T18:00:36.615846",
     "status": "completed"
    },
    "tags": []
   },
   "outputs": [
    {
     "name": "stdout",
     "output_type": "stream",
     "text": [
      "Maximum token length: 53\n"
     ]
    }
   ],
   "source": [
    "max_length = len(content[0].split())\n",
    "for tweet in content: \n",
    "  length = len(tweet.split())\n",
    "  if length > max_length: \n",
    "    max_length = length\n",
    "\n",
    "print(f\"Maximum token length: {max_length}\")"
   ]
  },
  {
   "cell_type": "markdown",
   "id": "140509c8",
   "metadata": {
    "id": "RoV-mJttTZvW",
    "papermill": {
     "duration": 0.07085,
     "end_time": "2021-09-22T18:00:38.781371",
     "exception": false,
     "start_time": "2021-09-22T18:00:38.710521",
     "status": "completed"
    },
    "tags": []
   },
   "source": [
    "### Define sequences"
   ]
  },
  {
   "cell_type": "code",
   "execution_count": 30,
   "id": "3cc145a0",
   "metadata": {
    "execution": {
     "iopub.execute_input": "2021-09-22T18:00:38.946796Z",
     "iopub.status.busy": "2021-09-22T18:00:38.926875Z",
     "iopub.status.idle": "2021-09-22T18:01:03.222103Z",
     "shell.execute_reply": "2021-09-22T18:01:03.223399Z",
     "shell.execute_reply.started": "2021-09-22T15:14:11.292373Z"
    },
    "id": "BH5ehzZzRdB0",
    "papermill": {
     "duration": 24.371435,
     "end_time": "2021-09-22T18:01:03.223888",
     "exception": false,
     "start_time": "2021-09-22T18:00:38.852453",
     "status": "completed"
    },
    "tags": []
   },
   "outputs": [],
   "source": [
    "sequences_train = tokenizer.texts_to_sequences(train.content)\n",
    "sequences_test = tokenizer.texts_to_sequences(test.content)"
   ]
  },
  {
   "cell_type": "markdown",
   "id": "336e3543",
   "metadata": {
    "id": "5qBX1xc-TpbU",
    "papermill": {
     "duration": 0.113466,
     "end_time": "2021-09-22T18:01:03.456542",
     "exception": false,
     "start_time": "2021-09-22T18:01:03.343076",
     "status": "completed"
    },
    "tags": []
   },
   "source": [
    "### Define X_train, X_test, y_train, y_test, "
   ]
  },
  {
   "cell_type": "code",
   "execution_count": 31,
   "id": "c0c22ca8",
   "metadata": {
    "execution": {
     "iopub.execute_input": "2021-09-22T18:01:03.691832Z",
     "iopub.status.busy": "2021-09-22T18:01:03.691065Z",
     "iopub.status.idle": "2021-09-22T18:01:15.325456Z",
     "shell.execute_reply": "2021-09-22T18:01:15.325030Z",
     "shell.execute_reply.started": "2021-09-22T15:14:36.040752Z"
    },
    "id": "UoiSTXzfTnLl",
    "outputId": "cab2975a-b088-4309-f884-88b39eb5a926",
    "papermill": {
     "duration": 11.75631,
     "end_time": "2021-09-22T18:01:15.325577",
     "exception": false,
     "start_time": "2021-09-22T18:01:03.569267",
     "status": "completed"
    },
    "tags": []
   },
   "outputs": [
    {
     "name": "stdout",
     "output_type": "stream",
     "text": [
      "(1440000, 53)\n"
     ]
    }
   ],
   "source": [
    "X_train = pad_sequences(sequences_train, maxlen=max_length, padding='post')\n",
    "X_test = pad_sequences(sequences_test, maxlen=max_length, padding='post')\n",
    "\n",
    "y_train = train.target.values\n",
    "y_test = test.target.values\n",
    "\n",
    "print(X_train.shape)"
   ]
  },
  {
   "cell_type": "markdown",
   "id": "ab6fbd48",
   "metadata": {
    "id": "ryPd1T9BVkBa",
    "papermill": {
     "duration": 0.070322,
     "end_time": "2021-09-22T18:01:15.465606",
     "exception": false,
     "start_time": "2021-09-22T18:01:15.395284",
     "status": "completed"
    },
    "tags": []
   },
   "source": [
    "## Word Embeddings (GloVe)"
   ]
  },
  {
   "cell_type": "markdown",
   "id": "eb1a3899",
   "metadata": {
    "id": "AXKpPqNFWK3n",
    "papermill": {
     "duration": 0.069164,
     "end_time": "2021-09-22T18:01:15.603649",
     "exception": false,
     "start_time": "2021-09-22T18:01:15.534485",
     "status": "completed"
    },
    "tags": []
   },
   "source": [
    "### Setup"
   ]
  },
  {
   "cell_type": "code",
   "execution_count": 32,
   "id": "14696b37",
   "metadata": {
    "execution": {
     "iopub.execute_input": "2021-09-22T18:01:15.746096Z",
     "iopub.status.busy": "2021-09-22T18:01:15.745486Z",
     "iopub.status.idle": "2021-09-22T18:01:15.754730Z",
     "shell.execute_reply": "2021-09-22T18:01:15.754321Z",
     "shell.execute_reply.started": "2021-09-22T15:14:47.595166Z"
    },
    "id": "cJqPXut3VWWh",
    "papermill": {
     "duration": 0.08163,
     "end_time": "2021-09-22T18:01:15.754836",
     "exception": false,
     "start_time": "2021-09-22T18:01:15.673206",
     "status": "completed"
    },
    "tags": []
   },
   "outputs": [],
   "source": [
    "embeddings_dictionary = dict()\n",
    "embedding_dim = 100\n",
    "glove_file = open(\"/kaggle/input/twitter-sentiment-analysis-and-word-embeddings/Dataset/word_embeddings.txt\")"
   ]
  },
  {
   "cell_type": "markdown",
   "id": "3698cd2f",
   "metadata": {
    "id": "TUEMLeF-Wops",
    "papermill": {
     "duration": 0.069531,
     "end_time": "2021-09-22T18:01:15.893610",
     "exception": false,
     "start_time": "2021-09-22T18:01:15.824079",
     "status": "completed"
    },
    "tags": []
   },
   "source": [
    "### Apply word embedding"
   ]
  },
  {
   "cell_type": "code",
   "execution_count": 33,
   "id": "99581c87",
   "metadata": {
    "execution": {
     "iopub.execute_input": "2021-09-22T18:01:16.037960Z",
     "iopub.status.busy": "2021-09-22T18:01:16.037432Z",
     "iopub.status.idle": "2021-09-22T18:01:33.611118Z",
     "shell.execute_reply": "2021-09-22T18:01:33.610609Z",
     "shell.execute_reply.started": "2021-09-22T15:14:47.609147Z"
    },
    "id": "ISKnOvqPWHwc",
    "papermill": {
     "duration": 17.64864,
     "end_time": "2021-09-22T18:01:33.611264",
     "exception": false,
     "start_time": "2021-09-22T18:01:15.962624",
     "status": "completed"
    },
    "tags": []
   },
   "outputs": [],
   "source": [
    "for line in glove_file:\n",
    "    records = line.split()\n",
    "    word = records[0]\n",
    "    vector_dimensions = np.asarray(records[1:], dtype='float32')\n",
    "    embeddings_dictionary [word] = vector_dimensions\n",
    "    \n",
    "glove_file.close()\n",
    "\n",
    "embeddings_matrix = np.zeros((vocab_size, embedding_dim))\n",
    "for word, index in tokenizer.word_index.items():\n",
    "    embedding_vector = embeddings_dictionary.get(word)\n",
    "    if embedding_vector is not None:\n",
    "        embeddings_matrix[index] = embedding_vector"
   ]
  },
  {
   "cell_type": "markdown",
   "id": "b532a5ae",
   "metadata": {
    "id": "f1O7nHkcX98b",
    "papermill": {
     "duration": 0.068804,
     "end_time": "2021-09-22T18:01:33.749305",
     "exception": false,
     "start_time": "2021-09-22T18:01:33.680501",
     "status": "completed"
    },
    "tags": []
   },
   "source": [
    "# Define the model"
   ]
  },
  {
   "cell_type": "markdown",
   "id": "f3eb1a23",
   "metadata": {
    "id": "dzmRd54PYA1R",
    "papermill": {
     "duration": 0.068883,
     "end_time": "2021-09-22T18:01:33.887338",
     "exception": false,
     "start_time": "2021-09-22T18:01:33.818455",
     "status": "completed"
    },
    "tags": []
   },
   "source": [
    "## Set training parameters"
   ]
  },
  {
   "cell_type": "code",
   "execution_count": 34,
   "id": "f16dba16",
   "metadata": {
    "execution": {
     "iopub.execute_input": "2021-09-22T18:01:34.030857Z",
     "iopub.status.busy": "2021-09-22T18:01:34.029369Z",
     "iopub.status.idle": "2021-09-22T18:01:34.031512Z",
     "shell.execute_reply": "2021-09-22T18:01:34.031897Z",
     "shell.execute_reply.started": "2021-09-22T15:15:05.432622Z"
    },
    "id": "DPEKs1DiWRQq",
    "papermill": {
     "duration": 0.075007,
     "end_time": "2021-09-22T18:01:34.032037",
     "exception": false,
     "start_time": "2021-09-22T18:01:33.957030",
     "status": "completed"
    },
    "tags": []
   },
   "outputs": [],
   "source": [
    "num_epochs = 50\n",
    "batch_size = 1000"
   ]
  },
  {
   "cell_type": "markdown",
   "id": "908f7bfe",
   "metadata": {
    "id": "6lONAiPiYb4K",
    "papermill": {
     "duration": 0.068925,
     "end_time": "2021-09-22T18:01:34.170920",
     "exception": false,
     "start_time": "2021-09-22T18:01:34.101995",
     "status": "completed"
    },
    "tags": []
   },
   "source": [
    "## Create the model"
   ]
  },
  {
   "cell_type": "markdown",
   "id": "39555dd0",
   "metadata": {
    "id": "u-MBH9dkYgGH",
    "papermill": {
     "duration": 0.069,
     "end_time": "2021-09-22T18:01:34.309521",
     "exception": false,
     "start_time": "2021-09-22T18:01:34.240521",
     "status": "completed"
    },
    "tags": []
   },
   "source": [
    "### Define the embedding layer"
   ]
  },
  {
   "cell_type": "code",
   "execution_count": 35,
   "id": "9a60254f",
   "metadata": {
    "execution": {
     "iopub.execute_input": "2021-09-22T18:01:34.451533Z",
     "iopub.status.busy": "2021-09-22T18:01:34.451008Z",
     "iopub.status.idle": "2021-09-22T18:01:34.464647Z",
     "shell.execute_reply": "2021-09-22T18:01:34.463754Z",
     "shell.execute_reply.started": "2021-09-22T15:15:05.441477Z"
    },
    "id": "v55TleKdYEvX",
    "papermill": {
     "duration": 0.086688,
     "end_time": "2021-09-22T18:01:34.464763",
     "exception": false,
     "start_time": "2021-09-22T18:01:34.378075",
     "status": "completed"
    },
    "tags": []
   },
   "outputs": [],
   "source": [
    "embedding_layer = Embedding(vocab_size, embedding_dim, input_length=max_length, weights=[embeddings_matrix], trainable=False)"
   ]
  },
  {
   "cell_type": "markdown",
   "id": "a363dc7b",
   "metadata": {
    "id": "nFD3_-1WeZ0k",
    "papermill": {
     "duration": 0.068157,
     "end_time": "2021-09-22T18:01:34.602652",
     "exception": false,
     "start_time": "2021-09-22T18:01:34.534495",
     "status": "completed"
    },
    "tags": []
   },
   "source": [
    "### Define early stopping as the model callback"
   ]
  },
  {
   "cell_type": "code",
   "execution_count": 36,
   "id": "184ed81d",
   "metadata": {
    "execution": {
     "iopub.execute_input": "2021-09-22T18:01:34.747192Z",
     "iopub.status.busy": "2021-09-22T18:01:34.745758Z",
     "iopub.status.idle": "2021-09-22T18:01:34.747991Z",
     "shell.execute_reply": "2021-09-22T18:01:34.748400Z",
     "shell.execute_reply.started": "2021-09-22T15:15:05.462587Z"
    },
    "id": "o1aTkm9geZKZ",
    "papermill": {
     "duration": 0.076135,
     "end_time": "2021-09-22T18:01:34.748522",
     "exception": false,
     "start_time": "2021-09-22T18:01:34.672387",
     "status": "completed"
    },
    "tags": []
   },
   "outputs": [],
   "source": [
    "stop_early = tf.keras.callbacks.EarlyStopping(monitor=\"val_accuracy\", patience=10, mode =\"max\", verbose=2, restore_best_weights=True)"
   ]
  },
  {
   "cell_type": "markdown",
   "id": "4e1618ad",
   "metadata": {
    "id": "_xh5SCzMYnI6",
    "papermill": {
     "duration": 0.070117,
     "end_time": "2021-09-22T18:01:34.888534",
     "exception": false,
     "start_time": "2021-09-22T18:01:34.818417",
     "status": "completed"
    },
    "tags": []
   },
   "source": [
    "### Create the model"
   ]
  },
  {
   "cell_type": "code",
   "execution_count": 37,
   "id": "6e52a2f5",
   "metadata": {
    "execution": {
     "iopub.execute_input": "2021-09-22T18:01:37.345907Z",
     "iopub.status.busy": "2021-09-22T18:01:37.345291Z",
     "iopub.status.idle": "2021-09-22T18:01:39.341199Z",
     "shell.execute_reply": "2021-09-22T18:01:39.340286Z",
     "shell.execute_reply.started": "2021-09-22T15:15:05.468965Z"
    },
    "id": "zlQFKnznacrY",
    "papermill": {
     "duration": 4.382673,
     "end_time": "2021-09-22T18:01:39.341343",
     "exception": false,
     "start_time": "2021-09-22T18:01:34.958670",
     "status": "completed"
    },
    "tags": []
   },
   "outputs": [
    {
     "name": "stderr",
     "output_type": "stream",
     "text": [
      "2021-09-22 18:01:35.041991: I tensorflow/compiler/jit/xla_cpu_device.cc:41] Not creating XLA devices, tf_xla_enable_xla_devices not set\n",
      "2021-09-22 18:01:35.045688: I tensorflow/stream_executor/platform/default/dso_loader.cc:49] Successfully opened dynamic library libcuda.so.1\n",
      "2021-09-22 18:01:35.101185: I tensorflow/stream_executor/cuda/cuda_gpu_executor.cc:941] successful NUMA node read from SysFS had negative value (-1), but there must be at least one NUMA node, so returning NUMA node zero\n",
      "2021-09-22 18:01:35.101841: I tensorflow/core/common_runtime/gpu/gpu_device.cc:1720] Found device 0 with properties: \n",
      "pciBusID: 0000:00:04.0 name: Tesla P100-PCIE-16GB computeCapability: 6.0\n",
      "coreClock: 1.3285GHz coreCount: 56 deviceMemorySize: 15.90GiB deviceMemoryBandwidth: 681.88GiB/s\n",
      "2021-09-22 18:01:35.101972: I tensorflow/stream_executor/platform/default/dso_loader.cc:49] Successfully opened dynamic library libcudart.so.11.0\n",
      "2021-09-22 18:01:35.127643: I tensorflow/stream_executor/platform/default/dso_loader.cc:49] Successfully opened dynamic library libcublas.so.11\n",
      "2021-09-22 18:01:35.127735: I tensorflow/stream_executor/platform/default/dso_loader.cc:49] Successfully opened dynamic library libcublasLt.so.11\n",
      "2021-09-22 18:01:35.143661: I tensorflow/stream_executor/platform/default/dso_loader.cc:49] Successfully opened dynamic library libcufft.so.10\n",
      "2021-09-22 18:01:35.205333: I tensorflow/stream_executor/platform/default/dso_loader.cc:49] Successfully opened dynamic library libcurand.so.10\n",
      "2021-09-22 18:01:35.245165: I tensorflow/stream_executor/platform/default/dso_loader.cc:49] Successfully opened dynamic library libcusolver.so.10\n",
      "2021-09-22 18:01:35.253852: I tensorflow/stream_executor/platform/default/dso_loader.cc:49] Successfully opened dynamic library libcusparse.so.11\n",
      "2021-09-22 18:01:35.256692: I tensorflow/stream_executor/platform/default/dso_loader.cc:49] Successfully opened dynamic library libcudnn.so.8\n",
      "2021-09-22 18:01:35.256887: I tensorflow/stream_executor/cuda/cuda_gpu_executor.cc:941] successful NUMA node read from SysFS had negative value (-1), but there must be at least one NUMA node, so returning NUMA node zero\n",
      "2021-09-22 18:01:35.257606: I tensorflow/stream_executor/cuda/cuda_gpu_executor.cc:941] successful NUMA node read from SysFS had negative value (-1), but there must be at least one NUMA node, so returning NUMA node zero\n",
      "2021-09-22 18:01:35.259212: I tensorflow/core/common_runtime/gpu/gpu_device.cc:1862] Adding visible gpu devices: 0\n",
      "2021-09-22 18:01:35.259954: I tensorflow/core/platform/cpu_feature_guard.cc:142] This TensorFlow binary is optimized with oneAPI Deep Neural Network Library (oneDNN) to use the following CPU instructions in performance-critical operations:  AVX2 AVX512F FMA\n",
      "To enable them in other operations, rebuild TensorFlow with the appropriate compiler flags.\n",
      "2021-09-22 18:01:35.260195: I tensorflow/compiler/jit/xla_gpu_device.cc:99] Not creating XLA devices, tf_xla_enable_xla_devices not set\n",
      "2021-09-22 18:01:35.260382: I tensorflow/stream_executor/cuda/cuda_gpu_executor.cc:941] successful NUMA node read from SysFS had negative value (-1), but there must be at least one NUMA node, so returning NUMA node zero\n",
      "2021-09-22 18:01:35.261166: I tensorflow/core/common_runtime/gpu/gpu_device.cc:1720] Found device 0 with properties: \n",
      "pciBusID: 0000:00:04.0 name: Tesla P100-PCIE-16GB computeCapability: 6.0\n",
      "coreClock: 1.3285GHz coreCount: 56 deviceMemorySize: 15.90GiB deviceMemoryBandwidth: 681.88GiB/s\n",
      "2021-09-22 18:01:35.261242: I tensorflow/stream_executor/platform/default/dso_loader.cc:49] Successfully opened dynamic library libcudart.so.11.0\n",
      "2021-09-22 18:01:35.261283: I tensorflow/stream_executor/platform/default/dso_loader.cc:49] Successfully opened dynamic library libcublas.so.11\n",
      "2021-09-22 18:01:35.261309: I tensorflow/stream_executor/platform/default/dso_loader.cc:49] Successfully opened dynamic library libcublasLt.so.11\n",
      "2021-09-22 18:01:35.261335: I tensorflow/stream_executor/platform/default/dso_loader.cc:49] Successfully opened dynamic library libcufft.so.10\n",
      "2021-09-22 18:01:35.261365: I tensorflow/stream_executor/platform/default/dso_loader.cc:49] Successfully opened dynamic library libcurand.so.10\n",
      "2021-09-22 18:01:35.261390: I tensorflow/stream_executor/platform/default/dso_loader.cc:49] Successfully opened dynamic library libcusolver.so.10\n",
      "2021-09-22 18:01:35.261416: I tensorflow/stream_executor/platform/default/dso_loader.cc:49] Successfully opened dynamic library libcusparse.so.11\n",
      "2021-09-22 18:01:35.261445: I tensorflow/stream_executor/platform/default/dso_loader.cc:49] Successfully opened dynamic library libcudnn.so.8\n",
      "2021-09-22 18:01:35.261552: I tensorflow/stream_executor/cuda/cuda_gpu_executor.cc:941] successful NUMA node read from SysFS had negative value (-1), but there must be at least one NUMA node, so returning NUMA node zero\n",
      "2021-09-22 18:01:35.262405: I tensorflow/stream_executor/cuda/cuda_gpu_executor.cc:941] successful NUMA node read from SysFS had negative value (-1), but there must be at least one NUMA node, so returning NUMA node zero\n",
      "2021-09-22 18:01:35.263165: I tensorflow/core/common_runtime/gpu/gpu_device.cc:1862] Adding visible gpu devices: 0\n",
      "2021-09-22 18:01:35.263886: I tensorflow/stream_executor/platform/default/dso_loader.cc:49] Successfully opened dynamic library libcudart.so.11.0\n",
      "2021-09-22 18:01:36.771590: I tensorflow/core/common_runtime/gpu/gpu_device.cc:1261] Device interconnect StreamExecutor with strength 1 edge matrix:\n",
      "2021-09-22 18:01:36.771636: I tensorflow/core/common_runtime/gpu/gpu_device.cc:1267]      0 \n",
      "2021-09-22 18:01:36.771646: I tensorflow/core/common_runtime/gpu/gpu_device.cc:1280] 0:   N \n",
      "2021-09-22 18:01:36.774062: I tensorflow/stream_executor/cuda/cuda_gpu_executor.cc:941] successful NUMA node read from SysFS had negative value (-1), but there must be at least one NUMA node, so returning NUMA node zero\n",
      "2021-09-22 18:01:36.774840: I tensorflow/stream_executor/cuda/cuda_gpu_executor.cc:941] successful NUMA node read from SysFS had negative value (-1), but there must be at least one NUMA node, so returning NUMA node zero\n",
      "2021-09-22 18:01:36.775598: I tensorflow/stream_executor/cuda/cuda_gpu_executor.cc:941] successful NUMA node read from SysFS had negative value (-1), but there must be at least one NUMA node, so returning NUMA node zero\n",
      "2021-09-22 18:01:36.776204: I tensorflow/core/common_runtime/gpu/gpu_device.cc:1406] Created TensorFlow device (/job:localhost/replica:0/task:0/device:GPU:0 with 14957 MB memory) -> physical GPU (device: 0, name: Tesla P100-PCIE-16GB, pci bus id: 0000:00:04.0, compute capability: 6.0)\n"
     ]
    }
   ],
   "source": [
    "model = Sequential([\n",
    "        embedding_layer,\n",
    "        tf.keras.layers.Bidirectional(LSTM(128, return_sequences=True)),\n",
    "        tf.keras.layers.Dropout(0.2),\n",
    "        tf.keras.layers.Bidirectional(LSTM(128, return_sequences=True)),\n",
    "        tf.keras.layers.Dropout(0.2),\n",
    "        tf.keras.layers.Bidirectional(LSTM(128)),\n",
    "        tf.keras.layers.Dropout(0.2),\n",
    "        tf.keras.layers.Dense(64, activation='relu'),\n",
    "        tf.keras.layers.Dense(1, activation='sigmoid'),\n",
    "    ])"
   ]
  },
  {
   "cell_type": "markdown",
   "id": "49b870c3",
   "metadata": {
    "id": "GBLDT_nyZuD3",
    "papermill": {
     "duration": 0.069883,
     "end_time": "2021-09-22T18:01:39.481957",
     "exception": false,
     "start_time": "2021-09-22T18:01:39.412074",
     "status": "completed"
    },
    "tags": []
   },
   "source": [
    "## Compile the model"
   ]
  },
  {
   "cell_type": "code",
   "execution_count": 38,
   "id": "498a3328",
   "metadata": {
    "execution": {
     "iopub.execute_input": "2021-09-22T18:01:39.633979Z",
     "iopub.status.busy": "2021-09-22T18:01:39.633414Z",
     "iopub.status.idle": "2021-09-22T18:01:39.639086Z",
     "shell.execute_reply": "2021-09-22T18:01:39.639450Z",
     "shell.execute_reply.started": "2021-09-22T15:15:09.281117Z"
    },
    "id": "cs-ego69YrAj",
    "papermill": {
     "duration": 0.087814,
     "end_time": "2021-09-22T18:01:39.639577",
     "exception": false,
     "start_time": "2021-09-22T18:01:39.551763",
     "status": "completed"
    },
    "tags": []
   },
   "outputs": [],
   "source": [
    "model.compile(\n",
    "       optimizer = Adam(learning_rate = 0.001 ),\n",
    "       loss=\"binary_crossentropy\", \n",
    "       metrics=[\"accuracy\"]\n",
    "  )"
   ]
  },
  {
   "cell_type": "markdown",
   "id": "96c31377",
   "metadata": {
    "id": "3QFsvRwkbent",
    "papermill": {
     "duration": 0.06939,
     "end_time": "2021-09-22T18:01:39.780637",
     "exception": false,
     "start_time": "2021-09-22T18:01:39.711247",
     "status": "completed"
    },
    "tags": []
   },
   "source": [
    "## Model summary "
   ]
  },
  {
   "cell_type": "code",
   "execution_count": 39,
   "id": "59867d31",
   "metadata": {
    "execution": {
     "iopub.execute_input": "2021-09-22T18:01:39.931717Z",
     "iopub.status.busy": "2021-09-22T18:01:39.930556Z",
     "iopub.status.idle": "2021-09-22T18:01:39.935205Z",
     "shell.execute_reply": "2021-09-22T18:01:39.934683Z",
     "shell.execute_reply.started": "2021-09-22T15:15:09.299852Z"
    },
    "id": "CQXLnEwgZzy6",
    "outputId": "98606ea4-b661-474d-b409-e4ae837b4fd4",
    "papermill": {
     "duration": 0.08445,
     "end_time": "2021-09-22T18:01:39.935320",
     "exception": false,
     "start_time": "2021-09-22T18:01:39.850870",
     "status": "completed"
    },
    "tags": []
   },
   "outputs": [
    {
     "name": "stdout",
     "output_type": "stream",
     "text": [
      "Model: \"sequential\"\n",
      "_________________________________________________________________\n",
      "Layer (type)                 Output Shape              Param #   \n",
      "=================================================================\n",
      "embedding (Embedding)        (None, 53, 100)           31359300  \n",
      "_________________________________________________________________\n",
      "bidirectional (Bidirectional (None, 53, 256)           234496    \n",
      "_________________________________________________________________\n",
      "dropout (Dropout)            (None, 53, 256)           0         \n",
      "_________________________________________________________________\n",
      "bidirectional_1 (Bidirection (None, 53, 256)           394240    \n",
      "_________________________________________________________________\n",
      "dropout_1 (Dropout)          (None, 53, 256)           0         \n",
      "_________________________________________________________________\n",
      "bidirectional_2 (Bidirection (None, 256)               394240    \n",
      "_________________________________________________________________\n",
      "dropout_2 (Dropout)          (None, 256)               0         \n",
      "_________________________________________________________________\n",
      "dense (Dense)                (None, 64)                16448     \n",
      "_________________________________________________________________\n",
      "dense_1 (Dense)              (None, 1)                 65        \n",
      "=================================================================\n",
      "Total params: 32,398,789\n",
      "Trainable params: 1,039,489\n",
      "Non-trainable params: 31,359,300\n",
      "_________________________________________________________________\n"
     ]
    }
   ],
   "source": [
    "model.summary()"
   ]
  },
  {
   "cell_type": "code",
   "execution_count": 40,
   "id": "7694125a",
   "metadata": {
    "execution": {
     "iopub.execute_input": "2021-09-22T18:01:40.106829Z",
     "iopub.status.busy": "2021-09-22T18:01:40.106321Z",
     "iopub.status.idle": "2021-09-22T18:01:40.952144Z",
     "shell.execute_reply": "2021-09-22T18:01:40.951628Z",
     "shell.execute_reply.started": "2021-09-22T15:15:09.314521Z"
    },
    "id": "nsbS_JxcfnkB",
    "outputId": "2dc9dfda-f615-41bb-c01a-60aa665eb9bb",
    "papermill": {
     "duration": 0.947579,
     "end_time": "2021-09-22T18:01:40.952273",
     "exception": false,
     "start_time": "2021-09-22T18:01:40.004694",
     "status": "completed"
    },
    "tags": []
   },
   "outputs": [
    {
     "data": {
      "image/png": "[encoded data removed]",
      "text/plain": [
       "<IPython.core.display.Image object>"
      ]
     },
     "execution_count": 40,
     "metadata": {},
     "output_type": "execute_result"
    }
   ],
   "source": [
    "tf.keras.utils.plot_model(model, show_shapes=True)"
   ]
  },
  {
   "cell_type": "markdown",
   "id": "4fe7d3a2",
   "metadata": {
    "id": "U1wMN2Lcbq3V",
    "papermill": {
     "duration": 0.073097,
     "end_time": "2021-09-22T18:01:41.098077",
     "exception": false,
     "start_time": "2021-09-22T18:01:41.024980",
     "status": "completed"
    },
    "tags": []
   },
   "source": [
    "# Train the model"
   ]
  },
  {
   "cell_type": "code",
   "execution_count": 41,
   "id": "8acfd5ac",
   "metadata": {
    "execution": {
     "iopub.execute_input": "2021-09-22T18:01:41.249353Z",
     "iopub.status.busy": "2021-09-22T18:01:41.248739Z",
     "iopub.status.idle": "2021-09-22T18:52:28.188335Z",
     "shell.execute_reply": "2021-09-22T18:52:28.143239Z",
     "shell.execute_reply.started": "2021-09-22T15:15:10.188956Z"
    },
    "id": "ExFPK4f3bhay",
    "outputId": "cdc7f500-6ba1-45a7-d1cd-3ae4a8540444",
    "papermill": {
     "duration": 3047.01815,
     "end_time": "2021-09-22T18:52:28.188514",
     "exception": false,
     "start_time": "2021-09-22T18:01:41.170364",
     "status": "completed"
    },
    "tags": []
   },
   "outputs": [
    {
     "name": "stderr",
     "output_type": "stream",
     "text": [
      "2021-09-22 18:01:41.513653: I tensorflow/compiler/mlir/mlir_graph_optimization_pass.cc:116] None of the MLIR optimization passes are enabled (registered 2)\n",
      "2021-09-22 18:01:41.523970: I tensorflow/core/platform/profile_utils/cpu_utils.cc:112] CPU Frequency: 2000170000 Hz\n"
     ]
    },
    {
     "name": "stdout",
     "output_type": "stream",
     "text": [
      "Epoch 1/50\n"
     ]
    },
    {
     "name": "stderr",
     "output_type": "stream",
     "text": [
      "2021-09-22 18:01:46.922204: I tensorflow/stream_executor/platform/default/dso_loader.cc:49] Successfully opened dynamic library libcublas.so.11\n",
      "2021-09-22 18:01:47.837451: I tensorflow/stream_executor/platform/default/dso_loader.cc:49] Successfully opened dynamic library libcublasLt.so.11\n",
      "2021-09-22 18:01:47.901810: I tensorflow/stream_executor/platform/default/dso_loader.cc:49] Successfully opened dynamic library libcudnn.so.8\n"
     ]
    },
    {
     "name": "stdout",
     "output_type": "stream",
     "text": [
      "1440/1440 [==============================] - 173s 112ms/step - loss: 0.5131 - accuracy: 0.7417 - val_loss: 0.4340 - val_accuracy: 0.7995\n",
      "Epoch 2/50\n",
      "1440/1440 [==============================] - 160s 111ms/step - loss: 0.4264 - accuracy: 0.8028 - val_loss: 0.4083 - val_accuracy: 0.8117\n",
      "Epoch 3/50\n",
      "1440/1440 [==============================] - 160s 111ms/step - loss: 0.4039 - accuracy: 0.8153 - val_loss: 0.3987 - val_accuracy: 0.8191\n",
      "Epoch 4/50\n",
      "1440/1440 [==============================] - 159s 111ms/step - loss: 0.3884 - accuracy: 0.8237 - val_loss: 0.4032 - val_accuracy: 0.8156\n",
      "Epoch 5/50\n",
      "1440/1440 [==============================] - 159s 111ms/step - loss: 0.3771 - accuracy: 0.8302 - val_loss: 0.3849 - val_accuracy: 0.8257\n",
      "Epoch 6/50\n",
      "1440/1440 [==============================] - 159s 111ms/step - loss: 0.3671 - accuracy: 0.8352 - val_loss: 0.3802 - val_accuracy: 0.8285\n",
      "Epoch 7/50\n",
      "1440/1440 [==============================] - 159s 111ms/step - loss: 0.3580 - accuracy: 0.8403 - val_loss: 0.3841 - val_accuracy: 0.8272\n",
      "Epoch 8/50\n",
      "1440/1440 [==============================] - 159s 111ms/step - loss: 0.3505 - accuracy: 0.8441 - val_loss: 0.3795 - val_accuracy: 0.8297\n",
      "Epoch 9/50\n",
      "1440/1440 [==============================] - 159s 111ms/step - loss: 0.3415 - accuracy: 0.8490 - val_loss: 0.3806 - val_accuracy: 0.8311\n",
      "Epoch 10/50\n",
      "1440/1440 [==============================] - 160s 111ms/step - loss: 0.3334 - accuracy: 0.8530 - val_loss: 0.3849 - val_accuracy: 0.8307\n",
      "Epoch 11/50\n",
      "1440/1440 [==============================] - 160s 111ms/step - loss: 0.3243 - accuracy: 0.8574 - val_loss: 0.3854 - val_accuracy: 0.8300\n",
      "Epoch 12/50\n",
      "1440/1440 [==============================] - 159s 111ms/step - loss: 0.3179 - accuracy: 0.8609 - val_loss: 0.3921 - val_accuracy: 0.8291\n",
      "Epoch 13/50\n",
      "1440/1440 [==============================] - 159s 111ms/step - loss: 0.3105 - accuracy: 0.8646 - val_loss: 0.3886 - val_accuracy: 0.8289\n",
      "Epoch 14/50\n",
      "1440/1440 [==============================] - 159s 111ms/step - loss: 0.3011 - accuracy: 0.8693 - val_loss: 0.3988 - val_accuracy: 0.8271\n",
      "Epoch 15/50\n",
      "1440/1440 [==============================] - 159s 111ms/step - loss: 0.2941 - accuracy: 0.8725 - val_loss: 0.3996 - val_accuracy: 0.8267\n",
      "Epoch 16/50\n",
      "1440/1440 [==============================] - 159s 111ms/step - loss: 0.2871 - accuracy: 0.8765 - val_loss: 0.4060 - val_accuracy: 0.8262\n",
      "Epoch 17/50\n",
      "1440/1440 [==============================] - 159s 111ms/step - loss: 0.2809 - accuracy: 0.8789 - val_loss: 0.4131 - val_accuracy: 0.8251\n",
      "Epoch 18/50\n",
      "1440/1440 [==============================] - 159s 111ms/step - loss: 0.2744 - accuracy: 0.8821 - val_loss: 0.4207 - val_accuracy: 0.8243\n",
      "Epoch 19/50\n",
      "1440/1440 [==============================] - 160s 111ms/step - loss: 0.2691 - accuracy: 0.8845 - val_loss: 0.4242 - val_accuracy: 0.8239\n",
      "Restoring model weights from the end of the best epoch.\n",
      "Epoch 00019: early stopping\n"
     ]
    }
   ],
   "source": [
    "history = model.fit(\n",
    "    X_train,\n",
    "    y_train,\n",
    "    batch_size=batch_size,\n",
    "    epochs=num_epochs,\n",
    "    verbose=1, \n",
    "    validation_data=(X_test,y_test),\n",
    "    callbacks = [stop_early]\n",
    ")"
   ]
  },
  {
   "cell_type": "markdown",
   "id": "481683ba",
   "metadata": {
    "papermill": {
     "duration": 7.206287,
     "end_time": "2021-09-22T18:52:43.404194",
     "exception": false,
     "start_time": "2021-09-22T18:52:36.197907",
     "status": "completed"
    },
    "tags": []
   },
   "source": [
    "# Save the model"
   ]
  },
  {
   "cell_type": "markdown",
   "id": "c242bc5a",
   "metadata": {
    "papermill": {
     "duration": 7.681611,
     "end_time": "2021-09-22T18:52:58.540682",
     "exception": false,
     "start_time": "2021-09-22T18:52:50.859071",
     "status": "completed"
    },
    "tags": []
   },
   "source": [
    " ## Define text vectorization "
   ]
  },
  {
   "cell_type": "code",
   "execution_count": 42,
   "id": "c5a4269b",
   "metadata": {
    "execution": {
     "iopub.execute_input": "2021-09-22T18:53:13.564518Z",
     "iopub.status.busy": "2021-09-22T18:53:13.563686Z",
     "iopub.status.idle": "2021-09-22T18:53:13.566320Z",
     "shell.execute_reply": "2021-09-22T18:53:13.565836Z",
     "shell.execute_reply.started": "2021-09-22T16:09:29.734412Z"
    },
    "papermill": {
     "duration": 7.47258,
     "end_time": "2021-09-22T18:53:13.566431",
     "exception": false,
     "start_time": "2021-09-22T18:53:06.093851",
     "status": "completed"
    },
    "tags": []
   },
   "outputs": [],
   "source": [
    "vocabulary = list(tokenizer.word_index.keys())"
   ]
  },
  {
   "cell_type": "code",
   "execution_count": 43,
   "id": "43c3ad36",
   "metadata": {
    "execution": {
     "iopub.execute_input": "2021-09-22T18:53:28.198819Z",
     "iopub.status.busy": "2021-09-22T18:53:28.197566Z",
     "iopub.status.idle": "2021-09-22T18:53:28.200925Z",
     "shell.execute_reply": "2021-09-22T18:53:28.201354Z",
     "shell.execute_reply.started": "2021-09-22T16:09:29.763271Z"
    },
    "papermill": {
     "duration": 7.268664,
     "end_time": "2021-09-22T18:53:28.201499",
     "exception": false,
     "start_time": "2021-09-22T18:53:20.932835",
     "status": "completed"
    },
    "tags": []
   },
   "outputs": [
    {
     "data": {
      "text/plain": [
       "TensorShape([None, 53])"
      ]
     },
     "execution_count": 43,
     "metadata": {},
     "output_type": "execute_result"
    }
   ],
   "source": [
    "input_shape = tf.keras.Input(shape=(max_length))\n",
    "shape = input_shape.shape\n",
    "shape"
   ]
  },
  {
   "cell_type": "code",
   "execution_count": 44,
   "id": "4c640402",
   "metadata": {
    "execution": {
     "iopub.execute_input": "2021-09-22T18:53:43.613134Z",
     "iopub.status.busy": "2021-09-22T18:53:43.612351Z",
     "iopub.status.idle": "2021-09-22T18:54:01.262520Z",
     "shell.execute_reply": "2021-09-22T18:54:01.263287Z",
     "shell.execute_reply.started": "2021-09-22T16:09:29.784654Z"
    },
    "papermill": {
     "duration": 25.503468,
     "end_time": "2021-09-22T18:54:01.263542",
     "exception": false,
     "start_time": "2021-09-22T18:53:35.760074",
     "status": "completed"
    },
    "tags": []
   },
   "outputs": [],
   "source": [
    "vectorize_layer = TextVectorization(\n",
    "    standardize=\"lower_and_strip_punctuation\",\n",
    "    max_tokens=vocab_size+1,\n",
    "    output_mode='int',\n",
    "    output_sequence_length=max_length, \n",
    "    vocabulary=vocabulary\n",
    ")\n",
    "vectorize_layer.adapt(train[\"content\"].values)"
   ]
  },
  {
   "cell_type": "markdown",
   "id": "30a141ac",
   "metadata": {
    "papermill": {
     "duration": 7.929585,
     "end_time": "2021-09-22T18:54:16.782618",
     "exception": false,
     "start_time": "2021-09-22T18:54:08.853033",
     "status": "completed"
    },
    "tags": []
   },
   "source": [
    "## Define the export model"
   ]
  },
  {
   "cell_type": "code",
   "execution_count": 45,
   "id": "7d170cc6",
   "metadata": {
    "execution": {
     "iopub.execute_input": "2021-09-22T18:54:31.358719Z",
     "iopub.status.busy": "2021-09-22T18:54:31.357850Z",
     "iopub.status.idle": "2021-09-22T18:54:32.496021Z",
     "shell.execute_reply": "2021-09-22T18:54:32.495558Z",
     "shell.execute_reply.started": "2021-09-22T16:09:47.411156Z"
    },
    "papermill": {
     "duration": 8.533554,
     "end_time": "2021-09-22T18:54:32.496149",
     "exception": false,
     "start_time": "2021-09-22T18:54:23.962595",
     "status": "completed"
    },
    "tags": []
   },
   "outputs": [],
   "source": [
    "export_model = tf.keras.Sequential([\n",
    "    tf.keras.layers.InputLayer(input_shape=(1,), dtype=tf.string),\n",
    "    vectorize_layer,\n",
    "    model,\n",
    "    Activation('sigmoid')\n",
    "])"
   ]
  },
  {
   "cell_type": "markdown",
   "id": "982c0fd1",
   "metadata": {
    "papermill": {
     "duration": 7.997524,
     "end_time": "2021-09-22T18:54:47.939912",
     "exception": false,
     "start_time": "2021-09-22T18:54:39.942388",
     "status": "completed"
    },
    "tags": []
   },
   "source": [
    "## Compile"
   ]
  },
  {
   "cell_type": "code",
   "execution_count": 46,
   "id": "1d2d4cac",
   "metadata": {
    "execution": {
     "iopub.execute_input": "2021-09-22T18:55:02.788900Z",
     "iopub.status.busy": "2021-09-22T18:55:02.788005Z",
     "iopub.status.idle": "2021-09-22T18:55:02.792881Z",
     "shell.execute_reply": "2021-09-22T18:55:02.792483Z",
     "shell.execute_reply.started": "2021-09-22T16:09:48.590009Z"
    },
    "papermill": {
     "duration": 7.399344,
     "end_time": "2021-09-22T18:55:02.793009",
     "exception": false,
     "start_time": "2021-09-22T18:54:55.393665",
     "status": "completed"
    },
    "tags": []
   },
   "outputs": [],
   "source": [
    "export_model.compile(\n",
    "       optimizer = Adam(learning_rate = 0.001 ),\n",
    "       loss=\"binary_crossentropy\", \n",
    "       metrics=[\"accuracy\"]\n",
    ")"
   ]
  },
  {
   "cell_type": "markdown",
   "id": "3b2e431d",
   "metadata": {
    "papermill": {
     "duration": 7.611925,
     "end_time": "2021-09-22T18:55:17.912274",
     "exception": false,
     "start_time": "2021-09-22T18:55:10.300349",
     "status": "completed"
    },
    "tags": []
   },
   "source": [
    "## Save"
   ]
  },
  {
   "cell_type": "code",
   "execution_count": 47,
   "id": "d5a78863",
   "metadata": {
    "execution": {
     "iopub.execute_input": "2021-09-22T18:55:32.784152Z",
     "iopub.status.busy": "2021-09-22T18:55:32.783310Z",
     "iopub.status.idle": "2021-09-22T18:56:12.952205Z",
     "shell.execute_reply": "2021-09-22T18:56:12.951396Z",
     "shell.execute_reply.started": "2021-09-22T16:09:48.604663Z"
    },
    "papermill": {
     "duration": 47.553878,
     "end_time": "2021-09-22T18:56:12.952414",
     "exception": false,
     "start_time": "2021-09-22T18:55:25.398536",
     "status": "completed"
    },
    "tags": []
   },
   "outputs": [
    {
     "name": "stderr",
     "output_type": "stream",
     "text": [
      "2021-09-22 18:55:48.330229: W tensorflow/python/util/util.cc:348] Sets are not currently considered sequences, but this may change in the future, so consider avoiding using them.\n"
     ]
    }
   ],
   "source": [
    "export_model.save(\"TSA_model_v3\")"
   ]
  },
  {
   "cell_type": "markdown",
   "id": "975fe73e",
   "metadata": {
    "papermill": {
     "duration": 7.409311,
     "end_time": "2021-09-22T18:56:28.351553",
     "exception": false,
     "start_time": "2021-09-22T18:56:20.942242",
     "status": "completed"
    },
    "tags": []
   },
   "source": [
    "# Plot the results"
   ]
  },
  {
   "cell_type": "code",
   "execution_count": 48,
   "id": "82dde2da",
   "metadata": {
    "execution": {
     "iopub.execute_input": "2021-09-22T18:56:42.977930Z",
     "iopub.status.busy": "2021-09-22T18:56:42.977327Z",
     "iopub.status.idle": "2021-09-22T18:56:42.982446Z",
     "shell.execute_reply": "2021-09-22T18:56:42.983029Z",
     "shell.execute_reply.started": "2021-09-22T16:10:29.877857Z"
    },
    "papermill": {
     "duration": 7.483033,
     "end_time": "2021-09-22T18:56:42.983219",
     "exception": false,
     "start_time": "2021-09-22T18:56:35.500186",
     "status": "completed"
    },
    "tags": []
   },
   "outputs": [
    {
     "name": "stdout",
     "output_type": "stream",
     "text": [
      "Number of epochs: 19\n"
     ]
    }
   ],
   "source": [
    "number_of_epochs = len(history.history[\"loss\"])\n",
    "print(f\"Number of epochs: {number_of_epochs}\")"
   ]
  },
  {
   "cell_type": "code",
   "execution_count": 49,
   "id": "41bf7efd",
   "metadata": {
    "execution": {
     "iopub.execute_input": "2021-09-22T18:56:58.360602Z",
     "iopub.status.busy": "2021-09-22T18:56:58.359776Z",
     "iopub.status.idle": "2021-09-22T18:56:58.773587Z",
     "shell.execute_reply": "2021-09-22T18:56:58.773161Z",
     "shell.execute_reply.started": "2021-09-22T16:10:29.884965Z"
    },
    "papermill": {
     "duration": 7.729118,
     "end_time": "2021-09-22T18:56:58.773707",
     "exception": false,
     "start_time": "2021-09-22T18:56:51.044589",
     "status": "completed"
    },
    "tags": []
   },
   "outputs": [
    {
     "data": {
      "image/png": "[encoded data removed]",
      "text/plain": [
       "<Figure size 576x576 with 2 Axes>"
      ]
     },
     "metadata": {
      "needs_background": "light"
     },
     "output_type": "display_data"
    }
   ],
   "source": [
    "acc = history.history['accuracy']\n",
    "val_acc = history.history['val_accuracy']\n",
    "\n",
    "loss = history.history['loss']\n",
    "val_loss = history.history['val_loss']\n",
    "\n",
    "epochs_range = range(number_of_epochs)\n",
    "\n",
    "plt.figure(figsize=(8, 8))\n",
    "plt.subplot(1, 2, 1)\n",
    "plt.plot(epochs_range, acc, label='Training Accuracy')\n",
    "plt.plot(epochs_range, val_acc, label='Validation Accuracy')\n",
    "plt.legend(loc='lower right')\n",
    "plt.title('Training and Validation Accuracy')\n",
    "\n",
    "plt.subplot(1, 2, 2)\n",
    "plt.plot(epochs_range, loss, label='Training Loss')\n",
    "plt.plot(epochs_range, val_loss, label='Validation Loss')\n",
    "plt.legend(loc='upper right')\n",
    "plt.title('Training and Validation Loss')\n",
    "plt.show()"
   ]
  },
  {
   "cell_type": "code",
   "execution_count": 50,
   "id": "9ebef648",
   "metadata": {
    "execution": {
     "iopub.execute_input": "2021-09-22T18:57:13.330250Z",
     "iopub.status.busy": "2021-09-22T18:57:13.329345Z",
     "iopub.status.idle": "2021-09-22T18:57:13.332512Z",
     "shell.execute_reply": "2021-09-22T18:57:13.333093Z",
     "shell.execute_reply.started": "2021-09-22T16:10:30.222388Z"
    },
    "papermill": {
     "duration": 7.433086,
     "end_time": "2021-09-22T18:57:13.333270",
     "exception": false,
     "start_time": "2021-09-22T18:57:05.900184",
     "status": "completed"
    },
    "tags": []
   },
   "outputs": [
    {
     "name": "stdout",
     "output_type": "stream",
     "text": [
      "Best validation accuracy : 0.8310812711715698\n"
     ]
    }
   ],
   "source": [
    "best_accuracy = max(history.history[\"val_accuracy\"])\n",
    "print(f\"Best validation accuracy : {best_accuracy}\")"
   ]
  },
  {
   "cell_type": "markdown",
   "id": "99161f22",
   "metadata": {
    "papermill": {
     "duration": 7.669839,
     "end_time": "2021-09-22T18:57:28.529009",
     "exception": false,
     "start_time": "2021-09-22T18:57:20.859170",
     "status": "completed"
    },
    "tags": []
   },
   "source": [
    "## Print f1-score, precision and recall"
   ]
  },
  {
   "cell_type": "code",
   "execution_count": 51,
   "id": "ed86a1b1",
   "metadata": {
    "execution": {
     "iopub.execute_input": "2021-09-22T18:57:43.248821Z",
     "iopub.status.busy": "2021-09-22T18:57:43.247870Z",
     "iopub.status.idle": "2021-09-22T18:58:19.645710Z",
     "shell.execute_reply": "2021-09-22T18:58:19.646129Z",
     "shell.execute_reply.started": "2021-09-22T16:10:30.229962Z"
    },
    "papermill": {
     "duration": 43.725384,
     "end_time": "2021-09-22T18:58:19.646276",
     "exception": false,
     "start_time": "2021-09-22T18:57:35.920892",
     "status": "completed"
    },
    "tags": []
   },
   "outputs": [
    {
     "name": "stdout",
     "output_type": "stream",
     "text": [
      "              precision    recall  f1-score   support\n",
      "\n",
      "           0       0.84      0.81      0.83     79800\n",
      "           1       0.82      0.85      0.83     80200\n",
      "\n",
      "    accuracy                           0.83    160000\n",
      "   macro avg       0.83      0.83      0.83    160000\n",
      "weighted avg       0.83      0.83      0.83    160000\n",
      "\n"
     ]
    }
   ],
   "source": [
    "predictions = model.predict(X_test)\n",
    "predictions = np.where(predictions<0.5, 0, 1)\n",
    "\n",
    "print(classification_report(y_test, predictions))"
   ]
  },
  {
   "cell_type": "markdown",
   "id": "7e093fd1",
   "metadata": {
    "papermill": {
     "duration": 7.231184,
     "end_time": "2021-09-22T18:58:34.943464",
     "exception": false,
     "start_time": "2021-09-22T18:58:27.712280",
     "status": "completed"
    },
    "tags": []
   },
   "source": [
    "## Test"
   ]
  },
  {
   "cell_type": "code",
   "execution_count": 52,
   "id": "39ca9225",
   "metadata": {
    "execution": {
     "iopub.execute_input": "2021-09-22T18:58:49.725757Z",
     "iopub.status.busy": "2021-09-22T18:58:49.724910Z",
     "iopub.status.idle": "2021-09-22T18:58:54.000660Z",
     "shell.execute_reply": "2021-09-22T18:58:54.000175Z",
     "shell.execute_reply.started": "2021-09-22T16:30:13.697718Z"
    },
    "papermill": {
     "duration": 11.649946,
     "end_time": "2021-09-22T18:58:54.000793",
     "exception": false,
     "start_time": "2021-09-22T18:58:42.350847",
     "status": "completed"
    },
    "tags": []
   },
   "outputs": [
    {
     "name": "stdout",
     "output_type": "stream",
     "text": [
      "Examples:  ['being sick can be really cheap when it hurts too much to eat real food plus your friends make you soup']  Type:  <class 'list'>\n"
     ]
    },
    {
     "data": {
      "text/plain": [
       "array([[0.6540012]], dtype=float32)"
      ]
     },
     "execution_count": 52,
     "metadata": {},
     "output_type": "execute_result"
    }
   ],
   "source": [
    "examples = [\"being sick can be really cheap when it hurts too much to eat real food plus your friends make you soup\"]\n",
    "\n",
    "print(\"Examples: \", examples, \" Type: \", type(examples))\n",
    "\n",
    "export_model.predict(examples)"
   ]
  },
  {
   "cell_type": "markdown",
   "id": "a075e914",
   "metadata": {
    "papermill": {
     "duration": 7.18574,
     "end_time": "2021-09-22T18:59:09.238232",
     "exception": false,
     "start_time": "2021-09-22T18:59:02.052492",
     "status": "completed"
    },
    "tags": []
   },
   "source": [
    "# Tune the threshold (experimental)"
   ]
  },
  {
   "cell_type": "code",
   "execution_count": 53,
   "id": "0d47e780",
   "metadata": {
    "execution": {
     "iopub.execute_input": "2021-09-22T18:59:24.004523Z",
     "iopub.status.busy": "2021-09-22T18:59:24.003540Z",
     "iopub.status.idle": "2021-09-22T18:59:58.420083Z",
     "shell.execute_reply": "2021-09-22T18:59:58.419578Z",
     "shell.execute_reply.started": "2021-09-22T17:29:44.508881Z"
    },
    "papermill": {
     "duration": 41.878425,
     "end_time": "2021-09-22T18:59:58.420219",
     "exception": false,
     "start_time": "2021-09-22T18:59:16.541794",
     "status": "completed"
    },
    "tags": []
   },
   "outputs": [],
   "source": [
    "predictions = model.predict(X_test)"
   ]
  },
  {
   "cell_type": "markdown",
   "id": "20f7faaf",
   "metadata": {
    "papermill": {
     "duration": 7.16486,
     "end_time": "2021-09-22T19:00:13.561694",
     "exception": false,
     "start_time": "2021-09-22T19:00:06.396834",
     "status": "completed"
    },
    "tags": []
   },
   "source": [
    "# Calculate the best f1 score for each threshold"
   ]
  },
  {
   "cell_type": "code",
   "execution_count": 54,
   "id": "1cdf0851",
   "metadata": {
    "execution": {
     "iopub.execute_input": "2021-09-22T19:00:28.468328Z",
     "iopub.status.busy": "2021-09-22T19:00:28.467459Z",
     "iopub.status.idle": "2021-09-22T19:00:28.469973Z",
     "shell.execute_reply": "2021-09-22T19:00:28.469526Z",
     "shell.execute_reply.started": "2021-09-22T17:39:58.793604Z"
    },
    "papermill": {
     "duration": 7.508551,
     "end_time": "2021-09-22T19:00:28.470087",
     "exception": false,
     "start_time": "2021-09-22T19:00:20.961536",
     "status": "completed"
    },
    "tags": []
   },
   "outputs": [],
   "source": [
    "thresholds = np.arange(0, 1, 0.001)\n",
    "thres = 0.1\n",
    "f1_score = 0.001"
   ]
  },
  {
   "cell_type": "markdown",
   "id": "bfa15096",
   "metadata": {
    "papermill": {
     "duration": 7.40727,
     "end_time": "2021-09-22T19:00:43.526592",
     "exception": false,
     "start_time": "2021-09-22T19:00:36.119322",
     "status": "completed"
    },
    "tags": []
   },
   "source": [
    "## Positive"
   ]
  },
  {
   "cell_type": "code",
   "execution_count": 55,
   "id": "14f6a5b8",
   "metadata": {
    "execution": {
     "iopub.execute_input": "2021-09-22T19:00:58.307024Z",
     "iopub.status.busy": "2021-09-22T19:00:58.306182Z",
     "iopub.status.idle": "2021-09-22T19:04:53.934494Z",
     "shell.execute_reply": "2021-09-22T19:04:53.935315Z",
     "shell.execute_reply.started": "2021-09-22T17:40:19.312122Z"
    },
    "papermill": {
     "duration": 242.899137,
     "end_time": "2021-09-22T19:04:53.935582",
     "exception": false,
     "start_time": "2021-09-22T19:00:51.036445",
     "status": "completed"
    },
    "tags": []
   },
   "outputs": [
    {
     "name": "stderr",
     "output_type": "stream",
     "text": [
      "/opt/conda/lib/python3.7/site-packages/sklearn/metrics/_classification.py:1221: UndefinedMetricWarning: Precision and F-score are ill-defined and being set to 0.0 in labels with no predicted samples. Use `zero_division` parameter to control this behavior.\n",
      "  _warn_prf(average, modifier, msg_start, len(result))\n"
     ]
    },
    {
     "name": "stdout",
     "output_type": "stream",
     "text": [
      "Best threshold : 0.451 \n",
      "Best f1_score: 0.8351197263397947\n"
     ]
    }
   ],
   "source": [
    "for threshold in thresholds :\n",
    "    prediction = np.where(predictions>threshold, 1, 0)\n",
    "    report = classification_report(y_test, prediction, output_dict=True)\n",
    "    f1_score_new = report[\"1\"][\"f1-score\"]\n",
    "    if f1_score_new > f1_score: \n",
    "        f1_score = f1_score_new\n",
    "        thres = threshold\n",
    "                      \n",
    "print(f\"Best threshold : {thres} \\nBest f1_score: {f1_score}\")"
   ]
  },
  {
   "cell_type": "markdown",
   "id": "9234c0f6",
   "metadata": {
    "papermill": {
     "duration": 7.416262,
     "end_time": "2021-09-22T19:05:09.079816",
     "exception": false,
     "start_time": "2021-09-22T19:05:01.663554",
     "status": "completed"
    },
    "tags": []
   },
   "source": [
    "## Negative"
   ]
  },
  {
   "cell_type": "code",
   "execution_count": 56,
   "id": "8b239b6a",
   "metadata": {
    "execution": {
     "iopub.execute_input": "2021-09-22T19:05:23.650407Z",
     "iopub.status.busy": "2021-09-22T19:05:23.649589Z",
     "iopub.status.idle": "2021-09-22T19:09:20.229465Z",
     "shell.execute_reply": "2021-09-22T19:09:20.229912Z"
    },
    "papermill": {
     "duration": 243.842439,
     "end_time": "2021-09-22T19:09:20.230092",
     "exception": false,
     "start_time": "2021-09-22T19:05:16.387653",
     "status": "completed"
    },
    "tags": []
   },
   "outputs": [
    {
     "name": "stdout",
     "output_type": "stream",
     "text": [
      "Best threshold : 0.644 \n",
      "Best f1_score: 0.834760187501114\n"
     ]
    }
   ],
   "source": [
    "thres_neg = 0.1\n",
    "f1_score_neg = 0.001\n",
    "for threshold in thresholds :\n",
    "    prediction = np.where(predictions>threshold, 1, 0)\n",
    "    report = classification_report(y_test, prediction, output_dict=True)\n",
    "    f1_score_new = report[\"0\"][\"f1-score\"]\n",
    "    if f1_score_new > f1_score_neg: \n",
    "        f1_score_neg = f1_score_new\n",
    "        thres_neg = threshold\n",
    "                      \n",
    "print(f\"Best threshold : {thres_neg} \\nBest f1_score: {f1_score_neg}\")"
   ]
  },
  {
   "cell_type": "code",
   "execution_count": 57,
   "id": "f9c4fac3",
   "metadata": {
    "execution": {
     "iopub.execute_input": "2021-09-22T19:09:35.406236Z",
     "iopub.status.busy": "2021-09-22T19:09:35.405381Z",
     "iopub.status.idle": "2021-09-22T19:09:35.463785Z",
     "shell.execute_reply": "2021-09-22T19:09:35.463213Z",
     "shell.execute_reply.started": "2021-09-22T17:44:11.031649Z"
    },
    "papermill": {
     "duration": 7.172076,
     "end_time": "2021-09-22T19:09:35.463960",
     "exception": false,
     "start_time": "2021-09-22T19:09:28.291884",
     "status": "completed"
    },
    "tags": []
   },
   "outputs": [
    {
     "name": "stdout",
     "output_type": "stream",
     "text": [
      "Examples:  [\"this is a very good day, don't you think so ?\"]  Type:  <class 'list'>\n"
     ]
    },
    {
     "data": {
      "text/plain": [
       "array([[0.72540784]], dtype=float32)"
      ]
     },
     "execution_count": 57,
     "metadata": {},
     "output_type": "execute_result"
    }
   ],
   "source": [
    "examples = [ \"this is a very good day, don't you think so ?\" ]\n",
    "\n",
    "print(\"Examples: \", examples, \" Type: \", type(examples))\n",
    "\n",
    "export_model.predict(examples)"
   ]
  },
  {
   "cell_type": "markdown",
   "id": "46b082f4",
   "metadata": {
    "papermill": {
     "duration": 7.464767,
     "end_time": "2021-09-22T19:09:50.395025",
     "exception": false,
     "start_time": "2021-09-22T19:09:42.930258",
     "status": "completed"
    },
    "tags": []
   },
   "source": []
  }
 ],
 "metadata": {
  "kernelspec": {
   "display_name": "Python 3",
   "language": "python",
   "name": "python3"
  },
  "language_info": {
   "codemirror_mode": {
    "name": "ipython",
    "version": 3
   },
   "file_extension": ".py",
   "mimetype": "text/x-python",
   "name": "python",
   "nbconvert_exporter": "python",
   "pygments_lexer": "ipython3",
   "version": "3.7.10"
  },
  "papermill": {
   "default_parameters": {},
   "duration": 4236.873288,
   "end_time": "2021-09-22T19:10:01.666264",
   "environment_variables": {},
   "exception": null,
   "input_path": "__notebook__.ipynb",
   "output_path": "__notebook__.ipynb",
   "parameters": {},
   "start_time": "2021-09-22T17:59:24.792976",
   "version": "2.3.3"
  }
 },
 "nbformat": 4,
 "nbformat_minor": 5
}
