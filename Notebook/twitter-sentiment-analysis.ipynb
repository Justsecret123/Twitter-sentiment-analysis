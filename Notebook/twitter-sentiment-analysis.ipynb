{
 "cells": [
  {
   "cell_type": "markdown",
   "id": "088d0bda",
   "metadata": {
    "papermill": {
     "duration": 0.055644,
     "end_time": "2022-04-16T08:51:13.002714",
     "exception": false,
     "start_time": "2022-04-16T08:51:12.947070",
     "status": "completed"
    },
    "tags": []
   },
   "source": [
    "# Twitter Sentiment Analysis by Ibrahim SEROUIS 💻\n",
    "\n",
    "## What is Sentiment Analysis ? 🔍\n",
    "\n",
    "Sentiment analysis is a natural language processing technique used to identify the emotional tone of pieces of writing. In most cases, goal is to determine whether the corpus is postive, negative or neutral. \n",
    "\n",
    "## What to expect 🤔\n",
    "\n",
    "In this Notebook, we're going to train a Sentiment Analysis model on 1.6 million tweets extracted from the well-known Sentiment140 Dataset. "
   ]
  },
  {
   "cell_type": "markdown",
   "id": "c8d7fdac",
   "metadata": {
    "id": "9ZXB7WM81ygu",
    "papermill": {
     "duration": 0.054962,
     "end_time": "2022-04-16T08:51:13.111745",
     "exception": false,
     "start_time": "2022-04-16T08:51:13.056783",
     "status": "completed"
    },
    "tags": []
   },
   "source": [
    "# Libraries"
   ]
  },
  {
   "cell_type": "code",
   "execution_count": 1,
   "id": "e54c7bf5",
   "metadata": {
    "execution": {
     "iopub.execute_input": "2022-04-16T08:51:13.225851Z",
     "iopub.status.busy": "2022-04-16T08:51:13.224349Z",
     "iopub.status.idle": "2022-04-16T08:51:18.254919Z",
     "shell.execute_reply": "2022-04-16T08:51:18.255356Z",
     "shell.execute_reply.started": "2022-04-16T08:49:18.442441Z"
    },
    "id": "IhWt6DDX1yB8",
    "outputId": "7053acb5-17e2-45c8-fc22-8074d9018976",
    "papermill": {
     "duration": 5.089422,
     "end_time": "2022-04-16T08:51:18.255610",
     "exception": false,
     "start_time": "2022-04-16T08:51:13.166188",
     "status": "completed"
    },
    "tags": []
   },
   "outputs": [
    {
     "name": "stderr",
     "output_type": "stream",
     "text": [
      "2022-04-16 08:51:14.656076: I tensorflow/stream_executor/platform/default/dso_loader.cc:49] Successfully opened dynamic library libcudart.so.11.0\n"
     ]
    }
   ],
   "source": [
    "# Regular expressions\n",
    "import re\n",
    "\n",
    "# Data and visualization \n",
    "import pandas as pd\n",
    "import seaborn as sns\n",
    "import matplotlib.pyplot as plt\n",
    "\n",
    "# Calculations\n",
    "import numpy as np\n",
    "\n",
    "# Machine Learning\n",
    "from sklearn.model_selection import train_test_split\n",
    "from sklearn.metrics import classification_report\n",
    "\n",
    "# Deep LEarning\n",
    "import tensorflow as tf\n",
    "from tensorflow.keras.layers import Embedding, LSTM\n",
    "from tensorflow.keras.layers.experimental.preprocessing import TextVectorization\n",
    "from tensorflow.keras.models import Sequential\n",
    "from tensorflow.keras.optimizers import Adam\n",
    "from tensorflow.keras.preprocessing.text import Tokenizer\n",
    "from tensorflow.keras.preprocessing.sequence import pad_sequences"
   ]
  },
  {
   "cell_type": "markdown",
   "id": "d8241700",
   "metadata": {
    "id": "8-hCGQqW2o2D",
    "papermill": {
     "duration": 0.05354,
     "end_time": "2022-04-16T08:51:18.363424",
     "exception": false,
     "start_time": "2022-04-16T08:51:18.309884",
     "status": "completed"
    },
    "tags": []
   },
   "source": [
    "# Exploring the dataset 📊"
   ]
  },
  {
   "cell_type": "markdown",
   "id": "3a0fef5e",
   "metadata": {
    "id": "OoY1m43i24nU",
    "papermill": {
     "duration": 0.053735,
     "end_time": "2022-04-16T08:51:18.470993",
     "exception": false,
     "start_time": "2022-04-16T08:51:18.417258",
     "status": "completed"
    },
    "tags": []
   },
   "source": [
    "# Load"
   ]
  },
  {
   "cell_type": "code",
   "execution_count": 2,
   "id": "4a1ef7a3",
   "metadata": {
    "execution": {
     "iopub.execute_input": "2022-04-16T08:51:18.583798Z",
     "iopub.status.busy": "2022-04-16T08:51:18.583250Z",
     "iopub.status.idle": "2022-04-16T08:51:23.728901Z",
     "shell.execute_reply": "2022-04-16T08:51:23.727909Z",
     "shell.execute_reply.started": "2022-04-16T08:49:23.618609Z"
    },
    "id": "k0bHQUy31HL_",
    "papermill": {
     "duration": 5.204039,
     "end_time": "2022-04-16T08:51:23.729061",
     "exception": false,
     "start_time": "2022-04-16T08:51:18.525022",
     "status": "completed"
    },
    "tags": []
   },
   "outputs": [],
   "source": [
    "dataset = pd.read_csv(\"/kaggle/input/twitter-sentiment-analysis-and-word-embeddings/Dataset/Dataset/training_dataset.csv\", \n",
    "                      encoding=\"latin\", \n",
    "                      header=None, \n",
    "                      names=[\"target\",\"id\",\"date\",\"query\",\"username\",\"content\"]\n",
    "                     )"
   ]
  },
  {
   "cell_type": "markdown",
   "id": "6d5a492d",
   "metadata": {
    "id": "o9_eOnd67Qpr",
    "papermill": {
     "duration": 0.056837,
     "end_time": "2022-04-16T08:51:23.844131",
     "exception": false,
     "start_time": "2022-04-16T08:51:23.787294",
     "status": "completed"
    },
    "tags": []
   },
   "source": [
    "## Show some examples"
   ]
  },
  {
   "cell_type": "code",
   "execution_count": 3,
   "id": "b173807c",
   "metadata": {
    "execution": {
     "iopub.execute_input": "2022-04-16T08:51:23.962480Z",
     "iopub.status.busy": "2022-04-16T08:51:23.961726Z",
     "iopub.status.idle": "2022-04-16T08:51:23.978117Z",
     "shell.execute_reply": "2022-04-16T08:51:23.978513Z",
     "shell.execute_reply.started": "2022-04-16T08:49:29.134194Z"
    },
    "id": "tPuZ_Aht7QC5",
    "outputId": "b79de459-6d91-411b-feb3-1cb39e67a14a",
    "papermill": {
     "duration": 0.079836,
     "end_time": "2022-04-16T08:51:23.978633",
     "exception": false,
     "start_time": "2022-04-16T08:51:23.898797",
     "status": "completed"
    },
    "tags": []
   },
   "outputs": [
    {
     "data": {
      "text/html": [
       "<div>\n",
       "<style scoped>\n",
       "    .dataframe tbody tr th:only-of-type {\n",
       "        vertical-align: middle;\n",
       "    }\n",
       "\n",
       "    .dataframe tbody tr th {\n",
       "        vertical-align: top;\n",
       "    }\n",
       "\n",
       "    .dataframe thead th {\n",
       "        text-align: right;\n",
       "    }\n",
       "</style>\n",
       "<table border=\"1\" class=\"dataframe\">\n",
       "  <thead>\n",
       "    <tr style=\"text-align: right;\">\n",
       "      <th></th>\n",
       "      <th>target</th>\n",
       "      <th>id</th>\n",
       "      <th>date</th>\n",
       "      <th>query</th>\n",
       "      <th>username</th>\n",
       "      <th>content</th>\n",
       "    </tr>\n",
       "  </thead>\n",
       "  <tbody>\n",
       "    <tr>\n",
       "      <th>0</th>\n",
       "      <td>0</td>\n",
       "      <td>1467810369</td>\n",
       "      <td>Mon Apr 06 22:19:45 PDT 2009</td>\n",
       "      <td>NO_QUERY</td>\n",
       "      <td>_TheSpecialOne_</td>\n",
       "      <td>@switchfoot http://twitpic.com/2y1zl - Awww, t...</td>\n",
       "    </tr>\n",
       "    <tr>\n",
       "      <th>1</th>\n",
       "      <td>0</td>\n",
       "      <td>1467810672</td>\n",
       "      <td>Mon Apr 06 22:19:49 PDT 2009</td>\n",
       "      <td>NO_QUERY</td>\n",
       "      <td>scotthamilton</td>\n",
       "      <td>is upset that he can't update his Facebook by ...</td>\n",
       "    </tr>\n",
       "    <tr>\n",
       "      <th>2</th>\n",
       "      <td>0</td>\n",
       "      <td>1467810917</td>\n",
       "      <td>Mon Apr 06 22:19:53 PDT 2009</td>\n",
       "      <td>NO_QUERY</td>\n",
       "      <td>mattycus</td>\n",
       "      <td>@Kenichan I dived many times for the ball. Man...</td>\n",
       "    </tr>\n",
       "    <tr>\n",
       "      <th>3</th>\n",
       "      <td>0</td>\n",
       "      <td>1467811184</td>\n",
       "      <td>Mon Apr 06 22:19:57 PDT 2009</td>\n",
       "      <td>NO_QUERY</td>\n",
       "      <td>ElleCTF</td>\n",
       "      <td>my whole body feels itchy and like its on fire</td>\n",
       "    </tr>\n",
       "    <tr>\n",
       "      <th>4</th>\n",
       "      <td>0</td>\n",
       "      <td>1467811193</td>\n",
       "      <td>Mon Apr 06 22:19:57 PDT 2009</td>\n",
       "      <td>NO_QUERY</td>\n",
       "      <td>Karoli</td>\n",
       "      <td>@nationwideclass no, it's not behaving at all....</td>\n",
       "    </tr>\n",
       "  </tbody>\n",
       "</table>\n",
       "</div>"
      ],
      "text/plain": [
       "   target          id                          date     query  \\\n",
       "0       0  1467810369  Mon Apr 06 22:19:45 PDT 2009  NO_QUERY   \n",
       "1       0  1467810672  Mon Apr 06 22:19:49 PDT 2009  NO_QUERY   \n",
       "2       0  1467810917  Mon Apr 06 22:19:53 PDT 2009  NO_QUERY   \n",
       "3       0  1467811184  Mon Apr 06 22:19:57 PDT 2009  NO_QUERY   \n",
       "4       0  1467811193  Mon Apr 06 22:19:57 PDT 2009  NO_QUERY   \n",
       "\n",
       "          username                                            content  \n",
       "0  _TheSpecialOne_  @switchfoot http://twitpic.com/2y1zl - Awww, t...  \n",
       "1    scotthamilton  is upset that he can't update his Facebook by ...  \n",
       "2         mattycus  @Kenichan I dived many times for the ball. Man...  \n",
       "3          ElleCTF    my whole body feels itchy and like its on fire   \n",
       "4           Karoli  @nationwideclass no, it's not behaving at all....  "
      ]
     },
     "execution_count": 3,
     "metadata": {},
     "output_type": "execute_result"
    }
   ],
   "source": [
    "dataset.head(5)"
   ]
  },
  {
   "cell_type": "markdown",
   "id": "13124432",
   "metadata": {
    "id": "2YaoqG3b9C0Y",
    "papermill": {
     "duration": 0.061093,
     "end_time": "2022-04-16T08:51:24.100109",
     "exception": false,
     "start_time": "2022-04-16T08:51:24.039016",
     "status": "completed"
    },
    "tags": []
   },
   "source": [
    "## Check for missing values"
   ]
  },
  {
   "cell_type": "code",
   "execution_count": 4,
   "id": "ee3fff6c",
   "metadata": {
    "execution": {
     "iopub.execute_input": "2022-04-16T08:51:24.229378Z",
     "iopub.status.busy": "2022-04-16T08:51:24.228598Z",
     "iopub.status.idle": "2022-04-16T08:51:24.797127Z",
     "shell.execute_reply": "2022-04-16T08:51:24.797541Z",
     "shell.execute_reply.started": "2022-04-16T07:33:11.957135Z"
    },
    "id": "xhED0yWp7ihG",
    "outputId": "69eba5ef-81e0-41ca-9af0-3c2b55c4d0eb",
    "papermill": {
     "duration": 0.629366,
     "end_time": "2022-04-16T08:51:24.797703",
     "exception": false,
     "start_time": "2022-04-16T08:51:24.168337",
     "status": "completed"
    },
    "tags": []
   },
   "outputs": [
    {
     "name": "stdout",
     "output_type": "stream",
     "text": [
      "Missing values: \n",
      "\n",
      "target      0\n",
      "id          0\n",
      "date        0\n",
      "query       0\n",
      "username    0\n",
      "content     0\n",
      "dtype: int64\n"
     ]
    }
   ],
   "source": [
    "print(f\"Missing values: \\n\\n{dataset.isna().sum()}\")"
   ]
  },
  {
   "cell_type": "markdown",
   "id": "9bb6c1f5",
   "metadata": {
    "id": "JO4eJJq-9xcr",
    "papermill": {
     "duration": 0.054356,
     "end_time": "2022-04-16T08:51:24.907366",
     "exception": false,
     "start_time": "2022-04-16T08:51:24.853010",
     "status": "completed"
    },
    "tags": []
   },
   "source": [
    "\n",
    "\n",
    "```\n",
    " There are 0 missing values within this dataset\n",
    "```\n",
    "\n"
   ]
  },
  {
   "cell_type": "markdown",
   "id": "d552c0b4",
   "metadata": {
    "id": "cSq9QERv-jvp",
    "papermill": {
     "duration": 0.060216,
     "end_time": "2022-04-16T08:51:25.022250",
     "exception": false,
     "start_time": "2022-04-16T08:51:24.962034",
     "status": "completed"
    },
    "tags": []
   },
   "source": [
    "## Target distribution "
   ]
  },
  {
   "cell_type": "markdown",
   "id": "0d8bdfa8",
   "metadata": {
    "id": "K8tlUnkH-nZQ",
    "papermill": {
     "duration": 0.055079,
     "end_time": "2022-04-16T08:51:25.132673",
     "exception": false,
     "start_time": "2022-04-16T08:51:25.077594",
     "status": "completed"
    },
    "tags": []
   },
   "source": [
    "### Negative samples : (*target = 0*) 😒"
   ]
  },
  {
   "cell_type": "code",
   "execution_count": 5,
   "id": "6676ac63",
   "metadata": {
    "execution": {
     "iopub.execute_input": "2022-04-16T08:51:25.248336Z",
     "iopub.status.busy": "2022-04-16T08:51:25.247701Z",
     "iopub.status.idle": "2022-04-16T08:51:25.333992Z",
     "shell.execute_reply": "2022-04-16T08:51:25.334502Z",
     "shell.execute_reply.started": "2022-04-16T07:33:12.532224Z"
    },
    "id": "Uv8bxTGD9V3l",
    "outputId": "0c83028f-78f0-4bd5-d8eb-c44dd6a1dc47",
    "papermill": {
     "duration": 0.147322,
     "end_time": "2022-04-16T08:51:25.334697",
     "exception": false,
     "start_time": "2022-04-16T08:51:25.187375",
     "status": "completed"
    },
    "tags": []
   },
   "outputs": [
    {
     "name": "stdout",
     "output_type": "stream",
     "text": [
      "Number of negative samples : 800000\n",
      "\n"
     ]
    },
    {
     "data": {
      "text/html": [
       "<div>\n",
       "<style scoped>\n",
       "    .dataframe tbody tr th:only-of-type {\n",
       "        vertical-align: middle;\n",
       "    }\n",
       "\n",
       "    .dataframe tbody tr th {\n",
       "        vertical-align: top;\n",
       "    }\n",
       "\n",
       "    .dataframe thead th {\n",
       "        text-align: right;\n",
       "    }\n",
       "</style>\n",
       "<table border=\"1\" class=\"dataframe\">\n",
       "  <thead>\n",
       "    <tr style=\"text-align: right;\">\n",
       "      <th></th>\n",
       "      <th>target</th>\n",
       "      <th>id</th>\n",
       "      <th>date</th>\n",
       "      <th>query</th>\n",
       "      <th>username</th>\n",
       "      <th>content</th>\n",
       "    </tr>\n",
       "  </thead>\n",
       "  <tbody>\n",
       "    <tr>\n",
       "      <th>0</th>\n",
       "      <td>0</td>\n",
       "      <td>1467810369</td>\n",
       "      <td>Mon Apr 06 22:19:45 PDT 2009</td>\n",
       "      <td>NO_QUERY</td>\n",
       "      <td>_TheSpecialOne_</td>\n",
       "      <td>@switchfoot http://twitpic.com/2y1zl - Awww, t...</td>\n",
       "    </tr>\n",
       "    <tr>\n",
       "      <th>1</th>\n",
       "      <td>0</td>\n",
       "      <td>1467810672</td>\n",
       "      <td>Mon Apr 06 22:19:49 PDT 2009</td>\n",
       "      <td>NO_QUERY</td>\n",
       "      <td>scotthamilton</td>\n",
       "      <td>is upset that he can't update his Facebook by ...</td>\n",
       "    </tr>\n",
       "    <tr>\n",
       "      <th>2</th>\n",
       "      <td>0</td>\n",
       "      <td>1467810917</td>\n",
       "      <td>Mon Apr 06 22:19:53 PDT 2009</td>\n",
       "      <td>NO_QUERY</td>\n",
       "      <td>mattycus</td>\n",
       "      <td>@Kenichan I dived many times for the ball. Man...</td>\n",
       "    </tr>\n",
       "    <tr>\n",
       "      <th>3</th>\n",
       "      <td>0</td>\n",
       "      <td>1467811184</td>\n",
       "      <td>Mon Apr 06 22:19:57 PDT 2009</td>\n",
       "      <td>NO_QUERY</td>\n",
       "      <td>ElleCTF</td>\n",
       "      <td>my whole body feels itchy and like its on fire</td>\n",
       "    </tr>\n",
       "    <tr>\n",
       "      <th>4</th>\n",
       "      <td>0</td>\n",
       "      <td>1467811193</td>\n",
       "      <td>Mon Apr 06 22:19:57 PDT 2009</td>\n",
       "      <td>NO_QUERY</td>\n",
       "      <td>Karoli</td>\n",
       "      <td>@nationwideclass no, it's not behaving at all....</td>\n",
       "    </tr>\n",
       "  </tbody>\n",
       "</table>\n",
       "</div>"
      ],
      "text/plain": [
       "   target          id                          date     query  \\\n",
       "0       0  1467810369  Mon Apr 06 22:19:45 PDT 2009  NO_QUERY   \n",
       "1       0  1467810672  Mon Apr 06 22:19:49 PDT 2009  NO_QUERY   \n",
       "2       0  1467810917  Mon Apr 06 22:19:53 PDT 2009  NO_QUERY   \n",
       "3       0  1467811184  Mon Apr 06 22:19:57 PDT 2009  NO_QUERY   \n",
       "4       0  1467811193  Mon Apr 06 22:19:57 PDT 2009  NO_QUERY   \n",
       "\n",
       "          username                                            content  \n",
       "0  _TheSpecialOne_  @switchfoot http://twitpic.com/2y1zl - Awww, t...  \n",
       "1    scotthamilton  is upset that he can't update his Facebook by ...  \n",
       "2         mattycus  @Kenichan I dived many times for the ball. Man...  \n",
       "3          ElleCTF    my whole body feels itchy and like its on fire   \n",
       "4           Karoli  @nationwideclass no, it's not behaving at all....  "
      ]
     },
     "execution_count": 5,
     "metadata": {},
     "output_type": "execute_result"
    }
   ],
   "source": [
    "negative_samples = dataset[dataset[\"target\"]==0]\n",
    "print(f\"Number of negative samples : {len(negative_samples)}\\n\")\n",
    "negative_samples.head(5)"
   ]
  },
  {
   "cell_type": "markdown",
   "id": "0ccca96e",
   "metadata": {
    "id": "KM1ZuqFEA6x3",
    "papermill": {
     "duration": 0.054986,
     "end_time": "2022-04-16T08:51:25.445795",
     "exception": false,
     "start_time": "2022-04-16T08:51:25.390809",
     "status": "completed"
    },
    "tags": []
   },
   "source": [
    "### Neutral samples : (*target=2*) 😐"
   ]
  },
  {
   "cell_type": "code",
   "execution_count": 6,
   "id": "86671eac",
   "metadata": {
    "execution": {
     "iopub.execute_input": "2022-04-16T08:51:25.566444Z",
     "iopub.status.busy": "2022-04-16T08:51:25.565620Z",
     "iopub.status.idle": "2022-04-16T08:51:25.576147Z",
     "shell.execute_reply": "2022-04-16T08:51:25.576570Z",
     "shell.execute_reply.started": "2022-04-16T07:33:12.623121Z"
    },
    "id": "6DT7jZMCAecG",
    "outputId": "3ada8019-9f04-4135-c142-f622fe23164e",
    "papermill": {
     "duration": 0.075779,
     "end_time": "2022-04-16T08:51:25.576725",
     "exception": false,
     "start_time": "2022-04-16T08:51:25.500946",
     "status": "completed"
    },
    "tags": []
   },
   "outputs": [
    {
     "name": "stdout",
     "output_type": "stream",
     "text": [
      "Number of neutral samples : 0\n",
      "\n",
      "\n"
     ]
    },
    {
     "data": {
      "text/html": [
       "<div>\n",
       "<style scoped>\n",
       "    .dataframe tbody tr th:only-of-type {\n",
       "        vertical-align: middle;\n",
       "    }\n",
       "\n",
       "    .dataframe tbody tr th {\n",
       "        vertical-align: top;\n",
       "    }\n",
       "\n",
       "    .dataframe thead th {\n",
       "        text-align: right;\n",
       "    }\n",
       "</style>\n",
       "<table border=\"1\" class=\"dataframe\">\n",
       "  <thead>\n",
       "    <tr style=\"text-align: right;\">\n",
       "      <th></th>\n",
       "      <th>target</th>\n",
       "      <th>id</th>\n",
       "      <th>date</th>\n",
       "      <th>query</th>\n",
       "      <th>username</th>\n",
       "      <th>content</th>\n",
       "    </tr>\n",
       "  </thead>\n",
       "  <tbody>\n",
       "  </tbody>\n",
       "</table>\n",
       "</div>"
      ],
      "text/plain": [
       "Empty DataFrame\n",
       "Columns: [target, id, date, query, username, content]\n",
       "Index: []"
      ]
     },
     "execution_count": 6,
     "metadata": {},
     "output_type": "execute_result"
    }
   ],
   "source": [
    "neutral_samples = dataset[dataset[\"target\"]==2]\n",
    "print(f\"Number of neutral samples : {len(neutral_samples)}\\n\\n\")\n",
    "neutral_samples.head(5)"
   ]
  },
  {
   "cell_type": "markdown",
   "id": "90a61809",
   "metadata": {
    "id": "VHOQYpNmCL6-",
    "papermill": {
     "duration": 0.058902,
     "end_time": "2022-04-16T08:51:25.697400",
     "exception": false,
     "start_time": "2022-04-16T08:51:25.638498",
     "status": "completed"
    },
    "tags": []
   },
   "source": [
    "\n",
    "\n",
    "```\n",
    "0 neutral sample ? Wow\n",
    "```\n",
    "\n"
   ]
  },
  {
   "cell_type": "markdown",
   "id": "137bd81a",
   "metadata": {
    "id": "NqkK7OZXCROU",
    "papermill": {
     "duration": 0.056977,
     "end_time": "2022-04-16T08:51:25.812975",
     "exception": false,
     "start_time": "2022-04-16T08:51:25.755998",
     "status": "completed"
    },
    "tags": []
   },
   "source": [
    "### Positive samples (*target=4*) 😄"
   ]
  },
  {
   "cell_type": "code",
   "execution_count": 7,
   "id": "73fcab59",
   "metadata": {
    "execution": {
     "iopub.execute_input": "2022-04-16T08:51:25.928605Z",
     "iopub.status.busy": "2022-04-16T08:51:25.927447Z",
     "iopub.status.idle": "2022-04-16T08:51:25.997891Z",
     "shell.execute_reply": "2022-04-16T08:51:25.997403Z",
     "shell.execute_reply.started": "2022-04-16T07:33:12.638295Z"
    },
    "id": "sre7a5oBCQ1Q",
    "outputId": "3b46ce62-a57a-400a-900c-5edfe72418b7",
    "papermill": {
     "duration": 0.129271,
     "end_time": "2022-04-16T08:51:25.998026",
     "exception": false,
     "start_time": "2022-04-16T08:51:25.868755",
     "status": "completed"
    },
    "tags": []
   },
   "outputs": [
    {
     "name": "stdout",
     "output_type": "stream",
     "text": [
      "Number of positive samples 800000\n",
      "\n",
      "\n"
     ]
    },
    {
     "data": {
      "text/html": [
       "<div>\n",
       "<style scoped>\n",
       "    .dataframe tbody tr th:only-of-type {\n",
       "        vertical-align: middle;\n",
       "    }\n",
       "\n",
       "    .dataframe tbody tr th {\n",
       "        vertical-align: top;\n",
       "    }\n",
       "\n",
       "    .dataframe thead th {\n",
       "        text-align: right;\n",
       "    }\n",
       "</style>\n",
       "<table border=\"1\" class=\"dataframe\">\n",
       "  <thead>\n",
       "    <tr style=\"text-align: right;\">\n",
       "      <th></th>\n",
       "      <th>target</th>\n",
       "      <th>id</th>\n",
       "      <th>date</th>\n",
       "      <th>query</th>\n",
       "      <th>username</th>\n",
       "      <th>content</th>\n",
       "    </tr>\n",
       "  </thead>\n",
       "  <tbody>\n",
       "    <tr>\n",
       "      <th>800000</th>\n",
       "      <td>4</td>\n",
       "      <td>1467822272</td>\n",
       "      <td>Mon Apr 06 22:22:45 PDT 2009</td>\n",
       "      <td>NO_QUERY</td>\n",
       "      <td>ersle</td>\n",
       "      <td>I LOVE @Health4UandPets u guys r the best!!</td>\n",
       "    </tr>\n",
       "    <tr>\n",
       "      <th>800001</th>\n",
       "      <td>4</td>\n",
       "      <td>1467822273</td>\n",
       "      <td>Mon Apr 06 22:22:45 PDT 2009</td>\n",
       "      <td>NO_QUERY</td>\n",
       "      <td>becca210</td>\n",
       "      <td>im meeting up with one of my besties tonight! ...</td>\n",
       "    </tr>\n",
       "    <tr>\n",
       "      <th>800002</th>\n",
       "      <td>4</td>\n",
       "      <td>1467822283</td>\n",
       "      <td>Mon Apr 06 22:22:46 PDT 2009</td>\n",
       "      <td>NO_QUERY</td>\n",
       "      <td>Wingman29</td>\n",
       "      <td>@DaRealSunisaKim Thanks for the Twitter add, S...</td>\n",
       "    </tr>\n",
       "    <tr>\n",
       "      <th>800003</th>\n",
       "      <td>4</td>\n",
       "      <td>1467822287</td>\n",
       "      <td>Mon Apr 06 22:22:46 PDT 2009</td>\n",
       "      <td>NO_QUERY</td>\n",
       "      <td>katarinka</td>\n",
       "      <td>Being sick can be really cheap when it hurts t...</td>\n",
       "    </tr>\n",
       "    <tr>\n",
       "      <th>800004</th>\n",
       "      <td>4</td>\n",
       "      <td>1467822293</td>\n",
       "      <td>Mon Apr 06 22:22:46 PDT 2009</td>\n",
       "      <td>NO_QUERY</td>\n",
       "      <td>_EmilyYoung</td>\n",
       "      <td>@LovesBrooklyn2 he has that effect on everyone</td>\n",
       "    </tr>\n",
       "  </tbody>\n",
       "</table>\n",
       "</div>"
      ],
      "text/plain": [
       "        target          id                          date     query  \\\n",
       "800000       4  1467822272  Mon Apr 06 22:22:45 PDT 2009  NO_QUERY   \n",
       "800001       4  1467822273  Mon Apr 06 22:22:45 PDT 2009  NO_QUERY   \n",
       "800002       4  1467822283  Mon Apr 06 22:22:46 PDT 2009  NO_QUERY   \n",
       "800003       4  1467822287  Mon Apr 06 22:22:46 PDT 2009  NO_QUERY   \n",
       "800004       4  1467822293  Mon Apr 06 22:22:46 PDT 2009  NO_QUERY   \n",
       "\n",
       "           username                                            content  \n",
       "800000        ersle       I LOVE @Health4UandPets u guys r the best!!   \n",
       "800001     becca210  im meeting up with one of my besties tonight! ...  \n",
       "800002    Wingman29  @DaRealSunisaKim Thanks for the Twitter add, S...  \n",
       "800003    katarinka  Being sick can be really cheap when it hurts t...  \n",
       "800004  _EmilyYoung    @LovesBrooklyn2 he has that effect on everyone   "
      ]
     },
     "execution_count": 7,
     "metadata": {},
     "output_type": "execute_result"
    }
   ],
   "source": [
    "positive_samples = dataset[dataset[\"target\"]==4]\n",
    "print(f\"Number of positive samples {len(positive_samples)}\\n\\n\")\n",
    "positive_samples.head(5)"
   ]
  },
  {
   "cell_type": "markdown",
   "id": "74a93fe0",
   "metadata": {
    "id": "tZYiR8QDDfnp",
    "papermill": {
     "duration": 0.056948,
     "end_time": "2022-04-16T08:51:26.112891",
     "exception": false,
     "start_time": "2022-04-16T08:51:26.055943",
     "status": "completed"
    },
    "tags": []
   },
   "source": [
    "### Distribution plot"
   ]
  },
  {
   "cell_type": "markdown",
   "id": "8d91961a",
   "metadata": {
    "id": "7Am3AkLNEF9e",
    "papermill": {
     "duration": 0.056165,
     "end_time": "2022-04-16T08:51:26.228514",
     "exception": false,
     "start_time": "2022-04-16T08:51:26.172349",
     "status": "completed"
    },
    "tags": []
   },
   "source": [
    "#### Defining data"
   ]
  },
  {
   "cell_type": "code",
   "execution_count": 8,
   "id": "3fad61c2",
   "metadata": {
    "execution": {
     "iopub.execute_input": "2022-04-16T08:51:26.346610Z",
     "iopub.status.busy": "2022-04-16T08:51:26.345913Z",
     "iopub.status.idle": "2022-04-16T08:51:26.348092Z",
     "shell.execute_reply": "2022-04-16T08:51:26.348454Z",
     "shell.execute_reply.started": "2022-04-16T07:33:12.710068Z"
    },
    "id": "5EdHWdBdDej7",
    "papermill": {
     "duration": 0.062383,
     "end_time": "2022-04-16T08:51:26.348579",
     "exception": false,
     "start_time": "2022-04-16T08:51:26.286196",
     "status": "completed"
    },
    "tags": []
   },
   "outputs": [],
   "source": [
    "data = [len(negative_samples), len(neutral_samples), len(positive_samples)]\n",
    "labels = [\"Negative\",\"Neutral\",\"Positive\"]"
   ]
  },
  {
   "cell_type": "markdown",
   "id": "d76603c5",
   "metadata": {
    "id": "Uj1-OsBnEJrV",
    "papermill": {
     "duration": 0.05599,
     "end_time": "2022-04-16T08:51:26.460762",
     "exception": false,
     "start_time": "2022-04-16T08:51:26.404772",
     "status": "completed"
    },
    "tags": []
   },
   "source": [
    "#### Define color palette : See [seaborn color palettes](https://seaborn.pydata.org/tutorial/color_palettes.html)"
   ]
  },
  {
   "cell_type": "code",
   "execution_count": 9,
   "id": "416c8dc6",
   "metadata": {
    "execution": {
     "iopub.execute_input": "2022-04-16T08:51:26.578620Z",
     "iopub.status.busy": "2022-04-16T08:51:26.577139Z",
     "iopub.status.idle": "2022-04-16T08:51:26.579340Z",
     "shell.execute_reply": "2022-04-16T08:51:26.579760Z",
     "shell.execute_reply.started": "2022-04-16T07:33:12.717141Z"
    },
    "id": "pXz_gP0-DdNQ",
    "papermill": {
     "duration": 0.062797,
     "end_time": "2022-04-16T08:51:26.579885",
     "exception": false,
     "start_time": "2022-04-16T08:51:26.517088",
     "status": "completed"
    },
    "tags": []
   },
   "outputs": [],
   "source": [
    "colors = sns.color_palette(\"pastel\")"
   ]
  },
  {
   "cell_type": "markdown",
   "id": "9052eb69",
   "metadata": {
    "id": "ESqP10mDEUhf",
    "papermill": {
     "duration": 0.056261,
     "end_time": "2022-04-16T08:51:26.692417",
     "exception": false,
     "start_time": "2022-04-16T08:51:26.636156",
     "status": "completed"
    },
    "tags": []
   },
   "source": [
    "#### Dsitribution pie chart"
   ]
  },
  {
   "cell_type": "code",
   "execution_count": 10,
   "id": "daa0d364",
   "metadata": {
    "execution": {
     "iopub.execute_input": "2022-04-16T08:51:26.824523Z",
     "iopub.status.busy": "2022-04-16T08:51:26.823895Z",
     "iopub.status.idle": "2022-04-16T08:51:26.912207Z",
     "shell.execute_reply": "2022-04-16T08:51:26.912586Z",
     "shell.execute_reply.started": "2022-04-16T07:33:12.72668Z"
    },
    "id": "YGGg2baaETLr",
    "outputId": "ed0e2df0-c414-42ce-e69c-6e4320857c1c",
    "papermill": {
     "duration": 0.164192,
     "end_time": "2022-04-16T08:51:26.912732",
     "exception": false,
     "start_time": "2022-04-16T08:51:26.748540",
     "status": "completed"
    },
    "tags": []
   },
   "outputs": [
    {
     "data": {
      "image/png": "[encoded data removed]",
      "text/plain": [
       "<Figure size 432x432 with 1 Axes>"
      ]
     },
     "metadata": {},
     "output_type": "display_data"
    }
   ],
   "source": [
    "plt.figure(figsize=(6,6))\n",
    "plt.title(\"Target distribution\")\n",
    "plt.pie(data, labels=labels, colors=colors, autopct=\"%.0f%%\")\n",
    "plt.show()"
   ]
  },
  {
   "cell_type": "markdown",
   "id": "4544cef0",
   "metadata": {
    "id": "RTZEZqv_HZOE",
    "papermill": {
     "duration": 0.056608,
     "end_time": "2022-04-16T08:51:27.026408",
     "exception": false,
     "start_time": "2022-04-16T08:51:26.969800",
     "status": "completed"
    },
    "tags": []
   },
   "source": [
    "# Data cleaning 🧽🧼"
   ]
  },
  {
   "cell_type": "markdown",
   "id": "cf011c09",
   "metadata": {
    "id": "yz1BulVbHdGl",
    "papermill": {
     "duration": 0.092069,
     "end_time": "2022-04-16T08:51:27.182478",
     "exception": false,
     "start_time": "2022-04-16T08:51:27.090409",
     "status": "completed"
    },
    "tags": []
   },
   "source": [
    "## Drop unncessary columns\n",
    "These columns are not necessary to train our model : ID, date, query, username. \n",
    "\n",
    "> Notes : \n",
    "- axis = 1 means \"computing along the columns\"\n",
    "- using (inplace = true) will overwrite the existing dataframe"
   ]
  },
  {
   "cell_type": "code",
   "execution_count": 11,
   "id": "003e7d87",
   "metadata": {
    "execution": {
     "iopub.execute_input": "2022-04-16T08:51:27.397717Z",
     "iopub.status.busy": "2022-04-16T08:51:27.394333Z",
     "iopub.status.idle": "2022-04-16T08:51:27.446014Z",
     "shell.execute_reply": "2022-04-16T08:51:27.446793Z",
     "shell.execute_reply.started": "2022-04-16T07:35:17.398398Z"
    },
    "id": "WyZ8e3VLEjfL",
    "papermill": {
     "duration": 0.149463,
     "end_time": "2022-04-16T08:51:27.446946",
     "exception": false,
     "start_time": "2022-04-16T08:51:27.297483",
     "status": "completed"
    },
    "tags": []
   },
   "outputs": [],
   "source": [
    "dataset.drop([\"id\",\"date\",\"query\",\"username\"],axis=1, inplace=True)"
   ]
  },
  {
   "cell_type": "markdown",
   "id": "1d3f6c43",
   "metadata": {
    "id": "UMcitFGUHzPC",
    "papermill": {
     "duration": 0.180464,
     "end_time": "2022-04-16T08:51:27.721647",
     "exception": false,
     "start_time": "2022-04-16T08:51:27.541183",
     "status": "completed"
    },
    "tags": []
   },
   "source": [
    "### Result"
   ]
  },
  {
   "cell_type": "code",
   "execution_count": 12,
   "id": "c364d34a",
   "metadata": {
    "execution": {
     "iopub.execute_input": "2022-04-16T08:51:27.992386Z",
     "iopub.status.busy": "2022-04-16T08:51:27.991581Z",
     "iopub.status.idle": "2022-04-16T08:51:27.998236Z",
     "shell.execute_reply": "2022-04-16T08:51:27.998874Z",
     "shell.execute_reply.started": "2022-04-16T05:04:30.574165Z"
    },
    "id": "KFdq0LhqHysm",
    "outputId": "9a7a159c-7c79-4bef-b162-f07fd3df19d4",
    "papermill": {
     "duration": 0.123274,
     "end_time": "2022-04-16T08:51:27.999063",
     "exception": false,
     "start_time": "2022-04-16T08:51:27.875789",
     "status": "completed"
    },
    "tags": []
   },
   "outputs": [
    {
     "data": {
      "text/html": [
       "<div>\n",
       "<style scoped>\n",
       "    .dataframe tbody tr th:only-of-type {\n",
       "        vertical-align: middle;\n",
       "    }\n",
       "\n",
       "    .dataframe tbody tr th {\n",
       "        vertical-align: top;\n",
       "    }\n",
       "\n",
       "    .dataframe thead th {\n",
       "        text-align: right;\n",
       "    }\n",
       "</style>\n",
       "<table border=\"1\" class=\"dataframe\">\n",
       "  <thead>\n",
       "    <tr style=\"text-align: right;\">\n",
       "      <th></th>\n",
       "      <th>target</th>\n",
       "      <th>content</th>\n",
       "    </tr>\n",
       "  </thead>\n",
       "  <tbody>\n",
       "    <tr>\n",
       "      <th>0</th>\n",
       "      <td>0</td>\n",
       "      <td>@switchfoot http://twitpic.com/2y1zl - Awww, t...</td>\n",
       "    </tr>\n",
       "    <tr>\n",
       "      <th>1</th>\n",
       "      <td>0</td>\n",
       "      <td>is upset that he can't update his Facebook by ...</td>\n",
       "    </tr>\n",
       "    <tr>\n",
       "      <th>2</th>\n",
       "      <td>0</td>\n",
       "      <td>@Kenichan I dived many times for the ball. Man...</td>\n",
       "    </tr>\n",
       "    <tr>\n",
       "      <th>3</th>\n",
       "      <td>0</td>\n",
       "      <td>my whole body feels itchy and like its on fire</td>\n",
       "    </tr>\n",
       "    <tr>\n",
       "      <th>4</th>\n",
       "      <td>0</td>\n",
       "      <td>@nationwideclass no, it's not behaving at all....</td>\n",
       "    </tr>\n",
       "  </tbody>\n",
       "</table>\n",
       "</div>"
      ],
      "text/plain": [
       "   target                                            content\n",
       "0       0  @switchfoot http://twitpic.com/2y1zl - Awww, t...\n",
       "1       0  is upset that he can't update his Facebook by ...\n",
       "2       0  @Kenichan I dived many times for the ball. Man...\n",
       "3       0    my whole body feels itchy and like its on fire \n",
       "4       0  @nationwideclass no, it's not behaving at all...."
      ]
     },
     "execution_count": 12,
     "metadata": {},
     "output_type": "execute_result"
    }
   ],
   "source": [
    "dataset.head(5)"
   ]
  },
  {
   "cell_type": "markdown",
   "id": "79d4921b",
   "metadata": {
    "papermill": {
     "duration": 0.095852,
     "end_time": "2022-04-16T08:51:28.189852",
     "exception": false,
     "start_time": "2022-04-16T08:51:28.094000",
     "status": "completed"
    },
    "tags": []
   },
   "source": [
    "## Replace the targets \n",
    "\n",
    "In the original dataset, 4 means \"true\". For convenience purposes, we'll set it to 1. "
   ]
  },
  {
   "cell_type": "code",
   "execution_count": 13,
   "id": "5b744a5a",
   "metadata": {
    "execution": {
     "iopub.execute_input": "2022-04-16T08:51:28.390234Z",
     "iopub.status.busy": "2022-04-16T08:51:28.389041Z",
     "iopub.status.idle": "2022-04-16T08:51:28.405625Z",
     "shell.execute_reply": "2022-04-16T08:51:28.406366Z",
     "shell.execute_reply.started": "2022-04-16T05:04:31.736911Z"
    },
    "papermill": {
     "duration": 0.121464,
     "end_time": "2022-04-16T08:51:28.406580",
     "exception": false,
     "start_time": "2022-04-16T08:51:28.285116",
     "status": "completed"
    },
    "tags": []
   },
   "outputs": [],
   "source": [
    "dataset.target = dataset.target.replace({4: 1})"
   ]
  },
  {
   "cell_type": "markdown",
   "id": "30cc93ca",
   "metadata": {
    "papermill": {
     "duration": 0.094631,
     "end_time": "2022-04-16T08:51:28.596895",
     "exception": false,
     "start_time": "2022-04-16T08:51:28.502264",
     "status": "completed"
    },
    "tags": []
   },
   "source": [
    "### Result"
   ]
  },
  {
   "cell_type": "code",
   "execution_count": 14,
   "id": "a51412db",
   "metadata": {
    "execution": {
     "iopub.execute_input": "2022-04-16T08:51:28.796264Z",
     "iopub.status.busy": "2022-04-16T08:51:28.795520Z",
     "iopub.status.idle": "2022-04-16T08:51:28.852816Z",
     "shell.execute_reply": "2022-04-16T08:51:28.853303Z",
     "shell.execute_reply.started": "2022-04-16T05:04:33.418689Z"
    },
    "papermill": {
     "duration": 0.160789,
     "end_time": "2022-04-16T08:51:28.853467",
     "exception": false,
     "start_time": "2022-04-16T08:51:28.692678",
     "status": "completed"
    },
    "tags": []
   },
   "outputs": [
    {
     "data": {
      "text/html": [
       "<div>\n",
       "<style scoped>\n",
       "    .dataframe tbody tr th:only-of-type {\n",
       "        vertical-align: middle;\n",
       "    }\n",
       "\n",
       "    .dataframe tbody tr th {\n",
       "        vertical-align: top;\n",
       "    }\n",
       "\n",
       "    .dataframe thead th {\n",
       "        text-align: right;\n",
       "    }\n",
       "</style>\n",
       "<table border=\"1\" class=\"dataframe\">\n",
       "  <thead>\n",
       "    <tr style=\"text-align: right;\">\n",
       "      <th></th>\n",
       "      <th>target</th>\n",
       "      <th>content</th>\n",
       "    </tr>\n",
       "  </thead>\n",
       "  <tbody>\n",
       "    <tr>\n",
       "      <th>800000</th>\n",
       "      <td>1</td>\n",
       "      <td>I LOVE @Health4UandPets u guys r the best!!</td>\n",
       "    </tr>\n",
       "    <tr>\n",
       "      <th>800001</th>\n",
       "      <td>1</td>\n",
       "      <td>im meeting up with one of my besties tonight! ...</td>\n",
       "    </tr>\n",
       "    <tr>\n",
       "      <th>800002</th>\n",
       "      <td>1</td>\n",
       "      <td>@DaRealSunisaKim Thanks for the Twitter add, S...</td>\n",
       "    </tr>\n",
       "    <tr>\n",
       "      <th>800003</th>\n",
       "      <td>1</td>\n",
       "      <td>Being sick can be really cheap when it hurts t...</td>\n",
       "    </tr>\n",
       "    <tr>\n",
       "      <th>800004</th>\n",
       "      <td>1</td>\n",
       "      <td>@LovesBrooklyn2 he has that effect on everyone</td>\n",
       "    </tr>\n",
       "  </tbody>\n",
       "</table>\n",
       "</div>"
      ],
      "text/plain": [
       "        target                                            content\n",
       "800000       1       I LOVE @Health4UandPets u guys r the best!! \n",
       "800001       1  im meeting up with one of my besties tonight! ...\n",
       "800002       1  @DaRealSunisaKim Thanks for the Twitter add, S...\n",
       "800003       1  Being sick can be really cheap when it hurts t...\n",
       "800004       1    @LovesBrooklyn2 he has that effect on everyone "
      ]
     },
     "execution_count": 14,
     "metadata": {},
     "output_type": "execute_result"
    }
   ],
   "source": [
    "dataset[dataset[\"target\"]==1].head()"
   ]
  },
  {
   "cell_type": "markdown",
   "id": "ac028719",
   "metadata": {
    "id": "UBAfnoUyISya",
    "papermill": {
     "duration": 0.057658,
     "end_time": "2022-04-16T08:51:28.969812",
     "exception": false,
     "start_time": "2022-04-16T08:51:28.912154",
     "status": "completed"
    },
    "tags": []
   },
   "source": [
    "## Removing mentions, links, extra spaces from tweets"
   ]
  },
  {
   "cell_type": "code",
   "execution_count": 15,
   "id": "adfd436a",
   "metadata": {
    "execution": {
     "iopub.execute_input": "2022-04-16T08:51:29.094843Z",
     "iopub.status.busy": "2022-04-16T08:51:29.093211Z",
     "iopub.status.idle": "2022-04-16T08:51:29.095508Z",
     "shell.execute_reply": "2022-04-16T08:51:29.095963Z",
     "shell.execute_reply.started": "2022-04-16T05:04:35.630171Z"
    },
    "id": "ikqW_T2zH13p",
    "papermill": {
     "duration": 0.068482,
     "end_time": "2022-04-16T08:51:29.096109",
     "exception": false,
     "start_time": "2022-04-16T08:51:29.027627",
     "status": "completed"
    },
    "tags": []
   },
   "outputs": [],
   "source": [
    "# Remove mentions\n",
    "regex_mentions = r\"@[A-Za-z0-9_]+\"\n",
    "# Remove links\n",
    "regex_links = r\"https?://[A-Za-z0-9./]+\"\n",
    "# Remove some special characters\n",
    "regex_special = r\"[^A-Za-z0-9]+\""
   ]
  },
  {
   "cell_type": "markdown",
   "id": "cd86f91a",
   "metadata": {
    "id": "I9jaNykeM_yj",
    "papermill": {
     "duration": 0.062151,
     "end_time": "2022-04-16T08:51:29.221442",
     "exception": false,
     "start_time": "2022-04-16T08:51:29.159291",
     "status": "completed"
    },
    "tags": []
   },
   "source": [
    "### Apply preprocessing"
   ]
  },
  {
   "cell_type": "code",
   "execution_count": 16,
   "id": "3aaafb7f",
   "metadata": {
    "execution": {
     "iopub.execute_input": "2022-04-16T08:51:29.383987Z",
     "iopub.status.busy": "2022-04-16T08:51:29.383053Z",
     "iopub.status.idle": "2022-04-16T08:51:47.195019Z",
     "shell.execute_reply": "2022-04-16T08:51:47.194497Z",
     "shell.execute_reply.started": "2022-04-16T05:04:39.882395Z"
    },
    "id": "EoABeZwEM-r1",
    "papermill": {
     "duration": 17.912132,
     "end_time": "2022-04-16T08:51:47.195157",
     "exception": false,
     "start_time": "2022-04-16T08:51:29.283025",
     "status": "completed"
    },
    "tags": []
   },
   "outputs": [],
   "source": [
    "# Remove mentions\n",
    "dataset.content = dataset.content.apply(lambda x: re.sub(regex_mentions, \" \", str(x).strip()))\n",
    "# Remove links \n",
    "dataset.content = dataset.content.apply(lambda x: re.sub(regex_links, \" \", str(x).strip()))\n",
    "# Remove special characters\n",
    "dataset.content = dataset.content.apply(lambda x: re.sub(regex_special, \" \", str(x).strip()))"
   ]
  },
  {
   "cell_type": "markdown",
   "id": "01bf7a48",
   "metadata": {
    "id": "FqB9ujzoNZ16",
    "papermill": {
     "duration": 0.060992,
     "end_time": "2022-04-16T08:51:47.314875",
     "exception": false,
     "start_time": "2022-04-16T08:51:47.253883",
     "status": "completed"
    },
    "tags": []
   },
   "source": [
    "### Show results "
   ]
  },
  {
   "cell_type": "code",
   "execution_count": 17,
   "id": "0e1f4771",
   "metadata": {
    "execution": {
     "iopub.execute_input": "2022-04-16T08:51:47.448008Z",
     "iopub.status.busy": "2022-04-16T08:51:47.447158Z",
     "iopub.status.idle": "2022-04-16T08:51:47.450884Z",
     "shell.execute_reply": "2022-04-16T08:51:47.450389Z",
     "shell.execute_reply.started": "2022-04-16T05:04:57.908369Z"
    },
    "id": "0IwBkikKNG-6",
    "papermill": {
     "duration": 0.073995,
     "end_time": "2022-04-16T08:51:47.450999",
     "exception": false,
     "start_time": "2022-04-16T08:51:47.377004",
     "status": "completed"
    },
    "tags": []
   },
   "outputs": [
    {
     "data": {
      "text/html": [
       "<div>\n",
       "<style scoped>\n",
       "    .dataframe tbody tr th:only-of-type {\n",
       "        vertical-align: middle;\n",
       "    }\n",
       "\n",
       "    .dataframe tbody tr th {\n",
       "        vertical-align: top;\n",
       "    }\n",
       "\n",
       "    .dataframe thead th {\n",
       "        text-align: right;\n",
       "    }\n",
       "</style>\n",
       "<table border=\"1\" class=\"dataframe\">\n",
       "  <thead>\n",
       "    <tr style=\"text-align: right;\">\n",
       "      <th></th>\n",
       "      <th>target</th>\n",
       "      <th>content</th>\n",
       "    </tr>\n",
       "  </thead>\n",
       "  <tbody>\n",
       "    <tr>\n",
       "      <th>0</th>\n",
       "      <td>0</td>\n",
       "      <td>Awww that s a bummer You shoulda got David Ca...</td>\n",
       "    </tr>\n",
       "    <tr>\n",
       "      <th>1</th>\n",
       "      <td>0</td>\n",
       "      <td>is upset that he can t update his Facebook by ...</td>\n",
       "    </tr>\n",
       "    <tr>\n",
       "      <th>2</th>\n",
       "      <td>0</td>\n",
       "      <td>I dived many times for the ball Managed to sav...</td>\n",
       "    </tr>\n",
       "    <tr>\n",
       "      <th>3</th>\n",
       "      <td>0</td>\n",
       "      <td>my whole body feels itchy and like its on fire</td>\n",
       "    </tr>\n",
       "    <tr>\n",
       "      <th>4</th>\n",
       "      <td>0</td>\n",
       "      <td>no it s not behaving at all i m mad why am i h...</td>\n",
       "    </tr>\n",
       "    <tr>\n",
       "      <th>5</th>\n",
       "      <td>0</td>\n",
       "      <td>not the whole crew</td>\n",
       "    </tr>\n",
       "    <tr>\n",
       "      <th>6</th>\n",
       "      <td>0</td>\n",
       "      <td>Need a hug</td>\n",
       "    </tr>\n",
       "    <tr>\n",
       "      <th>7</th>\n",
       "      <td>0</td>\n",
       "      <td>hey long time no see Yes Rains a bit only a bi...</td>\n",
       "    </tr>\n",
       "    <tr>\n",
       "      <th>8</th>\n",
       "      <td>0</td>\n",
       "      <td>nope they didn t have it</td>\n",
       "    </tr>\n",
       "    <tr>\n",
       "      <th>9</th>\n",
       "      <td>0</td>\n",
       "      <td>que me muera</td>\n",
       "    </tr>\n",
       "  </tbody>\n",
       "</table>\n",
       "</div>"
      ],
      "text/plain": [
       "   target                                            content\n",
       "0       0   Awww that s a bummer You shoulda got David Ca...\n",
       "1       0  is upset that he can t update his Facebook by ...\n",
       "2       0  I dived many times for the ball Managed to sav...\n",
       "3       0     my whole body feels itchy and like its on fire\n",
       "4       0  no it s not behaving at all i m mad why am i h...\n",
       "5       0                                 not the whole crew\n",
       "6       0                                         Need a hug\n",
       "7       0  hey long time no see Yes Rains a bit only a bi...\n",
       "8       0                           nope they didn t have it\n",
       "9       0                                      que me muera "
      ]
     },
     "execution_count": 17,
     "metadata": {},
     "output_type": "execute_result"
    }
   ],
   "source": [
    "dataset.head(10)"
   ]
  },
  {
   "cell_type": "markdown",
   "id": "191751fe",
   "metadata": {
    "papermill": {
     "duration": 0.060783,
     "end_time": "2022-04-16T08:51:47.573892",
     "exception": false,
     "start_time": "2022-04-16T08:51:47.513109",
     "status": "completed"
    },
    "tags": []
   },
   "source": [
    "## Check for null content after cleaning\n",
    "In some rare cases, tweets may contain only special characters and end up \"empty\" after cleaning"
   ]
  },
  {
   "cell_type": "code",
   "execution_count": 18,
   "id": "e24782a8",
   "metadata": {
    "execution": {
     "iopub.execute_input": "2022-04-16T08:51:47.864306Z",
     "iopub.status.busy": "2022-04-16T08:51:47.863458Z",
     "iopub.status.idle": "2022-04-16T08:51:47.872692Z",
     "shell.execute_reply": "2022-04-16T08:51:47.873321Z",
     "shell.execute_reply.started": "2022-04-16T05:04:57.921066Z"
    },
    "papermill": {
     "duration": 0.239155,
     "end_time": "2022-04-16T08:51:47.873519",
     "exception": false,
     "start_time": "2022-04-16T08:51:47.634364",
     "status": "completed"
    },
    "tags": []
   },
   "outputs": [
    {
     "name": "stdout",
     "output_type": "stream",
     "text": [
      "Null values: \n",
      "\n",
      "target     0\n",
      "content    0\n",
      "dtype: int64\n"
     ]
    }
   ],
   "source": [
    "print(f\"Null values: \\n\\n{dataset.isna().sum()}\")"
   ]
  },
  {
   "cell_type": "markdown",
   "id": "245349c8",
   "metadata": {
    "id": "4v0DrR2mOwG-",
    "papermill": {
     "duration": 0.064786,
     "end_time": "2022-04-16T08:51:48.004673",
     "exception": false,
     "start_time": "2022-04-16T08:51:47.939887",
     "status": "completed"
    },
    "tags": []
   },
   "source": [
    "# Data preparation 👨🏾‍🔬"
   ]
  },
  {
   "cell_type": "markdown",
   "id": "7e195ed2",
   "metadata": {
    "papermill": {
     "duration": 0.069461,
     "end_time": "2022-04-16T08:51:48.175695",
     "exception": false,
     "start_time": "2022-04-16T08:51:48.106234",
     "status": "completed"
    },
    "tags": []
   },
   "source": [
    "## Train/test split\n",
    "\n",
    "Since the dataset is large enough, we will proceed to a 90-10 (90% for training and 10% for validation/test) split. \n",
    "\n",
    "> Note : Fixing the random state parameter makes our splitting operation reproductible by initializing the internal random number generator which will decide the splitting of data into train and test indices in our case. \n",
    "\n",
    "Inspired by [this answer](https://intellipaat.com/community/15379/python-random-state-in-splitting-dataset)\n"
   ]
  },
  {
   "cell_type": "code",
   "execution_count": 19,
   "id": "138c5e18",
   "metadata": {
    "execution": {
     "iopub.execute_input": "2022-04-16T08:51:48.307517Z",
     "iopub.status.busy": "2022-04-16T08:51:48.306846Z",
     "iopub.status.idle": "2022-04-16T08:51:48.663811Z",
     "shell.execute_reply": "2022-04-16T08:51:48.663310Z",
     "shell.execute_reply.started": "2022-04-16T05:04:58.097693Z"
    },
    "id": "uoKZ8VeBOWzJ",
    "papermill": {
     "duration": 0.425961,
     "end_time": "2022-04-16T08:51:48.663947",
     "exception": false,
     "start_time": "2022-04-16T08:51:48.237986",
     "status": "completed"
    },
    "tags": []
   },
   "outputs": [],
   "source": [
    "train, test = train_test_split(dataset, test_size=0.1, random_state=44)"
   ]
  },
  {
   "cell_type": "markdown",
   "id": "1a731254",
   "metadata": {
    "id": "3mReEzwzPr9x",
    "papermill": {
     "duration": 0.058481,
     "end_time": "2022-04-16T08:51:48.781859",
     "exception": false,
     "start_time": "2022-04-16T08:51:48.723378",
     "status": "completed"
    },
    "tags": []
   },
   "source": [
    "### Results "
   ]
  },
  {
   "cell_type": "code",
   "execution_count": 20,
   "id": "75557dec",
   "metadata": {
    "execution": {
     "iopub.execute_input": "2022-04-16T08:51:48.905172Z",
     "iopub.status.busy": "2022-04-16T08:51:48.904302Z",
     "iopub.status.idle": "2022-04-16T08:51:48.907708Z",
     "shell.execute_reply": "2022-04-16T08:51:48.908241Z",
     "shell.execute_reply.started": "2022-04-16T05:04:58.488558Z"
    },
    "id": "aECLgCaePjaU",
    "outputId": "7627359b-9e41-4fa5-8ffc-daaba24acbd4",
    "papermill": {
     "duration": 0.067013,
     "end_time": "2022-04-16T08:51:48.908415",
     "exception": false,
     "start_time": "2022-04-16T08:51:48.841402",
     "status": "completed"
    },
    "tags": []
   },
   "outputs": [
    {
     "name": "stdout",
     "output_type": "stream",
     "text": [
      "Training set length: 1.44M examples\n",
      "Test set length: 0.16M examples\n"
     ]
    }
   ],
   "source": [
    "print(f\"Training set length: {len(train)/1e6}M examples\")\n",
    "print(f\"Test set length: {len(test)/1e6}M examples\")"
   ]
  },
  {
   "cell_type": "markdown",
   "id": "36b4f702",
   "metadata": {
    "id": "lG9lPGZgQJ7r",
    "papermill": {
     "duration": 0.059257,
     "end_time": "2022-04-16T08:51:49.027338",
     "exception": false,
     "start_time": "2022-04-16T08:51:48.968081",
     "status": "completed"
    },
    "tags": []
   },
   "source": [
    "## Tokenization\n",
    "\n",
    "Tokenization is the process of breaking apart original text into individual pieces (tokens) for further analysis. This process is important because the meaning of the text can be interpreted through analysis of the words present in the text. \n",
    "\n",
    "[Inspired from this medium article](https://medium.com/analytics-vidhya/spacy-basics-the-importance-of-tokens-in-natural-language-processing-89a698d8a76). "
   ]
  },
  {
   "cell_type": "markdown",
   "id": "3b8503e9",
   "metadata": {
    "id": "XG5wc4ugQ18w",
    "papermill": {
     "duration": 0.070845,
     "end_time": "2022-04-16T08:51:49.157892",
     "exception": false,
     "start_time": "2022-04-16T08:51:49.087047",
     "status": "completed"
    },
    "tags": []
   },
   "source": [
    "### Define the tokenizer\n",
    "\n",
    "This class allows to vectorize a text corpus, by turning each text into either a sequence of integers (each integer being the index of a token in a dictionary) or into a vector where the coefficient for each token could be binary, based on word count, based on tf-idf... [[source]](https://www.tensorflow.org/api_docs/python/tf/keras/preprocessing/text/Tokenizer). \n",
    "\n"
   ]
  },
  {
   "cell_type": "code",
   "execution_count": 21,
   "id": "1aafb18e",
   "metadata": {
    "execution": {
     "iopub.execute_input": "2022-04-16T08:51:49.395082Z",
     "iopub.status.busy": "2022-04-16T08:51:49.394305Z",
     "iopub.status.idle": "2022-04-16T08:52:15.265707Z",
     "shell.execute_reply": "2022-04-16T08:52:15.265187Z",
     "shell.execute_reply.started": "2022-04-16T05:04:58.49484Z"
    },
    "id": "tGx6CvE8P2Tv",
    "papermill": {
     "duration": 26.001596,
     "end_time": "2022-04-16T08:52:15.265859",
     "exception": false,
     "start_time": "2022-04-16T08:51:49.264263",
     "status": "completed"
    },
    "tags": []
   },
   "outputs": [],
   "source": [
    "# Initialize the tokenizer\n",
    "tokenizer = Tokenizer()\n",
    "# Updates the internal vocabulary based on our tweet contents\n",
    "tokenizer.fit_on_texts(train.content)\n",
    "# Setup the vocabular size based on the tokenizer results\n",
    "vocab_size = len(tokenizer.word_index)+1"
   ]
  },
  {
   "cell_type": "markdown",
   "id": "182db9ec",
   "metadata": {
    "papermill": {
     "duration": 0.058863,
     "end_time": "2022-04-16T08:52:15.384422",
     "exception": false,
     "start_time": "2022-04-16T08:52:15.325559",
     "status": "completed"
    },
    "tags": []
   },
   "source": [
    "### Results "
   ]
  },
  {
   "cell_type": "code",
   "execution_count": 22,
   "id": "b940a840",
   "metadata": {
    "execution": {
     "iopub.execute_input": "2022-04-16T08:52:15.514261Z",
     "iopub.status.busy": "2022-04-16T08:52:15.513568Z",
     "iopub.status.idle": "2022-04-16T08:52:15.516429Z",
     "shell.execute_reply": "2022-04-16T08:52:15.517033Z",
     "shell.execute_reply.started": "2022-04-16T05:05:24.417521Z"
    },
    "papermill": {
     "duration": 0.07376,
     "end_time": "2022-04-16T08:52:15.517202",
     "exception": false,
     "start_time": "2022-04-16T08:52:15.443442",
     "status": "completed"
    },
    "tags": []
   },
   "outputs": [
    {
     "name": "stdout",
     "output_type": "stream",
     "text": [
      "Word index length: 268198\n",
      "Some words: ['i', 'to', 'the', 'a', 'my', 'it', 'and', 'you', 'is', 'in']\n"
     ]
    }
   ],
   "source": [
    "print(f\"Word index length: {len(tokenizer.word_index)}\")\n",
    "print(f\"Some words: {list(tokenizer.word_index.keys())[0:10]}\")"
   ]
  },
  {
   "cell_type": "markdown",
   "id": "b6761c73",
   "metadata": {
    "id": "Pbm6bM-7RIuW",
    "papermill": {
     "duration": 0.061841,
     "end_time": "2022-04-16T08:52:15.639468",
     "exception": false,
     "start_time": "2022-04-16T08:52:15.577627",
     "status": "completed"
    },
    "tags": []
   },
   "source": [
    "### Get the max token length"
   ]
  },
  {
   "cell_type": "code",
   "execution_count": 23,
   "id": "e5005766",
   "metadata": {
    "execution": {
     "iopub.execute_input": "2022-04-16T08:52:15.788719Z",
     "iopub.status.busy": "2022-04-16T08:52:15.787725Z",
     "iopub.status.idle": "2022-04-16T08:52:17.588779Z",
     "shell.execute_reply": "2022-04-16T08:52:17.588175Z",
     "shell.execute_reply.started": "2022-04-16T05:05:24.435006Z"
    },
    "id": "Wb1Y8hnVRR-U",
    "outputId": "48614b23-8caf-403c-ce10-d49cb521ce94",
    "papermill": {
     "duration": 1.88137,
     "end_time": "2022-04-16T08:52:17.588942",
     "exception": false,
     "start_time": "2022-04-16T08:52:15.707572",
     "status": "completed"
    },
    "tags": []
   },
   "outputs": [
    {
     "name": "stdout",
     "output_type": "stream",
     "text": [
      "Maximum token length: 53\n"
     ]
    }
   ],
   "source": [
    "# Intialize the mex length to the first tweet length\n",
    "max_length = len(dataset[\"content\"][0].split())\n",
    "\n",
    "# Loop through the tweets\n",
    "for tweet in dataset[\"content\"]: \n",
    "    # Get each tweet's length\n",
    "    length = len(tweet.split())\n",
    "    # Update the max length if greater\n",
    "    if length > max_length: \n",
    "        max_length = length\n",
    "\n",
    "print(f\"Maximum token length: {max_length}\")"
   ]
  },
  {
   "cell_type": "markdown",
   "id": "e5079b0d",
   "metadata": {
    "id": "RoV-mJttTZvW",
    "papermill": {
     "duration": 0.067754,
     "end_time": "2022-04-16T08:52:17.718719",
     "exception": false,
     "start_time": "2022-04-16T08:52:17.650965",
     "status": "completed"
    },
    "tags": []
   },
   "source": [
    "## Define sequences\n",
    "\n",
    "The Tensorlow \"texts_to_sequences\" method transforms each text in texts to a sequence of integers."
   ]
  },
  {
   "cell_type": "code",
   "execution_count": 24,
   "id": "506567cf",
   "metadata": {
    "execution": {
     "iopub.execute_input": "2022-04-16T08:52:17.873522Z",
     "iopub.status.busy": "2022-04-16T08:52:17.868245Z",
     "iopub.status.idle": "2022-04-16T08:52:42.506262Z",
     "shell.execute_reply": "2022-04-16T08:52:42.505775Z",
     "shell.execute_reply.started": "2022-04-16T05:05:26.202359Z"
    },
    "id": "BH5ehzZzRdB0",
    "papermill": {
     "duration": 24.719601,
     "end_time": "2022-04-16T08:52:42.506395",
     "exception": false,
     "start_time": "2022-04-16T08:52:17.786794",
     "status": "completed"
    },
    "tags": []
   },
   "outputs": [],
   "source": [
    "# Training set\n",
    "sequences_train = tokenizer.texts_to_sequences(train.content)\n",
    "# Test set\n",
    "sequences_test = tokenizer.texts_to_sequences(test.content)"
   ]
  },
  {
   "cell_type": "markdown",
   "id": "db548dc9",
   "metadata": {
    "id": "5qBX1xc-TpbU",
    "papermill": {
     "duration": 0.05917,
     "end_time": "2022-04-16T08:52:42.625580",
     "exception": false,
     "start_time": "2022-04-16T08:52:42.566410",
     "status": "completed"
    },
    "tags": []
   },
   "source": [
    "## Define the training and test sets"
   ]
  },
  {
   "cell_type": "code",
   "execution_count": 25,
   "id": "cb32fb8c",
   "metadata": {
    "execution": {
     "iopub.execute_input": "2022-04-16T08:52:42.804511Z",
     "iopub.status.busy": "2022-04-16T08:52:42.794564Z",
     "iopub.status.idle": "2022-04-16T08:52:54.971863Z",
     "shell.execute_reply": "2022-04-16T08:52:54.972723Z",
     "shell.execute_reply.started": "2022-04-16T05:05:50.842148Z"
    },
    "id": "UoiSTXzfTnLl",
    "outputId": "cab2975a-b088-4309-f884-88b39eb5a926",
    "papermill": {
     "duration": 12.288199,
     "end_time": "2022-04-16T08:52:54.972916",
     "exception": false,
     "start_time": "2022-04-16T08:52:42.684717",
     "status": "completed"
    },
    "tags": []
   },
   "outputs": [
    {
     "name": "stdout",
     "output_type": "stream",
     "text": [
      "Training test shape : (1440000, 53)\n"
     ]
    }
   ],
   "source": [
    "# Pad the training sequences to the same length after the sequence\n",
    "X_train = pad_sequences(sequences_train, maxlen=max_length, padding=\"post\")\n",
    "# Pad the test sequences to the same length after the sequence\n",
    "X_test = pad_sequences(sequences_test, maxlen=max_length, padding=\"post\")\n",
    "\n",
    "# Setup the training target\n",
    "y_train = train.target.values\n",
    "# Setup the test target values\n",
    "y_test = test.target.values\n",
    "\n",
    "print(f\"Training test shape : {X_train.shape}\")"
   ]
  },
  {
   "cell_type": "markdown",
   "id": "d49d86db",
   "metadata": {
    "id": "ryPd1T9BVkBa",
    "papermill": {
     "duration": 0.065176,
     "end_time": "2022-04-16T08:52:55.100143",
     "exception": false,
     "start_time": "2022-04-16T08:52:55.034967",
     "status": "completed"
    },
    "tags": []
   },
   "source": [
    "## Embedding with Word Embeddings (GloVe)\n",
    "\n",
    "- Embedding is an approach that allows us to give a numeric representation of words. The Word Embeddings method setup words with similar meaning to have a similar representation. [Learn more here](https://www.geeksforgeeks.org/word-embeddings-in-nlp/)\n",
    "- To sum up briefly, the GloVe dataset is a model for distributed word representation pre-trained on a very large corpus. Our GloVe dataset contains 100-dimensional pretrained words, with each row containing the actual word followed by its 100-dimensional representation. "
   ]
  },
  {
   "cell_type": "markdown",
   "id": "0721eeb5",
   "metadata": {
    "id": "AXKpPqNFWK3n",
    "papermill": {
     "duration": 0.107139,
     "end_time": "2022-04-16T08:52:55.306875",
     "exception": false,
     "start_time": "2022-04-16T08:52:55.199736",
     "status": "completed"
    },
    "tags": []
   },
   "source": [
    "### Setup embeddings"
   ]
  },
  {
   "cell_type": "code",
   "execution_count": 26,
   "id": "287a3ba5",
   "metadata": {
    "execution": {
     "iopub.execute_input": "2022-04-16T08:52:55.510914Z",
     "iopub.status.busy": "2022-04-16T08:52:55.510119Z",
     "iopub.status.idle": "2022-04-16T08:52:55.516572Z",
     "shell.execute_reply": "2022-04-16T08:52:55.515930Z",
     "shell.execute_reply.started": "2022-04-16T05:08:01.532439Z"
    },
    "id": "cJqPXut3VWWh",
    "papermill": {
     "duration": 0.110356,
     "end_time": "2022-04-16T08:52:55.516740",
     "exception": false,
     "start_time": "2022-04-16T08:52:55.406384",
     "status": "completed"
    },
    "tags": []
   },
   "outputs": [],
   "source": [
    "embeddings_dictionary = dict()\n",
    "embedding_dimension = 100\n",
    "glove_file = open(\"/kaggle/input/twitter-sentiment-analysis-and-word-embeddings/Dataset/Dataset/word_embeddings.txt\")"
   ]
  },
  {
   "cell_type": "markdown",
   "id": "ba817dd0",
   "metadata": {
    "id": "TUEMLeF-Wops",
    "papermill": {
     "duration": 0.096635,
     "end_time": "2022-04-16T08:52:55.711482",
     "exception": false,
     "start_time": "2022-04-16T08:52:55.614847",
     "status": "completed"
    },
    "tags": []
   },
   "source": [
    "### Apply word embedding"
   ]
  },
  {
   "cell_type": "code",
   "execution_count": 27,
   "id": "7c0cd65b",
   "metadata": {
    "execution": {
     "iopub.execute_input": "2022-04-16T08:52:55.840280Z",
     "iopub.status.busy": "2022-04-16T08:52:55.839742Z",
     "iopub.status.idle": "2022-04-16T08:53:13.610470Z",
     "shell.execute_reply": "2022-04-16T08:53:13.609931Z",
     "shell.execute_reply.started": "2022-04-16T05:08:03.318175Z"
    },
    "id": "ISKnOvqPWHwc",
    "papermill": {
     "duration": 17.836787,
     "end_time": "2022-04-16T08:53:13.610593",
     "exception": false,
     "start_time": "2022-04-16T08:52:55.773806",
     "status": "completed"
    },
    "tags": []
   },
   "outputs": [],
   "source": [
    "# Iterate through the glove file\n",
    "for line in glove_file:\n",
    "    # Split each line\n",
    "    records = line.split()\n",
    "    # Get the actual word\n",
    "    word = records[0]\n",
    "    # Get the dimensional representation\n",
    "    representation = np.asarray(records[1:], dtype=\"float32\")\n",
    "    # Update the words dictionary \n",
    "    embeddings_dictionary[word] = representation\n",
    "    \n",
    "# Close the file\n",
    "glove_file.close()\n",
    "\n",
    "# Initialize the embedding_matrix\n",
    "embeddings_matrix = np.zeros((vocab_size, embedding_dimension))\n",
    "\n",
    "# Iterate through the tokenizer words list\n",
    "for word, index in tokenizer.word_index.items():\n",
    "    # Get the word representation\n",
    "    embedding_vector = embeddings_dictionary.get(word)\n",
    "    # Update the word representation if it exist in our dictionary\n",
    "    if embedding_vector is not None:\n",
    "        embeddings_matrix[index] = embedding_vector"
   ]
  },
  {
   "cell_type": "markdown",
   "id": "a6376726",
   "metadata": {
    "id": "f1O7nHkcX98b",
    "papermill": {
     "duration": 0.061793,
     "end_time": "2022-04-16T08:53:13.733693",
     "exception": false,
     "start_time": "2022-04-16T08:53:13.671900",
     "status": "completed"
    },
    "tags": []
   },
   "source": [
    "# Define the model 🔧"
   ]
  },
  {
   "cell_type": "markdown",
   "id": "0d415ee9",
   "metadata": {
    "id": "dzmRd54PYA1R",
    "papermill": {
     "duration": 0.064235,
     "end_time": "2022-04-16T08:53:13.863839",
     "exception": false,
     "start_time": "2022-04-16T08:53:13.799604",
     "status": "completed"
    },
    "tags": []
   },
   "source": [
    "## Set the training parameters"
   ]
  },
  {
   "cell_type": "code",
   "execution_count": 28,
   "id": "8b7788ae",
   "metadata": {
    "execution": {
     "iopub.execute_input": "2022-04-16T08:53:13.993898Z",
     "iopub.status.busy": "2022-04-16T08:53:13.992957Z",
     "iopub.status.idle": "2022-04-16T08:53:13.995489Z",
     "shell.execute_reply": "2022-04-16T08:53:13.994973Z",
     "shell.execute_reply.started": "2022-04-16T05:08:20.398763Z"
    },
    "id": "DPEKs1DiWRQq",
    "papermill": {
     "duration": 0.069722,
     "end_time": "2022-04-16T08:53:13.995597",
     "exception": false,
     "start_time": "2022-04-16T08:53:13.925875",
     "status": "completed"
    },
    "tags": []
   },
   "outputs": [],
   "source": [
    "num_epochs = 50\n",
    "batch_size = 1000"
   ]
  },
  {
   "cell_type": "markdown",
   "id": "d07c8205",
   "metadata": {
    "id": "u-MBH9dkYgGH",
    "papermill": {
     "duration": 0.060106,
     "end_time": "2022-04-16T08:53:14.116328",
     "exception": false,
     "start_time": "2022-04-16T08:53:14.056222",
     "status": "completed"
    },
    "tags": []
   },
   "source": [
    "## Define the embedding layer"
   ]
  },
  {
   "cell_type": "code",
   "execution_count": 29,
   "id": "587b1cba",
   "metadata": {
    "execution": {
     "iopub.execute_input": "2022-04-16T08:53:14.251463Z",
     "iopub.status.busy": "2022-04-16T08:53:14.250768Z",
     "iopub.status.idle": "2022-04-16T08:53:14.263638Z",
     "shell.execute_reply": "2022-04-16T08:53:14.263244Z",
     "shell.execute_reply.started": "2022-04-16T05:08:20.403973Z"
    },
    "id": "v55TleKdYEvX",
    "papermill": {
     "duration": 0.07873,
     "end_time": "2022-04-16T08:53:14.263774",
     "exception": false,
     "start_time": "2022-04-16T08:53:14.185044",
     "status": "completed"
    },
    "tags": []
   },
   "outputs": [],
   "source": [
    "embedding_layer = Embedding(\n",
    "                            vocab_size, \n",
    "                            embedding_dimension, \n",
    "                            input_length=max_length, \n",
    "                            weights=[embeddings_matrix], \n",
    "                            trainable=False\n",
    ")"
   ]
  },
  {
   "cell_type": "markdown",
   "id": "3961311d",
   "metadata": {
    "id": "nFD3_-1WeZ0k",
    "papermill": {
     "duration": 0.070517,
     "end_time": "2022-04-16T08:53:14.396342",
     "exception": false,
     "start_time": "2022-04-16T08:53:14.325825",
     "status": "completed"
    },
    "tags": []
   },
   "source": [
    "## Define the callback : Early Stopping\n",
    "\n",
    "We setup the Early Stopping callback to stop the training process if the **validation accuracy** stops increasing after 10 epochs, and restore the weights which minimize the validation accuracy. \n",
    "\n",
    "Important parameters :\n",
    "\n",
    "- **Monitor :** keras will stop training when the monitored metric has stopped improving. The direction (minimze or maximize) is automatically infered from the monitored quantity name, although it remains adjustable with the \"mode\" parameter\n",
    "- **Patience :** the number of epochs without improvement after which the callback will be triggered (i.e, the model will stop training)\n",
    "- **Restore best weights :** tells the model to restore the weights from the \"best\" epoch according to the monitored value"
   ]
  },
  {
   "cell_type": "code",
   "execution_count": 30,
   "id": "edb90a15",
   "metadata": {
    "execution": {
     "iopub.execute_input": "2022-04-16T08:53:14.540545Z",
     "iopub.status.busy": "2022-04-16T08:53:14.538794Z",
     "iopub.status.idle": "2022-04-16T08:53:14.541234Z",
     "shell.execute_reply": "2022-04-16T08:53:14.541698Z",
     "shell.execute_reply.started": "2022-04-16T05:08:20.426792Z"
    },
    "id": "o1aTkm9geZKZ",
    "papermill": {
     "duration": 0.076227,
     "end_time": "2022-04-16T08:53:14.541840",
     "exception": false,
     "start_time": "2022-04-16T08:53:14.465613",
     "status": "completed"
    },
    "tags": []
   },
   "outputs": [],
   "source": [
    "stop_early = tf.keras.callbacks.EarlyStopping(\n",
    "    monitor=\"val_accuracy\", \n",
    "    patience=10, \n",
    "    mode =\"max\", \n",
    "    verbose=2, \n",
    "    restore_best_weights=True\n",
    ")"
   ]
  },
  {
   "cell_type": "markdown",
   "id": "44260216",
   "metadata": {
    "id": "_xh5SCzMYnI6",
    "papermill": {
     "duration": 0.06597,
     "end_time": "2022-04-16T08:53:14.675777",
     "exception": false,
     "start_time": "2022-04-16T08:53:14.609807",
     "status": "completed"
    },
    "tags": []
   },
   "source": [
    "## Create the model\n",
    "\n",
    "Architecture : \n",
    "\n",
    "### The embedding layer defined before\n",
    "\n",
    "### 3 Bidirectional LSTM layers followed by dropout layers\n",
    "\n",
    "To sum up : \n",
    "- **LSTM layers** are an RNN architecture used to keep track of arbitrary long-term dependencies in the input sequences. The bidirectional version fits well in our context where each sequence (word) can be related to the previous or the next one to grasp the full meaning of the sentence.\n",
    "- **Dropout** prevents overfitting by randomly dropping neurons\n",
    "\n",
    "### Two fully-connected (dense) layers"
   ]
  },
  {
   "cell_type": "code",
   "execution_count": 31,
   "id": "fdddbd5c",
   "metadata": {
    "execution": {
     "iopub.execute_input": "2022-04-16T08:53:15.006155Z",
     "iopub.status.busy": "2022-04-16T08:53:15.005314Z",
     "iopub.status.idle": "2022-04-16T08:53:19.194005Z",
     "shell.execute_reply": "2022-04-16T08:53:19.194460Z",
     "shell.execute_reply.started": "2022-04-16T05:08:20.433484Z"
    },
    "id": "zlQFKnznacrY",
    "papermill": {
     "duration": 4.453287,
     "end_time": "2022-04-16T08:53:19.194615",
     "exception": false,
     "start_time": "2022-04-16T08:53:14.741328",
     "status": "completed"
    },
    "tags": []
   },
   "outputs": [
    {
     "name": "stderr",
     "output_type": "stream",
     "text": [
      "2022-04-16 08:53:14.816232: I tensorflow/compiler/jit/xla_cpu_device.cc:41] Not creating XLA devices, tf_xla_enable_xla_devices not set\n",
      "2022-04-16 08:53:14.819440: I tensorflow/stream_executor/platform/default/dso_loader.cc:49] Successfully opened dynamic library libcuda.so.1\n",
      "2022-04-16 08:53:14.882999: I tensorflow/stream_executor/cuda/cuda_gpu_executor.cc:941] successful NUMA node read from SysFS had negative value (-1), but there must be at least one NUMA node, so returning NUMA node zero\n",
      "2022-04-16 08:53:14.883738: I tensorflow/core/common_runtime/gpu/gpu_device.cc:1720] Found device 0 with properties: \n",
      "pciBusID: 0000:00:04.0 name: Tesla P100-PCIE-16GB computeCapability: 6.0\n",
      "coreClock: 1.3285GHz coreCount: 56 deviceMemorySize: 15.90GiB deviceMemoryBandwidth: 681.88GiB/s\n",
      "2022-04-16 08:53:14.883800: I tensorflow/stream_executor/platform/default/dso_loader.cc:49] Successfully opened dynamic library libcudart.so.11.0\n",
      "2022-04-16 08:53:14.912651: I tensorflow/stream_executor/platform/default/dso_loader.cc:49] Successfully opened dynamic library libcublas.so.11\n",
      "2022-04-16 08:53:14.912764: I tensorflow/stream_executor/platform/default/dso_loader.cc:49] Successfully opened dynamic library libcublasLt.so.11\n",
      "2022-04-16 08:53:14.928705: I tensorflow/stream_executor/platform/default/dso_loader.cc:49] Successfully opened dynamic library libcufft.so.10\n",
      "2022-04-16 08:53:14.953579: I tensorflow/stream_executor/platform/default/dso_loader.cc:49] Successfully opened dynamic library libcurand.so.10\n",
      "2022-04-16 08:53:14.989601: I tensorflow/stream_executor/platform/default/dso_loader.cc:49] Successfully opened dynamic library libcusolver.so.10\n",
      "2022-04-16 08:53:14.997832: I tensorflow/stream_executor/platform/default/dso_loader.cc:49] Successfully opened dynamic library libcusparse.so.11\n",
      "2022-04-16 08:53:15.000742: I tensorflow/stream_executor/platform/default/dso_loader.cc:49] Successfully opened dynamic library libcudnn.so.8\n",
      "2022-04-16 08:53:15.000926: I tensorflow/stream_executor/cuda/cuda_gpu_executor.cc:941] successful NUMA node read from SysFS had negative value (-1), but there must be at least one NUMA node, so returning NUMA node zero\n",
      "2022-04-16 08:53:15.001719: I tensorflow/stream_executor/cuda/cuda_gpu_executor.cc:941] successful NUMA node read from SysFS had negative value (-1), but there must be at least one NUMA node, so returning NUMA node zero\n",
      "2022-04-16 08:53:15.003437: I tensorflow/core/common_runtime/gpu/gpu_device.cc:1862] Adding visible gpu devices: 0\n",
      "2022-04-16 08:53:15.004877: I tensorflow/core/platform/cpu_feature_guard.cc:142] This TensorFlow binary is optimized with oneAPI Deep Neural Network Library (oneDNN) to use the following CPU instructions in performance-critical operations:  AVX2 AVX512F FMA\n",
      "To enable them in other operations, rebuild TensorFlow with the appropriate compiler flags.\n",
      "2022-04-16 08:53:15.005147: I tensorflow/compiler/jit/xla_gpu_device.cc:99] Not creating XLA devices, tf_xla_enable_xla_devices not set\n",
      "2022-04-16 08:53:15.005326: I tensorflow/stream_executor/cuda/cuda_gpu_executor.cc:941] successful NUMA node read from SysFS had negative value (-1), but there must be at least one NUMA node, so returning NUMA node zero\n",
      "2022-04-16 08:53:15.006230: I tensorflow/core/common_runtime/gpu/gpu_device.cc:1720] Found device 0 with properties: \n",
      "pciBusID: 0000:00:04.0 name: Tesla P100-PCIE-16GB computeCapability: 6.0\n",
      "coreClock: 1.3285GHz coreCount: 56 deviceMemorySize: 15.90GiB deviceMemoryBandwidth: 681.88GiB/s\n",
      "2022-04-16 08:53:15.006309: I tensorflow/stream_executor/platform/default/dso_loader.cc:49] Successfully opened dynamic library libcudart.so.11.0\n",
      "2022-04-16 08:53:15.006363: I tensorflow/stream_executor/platform/default/dso_loader.cc:49] Successfully opened dynamic library libcublas.so.11\n",
      "2022-04-16 08:53:15.006392: I tensorflow/stream_executor/platform/default/dso_loader.cc:49] Successfully opened dynamic library libcublasLt.so.11\n",
      "2022-04-16 08:53:15.006418: I tensorflow/stream_executor/platform/default/dso_loader.cc:49] Successfully opened dynamic library libcufft.so.10\n",
      "2022-04-16 08:53:15.006452: I tensorflow/stream_executor/platform/default/dso_loader.cc:49] Successfully opened dynamic library libcurand.so.10\n",
      "2022-04-16 08:53:15.006478: I tensorflow/stream_executor/platform/default/dso_loader.cc:49] Successfully opened dynamic library libcusolver.so.10\n",
      "2022-04-16 08:53:15.006505: I tensorflow/stream_executor/platform/default/dso_loader.cc:49] Successfully opened dynamic library libcusparse.so.11\n",
      "2022-04-16 08:53:15.006531: I tensorflow/stream_executor/platform/default/dso_loader.cc:49] Successfully opened dynamic library libcudnn.so.8\n",
      "2022-04-16 08:53:15.006623: I tensorflow/stream_executor/cuda/cuda_gpu_executor.cc:941] successful NUMA node read from SysFS had negative value (-1), but there must be at least one NUMA node, so returning NUMA node zero\n",
      "2022-04-16 08:53:15.007298: I tensorflow/stream_executor/cuda/cuda_gpu_executor.cc:941] successful NUMA node read from SysFS had negative value (-1), but there must be at least one NUMA node, so returning NUMA node zero\n",
      "2022-04-16 08:53:15.007860: I tensorflow/core/common_runtime/gpu/gpu_device.cc:1862] Adding visible gpu devices: 0\n",
      "2022-04-16 08:53:15.009246: I tensorflow/stream_executor/platform/default/dso_loader.cc:49] Successfully opened dynamic library libcudart.so.11.0\n",
      "2022-04-16 08:53:16.420374: I tensorflow/core/common_runtime/gpu/gpu_device.cc:1261] Device interconnect StreamExecutor with strength 1 edge matrix:\n",
      "2022-04-16 08:53:16.420420: I tensorflow/core/common_runtime/gpu/gpu_device.cc:1267]      0 \n",
      "2022-04-16 08:53:16.420431: I tensorflow/core/common_runtime/gpu/gpu_device.cc:1280] 0:   N \n",
      "2022-04-16 08:53:16.422463: I tensorflow/stream_executor/cuda/cuda_gpu_executor.cc:941] successful NUMA node read from SysFS had negative value (-1), but there must be at least one NUMA node, so returning NUMA node zero\n",
      "2022-04-16 08:53:16.423286: I tensorflow/stream_executor/cuda/cuda_gpu_executor.cc:941] successful NUMA node read from SysFS had negative value (-1), but there must be at least one NUMA node, so returning NUMA node zero\n",
      "2022-04-16 08:53:16.423971: I tensorflow/stream_executor/cuda/cuda_gpu_executor.cc:941] successful NUMA node read from SysFS had negative value (-1), but there must be at least one NUMA node, so returning NUMA node zero\n",
      "2022-04-16 08:53:16.424551: I tensorflow/core/common_runtime/gpu/gpu_device.cc:1406] Created TensorFlow device (/job:localhost/replica:0/task:0/device:GPU:0 with 14957 MB memory) -> physical GPU (device: 0, name: Tesla P100-PCIE-16GB, pci bus id: 0000:00:04.0, compute capability: 6.0)\n"
     ]
    }
   ],
   "source": [
    "model = Sequential([\n",
    "        embedding_layer,\n",
    "        tf.keras.layers.Bidirectional(LSTM(units=128, return_sequences=True)),\n",
    "        tf.keras.layers.Dropout(0.2),\n",
    "        tf.keras.layers.Bidirectional(LSTM(units=128, return_sequences=True)),\n",
    "        tf.keras.layers.Dropout(0.2),\n",
    "        tf.keras.layers.Bidirectional(LSTM(units=128)),\n",
    "        tf.keras.layers.Dropout(0.2),\n",
    "        tf.keras.layers.Dense(64, activation=\"relu\"),\n",
    "        tf.keras.layers.Dense(1, activation=\"sigmoid\"),\n",
    "    ])"
   ]
  },
  {
   "cell_type": "markdown",
   "id": "90188cbc",
   "metadata": {
    "id": "GBLDT_nyZuD3",
    "papermill": {
     "duration": 0.061095,
     "end_time": "2022-04-16T08:53:19.317718",
     "exception": false,
     "start_time": "2022-04-16T08:53:19.256623",
     "status": "completed"
    },
    "tags": []
   },
   "source": [
    "## Compile the model\n",
    "\n",
    "> Notes : The binary cross entropy loss suits well to our binary classification case (two targets : positive or negative)"
   ]
  },
  {
   "cell_type": "code",
   "execution_count": 32,
   "id": "4d15add4",
   "metadata": {
    "execution": {
     "iopub.execute_input": "2022-04-16T08:53:19.449467Z",
     "iopub.status.busy": "2022-04-16T08:53:19.448952Z",
     "iopub.status.idle": "2022-04-16T08:53:19.455756Z",
     "shell.execute_reply": "2022-04-16T08:53:19.455292Z",
     "shell.execute_reply.started": "2022-04-16T05:09:39.114642Z"
    },
    "id": "cs-ego69YrAj",
    "papermill": {
     "duration": 0.077637,
     "end_time": "2022-04-16T08:53:19.455869",
     "exception": false,
     "start_time": "2022-04-16T08:53:19.378232",
     "status": "completed"
    },
    "tags": []
   },
   "outputs": [],
   "source": [
    "model.compile(\n",
    "       optimizer = Adam(learning_rate=0.001),\n",
    "       loss=\"binary_crossentropy\", \n",
    "       metrics=[\"accuracy\"]\n",
    "  )"
   ]
  },
  {
   "cell_type": "markdown",
   "id": "df849ba5",
   "metadata": {
    "id": "3QFsvRwkbent",
    "papermill": {
     "duration": 0.060127,
     "end_time": "2022-04-16T08:53:19.576235",
     "exception": false,
     "start_time": "2022-04-16T08:53:19.516108",
     "status": "completed"
    },
    "tags": []
   },
   "source": [
    "## Model summary "
   ]
  },
  {
   "cell_type": "code",
   "execution_count": 33,
   "id": "11d0f61e",
   "metadata": {
    "execution": {
     "iopub.execute_input": "2022-04-16T08:53:19.706397Z",
     "iopub.status.busy": "2022-04-16T08:53:19.700643Z",
     "iopub.status.idle": "2022-04-16T08:53:19.710396Z",
     "shell.execute_reply": "2022-04-16T08:53:19.709990Z",
     "shell.execute_reply.started": "2022-04-16T05:09:41.245225Z"
    },
    "id": "CQXLnEwgZzy6",
    "outputId": "98606ea4-b661-474d-b409-e4ae837b4fd4",
    "papermill": {
     "duration": 0.073901,
     "end_time": "2022-04-16T08:53:19.710513",
     "exception": false,
     "start_time": "2022-04-16T08:53:19.636612",
     "status": "completed"
    },
    "tags": []
   },
   "outputs": [
    {
     "name": "stdout",
     "output_type": "stream",
     "text": [
      "Model: \"sequential\"\n",
      "_________________________________________________________________\n",
      "Layer (type)                 Output Shape              Param #   \n",
      "=================================================================\n",
      "embedding (Embedding)        (None, 53, 100)           26819900  \n",
      "_________________________________________________________________\n",
      "bidirectional (Bidirectional (None, 53, 256)           234496    \n",
      "_________________________________________________________________\n",
      "dropout (Dropout)            (None, 53, 256)           0         \n",
      "_________________________________________________________________\n",
      "bidirectional_1 (Bidirection (None, 53, 256)           394240    \n",
      "_________________________________________________________________\n",
      "dropout_1 (Dropout)          (None, 53, 256)           0         \n",
      "_________________________________________________________________\n",
      "bidirectional_2 (Bidirection (None, 256)               394240    \n",
      "_________________________________________________________________\n",
      "dropout_2 (Dropout)          (None, 256)               0         \n",
      "_________________________________________________________________\n",
      "dense (Dense)                (None, 64)                16448     \n",
      "_________________________________________________________________\n",
      "dense_1 (Dense)              (None, 1)                 65        \n",
      "=================================================================\n",
      "Total params: 27,859,389\n",
      "Trainable params: 1,039,489\n",
      "Non-trainable params: 26,819,900\n",
      "_________________________________________________________________\n"
     ]
    }
   ],
   "source": [
    "model.summary()"
   ]
  },
  {
   "cell_type": "markdown",
   "id": "ea2ef6bf",
   "metadata": {
    "papermill": {
     "duration": 0.062895,
     "end_time": "2022-04-16T08:53:19.834291",
     "exception": false,
     "start_time": "2022-04-16T08:53:19.771396",
     "status": "completed"
    },
    "tags": []
   },
   "source": [
    "## Plot the model architecture"
   ]
  },
  {
   "cell_type": "code",
   "execution_count": 34,
   "id": "df9feae7",
   "metadata": {
    "execution": {
     "iopub.execute_input": "2022-04-16T08:53:19.964150Z",
     "iopub.status.busy": "2022-04-16T08:53:19.963270Z",
     "iopub.status.idle": "2022-04-16T08:53:20.853047Z",
     "shell.execute_reply": "2022-04-16T08:53:20.852513Z",
     "shell.execute_reply.started": "2022-04-16T05:09:53.141253Z"
    },
    "id": "nsbS_JxcfnkB",
    "outputId": "2dc9dfda-f615-41bb-c01a-60aa665eb9bb",
    "papermill": {
     "duration": 0.95701,
     "end_time": "2022-04-16T08:53:20.853166",
     "exception": false,
     "start_time": "2022-04-16T08:53:19.896156",
     "status": "completed"
    },
    "tags": []
   },
   "outputs": [
    {
     "data": {
      "image/png": "[encoded data removed]",
      "text/plain": [
       "<IPython.core.display.Image object>"
      ]
     },
     "execution_count": 34,
     "metadata": {},
     "output_type": "execute_result"
    }
   ],
   "source": [
    "tf.keras.utils.plot_model(model, show_shapes=True)"
   ]
  },
  {
   "cell_type": "markdown",
   "id": "bacd85c1",
   "metadata": {
    "id": "U1wMN2Lcbq3V",
    "papermill": {
     "duration": 0.064467,
     "end_time": "2022-04-16T08:53:20.982771",
     "exception": false,
     "start_time": "2022-04-16T08:53:20.918304",
     "status": "completed"
    },
    "tags": []
   },
   "source": [
    "# Train the model ⚗️"
   ]
  },
  {
   "cell_type": "code",
   "execution_count": 35,
   "id": "3e6739c8",
   "metadata": {
    "execution": {
     "iopub.execute_input": "2022-04-16T08:53:21.116894Z",
     "iopub.status.busy": "2022-04-16T08:53:21.116271Z",
     "iopub.status.idle": "2022-04-16T09:41:50.637721Z",
     "shell.execute_reply": "2022-04-16T09:41:50.638597Z"
    },
    "id": "ExFPK4f3bhay",
    "outputId": "cdc7f500-6ba1-45a7-d1cd-3ae4a8540444",
    "papermill": {
     "duration": 2909.591987,
     "end_time": "2022-04-16T09:41:50.638814",
     "exception": false,
     "start_time": "2022-04-16T08:53:21.046827",
     "status": "completed"
    },
    "tags": []
   },
   "outputs": [
    {
     "name": "stderr",
     "output_type": "stream",
     "text": [
      "2022-04-16 08:53:21.385426: I tensorflow/compiler/mlir/mlir_graph_optimization_pass.cc:116] None of the MLIR optimization passes are enabled (registered 2)\n",
      "2022-04-16 08:53:21.394585: I tensorflow/core/platform/profile_utils/cpu_utils.cc:112] CPU Frequency: 2000129999 Hz\n"
     ]
    },
    {
     "name": "stdout",
     "output_type": "stream",
     "text": [
      "Epoch 1/50\n"
     ]
    },
    {
     "name": "stderr",
     "output_type": "stream",
     "text": [
      "2022-04-16 08:53:26.725844: I tensorflow/stream_executor/platform/default/dso_loader.cc:49] Successfully opened dynamic library libcublas.so.11\n",
      "2022-04-16 08:53:27.468088: I tensorflow/stream_executor/platform/default/dso_loader.cc:49] Successfully opened dynamic library libcublasLt.so.11\n",
      "2022-04-16 08:53:27.530210: I tensorflow/stream_executor/platform/default/dso_loader.cc:49] Successfully opened dynamic library libcudnn.so.8\n"
     ]
    },
    {
     "name": "stdout",
     "output_type": "stream",
     "text": [
      "1440/1440 [==============================] - 175s 113ms/step - loss: 0.5146 - accuracy: 0.7414 - val_loss: 0.4350 - val_accuracy: 0.7969\n",
      "Epoch 2/50\n",
      "1440/1440 [==============================] - 161s 112ms/step - loss: 0.4265 - accuracy: 0.8024 - val_loss: 0.4169 - val_accuracy: 0.8074\n",
      "Epoch 3/50\n",
      "1440/1440 [==============================] - 161s 112ms/step - loss: 0.4044 - accuracy: 0.8146 - val_loss: 0.4000 - val_accuracy: 0.8159\n",
      "Epoch 4/50\n",
      "1440/1440 [==============================] - 161s 112ms/step - loss: 0.3889 - accuracy: 0.8231 - val_loss: 0.3899 - val_accuracy: 0.8228\n",
      "Epoch 5/50\n",
      "1440/1440 [==============================] - 161s 112ms/step - loss: 0.3773 - accuracy: 0.8297 - val_loss: 0.3883 - val_accuracy: 0.8249\n",
      "Epoch 6/50\n",
      "1440/1440 [==============================] - 161s 112ms/step - loss: 0.3663 - accuracy: 0.8360 - val_loss: 0.3798 - val_accuracy: 0.8286\n",
      "Epoch 7/50\n",
      "1440/1440 [==============================] - 161s 112ms/step - loss: 0.3580 - accuracy: 0.8396 - val_loss: 0.3834 - val_accuracy: 0.8291\n",
      "Epoch 8/50\n",
      "1440/1440 [==============================] - 161s 112ms/step - loss: 0.3494 - accuracy: 0.8447 - val_loss: 0.3821 - val_accuracy: 0.8309\n",
      "Epoch 9/50\n",
      "1440/1440 [==============================] - 161s 112ms/step - loss: 0.3410 - accuracy: 0.8488 - val_loss: 0.3829 - val_accuracy: 0.8287\n",
      "Epoch 10/50\n",
      "1440/1440 [==============================] - 161s 112ms/step - loss: 0.3321 - accuracy: 0.8537 - val_loss: 0.3840 - val_accuracy: 0.8303\n",
      "Epoch 11/50\n",
      "1440/1440 [==============================] - 161s 112ms/step - loss: 0.3236 - accuracy: 0.8574 - val_loss: 0.3821 - val_accuracy: 0.8293\n",
      "Epoch 12/50\n",
      "1440/1440 [==============================] - 161s 112ms/step - loss: 0.3158 - accuracy: 0.8619 - val_loss: 0.3840 - val_accuracy: 0.8290\n",
      "Epoch 13/50\n",
      "1440/1440 [==============================] - 161s 112ms/step - loss: 0.3082 - accuracy: 0.8653 - val_loss: 0.3921 - val_accuracy: 0.8291\n",
      "Epoch 14/50\n",
      "1440/1440 [==============================] - 161s 112ms/step - loss: 0.3012 - accuracy: 0.8690 - val_loss: 0.3993 - val_accuracy: 0.8261\n",
      "Epoch 15/50\n",
      "1440/1440 [==============================] - 161s 112ms/step - loss: 0.2929 - accuracy: 0.8730 - val_loss: 0.4076 - val_accuracy: 0.8263\n",
      "Epoch 16/50\n",
      "1440/1440 [==============================] - 161s 112ms/step - loss: 0.2862 - accuracy: 0.8761 - val_loss: 0.4087 - val_accuracy: 0.8267\n",
      "Epoch 17/50\n",
      "1440/1440 [==============================] - 161s 112ms/step - loss: 0.2807 - accuracy: 0.8794 - val_loss: 0.4195 - val_accuracy: 0.8240\n",
      "Epoch 18/50\n",
      "1440/1440 [==============================] - 161s 112ms/step - loss: 0.2734 - accuracy: 0.8826 - val_loss: 0.4155 - val_accuracy: 0.8233\n",
      "Restoring model weights from the end of the best epoch.\n",
      "Epoch 00018: early stopping\n"
     ]
    }
   ],
   "source": [
    "history = model.fit(\n",
    "    X_train,\n",
    "    y_train,\n",
    "    batch_size=batch_size,\n",
    "    epochs=num_epochs,\n",
    "    verbose=1, \n",
    "    validation_data=(X_test,y_test),\n",
    "    callbacks = [stop_early]\n",
    ")"
   ]
  },
  {
   "cell_type": "markdown",
   "id": "64d47dc9",
   "metadata": {
    "papermill": {
     "duration": 6.923058,
     "end_time": "2022-04-16T09:42:05.054670",
     "exception": false,
     "start_time": "2022-04-16T09:41:58.131612",
     "status": "completed"
    },
    "tags": []
   },
   "source": [
    "# Save the model  💾"
   ]
  },
  {
   "cell_type": "markdown",
   "id": "7041be3f",
   "metadata": {
    "papermill": {
     "duration": 7.096723,
     "end_time": "2022-04-16T09:42:18.891309",
     "exception": false,
     "start_time": "2022-04-16T09:42:11.794586",
     "status": "completed"
    },
    "tags": []
   },
   "source": [
    " ## Define the text vectorization layer for inferences"
   ]
  },
  {
   "cell_type": "code",
   "execution_count": 36,
   "id": "e7bd93e5",
   "metadata": {
    "execution": {
     "iopub.execute_input": "2022-04-16T09:42:33.365206Z",
     "iopub.status.busy": "2022-04-16T09:42:33.364338Z",
     "iopub.status.idle": "2022-04-16T09:42:33.366505Z",
     "shell.execute_reply": "2022-04-16T09:42:33.366905Z"
    },
    "papermill": {
     "duration": 7.435223,
     "end_time": "2022-04-16T09:42:33.367058",
     "exception": false,
     "start_time": "2022-04-16T09:42:25.931835",
     "status": "completed"
    },
    "tags": []
   },
   "outputs": [],
   "source": [
    "# Setup the vocabulary\n",
    "vocabulary = list(tokenizer.word_index.keys())"
   ]
  },
  {
   "cell_type": "code",
   "execution_count": 37,
   "id": "29414b4e",
   "metadata": {
    "execution": {
     "iopub.execute_input": "2022-04-16T09:42:47.268881Z",
     "iopub.status.busy": "2022-04-16T09:42:47.267192Z",
     "iopub.status.idle": "2022-04-16T09:42:47.271343Z",
     "shell.execute_reply": "2022-04-16T09:42:47.270683Z"
    },
    "papermill": {
     "duration": 6.810867,
     "end_time": "2022-04-16T09:42:47.271500",
     "exception": false,
     "start_time": "2022-04-16T09:42:40.460633",
     "status": "completed"
    },
    "tags": []
   },
   "outputs": [
    {
     "name": "stdout",
     "output_type": "stream",
     "text": [
      "Model input shape: (None, 53)\n"
     ]
    }
   ],
   "source": [
    "# Get the input shape\n",
    "input_shape = tf.keras.Input(shape=(max_length))\n",
    "shape = input_shape.shape\n",
    "print(f\"Model input shape: {shape}\")"
   ]
  },
  {
   "cell_type": "code",
   "execution_count": 38,
   "id": "d198e28b",
   "metadata": {
    "execution": {
     "iopub.execute_input": "2022-04-16T09:43:01.777164Z",
     "iopub.status.busy": "2022-04-16T09:43:01.776348Z",
     "iopub.status.idle": "2022-04-16T09:43:19.164832Z",
     "shell.execute_reply": "2022-04-16T09:43:19.165781Z"
    },
    "papermill": {
     "duration": 25.000314,
     "end_time": "2022-04-16T09:43:19.166055",
     "exception": false,
     "start_time": "2022-04-16T09:42:54.165741",
     "status": "completed"
    },
    "tags": []
   },
   "outputs": [],
   "source": [
    "# Create the text vectorization layer\n",
    "vectorize_layer = TextVectorization (\n",
    "    # Standardization to apply to the input text\n",
    "    standardize=\"lower_and_strip_punctuation\",\n",
    "    # Maximum size of the vocabulary for this layer\n",
    "    max_tokens=vocab_size+1,\n",
    "    # Output of the layer \n",
    "    output_mode=\"int\",\n",
    "    output_sequence_length=max_length, \n",
    "    vocabulary=vocabulary\n",
    ")\n",
    "\n",
    "# Adapt to our training content\n",
    "vectorize_layer.adapt(train[\"content\"].values)"
   ]
  },
  {
   "cell_type": "markdown",
   "id": "e78b5ebf",
   "metadata": {
    "papermill": {
     "duration": 7.595169,
     "end_time": "2022-04-16T09:43:33.763238",
     "exception": false,
     "start_time": "2022-04-16T09:43:26.168069",
     "status": "completed"
    },
    "tags": []
   },
   "source": [
    "## Define the export model\n",
    "\n",
    "Export model : **Input Layer ---> Vectorization Layer ---> Our trained model ---> The activation layer (score)**"
   ]
  },
  {
   "cell_type": "code",
   "execution_count": 39,
   "id": "f8d5a69e",
   "metadata": {
    "execution": {
     "iopub.execute_input": "2022-04-16T09:43:47.559310Z",
     "iopub.status.busy": "2022-04-16T09:43:47.558479Z",
     "iopub.status.idle": "2022-04-16T09:43:48.711451Z",
     "shell.execute_reply": "2022-04-16T09:43:48.710996Z"
    },
    "papermill": {
     "duration": 8.173661,
     "end_time": "2022-04-16T09:43:48.711584",
     "exception": false,
     "start_time": "2022-04-16T09:43:40.537923",
     "status": "completed"
    },
    "tags": []
   },
   "outputs": [],
   "source": [
    "export_model = tf.keras.Sequential([\n",
    "    tf.keras.layers.InputLayer(input_shape=(1,), dtype=tf.string),\n",
    "    vectorize_layer,\n",
    "    model,\n",
    "    tf.keras.layers.Activation(\"sigmoid\")\n",
    "])"
   ]
  },
  {
   "cell_type": "markdown",
   "id": "f7dc4ecb",
   "metadata": {
    "papermill": {
     "duration": 6.87182,
     "end_time": "2022-04-16T09:44:02.756131",
     "exception": false,
     "start_time": "2022-04-16T09:43:55.884311",
     "status": "completed"
    },
    "tags": []
   },
   "source": [
    "## Compile the export model"
   ]
  },
  {
   "cell_type": "code",
   "execution_count": 40,
   "id": "3307f283",
   "metadata": {
    "execution": {
     "iopub.execute_input": "2022-04-16T09:44:17.477827Z",
     "iopub.status.busy": "2022-04-16T09:44:17.477204Z",
     "iopub.status.idle": "2022-04-16T09:44:17.483070Z",
     "shell.execute_reply": "2022-04-16T09:44:17.482565Z"
    },
    "papermill": {
     "duration": 7.14374,
     "end_time": "2022-04-16T09:44:17.483187",
     "exception": false,
     "start_time": "2022-04-16T09:44:10.339447",
     "status": "completed"
    },
    "tags": []
   },
   "outputs": [],
   "source": [
    "export_model.compile(\n",
    "       optimizer = Adam(learning_rate = 0.001),\n",
    "       loss=\"binary_crossentropy\", \n",
    "       metrics=[\"accuracy\"]\n",
    ")"
   ]
  },
  {
   "cell_type": "markdown",
   "id": "bb19fea3",
   "metadata": {
    "papermill": {
     "duration": 6.966996,
     "end_time": "2022-04-16T09:44:31.219200",
     "exception": false,
     "start_time": "2022-04-16T09:44:24.252204",
     "status": "completed"
    },
    "tags": []
   },
   "source": [
    "## Save the export model"
   ]
  },
  {
   "cell_type": "code",
   "execution_count": 41,
   "id": "638d8848",
   "metadata": {
    "execution": {
     "iopub.execute_input": "2022-04-16T09:44:45.479879Z",
     "iopub.status.busy": "2022-04-16T09:44:45.478649Z",
     "iopub.status.idle": "2022-04-16T09:45:26.397018Z",
     "shell.execute_reply": "2022-04-16T09:45:26.396302Z"
    },
    "papermill": {
     "duration": 47.641426,
     "end_time": "2022-04-16T09:45:26.397207",
     "exception": false,
     "start_time": "2022-04-16T09:44:38.755781",
     "status": "completed"
    },
    "tags": []
   },
   "outputs": [
    {
     "name": "stderr",
     "output_type": "stream",
     "text": [
      "2022-04-16 09:45:01.131832: W tensorflow/python/util/util.cc:348] Sets are not currently considered sequences, but this may change in the future, so consider avoiding using them.\n"
     ]
    }
   ],
   "source": [
    "export_model.save(\"TSA_model_v4\")"
   ]
  },
  {
   "cell_type": "markdown",
   "id": "86d5621f",
   "metadata": {
    "papermill": {
     "duration": 6.751322,
     "end_time": "2022-04-16T09:45:40.225279",
     "exception": false,
     "start_time": "2022-04-16T09:45:33.473957",
     "status": "completed"
    },
    "tags": []
   },
   "source": [
    "# Plot the results 📊"
   ]
  },
  {
   "cell_type": "code",
   "execution_count": 42,
   "id": "d6d02d58",
   "metadata": {
    "execution": {
     "iopub.execute_input": "2022-04-16T09:45:54.827125Z",
     "iopub.status.busy": "2022-04-16T09:45:54.826401Z",
     "iopub.status.idle": "2022-04-16T09:45:54.829716Z",
     "shell.execute_reply": "2022-04-16T09:45:54.830207Z"
    },
    "papermill": {
     "duration": 7.034674,
     "end_time": "2022-04-16T09:45:54.830353",
     "exception": false,
     "start_time": "2022-04-16T09:45:47.795679",
     "status": "completed"
    },
    "tags": []
   },
   "outputs": [
    {
     "name": "stdout",
     "output_type": "stream",
     "text": [
      "Number of epochs: 18\n"
     ]
    }
   ],
   "source": [
    "number_of_epochs = len(history.history[\"loss\"])\n",
    "print(f\"Number of epochs: {number_of_epochs}\")"
   ]
  },
  {
   "cell_type": "code",
   "execution_count": 43,
   "id": "beb9a50b",
   "metadata": {
    "execution": {
     "iopub.execute_input": "2022-04-16T09:46:08.803420Z",
     "iopub.status.busy": "2022-04-16T09:46:08.802546Z",
     "iopub.status.idle": "2022-04-16T09:46:09.137863Z",
     "shell.execute_reply": "2022-04-16T09:46:09.138334Z"
    },
    "papermill": {
     "duration": 7.39329,
     "end_time": "2022-04-16T09:46:09.138493",
     "exception": false,
     "start_time": "2022-04-16T09:46:01.745203",
     "status": "completed"
    },
    "tags": []
   },
   "outputs": [
    {
     "data": {
      "image/png": "[encoded data removed]",
      "text/plain": [
       "<Figure size 1008x576 with 2 Axes>"
      ]
     },
     "metadata": {
      "needs_background": "light"
     },
     "output_type": "display_data"
    },
    {
     "name": "stdout",
     "output_type": "stream",
     "text": [
      "Maximum validation accuracy:  0.8309249877929688\n",
      "Minimum loss: 0.3820512592792511\n"
     ]
    }
   ],
   "source": [
    "# Get the accuracy results for each epoch\n",
    "acc = history.history[\"accuracy\"]\n",
    "val_acc = history.history[\"val_accuracy\"]\n",
    "# Get the loss results for each epoch\n",
    "loss = history.history[\"loss\"]\n",
    "val_loss = history.history[\"val_loss\"]\n",
    "# Get the epochs count\n",
    "epochs_range = range(len(history.history[\"loss\"]))\n",
    "\n",
    "# Create the plot area\n",
    "plt.figure(figsize=(14, 8))\n",
    "\n",
    "# Setup the first colum : Accuracy plot\n",
    "plt.subplot(1, 2, 1)\n",
    "# Plot the training and validation accuracy for these epochs\n",
    "plt.plot(epochs_range, acc, label=\"Training Accuracy\")\n",
    "plt.plot(epochs_range, val_acc, label=\"Validation Accuracy\")\n",
    "# Setup the legend\n",
    "plt.legend(loc=\"lower right\")\n",
    "plt.title(\"Training and Validation Accuracy\")\n",
    "\n",
    "# Setup the second colum : Loss plot\n",
    "plt.subplot(1, 2, 2)\n",
    "# Plot the training and validation loss for these epochs\n",
    "plt.plot(epochs_range, loss, label=\"Training Loss\")\n",
    "plt.plot(epochs_range, val_loss, label=\"Validation Loss\")\n",
    "# Setup the legend\n",
    "plt.legend(loc=\"upper right\")\n",
    "plt.title(\"Training and Validation Loss\")\n",
    "\n",
    "# Show the overall plot\n",
    "plt.show()\n",
    "\n",
    "position = np.argmax(history.history[\"val_accuracy\"])\n",
    "print(f\"Maximum validation accuracy:  {history.history['val_accuracy'][position]}\\nMinimum loss: {history.history['val_loss'][position]}\")"
   ]
  },
  {
   "cell_type": "code",
   "execution_count": 44,
   "id": "35802792",
   "metadata": {
    "execution": {
     "iopub.execute_input": "2022-04-16T09:46:23.396322Z",
     "iopub.status.busy": "2022-04-16T09:46:23.394717Z",
     "iopub.status.idle": "2022-04-16T09:46:23.398395Z",
     "shell.execute_reply": "2022-04-16T09:46:23.397942Z"
    },
    "papermill": {
     "duration": 6.86174,
     "end_time": "2022-04-16T09:46:23.398506",
     "exception": false,
     "start_time": "2022-04-16T09:46:16.536766",
     "status": "completed"
    },
    "tags": []
   },
   "outputs": [
    {
     "name": "stdout",
     "output_type": "stream",
     "text": [
      "Best validation accuracy : 0.8309249877929688\n"
     ]
    }
   ],
   "source": [
    "best_accuracy = max(history.history[\"val_accuracy\"])\n",
    "print(f\"Best validation accuracy : {best_accuracy}\")"
   ]
  },
  {
   "cell_type": "markdown",
   "id": "bdf04146",
   "metadata": {
    "papermill": {
     "duration": 6.823497,
     "end_time": "2022-04-16T09:46:37.171477",
     "exception": false,
     "start_time": "2022-04-16T09:46:30.347980",
     "status": "completed"
    },
    "tags": []
   },
   "source": [
    "## Print the classification report"
   ]
  },
  {
   "cell_type": "code",
   "execution_count": 45,
   "id": "5d7507bf",
   "metadata": {
    "execution": {
     "iopub.execute_input": "2022-04-16T09:46:51.904279Z",
     "iopub.status.busy": "2022-04-16T09:46:51.903118Z",
     "iopub.status.idle": "2022-04-16T09:47:29.113330Z",
     "shell.execute_reply": "2022-04-16T09:47:29.112872Z"
    },
    "papermill": {
     "duration": 44.890981,
     "end_time": "2022-04-16T09:47:29.113466",
     "exception": false,
     "start_time": "2022-04-16T09:46:44.222485",
     "status": "completed"
    },
    "tags": []
   },
   "outputs": [
    {
     "name": "stdout",
     "output_type": "stream",
     "text": [
      "              precision    recall  f1-score   support\n",
      "\n",
      "           0       0.84      0.82      0.83     79800\n",
      "           1       0.82      0.84      0.83     80200\n",
      "\n",
      "    accuracy                           0.83    160000\n",
      "   macro avg       0.83      0.83      0.83    160000\n",
      "weighted avg       0.83      0.83      0.83    160000\n",
      "\n"
     ]
    }
   ],
   "source": [
    "predictions = model.predict(X_test)\n",
    "predictions = np.where(predictions<0.5, 0, 1)\n",
    "\n",
    "print(classification_report(y_test, predictions))"
   ]
  },
  {
   "cell_type": "markdown",
   "id": "20feef8c",
   "metadata": {
    "papermill": {
     "duration": 6.868261,
     "end_time": "2022-04-16T09:47:42.983408",
     "exception": false,
     "start_time": "2022-04-16T09:47:36.115147",
     "status": "completed"
    },
    "tags": []
   },
   "source": [
    "## Test"
   ]
  },
  {
   "cell_type": "code",
   "execution_count": 46,
   "id": "f9265ebf",
   "metadata": {
    "execution": {
     "iopub.execute_input": "2022-04-16T09:47:57.969074Z",
     "iopub.status.busy": "2022-04-16T09:47:57.968248Z",
     "iopub.status.idle": "2022-04-16T09:47:59.584991Z",
     "shell.execute_reply": "2022-04-16T09:47:59.584514Z"
    },
    "papermill": {
     "duration": 9.476401,
     "end_time": "2022-04-16T09:47:59.585121",
     "exception": false,
     "start_time": "2022-04-16T09:47:50.108720",
     "status": "completed"
    },
    "tags": []
   },
   "outputs": [
    {
     "name": "stdout",
     "output_type": "stream",
     "text": [
      "Examples:  ['being sick can be really cheap when it hurts too much to eat real food plus your friends make you soup']  Type:  <class 'list'>\n"
     ]
    },
    {
     "data": {
      "text/plain": [
       "array([[0.68351]], dtype=float32)"
      ]
     },
     "execution_count": 46,
     "metadata": {},
     "output_type": "execute_result"
    }
   ],
   "source": [
    "# Sample sentence\n",
    "examples = [\"being sick can be really cheap when it hurts too much to eat real food plus your friends make you soup\"]\n",
    "# Display the example\n",
    "print(\"Examples: \", examples, \" Type: \", type(examples))\n",
    "# Predict and display the score\n",
    "export_model.predict(examples)"
   ]
  },
  {
   "cell_type": "markdown",
   "id": "fe8ca422",
   "metadata": {
    "papermill": {
     "duration": 6.720327,
     "end_time": "2022-04-16T09:48:13.354073",
     "exception": false,
     "start_time": "2022-04-16T09:48:06.633746",
     "status": "completed"
    },
    "tags": []
   },
   "source": [
    "# Tune the threshold (experimental) ⚗️"
   ]
  },
  {
   "cell_type": "code",
   "execution_count": 47,
   "id": "27d5ec25",
   "metadata": {
    "execution": {
     "iopub.execute_input": "2022-04-16T09:48:27.491645Z",
     "iopub.status.busy": "2022-04-16T09:48:27.490768Z",
     "iopub.status.idle": "2022-04-16T09:49:03.132492Z",
     "shell.execute_reply": "2022-04-16T09:49:03.131573Z"
    },
    "papermill": {
     "duration": 42.926494,
     "end_time": "2022-04-16T09:49:03.132639",
     "exception": false,
     "start_time": "2022-04-16T09:48:20.206145",
     "status": "completed"
    },
    "tags": []
   },
   "outputs": [],
   "source": [
    "predictions = model.predict(X_test)"
   ]
  },
  {
   "cell_type": "markdown",
   "id": "2d70ef13",
   "metadata": {
    "papermill": {
     "duration": 6.996277,
     "end_time": "2022-04-16T09:49:16.933247",
     "exception": false,
     "start_time": "2022-04-16T09:49:09.936970",
     "status": "completed"
    },
    "tags": []
   },
   "source": [
    "## Calculate the best f1 score for each threshold"
   ]
  },
  {
   "cell_type": "code",
   "execution_count": 48,
   "id": "7556d7b1",
   "metadata": {
    "execution": {
     "iopub.execute_input": "2022-04-16T09:49:31.276594Z",
     "iopub.status.busy": "2022-04-16T09:49:31.275589Z",
     "iopub.status.idle": "2022-04-16T09:49:31.278456Z",
     "shell.execute_reply": "2022-04-16T09:49:31.277952Z"
    },
    "papermill": {
     "duration": 7.360362,
     "end_time": "2022-04-16T09:49:31.278576",
     "exception": false,
     "start_time": "2022-04-16T09:49:23.918214",
     "status": "completed"
    },
    "tags": []
   },
   "outputs": [],
   "source": [
    "# Generate an array from 0 to 1 with a 0.001 step\n",
    "thresholds = np.arange(0, 1, 0.001)\n",
    "thres_pos = 0.1\n",
    "f1_score = 0.001"
   ]
  },
  {
   "cell_type": "markdown",
   "id": "aff84b6a",
   "metadata": {
    "papermill": {
     "duration": 6.736458,
     "end_time": "2022-04-16T09:49:45.115532",
     "exception": false,
     "start_time": "2022-04-16T09:49:38.379074",
     "status": "completed"
    },
    "tags": []
   },
   "source": [
    "### Positive threshold"
   ]
  },
  {
   "cell_type": "code",
   "execution_count": 49,
   "id": "a76484b6",
   "metadata": {
    "execution": {
     "iopub.execute_input": "2022-04-16T09:49:59.136416Z",
     "iopub.status.busy": "2022-04-16T09:49:59.135590Z",
     "iopub.status.idle": "2022-04-16T09:53:56.616170Z",
     "shell.execute_reply": "2022-04-16T09:53:56.616619Z"
    },
    "papermill": {
     "duration": 244.525936,
     "end_time": "2022-04-16T09:53:56.616797",
     "exception": false,
     "start_time": "2022-04-16T09:49:52.090861",
     "status": "completed"
    },
    "tags": []
   },
   "outputs": [
    {
     "name": "stderr",
     "output_type": "stream",
     "text": [
      "/opt/conda/lib/python3.7/site-packages/sklearn/metrics/_classification.py:1221: UndefinedMetricWarning: Precision and F-score are ill-defined and being set to 0.0 in labels with no predicted samples. Use `zero_division` parameter to control this behavior.\n",
      "  _warn_prf(average, modifier, msg_start, len(result))\n"
     ]
    },
    {
     "name": "stdout",
     "output_type": "stream",
     "text": [
      "Best threshold : 0.423 \n",
      "Best f1_score: 0.8349145204858647\n"
     ]
    }
   ],
   "source": [
    "# Loop trough the tresholds array\n",
    "for threshold in thresholds :\n",
    "    # Get the positive predictions\n",
    "    prediction = np.where(predictions>threshold, 1, 0)\n",
    "    # Generate the classification report \n",
    "    report = classification_report(y_test, prediction, output_dict=True)\n",
    "    # Get the F1-score from the report\n",
    "    f1_score_new = report[\"1\"][\"f1-score\"]\n",
    "    # Update the final F1-score if greater\n",
    "    if f1_score_new > f1_score: \n",
    "        f1_score = f1_score_new\n",
    "        thres_pos = threshold\n",
    "\n",
    "# Display the results\n",
    "print(f\"Best threshold : {thres_pos} \\nBest f1_score: {f1_score}\")"
   ]
  },
  {
   "cell_type": "markdown",
   "id": "3622cc85",
   "metadata": {
    "papermill": {
     "duration": 6.976372,
     "end_time": "2022-04-16T09:54:10.634588",
     "exception": false,
     "start_time": "2022-04-16T09:54:03.658216",
     "status": "completed"
    },
    "tags": []
   },
   "source": [
    "### Negative threshold"
   ]
  },
  {
   "cell_type": "code",
   "execution_count": 50,
   "id": "1105e8be",
   "metadata": {
    "execution": {
     "iopub.execute_input": "2022-04-16T09:54:25.026192Z",
     "iopub.status.busy": "2022-04-16T09:54:25.025273Z",
     "iopub.status.idle": "2022-04-16T09:58:21.332594Z",
     "shell.execute_reply": "2022-04-16T09:58:21.333176Z"
    },
    "papermill": {
     "duration": 243.85551,
     "end_time": "2022-04-16T09:58:21.333342",
     "exception": false,
     "start_time": "2022-04-16T09:54:17.477832",
     "status": "completed"
    },
    "tags": []
   },
   "outputs": [
    {
     "name": "stdout",
     "output_type": "stream",
     "text": [
      "Best threshold : 0.625 \n",
      "Best f1_score: 0.8340107299626078\n"
     ]
    }
   ],
   "source": [
    "thres_neg = 0.1\n",
    "f1_score_neg = 0.001\n",
    "\n",
    "# Loop trough the tresholds array\n",
    "for threshold in thresholds :\n",
    "    # Get the positive predictions\n",
    "    prediction = np.where(predictions>threshold, 1, 0)\n",
    "    # Generate the classification report \n",
    "    report = classification_report(y_test, prediction, output_dict=True)\n",
    "    # Get the F1-score from the report\n",
    "    f1_score_new = report[\"0\"][\"f1-score\"]\n",
    "    # Update the final F1-score if greater\n",
    "    if f1_score_new > f1_score_neg: \n",
    "        f1_score_neg = f1_score_new\n",
    "        thres_neg = threshold\n",
    "\n",
    "# Display the results\n",
    "print(f\"Best threshold : {thres_neg} \\nBest f1_score: {f1_score_neg}\")"
   ]
  },
  {
   "cell_type": "markdown",
   "id": "86c3148f",
   "metadata": {
    "papermill": {
     "duration": 7.052427,
     "end_time": "2022-04-16T09:58:35.444858",
     "exception": false,
     "start_time": "2022-04-16T09:58:28.392431",
     "status": "completed"
    },
    "tags": []
   },
   "source": [
    "## Test"
   ]
  },
  {
   "cell_type": "code",
   "execution_count": 51,
   "id": "b3ac4a5d",
   "metadata": {
    "execution": {
     "iopub.execute_input": "2022-04-16T09:58:49.720781Z",
     "iopub.status.busy": "2022-04-16T09:58:49.719946Z",
     "iopub.status.idle": "2022-04-16T09:58:49.776969Z",
     "shell.execute_reply": "2022-04-16T09:58:49.777984Z",
     "shell.execute_reply.started": "2022-04-16T07:32:55.182461Z"
    },
    "papermill": {
     "duration": 7.495251,
     "end_time": "2022-04-16T09:58:49.778175",
     "exception": false,
     "start_time": "2022-04-16T09:58:42.282924",
     "status": "completed"
    },
    "tags": []
   },
   "outputs": [
    {
     "name": "stdout",
     "output_type": "stream",
     "text": [
      "Examples: [\"this is a very good day, don't you think so ?\"] Type: <class 'list'>\n",
      "Positive (^_^)\n"
     ]
    }
   ],
   "source": [
    "examples = [ \"this is a very good day, don't you think so ?\" ]\n",
    "\n",
    "print(f\"Examples: {examples} Type: {type(examples)}\")\n",
    "\n",
    "results = np.max(export_model.predict(examples))\n",
    "\n",
    "final_threshold = thres_neg if thres_neg>thres_pos else thres_pos\n",
    "\n",
    "if results >= final_threshold: \n",
    "    print(\"Positive (^_^)\")\n",
    "else: \n",
    "    print(\"Negative (>_<)\")"
   ]
  }
 ],
 "metadata": {
  "kernelspec": {
   "display_name": "Python 3",
   "language": "python",
   "name": "python3"
  },
  "language_info": {
   "codemirror_mode": {
    "name": "ipython",
    "version": 3
   },
   "file_extension": ".py",
   "mimetype": "text/x-python",
   "name": "python",
   "nbconvert_exporter": "python",
   "pygments_lexer": "ipython3",
   "version": "3.7.10"
  },
  "papermill": {
   "default_parameters": {},
   "duration": 4073.093991,
   "end_time": "2022-04-16T09:58:59.509109",
   "environment_variables": {},
   "exception": null,
   "input_path": "__notebook__.ipynb",
   "output_path": "__notebook__.ipynb",
   "parameters": {},
   "start_time": "2022-04-16T08:51:06.415118",
   "version": "2.3.3"
  }
 },
 "nbformat": 4,
 "nbformat_minor": 5
}
