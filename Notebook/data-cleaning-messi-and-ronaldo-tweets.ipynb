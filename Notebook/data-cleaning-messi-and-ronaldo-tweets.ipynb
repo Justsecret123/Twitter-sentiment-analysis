{
 "cells": [
  {
   "cell_type": "markdown",
   "id": "9b3ab396",
   "metadata": {
    "papermill": {
     "duration": 0.042778,
     "end_time": "2022-04-26T08:41:04.860013",
     "exception": false,
     "start_time": "2022-04-26T08:41:04.817235",
     "status": "completed"
    },
    "tags": []
   },
   "source": [
    "# Data Cleaning on tweets about Messi and Ronaldo, by Ibrahim SEROUIS 💻\n",
    "\n",
    "## What is data cleaning ? 🧼\n",
    "\n",
    "\"Data cleaning is the process of fixing or removing incorrect, corrupted, incorrectly formatted, duplicate, or incomplete data within a dataset.\" [read more](https://www.tableau.com/learn/articles/what-is-data-cleaning)\n",
    "\n",
    "## What to expect 🤔\n",
    "\n",
    "In this Notebook, we're going to perform some data cleaning operations on [these tweets](https://www.kaggle.com/datasets/ibrahimserouis99/twitter-sentiment-analysis-and-word-embeddings)."
   ]
  },
  {
   "cell_type": "markdown",
   "id": "bb951fb3",
   "metadata": {
    "papermill": {
     "duration": 0.044877,
     "end_time": "2022-04-26T08:41:04.948839",
     "exception": false,
     "start_time": "2022-04-26T08:41:04.903962",
     "status": "completed"
    },
    "tags": []
   },
   "source": [
    "# Libraries"
   ]
  },
  {
   "cell_type": "code",
   "execution_count": 1,
   "id": "5219a6c0",
   "metadata": {
    "_kg_hide-output": true,
    "execution": {
     "iopub.execute_input": "2022-04-26T08:41:05.059527Z",
     "iopub.status.busy": "2022-04-26T08:41:05.057707Z",
     "iopub.status.idle": "2022-04-26T08:41:15.411981Z",
     "shell.execute_reply": "2022-04-26T08:41:15.412595Z",
     "shell.execute_reply.started": "2022-04-26T08:36:44.080169Z"
    },
    "papermill": {
     "duration": 10.410773,
     "end_time": "2022-04-26T08:41:15.412954",
     "exception": false,
     "start_time": "2022-04-26T08:41:05.002181",
     "status": "completed"
    },
    "tags": []
   },
   "outputs": [
    {
     "name": "stdout",
     "output_type": "stream",
     "text": [
      "Collecting clean-text\r\n",
      "  Downloading clean_text-0.6.0-py3-none-any.whl (11 kB)\r\n",
      "Requirement already satisfied: emoji<2.0.0,>=1.0.0 in /opt/conda/lib/python3.7/site-packages (from clean-text) (1.5.0)\r\n",
      "Collecting ftfy<7.0,>=6.0\r\n",
      "  Downloading ftfy-6.1.1-py3-none-any.whl (53 kB)\r\n",
      "\u001b[K     |████████████████████████████████| 53 kB 473 kB/s \r\n",
      "\u001b[?25hRequirement already satisfied: wcwidth>=0.2.5 in /opt/conda/lib/python3.7/site-packages (from ftfy<7.0,>=6.0->clean-text) (0.2.5)\r\n",
      "Installing collected packages: ftfy, clean-text\r\n",
      "\u001b[33m  WARNING: The script ftfy is installed in '/root/.local/bin' which is not on PATH.\r\n",
      "  Consider adding this directory to PATH or, if you prefer to suppress this warning, use --no-warn-script-location.\u001b[0m\r\n",
      "Successfully installed clean-text-0.6.0 ftfy-6.1.1\r\n",
      "\u001b[33mWARNING: Running pip as the 'root' user can result in broken permissions and conflicting behaviour with the system package manager. It is recommended to use a virtual environment instead: https://pip.pypa.io/warnings/venv\u001b[0m\r\n"
     ]
    }
   ],
   "source": [
    "!pip install --user clean-text"
   ]
  },
  {
   "cell_type": "code",
   "execution_count": 2,
   "id": "b41cbc7c",
   "metadata": {
    "execution": {
     "iopub.execute_input": "2022-04-26T08:41:15.506378Z",
     "iopub.status.busy": "2022-04-26T08:41:15.505523Z",
     "iopub.status.idle": "2022-04-26T08:41:16.146518Z",
     "shell.execute_reply": "2022-04-26T08:41:16.145802Z",
     "shell.execute_reply.started": "2022-04-26T08:36:51.860048Z"
    },
    "papermill": {
     "duration": 0.690067,
     "end_time": "2022-04-26T08:41:16.146692",
     "exception": false,
     "start_time": "2022-04-26T08:41:15.456625",
     "status": "completed"
    },
    "tags": []
   },
   "outputs": [],
   "source": [
    "import re\n",
    "import pandas as pd\n",
    "from cleantext import clean"
   ]
  },
  {
   "cell_type": "markdown",
   "id": "3794b048",
   "metadata": {
    "papermill": {
     "duration": 0.043126,
     "end_time": "2022-04-26T08:41:16.234285",
     "exception": false,
     "start_time": "2022-04-26T08:41:16.191159",
     "status": "completed"
    },
    "tags": []
   },
   "source": [
    "# Files"
   ]
  },
  {
   "cell_type": "code",
   "execution_count": 3,
   "id": "3aae3bf2",
   "metadata": {
    "execution": {
     "iopub.execute_input": "2022-04-26T08:41:16.330760Z",
     "iopub.status.busy": "2022-04-26T08:41:16.329865Z",
     "iopub.status.idle": "2022-04-26T08:41:19.341406Z",
     "shell.execute_reply": "2022-04-26T08:41:19.340787Z",
     "shell.execute_reply.started": "2022-04-26T08:36:52.463735Z"
    },
    "papermill": {
     "duration": 3.06265,
     "end_time": "2022-04-26T08:41:19.341578",
     "exception": false,
     "start_time": "2022-04-26T08:41:16.278928",
     "status": "completed"
    },
    "tags": []
   },
   "outputs": [
    {
     "name": "stderr",
     "output_type": "stream",
     "text": [
      "/opt/conda/lib/python3.7/site-packages/IPython/core/interactiveshell.py:3441: DtypeWarning: Columns (0,1) have mixed types.Specify dtype option on import or set low_memory=False.\n",
      "  exec(code_obj, self.user_global_ns, self.user_ns)\n"
     ]
    }
   ],
   "source": [
    "dataset_messi = pd.read_csv(\"/kaggle/input/twitter-sentiment-analysis-and-word-embeddings/messi_tweets.csv\", encoding=\"utf-8\")\n",
    "dataset_ronaldo = pd.read_csv(\"/kaggle/input/twitter-sentiment-analysis-and-word-embeddings/ronaldo_tweets.csv\", encoding=\"utf-8\")"
   ]
  },
  {
   "cell_type": "markdown",
   "id": "9f313ff3",
   "metadata": {
    "papermill": {
     "duration": 0.043495,
     "end_time": "2022-04-26T08:41:19.428347",
     "exception": false,
     "start_time": "2022-04-26T08:41:19.384852",
     "status": "completed"
    },
    "tags": []
   },
   "source": [
    "# Display some samples"
   ]
  },
  {
   "cell_type": "markdown",
   "id": "377e8c79",
   "metadata": {
    "papermill": {
     "duration": 0.043494,
     "end_time": "2022-04-26T08:41:19.516143",
     "exception": false,
     "start_time": "2022-04-26T08:41:19.472649",
     "status": "completed"
    },
    "tags": []
   },
   "source": [
    "## Messi"
   ]
  },
  {
   "cell_type": "code",
   "execution_count": 4,
   "id": "99af80da",
   "metadata": {
    "execution": {
     "iopub.execute_input": "2022-04-26T08:41:19.615159Z",
     "iopub.status.busy": "2022-04-26T08:41:19.614492Z",
     "iopub.status.idle": "2022-04-26T08:41:19.633605Z",
     "shell.execute_reply": "2022-04-26T08:41:19.634109Z",
     "shell.execute_reply.started": "2022-04-26T08:36:54.346578Z"
    },
    "papermill": {
     "duration": 0.074847,
     "end_time": "2022-04-26T08:41:19.634317",
     "exception": false,
     "start_time": "2022-04-26T08:41:19.559470",
     "status": "completed"
    },
    "tags": []
   },
   "outputs": [
    {
     "data": {
      "text/html": [
       "<div>\n",
       "<style scoped>\n",
       "    .dataframe tbody tr th:only-of-type {\n",
       "        vertical-align: middle;\n",
       "    }\n",
       "\n",
       "    .dataframe tbody tr th {\n",
       "        vertical-align: top;\n",
       "    }\n",
       "\n",
       "    .dataframe thead th {\n",
       "        text-align: right;\n",
       "    }\n",
       "</style>\n",
       "<table border=\"1\" class=\"dataframe\">\n",
       "  <thead>\n",
       "    <tr style=\"text-align: right;\">\n",
       "      <th></th>\n",
       "      <th>tweet_id</th>\n",
       "      <th>author_id</th>\n",
       "      <th>content</th>\n",
       "      <th>lang</th>\n",
       "      <th>date</th>\n",
       "      <th>source</th>\n",
       "      <th>geo</th>\n",
       "      <th>retweet_count</th>\n",
       "      <th>like_count</th>\n",
       "      <th>quote_count</th>\n",
       "    </tr>\n",
       "  </thead>\n",
       "  <tbody>\n",
       "    <tr>\n",
       "      <th>0</th>\n",
       "      <td>1516884143518461955</td>\n",
       "      <td>1407652046677987328</td>\n",
       "      <td>this saturday lionel andrés messi will win the...</td>\n",
       "      <td>en</td>\n",
       "      <td>2022-04-20T20:58:56.000Z</td>\n",
       "      <td>Twitter for Android</td>\n",
       "      <td>NaN</td>\n",
       "      <td>0</td>\n",
       "      <td>0</td>\n",
       "      <td>0</td>\n",
       "    </tr>\n",
       "    <tr>\n",
       "      <th>1</th>\n",
       "      <td>1516884135561908224</td>\n",
       "      <td>1268536714177531905</td>\n",
       "      <td>@goal @PSG_English @PSG_inside WOW great for h...</td>\n",
       "      <td>en</td>\n",
       "      <td>2022-04-20T20:58:54.000Z</td>\n",
       "      <td>Twitter for Android</td>\n",
       "      <td>NaN</td>\n",
       "      <td>0</td>\n",
       "      <td>0</td>\n",
       "      <td>0</td>\n",
       "    </tr>\n",
       "    <tr>\n",
       "      <th>2</th>\n",
       "      <td>1516884129614372864</td>\n",
       "      <td>1303984698461507585</td>\n",
       "      <td>@kokipower23 @moharmcf_ @LaPulgafan10 @TheEuro...</td>\n",
       "      <td>en</td>\n",
       "      <td>2022-04-20T20:58:53.000Z</td>\n",
       "      <td>Twitter for Android</td>\n",
       "      <td>NaN</td>\n",
       "      <td>0</td>\n",
       "      <td>0</td>\n",
       "      <td>0</td>\n",
       "    </tr>\n",
       "    <tr>\n",
       "      <th>3</th>\n",
       "      <td>1516884128955777024</td>\n",
       "      <td>1245698960343302146</td>\n",
       "      <td>@PSG_English Messi was holding this team back.</td>\n",
       "      <td>en</td>\n",
       "      <td>2022-04-20T20:58:53.000Z</td>\n",
       "      <td>Twitter for Android</td>\n",
       "      <td>NaN</td>\n",
       "      <td>0</td>\n",
       "      <td>0</td>\n",
       "      <td>0</td>\n",
       "    </tr>\n",
       "    <tr>\n",
       "      <th>4</th>\n",
       "      <td>1516884112811962368</td>\n",
       "      <td>1432532648472219650</td>\n",
       "      <td>@Nate7z Today Benzema Is better player. In car...</td>\n",
       "      <td>en</td>\n",
       "      <td>2022-04-20T20:58:49.000Z</td>\n",
       "      <td>Twitter Web App</td>\n",
       "      <td>NaN</td>\n",
       "      <td>0</td>\n",
       "      <td>0</td>\n",
       "      <td>0</td>\n",
       "    </tr>\n",
       "  </tbody>\n",
       "</table>\n",
       "</div>"
      ],
      "text/plain": [
       "              tweet_id            author_id  \\\n",
       "0  1516884143518461955  1407652046677987328   \n",
       "1  1516884135561908224  1268536714177531905   \n",
       "2  1516884129614372864  1303984698461507585   \n",
       "3  1516884128955777024  1245698960343302146   \n",
       "4  1516884112811962368  1432532648472219650   \n",
       "\n",
       "                                             content lang  \\\n",
       "0  this saturday lionel andrés messi will win the...   en   \n",
       "1  @goal @PSG_English @PSG_inside WOW great for h...   en   \n",
       "2  @kokipower23 @moharmcf_ @LaPulgafan10 @TheEuro...   en   \n",
       "3     @PSG_English Messi was holding this team back.   en   \n",
       "4  @Nate7z Today Benzema Is better player. In car...   en   \n",
       "\n",
       "                       date               source  geo  retweet_count  \\\n",
       "0  2022-04-20T20:58:56.000Z  Twitter for Android  NaN              0   \n",
       "1  2022-04-20T20:58:54.000Z  Twitter for Android  NaN              0   \n",
       "2  2022-04-20T20:58:53.000Z  Twitter for Android  NaN              0   \n",
       "3  2022-04-20T20:58:53.000Z  Twitter for Android  NaN              0   \n",
       "4  2022-04-20T20:58:49.000Z      Twitter Web App  NaN              0   \n",
       "\n",
       "   like_count  quote_count  \n",
       "0           0            0  \n",
       "1           0            0  \n",
       "2           0            0  \n",
       "3           0            0  \n",
       "4           0            0  "
      ]
     },
     "execution_count": 4,
     "metadata": {},
     "output_type": "execute_result"
    }
   ],
   "source": [
    "dataset_messi.head(5)"
   ]
  },
  {
   "cell_type": "markdown",
   "id": "38ffc592",
   "metadata": {
    "papermill": {
     "duration": 0.043941,
     "end_time": "2022-04-26T08:41:19.722515",
     "exception": false,
     "start_time": "2022-04-26T08:41:19.678574",
     "status": "completed"
    },
    "tags": []
   },
   "source": [
    "## Ronaldo"
   ]
  },
  {
   "cell_type": "code",
   "execution_count": 5,
   "id": "1a22e75e",
   "metadata": {
    "execution": {
     "iopub.execute_input": "2022-04-26T08:41:19.831153Z",
     "iopub.status.busy": "2022-04-26T08:41:19.830494Z",
     "iopub.status.idle": "2022-04-26T08:41:19.833711Z",
     "shell.execute_reply": "2022-04-26T08:41:19.834223Z",
     "shell.execute_reply.started": "2022-04-26T08:36:54.369621Z"
    },
    "papermill": {
     "duration": 0.065448,
     "end_time": "2022-04-26T08:41:19.834435",
     "exception": false,
     "start_time": "2022-04-26T08:41:19.768987",
     "status": "completed"
    },
    "tags": []
   },
   "outputs": [
    {
     "data": {
      "text/html": [
       "<div>\n",
       "<style scoped>\n",
       "    .dataframe tbody tr th:only-of-type {\n",
       "        vertical-align: middle;\n",
       "    }\n",
       "\n",
       "    .dataframe tbody tr th {\n",
       "        vertical-align: top;\n",
       "    }\n",
       "\n",
       "    .dataframe thead th {\n",
       "        text-align: right;\n",
       "    }\n",
       "</style>\n",
       "<table border=\"1\" class=\"dataframe\">\n",
       "  <thead>\n",
       "    <tr style=\"text-align: right;\">\n",
       "      <th></th>\n",
       "      <th>tweet_id</th>\n",
       "      <th>author_id</th>\n",
       "      <th>content</th>\n",
       "      <th>lang</th>\n",
       "      <th>date</th>\n",
       "      <th>source</th>\n",
       "      <th>geo</th>\n",
       "      <th>retweet_count</th>\n",
       "      <th>like_count</th>\n",
       "      <th>quote_count</th>\n",
       "    </tr>\n",
       "  </thead>\n",
       "  <tbody>\n",
       "    <tr>\n",
       "      <th>0</th>\n",
       "      <td>1516885082958663680</td>\n",
       "      <td>311410036</td>\n",
       "      <td>@talkSPORT He’s channeling his inner Ronaldo</td>\n",
       "      <td>en</td>\n",
       "      <td>2022-04-20T21:02:40.000Z</td>\n",
       "      <td>Twitter for iPhone</td>\n",
       "      <td>NaN</td>\n",
       "      <td>0.0</td>\n",
       "      <td>0.0</td>\n",
       "      <td>0.0</td>\n",
       "    </tr>\n",
       "    <tr>\n",
       "      <th>1</th>\n",
       "      <td>1516885060074582018</td>\n",
       "      <td>968820590</td>\n",
       "      <td>Is Ronaldo back on Saturday?</td>\n",
       "      <td>en</td>\n",
       "      <td>2022-04-20T21:02:35.000Z</td>\n",
       "      <td>Twitter for iPhone</td>\n",
       "      <td>NaN</td>\n",
       "      <td>0.0</td>\n",
       "      <td>0.0</td>\n",
       "      <td>0.0</td>\n",
       "    </tr>\n",
       "    <tr>\n",
       "      <th>2</th>\n",
       "      <td>1516885051337805824</td>\n",
       "      <td>3007018857</td>\n",
       "      <td>@JailedGed 7 goals all season. Ev fans class h...</td>\n",
       "      <td>en</td>\n",
       "      <td>2022-04-20T21:02:33.000Z</td>\n",
       "      <td>Twitter for iPhone</td>\n",
       "      <td>NaN</td>\n",
       "      <td>0.0</td>\n",
       "      <td>1.0</td>\n",
       "      <td>0.0</td>\n",
       "    </tr>\n",
       "    <tr>\n",
       "      <th>3</th>\n",
       "      <td>1516885050578837506</td>\n",
       "      <td>1516158593791565825</td>\n",
       "      <td>@PSGhub @canalplus Ronaldo's baby boy 😭😭😭 http...</td>\n",
       "      <td>en</td>\n",
       "      <td>2022-04-20T21:02:33.000Z</td>\n",
       "      <td>Twitter for Android</td>\n",
       "      <td>NaN</td>\n",
       "      <td>0.0</td>\n",
       "      <td>0.0</td>\n",
       "      <td>0.0</td>\n",
       "    </tr>\n",
       "    <tr>\n",
       "      <th>4</th>\n",
       "      <td>1516885041250504704</td>\n",
       "      <td>4756096577</td>\n",
       "      <td>Y’all said he will outscore Ronaldo 😭🤲 https:/...</td>\n",
       "      <td>en</td>\n",
       "      <td>2022-04-20T21:02:30.000Z</td>\n",
       "      <td>Twitter for iPhone</td>\n",
       "      <td>NaN</td>\n",
       "      <td>0.0</td>\n",
       "      <td>0.0</td>\n",
       "      <td>0.0</td>\n",
       "    </tr>\n",
       "  </tbody>\n",
       "</table>\n",
       "</div>"
      ],
      "text/plain": [
       "              tweet_id            author_id  \\\n",
       "0  1516885082958663680            311410036   \n",
       "1  1516885060074582018            968820590   \n",
       "2  1516885051337805824           3007018857   \n",
       "3  1516885050578837506  1516158593791565825   \n",
       "4  1516885041250504704           4756096577   \n",
       "\n",
       "                                             content lang  \\\n",
       "0       @talkSPORT He’s channeling his inner Ronaldo   en   \n",
       "1                       Is Ronaldo back on Saturday?   en   \n",
       "2  @JailedGed 7 goals all season. Ev fans class h...   en   \n",
       "3  @PSGhub @canalplus Ronaldo's baby boy 😭😭😭 http...   en   \n",
       "4  Y’all said he will outscore Ronaldo 😭🤲 https:/...   en   \n",
       "\n",
       "                       date               source  geo  retweet_count  \\\n",
       "0  2022-04-20T21:02:40.000Z   Twitter for iPhone  NaN            0.0   \n",
       "1  2022-04-20T21:02:35.000Z   Twitter for iPhone  NaN            0.0   \n",
       "2  2022-04-20T21:02:33.000Z   Twitter for iPhone  NaN            0.0   \n",
       "3  2022-04-20T21:02:33.000Z  Twitter for Android  NaN            0.0   \n",
       "4  2022-04-20T21:02:30.000Z   Twitter for iPhone  NaN            0.0   \n",
       "\n",
       "   like_count  quote_count  \n",
       "0         0.0          0.0  \n",
       "1         0.0          0.0  \n",
       "2         1.0          0.0  \n",
       "3         0.0          0.0  \n",
       "4         0.0          0.0  "
      ]
     },
     "execution_count": 5,
     "metadata": {},
     "output_type": "execute_result"
    }
   ],
   "source": [
    "dataset_ronaldo.head(5)"
   ]
  },
  {
   "cell_type": "markdown",
   "id": "2862d64f",
   "metadata": {
    "papermill": {
     "duration": 0.044998,
     "end_time": "2022-04-26T08:41:19.924724",
     "exception": false,
     "start_time": "2022-04-26T08:41:19.879726",
     "status": "completed"
    },
    "tags": []
   },
   "source": [
    "# Data cleaning 🧼🧽"
   ]
  },
  {
   "cell_type": "markdown",
   "id": "b6fd1efb",
   "metadata": {
    "papermill": {
     "duration": 0.045193,
     "end_time": "2022-04-26T08:41:20.016240",
     "exception": false,
     "start_time": "2022-04-26T08:41:19.971047",
     "status": "completed"
    },
    "tags": []
   },
   "source": [
    "## Messi"
   ]
  },
  {
   "cell_type": "markdown",
   "id": "59b86ecf",
   "metadata": {
    "papermill": {
     "duration": 0.044452,
     "end_time": "2022-04-26T08:41:20.105048",
     "exception": false,
     "start_time": "2022-04-26T08:41:20.060596",
     "status": "completed"
    },
    "tags": []
   },
   "source": [
    "### Check for null values"
   ]
  },
  {
   "cell_type": "code",
   "execution_count": 6,
   "id": "fc28e5c5",
   "metadata": {
    "execution": {
     "iopub.execute_input": "2022-04-26T08:41:20.199420Z",
     "iopub.status.busy": "2022-04-26T08:41:20.198755Z",
     "iopub.status.idle": "2022-04-26T08:41:20.296539Z",
     "shell.execute_reply": "2022-04-26T08:41:20.295600Z",
     "shell.execute_reply.started": "2022-04-26T08:36:54.393300Z"
    },
    "papermill": {
     "duration": 0.147274,
     "end_time": "2022-04-26T08:41:20.296731",
     "exception": false,
     "start_time": "2022-04-26T08:41:20.149457",
     "status": "completed"
    },
    "tags": []
   },
   "outputs": [
    {
     "name": "stdout",
     "output_type": "stream",
     "text": [
      "Null values per column : \n",
      "\n",
      "tweet_id              0\n",
      "author_id             0\n",
      "content               0\n",
      "lang                  0\n",
      "date                  0\n",
      "source                0\n",
      "geo              158969\n",
      "retweet_count         0\n",
      "like_count            0\n",
      "quote_count           0\n",
      "dtype: int64\n"
     ]
    }
   ],
   "source": [
    "print(f\"Null values per column : \\n\\n{dataset_messi.isna().sum()}\")"
   ]
  },
  {
   "cell_type": "markdown",
   "id": "2742dfd0",
   "metadata": {
    "papermill": {
     "duration": 0.04483,
     "end_time": "2022-04-26T08:41:20.386508",
     "exception": false,
     "start_time": "2022-04-26T08:41:20.341678",
     "status": "completed"
    },
    "tags": []
   },
   "source": [
    "### Drop duplicates\n",
    "Based on tweet ID"
   ]
  },
  {
   "cell_type": "code",
   "execution_count": 7,
   "id": "faf4e531",
   "metadata": {
    "execution": {
     "iopub.execute_input": "2022-04-26T08:41:20.485538Z",
     "iopub.status.busy": "2022-04-26T08:41:20.484811Z",
     "iopub.status.idle": "2022-04-26T08:41:20.523563Z",
     "shell.execute_reply": "2022-04-26T08:41:20.524372Z",
     "shell.execute_reply.started": "2022-04-26T08:36:54.500929Z"
    },
    "papermill": {
     "duration": 0.093572,
     "end_time": "2022-04-26T08:41:20.524645",
     "exception": false,
     "start_time": "2022-04-26T08:41:20.431073",
     "status": "completed"
    },
    "tags": []
   },
   "outputs": [
    {
     "name": "stdout",
     "output_type": "stream",
     "text": [
      "Row count before deletion: 160195 \n",
      "Row count after deletion: 123634\n"
     ]
    }
   ],
   "source": [
    "print(f\"Row count before deletion: {len(dataset_messi.index)} \")\n",
    "dataset_messi = dataset_messi.drop_duplicates(subset=\"tweet_id\", keep=\"first\")\n",
    "print(f\"Row count after deletion: {len(dataset_messi.index)}\")"
   ]
  },
  {
   "cell_type": "markdown",
   "id": "496412eb",
   "metadata": {
    "papermill": {
     "duration": 0.046396,
     "end_time": "2022-04-26T08:41:20.619293",
     "exception": false,
     "start_time": "2022-04-26T08:41:20.572897",
     "status": "completed"
    },
    "tags": []
   },
   "source": [
    "#### Percentage of null geo values "
   ]
  },
  {
   "cell_type": "code",
   "execution_count": 8,
   "id": "22ce438c",
   "metadata": {
    "execution": {
     "iopub.execute_input": "2022-04-26T08:41:20.717997Z",
     "iopub.status.busy": "2022-04-26T08:41:20.715189Z",
     "iopub.status.idle": "2022-04-26T08:41:20.720959Z",
     "shell.execute_reply": "2022-04-26T08:41:20.721506Z",
     "shell.execute_reply.started": "2022-04-26T08:36:54.545498Z"
    },
    "papermill": {
     "duration": 0.055853,
     "end_time": "2022-04-26T08:41:20.721710",
     "exception": false,
     "start_time": "2022-04-26T08:41:20.665857",
     "status": "completed"
    },
    "tags": []
   },
   "outputs": [
    {
     "name": "stdout",
     "output_type": "stream",
     "text": [
      "Number of values : 123634\n"
     ]
    }
   ],
   "source": [
    "count = len(dataset_messi.index)\n",
    "print(f\"Number of values : {count}\")"
   ]
  },
  {
   "cell_type": "code",
   "execution_count": 9,
   "id": "e202df7a",
   "metadata": {
    "execution": {
     "iopub.execute_input": "2022-04-26T08:41:20.819246Z",
     "iopub.status.busy": "2022-04-26T08:41:20.818574Z",
     "iopub.status.idle": "2022-04-26T08:41:20.890483Z",
     "shell.execute_reply": "2022-04-26T08:41:20.891522Z",
     "shell.execute_reply.started": "2022-04-26T08:36:54.552510Z"
    },
    "papermill": {
     "duration": 0.123372,
     "end_time": "2022-04-26T08:41:20.891802",
     "exception": false,
     "start_time": "2022-04-26T08:41:20.768430",
     "status": "completed"
    },
    "tags": []
   },
   "outputs": [
    {
     "name": "stdout",
     "output_type": "stream",
     "text": [
      "Percentage of null geo values 99.21%\n"
     ]
    }
   ],
   "source": [
    "count_null = dataset_messi.isna().sum()[\"geo\"]\n",
    "percentage = count_null*100/count\n",
    "print(f\"Percentage of null geo values {round(percentage,2)}%\")"
   ]
  },
  {
   "cell_type": "markdown",
   "id": "a1bc3d37",
   "metadata": {
    "papermill": {
     "duration": 0.047948,
     "end_time": "2022-04-26T08:41:20.989559",
     "exception": false,
     "start_time": "2022-04-26T08:41:20.941611",
     "status": "completed"
    },
    "tags": []
   },
   "source": [
    "### Assign the -1 id to null geo values"
   ]
  },
  {
   "cell_type": "code",
   "execution_count": 10,
   "id": "7f01745f",
   "metadata": {
    "execution": {
     "iopub.execute_input": "2022-04-26T08:41:21.089376Z",
     "iopub.status.busy": "2022-04-26T08:41:21.088672Z",
     "iopub.status.idle": "2022-04-26T08:41:21.185766Z",
     "shell.execute_reply": "2022-04-26T08:41:21.185156Z",
     "shell.execute_reply.started": "2022-04-26T08:36:54.639799Z"
    },
    "papermill": {
     "duration": 0.148692,
     "end_time": "2022-04-26T08:41:21.185944",
     "exception": false,
     "start_time": "2022-04-26T08:41:21.037252",
     "status": "completed"
    },
    "tags": []
   },
   "outputs": [],
   "source": [
    "dataset_messi.geo = dataset_messi.geo.apply(lambda x: -1 if pd.isna(x) else x)"
   ]
  },
  {
   "cell_type": "markdown",
   "id": "4bf08d14",
   "metadata": {
    "papermill": {
     "duration": 0.047526,
     "end_time": "2022-04-26T08:41:21.280435",
     "exception": false,
     "start_time": "2022-04-26T08:41:21.232909",
     "status": "completed"
    },
    "tags": []
   },
   "source": [
    "#### Display results"
   ]
  },
  {
   "cell_type": "code",
   "execution_count": 11,
   "id": "49662c4b",
   "metadata": {
    "execution": {
     "iopub.execute_input": "2022-04-26T08:41:21.376464Z",
     "iopub.status.busy": "2022-04-26T08:41:21.375785Z",
     "iopub.status.idle": "2022-04-26T08:41:21.381894Z",
     "shell.execute_reply": "2022-04-26T08:41:21.382452Z",
     "shell.execute_reply.started": "2022-04-26T08:36:54.741952Z"
    },
    "papermill": {
     "duration": 0.055915,
     "end_time": "2022-04-26T08:41:21.382659",
     "exception": false,
     "start_time": "2022-04-26T08:41:21.326744",
     "status": "completed"
    },
    "tags": []
   },
   "outputs": [
    {
     "data": {
      "text/plain": [
       "0    -1\n",
       "1    -1\n",
       "2    -1\n",
       "3    -1\n",
       "4    -1\n",
       "Name: geo, dtype: object"
      ]
     },
     "execution_count": 11,
     "metadata": {},
     "output_type": "execute_result"
    }
   ],
   "source": [
    "dataset_messi[\"geo\"].head(5)"
   ]
  },
  {
   "cell_type": "code",
   "execution_count": 12,
   "id": "b8165c8f",
   "metadata": {
    "execution": {
     "iopub.execute_input": "2022-04-26T08:41:21.481375Z",
     "iopub.status.busy": "2022-04-26T08:41:21.480723Z",
     "iopub.status.idle": "2022-04-26T08:41:21.493023Z",
     "shell.execute_reply": "2022-04-26T08:41:21.492341Z",
     "shell.execute_reply.started": "2022-04-26T08:36:54.752353Z"
    },
    "papermill": {
     "duration": 0.062551,
     "end_time": "2022-04-26T08:41:21.493175",
     "exception": false,
     "start_time": "2022-04-26T08:41:21.430624",
     "status": "completed"
    },
    "tags": []
   },
   "outputs": [
    {
     "name": "stdout",
     "output_type": "stream",
     "text": [
      "Some locations ids: [-1 '01aadce76841e2c5' '6565298bcadb82a1' 'cee903c102af3a7f'\n",
      " 'bb94af3e1fdbeb7f']\n"
     ]
    }
   ],
   "source": [
    "print(f\"Some locations ids: {dataset_messi['geo'].unique()[0:5]}\")"
   ]
  },
  {
   "cell_type": "markdown",
   "id": "7ce3b26c",
   "metadata": {
    "papermill": {
     "duration": 0.046719,
     "end_time": "2022-04-26T08:41:21.587180",
     "exception": false,
     "start_time": "2022-04-26T08:41:21.540461",
     "status": "completed"
    },
    "tags": []
   },
   "source": [
    "### Clean tweets : remove mentions, extra spaces and links"
   ]
  },
  {
   "cell_type": "markdown",
   "id": "acdb6f60",
   "metadata": {
    "papermill": {
     "duration": 0.046918,
     "end_time": "2022-04-26T08:41:21.681768",
     "exception": false,
     "start_time": "2022-04-26T08:41:21.634850",
     "status": "completed"
    },
    "tags": []
   },
   "source": [
    "#### Utility function"
   ]
  },
  {
   "cell_type": "code",
   "execution_count": 13,
   "id": "4ecc20af",
   "metadata": {
    "execution": {
     "iopub.execute_input": "2022-04-26T08:41:21.781208Z",
     "iopub.status.busy": "2022-04-26T08:41:21.780156Z",
     "iopub.status.idle": "2022-04-26T08:41:21.785010Z",
     "shell.execute_reply": "2022-04-26T08:41:21.785495Z",
     "shell.execute_reply.started": "2022-04-26T08:36:54.773847Z"
    },
    "papermill": {
     "duration": 0.05668,
     "end_time": "2022-04-26T08:41:21.785698",
     "exception": false,
     "start_time": "2022-04-26T08:41:21.729018",
     "status": "completed"
    },
    "tags": []
   },
   "outputs": [],
   "source": [
    "def clean_tweet(text):\n",
    "    \"\"\"\n",
    "    Removes punctuation, emojis, normalizes whitespaces...from a text\n",
    "    \"\"\"\n",
    "    \n",
    "    text = clean(text,\n",
    "                 no_punct=True,\n",
    "                 lower=True,\n",
    "                 no_emoji=True,\n",
    "                 normalize_whitespace=True\n",
    "                )\n",
    "    \n",
    "    return text"
   ]
  },
  {
   "cell_type": "markdown",
   "id": "2b8c30b1",
   "metadata": {
    "papermill": {
     "duration": 0.048219,
     "end_time": "2022-04-26T08:41:21.881209",
     "exception": false,
     "start_time": "2022-04-26T08:41:21.832990",
     "status": "completed"
    },
    "tags": []
   },
   "source": [
    "#### Create the text cleaning regular expressions "
   ]
  },
  {
   "cell_type": "code",
   "execution_count": 14,
   "id": "ac07c97d",
   "metadata": {
    "execution": {
     "iopub.execute_input": "2022-04-26T08:41:21.982572Z",
     "iopub.status.busy": "2022-04-26T08:41:21.981877Z",
     "iopub.status.idle": "2022-04-26T08:41:21.985116Z",
     "shell.execute_reply": "2022-04-26T08:41:21.984604Z",
     "shell.execute_reply.started": "2022-04-26T08:36:54.781207Z"
    },
    "papermill": {
     "duration": 0.056257,
     "end_time": "2022-04-26T08:41:21.985299",
     "exception": false,
     "start_time": "2022-04-26T08:41:21.929042",
     "status": "completed"
    },
    "tags": []
   },
   "outputs": [],
   "source": [
    "# Remove mentions\n",
    "regex_mentions = r\"@[A-Za-z0-9_]+\"\n",
    "# Remove links\n",
    "regex_links = r\"https?://[A-Za-z0-9./]+\"\n",
    "# Remove some special characters\n",
    "regex_special = r\"[^A-Za-z0-9]+\"\n",
    "# Remove numbers \n",
    "regex_numbers = r\"[0-9]+\"\n",
    "# Remove ordinals \n",
    "regex_ordinals = r\"[0-9]+(?:st| st|nd| nd|rd| rd|th| th)\""
   ]
  },
  {
   "cell_type": "markdown",
   "id": "5ea82e79",
   "metadata": {
    "papermill": {
     "duration": 0.04728,
     "end_time": "2022-04-26T08:41:22.079686",
     "exception": false,
     "start_time": "2022-04-26T08:41:22.032406",
     "status": "completed"
    },
    "tags": []
   },
   "source": [
    "### Clean tweets : remove mentions, links, special characters, extra spaces..."
   ]
  },
  {
   "cell_type": "code",
   "execution_count": 15,
   "id": "67bb6bbb",
   "metadata": {
    "execution": {
     "iopub.execute_input": "2022-04-26T08:41:22.185195Z",
     "iopub.status.busy": "2022-04-26T08:41:22.184533Z",
     "iopub.status.idle": "2022-04-26T08:41:39.101953Z",
     "shell.execute_reply": "2022-04-26T08:41:39.102487Z",
     "shell.execute_reply.started": "2022-04-26T08:36:54.793116Z"
    },
    "papermill": {
     "duration": 16.975773,
     "end_time": "2022-04-26T08:41:39.102699",
     "exception": false,
     "start_time": "2022-04-26T08:41:22.126926",
     "status": "completed"
    },
    "tags": []
   },
   "outputs": [],
   "source": [
    "# Remove mentions\n",
    "dataset_messi.content = dataset_messi.content.apply(lambda x: re.sub(regex_mentions, \" \", str(x).strip()))\n",
    "# Remove links \n",
    "dataset_messi.content = dataset_messi.content.apply(lambda x: re.sub(regex_links, \" \", str(x).strip()))\n",
    "# Remove special characters\n",
    "dataset_messi.content = dataset_messi.content.apply(lambda x: re.sub(regex_special, \" \", str(x).strip()))\n",
    "# Remove ordinals\n",
    "dataset_messi.content = dataset_messi.content.apply(lambda x: re.sub(regex_ordinals, \" \", str(x).strip()))\n",
    "# Remove numbers \n",
    "dataset_messi.content = dataset_messi.content.apply(lambda x: re.sub(regex_numbers, \" \", str(x).strip()))\n",
    "# Clean tweets\n",
    "dataset_messi.content = dataset_messi.content.apply(lambda x: clean_tweet(x)) "
   ]
  },
  {
   "cell_type": "markdown",
   "id": "b616e096",
   "metadata": {
    "papermill": {
     "duration": 0.046198,
     "end_time": "2022-04-26T08:41:39.195787",
     "exception": false,
     "start_time": "2022-04-26T08:41:39.149589",
     "status": "completed"
    },
    "tags": []
   },
   "source": [
    "#### Display results"
   ]
  },
  {
   "cell_type": "code",
   "execution_count": 16,
   "id": "3c34ac97",
   "metadata": {
    "execution": {
     "iopub.execute_input": "2022-04-26T08:41:39.292516Z",
     "iopub.status.busy": "2022-04-26T08:41:39.291893Z",
     "iopub.status.idle": "2022-04-26T08:41:39.305748Z",
     "shell.execute_reply": "2022-04-26T08:41:39.306379Z",
     "shell.execute_reply.started": "2022-04-26T08:37:11.459708Z"
    },
    "papermill": {
     "duration": 0.064083,
     "end_time": "2022-04-26T08:41:39.306554",
     "exception": false,
     "start_time": "2022-04-26T08:41:39.242471",
     "status": "completed"
    },
    "tags": []
   },
   "outputs": [
    {
     "data": {
      "text/html": [
       "<div>\n",
       "<style scoped>\n",
       "    .dataframe tbody tr th:only-of-type {\n",
       "        vertical-align: middle;\n",
       "    }\n",
       "\n",
       "    .dataframe tbody tr th {\n",
       "        vertical-align: top;\n",
       "    }\n",
       "\n",
       "    .dataframe thead th {\n",
       "        text-align: right;\n",
       "    }\n",
       "</style>\n",
       "<table border=\"1\" class=\"dataframe\">\n",
       "  <thead>\n",
       "    <tr style=\"text-align: right;\">\n",
       "      <th></th>\n",
       "      <th>tweet_id</th>\n",
       "      <th>author_id</th>\n",
       "      <th>content</th>\n",
       "      <th>lang</th>\n",
       "      <th>date</th>\n",
       "      <th>source</th>\n",
       "      <th>geo</th>\n",
       "      <th>retweet_count</th>\n",
       "      <th>like_count</th>\n",
       "      <th>quote_count</th>\n",
       "    </tr>\n",
       "  </thead>\n",
       "  <tbody>\n",
       "    <tr>\n",
       "      <th>0</th>\n",
       "      <td>1516884143518461955</td>\n",
       "      <td>1407652046677987328</td>\n",
       "      <td>this saturday lionel andr s messi will win the...</td>\n",
       "      <td>en</td>\n",
       "      <td>2022-04-20T20:58:56.000Z</td>\n",
       "      <td>Twitter for Android</td>\n",
       "      <td>-1</td>\n",
       "      <td>0</td>\n",
       "      <td>0</td>\n",
       "      <td>0</td>\n",
       "    </tr>\n",
       "    <tr>\n",
       "      <th>1</th>\n",
       "      <td>1516884135561908224</td>\n",
       "      <td>1268536714177531905</td>\n",
       "      <td>wow great for him just one more to reach messi</td>\n",
       "      <td>en</td>\n",
       "      <td>2022-04-20T20:58:54.000Z</td>\n",
       "      <td>Twitter for Android</td>\n",
       "      <td>-1</td>\n",
       "      <td>0</td>\n",
       "      <td>0</td>\n",
       "      <td>0</td>\n",
       "    </tr>\n",
       "    <tr>\n",
       "      <th>2</th>\n",
       "      <td>1516884129614372864</td>\n",
       "      <td>1303984698461507585</td>\n",
       "      <td>messi ain t the worst at pens stop the</td>\n",
       "      <td>en</td>\n",
       "      <td>2022-04-20T20:58:53.000Z</td>\n",
       "      <td>Twitter for Android</td>\n",
       "      <td>-1</td>\n",
       "      <td>0</td>\n",
       "      <td>0</td>\n",
       "      <td>0</td>\n",
       "    </tr>\n",
       "    <tr>\n",
       "      <th>3</th>\n",
       "      <td>1516884128955777024</td>\n",
       "      <td>1245698960343302146</td>\n",
       "      <td>messi was holding this team back</td>\n",
       "      <td>en</td>\n",
       "      <td>2022-04-20T20:58:53.000Z</td>\n",
       "      <td>Twitter for Android</td>\n",
       "      <td>-1</td>\n",
       "      <td>0</td>\n",
       "      <td>0</td>\n",
       "      <td>0</td>\n",
       "    </tr>\n",
       "    <tr>\n",
       "      <th>4</th>\n",
       "      <td>1516884112811962368</td>\n",
       "      <td>1432532648472219650</td>\n",
       "      <td>today benzema is better player in career not e...</td>\n",
       "      <td>en</td>\n",
       "      <td>2022-04-20T20:58:49.000Z</td>\n",
       "      <td>Twitter Web App</td>\n",
       "      <td>-1</td>\n",
       "      <td>0</td>\n",
       "      <td>0</td>\n",
       "      <td>0</td>\n",
       "    </tr>\n",
       "  </tbody>\n",
       "</table>\n",
       "</div>"
      ],
      "text/plain": [
       "              tweet_id            author_id  \\\n",
       "0  1516884143518461955  1407652046677987328   \n",
       "1  1516884135561908224  1268536714177531905   \n",
       "2  1516884129614372864  1303984698461507585   \n",
       "3  1516884128955777024  1245698960343302146   \n",
       "4  1516884112811962368  1432532648472219650   \n",
       "\n",
       "                                             content lang  \\\n",
       "0  this saturday lionel andr s messi will win the...   en   \n",
       "1     wow great for him just one more to reach messi   en   \n",
       "2             messi ain t the worst at pens stop the   en   \n",
       "3                   messi was holding this team back   en   \n",
       "4  today benzema is better player in career not e...   en   \n",
       "\n",
       "                       date               source geo  retweet_count  \\\n",
       "0  2022-04-20T20:58:56.000Z  Twitter for Android  -1              0   \n",
       "1  2022-04-20T20:58:54.000Z  Twitter for Android  -1              0   \n",
       "2  2022-04-20T20:58:53.000Z  Twitter for Android  -1              0   \n",
       "3  2022-04-20T20:58:53.000Z  Twitter for Android  -1              0   \n",
       "4  2022-04-20T20:58:49.000Z      Twitter Web App  -1              0   \n",
       "\n",
       "   like_count  quote_count  \n",
       "0           0            0  \n",
       "1           0            0  \n",
       "2           0            0  \n",
       "3           0            0  \n",
       "4           0            0  "
      ]
     },
     "execution_count": 16,
     "metadata": {},
     "output_type": "execute_result"
    }
   ],
   "source": [
    "dataset_messi.head(5)"
   ]
  },
  {
   "cell_type": "markdown",
   "id": "e5aaa2eb",
   "metadata": {
    "papermill": {
     "duration": 0.046733,
     "end_time": "2022-04-26T08:41:39.400221",
     "exception": false,
     "start_time": "2022-04-26T08:41:39.353488",
     "status": "completed"
    },
    "tags": []
   },
   "source": [
    "### Check for non-english content"
   ]
  },
  {
   "cell_type": "code",
   "execution_count": 17,
   "id": "f1c04b3a",
   "metadata": {
    "execution": {
     "iopub.execute_input": "2022-04-26T08:41:39.508979Z",
     "iopub.status.busy": "2022-04-26T08:41:39.498356Z",
     "iopub.status.idle": "2022-04-26T08:41:39.514284Z",
     "shell.execute_reply": "2022-04-26T08:41:39.513688Z",
     "shell.execute_reply.started": "2022-04-26T08:37:11.476021Z"
    },
    "papermill": {
     "duration": 0.066329,
     "end_time": "2022-04-26T08:41:39.514439",
     "exception": false,
     "start_time": "2022-04-26T08:41:39.448110",
     "status": "completed"
    },
    "tags": []
   },
   "outputs": [],
   "source": [
    "assert dataset_messi[\"lang\"].unique()==\"en\", \"Non-english content detected\""
   ]
  },
  {
   "cell_type": "markdown",
   "id": "a6ada8c1",
   "metadata": {
    "papermill": {
     "duration": 0.046759,
     "end_time": "2022-04-26T08:41:39.609173",
     "exception": false,
     "start_time": "2022-04-26T08:41:39.562414",
     "status": "completed"
    },
    "tags": []
   },
   "source": [
    "> Test passed"
   ]
  },
  {
   "cell_type": "markdown",
   "id": "4e0766c6",
   "metadata": {
    "papermill": {
     "duration": 0.046637,
     "end_time": "2022-04-26T08:41:39.703147",
     "exception": false,
     "start_time": "2022-04-26T08:41:39.656510",
     "status": "completed"
    },
    "tags": []
   },
   "source": [
    "## Ronaldo"
   ]
  },
  {
   "cell_type": "markdown",
   "id": "26b3b66f",
   "metadata": {
    "papermill": {
     "duration": 0.047247,
     "end_time": "2022-04-26T08:41:39.798405",
     "exception": false,
     "start_time": "2022-04-26T08:41:39.751158",
     "status": "completed"
    },
    "tags": []
   },
   "source": [
    "### Check for null values"
   ]
  },
  {
   "cell_type": "code",
   "execution_count": 18,
   "id": "a4a18663",
   "metadata": {
    "execution": {
     "iopub.execute_input": "2022-04-26T08:41:39.898233Z",
     "iopub.status.busy": "2022-04-26T08:41:39.897545Z",
     "iopub.status.idle": "2022-04-26T08:41:40.030480Z",
     "shell.execute_reply": "2022-04-26T08:41:40.029973Z",
     "shell.execute_reply.started": "2022-04-26T08:37:11.500121Z"
    },
    "papermill": {
     "duration": 0.18481,
     "end_time": "2022-04-26T08:41:40.030622",
     "exception": false,
     "start_time": "2022-04-26T08:41:39.845812",
     "status": "completed"
    },
    "tags": []
   },
   "outputs": [
    {
     "data": {
      "text/plain": [
       "tweet_id              0\n",
       "author_id             2\n",
       "content               2\n",
       "lang                  5\n",
       "date                  8\n",
       "source                5\n",
       "geo              158252\n",
       "retweet_count         5\n",
       "like_count            8\n",
       "quote_count           8\n",
       "dtype: int64"
      ]
     },
     "execution_count": 18,
     "metadata": {},
     "output_type": "execute_result"
    }
   ],
   "source": [
    "dataset_ronaldo.isna().sum()"
   ]
  },
  {
   "cell_type": "markdown",
   "id": "c86d046d",
   "metadata": {
    "papermill": {
     "duration": 0.048051,
     "end_time": "2022-04-26T08:41:40.127092",
     "exception": false,
     "start_time": "2022-04-26T08:41:40.079041",
     "status": "completed"
    },
    "tags": []
   },
   "source": [
    "### Drop null values\n",
    "For columns relevant to our analysis"
   ]
  },
  {
   "cell_type": "code",
   "execution_count": 19,
   "id": "f1b37eb4",
   "metadata": {
    "execution": {
     "iopub.execute_input": "2022-04-26T08:41:40.230794Z",
     "iopub.status.busy": "2022-04-26T08:41:40.230107Z",
     "iopub.status.idle": "2022-04-26T08:41:40.328011Z",
     "shell.execute_reply": "2022-04-26T08:41:40.327503Z",
     "shell.execute_reply.started": "2022-04-26T08:37:11.637653Z"
    },
    "papermill": {
     "duration": 0.15318,
     "end_time": "2022-04-26T08:41:40.328151",
     "exception": false,
     "start_time": "2022-04-26T08:41:40.174971",
     "status": "completed"
    },
    "tags": []
   },
   "outputs": [],
   "source": [
    "dataset_ronaldo.dropna(subset=[\"lang\",\"date\",\"source\",\"retweet_count\",\"like_count\", \"quote_count\"], inplace=True)"
   ]
  },
  {
   "cell_type": "code",
   "execution_count": 20,
   "id": "8be12ec6",
   "metadata": {
    "execution": {
     "iopub.execute_input": "2022-04-26T08:41:40.428802Z",
     "iopub.status.busy": "2022-04-26T08:41:40.427824Z",
     "iopub.status.idle": "2022-04-26T08:41:40.558917Z",
     "shell.execute_reply": "2022-04-26T08:41:40.559452Z",
     "shell.execute_reply.started": "2022-04-26T08:37:11.737529Z"
    },
    "papermill": {
     "duration": 0.184197,
     "end_time": "2022-04-26T08:41:40.559652",
     "exception": false,
     "start_time": "2022-04-26T08:41:40.375455",
     "status": "completed"
    },
    "tags": []
   },
   "outputs": [
    {
     "name": "stdout",
     "output_type": "stream",
     "text": [
      "Null values: \n",
      "tweet_id              0\n",
      "author_id             0\n",
      "content               0\n",
      "lang                  0\n",
      "date                  0\n",
      "source                0\n",
      "geo              158247\n",
      "retweet_count         0\n",
      "like_count            0\n",
      "quote_count           0\n",
      "dtype: int64\n"
     ]
    }
   ],
   "source": [
    "print(f\"Null values: \\n{dataset_ronaldo.isna().sum()}\")"
   ]
  },
  {
   "cell_type": "markdown",
   "id": "f1c271f3",
   "metadata": {
    "papermill": {
     "duration": 0.047806,
     "end_time": "2022-04-26T08:41:40.655701",
     "exception": false,
     "start_time": "2022-04-26T08:41:40.607895",
     "status": "completed"
    },
    "tags": []
   },
   "source": [
    "### Drop duplicates"
   ]
  },
  {
   "cell_type": "code",
   "execution_count": 21,
   "id": "6d638252",
   "metadata": {
    "execution": {
     "iopub.execute_input": "2022-04-26T08:41:40.756847Z",
     "iopub.status.busy": "2022-04-26T08:41:40.756123Z",
     "iopub.status.idle": "2022-04-26T08:41:40.859607Z",
     "shell.execute_reply": "2022-04-26T08:41:40.860117Z",
     "shell.execute_reply.started": "2022-04-26T08:37:11.872715Z"
    },
    "papermill": {
     "duration": 0.155682,
     "end_time": "2022-04-26T08:41:40.860326",
     "exception": false,
     "start_time": "2022-04-26T08:41:40.704644",
     "status": "completed"
    },
    "tags": []
   },
   "outputs": [
    {
     "name": "stdout",
     "output_type": "stream",
     "text": [
      "Row count before deletion: 160318 \n",
      "Row count after deletion: 160318\n"
     ]
    }
   ],
   "source": [
    "print(f\"Row count before deletion: {len(dataset_ronaldo.index)} \")\n",
    "dataset_ronaldo = dataset_ronaldo.drop_duplicates(subset=\"tweet_id\", keep=\"first\")\n",
    "print(f\"Row count after deletion: {len(dataset_ronaldo.index)}\")"
   ]
  },
  {
   "cell_type": "markdown",
   "id": "d7f50f40",
   "metadata": {
    "papermill": {
     "duration": 0.047884,
     "end_time": "2022-04-26T08:41:40.957408",
     "exception": false,
     "start_time": "2022-04-26T08:41:40.909524",
     "status": "completed"
    },
    "tags": []
   },
   "source": [
    "### Percentage of null geo values"
   ]
  },
  {
   "cell_type": "code",
   "execution_count": 22,
   "id": "91804837",
   "metadata": {
    "execution": {
     "iopub.execute_input": "2022-04-26T08:41:41.062137Z",
     "iopub.status.busy": "2022-04-26T08:41:41.061526Z",
     "iopub.status.idle": "2022-04-26T08:41:41.064143Z",
     "shell.execute_reply": "2022-04-26T08:41:41.064657Z",
     "shell.execute_reply.started": "2022-04-26T08:37:11.980021Z"
    },
    "papermill": {
     "duration": 0.05711,
     "end_time": "2022-04-26T08:41:41.064828",
     "exception": false,
     "start_time": "2022-04-26T08:41:41.007718",
     "status": "completed"
    },
    "tags": []
   },
   "outputs": [
    {
     "name": "stdout",
     "output_type": "stream",
     "text": [
      "Number of values: 160318\n"
     ]
    }
   ],
   "source": [
    "count = len(dataset_ronaldo.index)\n",
    "print(f\"Number of values: {count}\")"
   ]
  },
  {
   "cell_type": "code",
   "execution_count": 23,
   "id": "d2de529d",
   "metadata": {
    "execution": {
     "iopub.execute_input": "2022-04-26T08:41:41.164959Z",
     "iopub.status.busy": "2022-04-26T08:41:41.164333Z",
     "iopub.status.idle": "2022-04-26T08:41:41.300340Z",
     "shell.execute_reply": "2022-04-26T08:41:41.299199Z",
     "shell.execute_reply.started": "2022-04-26T08:37:11.990039Z"
    },
    "papermill": {
     "duration": 0.187601,
     "end_time": "2022-04-26T08:41:41.300608",
     "exception": false,
     "start_time": "2022-04-26T08:41:41.113007",
     "status": "completed"
    },
    "tags": []
   },
   "outputs": [
    {
     "name": "stdout",
     "output_type": "stream",
     "text": [
      "Percentage of null geo values: 98.71%\n"
     ]
    }
   ],
   "source": [
    "count_null = dataset_ronaldo.isna().sum()[\"geo\"]\n",
    "percentage = count_null * 100/count\n",
    "print(f\"Percentage of null geo values: {round(percentage,2)}%\")"
   ]
  },
  {
   "cell_type": "markdown",
   "id": "1105092d",
   "metadata": {
    "papermill": {
     "duration": 0.04951,
     "end_time": "2022-04-26T08:41:41.401179",
     "exception": false,
     "start_time": "2022-04-26T08:41:41.351669",
     "status": "completed"
    },
    "tags": []
   },
   "source": [
    "### Assign the -1 id to null geo values"
   ]
  },
  {
   "cell_type": "code",
   "execution_count": 24,
   "id": "83827ce2",
   "metadata": {
    "execution": {
     "iopub.execute_input": "2022-04-26T08:41:41.508528Z",
     "iopub.status.busy": "2022-04-26T08:41:41.507606Z",
     "iopub.status.idle": "2022-04-26T08:41:41.628319Z",
     "shell.execute_reply": "2022-04-26T08:41:41.628833Z",
     "shell.execute_reply.started": "2022-04-26T08:37:12.122222Z"
    },
    "papermill": {
     "duration": 0.178015,
     "end_time": "2022-04-26T08:41:41.629036",
     "exception": false,
     "start_time": "2022-04-26T08:41:41.451021",
     "status": "completed"
    },
    "tags": []
   },
   "outputs": [],
   "source": [
    "dataset_ronaldo.geo = dataset_ronaldo.geo.apply(lambda x: -1 if pd.isna(x) else x)"
   ]
  },
  {
   "cell_type": "markdown",
   "id": "9ba5cac9",
   "metadata": {
    "papermill": {
     "duration": 0.049224,
     "end_time": "2022-04-26T08:41:41.727908",
     "exception": false,
     "start_time": "2022-04-26T08:41:41.678684",
     "status": "completed"
    },
    "tags": []
   },
   "source": [
    "#### Display results"
   ]
  },
  {
   "cell_type": "code",
   "execution_count": 25,
   "id": "4cc32f42",
   "metadata": {
    "execution": {
     "iopub.execute_input": "2022-04-26T08:41:41.836912Z",
     "iopub.status.busy": "2022-04-26T08:41:41.836202Z",
     "iopub.status.idle": "2022-04-26T08:41:41.839107Z",
     "shell.execute_reply": "2022-04-26T08:41:41.839668Z",
     "shell.execute_reply.started": "2022-04-26T08:37:12.252648Z"
    },
    "papermill": {
     "duration": 0.060669,
     "end_time": "2022-04-26T08:41:41.839853",
     "exception": false,
     "start_time": "2022-04-26T08:41:41.779184",
     "status": "completed"
    },
    "tags": []
   },
   "outputs": [
    {
     "data": {
      "text/plain": [
       "0    -1\n",
       "1    -1\n",
       "2    -1\n",
       "3    -1\n",
       "4    -1\n",
       "Name: geo, dtype: object"
      ]
     },
     "execution_count": 25,
     "metadata": {},
     "output_type": "execute_result"
    }
   ],
   "source": [
    "dataset_ronaldo[\"geo\"].head(5)"
   ]
  },
  {
   "cell_type": "code",
   "execution_count": 26,
   "id": "5df641be",
   "metadata": {
    "execution": {
     "iopub.execute_input": "2022-04-26T08:41:41.943614Z",
     "iopub.status.busy": "2022-04-26T08:41:41.942892Z",
     "iopub.status.idle": "2022-04-26T08:41:41.955418Z",
     "shell.execute_reply": "2022-04-26T08:41:41.956116Z",
     "shell.execute_reply.started": "2022-04-26T08:37:12.262443Z"
    },
    "papermill": {
     "duration": 0.066606,
     "end_time": "2022-04-26T08:41:41.956365",
     "exception": false,
     "start_time": "2022-04-26T08:41:41.889759",
     "status": "completed"
    },
    "tags": []
   },
   "outputs": [
    {
     "name": "stdout",
     "output_type": "stream",
     "text": [
      "Some location ids: [-1 '0e587c59401d0a27' '67687709552688fe' '001907e868d06e24'\n",
      " '3dc7b71f520e2d15']\n"
     ]
    }
   ],
   "source": [
    "print(f\"Some location ids: {dataset_ronaldo['geo'].unique()[0:5]}\")"
   ]
  },
  {
   "cell_type": "markdown",
   "id": "ce57d6e5",
   "metadata": {
    "papermill": {
     "duration": 0.05019,
     "end_time": "2022-04-26T08:41:42.059129",
     "exception": false,
     "start_time": "2022-04-26T08:41:42.008939",
     "status": "completed"
    },
    "tags": []
   },
   "source": [
    "### Clean tweets : remove mentions, links, special characters, extra spaces..."
   ]
  },
  {
   "cell_type": "code",
   "execution_count": 27,
   "id": "11df091f",
   "metadata": {
    "execution": {
     "iopub.execute_input": "2022-04-26T08:41:42.161642Z",
     "iopub.status.busy": "2022-04-26T08:41:42.160958Z",
     "iopub.status.idle": "2022-04-26T08:42:03.934337Z",
     "shell.execute_reply": "2022-04-26T08:42:03.933755Z",
     "shell.execute_reply.started": "2022-04-26T08:37:12.282857Z"
    },
    "papermill": {
     "duration": 21.825971,
     "end_time": "2022-04-26T08:42:03.934507",
     "exception": false,
     "start_time": "2022-04-26T08:41:42.108536",
     "status": "completed"
    },
    "tags": []
   },
   "outputs": [],
   "source": [
    "# Remove mentions\n",
    "dataset_ronaldo.content = dataset_ronaldo.content.apply(lambda x: re.sub(regex_mentions, \" \", str(x).strip()))\n",
    "# Remove links\n",
    "dataset_ronaldo.content = dataset_ronaldo.content.apply(lambda x: re.sub(regex_links, \" \", str(x).strip()))\n",
    "# Remove special characters\n",
    "dataset_ronaldo.content = dataset_ronaldo.content.apply(lambda x: re.sub(regex_special, \" \", str(x).strip()))\n",
    "# Remove ordinals\n",
    "dataset_ronaldo.content = dataset_ronaldo.content.apply(lambda x: re.sub(regex_ordinals, \" \", str(x).strip()))\n",
    "# Remove numbers\n",
    "dataset_ronaldo.content = dataset_ronaldo.content.apply(lambda x: re.sub(regex_numbers, \" \", str(x).strip()))\n",
    "# Clean tweets\n",
    "dataset_ronaldo.content = dataset_ronaldo.content.apply(lambda x: clean_tweet(x)) "
   ]
  },
  {
   "cell_type": "markdown",
   "id": "51fb09af",
   "metadata": {
    "papermill": {
     "duration": 0.05042,
     "end_time": "2022-04-26T08:42:04.034820",
     "exception": false,
     "start_time": "2022-04-26T08:42:03.984400",
     "status": "completed"
    },
    "tags": []
   },
   "source": [
    "#### Display results"
   ]
  },
  {
   "cell_type": "code",
   "execution_count": 28,
   "id": "f564d150",
   "metadata": {
    "execution": {
     "iopub.execute_input": "2022-04-26T08:42:04.153744Z",
     "iopub.status.busy": "2022-04-26T08:42:04.152842Z",
     "iopub.status.idle": "2022-04-26T08:42:04.156546Z",
     "shell.execute_reply": "2022-04-26T08:42:04.157040Z",
     "shell.execute_reply.started": "2022-04-26T08:37:33.679508Z"
    },
    "papermill": {
     "duration": 0.071575,
     "end_time": "2022-04-26T08:42:04.157210",
     "exception": false,
     "start_time": "2022-04-26T08:42:04.085635",
     "status": "completed"
    },
    "tags": []
   },
   "outputs": [
    {
     "data": {
      "text/html": [
       "<div>\n",
       "<style scoped>\n",
       "    .dataframe tbody tr th:only-of-type {\n",
       "        vertical-align: middle;\n",
       "    }\n",
       "\n",
       "    .dataframe tbody tr th {\n",
       "        vertical-align: top;\n",
       "    }\n",
       "\n",
       "    .dataframe thead th {\n",
       "        text-align: right;\n",
       "    }\n",
       "</style>\n",
       "<table border=\"1\" class=\"dataframe\">\n",
       "  <thead>\n",
       "    <tr style=\"text-align: right;\">\n",
       "      <th></th>\n",
       "      <th>tweet_id</th>\n",
       "      <th>author_id</th>\n",
       "      <th>content</th>\n",
       "      <th>lang</th>\n",
       "      <th>date</th>\n",
       "      <th>source</th>\n",
       "      <th>geo</th>\n",
       "      <th>retweet_count</th>\n",
       "      <th>like_count</th>\n",
       "      <th>quote_count</th>\n",
       "    </tr>\n",
       "  </thead>\n",
       "  <tbody>\n",
       "    <tr>\n",
       "      <th>0</th>\n",
       "      <td>1516885082958663680</td>\n",
       "      <td>311410036</td>\n",
       "      <td>he s channeling his inner ronaldo</td>\n",
       "      <td>en</td>\n",
       "      <td>2022-04-20T21:02:40.000Z</td>\n",
       "      <td>Twitter for iPhone</td>\n",
       "      <td>-1</td>\n",
       "      <td>0.0</td>\n",
       "      <td>0.0</td>\n",
       "      <td>0.0</td>\n",
       "    </tr>\n",
       "    <tr>\n",
       "      <th>1</th>\n",
       "      <td>1516885060074582018</td>\n",
       "      <td>968820590</td>\n",
       "      <td>is ronaldo back on saturday</td>\n",
       "      <td>en</td>\n",
       "      <td>2022-04-20T21:02:35.000Z</td>\n",
       "      <td>Twitter for iPhone</td>\n",
       "      <td>-1</td>\n",
       "      <td>0.0</td>\n",
       "      <td>0.0</td>\n",
       "      <td>0.0</td>\n",
       "    </tr>\n",
       "    <tr>\n",
       "      <th>2</th>\n",
       "      <td>1516885051337805824</td>\n",
       "      <td>3007018857</td>\n",
       "      <td>goals all season ev fans class him like ronald...</td>\n",
       "      <td>en</td>\n",
       "      <td>2022-04-20T21:02:33.000Z</td>\n",
       "      <td>Twitter for iPhone</td>\n",
       "      <td>-1</td>\n",
       "      <td>0.0</td>\n",
       "      <td>1.0</td>\n",
       "      <td>0.0</td>\n",
       "    </tr>\n",
       "    <tr>\n",
       "      <th>3</th>\n",
       "      <td>1516885050578837506</td>\n",
       "      <td>1516158593791565825</td>\n",
       "      <td>ronaldo s baby boy</td>\n",
       "      <td>en</td>\n",
       "      <td>2022-04-20T21:02:33.000Z</td>\n",
       "      <td>Twitter for Android</td>\n",
       "      <td>-1</td>\n",
       "      <td>0.0</td>\n",
       "      <td>0.0</td>\n",
       "      <td>0.0</td>\n",
       "    </tr>\n",
       "    <tr>\n",
       "      <th>4</th>\n",
       "      <td>1516885041250504704</td>\n",
       "      <td>4756096577</td>\n",
       "      <td>y all said he will outscore ronaldo</td>\n",
       "      <td>en</td>\n",
       "      <td>2022-04-20T21:02:30.000Z</td>\n",
       "      <td>Twitter for iPhone</td>\n",
       "      <td>-1</td>\n",
       "      <td>0.0</td>\n",
       "      <td>0.0</td>\n",
       "      <td>0.0</td>\n",
       "    </tr>\n",
       "  </tbody>\n",
       "</table>\n",
       "</div>"
      ],
      "text/plain": [
       "              tweet_id            author_id  \\\n",
       "0  1516885082958663680            311410036   \n",
       "1  1516885060074582018            968820590   \n",
       "2  1516885051337805824           3007018857   \n",
       "3  1516885050578837506  1516158593791565825   \n",
       "4  1516885041250504704           4756096577   \n",
       "\n",
       "                                             content lang  \\\n",
       "0                  he s channeling his inner ronaldo   en   \n",
       "1                        is ronaldo back on saturday   en   \n",
       "2  goals all season ev fans class him like ronald...   en   \n",
       "3                                 ronaldo s baby boy   en   \n",
       "4                y all said he will outscore ronaldo   en   \n",
       "\n",
       "                       date               source geo  retweet_count  \\\n",
       "0  2022-04-20T21:02:40.000Z   Twitter for iPhone  -1            0.0   \n",
       "1  2022-04-20T21:02:35.000Z   Twitter for iPhone  -1            0.0   \n",
       "2  2022-04-20T21:02:33.000Z   Twitter for iPhone  -1            0.0   \n",
       "3  2022-04-20T21:02:33.000Z  Twitter for Android  -1            0.0   \n",
       "4  2022-04-20T21:02:30.000Z   Twitter for iPhone  -1            0.0   \n",
       "\n",
       "   like_count  quote_count  \n",
       "0         0.0          0.0  \n",
       "1         0.0          0.0  \n",
       "2         1.0          0.0  \n",
       "3         0.0          0.0  \n",
       "4         0.0          0.0  "
      ]
     },
     "execution_count": 28,
     "metadata": {},
     "output_type": "execute_result"
    }
   ],
   "source": [
    "dataset_ronaldo.head(5)"
   ]
  },
  {
   "cell_type": "markdown",
   "id": "413ccff4",
   "metadata": {
    "papermill": {
     "duration": 0.04977,
     "end_time": "2022-04-26T08:42:04.257502",
     "exception": false,
     "start_time": "2022-04-26T08:42:04.207732",
     "status": "completed"
    },
    "tags": []
   },
   "source": [
    "### Check for non-english content"
   ]
  },
  {
   "cell_type": "code",
   "execution_count": 29,
   "id": "2375773c",
   "metadata": {
    "execution": {
     "iopub.execute_input": "2022-04-26T08:42:04.361796Z",
     "iopub.status.busy": "2022-04-26T08:42:04.360857Z",
     "iopub.status.idle": "2022-04-26T08:42:04.376832Z",
     "shell.execute_reply": "2022-04-26T08:42:04.377307Z",
     "shell.execute_reply.started": "2022-04-26T08:37:33.701015Z"
    },
    "papermill": {
     "duration": 0.069969,
     "end_time": "2022-04-26T08:42:04.377504",
     "exception": false,
     "start_time": "2022-04-26T08:42:04.307535",
     "status": "completed"
    },
    "tags": []
   },
   "outputs": [],
   "source": [
    "assert dataset_ronaldo[\"lang\"].unique()==\"en\", \"Non-english content detected\""
   ]
  },
  {
   "cell_type": "markdown",
   "id": "010f58d3",
   "metadata": {
    "papermill": {
     "duration": 0.049511,
     "end_time": "2022-04-26T08:42:04.477097",
     "exception": false,
     "start_time": "2022-04-26T08:42:04.427586",
     "status": "completed"
    },
    "tags": []
   },
   "source": [
    "```\n",
    "Test passed\n",
    "```"
   ]
  },
  {
   "cell_type": "markdown",
   "id": "a82747ae",
   "metadata": {
    "papermill": {
     "duration": 0.049639,
     "end_time": "2022-04-26T08:42:04.576708",
     "exception": false,
     "start_time": "2022-04-26T08:42:04.527069",
     "status": "completed"
    },
    "tags": []
   },
   "source": [
    "# Save the cleaned datasets 💾\n",
    "\n",
    "> Note : Index = false tells the Pandas library not to add an index when writing the file. In our case, since there's already an index, no need to write a new one. "
   ]
  },
  {
   "cell_type": "markdown",
   "id": "097f552e",
   "metadata": {
    "papermill": {
     "duration": 0.049502,
     "end_time": "2022-04-26T08:42:04.676173",
     "exception": false,
     "start_time": "2022-04-26T08:42:04.626671",
     "status": "completed"
    },
    "tags": []
   },
   "source": [
    "## Messi "
   ]
  },
  {
   "cell_type": "code",
   "execution_count": 30,
   "id": "e03967ac",
   "metadata": {
    "execution": {
     "iopub.execute_input": "2022-04-26T08:42:04.779761Z",
     "iopub.status.busy": "2022-04-26T08:42:04.778780Z",
     "iopub.status.idle": "2022-04-26T08:42:06.161830Z",
     "shell.execute_reply": "2022-04-26T08:42:06.161158Z",
     "shell.execute_reply.started": "2022-04-26T08:37:33.725815Z"
    },
    "papermill": {
     "duration": 1.435927,
     "end_time": "2022-04-26T08:42:06.161993",
     "exception": false,
     "start_time": "2022-04-26T08:42:04.726066",
     "status": "completed"
    },
    "tags": []
   },
   "outputs": [],
   "source": [
    "dataset_messi.to_csv(\"Cleaned_messi_tweets.csv\", index=False)"
   ]
  },
  {
   "cell_type": "markdown",
   "id": "ae54b948",
   "metadata": {
    "papermill": {
     "duration": 0.050208,
     "end_time": "2022-04-26T08:42:06.263159",
     "exception": false,
     "start_time": "2022-04-26T08:42:06.212951",
     "status": "completed"
    },
    "tags": []
   },
   "source": [
    "## Ronaldo"
   ]
  },
  {
   "cell_type": "code",
   "execution_count": 31,
   "id": "27971978",
   "metadata": {
    "execution": {
     "iopub.execute_input": "2022-04-26T08:42:06.367691Z",
     "iopub.status.busy": "2022-04-26T08:42:06.366996Z",
     "iopub.status.idle": "2022-04-26T08:42:08.397633Z",
     "shell.execute_reply": "2022-04-26T08:42:08.398100Z",
     "shell.execute_reply.started": "2022-04-26T08:37:35.131481Z"
    },
    "papermill": {
     "duration": 2.084535,
     "end_time": "2022-04-26T08:42:08.398324",
     "exception": false,
     "start_time": "2022-04-26T08:42:06.313789",
     "status": "completed"
    },
    "tags": []
   },
   "outputs": [],
   "source": [
    "dataset_ronaldo.to_csv(\"Cleaned_ronaldo_tweets.csv\", index=False)"
   ]
  },
  {
   "cell_type": "markdown",
   "id": "c1d012ce",
   "metadata": {
    "papermill": {
     "duration": 0.050338,
     "end_time": "2022-04-26T08:42:08.499909",
     "exception": false,
     "start_time": "2022-04-26T08:42:08.449571",
     "status": "completed"
    },
    "tags": []
   },
   "source": [
    "# Thank you for your time 😄"
   ]
  }
 ],
 "metadata": {
  "kernelspec": {
   "display_name": "Python 3",
   "language": "python",
   "name": "python3"
  },
  "language_info": {
   "codemirror_mode": {
    "name": "ipython",
    "version": 3
   },
   "file_extension": ".py",
   "mimetype": "text/x-python",
   "name": "python",
   "nbconvert_exporter": "python",
   "pygments_lexer": "ipython3",
   "version": "3.7.10"
  },
  "papermill": {
   "default_parameters": {},
   "duration": 73.937404,
   "end_time": "2022-04-26T08:42:10.015620",
   "environment_variables": {},
   "exception": null,
   "input_path": "__notebook__.ipynb",
   "output_path": "__notebook__.ipynb",
   "parameters": {},
   "start_time": "2022-04-26T08:40:56.078216",
   "version": "2.3.3"
  }
 },
 "nbformat": 4,
 "nbformat_minor": 5
}
