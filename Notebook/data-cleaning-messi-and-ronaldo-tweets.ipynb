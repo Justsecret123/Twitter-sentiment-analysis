{
 "cells": [
  {
   "cell_type": "markdown",
   "id": "f3651d0e",
   "metadata": {
    "papermill": {
     "duration": 0.042098,
     "end_time": "2022-04-17T12:47:36.754799",
     "exception": false,
     "start_time": "2022-04-17T12:47:36.712701",
     "status": "completed"
    },
    "tags": []
   },
   "source": [
    "# Data Cleaning on tweets about Messi and Ronaldo, by Ibrahim SEROUIS 💻\n",
    "\n",
    "## What is data cleaning ? 🧼\n",
    "\n",
    "\"Data cleaning is the process of fixing or removing incorrect, corrupted, incorrectly formatted, duplicate, or incomplete data within a dataset.\" [read more](https://www.tableau.com/learn/articles/what-is-data-cleaning)\n",
    "\n",
    "## What to expect 🤔\n",
    "\n",
    "In this Notebook, we're going to perform some data cleaning operations on [these tweets](https://www.kaggle.com/datasets/ibrahimserouis99/twitter-sentiment-analysis-and-word-embeddings)."
   ]
  },
  {
   "cell_type": "markdown",
   "id": "bebd1f86",
   "metadata": {
    "papermill": {
     "duration": 0.035206,
     "end_time": "2022-04-17T12:47:36.830672",
     "exception": false,
     "start_time": "2022-04-17T12:47:36.795466",
     "status": "completed"
    },
    "tags": []
   },
   "source": [
    "# Libraries"
   ]
  },
  {
   "cell_type": "code",
   "execution_count": 1,
   "id": "e398e851",
   "metadata": {
    "_kg_hide-output": true,
    "execution": {
     "iopub.execute_input": "2022-04-17T12:47:36.906138Z",
     "iopub.status.busy": "2022-04-17T12:47:36.904943Z",
     "iopub.status.idle": "2022-04-17T12:47:44.751687Z",
     "shell.execute_reply": "2022-04-17T12:47:44.752273Z",
     "shell.execute_reply.started": "2022-04-17T12:45:29.489872Z"
    },
    "papermill": {
     "duration": 7.884934,
     "end_time": "2022-04-17T12:47:44.752655",
     "exception": false,
     "start_time": "2022-04-17T12:47:36.867721",
     "status": "completed"
    },
    "tags": []
   },
   "outputs": [
    {
     "name": "stdout",
     "output_type": "stream",
     "text": [
      "Collecting clean-text\r\n",
      "  Downloading clean_text-0.6.0-py3-none-any.whl (11 kB)\r\n",
      "Collecting ftfy<7.0,>=6.0\r\n",
      "  Downloading ftfy-6.1.1-py3-none-any.whl (53 kB)\r\n",
      "\u001b[K     |████████████████████████████████| 53 kB 913 kB/s \r\n",
      "\u001b[?25hRequirement already satisfied: emoji<2.0.0,>=1.0.0 in /opt/conda/lib/python3.7/site-packages (from clean-text) (1.5.0)\r\n",
      "Requirement already satisfied: wcwidth>=0.2.5 in /opt/conda/lib/python3.7/site-packages (from ftfy<7.0,>=6.0->clean-text) (0.2.5)\r\n",
      "Installing collected packages: ftfy, clean-text\r\n",
      "\u001b[33m  WARNING: The script ftfy is installed in '/root/.local/bin' which is not on PATH.\r\n",
      "  Consider adding this directory to PATH or, if you prefer to suppress this warning, use --no-warn-script-location.\u001b[0m\r\n",
      "Successfully installed clean-text-0.6.0 ftfy-6.1.1\r\n",
      "\u001b[33mWARNING: Running pip as the 'root' user can result in broken permissions and conflicting behaviour with the system package manager. It is recommended to use a virtual environment instead: https://pip.pypa.io/warnings/venv\u001b[0m\r\n"
     ]
    }
   ],
   "source": [
    "!pip install --user clean-text"
   ]
  },
  {
   "cell_type": "code",
   "execution_count": 2,
   "id": "67f4d586",
   "metadata": {
    "execution": {
     "iopub.execute_input": "2022-04-17T12:47:44.871944Z",
     "iopub.status.busy": "2022-04-17T12:47:44.871259Z",
     "iopub.status.idle": "2022-04-17T12:47:45.302697Z",
     "shell.execute_reply": "2022-04-17T12:47:45.303302Z",
     "shell.execute_reply.started": "2022-04-17T12:45:35.765050Z"
    },
    "papermill": {
     "duration": 0.494147,
     "end_time": "2022-04-17T12:47:45.303532",
     "exception": false,
     "start_time": "2022-04-17T12:47:44.809385",
     "status": "completed"
    },
    "tags": []
   },
   "outputs": [],
   "source": [
    "import os\n",
    "import re\n",
    "import numpy as np\n",
    "import pandas as pd\n",
    "from cleantext import clean"
   ]
  },
  {
   "cell_type": "markdown",
   "id": "062862a5",
   "metadata": {
    "papermill": {
     "duration": 0.055804,
     "end_time": "2022-04-17T12:47:45.415350",
     "exception": false,
     "start_time": "2022-04-17T12:47:45.359546",
     "status": "completed"
    },
    "tags": []
   },
   "source": [
    "# Files"
   ]
  },
  {
   "cell_type": "markdown",
   "id": "23cdaa2e",
   "metadata": {
    "papermill": {
     "duration": 0.055529,
     "end_time": "2022-04-17T12:47:45.527960",
     "exception": false,
     "start_time": "2022-04-17T12:47:45.472431",
     "status": "completed"
    },
    "tags": []
   },
   "source": [
    "## Dataset donwload"
   ]
  },
  {
   "cell_type": "code",
   "execution_count": 3,
   "id": "8359217f",
   "metadata": {
    "execution": {
     "iopub.execute_input": "2022-04-17T12:47:45.650441Z",
     "iopub.status.busy": "2022-04-17T12:47:45.649337Z",
     "iopub.status.idle": "2022-04-17T12:47:47.883448Z",
     "shell.execute_reply": "2022-04-17T12:47:47.882538Z",
     "shell.execute_reply.started": "2022-04-17T12:45:35.771069Z"
    },
    "papermill": {
     "duration": 2.296901,
     "end_time": "2022-04-17T12:47:47.883607",
     "exception": false,
     "start_time": "2022-04-17T12:47:45.586706",
     "status": "completed"
    },
    "tags": []
   },
   "outputs": [
    {
     "name": "stderr",
     "output_type": "stream",
     "text": [
      "/opt/conda/lib/python3.7/site-packages/IPython/core/interactiveshell.py:3441: DtypeWarning: Columns (0,1) have mixed types.Specify dtype option on import or set low_memory=False.\n",
      "  exec(code_obj, self.user_global_ns, self.user_ns)\n"
     ]
    }
   ],
   "source": [
    "dataset_messi = pd.read_csv(\"/kaggle/input/twitter-sentiment-analysis-and-word-embeddings/messi_tweets.csv\", encoding=\"utf-8\")\n",
    "dataset_ronaldo = pd.read_csv(\"/kaggle/input/twitter-sentiment-analysis-and-word-embeddings/ronaldo_tweets.csv\", encoding=\"utf-8\")"
   ]
  },
  {
   "cell_type": "markdown",
   "id": "3da558ff",
   "metadata": {
    "papermill": {
     "duration": 0.05592,
     "end_time": "2022-04-17T12:47:47.996224",
     "exception": false,
     "start_time": "2022-04-17T12:47:47.940304",
     "status": "completed"
    },
    "tags": []
   },
   "source": [
    "# Show some examples"
   ]
  },
  {
   "cell_type": "markdown",
   "id": "2f999a20",
   "metadata": {
    "papermill": {
     "duration": 0.058545,
     "end_time": "2022-04-17T12:47:48.111179",
     "exception": false,
     "start_time": "2022-04-17T12:47:48.052634",
     "status": "completed"
    },
    "tags": []
   },
   "source": [
    "## Messi"
   ]
  },
  {
   "cell_type": "code",
   "execution_count": 4,
   "id": "33f243bd",
   "metadata": {
    "execution": {
     "iopub.execute_input": "2022-04-17T12:47:48.235018Z",
     "iopub.status.busy": "2022-04-17T12:47:48.234009Z",
     "iopub.status.idle": "2022-04-17T12:47:48.249535Z",
     "shell.execute_reply": "2022-04-17T12:47:48.250109Z",
     "shell.execute_reply.started": "2022-04-17T12:45:37.199937Z"
    },
    "papermill": {
     "duration": 0.081359,
     "end_time": "2022-04-17T12:47:48.250304",
     "exception": false,
     "start_time": "2022-04-17T12:47:48.168945",
     "status": "completed"
    },
    "tags": []
   },
   "outputs": [
    {
     "data": {
      "text/html": [
       "<div>\n",
       "<style scoped>\n",
       "    .dataframe tbody tr th:only-of-type {\n",
       "        vertical-align: middle;\n",
       "    }\n",
       "\n",
       "    .dataframe tbody tr th {\n",
       "        vertical-align: top;\n",
       "    }\n",
       "\n",
       "    .dataframe thead th {\n",
       "        text-align: right;\n",
       "    }\n",
       "</style>\n",
       "<table border=\"1\" class=\"dataframe\">\n",
       "  <thead>\n",
       "    <tr style=\"text-align: right;\">\n",
       "      <th></th>\n",
       "      <th>tweet_id</th>\n",
       "      <th>author_id</th>\n",
       "      <th>content</th>\n",
       "      <th>lang</th>\n",
       "      <th>date</th>\n",
       "      <th>source</th>\n",
       "      <th>geo</th>\n",
       "      <th>retweet_count</th>\n",
       "      <th>like_count</th>\n",
       "      <th>quote_count</th>\n",
       "    </tr>\n",
       "  </thead>\n",
       "  <tbody>\n",
       "    <tr>\n",
       "      <th>0</th>\n",
       "      <td>1515608437270454276</td>\n",
       "      <td>1464517603637014532</td>\n",
       "      <td>@TvPrometheus @ViniBest20 @goatscristiano @Tot...</td>\n",
       "      <td>en</td>\n",
       "      <td>2022-04-17T08:29:44.000Z</td>\n",
       "      <td>Twitter Web App</td>\n",
       "      <td>NaN</td>\n",
       "      <td>0</td>\n",
       "      <td>0</td>\n",
       "      <td>0</td>\n",
       "    </tr>\n",
       "    <tr>\n",
       "      <th>1</th>\n",
       "      <td>1515608409730699264</td>\n",
       "      <td>1307634596985659395</td>\n",
       "      <td>@jjthxfortyping @_Hazpilicueta Many strikers d...</td>\n",
       "      <td>en</td>\n",
       "      <td>2022-04-17T08:29:38.000Z</td>\n",
       "      <td>Twitter Web App</td>\n",
       "      <td>NaN</td>\n",
       "      <td>0</td>\n",
       "      <td>0</td>\n",
       "      <td>0</td>\n",
       "    </tr>\n",
       "    <tr>\n",
       "      <th>2</th>\n",
       "      <td>1515608399295270912</td>\n",
       "      <td>1475133084596981762</td>\n",
       "      <td>@SamuelOyinloy13 @VDVMaestro @kingofnorthall @...</td>\n",
       "      <td>en</td>\n",
       "      <td>2022-04-17T08:29:35.000Z</td>\n",
       "      <td>Twitter for Android</td>\n",
       "      <td>NaN</td>\n",
       "      <td>0</td>\n",
       "      <td>0</td>\n",
       "      <td>0</td>\n",
       "    </tr>\n",
       "    <tr>\n",
       "      <th>3</th>\n",
       "      <td>1515608375782002691</td>\n",
       "      <td>1390728932228485123</td>\n",
       "      <td>@Mysticalleo_ Spot on, however, even fergie, s...</td>\n",
       "      <td>en</td>\n",
       "      <td>2022-04-17T08:29:30.000Z</td>\n",
       "      <td>Twitter for iPhone</td>\n",
       "      <td>NaN</td>\n",
       "      <td>0</td>\n",
       "      <td>0</td>\n",
       "      <td>0</td>\n",
       "    </tr>\n",
       "    <tr>\n",
       "      <th>4</th>\n",
       "      <td>1515608312787750913</td>\n",
       "      <td>1342456471167119360</td>\n",
       "      <td>@aymanfrmdao @Keith56962130 @LSPNFC_ Messi is ...</td>\n",
       "      <td>en</td>\n",
       "      <td>2022-04-17T08:29:15.000Z</td>\n",
       "      <td>Twitter for Android</td>\n",
       "      <td>NaN</td>\n",
       "      <td>0</td>\n",
       "      <td>1</td>\n",
       "      <td>0</td>\n",
       "    </tr>\n",
       "  </tbody>\n",
       "</table>\n",
       "</div>"
      ],
      "text/plain": [
       "              tweet_id            author_id  \\\n",
       "0  1515608437270454276  1464517603637014532   \n",
       "1  1515608409730699264  1307634596985659395   \n",
       "2  1515608399295270912  1475133084596981762   \n",
       "3  1515608375782002691  1390728932228485123   \n",
       "4  1515608312787750913  1342456471167119360   \n",
       "\n",
       "                                             content lang  \\\n",
       "0  @TvPrometheus @ViniBest20 @goatscristiano @Tot...   en   \n",
       "1  @jjthxfortyping @_Hazpilicueta Many strikers d...   en   \n",
       "2  @SamuelOyinloy13 @VDVMaestro @kingofnorthall @...   en   \n",
       "3  @Mysticalleo_ Spot on, however, even fergie, s...   en   \n",
       "4  @aymanfrmdao @Keith56962130 @LSPNFC_ Messi is ...   en   \n",
       "\n",
       "                       date               source  geo  retweet_count  \\\n",
       "0  2022-04-17T08:29:44.000Z      Twitter Web App  NaN              0   \n",
       "1  2022-04-17T08:29:38.000Z      Twitter Web App  NaN              0   \n",
       "2  2022-04-17T08:29:35.000Z  Twitter for Android  NaN              0   \n",
       "3  2022-04-17T08:29:30.000Z   Twitter for iPhone  NaN              0   \n",
       "4  2022-04-17T08:29:15.000Z  Twitter for Android  NaN              0   \n",
       "\n",
       "   like_count  quote_count  \n",
       "0           0            0  \n",
       "1           0            0  \n",
       "2           0            0  \n",
       "3           0            0  \n",
       "4           1            0  "
      ]
     },
     "execution_count": 4,
     "metadata": {},
     "output_type": "execute_result"
    }
   ],
   "source": [
    "dataset_messi.head(5)"
   ]
  },
  {
   "cell_type": "markdown",
   "id": "34069bdd",
   "metadata": {
    "papermill": {
     "duration": 0.057026,
     "end_time": "2022-04-17T12:47:48.365004",
     "exception": false,
     "start_time": "2022-04-17T12:47:48.307978",
     "status": "completed"
    },
    "tags": []
   },
   "source": [
    "## Ronaldo"
   ]
  },
  {
   "cell_type": "code",
   "execution_count": 5,
   "id": "07e8fae2",
   "metadata": {
    "execution": {
     "iopub.execute_input": "2022-04-17T12:47:48.483945Z",
     "iopub.status.busy": "2022-04-17T12:47:48.483068Z",
     "iopub.status.idle": "2022-04-17T12:47:48.495711Z",
     "shell.execute_reply": "2022-04-17T12:47:48.496258Z",
     "shell.execute_reply.started": "2022-04-17T12:45:37.216021Z"
    },
    "papermill": {
     "duration": 0.073931,
     "end_time": "2022-04-17T12:47:48.496417",
     "exception": false,
     "start_time": "2022-04-17T12:47:48.422486",
     "status": "completed"
    },
    "tags": []
   },
   "outputs": [
    {
     "data": {
      "text/html": [
       "<div>\n",
       "<style scoped>\n",
       "    .dataframe tbody tr th:only-of-type {\n",
       "        vertical-align: middle;\n",
       "    }\n",
       "\n",
       "    .dataframe tbody tr th {\n",
       "        vertical-align: top;\n",
       "    }\n",
       "\n",
       "    .dataframe thead th {\n",
       "        text-align: right;\n",
       "    }\n",
       "</style>\n",
       "<table border=\"1\" class=\"dataframe\">\n",
       "  <thead>\n",
       "    <tr style=\"text-align: right;\">\n",
       "      <th></th>\n",
       "      <th>tweet_id</th>\n",
       "      <th>author_id</th>\n",
       "      <th>content</th>\n",
       "      <th>lang</th>\n",
       "      <th>date</th>\n",
       "      <th>source</th>\n",
       "      <th>geo</th>\n",
       "      <th>retweet_count</th>\n",
       "      <th>like_count</th>\n",
       "      <th>quote_count</th>\n",
       "    </tr>\n",
       "  </thead>\n",
       "  <tbody>\n",
       "    <tr>\n",
       "      <th>0</th>\n",
       "      <td>1515589799943548929</td>\n",
       "      <td>1152201242766131202</td>\n",
       "      <td>There's no reason to believe Cristiano Ronaldo...</td>\n",
       "      <td>en</td>\n",
       "      <td>2022-04-17T07:15:41.000Z</td>\n",
       "      <td>Twitter for Android</td>\n",
       "      <td>NaN</td>\n",
       "      <td>0.0</td>\n",
       "      <td>0.0</td>\n",
       "      <td>0.0</td>\n",
       "    </tr>\n",
       "    <tr>\n",
       "      <th>1</th>\n",
       "      <td>1515589796130865155</td>\n",
       "      <td>1202283615427727360</td>\n",
       "      <td>@TeamCRonaldo Vintage Ronaldo: Tottenham and N...</td>\n",
       "      <td>en</td>\n",
       "      <td>2022-04-17T07:15:40.000Z</td>\n",
       "      <td>Twitter Web App</td>\n",
       "      <td>NaN</td>\n",
       "      <td>0.0</td>\n",
       "      <td>0.0</td>\n",
       "      <td>0.0</td>\n",
       "    </tr>\n",
       "    <tr>\n",
       "      <th>2</th>\n",
       "      <td>1515589765172768769</td>\n",
       "      <td>3368387687</td>\n",
       "      <td>Werra mister champions league Ronaldo? Why did...</td>\n",
       "      <td>en</td>\n",
       "      <td>2022-04-17T07:15:32.000Z</td>\n",
       "      <td>Twitter for iPhone</td>\n",
       "      <td>NaN</td>\n",
       "      <td>0.0</td>\n",
       "      <td>0.0</td>\n",
       "      <td>0.0</td>\n",
       "    </tr>\n",
       "    <tr>\n",
       "      <th>3</th>\n",
       "      <td>1515589753470861318</td>\n",
       "      <td>2615336101</td>\n",
       "      <td>@kirmani_sadat @dayor_ray @OliverInce3 @Delerh...</td>\n",
       "      <td>en</td>\n",
       "      <td>2022-04-17T07:15:30.000Z</td>\n",
       "      <td>Twitter for Android</td>\n",
       "      <td>NaN</td>\n",
       "      <td>0.0</td>\n",
       "      <td>0.0</td>\n",
       "      <td>0.0</td>\n",
       "    </tr>\n",
       "    <tr>\n",
       "      <th>4</th>\n",
       "      <td>1515589684013027335</td>\n",
       "      <td>1093900817046810625</td>\n",
       "      <td>Ronaldo was greatly rewarded after hat-trick a...</td>\n",
       "      <td>en</td>\n",
       "      <td>2022-04-17T07:15:13.000Z</td>\n",
       "      <td>IFTTT</td>\n",
       "      <td>NaN</td>\n",
       "      <td>0.0</td>\n",
       "      <td>0.0</td>\n",
       "      <td>0.0</td>\n",
       "    </tr>\n",
       "  </tbody>\n",
       "</table>\n",
       "</div>"
      ],
      "text/plain": [
       "              tweet_id            author_id  \\\n",
       "0  1515589799943548929  1152201242766131202   \n",
       "1  1515589796130865155  1202283615427727360   \n",
       "2  1515589765172768769           3368387687   \n",
       "3  1515589753470861318           2615336101   \n",
       "4  1515589684013027335  1093900817046810625   \n",
       "\n",
       "                                             content lang  \\\n",
       "0  There's no reason to believe Cristiano Ronaldo...   en   \n",
       "1  @TeamCRonaldo Vintage Ronaldo: Tottenham and N...   en   \n",
       "2  Werra mister champions league Ronaldo? Why did...   en   \n",
       "3  @kirmani_sadat @dayor_ray @OliverInce3 @Delerh...   en   \n",
       "4  Ronaldo was greatly rewarded after hat-trick a...   en   \n",
       "\n",
       "                       date               source  geo  retweet_count  \\\n",
       "0  2022-04-17T07:15:41.000Z  Twitter for Android  NaN            0.0   \n",
       "1  2022-04-17T07:15:40.000Z      Twitter Web App  NaN            0.0   \n",
       "2  2022-04-17T07:15:32.000Z   Twitter for iPhone  NaN            0.0   \n",
       "3  2022-04-17T07:15:30.000Z  Twitter for Android  NaN            0.0   \n",
       "4  2022-04-17T07:15:13.000Z                IFTTT  NaN            0.0   \n",
       "\n",
       "   like_count  quote_count  \n",
       "0         0.0          0.0  \n",
       "1         0.0          0.0  \n",
       "2         0.0          0.0  \n",
       "3         0.0          0.0  \n",
       "4         0.0          0.0  "
      ]
     },
     "execution_count": 5,
     "metadata": {},
     "output_type": "execute_result"
    }
   ],
   "source": [
    "dataset_ronaldo.head(5)"
   ]
  },
  {
   "cell_type": "markdown",
   "id": "9895c50f",
   "metadata": {
    "papermill": {
     "duration": 0.058089,
     "end_time": "2022-04-17T12:47:48.612065",
     "exception": false,
     "start_time": "2022-04-17T12:47:48.553976",
     "status": "completed"
    },
    "tags": []
   },
   "source": [
    "# Data cleaning 🧼🧽"
   ]
  },
  {
   "cell_type": "markdown",
   "id": "842b9814",
   "metadata": {
    "papermill": {
     "duration": 0.057324,
     "end_time": "2022-04-17T12:47:48.727327",
     "exception": false,
     "start_time": "2022-04-17T12:47:48.670003",
     "status": "completed"
    },
    "tags": []
   },
   "source": [
    "## Messi"
   ]
  },
  {
   "cell_type": "markdown",
   "id": "28fffdd5",
   "metadata": {
    "papermill": {
     "duration": 0.057118,
     "end_time": "2022-04-17T12:47:48.842385",
     "exception": false,
     "start_time": "2022-04-17T12:47:48.785267",
     "status": "completed"
    },
    "tags": []
   },
   "source": [
    "### Check for null values"
   ]
  },
  {
   "cell_type": "code",
   "execution_count": 6,
   "id": "8fc5fb36",
   "metadata": {
    "execution": {
     "iopub.execute_input": "2022-04-17T12:47:48.963087Z",
     "iopub.status.busy": "2022-04-17T12:47:48.962018Z",
     "iopub.status.idle": "2022-04-17T12:47:49.010470Z",
     "shell.execute_reply": "2022-04-17T12:47:49.009765Z",
     "shell.execute_reply.started": "2022-04-17T12:45:37.236427Z"
    },
    "papermill": {
     "duration": 0.10967,
     "end_time": "2022-04-17T12:47:49.010627",
     "exception": false,
     "start_time": "2022-04-17T12:47:48.900957",
     "status": "completed"
    },
    "tags": []
   },
   "outputs": [
    {
     "data": {
      "text/plain": [
       "tweet_id              0\n",
       "author_id             0\n",
       "content               0\n",
       "lang                  0\n",
       "date                  0\n",
       "source                0\n",
       "geo              146972\n",
       "retweet_count         0\n",
       "like_count            0\n",
       "quote_count           0\n",
       "dtype: int64"
      ]
     },
     "execution_count": 6,
     "metadata": {},
     "output_type": "execute_result"
    }
   ],
   "source": [
    "dataset_messi.isna().sum()"
   ]
  },
  {
   "cell_type": "markdown",
   "id": "dc6c68f8",
   "metadata": {
    "papermill": {
     "duration": 0.057889,
     "end_time": "2022-04-17T12:47:49.126880",
     "exception": false,
     "start_time": "2022-04-17T12:47:49.068991",
     "status": "completed"
    },
    "tags": []
   },
   "source": [
    "### Drop duplicates\n",
    "Based on tweet ID"
   ]
  },
  {
   "cell_type": "code",
   "execution_count": 7,
   "id": "f064440a",
   "metadata": {
    "execution": {
     "iopub.execute_input": "2022-04-17T12:47:49.254087Z",
     "iopub.status.busy": "2022-04-17T12:47:49.253277Z",
     "iopub.status.idle": "2022-04-17T12:47:49.281242Z",
     "shell.execute_reply": "2022-04-17T12:47:49.281873Z",
     "shell.execute_reply.started": "2022-04-17T12:45:37.295742Z"
    },
    "papermill": {
     "duration": 0.096783,
     "end_time": "2022-04-17T12:47:49.282071",
     "exception": false,
     "start_time": "2022-04-17T12:47:49.185288",
     "status": "completed"
    },
    "tags": []
   },
   "outputs": [
    {
     "name": "stdout",
     "output_type": "stream",
     "text": [
      "Row count before deletion: 148103 \n",
      "Row count after deletion: 111542\n"
     ]
    }
   ],
   "source": [
    "print(f\"Row count before deletion: {len(dataset_messi.index)} \")\n",
    "dataset_messi = dataset_messi.drop_duplicates(subset=\"tweet_id\", keep=\"first\")\n",
    "print(f\"Row count after deletion: {len(dataset_messi.index)}\")"
   ]
  },
  {
   "cell_type": "markdown",
   "id": "b93f5de0",
   "metadata": {
    "papermill": {
     "duration": 0.057848,
     "end_time": "2022-04-17T12:47:49.398473",
     "exception": false,
     "start_time": "2022-04-17T12:47:49.340625",
     "status": "completed"
    },
    "tags": []
   },
   "source": [
    "#### Percentage of null geo values "
   ]
  },
  {
   "cell_type": "code",
   "execution_count": 8,
   "id": "254d786f",
   "metadata": {
    "execution": {
     "iopub.execute_input": "2022-04-17T12:47:49.522118Z",
     "iopub.status.busy": "2022-04-17T12:47:49.521253Z",
     "iopub.status.idle": "2022-04-17T12:47:49.524955Z",
     "shell.execute_reply": "2022-04-17T12:47:49.524261Z",
     "shell.execute_reply.started": "2022-04-17T12:45:37.326787Z"
    },
    "papermill": {
     "duration": 0.068342,
     "end_time": "2022-04-17T12:47:49.525110",
     "exception": false,
     "start_time": "2022-04-17T12:47:49.456768",
     "status": "completed"
    },
    "tags": []
   },
   "outputs": [
    {
     "name": "stdout",
     "output_type": "stream",
     "text": [
      "Number of values : 111542\n"
     ]
    }
   ],
   "source": [
    "count = len(dataset_messi.index)\n",
    "print(f\"Number of values : {count}\")"
   ]
  },
  {
   "cell_type": "code",
   "execution_count": 9,
   "id": "8f2b7a93",
   "metadata": {
    "execution": {
     "iopub.execute_input": "2022-04-17T12:47:49.650605Z",
     "iopub.status.busy": "2022-04-17T12:47:49.649770Z",
     "iopub.status.idle": "2022-04-17T12:47:49.718938Z",
     "shell.execute_reply": "2022-04-17T12:47:49.718196Z",
     "shell.execute_reply.started": "2022-04-17T12:45:37.332636Z"
    },
    "papermill": {
     "duration": 0.134029,
     "end_time": "2022-04-17T12:47:49.719107",
     "exception": false,
     "start_time": "2022-04-17T12:47:49.585078",
     "status": "completed"
    },
    "tags": []
   },
   "outputs": [
    {
     "name": "stdout",
     "output_type": "stream",
     "text": [
      "Percentage of null geo values 99.21%\n"
     ]
    }
   ],
   "source": [
    "count_null = dataset_messi.isna().sum()[\"geo\"]\n",
    "percentage = count_null*100/count\n",
    "print(f\"Percentage of null geo values {round(percentage,2)}%\")"
   ]
  },
  {
   "cell_type": "markdown",
   "id": "1c8dced2",
   "metadata": {
    "papermill": {
     "duration": 0.059422,
     "end_time": "2022-04-17T12:47:49.838225",
     "exception": false,
     "start_time": "2022-04-17T12:47:49.778803",
     "status": "completed"
    },
    "tags": []
   },
   "source": [
    "### Assign the -1 id to null geo values"
   ]
  },
  {
   "cell_type": "code",
   "execution_count": 10,
   "id": "8238d2ed",
   "metadata": {
    "execution": {
     "iopub.execute_input": "2022-04-17T12:47:49.964638Z",
     "iopub.status.busy": "2022-04-17T12:47:49.963865Z",
     "iopub.status.idle": "2022-04-17T12:47:50.029056Z",
     "shell.execute_reply": "2022-04-17T12:47:50.028403Z",
     "shell.execute_reply.started": "2022-04-17T12:45:37.381047Z"
    },
    "papermill": {
     "duration": 0.130727,
     "end_time": "2022-04-17T12:47:50.029231",
     "exception": false,
     "start_time": "2022-04-17T12:47:49.898504",
     "status": "completed"
    },
    "tags": []
   },
   "outputs": [],
   "source": [
    "dataset_messi.geo = dataset_messi.geo.apply(lambda x: -1 if pd.isna(x) else x)"
   ]
  },
  {
   "cell_type": "markdown",
   "id": "de77c71f",
   "metadata": {
    "papermill": {
     "duration": 0.059491,
     "end_time": "2022-04-17T12:47:50.149152",
     "exception": false,
     "start_time": "2022-04-17T12:47:50.089661",
     "status": "completed"
    },
    "tags": []
   },
   "source": [
    "#### Display results"
   ]
  },
  {
   "cell_type": "code",
   "execution_count": 11,
   "id": "bd0abf50",
   "metadata": {
    "execution": {
     "iopub.execute_input": "2022-04-17T12:47:50.275244Z",
     "iopub.status.busy": "2022-04-17T12:47:50.274186Z",
     "iopub.status.idle": "2022-04-17T12:47:50.283099Z",
     "shell.execute_reply": "2022-04-17T12:47:50.282199Z",
     "shell.execute_reply.started": "2022-04-17T12:45:37.438937Z"
    },
    "papermill": {
     "duration": 0.074042,
     "end_time": "2022-04-17T12:47:50.283307",
     "exception": false,
     "start_time": "2022-04-17T12:47:50.209265",
     "status": "completed"
    },
    "tags": []
   },
   "outputs": [
    {
     "data": {
      "text/plain": [
       "0    -1\n",
       "1    -1\n",
       "2    -1\n",
       "3    -1\n",
       "4    -1\n",
       "Name: geo, dtype: object"
      ]
     },
     "execution_count": 11,
     "metadata": {},
     "output_type": "execute_result"
    }
   ],
   "source": [
    "dataset_messi[\"geo\"].head(5)"
   ]
  },
  {
   "cell_type": "code",
   "execution_count": 12,
   "id": "71209708",
   "metadata": {
    "execution": {
     "iopub.execute_input": "2022-04-17T12:47:50.419959Z",
     "iopub.status.busy": "2022-04-17T12:47:50.419215Z",
     "iopub.status.idle": "2022-04-17T12:47:50.421858Z",
     "shell.execute_reply": "2022-04-17T12:47:50.422409Z",
     "shell.execute_reply.started": "2022-04-17T12:45:37.447495Z"
    },
    "papermill": {
     "duration": 0.070413,
     "end_time": "2022-04-17T12:47:50.422589",
     "exception": false,
     "start_time": "2022-04-17T12:47:50.352176",
     "status": "completed"
    },
    "tags": []
   },
   "outputs": [
    {
     "name": "stdout",
     "output_type": "stream",
     "text": [
      "Available locations ids: [-1 '02127c41c77b85ad' '28679b23ed15b380' '0102baa70911fc52'\n",
      " '0179a94c2ab6d1e9']\n"
     ]
    }
   ],
   "source": [
    "print(f\"Available locations ids: {dataset_messi['geo'].unique()[0:5]}\")"
   ]
  },
  {
   "cell_type": "markdown",
   "id": "03c31564",
   "metadata": {
    "papermill": {
     "duration": 0.061692,
     "end_time": "2022-04-17T12:47:50.547110",
     "exception": false,
     "start_time": "2022-04-17T12:47:50.485418",
     "status": "completed"
    },
    "tags": []
   },
   "source": [
    "### Clean tweets : remove mentions, extra spaces and links"
   ]
  },
  {
   "cell_type": "markdown",
   "id": "33a56ec9",
   "metadata": {
    "papermill": {
     "duration": 0.060609,
     "end_time": "2022-04-17T12:47:50.668549",
     "exception": false,
     "start_time": "2022-04-17T12:47:50.607940",
     "status": "completed"
    },
    "tags": []
   },
   "source": [
    "#### Utility function"
   ]
  },
  {
   "cell_type": "code",
   "execution_count": 13,
   "id": "83c0af60",
   "metadata": {
    "execution": {
     "iopub.execute_input": "2022-04-17T12:47:50.792850Z",
     "iopub.status.busy": "2022-04-17T12:47:50.792208Z",
     "iopub.status.idle": "2022-04-17T12:47:50.796566Z",
     "shell.execute_reply": "2022-04-17T12:47:50.797157Z",
     "shell.execute_reply.started": "2022-04-17T12:45:37.461721Z"
    },
    "papermill": {
     "duration": 0.067583,
     "end_time": "2022-04-17T12:47:50.797316",
     "exception": false,
     "start_time": "2022-04-17T12:47:50.729733",
     "status": "completed"
    },
    "tags": []
   },
   "outputs": [],
   "source": [
    "def clean_tweet(text):\n",
    "    \"\"\"\n",
    "    Removes punctuation, emojis, normalize whitespaces...from a text\n",
    "    \"\"\"\n",
    "    \n",
    "    text = clean(text,\n",
    "                 no_punct=True,\n",
    "                 lower=True,\n",
    "                 no_emoji=True,\n",
    "                 normalize_whitespace=True\n",
    "                )\n",
    "    \n",
    "    return text"
   ]
  },
  {
   "cell_type": "markdown",
   "id": "743350c9",
   "metadata": {
    "papermill": {
     "duration": 0.060279,
     "end_time": "2022-04-17T12:47:50.919339",
     "exception": false,
     "start_time": "2022-04-17T12:47:50.859060",
     "status": "completed"
    },
    "tags": []
   },
   "source": [
    "#### Regex"
   ]
  },
  {
   "cell_type": "code",
   "execution_count": 14,
   "id": "5e01d003",
   "metadata": {
    "execution": {
     "iopub.execute_input": "2022-04-17T12:47:51.044383Z",
     "iopub.status.busy": "2022-04-17T12:47:51.043282Z",
     "iopub.status.idle": "2022-04-17T12:47:51.048027Z",
     "shell.execute_reply": "2022-04-17T12:47:51.048683Z",
     "shell.execute_reply.started": "2022-04-17T12:45:37.470889Z"
    },
    "papermill": {
     "duration": 0.069034,
     "end_time": "2022-04-17T12:47:51.048918",
     "exception": false,
     "start_time": "2022-04-17T12:47:50.979884",
     "status": "completed"
    },
    "tags": []
   },
   "outputs": [],
   "source": [
    "# Remove mentions\n",
    "regex_mentions = r\"@[A-Za-z0-9_]+\"\n",
    "# Remove links\n",
    "regex_links = r\"https?://[A-Za-z0-9./]+\"\n",
    "# Remove some special characters\n",
    "regex_special = r\"[^A-Za-z0-9]+\"\n",
    "# Remove numbers \n",
    "regex_numbers = r\"[0-9]+\"\n",
    "# Remove ordinals \n",
    "regex_ordinals = r\"[0-9]+(?:st| st|nd| nd|rd| rd|th| th)\""
   ]
  },
  {
   "cell_type": "markdown",
   "id": "45dede00",
   "metadata": {
    "papermill": {
     "duration": 0.060748,
     "end_time": "2022-04-17T12:47:51.171613",
     "exception": false,
     "start_time": "2022-04-17T12:47:51.110865",
     "status": "completed"
    },
    "tags": []
   },
   "source": [
    "### Clean tweets : remove mentions, links and extra spaces"
   ]
  },
  {
   "cell_type": "code",
   "execution_count": 15,
   "id": "385184b7",
   "metadata": {
    "execution": {
     "iopub.execute_input": "2022-04-17T12:47:51.297391Z",
     "iopub.status.busy": "2022-04-17T12:47:51.296605Z",
     "iopub.status.idle": "2022-04-17T12:48:01.170744Z",
     "shell.execute_reply": "2022-04-17T12:48:01.170240Z",
     "shell.execute_reply.started": "2022-04-17T12:45:37.482659Z"
    },
    "papermill": {
     "duration": 9.938327,
     "end_time": "2022-04-17T12:48:01.170911",
     "exception": false,
     "start_time": "2022-04-17T12:47:51.232584",
     "status": "completed"
    },
    "tags": []
   },
   "outputs": [],
   "source": [
    "# Remove mentions\n",
    "dataset_messi.content = dataset_messi.content.apply(lambda x: re.sub(regex_mentions, \" \", str(x).strip()))\n",
    "# Remove links \n",
    "dataset_messi.content = dataset_messi.content.apply(lambda x: re.sub(regex_links, \" \", str(x).strip()))\n",
    "# Remove special characters\n",
    "dataset_messi.content = dataset_messi.content.apply(lambda x: re.sub(regex_special, \" \", str(x).strip()))\n",
    "# Remove ordinals\n",
    "dataset_messi.content = dataset_messi.content.apply(lambda x: re.sub(regex_ordinals, \" \", str(x).strip()))\n",
    "# Remove numbers \n",
    "dataset_messi.content = dataset_messi.content.apply(lambda x: re.sub(regex_numbers, \" \", str(x).strip()))\n",
    "# Clean tweets\n",
    "dataset_messi.content = dataset_messi.content.apply(lambda x: clean_tweet(x)) "
   ]
  },
  {
   "cell_type": "markdown",
   "id": "4dc1d854",
   "metadata": {
    "papermill": {
     "duration": 0.040008,
     "end_time": "2022-04-17T12:48:01.250029",
     "exception": false,
     "start_time": "2022-04-17T12:48:01.210021",
     "status": "completed"
    },
    "tags": []
   },
   "source": [
    "#### Display results"
   ]
  },
  {
   "cell_type": "code",
   "execution_count": 16,
   "id": "57200249",
   "metadata": {
    "execution": {
     "iopub.execute_input": "2022-04-17T12:48:01.348059Z",
     "iopub.status.busy": "2022-04-17T12:48:01.343439Z",
     "iopub.status.idle": "2022-04-17T12:48:01.357898Z",
     "shell.execute_reply": "2022-04-17T12:48:01.357194Z",
     "shell.execute_reply.started": "2022-04-17T12:45:47.001980Z"
    },
    "papermill": {
     "duration": 0.06195,
     "end_time": "2022-04-17T12:48:01.358066",
     "exception": false,
     "start_time": "2022-04-17T12:48:01.296116",
     "status": "completed"
    },
    "tags": []
   },
   "outputs": [
    {
     "data": {
      "text/html": [
       "<div>\n",
       "<style scoped>\n",
       "    .dataframe tbody tr th:only-of-type {\n",
       "        vertical-align: middle;\n",
       "    }\n",
       "\n",
       "    .dataframe tbody tr th {\n",
       "        vertical-align: top;\n",
       "    }\n",
       "\n",
       "    .dataframe thead th {\n",
       "        text-align: right;\n",
       "    }\n",
       "</style>\n",
       "<table border=\"1\" class=\"dataframe\">\n",
       "  <thead>\n",
       "    <tr style=\"text-align: right;\">\n",
       "      <th></th>\n",
       "      <th>tweet_id</th>\n",
       "      <th>author_id</th>\n",
       "      <th>content</th>\n",
       "      <th>lang</th>\n",
       "      <th>date</th>\n",
       "      <th>source</th>\n",
       "      <th>geo</th>\n",
       "      <th>retweet_count</th>\n",
       "      <th>like_count</th>\n",
       "      <th>quote_count</th>\n",
       "    </tr>\n",
       "  </thead>\n",
       "  <tbody>\n",
       "    <tr>\n",
       "      <th>0</th>\n",
       "      <td>1515608437270454276</td>\n",
       "      <td>1464517603637014532</td>\n",
       "      <td>messi missed a pen against real madrid in the ...</td>\n",
       "      <td>en</td>\n",
       "      <td>2022-04-17T08:29:44.000Z</td>\n",
       "      <td>Twitter Web App</td>\n",
       "      <td>-1</td>\n",
       "      <td>0</td>\n",
       "      <td>0</td>\n",
       "      <td>0</td>\n",
       "    </tr>\n",
       "    <tr>\n",
       "      <th>1</th>\n",
       "      <td>1515608409730699264</td>\n",
       "      <td>1307634596985659395</td>\n",
       "      <td>many strikers does that also not to mention th...</td>\n",
       "      <td>en</td>\n",
       "      <td>2022-04-17T08:29:38.000Z</td>\n",
       "      <td>Twitter Web App</td>\n",
       "      <td>-1</td>\n",
       "      <td>0</td>\n",
       "      <td>0</td>\n",
       "      <td>0</td>\n",
       "    </tr>\n",
       "    <tr>\n",
       "      <th>2</th>\n",
       "      <td>1515608399295270912</td>\n",
       "      <td>1475133084596981762</td>\n",
       "      <td>lionel messi has goals in finals check anywhere</td>\n",
       "      <td>en</td>\n",
       "      <td>2022-04-17T08:29:35.000Z</td>\n",
       "      <td>Twitter for Android</td>\n",
       "      <td>-1</td>\n",
       "      <td>0</td>\n",
       "      <td>0</td>\n",
       "      <td>0</td>\n",
       "    </tr>\n",
       "    <tr>\n",
       "      <th>3</th>\n",
       "      <td>1515608375782002691</td>\n",
       "      <td>1390728932228485123</td>\n",
       "      <td>spot on however even fergie scholes beckham al...</td>\n",
       "      <td>en</td>\n",
       "      <td>2022-04-17T08:29:30.000Z</td>\n",
       "      <td>Twitter for iPhone</td>\n",
       "      <td>-1</td>\n",
       "      <td>0</td>\n",
       "      <td>0</td>\n",
       "      <td>0</td>\n",
       "    </tr>\n",
       "    <tr>\n",
       "      <th>4</th>\n",
       "      <td>1515608312787750913</td>\n",
       "      <td>1342456471167119360</td>\n",
       "      <td>messi is not a striker he s a playmaker giving...</td>\n",
       "      <td>en</td>\n",
       "      <td>2022-04-17T08:29:15.000Z</td>\n",
       "      <td>Twitter for Android</td>\n",
       "      <td>-1</td>\n",
       "      <td>0</td>\n",
       "      <td>1</td>\n",
       "      <td>0</td>\n",
       "    </tr>\n",
       "  </tbody>\n",
       "</table>\n",
       "</div>"
      ],
      "text/plain": [
       "              tweet_id            author_id  \\\n",
       "0  1515608437270454276  1464517603637014532   \n",
       "1  1515608409730699264  1307634596985659395   \n",
       "2  1515608399295270912  1475133084596981762   \n",
       "3  1515608375782002691  1390728932228485123   \n",
       "4  1515608312787750913  1342456471167119360   \n",
       "\n",
       "                                             content lang  \\\n",
       "0  messi missed a pen against real madrid in the ...   en   \n",
       "1  many strikers does that also not to mention th...   en   \n",
       "2    lionel messi has goals in finals check anywhere   en   \n",
       "3  spot on however even fergie scholes beckham al...   en   \n",
       "4  messi is not a striker he s a playmaker giving...   en   \n",
       "\n",
       "                       date               source geo  retweet_count  \\\n",
       "0  2022-04-17T08:29:44.000Z      Twitter Web App  -1              0   \n",
       "1  2022-04-17T08:29:38.000Z      Twitter Web App  -1              0   \n",
       "2  2022-04-17T08:29:35.000Z  Twitter for Android  -1              0   \n",
       "3  2022-04-17T08:29:30.000Z   Twitter for iPhone  -1              0   \n",
       "4  2022-04-17T08:29:15.000Z  Twitter for Android  -1              0   \n",
       "\n",
       "   like_count  quote_count  \n",
       "0           0            0  \n",
       "1           0            0  \n",
       "2           0            0  \n",
       "3           0            0  \n",
       "4           1            0  "
      ]
     },
     "execution_count": 16,
     "metadata": {},
     "output_type": "execute_result"
    }
   ],
   "source": [
    "dataset_messi.head(5)"
   ]
  },
  {
   "cell_type": "markdown",
   "id": "289d10e0",
   "metadata": {
    "papermill": {
     "duration": 0.063014,
     "end_time": "2022-04-17T12:48:01.483088",
     "exception": false,
     "start_time": "2022-04-17T12:48:01.420074",
     "status": "completed"
    },
    "tags": []
   },
   "source": [
    "### Check for non-english content"
   ]
  },
  {
   "cell_type": "code",
   "execution_count": 17,
   "id": "0020bf7c",
   "metadata": {
    "execution": {
     "iopub.execute_input": "2022-04-17T12:48:01.616175Z",
     "iopub.status.busy": "2022-04-17T12:48:01.609029Z",
     "iopub.status.idle": "2022-04-17T12:48:01.621275Z",
     "shell.execute_reply": "2022-04-17T12:48:01.620569Z",
     "shell.execute_reply.started": "2022-04-17T12:45:47.018281Z"
    },
    "papermill": {
     "duration": 0.076953,
     "end_time": "2022-04-17T12:48:01.621515",
     "exception": false,
     "start_time": "2022-04-17T12:48:01.544562",
     "status": "completed"
    },
    "tags": []
   },
   "outputs": [],
   "source": [
    "assert dataset_messi[\"lang\"].unique()==\"en\", \"Non-english content detected\""
   ]
  },
  {
   "cell_type": "markdown",
   "id": "2324b320",
   "metadata": {
    "papermill": {
     "duration": 0.063046,
     "end_time": "2022-04-17T12:48:01.747933",
     "exception": false,
     "start_time": "2022-04-17T12:48:01.684887",
     "status": "completed"
    },
    "tags": []
   },
   "source": [
    "> Test passed"
   ]
  },
  {
   "cell_type": "markdown",
   "id": "f11ebb9f",
   "metadata": {
    "papermill": {
     "duration": 0.061637,
     "end_time": "2022-04-17T12:48:01.872296",
     "exception": false,
     "start_time": "2022-04-17T12:48:01.810659",
     "status": "completed"
    },
    "tags": []
   },
   "source": [
    "## Ronaldo"
   ]
  },
  {
   "cell_type": "markdown",
   "id": "e3961bf0",
   "metadata": {
    "papermill": {
     "duration": 0.06248,
     "end_time": "2022-04-17T12:48:01.997494",
     "exception": false,
     "start_time": "2022-04-17T12:48:01.935014",
     "status": "completed"
    },
    "tags": []
   },
   "source": [
    "### Check for null values"
   ]
  },
  {
   "cell_type": "code",
   "execution_count": 18,
   "id": "817b5d74",
   "metadata": {
    "execution": {
     "iopub.execute_input": "2022-04-17T12:48:02.125499Z",
     "iopub.status.busy": "2022-04-17T12:48:02.124716Z",
     "iopub.status.idle": "2022-04-17T12:48:02.182191Z",
     "shell.execute_reply": "2022-04-17T12:48:02.182633Z",
     "shell.execute_reply.started": "2022-04-17T12:45:47.036131Z"
    },
    "papermill": {
     "duration": 0.123271,
     "end_time": "2022-04-17T12:48:02.182784",
     "exception": false,
     "start_time": "2022-04-17T12:48:02.059513",
     "status": "completed"
    },
    "tags": []
   },
   "outputs": [
    {
     "data": {
      "text/plain": [
       "tweet_id              0\n",
       "author_id             0\n",
       "content               0\n",
       "lang                  2\n",
       "date                  4\n",
       "source                2\n",
       "geo              146217\n",
       "retweet_count         2\n",
       "like_count            4\n",
       "quote_count           4\n",
       "dtype: int64"
      ]
     },
     "execution_count": 18,
     "metadata": {},
     "output_type": "execute_result"
    }
   ],
   "source": [
    "dataset_ronaldo.isna().sum()"
   ]
  },
  {
   "cell_type": "markdown",
   "id": "6e5c86fc",
   "metadata": {
    "papermill": {
     "duration": 0.039095,
     "end_time": "2022-04-17T12:48:02.261358",
     "exception": false,
     "start_time": "2022-04-17T12:48:02.222263",
     "status": "completed"
    },
    "tags": []
   },
   "source": [
    "### Drop null values\n",
    "For columns relevant to our analysis"
   ]
  },
  {
   "cell_type": "code",
   "execution_count": 19,
   "id": "f5c2c6e6",
   "metadata": {
    "execution": {
     "iopub.execute_input": "2022-04-17T12:48:02.343193Z",
     "iopub.status.busy": "2022-04-17T12:48:02.342659Z",
     "iopub.status.idle": "2022-04-17T12:48:02.395125Z",
     "shell.execute_reply": "2022-04-17T12:48:02.394603Z",
     "shell.execute_reply.started": "2022-04-17T12:45:47.108960Z"
    },
    "papermill": {
     "duration": 0.094225,
     "end_time": "2022-04-17T12:48:02.395265",
     "exception": false,
     "start_time": "2022-04-17T12:48:02.301040",
     "status": "completed"
    },
    "tags": []
   },
   "outputs": [],
   "source": [
    "dataset_ronaldo.dropna(subset=[\"lang\",\"date\",\"source\",\"retweet_count\",\"like_count\", \"quote_count\"], inplace=True)"
   ]
  },
  {
   "cell_type": "code",
   "execution_count": 20,
   "id": "38e7e305",
   "metadata": {
    "execution": {
     "iopub.execute_input": "2022-04-17T12:48:02.477791Z",
     "iopub.status.busy": "2022-04-17T12:48:02.477249Z",
     "iopub.status.idle": "2022-04-17T12:48:02.536228Z",
     "shell.execute_reply": "2022-04-17T12:48:02.536674Z",
     "shell.execute_reply.started": "2022-04-17T12:45:47.169960Z"
    },
    "papermill": {
     "duration": 0.101963,
     "end_time": "2022-04-17T12:48:02.536845",
     "exception": false,
     "start_time": "2022-04-17T12:48:02.434882",
     "status": "completed"
    },
    "tags": []
   },
   "outputs": [
    {
     "data": {
      "text/plain": [
       "tweet_id              0\n",
       "author_id             0\n",
       "content               0\n",
       "lang                  0\n",
       "date                  0\n",
       "source                0\n",
       "geo              146215\n",
       "retweet_count         0\n",
       "like_count            0\n",
       "quote_count           0\n",
       "dtype: int64"
      ]
     },
     "execution_count": 20,
     "metadata": {},
     "output_type": "execute_result"
    }
   ],
   "source": [
    "dataset_ronaldo.isna().sum()"
   ]
  },
  {
   "cell_type": "markdown",
   "id": "8641e0b2",
   "metadata": {
    "papermill": {
     "duration": 0.038963,
     "end_time": "2022-04-17T12:48:02.615907",
     "exception": false,
     "start_time": "2022-04-17T12:48:02.576944",
     "status": "completed"
    },
    "tags": []
   },
   "source": [
    "### Drop duplicates"
   ]
  },
  {
   "cell_type": "code",
   "execution_count": 21,
   "id": "1a8ed012",
   "metadata": {
    "execution": {
     "iopub.execute_input": "2022-04-17T12:48:02.697641Z",
     "iopub.status.busy": "2022-04-17T12:48:02.697000Z",
     "iopub.status.idle": "2022-04-17T12:48:02.774797Z",
     "shell.execute_reply": "2022-04-17T12:48:02.774300Z",
     "shell.execute_reply.started": "2022-04-17T12:45:47.239996Z"
    },
    "papermill": {
     "duration": 0.119648,
     "end_time": "2022-04-17T12:48:02.774973",
     "exception": false,
     "start_time": "2022-04-17T12:48:02.655325",
     "status": "completed"
    },
    "tags": []
   },
   "outputs": [
    {
     "name": "stdout",
     "output_type": "stream",
     "text": [
      "Row count before deletion: 148134 \n",
      "Row count after deletion: 148134\n"
     ]
    }
   ],
   "source": [
    "print(f\"Row count before deletion: {len(dataset_ronaldo.index)} \")\n",
    "dataset_ronaldo = dataset_ronaldo.drop_duplicates(subset=\"tweet_id\", keep=\"first\")\n",
    "print(f\"Row count after deletion: {len(dataset_ronaldo.index)}\")"
   ]
  },
  {
   "cell_type": "markdown",
   "id": "eab1d21b",
   "metadata": {
    "papermill": {
     "duration": 0.040368,
     "end_time": "2022-04-17T12:48:02.856503",
     "exception": false,
     "start_time": "2022-04-17T12:48:02.816135",
     "status": "completed"
    },
    "tags": []
   },
   "source": [
    "### Percentage of null geo values"
   ]
  },
  {
   "cell_type": "code",
   "execution_count": 22,
   "id": "dfd2d23c",
   "metadata": {
    "execution": {
     "iopub.execute_input": "2022-04-17T12:48:02.939739Z",
     "iopub.status.busy": "2022-04-17T12:48:02.939109Z",
     "iopub.status.idle": "2022-04-17T12:48:02.943558Z",
     "shell.execute_reply": "2022-04-17T12:48:02.944189Z",
     "shell.execute_reply.started": "2022-04-17T12:45:47.326350Z"
    },
    "papermill": {
     "duration": 0.047096,
     "end_time": "2022-04-17T12:48:02.944341",
     "exception": false,
     "start_time": "2022-04-17T12:48:02.897245",
     "status": "completed"
    },
    "tags": []
   },
   "outputs": [
    {
     "name": "stdout",
     "output_type": "stream",
     "text": [
      "Number of values: 148134\n"
     ]
    }
   ],
   "source": [
    "count = len(dataset_ronaldo.index)\n",
    "print(f\"Number of values: {count}\")"
   ]
  },
  {
   "cell_type": "code",
   "execution_count": 23,
   "id": "64c959ba",
   "metadata": {
    "execution": {
     "iopub.execute_input": "2022-04-17T12:48:03.074861Z",
     "iopub.status.busy": "2022-04-17T12:48:03.074198Z",
     "iopub.status.idle": "2022-04-17T12:48:03.197990Z",
     "shell.execute_reply": "2022-04-17T12:48:03.197471Z",
     "shell.execute_reply.started": "2022-04-17T12:45:47.336624Z"
    },
    "papermill": {
     "duration": 0.189719,
     "end_time": "2022-04-17T12:48:03.198134",
     "exception": false,
     "start_time": "2022-04-17T12:48:03.008415",
     "status": "completed"
    },
    "tags": []
   },
   "outputs": [
    {
     "name": "stdout",
     "output_type": "stream",
     "text": [
      "Percentage of null geo values: 98.7%\n"
     ]
    }
   ],
   "source": [
    "count_null = dataset_ronaldo.isna().sum()[\"geo\"]\n",
    "percentage = count_null * 100/count\n",
    "print(f\"Percentage of null geo values: {round(percentage,2)}%\")"
   ]
  },
  {
   "cell_type": "markdown",
   "id": "415c5ff1",
   "metadata": {
    "papermill": {
     "duration": 0.040136,
     "end_time": "2022-04-17T12:48:03.279380",
     "exception": false,
     "start_time": "2022-04-17T12:48:03.239244",
     "status": "completed"
    },
    "tags": []
   },
   "source": [
    "### Assign the -1 id to null geo values"
   ]
  },
  {
   "cell_type": "code",
   "execution_count": 24,
   "id": "ef2248d2",
   "metadata": {
    "execution": {
     "iopub.execute_input": "2022-04-17T12:48:03.368128Z",
     "iopub.status.busy": "2022-04-17T12:48:03.367531Z",
     "iopub.status.idle": "2022-04-17T12:48:03.453162Z",
     "shell.execute_reply": "2022-04-17T12:48:03.453640Z",
     "shell.execute_reply.started": "2022-04-17T12:45:47.408334Z"
    },
    "papermill": {
     "duration": 0.132685,
     "end_time": "2022-04-17T12:48:03.453804",
     "exception": false,
     "start_time": "2022-04-17T12:48:03.321119",
     "status": "completed"
    },
    "tags": []
   },
   "outputs": [],
   "source": [
    "dataset_ronaldo.geo = dataset_ronaldo.geo.apply(lambda x: -1 if pd.isna(x) else x)"
   ]
  },
  {
   "cell_type": "markdown",
   "id": "1f559374",
   "metadata": {
    "papermill": {
     "duration": 0.039992,
     "end_time": "2022-04-17T12:48:03.534282",
     "exception": false,
     "start_time": "2022-04-17T12:48:03.494290",
     "status": "completed"
    },
    "tags": []
   },
   "source": [
    "#### Display results"
   ]
  },
  {
   "cell_type": "code",
   "execution_count": 25,
   "id": "54827131",
   "metadata": {
    "execution": {
     "iopub.execute_input": "2022-04-17T12:48:03.618767Z",
     "iopub.status.busy": "2022-04-17T12:48:03.618170Z",
     "iopub.status.idle": "2022-04-17T12:48:03.624573Z",
     "shell.execute_reply": "2022-04-17T12:48:03.625035Z",
     "shell.execute_reply.started": "2022-04-17T12:45:47.487634Z"
    },
    "papermill": {
     "duration": 0.050192,
     "end_time": "2022-04-17T12:48:03.625175",
     "exception": false,
     "start_time": "2022-04-17T12:48:03.574983",
     "status": "completed"
    },
    "tags": []
   },
   "outputs": [
    {
     "data": {
      "text/plain": [
       "0    -1\n",
       "1    -1\n",
       "2    -1\n",
       "3    -1\n",
       "4    -1\n",
       "Name: geo, dtype: object"
      ]
     },
     "execution_count": 25,
     "metadata": {},
     "output_type": "execute_result"
    }
   ],
   "source": [
    "dataset_ronaldo[\"geo\"].head(5)"
   ]
  },
  {
   "cell_type": "code",
   "execution_count": 26,
   "id": "687a5eac",
   "metadata": {
    "execution": {
     "iopub.execute_input": "2022-04-17T12:48:03.711771Z",
     "iopub.status.busy": "2022-04-17T12:48:03.711153Z",
     "iopub.status.idle": "2022-04-17T12:48:03.723356Z",
     "shell.execute_reply": "2022-04-17T12:48:03.722850Z",
     "shell.execute_reply.started": "2022-04-17T12:45:47.497464Z"
    },
    "papermill": {
     "duration": 0.056267,
     "end_time": "2022-04-17T12:48:03.723472",
     "exception": false,
     "start_time": "2022-04-17T12:48:03.667205",
     "status": "completed"
    },
    "tags": []
   },
   "outputs": [
    {
     "name": "stdout",
     "output_type": "stream",
     "text": [
      "Avaialble location ids: [-1 '0d282a8da695a000' '511655fc081bb251' 'e4a0d228eb6be76b'\n",
      " '366946a7b72f271b']\n"
     ]
    }
   ],
   "source": [
    "print(f\"Avaialble location ids: {dataset_ronaldo['geo'].unique()[0:5]}\")"
   ]
  },
  {
   "cell_type": "markdown",
   "id": "bba476d6",
   "metadata": {
    "papermill": {
     "duration": 0.041935,
     "end_time": "2022-04-17T12:48:03.807449",
     "exception": false,
     "start_time": "2022-04-17T12:48:03.765514",
     "status": "completed"
    },
    "tags": []
   },
   "source": [
    "### Clean tweets : remove mentions, links and extra spaces"
   ]
  },
  {
   "cell_type": "code",
   "execution_count": 27,
   "id": "800df1da",
   "metadata": {
    "execution": {
     "iopub.execute_input": "2022-04-17T12:48:03.897883Z",
     "iopub.status.busy": "2022-04-17T12:48:03.897372Z",
     "iopub.status.idle": "2022-04-17T12:48:20.269617Z",
     "shell.execute_reply": "2022-04-17T12:48:20.270073Z",
     "shell.execute_reply.started": "2022-04-17T12:45:47.515013Z"
    },
    "papermill": {
     "duration": 16.420999,
     "end_time": "2022-04-17T12:48:20.270240",
     "exception": false,
     "start_time": "2022-04-17T12:48:03.849241",
     "status": "completed"
    },
    "tags": []
   },
   "outputs": [],
   "source": [
    "# Remove mentions\n",
    "dataset_ronaldo.content = dataset_ronaldo.content.apply(lambda x: re.sub(regex_mentions, \" \", str(x).strip()))\n",
    "# Remove links\n",
    "dataset_ronaldo.content = dataset_ronaldo.content.apply(lambda x: re.sub(regex_links, \" \", str(x).strip()))\n",
    "# Remove special characters\n",
    "dataset_ronaldo.content = dataset_ronaldo.content.apply(lambda x: re.sub(regex_special, \" \", str(x).strip()))\n",
    "# Remove ordinals\n",
    "dataset_ronaldo.content = dataset_ronaldo.content.apply(lambda x: re.sub(regex_ordinals, \" \", str(x).strip()))\n",
    "# Remove numbers\n",
    "dataset_ronaldo.content = dataset_ronaldo.content.apply(lambda x: re.sub(regex_numbers, \" \", str(x).strip()))\n",
    "# Clean tweets\n",
    "dataset_ronaldo.content = dataset_ronaldo.content.apply(lambda x: clean_tweet(x)) "
   ]
  },
  {
   "cell_type": "markdown",
   "id": "1f3a82e8",
   "metadata": {
    "papermill": {
     "duration": 0.040689,
     "end_time": "2022-04-17T12:48:20.352299",
     "exception": false,
     "start_time": "2022-04-17T12:48:20.311610",
     "status": "completed"
    },
    "tags": []
   },
   "source": [
    "#### Display results"
   ]
  },
  {
   "cell_type": "code",
   "execution_count": 28,
   "id": "63681c03",
   "metadata": {
    "execution": {
     "iopub.execute_input": "2022-04-17T12:48:20.454160Z",
     "iopub.status.busy": "2022-04-17T12:48:20.453415Z",
     "iopub.status.idle": "2022-04-17T12:48:20.456366Z",
     "shell.execute_reply": "2022-04-17T12:48:20.456887Z",
     "shell.execute_reply.started": "2022-04-17T12:45:59.871964Z"
    },
    "papermill": {
     "duration": 0.06303,
     "end_time": "2022-04-17T12:48:20.457037",
     "exception": false,
     "start_time": "2022-04-17T12:48:20.394007",
     "status": "completed"
    },
    "tags": []
   },
   "outputs": [
    {
     "data": {
      "text/html": [
       "<div>\n",
       "<style scoped>\n",
       "    .dataframe tbody tr th:only-of-type {\n",
       "        vertical-align: middle;\n",
       "    }\n",
       "\n",
       "    .dataframe tbody tr th {\n",
       "        vertical-align: top;\n",
       "    }\n",
       "\n",
       "    .dataframe thead th {\n",
       "        text-align: right;\n",
       "    }\n",
       "</style>\n",
       "<table border=\"1\" class=\"dataframe\">\n",
       "  <thead>\n",
       "    <tr style=\"text-align: right;\">\n",
       "      <th></th>\n",
       "      <th>tweet_id</th>\n",
       "      <th>author_id</th>\n",
       "      <th>content</th>\n",
       "      <th>lang</th>\n",
       "      <th>date</th>\n",
       "      <th>source</th>\n",
       "      <th>geo</th>\n",
       "      <th>retweet_count</th>\n",
       "      <th>like_count</th>\n",
       "      <th>quote_count</th>\n",
       "    </tr>\n",
       "  </thead>\n",
       "  <tbody>\n",
       "    <tr>\n",
       "      <th>0</th>\n",
       "      <td>1515589799943548929</td>\n",
       "      <td>1152201242766131202</td>\n",
       "      <td>there s no reason to believe cristiano ronaldo...</td>\n",
       "      <td>en</td>\n",
       "      <td>2022-04-17T07:15:41.000Z</td>\n",
       "      <td>Twitter for Android</td>\n",
       "      <td>-1</td>\n",
       "      <td>0.0</td>\n",
       "      <td>0.0</td>\n",
       "      <td>0.0</td>\n",
       "    </tr>\n",
       "    <tr>\n",
       "      <th>1</th>\n",
       "      <td>1515589796130865155</td>\n",
       "      <td>1202283615427727360</td>\n",
       "      <td>vintage ronaldo tottenham and norwich tap in h...</td>\n",
       "      <td>en</td>\n",
       "      <td>2022-04-17T07:15:40.000Z</td>\n",
       "      <td>Twitter Web App</td>\n",
       "      <td>-1</td>\n",
       "      <td>0.0</td>\n",
       "      <td>0.0</td>\n",
       "      <td>0.0</td>\n",
       "    </tr>\n",
       "    <tr>\n",
       "      <th>2</th>\n",
       "      <td>1515589765172768769</td>\n",
       "      <td>3368387687</td>\n",
       "      <td>werra mister champions league ronaldo why did ...</td>\n",
       "      <td>en</td>\n",
       "      <td>2022-04-17T07:15:32.000Z</td>\n",
       "      <td>Twitter for iPhone</td>\n",
       "      <td>-1</td>\n",
       "      <td>0.0</td>\n",
       "      <td>0.0</td>\n",
       "      <td>0.0</td>\n",
       "    </tr>\n",
       "    <tr>\n",
       "      <th>3</th>\n",
       "      <td>1515589753470861318</td>\n",
       "      <td>2615336101</td>\n",
       "      <td>yeah but facts don t lie messi is missing awar...</td>\n",
       "      <td>en</td>\n",
       "      <td>2022-04-17T07:15:30.000Z</td>\n",
       "      <td>Twitter for Android</td>\n",
       "      <td>-1</td>\n",
       "      <td>0.0</td>\n",
       "      <td>0.0</td>\n",
       "      <td>0.0</td>\n",
       "    </tr>\n",
       "    <tr>\n",
       "      <th>4</th>\n",
       "      <td>1515589684013027335</td>\n",
       "      <td>1093900817046810625</td>\n",
       "      <td>ronaldo was greatly rewarded after hat trick a...</td>\n",
       "      <td>en</td>\n",
       "      <td>2022-04-17T07:15:13.000Z</td>\n",
       "      <td>IFTTT</td>\n",
       "      <td>-1</td>\n",
       "      <td>0.0</td>\n",
       "      <td>0.0</td>\n",
       "      <td>0.0</td>\n",
       "    </tr>\n",
       "  </tbody>\n",
       "</table>\n",
       "</div>"
      ],
      "text/plain": [
       "              tweet_id            author_id  \\\n",
       "0  1515589799943548929  1152201242766131202   \n",
       "1  1515589796130865155  1202283615427727360   \n",
       "2  1515589765172768769           3368387687   \n",
       "3  1515589753470861318           2615336101   \n",
       "4  1515589684013027335  1093900817046810625   \n",
       "\n",
       "                                             content lang  \\\n",
       "0  there s no reason to believe cristiano ronaldo...   en   \n",
       "1  vintage ronaldo tottenham and norwich tap in h...   en   \n",
       "2  werra mister champions league ronaldo why did ...   en   \n",
       "3  yeah but facts don t lie messi is missing awar...   en   \n",
       "4  ronaldo was greatly rewarded after hat trick a...   en   \n",
       "\n",
       "                       date               source geo  retweet_count  \\\n",
       "0  2022-04-17T07:15:41.000Z  Twitter for Android  -1            0.0   \n",
       "1  2022-04-17T07:15:40.000Z      Twitter Web App  -1            0.0   \n",
       "2  2022-04-17T07:15:32.000Z   Twitter for iPhone  -1            0.0   \n",
       "3  2022-04-17T07:15:30.000Z  Twitter for Android  -1            0.0   \n",
       "4  2022-04-17T07:15:13.000Z                IFTTT  -1            0.0   \n",
       "\n",
       "   like_count  quote_count  \n",
       "0         0.0          0.0  \n",
       "1         0.0          0.0  \n",
       "2         0.0          0.0  \n",
       "3         0.0          0.0  \n",
       "4         0.0          0.0  "
      ]
     },
     "execution_count": 28,
     "metadata": {},
     "output_type": "execute_result"
    }
   ],
   "source": [
    "dataset_ronaldo.head(5)"
   ]
  },
  {
   "cell_type": "markdown",
   "id": "f40e4884",
   "metadata": {
    "papermill": {
     "duration": 0.041527,
     "end_time": "2022-04-17T12:48:20.540373",
     "exception": false,
     "start_time": "2022-04-17T12:48:20.498846",
     "status": "completed"
    },
    "tags": []
   },
   "source": [
    "### Check for non-english content"
   ]
  },
  {
   "cell_type": "code",
   "execution_count": 29,
   "id": "3cd6cd34",
   "metadata": {
    "execution": {
     "iopub.execute_input": "2022-04-17T12:48:20.626670Z",
     "iopub.status.busy": "2022-04-17T12:48:20.626065Z",
     "iopub.status.idle": "2022-04-17T12:48:20.646499Z",
     "shell.execute_reply": "2022-04-17T12:48:20.646950Z",
     "shell.execute_reply.started": "2022-04-17T12:46:33.243215Z"
    },
    "papermill": {
     "duration": 0.064968,
     "end_time": "2022-04-17T12:48:20.647101",
     "exception": false,
     "start_time": "2022-04-17T12:48:20.582133",
     "status": "completed"
    },
    "tags": []
   },
   "outputs": [],
   "source": [
    "assert dataset_ronaldo[\"lang\"].unique()==\"en\", \"Non-english content detected\""
   ]
  },
  {
   "cell_type": "markdown",
   "id": "673c04e5",
   "metadata": {
    "papermill": {
     "duration": 0.04136,
     "end_time": "2022-04-17T12:48:20.730724",
     "exception": false,
     "start_time": "2022-04-17T12:48:20.689364",
     "status": "completed"
    },
    "tags": []
   },
   "source": [
    "```\n",
    "Test passed\n",
    "```"
   ]
  },
  {
   "cell_type": "markdown",
   "id": "a9c4de9a",
   "metadata": {
    "papermill": {
     "duration": 0.041377,
     "end_time": "2022-04-17T12:48:20.815123",
     "exception": false,
     "start_time": "2022-04-17T12:48:20.773746",
     "status": "completed"
    },
    "tags": []
   },
   "source": [
    "# Save the cleaned datasets 💾"
   ]
  },
  {
   "cell_type": "markdown",
   "id": "b9c4f0e4",
   "metadata": {
    "papermill": {
     "duration": 0.041095,
     "end_time": "2022-04-17T12:48:20.897757",
     "exception": false,
     "start_time": "2022-04-17T12:48:20.856662",
     "status": "completed"
    },
    "tags": []
   },
   "source": [
    "## Messi "
   ]
  },
  {
   "cell_type": "code",
   "execution_count": 30,
   "id": "7e1eb011",
   "metadata": {
    "execution": {
     "iopub.execute_input": "2022-04-17T12:48:20.986697Z",
     "iopub.status.busy": "2022-04-17T12:48:20.985928Z",
     "iopub.status.idle": "2022-04-17T12:48:21.465734Z",
     "shell.execute_reply": "2022-04-17T12:48:21.466224Z",
     "shell.execute_reply.started": "2022-04-17T12:46:35.050015Z"
    },
    "papermill": {
     "duration": 0.52697,
     "end_time": "2022-04-17T12:48:21.466387",
     "exception": false,
     "start_time": "2022-04-17T12:48:20.939417",
     "status": "completed"
    },
    "tags": []
   },
   "outputs": [],
   "source": [
    "dataset_messi.to_csv(\"Cleaned_messi_tweets.csv\", index=False)"
   ]
  },
  {
   "cell_type": "markdown",
   "id": "c564ca17",
   "metadata": {
    "papermill": {
     "duration": 0.041277,
     "end_time": "2022-04-17T12:48:21.549308",
     "exception": false,
     "start_time": "2022-04-17T12:48:21.508031",
     "status": "completed"
    },
    "tags": []
   },
   "source": [
    "## Ronaldo"
   ]
  },
  {
   "cell_type": "code",
   "execution_count": 31,
   "id": "ec7af863",
   "metadata": {
    "execution": {
     "iopub.execute_input": "2022-04-17T12:48:21.636352Z",
     "iopub.status.busy": "2022-04-17T12:48:21.635694Z",
     "iopub.status.idle": "2022-04-17T12:48:22.374466Z",
     "shell.execute_reply": "2022-04-17T12:48:22.373975Z",
     "shell.execute_reply.started": "2022-04-17T12:46:41.414261Z"
    },
    "papermill": {
     "duration": 0.783801,
     "end_time": "2022-04-17T12:48:22.374605",
     "exception": false,
     "start_time": "2022-04-17T12:48:21.590804",
     "status": "completed"
    },
    "tags": []
   },
   "outputs": [],
   "source": [
    "dataset_ronaldo.to_csv(\"Cleaned_ronaldo_tweets.csv\", index=False)"
   ]
  }
 ],
 "metadata": {
  "kernelspec": {
   "display_name": "Python 3",
   "language": "python",
   "name": "python3"
  },
  "language_info": {
   "codemirror_mode": {
    "name": "ipython",
    "version": 3
   },
   "file_extension": ".py",
   "mimetype": "text/x-python",
   "name": "python",
   "nbconvert_exporter": "python",
   "pygments_lexer": "ipython3",
   "version": "3.7.10"
  },
  "papermill": {
   "default_parameters": {},
   "duration": 53.350597,
   "end_time": "2022-04-17T12:48:23.228674",
   "environment_variables": {},
   "exception": null,
   "input_path": "__notebook__.ipynb",
   "output_path": "__notebook__.ipynb",
   "parameters": {},
   "start_time": "2022-04-17T12:47:29.878077",
   "version": "2.3.3"
  }
 },
 "nbformat": 4,
 "nbformat_minor": 5
}
