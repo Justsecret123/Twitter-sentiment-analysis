{
 "cells": [
  {
   "cell_type": "markdown",
   "id": "47f6d0e7",
   "metadata": {
    "papermill": {
     "duration": 0.040067,
     "end_time": "2021-09-29T05:44:07.781096",
     "exception": false,
     "start_time": "2021-09-29T05:44:07.741029",
     "status": "completed"
    },
    "tags": []
   },
   "source": [
    "# Libraries"
   ]
  },
  {
   "cell_type": "code",
   "execution_count": 1,
   "id": "12fdf6e9",
   "metadata": {
    "execution": {
     "iopub.execute_input": "2021-09-29T05:44:07.875719Z",
     "iopub.status.busy": "2021-09-29T05:44:07.872321Z",
     "iopub.status.idle": "2021-09-29T05:44:07.879966Z",
     "shell.execute_reply": "2021-09-29T05:44:07.879314Z",
     "shell.execute_reply.started": "2021-09-29T05:40:54.967563Z"
    },
    "papermill": {
     "duration": 0.056902,
     "end_time": "2021-09-29T05:44:07.880161",
     "exception": false,
     "start_time": "2021-09-29T05:44:07.823259",
     "status": "completed"
    },
    "tags": []
   },
   "outputs": [],
   "source": [
    "import os\n",
    "import pandas as pd\n",
    "import numpy as np\n",
    "import re"
   ]
  },
  {
   "cell_type": "markdown",
   "id": "997792a2",
   "metadata": {
    "papermill": {
     "duration": 0.038863,
     "end_time": "2021-09-29T05:44:07.958272",
     "exception": false,
     "start_time": "2021-09-29T05:44:07.919409",
     "status": "completed"
    },
    "tags": []
   },
   "source": [
    "# Files"
   ]
  },
  {
   "cell_type": "markdown",
   "id": "ce3e6348",
   "metadata": {
    "papermill": {
     "duration": 0.038477,
     "end_time": "2021-09-29T05:44:08.035899",
     "exception": false,
     "start_time": "2021-09-29T05:44:07.997422",
     "status": "completed"
    },
    "tags": []
   },
   "source": [
    "## Dataset donwload"
   ]
  },
  {
   "cell_type": "code",
   "execution_count": 2,
   "id": "e91f78e4",
   "metadata": {
    "execution": {
     "iopub.execute_input": "2021-09-29T05:44:08.136370Z",
     "iopub.status.busy": "2021-09-29T05:44:08.135626Z",
     "iopub.status.idle": "2021-09-29T05:44:08.691872Z",
     "shell.execute_reply": "2021-09-29T05:44:08.692757Z",
     "shell.execute_reply.started": "2021-09-29T05:40:55.529990Z"
    },
    "papermill": {
     "duration": 0.613728,
     "end_time": "2021-09-29T05:44:08.692969",
     "exception": false,
     "start_time": "2021-09-29T05:44:08.079241",
     "status": "completed"
    },
    "tags": []
   },
   "outputs": [],
   "source": [
    "dataset_messi = pd.read_csv(\"/kaggle/input/twitter-sentiment-analysis-and-word-embeddings/messi_tweets.csv\", encoding=\"utf-8\")\n",
    "dataset_ronaldo = pd.read_csv(\"/kaggle/input/twitter-sentiment-analysis-and-word-embeddings/ronaldo_tweets.csv\", encoding=\"utf-8\")"
   ]
  },
  {
   "cell_type": "markdown",
   "id": "e6cc0213",
   "metadata": {
    "papermill": {
     "duration": 0.038217,
     "end_time": "2021-09-29T05:44:08.769781",
     "exception": false,
     "start_time": "2021-09-29T05:44:08.731564",
     "status": "completed"
    },
    "tags": []
   },
   "source": [
    "## Show some examples"
   ]
  },
  {
   "cell_type": "markdown",
   "id": "016a1426",
   "metadata": {
    "papermill": {
     "duration": 0.038985,
     "end_time": "2021-09-29T05:44:08.847560",
     "exception": false,
     "start_time": "2021-09-29T05:44:08.808575",
     "status": "completed"
    },
    "tags": []
   },
   "source": [
    "## Messi"
   ]
  },
  {
   "cell_type": "code",
   "execution_count": 3,
   "id": "2b278594",
   "metadata": {
    "execution": {
     "iopub.execute_input": "2021-09-29T05:44:08.934008Z",
     "iopub.status.busy": "2021-09-29T05:44:08.927753Z",
     "iopub.status.idle": "2021-09-29T05:44:08.953427Z",
     "shell.execute_reply": "2021-09-29T05:44:08.953912Z",
     "shell.execute_reply.started": "2021-09-29T05:40:56.001368Z"
    },
    "papermill": {
     "duration": 0.067915,
     "end_time": "2021-09-29T05:44:08.954102",
     "exception": false,
     "start_time": "2021-09-29T05:44:08.886187",
     "status": "completed"
    },
    "tags": []
   },
   "outputs": [
    {
     "data": {
      "text/html": [
       "<div>\n",
       "<style scoped>\n",
       "    .dataframe tbody tr th:only-of-type {\n",
       "        vertical-align: middle;\n",
       "    }\n",
       "\n",
       "    .dataframe tbody tr th {\n",
       "        vertical-align: top;\n",
       "    }\n",
       "\n",
       "    .dataframe thead th {\n",
       "        text-align: right;\n",
       "    }\n",
       "</style>\n",
       "<table border=\"1\" class=\"dataframe\">\n",
       "  <thead>\n",
       "    <tr style=\"text-align: right;\">\n",
       "      <th></th>\n",
       "      <th>tweet_id</th>\n",
       "      <th>author_id</th>\n",
       "      <th>content</th>\n",
       "      <th>lang</th>\n",
       "      <th>date</th>\n",
       "      <th>source</th>\n",
       "      <th>geo</th>\n",
       "      <th>retweet_count</th>\n",
       "      <th>like_count</th>\n",
       "      <th>quote_count</th>\n",
       "    </tr>\n",
       "  </thead>\n",
       "  <tbody>\n",
       "    <tr>\n",
       "      <th>0</th>\n",
       "      <td>1442143079373365248</td>\n",
       "      <td>1302375645666848768</td>\n",
       "      <td>@moh19si_ Who needs Messi ?</td>\n",
       "      <td>en</td>\n",
       "      <td>2021-09-26T15:04:38.000Z</td>\n",
       "      <td>Twitter for iPhone</td>\n",
       "      <td>NaN</td>\n",
       "      <td>0</td>\n",
       "      <td>0</td>\n",
       "      <td>0</td>\n",
       "    </tr>\n",
       "    <tr>\n",
       "      <th>1</th>\n",
       "      <td>1442143071995457542</td>\n",
       "      <td>116969561</td>\n",
       "      <td>RT @Forbes: Lionel Messi ranked No. 2 in this ...</td>\n",
       "      <td>en</td>\n",
       "      <td>2021-09-26T15:04:36.000Z</td>\n",
       "      <td>Twitter for Android</td>\n",
       "      <td>NaN</td>\n",
       "      <td>11</td>\n",
       "      <td>0</td>\n",
       "      <td>0</td>\n",
       "    </tr>\n",
       "    <tr>\n",
       "      <th>2</th>\n",
       "      <td>1442143058594652160</td>\n",
       "      <td>1296470104486612997</td>\n",
       "      <td>RT @ESPNFC: Pele congratulates Messi for break...</td>\n",
       "      <td>en</td>\n",
       "      <td>2021-09-26T15:04:33.000Z</td>\n",
       "      <td>Twitter Web App</td>\n",
       "      <td>NaN</td>\n",
       "      <td>637</td>\n",
       "      <td>0</td>\n",
       "      <td>0</td>\n",
       "    </tr>\n",
       "    <tr>\n",
       "      <th>3</th>\n",
       "      <td>1442143054836678656</td>\n",
       "      <td>4083107893</td>\n",
       "      <td>RT @CrewsMat10: PSG have lost 0 (ZERO) games s...</td>\n",
       "      <td>en</td>\n",
       "      <td>2021-09-26T15:04:32.000Z</td>\n",
       "      <td>Twitter for Android</td>\n",
       "      <td>NaN</td>\n",
       "      <td>510</td>\n",
       "      <td>0</td>\n",
       "      <td>0</td>\n",
       "    </tr>\n",
       "    <tr>\n",
       "      <th>4</th>\n",
       "      <td>1442143052265664514</td>\n",
       "      <td>1248782697029406720</td>\n",
       "      <td>RT @ESPNFC: Pele congratulates Messi for break...</td>\n",
       "      <td>en</td>\n",
       "      <td>2021-09-26T15:04:32.000Z</td>\n",
       "      <td>Twitter for Android</td>\n",
       "      <td>NaN</td>\n",
       "      <td>637</td>\n",
       "      <td>0</td>\n",
       "      <td>0</td>\n",
       "    </tr>\n",
       "  </tbody>\n",
       "</table>\n",
       "</div>"
      ],
      "text/plain": [
       "              tweet_id            author_id  \\\n",
       "0  1442143079373365248  1302375645666848768   \n",
       "1  1442143071995457542            116969561   \n",
       "2  1442143058594652160  1296470104486612997   \n",
       "3  1442143054836678656           4083107893   \n",
       "4  1442143052265664514  1248782697029406720   \n",
       "\n",
       "                                             content lang  \\\n",
       "0                        @moh19si_ Who needs Messi ?   en   \n",
       "1  RT @Forbes: Lionel Messi ranked No. 2 in this ...   en   \n",
       "2  RT @ESPNFC: Pele congratulates Messi for break...   en   \n",
       "3  RT @CrewsMat10: PSG have lost 0 (ZERO) games s...   en   \n",
       "4  RT @ESPNFC: Pele congratulates Messi for break...   en   \n",
       "\n",
       "                       date               source  geo  retweet_count  \\\n",
       "0  2021-09-26T15:04:38.000Z   Twitter for iPhone  NaN              0   \n",
       "1  2021-09-26T15:04:36.000Z  Twitter for Android  NaN             11   \n",
       "2  2021-09-26T15:04:33.000Z      Twitter Web App  NaN            637   \n",
       "3  2021-09-26T15:04:32.000Z  Twitter for Android  NaN            510   \n",
       "4  2021-09-26T15:04:32.000Z  Twitter for Android  NaN            637   \n",
       "\n",
       "   like_count  quote_count  \n",
       "0           0            0  \n",
       "1           0            0  \n",
       "2           0            0  \n",
       "3           0            0  \n",
       "4           0            0  "
      ]
     },
     "execution_count": 3,
     "metadata": {},
     "output_type": "execute_result"
    }
   ],
   "source": [
    "dataset_messi.head(5)"
   ]
  },
  {
   "cell_type": "markdown",
   "id": "54cec21f",
   "metadata": {
    "papermill": {
     "duration": 0.03897,
     "end_time": "2021-09-29T05:44:09.032385",
     "exception": false,
     "start_time": "2021-09-29T05:44:08.993415",
     "status": "completed"
    },
    "tags": []
   },
   "source": [
    "## Ronaldo"
   ]
  },
  {
   "cell_type": "code",
   "execution_count": 4,
   "id": "f0b060dd",
   "metadata": {
    "execution": {
     "iopub.execute_input": "2021-09-29T05:44:09.116705Z",
     "iopub.status.busy": "2021-09-29T05:44:09.115954Z",
     "iopub.status.idle": "2021-09-29T05:44:09.126698Z",
     "shell.execute_reply": "2021-09-29T05:44:09.127227Z",
     "shell.execute_reply.started": "2021-09-29T05:40:56.295989Z"
    },
    "papermill": {
     "duration": 0.055862,
     "end_time": "2021-09-29T05:44:09.127423",
     "exception": false,
     "start_time": "2021-09-29T05:44:09.071561",
     "status": "completed"
    },
    "tags": []
   },
   "outputs": [
    {
     "data": {
      "text/html": [
       "<div>\n",
       "<style scoped>\n",
       "    .dataframe tbody tr th:only-of-type {\n",
       "        vertical-align: middle;\n",
       "    }\n",
       "\n",
       "    .dataframe tbody tr th {\n",
       "        vertical-align: top;\n",
       "    }\n",
       "\n",
       "    .dataframe thead th {\n",
       "        text-align: right;\n",
       "    }\n",
       "</style>\n",
       "<table border=\"1\" class=\"dataframe\">\n",
       "  <thead>\n",
       "    <tr style=\"text-align: right;\">\n",
       "      <th></th>\n",
       "      <th>tweet_id</th>\n",
       "      <th>author_id</th>\n",
       "      <th>content</th>\n",
       "      <th>lang</th>\n",
       "      <th>date</th>\n",
       "      <th>source</th>\n",
       "      <th>geo</th>\n",
       "      <th>retweet_count</th>\n",
       "      <th>like_count</th>\n",
       "      <th>quote_count</th>\n",
       "    </tr>\n",
       "  </thead>\n",
       "  <tbody>\n",
       "    <tr>\n",
       "      <th>0</th>\n",
       "      <td>1442216040629514241</td>\n",
       "      <td>1395557892779122694</td>\n",
       "      <td>@AdusLP ronaldo was offside</td>\n",
       "      <td>en</td>\n",
       "      <td>2021-09-26T19:54:33.000Z</td>\n",
       "      <td>Twitter Web App</td>\n",
       "      <td>NaN</td>\n",
       "      <td>0</td>\n",
       "      <td>1</td>\n",
       "      <td>0</td>\n",
       "    </tr>\n",
       "    <tr>\n",
       "      <th>1</th>\n",
       "      <td>1442216031792074755</td>\n",
       "      <td>1176842712420630530</td>\n",
       "      <td>RT @Football__Tweet: 👽 The most effective trio...</td>\n",
       "      <td>en</td>\n",
       "      <td>2021-09-26T19:54:31.000Z</td>\n",
       "      <td>Twitter for Android</td>\n",
       "      <td>NaN</td>\n",
       "      <td>18</td>\n",
       "      <td>0</td>\n",
       "      <td>0</td>\n",
       "    </tr>\n",
       "    <tr>\n",
       "      <th>2</th>\n",
       "      <td>1442216026456748036</td>\n",
       "      <td>2385664598</td>\n",
       "      <td>Ronaldo JR the only footballer to score a goal...</td>\n",
       "      <td>en</td>\n",
       "      <td>2021-09-26T19:54:30.000Z</td>\n",
       "      <td>Twitter for iPhone</td>\n",
       "      <td>NaN</td>\n",
       "      <td>0</td>\n",
       "      <td>0</td>\n",
       "      <td>0</td>\n",
       "    </tr>\n",
       "    <tr>\n",
       "      <th>3</th>\n",
       "      <td>1442216002197016578</td>\n",
       "      <td>1142495555790299138</td>\n",
       "      <td>RT @EdmundOris: Perfect weekend for Barca fans...</td>\n",
       "      <td>en</td>\n",
       "      <td>2021-09-26T19:54:24.000Z</td>\n",
       "      <td>Twitter for iPhone</td>\n",
       "      <td>NaN</td>\n",
       "      <td>571</td>\n",
       "      <td>0</td>\n",
       "      <td>0</td>\n",
       "    </tr>\n",
       "    <tr>\n",
       "      <th>4</th>\n",
       "      <td>1442215992344596488</td>\n",
       "      <td>793153149066481664</td>\n",
       "      <td>RT @EfoEtornam: No way Ansu Fati has more goal...</td>\n",
       "      <td>en</td>\n",
       "      <td>2021-09-26T19:54:22.000Z</td>\n",
       "      <td>Twitter for iPhone</td>\n",
       "      <td>NaN</td>\n",
       "      <td>106</td>\n",
       "      <td>0</td>\n",
       "      <td>0</td>\n",
       "    </tr>\n",
       "  </tbody>\n",
       "</table>\n",
       "</div>"
      ],
      "text/plain": [
       "              tweet_id            author_id  \\\n",
       "0  1442216040629514241  1395557892779122694   \n",
       "1  1442216031792074755  1176842712420630530   \n",
       "2  1442216026456748036           2385664598   \n",
       "3  1442216002197016578  1142495555790299138   \n",
       "4  1442215992344596488   793153149066481664   \n",
       "\n",
       "                                             content lang  \\\n",
       "0                        @AdusLP ronaldo was offside   en   \n",
       "1  RT @Football__Tweet: 👽 The most effective trio...   en   \n",
       "2  Ronaldo JR the only footballer to score a goal...   en   \n",
       "3  RT @EdmundOris: Perfect weekend for Barca fans...   en   \n",
       "4  RT @EfoEtornam: No way Ansu Fati has more goal...   en   \n",
       "\n",
       "                       date               source  geo  retweet_count  \\\n",
       "0  2021-09-26T19:54:33.000Z      Twitter Web App  NaN              0   \n",
       "1  2021-09-26T19:54:31.000Z  Twitter for Android  NaN             18   \n",
       "2  2021-09-26T19:54:30.000Z   Twitter for iPhone  NaN              0   \n",
       "3  2021-09-26T19:54:24.000Z   Twitter for iPhone  NaN            571   \n",
       "4  2021-09-26T19:54:22.000Z   Twitter for iPhone  NaN            106   \n",
       "\n",
       "   like_count  quote_count  \n",
       "0           1            0  \n",
       "1           0            0  \n",
       "2           0            0  \n",
       "3           0            0  \n",
       "4           0            0  "
      ]
     },
     "execution_count": 4,
     "metadata": {},
     "output_type": "execute_result"
    }
   ],
   "source": [
    "dataset_ronaldo.head(5)"
   ]
  },
  {
   "cell_type": "markdown",
   "id": "1295b556",
   "metadata": {
    "papermill": {
     "duration": 0.039929,
     "end_time": "2021-09-29T05:44:09.208751",
     "exception": false,
     "start_time": "2021-09-29T05:44:09.168822",
     "status": "completed"
    },
    "tags": []
   },
   "source": [
    "# Data cleaning"
   ]
  },
  {
   "cell_type": "markdown",
   "id": "35362351",
   "metadata": {
    "papermill": {
     "duration": 0.039404,
     "end_time": "2021-09-29T05:44:09.288437",
     "exception": false,
     "start_time": "2021-09-29T05:44:09.249033",
     "status": "completed"
    },
    "tags": []
   },
   "source": [
    "## Messi"
   ]
  },
  {
   "cell_type": "markdown",
   "id": "1f39d76f",
   "metadata": {
    "papermill": {
     "duration": 0.039247,
     "end_time": "2021-09-29T05:44:09.367302",
     "exception": false,
     "start_time": "2021-09-29T05:44:09.328055",
     "status": "completed"
    },
    "tags": []
   },
   "source": [
    "### Check for null values"
   ]
  },
  {
   "cell_type": "code",
   "execution_count": 5,
   "id": "fd00a0e2",
   "metadata": {
    "execution": {
     "iopub.execute_input": "2021-09-29T05:44:09.449914Z",
     "iopub.status.busy": "2021-09-29T05:44:09.449249Z",
     "iopub.status.idle": "2021-09-29T05:44:09.474957Z",
     "shell.execute_reply": "2021-09-29T05:44:09.475491Z",
     "shell.execute_reply.started": "2021-09-29T05:40:57.982834Z"
    },
    "papermill": {
     "duration": 0.068722,
     "end_time": "2021-09-29T05:44:09.475676",
     "exception": false,
     "start_time": "2021-09-29T05:44:09.406954",
     "status": "completed"
    },
    "tags": []
   },
   "outputs": [
    {
     "data": {
      "text/plain": [
       "tweet_id             0\n",
       "author_id            0\n",
       "content              0\n",
       "lang                 0\n",
       "date                 0\n",
       "source               0\n",
       "geo              37003\n",
       "retweet_count        0\n",
       "like_count           0\n",
       "quote_count          0\n",
       "dtype: int64"
      ]
     },
     "execution_count": 5,
     "metadata": {},
     "output_type": "execute_result"
    }
   ],
   "source": [
    "dataset_messi.isna().sum()"
   ]
  },
  {
   "cell_type": "markdown",
   "id": "1aecd507",
   "metadata": {
    "papermill": {
     "duration": 0.039484,
     "end_time": "2021-09-29T05:44:09.555148",
     "exception": false,
     "start_time": "2021-09-29T05:44:09.515664",
     "status": "completed"
    },
    "tags": []
   },
   "source": [
    "#### Percentage of null geo values "
   ]
  },
  {
   "cell_type": "code",
   "execution_count": 6,
   "id": "2602b13f",
   "metadata": {
    "execution": {
     "iopub.execute_input": "2021-09-29T05:44:09.638490Z",
     "iopub.status.busy": "2021-09-29T05:44:09.637840Z",
     "iopub.status.idle": "2021-09-29T05:44:09.643074Z",
     "shell.execute_reply": "2021-09-29T05:44:09.643567Z",
     "shell.execute_reply.started": "2021-09-29T05:40:58.341719Z"
    },
    "papermill": {
     "duration": 0.048315,
     "end_time": "2021-09-29T05:44:09.643746",
     "exception": false,
     "start_time": "2021-09-29T05:44:09.595431",
     "status": "completed"
    },
    "tags": []
   },
   "outputs": [
    {
     "name": "stdout",
     "output_type": "stream",
     "text": [
      "Number of values : 37097\n"
     ]
    }
   ],
   "source": [
    "count = len(dataset_messi.index)\n",
    "print(f\"Number of values : {count}\")"
   ]
  },
  {
   "cell_type": "code",
   "execution_count": 7,
   "id": "e01cfa25",
   "metadata": {
    "execution": {
     "iopub.execute_input": "2021-09-29T05:44:09.747727Z",
     "iopub.status.busy": "2021-09-29T05:44:09.729127Z",
     "iopub.status.idle": "2021-09-29T05:44:09.759484Z",
     "shell.execute_reply": "2021-09-29T05:44:09.760249Z",
     "shell.execute_reply.started": "2021-09-29T05:40:59.446389Z"
    },
    "papermill": {
     "duration": 0.076629,
     "end_time": "2021-09-29T05:44:09.760484",
     "exception": false,
     "start_time": "2021-09-29T05:44:09.683855",
     "status": "completed"
    },
    "tags": []
   },
   "outputs": [
    {
     "name": "stdout",
     "output_type": "stream",
     "text": [
      "Percentage of null geo values 99.75%\n"
     ]
    }
   ],
   "source": [
    "count_null = dataset_messi.isna().sum()[\"geo\"]\n",
    "percentage = count_null*100/count\n",
    "print(f\"Percentage of null geo values {round(percentage,2)}%\")"
   ]
  },
  {
   "cell_type": "markdown",
   "id": "7efd4d3e",
   "metadata": {
    "papermill": {
     "duration": 0.04088,
     "end_time": "2021-09-29T05:44:09.842685",
     "exception": false,
     "start_time": "2021-09-29T05:44:09.801805",
     "status": "completed"
    },
    "tags": []
   },
   "source": [
    "### Assign the -1 id to null geo values"
   ]
  },
  {
   "cell_type": "code",
   "execution_count": 8,
   "id": "9cdbb4a0",
   "metadata": {
    "execution": {
     "iopub.execute_input": "2021-09-29T05:44:09.929229Z",
     "iopub.status.busy": "2021-09-29T05:44:09.928242Z",
     "iopub.status.idle": "2021-09-29T05:44:09.965149Z",
     "shell.execute_reply": "2021-09-29T05:44:09.964572Z",
     "shell.execute_reply.started": "2021-09-29T05:40:59.778984Z"
    },
    "papermill": {
     "duration": 0.081523,
     "end_time": "2021-09-29T05:44:09.965315",
     "exception": false,
     "start_time": "2021-09-29T05:44:09.883792",
     "status": "completed"
    },
    "tags": []
   },
   "outputs": [],
   "source": [
    "dataset_messi.geo = dataset_messi.geo.apply(lambda x: -1 if pd.isna(x) else x)"
   ]
  },
  {
   "cell_type": "markdown",
   "id": "1e50c3d5",
   "metadata": {
    "papermill": {
     "duration": 0.04077,
     "end_time": "2021-09-29T05:44:10.047535",
     "exception": false,
     "start_time": "2021-09-29T05:44:10.006765",
     "status": "completed"
    },
    "tags": []
   },
   "source": [
    "#### Display results"
   ]
  },
  {
   "cell_type": "code",
   "execution_count": 9,
   "id": "518b88db",
   "metadata": {
    "execution": {
     "iopub.execute_input": "2021-09-29T05:44:10.136879Z",
     "iopub.status.busy": "2021-09-29T05:44:10.136225Z",
     "iopub.status.idle": "2021-09-29T05:44:10.138915Z",
     "shell.execute_reply": "2021-09-29T05:44:10.139406Z",
     "shell.execute_reply.started": "2021-09-29T05:41:00.869996Z"
    },
    "papermill": {
     "duration": 0.05071,
     "end_time": "2021-09-29T05:44:10.139574",
     "exception": false,
     "start_time": "2021-09-29T05:44:10.088864",
     "status": "completed"
    },
    "tags": []
   },
   "outputs": [
    {
     "data": {
      "text/plain": [
       "0    -1\n",
       "1    -1\n",
       "2    -1\n",
       "3    -1\n",
       "4    -1\n",
       "Name: geo, dtype: object"
      ]
     },
     "execution_count": 9,
     "metadata": {},
     "output_type": "execute_result"
    }
   ],
   "source": [
    "dataset_messi[\"geo\"].head(5)"
   ]
  },
  {
   "cell_type": "code",
   "execution_count": 10,
   "id": "b56a80ed",
   "metadata": {
    "execution": {
     "iopub.execute_input": "2021-09-29T05:44:10.226227Z",
     "iopub.status.busy": "2021-09-29T05:44:10.225555Z",
     "iopub.status.idle": "2021-09-29T05:44:10.233181Z",
     "shell.execute_reply": "2021-09-29T05:44:10.233687Z",
     "shell.execute_reply.started": "2021-09-29T05:41:01.093606Z"
    },
    "papermill": {
     "duration": 0.052275,
     "end_time": "2021-09-29T05:44:10.233862",
     "exception": false,
     "start_time": "2021-09-29T05:44:10.181587",
     "status": "completed"
    },
    "tags": []
   },
   "outputs": [
    {
     "data": {
      "text/plain": [
       "array([-1, '1744381d2805a216', '5446838227498f51', '6a6d896ba1cb5dc4',\n",
       "       '5ccdc4a6f900a93f'], dtype=object)"
      ]
     },
     "execution_count": 10,
     "metadata": {},
     "output_type": "execute_result"
    }
   ],
   "source": [
    "dataset_messi[\"geo\"].unique()[0:5]"
   ]
  },
  {
   "cell_type": "markdown",
   "id": "970bfaa4",
   "metadata": {
    "papermill": {
     "duration": 0.041307,
     "end_time": "2021-09-29T05:44:10.317731",
     "exception": false,
     "start_time": "2021-09-29T05:44:10.276424",
     "status": "completed"
    },
    "tags": []
   },
   "source": [
    "### Clean tweets : remove mentions, extra spaces and links"
   ]
  },
  {
   "cell_type": "markdown",
   "id": "4bf9f0c7",
   "metadata": {
    "papermill": {
     "duration": 0.041462,
     "end_time": "2021-09-29T05:44:10.401135",
     "exception": false,
     "start_time": "2021-09-29T05:44:10.359673",
     "status": "completed"
    },
    "tags": []
   },
   "source": [
    "#### Remove emojis"
   ]
  },
  {
   "cell_type": "code",
   "execution_count": 11,
   "id": "dac77d32",
   "metadata": {
    "execution": {
     "iopub.execute_input": "2021-09-29T05:44:10.488908Z",
     "iopub.status.busy": "2021-09-29T05:44:10.487115Z",
     "iopub.status.idle": "2021-09-29T05:44:10.491855Z",
     "shell.execute_reply": "2021-09-29T05:44:10.492427Z",
     "shell.execute_reply.started": "2021-09-29T05:41:03.186813Z"
    },
    "papermill": {
     "duration": 0.049825,
     "end_time": "2021-09-29T05:44:10.492605",
     "exception": false,
     "start_time": "2021-09-29T05:44:10.442780",
     "status": "completed"
    },
    "tags": []
   },
   "outputs": [],
   "source": [
    "def to_ascii(text):\n",
    "    return text.encode(\"ascii\",\"ignore\").decode(\"ascii\")"
   ]
  },
  {
   "cell_type": "markdown",
   "id": "c1b6c995",
   "metadata": {
    "papermill": {
     "duration": 0.041398,
     "end_time": "2021-09-29T05:44:10.575785",
     "exception": false,
     "start_time": "2021-09-29T05:44:10.534387",
     "status": "completed"
    },
    "tags": []
   },
   "source": [
    "#### Regex"
   ]
  },
  {
   "cell_type": "code",
   "execution_count": 12,
   "id": "2d1eacf9",
   "metadata": {
    "execution": {
     "iopub.execute_input": "2021-09-29T05:44:10.662772Z",
     "iopub.status.busy": "2021-09-29T05:44:10.662111Z",
     "iopub.status.idle": "2021-09-29T05:44:10.666012Z",
     "shell.execute_reply": "2021-09-29T05:44:10.666579Z",
     "shell.execute_reply.started": "2021-09-29T05:41:13.873675Z"
    },
    "papermill": {
     "duration": 0.049249,
     "end_time": "2021-09-29T05:44:10.666762",
     "exception": false,
     "start_time": "2021-09-29T05:44:10.617513",
     "status": "completed"
    },
    "tags": []
   },
   "outputs": [],
   "source": [
    "regex1 = r'@[A-Za-z0-9]+'\n",
    "regex2 = r'https?://[A-Za-z0-9./]+'\n",
    "regex = r'|'.join((regex1, regex2))"
   ]
  },
  {
   "cell_type": "markdown",
   "id": "def2dbfc",
   "metadata": {
    "papermill": {
     "duration": 0.041337,
     "end_time": "2021-09-29T05:44:10.749750",
     "exception": false,
     "start_time": "2021-09-29T05:44:10.708413",
     "status": "completed"
    },
    "tags": []
   },
   "source": [
    "#### Applying the regex"
   ]
  },
  {
   "cell_type": "code",
   "execution_count": 13,
   "id": "66e9439e",
   "metadata": {
    "execution": {
     "iopub.execute_input": "2021-09-29T05:44:10.840519Z",
     "iopub.status.busy": "2021-09-29T05:44:10.839877Z",
     "iopub.status.idle": "2021-09-29T05:44:11.129096Z",
     "shell.execute_reply": "2021-09-29T05:44:11.129591Z",
     "shell.execute_reply.started": "2021-09-29T05:41:15.154796Z"
    },
    "papermill": {
     "duration": 0.336545,
     "end_time": "2021-09-29T05:44:11.129780",
     "exception": false,
     "start_time": "2021-09-29T05:44:10.793235",
     "status": "completed"
    },
    "tags": []
   },
   "outputs": [],
   "source": [
    "dataset_messi.content = dataset_messi.content.apply(lambda x: re.sub(regex, ' ', str(x).lower()).strip())\n",
    "dataset_messi.content = dataset_messi.content.apply(lambda x: x.replace(\"rt\",\"\",1)) # Remove the \"RT\" tag"
   ]
  },
  {
   "cell_type": "code",
   "execution_count": 14,
   "id": "0777556d",
   "metadata": {
    "execution": {
     "iopub.execute_input": "2021-09-29T05:44:11.218502Z",
     "iopub.status.busy": "2021-09-29T05:44:11.217796Z",
     "iopub.status.idle": "2021-09-29T05:44:11.279235Z",
     "shell.execute_reply": "2021-09-29T05:44:11.278614Z",
     "shell.execute_reply.started": "2021-09-29T05:41:16.261473Z"
    },
    "papermill": {
     "duration": 0.106244,
     "end_time": "2021-09-29T05:44:11.279384",
     "exception": false,
     "start_time": "2021-09-29T05:44:11.173140",
     "status": "completed"
    },
    "tags": []
   },
   "outputs": [],
   "source": [
    "dataset_messi.content = dataset_messi.content.apply(lambda x: x.replace(\"_\",\"\")) # Remove the \"_\" \n",
    "dataset_messi.content = dataset_messi.content.apply(lambda x: x.replace(\":\",\"\")) # Remove the \":\" "
   ]
  },
  {
   "cell_type": "code",
   "execution_count": 15,
   "id": "073d2e52",
   "metadata": {
    "execution": {
     "iopub.execute_input": "2021-09-29T05:44:11.383630Z",
     "iopub.status.busy": "2021-09-29T05:44:11.373276Z",
     "iopub.status.idle": "2021-09-29T05:44:11.417604Z",
     "shell.execute_reply": "2021-09-29T05:44:11.418080Z",
     "shell.execute_reply.started": "2021-09-29T05:41:16.659067Z"
    },
    "papermill": {
     "duration": 0.097212,
     "end_time": "2021-09-29T05:44:11.418286",
     "exception": false,
     "start_time": "2021-09-29T05:44:11.321074",
     "status": "completed"
    },
    "tags": []
   },
   "outputs": [],
   "source": [
    "dataset_messi.content = dataset_messi.content.apply(lambda x: to_ascii(x)) # Remove the emojis "
   ]
  },
  {
   "cell_type": "markdown",
   "id": "476f2d44",
   "metadata": {
    "papermill": {
     "duration": 0.041032,
     "end_time": "2021-09-29T05:44:11.500823",
     "exception": false,
     "start_time": "2021-09-29T05:44:11.459791",
     "status": "completed"
    },
    "tags": []
   },
   "source": [
    "#### Display results"
   ]
  },
  {
   "cell_type": "code",
   "execution_count": 16,
   "id": "8da5d443",
   "metadata": {
    "execution": {
     "iopub.execute_input": "2021-09-29T05:44:11.597525Z",
     "iopub.status.busy": "2021-09-29T05:44:11.596786Z",
     "iopub.status.idle": "2021-09-29T05:44:11.599463Z",
     "shell.execute_reply": "2021-09-29T05:44:11.599989Z",
     "shell.execute_reply.started": "2021-09-29T05:41:18.092506Z"
    },
    "papermill": {
     "duration": 0.058046,
     "end_time": "2021-09-29T05:44:11.600165",
     "exception": false,
     "start_time": "2021-09-29T05:44:11.542119",
     "status": "completed"
    },
    "tags": []
   },
   "outputs": [
    {
     "data": {
      "text/html": [
       "<div>\n",
       "<style scoped>\n",
       "    .dataframe tbody tr th:only-of-type {\n",
       "        vertical-align: middle;\n",
       "    }\n",
       "\n",
       "    .dataframe tbody tr th {\n",
       "        vertical-align: top;\n",
       "    }\n",
       "\n",
       "    .dataframe thead th {\n",
       "        text-align: right;\n",
       "    }\n",
       "</style>\n",
       "<table border=\"1\" class=\"dataframe\">\n",
       "  <thead>\n",
       "    <tr style=\"text-align: right;\">\n",
       "      <th></th>\n",
       "      <th>tweet_id</th>\n",
       "      <th>author_id</th>\n",
       "      <th>content</th>\n",
       "      <th>lang</th>\n",
       "      <th>date</th>\n",
       "      <th>source</th>\n",
       "      <th>geo</th>\n",
       "      <th>retweet_count</th>\n",
       "      <th>like_count</th>\n",
       "      <th>quote_count</th>\n",
       "    </tr>\n",
       "  </thead>\n",
       "  <tbody>\n",
       "    <tr>\n",
       "      <th>0</th>\n",
       "      <td>1442143079373365248</td>\n",
       "      <td>1302375645666848768</td>\n",
       "      <td>who needs messi ?</td>\n",
       "      <td>en</td>\n",
       "      <td>2021-09-26T15:04:38.000Z</td>\n",
       "      <td>Twitter for iPhone</td>\n",
       "      <td>-1</td>\n",
       "      <td>0</td>\n",
       "      <td>0</td>\n",
       "      <td>0</td>\n",
       "    </tr>\n",
       "    <tr>\n",
       "      <th>1</th>\n",
       "      <td>1442143071995457542</td>\n",
       "      <td>116969561</td>\n",
       "      <td>lionel messi ranked no. 2 in this year's li...</td>\n",
       "      <td>en</td>\n",
       "      <td>2021-09-26T15:04:36.000Z</td>\n",
       "      <td>Twitter for Android</td>\n",
       "      <td>-1</td>\n",
       "      <td>11</td>\n",
       "      <td>0</td>\n",
       "      <td>0</td>\n",
       "    </tr>\n",
       "    <tr>\n",
       "      <th>2</th>\n",
       "      <td>1442143058594652160</td>\n",
       "      <td>1296470104486612997</td>\n",
       "      <td>pele congratulates messi for breaking his r...</td>\n",
       "      <td>en</td>\n",
       "      <td>2021-09-26T15:04:33.000Z</td>\n",
       "      <td>Twitter Web App</td>\n",
       "      <td>-1</td>\n",
       "      <td>637</td>\n",
       "      <td>0</td>\n",
       "      <td>0</td>\n",
       "    </tr>\n",
       "    <tr>\n",
       "      <th>3</th>\n",
       "      <td>1442143054836678656</td>\n",
       "      <td>4083107893</td>\n",
       "      <td>psg have lost 0 (zero) games since they sig...</td>\n",
       "      <td>en</td>\n",
       "      <td>2021-09-26T15:04:32.000Z</td>\n",
       "      <td>Twitter for Android</td>\n",
       "      <td>-1</td>\n",
       "      <td>510</td>\n",
       "      <td>0</td>\n",
       "      <td>0</td>\n",
       "    </tr>\n",
       "    <tr>\n",
       "      <th>4</th>\n",
       "      <td>1442143052265664514</td>\n",
       "      <td>1248782697029406720</td>\n",
       "      <td>pele congratulates messi for breaking his r...</td>\n",
       "      <td>en</td>\n",
       "      <td>2021-09-26T15:04:32.000Z</td>\n",
       "      <td>Twitter for Android</td>\n",
       "      <td>-1</td>\n",
       "      <td>637</td>\n",
       "      <td>0</td>\n",
       "      <td>0</td>\n",
       "    </tr>\n",
       "  </tbody>\n",
       "</table>\n",
       "</div>"
      ],
      "text/plain": [
       "              tweet_id            author_id  \\\n",
       "0  1442143079373365248  1302375645666848768   \n",
       "1  1442143071995457542            116969561   \n",
       "2  1442143058594652160  1296470104486612997   \n",
       "3  1442143054836678656           4083107893   \n",
       "4  1442143052265664514  1248782697029406720   \n",
       "\n",
       "                                             content lang  \\\n",
       "0                                  who needs messi ?   en   \n",
       "1     lionel messi ranked no. 2 in this year's li...   en   \n",
       "2     pele congratulates messi for breaking his r...   en   \n",
       "3     psg have lost 0 (zero) games since they sig...   en   \n",
       "4     pele congratulates messi for breaking his r...   en   \n",
       "\n",
       "                       date               source geo  retweet_count  \\\n",
       "0  2021-09-26T15:04:38.000Z   Twitter for iPhone  -1              0   \n",
       "1  2021-09-26T15:04:36.000Z  Twitter for Android  -1             11   \n",
       "2  2021-09-26T15:04:33.000Z      Twitter Web App  -1            637   \n",
       "3  2021-09-26T15:04:32.000Z  Twitter for Android  -1            510   \n",
       "4  2021-09-26T15:04:32.000Z  Twitter for Android  -1            637   \n",
       "\n",
       "   like_count  quote_count  \n",
       "0           0            0  \n",
       "1           0            0  \n",
       "2           0            0  \n",
       "3           0            0  \n",
       "4           0            0  "
      ]
     },
     "execution_count": 16,
     "metadata": {},
     "output_type": "execute_result"
    }
   ],
   "source": [
    "dataset_messi.head(5)"
   ]
  },
  {
   "cell_type": "markdown",
   "id": "8d959d17",
   "metadata": {
    "papermill": {
     "duration": 0.041723,
     "end_time": "2021-09-29T05:44:11.683730",
     "exception": false,
     "start_time": "2021-09-29T05:44:11.642007",
     "status": "completed"
    },
    "tags": []
   },
   "source": [
    "### Check for non-english content"
   ]
  },
  {
   "cell_type": "code",
   "execution_count": 17,
   "id": "b609f109",
   "metadata": {
    "execution": {
     "iopub.execute_input": "2021-09-29T05:44:11.777349Z",
     "iopub.status.busy": "2021-09-29T05:44:11.776644Z",
     "iopub.status.idle": "2021-09-29T05:44:11.779360Z",
     "shell.execute_reply": "2021-09-29T05:44:11.779838Z",
     "shell.execute_reply.started": "2021-09-29T05:41:25.934608Z"
    },
    "papermill": {
     "duration": 0.054332,
     "end_time": "2021-09-29T05:44:11.780029",
     "exception": false,
     "start_time": "2021-09-29T05:44:11.725697",
     "status": "completed"
    },
    "tags": []
   },
   "outputs": [],
   "source": [
    "assert dataset_messi[\"lang\"].unique()==\"en\", \"Non-english content detected\""
   ]
  },
  {
   "cell_type": "markdown",
   "id": "c4e6b0b1",
   "metadata": {
    "papermill": {
     "duration": 0.041674,
     "end_time": "2021-09-29T05:44:11.863799",
     "exception": false,
     "start_time": "2021-09-29T05:44:11.822125",
     "status": "completed"
    },
    "tags": []
   },
   "source": [
    "> Test passed"
   ]
  },
  {
   "cell_type": "markdown",
   "id": "b2fe2b87",
   "metadata": {
    "papermill": {
     "duration": 0.042023,
     "end_time": "2021-09-29T05:44:11.948436",
     "exception": false,
     "start_time": "2021-09-29T05:44:11.906413",
     "status": "completed"
    },
    "tags": []
   },
   "source": [
    "## Ronaldo"
   ]
  },
  {
   "cell_type": "markdown",
   "id": "2afc9a83",
   "metadata": {
    "papermill": {
     "duration": 0.041738,
     "end_time": "2021-09-29T05:44:12.033580",
     "exception": false,
     "start_time": "2021-09-29T05:44:11.991842",
     "status": "completed"
    },
    "tags": []
   },
   "source": [
    "### Check for null values"
   ]
  },
  {
   "cell_type": "code",
   "execution_count": 18,
   "id": "4132563e",
   "metadata": {
    "execution": {
     "iopub.execute_input": "2021-09-29T05:44:12.141640Z",
     "iopub.status.busy": "2021-09-29T05:44:12.140966Z",
     "iopub.status.idle": "2021-09-29T05:44:12.148780Z",
     "shell.execute_reply": "2021-09-29T05:44:12.148255Z",
     "shell.execute_reply.started": "2021-09-29T05:41:27.513888Z"
    },
    "papermill": {
     "duration": 0.07341,
     "end_time": "2021-09-29T05:44:12.148919",
     "exception": false,
     "start_time": "2021-09-29T05:44:12.075509",
     "status": "completed"
    },
    "tags": []
   },
   "outputs": [
    {
     "data": {
      "text/plain": [
       "tweet_id             0\n",
       "author_id            0\n",
       "content              0\n",
       "lang                 0\n",
       "date                 0\n",
       "source               0\n",
       "geo              36879\n",
       "retweet_count        0\n",
       "like_count           0\n",
       "quote_count          0\n",
       "dtype: int64"
      ]
     },
     "execution_count": 18,
     "metadata": {},
     "output_type": "execute_result"
    }
   ],
   "source": [
    "dataset_ronaldo.isna().sum()"
   ]
  },
  {
   "cell_type": "markdown",
   "id": "611339a9",
   "metadata": {
    "papermill": {
     "duration": 0.042304,
     "end_time": "2021-09-29T05:44:12.234415",
     "exception": false,
     "start_time": "2021-09-29T05:44:12.192111",
     "status": "completed"
    },
    "tags": []
   },
   "source": [
    "### Percentage of null geo values"
   ]
  },
  {
   "cell_type": "code",
   "execution_count": 19,
   "id": "7646950a",
   "metadata": {
    "execution": {
     "iopub.execute_input": "2021-09-29T05:44:12.324350Z",
     "iopub.status.busy": "2021-09-29T05:44:12.323651Z",
     "iopub.status.idle": "2021-09-29T05:44:12.327796Z",
     "shell.execute_reply": "2021-09-29T05:44:12.327321Z",
     "shell.execute_reply.started": "2021-09-29T05:41:28.682043Z"
    },
    "papermill": {
     "duration": 0.051435,
     "end_time": "2021-09-29T05:44:12.327954",
     "exception": false,
     "start_time": "2021-09-29T05:44:12.276519",
     "status": "completed"
    },
    "tags": []
   },
   "outputs": [
    {
     "name": "stdout",
     "output_type": "stream",
     "text": [
      "Number of values: 37084\n"
     ]
    }
   ],
   "source": [
    "count = len(dataset_ronaldo.index)\n",
    "print(f\"Number of values: {count}\")"
   ]
  },
  {
   "cell_type": "code",
   "execution_count": 20,
   "id": "8b61cbcf",
   "metadata": {
    "execution": {
     "iopub.execute_input": "2021-09-29T05:44:12.437677Z",
     "iopub.status.busy": "2021-09-29T05:44:12.436631Z",
     "iopub.status.idle": "2021-09-29T05:44:12.443382Z",
     "shell.execute_reply": "2021-09-29T05:44:12.442787Z",
     "shell.execute_reply.started": "2021-09-29T05:41:28.844297Z"
    },
    "papermill": {
     "duration": 0.073023,
     "end_time": "2021-09-29T05:44:12.443520",
     "exception": false,
     "start_time": "2021-09-29T05:44:12.370497",
     "status": "completed"
    },
    "tags": []
   },
   "outputs": [
    {
     "name": "stdout",
     "output_type": "stream",
     "text": [
      "Percentage of null geo values: 99.45%\n"
     ]
    }
   ],
   "source": [
    "count_null = dataset_ronaldo.isna().sum()[\"geo\"]\n",
    "percentage = count_null * 100/count\n",
    "print(f\"Percentage of null geo values: {round(percentage,2)}%\")"
   ]
  },
  {
   "cell_type": "markdown",
   "id": "a7fbb49a",
   "metadata": {
    "papermill": {
     "duration": 0.042502,
     "end_time": "2021-09-29T05:44:12.528898",
     "exception": false,
     "start_time": "2021-09-29T05:44:12.486396",
     "status": "completed"
    },
    "tags": []
   },
   "source": [
    "### Assign the -1 id to null geo values"
   ]
  },
  {
   "cell_type": "code",
   "execution_count": 21,
   "id": "757d9a2a",
   "metadata": {
    "execution": {
     "iopub.execute_input": "2021-09-29T05:44:12.651088Z",
     "iopub.status.busy": "2021-09-29T05:44:12.620138Z",
     "iopub.status.idle": "2021-09-29T05:44:12.653704Z",
     "shell.execute_reply": "2021-09-29T05:44:12.653111Z",
     "shell.execute_reply.started": "2021-09-29T05:41:30.046206Z"
    },
    "papermill": {
     "duration": 0.082033,
     "end_time": "2021-09-29T05:44:12.653851",
     "exception": false,
     "start_time": "2021-09-29T05:44:12.571818",
     "status": "completed"
    },
    "tags": []
   },
   "outputs": [],
   "source": [
    "dataset_ronaldo.geo = dataset_ronaldo.geo.apply(lambda x: -1 if pd.isna(x) else x)"
   ]
  },
  {
   "cell_type": "markdown",
   "id": "4c116769",
   "metadata": {
    "papermill": {
     "duration": 0.042688,
     "end_time": "2021-09-29T05:44:12.739599",
     "exception": false,
     "start_time": "2021-09-29T05:44:12.696911",
     "status": "completed"
    },
    "tags": []
   },
   "source": [
    "#### Display results"
   ]
  },
  {
   "cell_type": "code",
   "execution_count": 22,
   "id": "0ab5198c",
   "metadata": {
    "execution": {
     "iopub.execute_input": "2021-09-29T05:44:12.834135Z",
     "iopub.status.busy": "2021-09-29T05:44:12.833115Z",
     "iopub.status.idle": "2021-09-29T05:44:12.837572Z",
     "shell.execute_reply": "2021-09-29T05:44:12.837031Z",
     "shell.execute_reply.started": "2021-09-29T05:41:31.521151Z"
    },
    "papermill": {
     "duration": 0.055252,
     "end_time": "2021-09-29T05:44:12.837723",
     "exception": false,
     "start_time": "2021-09-29T05:44:12.782471",
     "status": "completed"
    },
    "tags": []
   },
   "outputs": [
    {
     "data": {
      "text/plain": [
       "0    -1\n",
       "1    -1\n",
       "2    -1\n",
       "3    -1\n",
       "4    -1\n",
       "Name: geo, dtype: object"
      ]
     },
     "execution_count": 22,
     "metadata": {},
     "output_type": "execute_result"
    }
   ],
   "source": [
    "dataset_ronaldo[\"geo\"].head(5)"
   ]
  },
  {
   "cell_type": "code",
   "execution_count": 23,
   "id": "43e132f8",
   "metadata": {
    "execution": {
     "iopub.execute_input": "2021-09-29T05:44:12.932241Z",
     "iopub.status.busy": "2021-09-29T05:44:12.931490Z",
     "iopub.status.idle": "2021-09-29T05:44:12.934204Z",
     "shell.execute_reply": "2021-09-29T05:44:12.934673Z",
     "shell.execute_reply.started": "2021-09-29T05:41:31.681500Z"
    },
    "papermill": {
     "duration": 0.053776,
     "end_time": "2021-09-29T05:44:12.934853",
     "exception": false,
     "start_time": "2021-09-29T05:44:12.881077",
     "status": "completed"
    },
    "tags": []
   },
   "outputs": [
    {
     "data": {
      "text/plain": [
       "array([-1, '00611f1548c7bdef', 'd91084e084c8fc53', '00817d75276a95cf',\n",
       "       'ade6e91af3b145c7'], dtype=object)"
      ]
     },
     "execution_count": 23,
     "metadata": {},
     "output_type": "execute_result"
    }
   ],
   "source": [
    "dataset_ronaldo[\"geo\"].unique()[0:5]"
   ]
  },
  {
   "cell_type": "markdown",
   "id": "1d92f19b",
   "metadata": {
    "papermill": {
     "duration": 0.043241,
     "end_time": "2021-09-29T05:44:13.021893",
     "exception": false,
     "start_time": "2021-09-29T05:44:12.978652",
     "status": "completed"
    },
    "tags": []
   },
   "source": [
    "### Clean tweets : remove mentions, links and extra spaces"
   ]
  },
  {
   "cell_type": "markdown",
   "id": "3ee2715e",
   "metadata": {
    "papermill": {
     "duration": 0.043564,
     "end_time": "2021-09-29T05:44:13.108978",
     "exception": false,
     "start_time": "2021-09-29T05:44:13.065414",
     "status": "completed"
    },
    "tags": []
   },
   "source": [
    "#### Regex"
   ]
  },
  {
   "cell_type": "markdown",
   "id": "d4daf8c5",
   "metadata": {
    "papermill": {
     "duration": 0.044106,
     "end_time": "2021-09-29T05:44:13.196815",
     "exception": false,
     "start_time": "2021-09-29T05:44:13.152709",
     "status": "completed"
    },
    "tags": []
   },
   "source": [
    "#### Applying the regex"
   ]
  },
  {
   "cell_type": "code",
   "execution_count": 24,
   "id": "7e308507",
   "metadata": {
    "execution": {
     "iopub.execute_input": "2021-09-29T05:44:13.287475Z",
     "iopub.status.busy": "2021-09-29T05:44:13.286811Z",
     "iopub.status.idle": "2021-09-29T05:44:13.596162Z",
     "shell.execute_reply": "2021-09-29T05:44:13.596647Z",
     "shell.execute_reply.started": "2021-09-29T05:41:33.964953Z"
    },
    "papermill": {
     "duration": 0.356367,
     "end_time": "2021-09-29T05:44:13.596858",
     "exception": false,
     "start_time": "2021-09-29T05:44:13.240491",
     "status": "completed"
    },
    "tags": []
   },
   "outputs": [],
   "source": [
    "dataset_ronaldo.content = dataset_ronaldo.content.apply(lambda x: re.sub(regex, ' ', str(x).lower()).strip())\n",
    "dataset_ronaldo.content = dataset_ronaldo.content.apply(lambda x: x.replace(\"rt\", \"\", 1)) # Remove the \"RT\" tag"
   ]
  },
  {
   "cell_type": "code",
   "execution_count": 25,
   "id": "6e6e8c46",
   "metadata": {
    "execution": {
     "iopub.execute_input": "2021-09-29T05:44:13.687530Z",
     "iopub.status.busy": "2021-09-29T05:44:13.686839Z",
     "iopub.status.idle": "2021-09-29T05:44:13.750634Z",
     "shell.execute_reply": "2021-09-29T05:44:13.751153Z",
     "shell.execute_reply.started": "2021-09-29T05:41:35.069972Z"
    },
    "papermill": {
     "duration": 0.110641,
     "end_time": "2021-09-29T05:44:13.751345",
     "exception": false,
     "start_time": "2021-09-29T05:44:13.640704",
     "status": "completed"
    },
    "tags": []
   },
   "outputs": [],
   "source": [
    "dataset_ronaldo.content = dataset_ronaldo.content.apply(lambda x: x.replace(\"_\",\"\")) # Remove the \"_\" \n",
    "dataset_ronaldo.content = dataset_ronaldo.content.apply(lambda x: x.replace(\":\",\"\")) # Remove the \":\" "
   ]
  },
  {
   "cell_type": "code",
   "execution_count": 26,
   "id": "0978c56b",
   "metadata": {
    "execution": {
     "iopub.execute_input": "2021-09-29T05:44:13.841913Z",
     "iopub.status.busy": "2021-09-29T05:44:13.841279Z",
     "iopub.status.idle": "2021-09-29T05:44:13.894299Z",
     "shell.execute_reply": "2021-09-29T05:44:13.893717Z",
     "shell.execute_reply.started": "2021-09-29T05:41:49.470408Z"
    },
    "papermill": {
     "duration": 0.099315,
     "end_time": "2021-09-29T05:44:13.894459",
     "exception": false,
     "start_time": "2021-09-29T05:44:13.795144",
     "status": "completed"
    },
    "tags": []
   },
   "outputs": [],
   "source": [
    "dataset_ronaldo.content = dataset_ronaldo.content.apply(lambda x: to_ascii(x)) # Remove the emojis "
   ]
  },
  {
   "cell_type": "markdown",
   "id": "2f99c2ce",
   "metadata": {
    "papermill": {
     "duration": 0.043914,
     "end_time": "2021-09-29T05:44:13.982181",
     "exception": false,
     "start_time": "2021-09-29T05:44:13.938267",
     "status": "completed"
    },
    "tags": []
   },
   "source": [
    "#### Display results"
   ]
  },
  {
   "cell_type": "code",
   "execution_count": 27,
   "id": "c49ef550",
   "metadata": {
    "execution": {
     "iopub.execute_input": "2021-09-29T05:44:14.085327Z",
     "iopub.status.busy": "2021-09-29T05:44:14.084421Z",
     "iopub.status.idle": "2021-09-29T05:44:14.087952Z",
     "shell.execute_reply": "2021-09-29T05:44:14.088459Z",
     "shell.execute_reply.started": "2021-09-29T05:41:50.849089Z"
    },
    "papermill": {
     "duration": 0.06198,
     "end_time": "2021-09-29T05:44:14.088636",
     "exception": false,
     "start_time": "2021-09-29T05:44:14.026656",
     "status": "completed"
    },
    "tags": []
   },
   "outputs": [
    {
     "data": {
      "text/html": [
       "<div>\n",
       "<style scoped>\n",
       "    .dataframe tbody tr th:only-of-type {\n",
       "        vertical-align: middle;\n",
       "    }\n",
       "\n",
       "    .dataframe tbody tr th {\n",
       "        vertical-align: top;\n",
       "    }\n",
       "\n",
       "    .dataframe thead th {\n",
       "        text-align: right;\n",
       "    }\n",
       "</style>\n",
       "<table border=\"1\" class=\"dataframe\">\n",
       "  <thead>\n",
       "    <tr style=\"text-align: right;\">\n",
       "      <th></th>\n",
       "      <th>tweet_id</th>\n",
       "      <th>author_id</th>\n",
       "      <th>content</th>\n",
       "      <th>lang</th>\n",
       "      <th>date</th>\n",
       "      <th>source</th>\n",
       "      <th>geo</th>\n",
       "      <th>retweet_count</th>\n",
       "      <th>like_count</th>\n",
       "      <th>quote_count</th>\n",
       "    </tr>\n",
       "  </thead>\n",
       "  <tbody>\n",
       "    <tr>\n",
       "      <th>0</th>\n",
       "      <td>1442216040629514241</td>\n",
       "      <td>1395557892779122694</td>\n",
       "      <td>ronaldo was offside</td>\n",
       "      <td>en</td>\n",
       "      <td>2021-09-26T19:54:33.000Z</td>\n",
       "      <td>Twitter Web App</td>\n",
       "      <td>-1</td>\n",
       "      <td>0</td>\n",
       "      <td>1</td>\n",
       "      <td>0</td>\n",
       "    </tr>\n",
       "    <tr>\n",
       "      <th>1</th>\n",
       "      <td>1442216031792074755</td>\n",
       "      <td>1176842712420630530</td>\n",
       "      <td>tweet  the most effective trios over a seaso...</td>\n",
       "      <td>en</td>\n",
       "      <td>2021-09-26T19:54:31.000Z</td>\n",
       "      <td>Twitter for Android</td>\n",
       "      <td>-1</td>\n",
       "      <td>18</td>\n",
       "      <td>0</td>\n",
       "      <td>0</td>\n",
       "    </tr>\n",
       "    <tr>\n",
       "      <th>2</th>\n",
       "      <td>1442216026456748036</td>\n",
       "      <td>2385664598</td>\n",
       "      <td>ronaldo jr the only footballer to score a goal...</td>\n",
       "      <td>en</td>\n",
       "      <td>2021-09-26T19:54:30.000Z</td>\n",
       "      <td>Twitter for iPhone</td>\n",
       "      <td>-1</td>\n",
       "      <td>0</td>\n",
       "      <td>0</td>\n",
       "      <td>0</td>\n",
       "    </tr>\n",
       "    <tr>\n",
       "      <th>3</th>\n",
       "      <td>1442216002197016578</td>\n",
       "      <td>1142495555790299138</td>\n",
       "      <td>perfect weekend for barca fans and for me p...</td>\n",
       "      <td>en</td>\n",
       "      <td>2021-09-26T19:54:24.000Z</td>\n",
       "      <td>Twitter for iPhone</td>\n",
       "      <td>-1</td>\n",
       "      <td>571</td>\n",
       "      <td>0</td>\n",
       "      <td>0</td>\n",
       "    </tr>\n",
       "    <tr>\n",
       "      <th>4</th>\n",
       "      <td>1442215992344596488</td>\n",
       "      <td>793153149066481664</td>\n",
       "      <td>no way ansu fati has more goals outside the...</td>\n",
       "      <td>en</td>\n",
       "      <td>2021-09-26T19:54:22.000Z</td>\n",
       "      <td>Twitter for iPhone</td>\n",
       "      <td>-1</td>\n",
       "      <td>106</td>\n",
       "      <td>0</td>\n",
       "      <td>0</td>\n",
       "    </tr>\n",
       "  </tbody>\n",
       "</table>\n",
       "</div>"
      ],
      "text/plain": [
       "              tweet_id            author_id  \\\n",
       "0  1442216040629514241  1395557892779122694   \n",
       "1  1442216031792074755  1176842712420630530   \n",
       "2  1442216026456748036           2385664598   \n",
       "3  1442216002197016578  1142495555790299138   \n",
       "4  1442215992344596488   793153149066481664   \n",
       "\n",
       "                                             content lang  \\\n",
       "0                                ronaldo was offside   en   \n",
       "1    tweet  the most effective trios over a seaso...   en   \n",
       "2  ronaldo jr the only footballer to score a goal...   en   \n",
       "3     perfect weekend for barca fans and for me p...   en   \n",
       "4     no way ansu fati has more goals outside the...   en   \n",
       "\n",
       "                       date               source geo  retweet_count  \\\n",
       "0  2021-09-26T19:54:33.000Z      Twitter Web App  -1              0   \n",
       "1  2021-09-26T19:54:31.000Z  Twitter for Android  -1             18   \n",
       "2  2021-09-26T19:54:30.000Z   Twitter for iPhone  -1              0   \n",
       "3  2021-09-26T19:54:24.000Z   Twitter for iPhone  -1            571   \n",
       "4  2021-09-26T19:54:22.000Z   Twitter for iPhone  -1            106   \n",
       "\n",
       "   like_count  quote_count  \n",
       "0           1            0  \n",
       "1           0            0  \n",
       "2           0            0  \n",
       "3           0            0  \n",
       "4           0            0  "
      ]
     },
     "execution_count": 27,
     "metadata": {},
     "output_type": "execute_result"
    }
   ],
   "source": [
    "dataset_ronaldo.head(5)"
   ]
  },
  {
   "cell_type": "markdown",
   "id": "83a7ec64",
   "metadata": {
    "papermill": {
     "duration": 0.044353,
     "end_time": "2021-09-29T05:44:14.177595",
     "exception": false,
     "start_time": "2021-09-29T05:44:14.133242",
     "status": "completed"
    },
    "tags": []
   },
   "source": [
    "### Check for non-english content"
   ]
  },
  {
   "cell_type": "code",
   "execution_count": 28,
   "id": "c5d06e1a",
   "metadata": {
    "execution": {
     "iopub.execute_input": "2021-09-29T05:44:14.275378Z",
     "iopub.status.busy": "2021-09-29T05:44:14.274418Z",
     "iopub.status.idle": "2021-09-29T05:44:14.277311Z",
     "shell.execute_reply": "2021-09-29T05:44:14.276753Z",
     "shell.execute_reply.started": "2021-09-29T05:41:54.379432Z"
    },
    "papermill": {
     "duration": 0.05462,
     "end_time": "2021-09-29T05:44:14.277454",
     "exception": false,
     "start_time": "2021-09-29T05:44:14.222834",
     "status": "completed"
    },
    "tags": []
   },
   "outputs": [],
   "source": [
    "assert dataset_ronaldo[\"lang\"].unique()==\"en\", \"Non-english content detected\""
   ]
  },
  {
   "cell_type": "markdown",
   "id": "e95ff3ca",
   "metadata": {
    "papermill": {
     "duration": 0.043757,
     "end_time": "2021-09-29T05:44:14.365605",
     "exception": false,
     "start_time": "2021-09-29T05:44:14.321848",
     "status": "completed"
    },
    "tags": []
   },
   "source": [
    "```\n",
    "Test passed\n",
    "```"
   ]
  },
  {
   "cell_type": "markdown",
   "id": "e627ad26",
   "metadata": {
    "papermill": {
     "duration": 0.044806,
     "end_time": "2021-09-29T05:44:14.454441",
     "exception": false,
     "start_time": "2021-09-29T05:44:14.409635",
     "status": "completed"
    },
    "tags": []
   },
   "source": [
    "# Save the cleaned datasets"
   ]
  },
  {
   "cell_type": "markdown",
   "id": "33a5175d",
   "metadata": {
    "papermill": {
     "duration": 0.043943,
     "end_time": "2021-09-29T05:44:14.542806",
     "exception": false,
     "start_time": "2021-09-29T05:44:14.498863",
     "status": "completed"
    },
    "tags": []
   },
   "source": [
    "## Messi "
   ]
  },
  {
   "cell_type": "code",
   "execution_count": 29,
   "id": "7b6782e5",
   "metadata": {
    "execution": {
     "iopub.execute_input": "2021-09-29T05:44:14.638241Z",
     "iopub.status.busy": "2021-09-29T05:44:14.637528Z",
     "iopub.status.idle": "2021-09-29T05:44:15.038120Z",
     "shell.execute_reply": "2021-09-29T05:44:15.038610Z",
     "shell.execute_reply.started": "2021-09-29T05:41:56.642521Z"
    },
    "papermill": {
     "duration": 0.450712,
     "end_time": "2021-09-29T05:44:15.038803",
     "exception": false,
     "start_time": "2021-09-29T05:44:14.588091",
     "status": "completed"
    },
    "tags": []
   },
   "outputs": [],
   "source": [
    "dataset_messi.to_csv(\"Cleaned_messi_tweets.csv\", index=False)"
   ]
  },
  {
   "cell_type": "markdown",
   "id": "b49c23cd",
   "metadata": {
    "papermill": {
     "duration": 0.043678,
     "end_time": "2021-09-29T05:44:15.126847",
     "exception": false,
     "start_time": "2021-09-29T05:44:15.083169",
     "status": "completed"
    },
    "tags": []
   },
   "source": [
    "## Ronaldo"
   ]
  },
  {
   "cell_type": "code",
   "execution_count": 30,
   "id": "47021b40",
   "metadata": {
    "execution": {
     "iopub.execute_input": "2021-09-29T05:44:15.219336Z",
     "iopub.status.busy": "2021-09-29T05:44:15.218674Z",
     "iopub.status.idle": "2021-09-29T05:44:15.636972Z",
     "shell.execute_reply": "2021-09-29T05:44:15.636395Z",
     "shell.execute_reply.started": "2021-09-29T05:41:59.151100Z"
    },
    "papermill": {
     "duration": 0.46616,
     "end_time": "2021-09-29T05:44:15.637126",
     "exception": false,
     "start_time": "2021-09-29T05:44:15.170966",
     "status": "completed"
    },
    "tags": []
   },
   "outputs": [],
   "source": [
    "dataset_ronaldo.to_csv(\"Cleaned_ronaldo_tweets.csv\",index=False)"
   ]
  }
 ],
 "metadata": {
  "kernelspec": {
   "display_name": "Python 3",
   "language": "python",
   "name": "python3"
  },
  "language_info": {
   "codemirror_mode": {
    "name": "ipython",
    "version": 3
   },
   "file_extension": ".py",
   "mimetype": "text/x-python",
   "name": "python",
   "nbconvert_exporter": "python",
   "pygments_lexer": "ipython3",
   "version": "3.7.10"
  },
  "papermill": {
   "default_parameters": {},
   "duration": 17.993778,
   "end_time": "2021-09-29T05:44:17.210541",
   "environment_variables": {},
   "exception": null,
   "input_path": "__notebook__.ipynb",
   "output_path": "__notebook__.ipynb",
   "parameters": {},
   "start_time": "2021-09-29T05:43:59.216763",
   "version": "2.3.3"
  }
 },
 "nbformat": 4,
 "nbformat_minor": 5
}
