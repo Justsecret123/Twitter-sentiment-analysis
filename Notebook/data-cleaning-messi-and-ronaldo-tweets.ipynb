{
 "cells": [
  {
   "cell_type": "markdown",
   "id": "c1aadefe",
   "metadata": {
    "papermill": {
     "duration": 0.030599,
     "end_time": "2021-09-26T20:55:19.805467",
     "exception": false,
     "start_time": "2021-09-26T20:55:19.774868",
     "status": "completed"
    },
    "tags": []
   },
   "source": [
    "# Libraries"
   ]
  },
  {
   "cell_type": "code",
   "execution_count": 1,
   "id": "0bab3494",
   "metadata": {
    "execution": {
     "iopub.execute_input": "2021-09-26T20:55:19.886374Z",
     "iopub.status.busy": "2021-09-26T20:55:19.884842Z",
     "iopub.status.idle": "2021-09-26T20:55:19.894277Z",
     "shell.execute_reply": "2021-09-26T20:55:19.893400Z",
     "shell.execute_reply.started": "2021-09-26T20:54:36.905802Z"
    },
    "papermill": {
     "duration": 0.051987,
     "end_time": "2021-09-26T20:55:19.894500",
     "exception": false,
     "start_time": "2021-09-26T20:55:19.842513",
     "status": "completed"
    },
    "tags": []
   },
   "outputs": [],
   "source": [
    "import os\n",
    "import pandas as pd\n",
    "import numpy as np\n",
    "import re"
   ]
  },
  {
   "cell_type": "markdown",
   "id": "79c47d7b",
   "metadata": {
    "papermill": {
     "duration": 0.025476,
     "end_time": "2021-09-26T20:55:19.952407",
     "exception": false,
     "start_time": "2021-09-26T20:55:19.926931",
     "status": "completed"
    },
    "tags": []
   },
   "source": [
    "# Files"
   ]
  },
  {
   "cell_type": "markdown",
   "id": "e0c07a0e",
   "metadata": {
    "papermill": {
     "duration": 0.031353,
     "end_time": "2021-09-26T20:55:20.009624",
     "exception": false,
     "start_time": "2021-09-26T20:55:19.978271",
     "status": "completed"
    },
    "tags": []
   },
   "source": [
    "## Dataset donwload"
   ]
  },
  {
   "cell_type": "code",
   "execution_count": 2,
   "id": "d9a63b05",
   "metadata": {
    "execution": {
     "iopub.execute_input": "2021-09-26T20:55:20.072372Z",
     "iopub.status.busy": "2021-09-26T20:55:20.071405Z",
     "iopub.status.idle": "2021-09-26T20:55:20.498750Z",
     "shell.execute_reply": "2021-09-26T20:55:20.498219Z",
     "shell.execute_reply.started": "2021-09-26T20:38:46.423651Z"
    },
    "papermill": {
     "duration": 0.459384,
     "end_time": "2021-09-26T20:55:20.498922",
     "exception": false,
     "start_time": "2021-09-26T20:55:20.039538",
     "status": "completed"
    },
    "tags": []
   },
   "outputs": [],
   "source": [
    "dataset_messi = pd.read_csv(\"/kaggle/input/twitter-sentiment-analysis-and-word-embeddings/messi_tweets.csv\", encoding=\"latin\")\n",
    "dataset_ronaldo = pd.read_csv(\"/kaggle/input/twitter-sentiment-analysis-and-word-embeddings/ronaldo_tweets.csv\", encoding=\"latin\")"
   ]
  },
  {
   "cell_type": "markdown",
   "id": "6b9f434d",
   "metadata": {
    "papermill": {
     "duration": 0.025778,
     "end_time": "2021-09-26T20:55:20.550610",
     "exception": false,
     "start_time": "2021-09-26T20:55:20.524832",
     "status": "completed"
    },
    "tags": []
   },
   "source": [
    "## Show some examples"
   ]
  },
  {
   "cell_type": "markdown",
   "id": "55461a5f",
   "metadata": {
    "papermill": {
     "duration": 0.025735,
     "end_time": "2021-09-26T20:55:20.602395",
     "exception": false,
     "start_time": "2021-09-26T20:55:20.576660",
     "status": "completed"
    },
    "tags": []
   },
   "source": [
    "## Messi"
   ]
  },
  {
   "cell_type": "code",
   "execution_count": 3,
   "id": "81159532",
   "metadata": {
    "execution": {
     "iopub.execute_input": "2021-09-26T20:55:20.661505Z",
     "iopub.status.busy": "2021-09-26T20:55:20.660584Z",
     "iopub.status.idle": "2021-09-26T20:55:20.680915Z",
     "shell.execute_reply": "2021-09-26T20:55:20.681368Z",
     "shell.execute_reply.started": "2021-09-26T20:38:46.880826Z"
    },
    "papermill": {
     "duration": 0.052477,
     "end_time": "2021-09-26T20:55:20.681528",
     "exception": false,
     "start_time": "2021-09-26T20:55:20.629051",
     "status": "completed"
    },
    "tags": []
   },
   "outputs": [
    {
     "data": {
      "text/html": [
       "<div>\n",
       "<style scoped>\n",
       "    .dataframe tbody tr th:only-of-type {\n",
       "        vertical-align: middle;\n",
       "    }\n",
       "\n",
       "    .dataframe tbody tr th {\n",
       "        vertical-align: top;\n",
       "    }\n",
       "\n",
       "    .dataframe thead th {\n",
       "        text-align: right;\n",
       "    }\n",
       "</style>\n",
       "<table border=\"1\" class=\"dataframe\">\n",
       "  <thead>\n",
       "    <tr style=\"text-align: right;\">\n",
       "      <th></th>\n",
       "      <th>tweet_id</th>\n",
       "      <th>author_id</th>\n",
       "      <th>content</th>\n",
       "      <th>lang</th>\n",
       "      <th>date</th>\n",
       "      <th>source</th>\n",
       "      <th>geo</th>\n",
       "      <th>retweet_count</th>\n",
       "      <th>like_count</th>\n",
       "      <th>quote_count</th>\n",
       "    </tr>\n",
       "  </thead>\n",
       "  <tbody>\n",
       "    <tr>\n",
       "      <th>0</th>\n",
       "      <td>1442143079373365248</td>\n",
       "      <td>1302375645666848768</td>\n",
       "      <td>@moh19si_ Who needs Messi ?</td>\n",
       "      <td>en</td>\n",
       "      <td>2021-09-26T15:04:38.000Z</td>\n",
       "      <td>Twitter for iPhone</td>\n",
       "      <td>NaN</td>\n",
       "      <td>0</td>\n",
       "      <td>0</td>\n",
       "      <td>0</td>\n",
       "    </tr>\n",
       "    <tr>\n",
       "      <th>1</th>\n",
       "      <td>1442143071995457542</td>\n",
       "      <td>116969561</td>\n",
       "      <td>RT @Forbes: Lionel Messi ranked No. 2 in this ...</td>\n",
       "      <td>en</td>\n",
       "      <td>2021-09-26T15:04:36.000Z</td>\n",
       "      <td>Twitter for Android</td>\n",
       "      <td>NaN</td>\n",
       "      <td>11</td>\n",
       "      <td>0</td>\n",
       "      <td>0</td>\n",
       "    </tr>\n",
       "    <tr>\n",
       "      <th>2</th>\n",
       "      <td>1442143058594652160</td>\n",
       "      <td>1296470104486612997</td>\n",
       "      <td>RT @ESPNFC: Pele congratulates Messi for break...</td>\n",
       "      <td>en</td>\n",
       "      <td>2021-09-26T15:04:33.000Z</td>\n",
       "      <td>Twitter Web App</td>\n",
       "      <td>NaN</td>\n",
       "      <td>637</td>\n",
       "      <td>0</td>\n",
       "      <td>0</td>\n",
       "    </tr>\n",
       "    <tr>\n",
       "      <th>3</th>\n",
       "      <td>1442143054836678656</td>\n",
       "      <td>4083107893</td>\n",
       "      <td>RT @CrewsMat10: PSG have lost 0 (ZERO) games s...</td>\n",
       "      <td>en</td>\n",
       "      <td>2021-09-26T15:04:32.000Z</td>\n",
       "      <td>Twitter for Android</td>\n",
       "      <td>NaN</td>\n",
       "      <td>510</td>\n",
       "      <td>0</td>\n",
       "      <td>0</td>\n",
       "    </tr>\n",
       "    <tr>\n",
       "      <th>4</th>\n",
       "      <td>1442143052265664514</td>\n",
       "      <td>1248782697029406720</td>\n",
       "      <td>RT @ESPNFC: Pele congratulates Messi for break...</td>\n",
       "      <td>en</td>\n",
       "      <td>2021-09-26T15:04:32.000Z</td>\n",
       "      <td>Twitter for Android</td>\n",
       "      <td>NaN</td>\n",
       "      <td>637</td>\n",
       "      <td>0</td>\n",
       "      <td>0</td>\n",
       "    </tr>\n",
       "  </tbody>\n",
       "</table>\n",
       "</div>"
      ],
      "text/plain": [
       "              tweet_id            author_id  \\\n",
       "0  1442143079373365248  1302375645666848768   \n",
       "1  1442143071995457542            116969561   \n",
       "2  1442143058594652160  1296470104486612997   \n",
       "3  1442143054836678656           4083107893   \n",
       "4  1442143052265664514  1248782697029406720   \n",
       "\n",
       "                                             content lang  \\\n",
       "0                        @moh19si_ Who needs Messi ?   en   \n",
       "1  RT @Forbes: Lionel Messi ranked No. 2 in this ...   en   \n",
       "2  RT @ESPNFC: Pele congratulates Messi for break...   en   \n",
       "3  RT @CrewsMat10: PSG have lost 0 (ZERO) games s...   en   \n",
       "4  RT @ESPNFC: Pele congratulates Messi for break...   en   \n",
       "\n",
       "                       date               source  geo  retweet_count  \\\n",
       "0  2021-09-26T15:04:38.000Z   Twitter for iPhone  NaN              0   \n",
       "1  2021-09-26T15:04:36.000Z  Twitter for Android  NaN             11   \n",
       "2  2021-09-26T15:04:33.000Z      Twitter Web App  NaN            637   \n",
       "3  2021-09-26T15:04:32.000Z  Twitter for Android  NaN            510   \n",
       "4  2021-09-26T15:04:32.000Z  Twitter for Android  NaN            637   \n",
       "\n",
       "   like_count  quote_count  \n",
       "0           0            0  \n",
       "1           0            0  \n",
       "2           0            0  \n",
       "3           0            0  \n",
       "4           0            0  "
      ]
     },
     "execution_count": 3,
     "metadata": {},
     "output_type": "execute_result"
    }
   ],
   "source": [
    "dataset_messi.head(5)"
   ]
  },
  {
   "cell_type": "markdown",
   "id": "6f13d0c0",
   "metadata": {
    "papermill": {
     "duration": 0.026422,
     "end_time": "2021-09-26T20:55:20.734983",
     "exception": false,
     "start_time": "2021-09-26T20:55:20.708561",
     "status": "completed"
    },
    "tags": []
   },
   "source": [
    "## Ronaldo"
   ]
  },
  {
   "cell_type": "code",
   "execution_count": 4,
   "id": "f74a21b9",
   "metadata": {
    "execution": {
     "iopub.execute_input": "2021-09-26T20:55:20.801758Z",
     "iopub.status.busy": "2021-09-26T20:55:20.801003Z",
     "iopub.status.idle": "2021-09-26T20:55:20.804020Z",
     "shell.execute_reply": "2021-09-26T20:55:20.804554Z",
     "shell.execute_reply.started": "2021-09-26T20:38:46.908291Z"
    },
    "papermill": {
     "duration": 0.04307,
     "end_time": "2021-09-26T20:55:20.804709",
     "exception": false,
     "start_time": "2021-09-26T20:55:20.761639",
     "status": "completed"
    },
    "tags": []
   },
   "outputs": [
    {
     "data": {
      "text/html": [
       "<div>\n",
       "<style scoped>\n",
       "    .dataframe tbody tr th:only-of-type {\n",
       "        vertical-align: middle;\n",
       "    }\n",
       "\n",
       "    .dataframe tbody tr th {\n",
       "        vertical-align: top;\n",
       "    }\n",
       "\n",
       "    .dataframe thead th {\n",
       "        text-align: right;\n",
       "    }\n",
       "</style>\n",
       "<table border=\"1\" class=\"dataframe\">\n",
       "  <thead>\n",
       "    <tr style=\"text-align: right;\">\n",
       "      <th></th>\n",
       "      <th>tweet_id</th>\n",
       "      <th>author_id</th>\n",
       "      <th>content</th>\n",
       "      <th>lang</th>\n",
       "      <th>date</th>\n",
       "      <th>source</th>\n",
       "      <th>geo</th>\n",
       "      <th>retweet_count</th>\n",
       "      <th>like_count</th>\n",
       "      <th>quote_count</th>\n",
       "    </tr>\n",
       "  </thead>\n",
       "  <tbody>\n",
       "    <tr>\n",
       "      <th>0</th>\n",
       "      <td>1442216040629514241</td>\n",
       "      <td>1395557892779122694</td>\n",
       "      <td>@AdusLP ronaldo was offside</td>\n",
       "      <td>en</td>\n",
       "      <td>2021-09-26T19:54:33.000Z</td>\n",
       "      <td>Twitter Web App</td>\n",
       "      <td>NaN</td>\n",
       "      <td>0</td>\n",
       "      <td>1</td>\n",
       "      <td>0</td>\n",
       "    </tr>\n",
       "    <tr>\n",
       "      <th>1</th>\n",
       "      <td>1442216031792074755</td>\n",
       "      <td>1176842712420630530</td>\n",
       "      <td>RT @Football__Tweet: ð½ The most effective t...</td>\n",
       "      <td>en</td>\n",
       "      <td>2021-09-26T19:54:31.000Z</td>\n",
       "      <td>Twitter for Android</td>\n",
       "      <td>NaN</td>\n",
       "      <td>18</td>\n",
       "      <td>0</td>\n",
       "      <td>0</td>\n",
       "    </tr>\n",
       "    <tr>\n",
       "      <th>2</th>\n",
       "      <td>1442216026456748036</td>\n",
       "      <td>2385664598</td>\n",
       "      <td>Ronaldo JR the only footballer to score a goal...</td>\n",
       "      <td>en</td>\n",
       "      <td>2021-09-26T19:54:30.000Z</td>\n",
       "      <td>Twitter for iPhone</td>\n",
       "      <td>NaN</td>\n",
       "      <td>0</td>\n",
       "      <td>0</td>\n",
       "      <td>0</td>\n",
       "    </tr>\n",
       "    <tr>\n",
       "      <th>3</th>\n",
       "      <td>1442216002197016578</td>\n",
       "      <td>1142495555790299138</td>\n",
       "      <td>RT @EdmundOris: Perfect weekend for Barca fans...</td>\n",
       "      <td>en</td>\n",
       "      <td>2021-09-26T19:54:24.000Z</td>\n",
       "      <td>Twitter for iPhone</td>\n",
       "      <td>NaN</td>\n",
       "      <td>571</td>\n",
       "      <td>0</td>\n",
       "      <td>0</td>\n",
       "    </tr>\n",
       "    <tr>\n",
       "      <th>4</th>\n",
       "      <td>1442215992344596488</td>\n",
       "      <td>793153149066481664</td>\n",
       "      <td>RT @EfoEtornam: No way Ansu Fati has more goal...</td>\n",
       "      <td>en</td>\n",
       "      <td>2021-09-26T19:54:22.000Z</td>\n",
       "      <td>Twitter for iPhone</td>\n",
       "      <td>NaN</td>\n",
       "      <td>106</td>\n",
       "      <td>0</td>\n",
       "      <td>0</td>\n",
       "    </tr>\n",
       "  </tbody>\n",
       "</table>\n",
       "</div>"
      ],
      "text/plain": [
       "              tweet_id            author_id  \\\n",
       "0  1442216040629514241  1395557892779122694   \n",
       "1  1442216031792074755  1176842712420630530   \n",
       "2  1442216026456748036           2385664598   \n",
       "3  1442216002197016578  1142495555790299138   \n",
       "4  1442215992344596488   793153149066481664   \n",
       "\n",
       "                                             content lang  \\\n",
       "0                        @AdusLP ronaldo was offside   en   \n",
       "1  RT @Football__Tweet: ð½ The most effective t...   en   \n",
       "2  Ronaldo JR the only footballer to score a goal...   en   \n",
       "3  RT @EdmundOris: Perfect weekend for Barca fans...   en   \n",
       "4  RT @EfoEtornam: No way Ansu Fati has more goal...   en   \n",
       "\n",
       "                       date               source  geo  retweet_count  \\\n",
       "0  2021-09-26T19:54:33.000Z      Twitter Web App  NaN              0   \n",
       "1  2021-09-26T19:54:31.000Z  Twitter for Android  NaN             18   \n",
       "2  2021-09-26T19:54:30.000Z   Twitter for iPhone  NaN              0   \n",
       "3  2021-09-26T19:54:24.000Z   Twitter for iPhone  NaN            571   \n",
       "4  2021-09-26T19:54:22.000Z   Twitter for iPhone  NaN            106   \n",
       "\n",
       "   like_count  quote_count  \n",
       "0           1            0  \n",
       "1           0            0  \n",
       "2           0            0  \n",
       "3           0            0  \n",
       "4           0            0  "
      ]
     },
     "execution_count": 4,
     "metadata": {},
     "output_type": "execute_result"
    }
   ],
   "source": [
    "dataset_ronaldo.head(5)"
   ]
  },
  {
   "cell_type": "markdown",
   "id": "8022b21a",
   "metadata": {
    "papermill": {
     "duration": 0.026471,
     "end_time": "2021-09-26T20:55:20.858054",
     "exception": false,
     "start_time": "2021-09-26T20:55:20.831583",
     "status": "completed"
    },
    "tags": []
   },
   "source": [
    "# Data cleaning"
   ]
  },
  {
   "cell_type": "markdown",
   "id": "cb799d10",
   "metadata": {
    "papermill": {
     "duration": 0.026705,
     "end_time": "2021-09-26T20:55:20.911249",
     "exception": false,
     "start_time": "2021-09-26T20:55:20.884544",
     "status": "completed"
    },
    "tags": []
   },
   "source": [
    "## Messi"
   ]
  },
  {
   "cell_type": "markdown",
   "id": "da94970f",
   "metadata": {
    "papermill": {
     "duration": 0.026949,
     "end_time": "2021-09-26T20:55:20.965266",
     "exception": false,
     "start_time": "2021-09-26T20:55:20.938317",
     "status": "completed"
    },
    "tags": []
   },
   "source": [
    "### Check for null values"
   ]
  },
  {
   "cell_type": "code",
   "execution_count": 5,
   "id": "3e6d9a73",
   "metadata": {
    "execution": {
     "iopub.execute_input": "2021-09-26T20:55:21.034348Z",
     "iopub.status.busy": "2021-09-26T20:55:21.032941Z",
     "iopub.status.idle": "2021-09-26T20:55:21.040119Z",
     "shell.execute_reply": "2021-09-26T20:55:21.040537Z",
     "shell.execute_reply.started": "2021-09-26T20:38:46.924241Z"
    },
    "papermill": {
     "duration": 0.048336,
     "end_time": "2021-09-26T20:55:21.040702",
     "exception": false,
     "start_time": "2021-09-26T20:55:20.992366",
     "status": "completed"
    },
    "tags": []
   },
   "outputs": [
    {
     "data": {
      "text/plain": [
       "tweet_id             0\n",
       "author_id            0\n",
       "content              0\n",
       "lang                 0\n",
       "date                 0\n",
       "source               0\n",
       "geo              37003\n",
       "retweet_count        0\n",
       "like_count           0\n",
       "quote_count          0\n",
       "dtype: int64"
      ]
     },
     "execution_count": 5,
     "metadata": {},
     "output_type": "execute_result"
    }
   ],
   "source": [
    "dataset_messi.isna().sum()"
   ]
  },
  {
   "cell_type": "markdown",
   "id": "80fa2123",
   "metadata": {
    "papermill": {
     "duration": 0.027745,
     "end_time": "2021-09-26T20:55:21.095557",
     "exception": false,
     "start_time": "2021-09-26T20:55:21.067812",
     "status": "completed"
    },
    "tags": []
   },
   "source": [
    "#### Percentage of null geo values "
   ]
  },
  {
   "cell_type": "code",
   "execution_count": 6,
   "id": "9570711b",
   "metadata": {
    "execution": {
     "iopub.execute_input": "2021-09-26T20:55:21.155357Z",
     "iopub.status.busy": "2021-09-26T20:55:21.154597Z",
     "iopub.status.idle": "2021-09-26T20:55:21.157649Z",
     "shell.execute_reply": "2021-09-26T20:55:21.158449Z",
     "shell.execute_reply.started": "2021-09-26T20:38:46.953226Z"
    },
    "papermill": {
     "duration": 0.036254,
     "end_time": "2021-09-26T20:55:21.158749",
     "exception": false,
     "start_time": "2021-09-26T20:55:21.122495",
     "status": "completed"
    },
    "tags": []
   },
   "outputs": [
    {
     "name": "stdout",
     "output_type": "stream",
     "text": [
      "Number of values : 37097\n"
     ]
    }
   ],
   "source": [
    "count = len(dataset_messi.index)\n",
    "print(f\"Number of values : {count}\")"
   ]
  },
  {
   "cell_type": "code",
   "execution_count": 7,
   "id": "f0413dec",
   "metadata": {
    "execution": {
     "iopub.execute_input": "2021-09-26T20:55:21.230145Z",
     "iopub.status.busy": "2021-09-26T20:55:21.229405Z",
     "iopub.status.idle": "2021-09-26T20:55:21.239919Z",
     "shell.execute_reply": "2021-09-26T20:55:21.240375Z",
     "shell.execute_reply.started": "2021-09-26T20:38:46.958885Z"
    },
    "papermill": {
     "duration": 0.053048,
     "end_time": "2021-09-26T20:55:21.240557",
     "exception": false,
     "start_time": "2021-09-26T20:55:21.187509",
     "status": "completed"
    },
    "tags": []
   },
   "outputs": [
    {
     "name": "stdout",
     "output_type": "stream",
     "text": [
      "Percentage of null geo values 99.75%\n"
     ]
    }
   ],
   "source": [
    "count_null = dataset_messi.isna().sum()[\"geo\"]\n",
    "percentage = count_null*100/count\n",
    "print(f\"Percentage of null geo values {round(percentage,2)}%\")"
   ]
  },
  {
   "cell_type": "markdown",
   "id": "cdc550b0",
   "metadata": {
    "papermill": {
     "duration": 0.028175,
     "end_time": "2021-09-26T20:55:21.296685",
     "exception": false,
     "start_time": "2021-09-26T20:55:21.268510",
     "status": "completed"
    },
    "tags": []
   },
   "source": [
    "### Assign the -1 id to null geo values"
   ]
  },
  {
   "cell_type": "code",
   "execution_count": 8,
   "id": "6455ce0d",
   "metadata": {
    "execution": {
     "iopub.execute_input": "2021-09-26T20:55:21.357446Z",
     "iopub.status.busy": "2021-09-26T20:55:21.356713Z",
     "iopub.status.idle": "2021-09-26T20:55:21.381534Z",
     "shell.execute_reply": "2021-09-26T20:55:21.380870Z",
     "shell.execute_reply.started": "2021-09-26T20:44:25.096061Z"
    },
    "papermill": {
     "duration": 0.056839,
     "end_time": "2021-09-26T20:55:21.381678",
     "exception": false,
     "start_time": "2021-09-26T20:55:21.324839",
     "status": "completed"
    },
    "tags": []
   },
   "outputs": [],
   "source": [
    "dataset_messi.geo = dataset_messi.geo.apply(lambda x: -1 if pd.isna(x) else x)"
   ]
  },
  {
   "cell_type": "markdown",
   "id": "197247d6",
   "metadata": {
    "papermill": {
     "duration": 0.027512,
     "end_time": "2021-09-26T20:55:21.437258",
     "exception": false,
     "start_time": "2021-09-26T20:55:21.409746",
     "status": "completed"
    },
    "tags": []
   },
   "source": [
    "#### Display results"
   ]
  },
  {
   "cell_type": "code",
   "execution_count": 9,
   "id": "e6dbb524",
   "metadata": {
    "execution": {
     "iopub.execute_input": "2021-09-26T20:55:21.499516Z",
     "iopub.status.busy": "2021-09-26T20:55:21.498900Z",
     "iopub.status.idle": "2021-09-26T20:55:21.501258Z",
     "shell.execute_reply": "2021-09-26T20:55:21.501672Z",
     "shell.execute_reply.started": "2021-09-26T20:44:28.694295Z"
    },
    "papermill": {
     "duration": 0.036707,
     "end_time": "2021-09-26T20:55:21.501843",
     "exception": false,
     "start_time": "2021-09-26T20:55:21.465136",
     "status": "completed"
    },
    "tags": []
   },
   "outputs": [
    {
     "data": {
      "text/plain": [
       "0    -1\n",
       "1    -1\n",
       "2    -1\n",
       "3    -1\n",
       "4    -1\n",
       "Name: geo, dtype: object"
      ]
     },
     "execution_count": 9,
     "metadata": {},
     "output_type": "execute_result"
    }
   ],
   "source": [
    "dataset_messi[\"geo\"].head(5)"
   ]
  },
  {
   "cell_type": "code",
   "execution_count": 10,
   "id": "b8a48384",
   "metadata": {
    "execution": {
     "iopub.execute_input": "2021-09-26T20:55:21.560826Z",
     "iopub.status.busy": "2021-09-26T20:55:21.560261Z",
     "iopub.status.idle": "2021-09-26T20:55:21.566142Z",
     "shell.execute_reply": "2021-09-26T20:55:21.566574Z",
     "shell.execute_reply.started": "2021-09-26T20:45:02.504595Z"
    },
    "papermill": {
     "duration": 0.037058,
     "end_time": "2021-09-26T20:55:21.566745",
     "exception": false,
     "start_time": "2021-09-26T20:55:21.529687",
     "status": "completed"
    },
    "tags": []
   },
   "outputs": [
    {
     "data": {
      "text/plain": [
       "array([-1, '1744381d2805a216', '5446838227498f51', '6a6d896ba1cb5dc4',\n",
       "       '5ccdc4a6f900a93f'], dtype=object)"
      ]
     },
     "execution_count": 10,
     "metadata": {},
     "output_type": "execute_result"
    }
   ],
   "source": [
    "dataset_messi[\"geo\"].unique()[0:5]"
   ]
  },
  {
   "cell_type": "markdown",
   "id": "67a81dc7",
   "metadata": {
    "papermill": {
     "duration": 0.029492,
     "end_time": "2021-09-26T20:55:21.624770",
     "exception": false,
     "start_time": "2021-09-26T20:55:21.595278",
     "status": "completed"
    },
    "tags": []
   },
   "source": [
    "### Clean tweets : remove mentions, extra spaces and links"
   ]
  },
  {
   "cell_type": "markdown",
   "id": "e95198b8",
   "metadata": {
    "papermill": {
     "duration": 0.033111,
     "end_time": "2021-09-26T20:55:21.690539",
     "exception": false,
     "start_time": "2021-09-26T20:55:21.657428",
     "status": "completed"
    },
    "tags": []
   },
   "source": [
    "#### Regex"
   ]
  },
  {
   "cell_type": "code",
   "execution_count": 11,
   "id": "5f101af4",
   "metadata": {
    "execution": {
     "iopub.execute_input": "2021-09-26T20:55:21.769578Z",
     "iopub.status.busy": "2021-09-26T20:55:21.768621Z",
     "iopub.status.idle": "2021-09-26T20:55:21.773100Z",
     "shell.execute_reply": "2021-09-26T20:55:21.772639Z",
     "shell.execute_reply.started": "2021-09-26T20:38:46.995272Z"
    },
    "papermill": {
     "duration": 0.042701,
     "end_time": "2021-09-26T20:55:21.773245",
     "exception": false,
     "start_time": "2021-09-26T20:55:21.730544",
     "status": "completed"
    },
    "tags": []
   },
   "outputs": [],
   "source": [
    "regex = \"@\\S+|https?:\\S+|http?:\\S|[^A-Za-z0-9]+\""
   ]
  },
  {
   "cell_type": "markdown",
   "id": "4215a3f7",
   "metadata": {
    "papermill": {
     "duration": 0.027763,
     "end_time": "2021-09-26T20:55:21.829063",
     "exception": false,
     "start_time": "2021-09-26T20:55:21.801300",
     "status": "completed"
    },
    "tags": []
   },
   "source": [
    "#### Applying the regex"
   ]
  },
  {
   "cell_type": "code",
   "execution_count": 12,
   "id": "adba4cb1",
   "metadata": {
    "execution": {
     "iopub.execute_input": "2021-09-26T20:55:21.911868Z",
     "iopub.status.busy": "2021-09-26T20:55:21.906593Z",
     "iopub.status.idle": "2021-09-26T20:55:22.316025Z",
     "shell.execute_reply": "2021-09-26T20:55:22.315436Z",
     "shell.execute_reply.started": "2021-09-26T20:38:47.001786Z"
    },
    "papermill": {
     "duration": 0.458998,
     "end_time": "2021-09-26T20:55:22.316166",
     "exception": false,
     "start_time": "2021-09-26T20:55:21.857168",
     "status": "completed"
    },
    "tags": []
   },
   "outputs": [],
   "source": [
    "dataset_messi.content = dataset_messi.content.apply(lambda x: re.sub(regex, ' ', str(x).lower()).strip())\n",
    "dataset_messi.content = dataset_messi.content.apply(lambda x: x.replace(\"rt\",\"\",1)) # Remove the \"RT\" tag"
   ]
  },
  {
   "cell_type": "markdown",
   "id": "55166ffc",
   "metadata": {
    "papermill": {
     "duration": 0.02775,
     "end_time": "2021-09-26T20:55:22.372002",
     "exception": false,
     "start_time": "2021-09-26T20:55:22.344252",
     "status": "completed"
    },
    "tags": []
   },
   "source": [
    "#### Display results"
   ]
  },
  {
   "cell_type": "code",
   "execution_count": 13,
   "id": "5cdc17a9",
   "metadata": {
    "execution": {
     "iopub.execute_input": "2021-09-26T20:55:22.443153Z",
     "iopub.status.busy": "2021-09-26T20:55:22.442187Z",
     "iopub.status.idle": "2021-09-26T20:55:22.446805Z",
     "shell.execute_reply": "2021-09-26T20:55:22.446278Z",
     "shell.execute_reply.started": "2021-09-26T20:38:47.739329Z"
    },
    "papermill": {
     "duration": 0.046852,
     "end_time": "2021-09-26T20:55:22.446960",
     "exception": false,
     "start_time": "2021-09-26T20:55:22.400108",
     "status": "completed"
    },
    "tags": []
   },
   "outputs": [
    {
     "data": {
      "text/html": [
       "<div>\n",
       "<style scoped>\n",
       "    .dataframe tbody tr th:only-of-type {\n",
       "        vertical-align: middle;\n",
       "    }\n",
       "\n",
       "    .dataframe tbody tr th {\n",
       "        vertical-align: top;\n",
       "    }\n",
       "\n",
       "    .dataframe thead th {\n",
       "        text-align: right;\n",
       "    }\n",
       "</style>\n",
       "<table border=\"1\" class=\"dataframe\">\n",
       "  <thead>\n",
       "    <tr style=\"text-align: right;\">\n",
       "      <th></th>\n",
       "      <th>tweet_id</th>\n",
       "      <th>author_id</th>\n",
       "      <th>content</th>\n",
       "      <th>lang</th>\n",
       "      <th>date</th>\n",
       "      <th>source</th>\n",
       "      <th>geo</th>\n",
       "      <th>retweet_count</th>\n",
       "      <th>like_count</th>\n",
       "      <th>quote_count</th>\n",
       "    </tr>\n",
       "  </thead>\n",
       "  <tbody>\n",
       "    <tr>\n",
       "      <th>0</th>\n",
       "      <td>1442143079373365248</td>\n",
       "      <td>1302375645666848768</td>\n",
       "      <td>who needs messi</td>\n",
       "      <td>en</td>\n",
       "      <td>2021-09-26T15:04:38.000Z</td>\n",
       "      <td>Twitter for iPhone</td>\n",
       "      <td>-1</td>\n",
       "      <td>0</td>\n",
       "      <td>0</td>\n",
       "      <td>0</td>\n",
       "    </tr>\n",
       "    <tr>\n",
       "      <th>1</th>\n",
       "      <td>1442143071995457542</td>\n",
       "      <td>116969561</td>\n",
       "      <td>forbes lionel messi ranked no 2 in this year ...</td>\n",
       "      <td>en</td>\n",
       "      <td>2021-09-26T15:04:36.000Z</td>\n",
       "      <td>Twitter for Android</td>\n",
       "      <td>-1</td>\n",
       "      <td>11</td>\n",
       "      <td>0</td>\n",
       "      <td>0</td>\n",
       "    </tr>\n",
       "    <tr>\n",
       "      <th>2</th>\n",
       "      <td>1442143058594652160</td>\n",
       "      <td>1296470104486612997</td>\n",
       "      <td>espnfc pele congratulates messi for breaking ...</td>\n",
       "      <td>en</td>\n",
       "      <td>2021-09-26T15:04:33.000Z</td>\n",
       "      <td>Twitter Web App</td>\n",
       "      <td>-1</td>\n",
       "      <td>637</td>\n",
       "      <td>0</td>\n",
       "      <td>0</td>\n",
       "    </tr>\n",
       "    <tr>\n",
       "      <th>3</th>\n",
       "      <td>1442143054836678656</td>\n",
       "      <td>4083107893</td>\n",
       "      <td>crewsmat10 psg have lost 0 zero games since t...</td>\n",
       "      <td>en</td>\n",
       "      <td>2021-09-26T15:04:32.000Z</td>\n",
       "      <td>Twitter for Android</td>\n",
       "      <td>-1</td>\n",
       "      <td>510</td>\n",
       "      <td>0</td>\n",
       "      <td>0</td>\n",
       "    </tr>\n",
       "    <tr>\n",
       "      <th>4</th>\n",
       "      <td>1442143052265664514</td>\n",
       "      <td>1248782697029406720</td>\n",
       "      <td>espnfc pele congratulates messi for breaking ...</td>\n",
       "      <td>en</td>\n",
       "      <td>2021-09-26T15:04:32.000Z</td>\n",
       "      <td>Twitter for Android</td>\n",
       "      <td>-1</td>\n",
       "      <td>637</td>\n",
       "      <td>0</td>\n",
       "      <td>0</td>\n",
       "    </tr>\n",
       "  </tbody>\n",
       "</table>\n",
       "</div>"
      ],
      "text/plain": [
       "              tweet_id            author_id  \\\n",
       "0  1442143079373365248  1302375645666848768   \n",
       "1  1442143071995457542            116969561   \n",
       "2  1442143058594652160  1296470104486612997   \n",
       "3  1442143054836678656           4083107893   \n",
       "4  1442143052265664514  1248782697029406720   \n",
       "\n",
       "                                             content lang  \\\n",
       "0                                    who needs messi   en   \n",
       "1   forbes lionel messi ranked no 2 in this year ...   en   \n",
       "2   espnfc pele congratulates messi for breaking ...   en   \n",
       "3   crewsmat10 psg have lost 0 zero games since t...   en   \n",
       "4   espnfc pele congratulates messi for breaking ...   en   \n",
       "\n",
       "                       date               source geo  retweet_count  \\\n",
       "0  2021-09-26T15:04:38.000Z   Twitter for iPhone  -1              0   \n",
       "1  2021-09-26T15:04:36.000Z  Twitter for Android  -1             11   \n",
       "2  2021-09-26T15:04:33.000Z      Twitter Web App  -1            637   \n",
       "3  2021-09-26T15:04:32.000Z  Twitter for Android  -1            510   \n",
       "4  2021-09-26T15:04:32.000Z  Twitter for Android  -1            637   \n",
       "\n",
       "   like_count  quote_count  \n",
       "0           0            0  \n",
       "1           0            0  \n",
       "2           0            0  \n",
       "3           0            0  \n",
       "4           0            0  "
      ]
     },
     "execution_count": 13,
     "metadata": {},
     "output_type": "execute_result"
    }
   ],
   "source": [
    "dataset_messi.head(5)"
   ]
  },
  {
   "cell_type": "markdown",
   "id": "002bb742",
   "metadata": {
    "papermill": {
     "duration": 0.028063,
     "end_time": "2021-09-26T20:55:22.503452",
     "exception": false,
     "start_time": "2021-09-26T20:55:22.475389",
     "status": "completed"
    },
    "tags": []
   },
   "source": [
    "### Check for non-english content"
   ]
  },
  {
   "cell_type": "code",
   "execution_count": 14,
   "id": "3f068598",
   "metadata": {
    "execution": {
     "iopub.execute_input": "2021-09-26T20:55:22.567682Z",
     "iopub.status.busy": "2021-09-26T20:55:22.566598Z",
     "iopub.status.idle": "2021-09-26T20:55:22.569574Z",
     "shell.execute_reply": "2021-09-26T20:55:22.570100Z",
     "shell.execute_reply.started": "2021-09-26T20:38:47.753375Z"
    },
    "papermill": {
     "duration": 0.038408,
     "end_time": "2021-09-26T20:55:22.570270",
     "exception": false,
     "start_time": "2021-09-26T20:55:22.531862",
     "status": "completed"
    },
    "tags": []
   },
   "outputs": [],
   "source": [
    "assert dataset_messi[\"lang\"].unique()==\"en\", \"Non-english content detected\""
   ]
  },
  {
   "cell_type": "markdown",
   "id": "ceb13fd8",
   "metadata": {
    "papermill": {
     "duration": 0.028274,
     "end_time": "2021-09-26T20:55:22.627110",
     "exception": false,
     "start_time": "2021-09-26T20:55:22.598836",
     "status": "completed"
    },
    "tags": []
   },
   "source": [
    "> Test passed"
   ]
  },
  {
   "cell_type": "markdown",
   "id": "a502df13",
   "metadata": {
    "papermill": {
     "duration": 0.02798,
     "end_time": "2021-09-26T20:55:22.684441",
     "exception": false,
     "start_time": "2021-09-26T20:55:22.656461",
     "status": "completed"
    },
    "tags": []
   },
   "source": [
    "## Ronaldo"
   ]
  },
  {
   "cell_type": "markdown",
   "id": "2f3a9f2d",
   "metadata": {
    "papermill": {
     "duration": 0.028054,
     "end_time": "2021-09-26T20:55:22.741146",
     "exception": false,
     "start_time": "2021-09-26T20:55:22.713092",
     "status": "completed"
    },
    "tags": []
   },
   "source": [
    "### Check for null values"
   ]
  },
  {
   "cell_type": "code",
   "execution_count": 15,
   "id": "34790256",
   "metadata": {
    "execution": {
     "iopub.execute_input": "2021-09-26T20:55:22.801781Z",
     "iopub.status.busy": "2021-09-26T20:55:22.800847Z",
     "iopub.status.idle": "2021-09-26T20:55:22.818588Z",
     "shell.execute_reply": "2021-09-26T20:55:22.817960Z",
     "shell.execute_reply.started": "2021-09-26T20:38:47.769907Z"
    },
    "papermill": {
     "duration": 0.049152,
     "end_time": "2021-09-26T20:55:22.818732",
     "exception": false,
     "start_time": "2021-09-26T20:55:22.769580",
     "status": "completed"
    },
    "tags": []
   },
   "outputs": [
    {
     "data": {
      "text/plain": [
       "tweet_id             0\n",
       "author_id            0\n",
       "content              0\n",
       "lang                 0\n",
       "date                 0\n",
       "source               0\n",
       "geo              36879\n",
       "retweet_count        0\n",
       "like_count           0\n",
       "quote_count          0\n",
       "dtype: int64"
      ]
     },
     "execution_count": 15,
     "metadata": {},
     "output_type": "execute_result"
    }
   ],
   "source": [
    "dataset_ronaldo.isna().sum()"
   ]
  },
  {
   "cell_type": "markdown",
   "id": "69999653",
   "metadata": {
    "papermill": {
     "duration": 0.028565,
     "end_time": "2021-09-26T20:55:22.876440",
     "exception": false,
     "start_time": "2021-09-26T20:55:22.847875",
     "status": "completed"
    },
    "tags": []
   },
   "source": [
    "### Percentage of null geo values"
   ]
  },
  {
   "cell_type": "code",
   "execution_count": 16,
   "id": "02822f3f",
   "metadata": {
    "execution": {
     "iopub.execute_input": "2021-09-26T20:55:22.939311Z",
     "iopub.status.busy": "2021-09-26T20:55:22.938569Z",
     "iopub.status.idle": "2021-09-26T20:55:22.941287Z",
     "shell.execute_reply": "2021-09-26T20:55:22.941819Z",
     "shell.execute_reply.started": "2021-09-26T20:38:47.799334Z"
    },
    "papermill": {
     "duration": 0.03672,
     "end_time": "2021-09-26T20:55:22.941992",
     "exception": false,
     "start_time": "2021-09-26T20:55:22.905272",
     "status": "completed"
    },
    "tags": []
   },
   "outputs": [
    {
     "name": "stdout",
     "output_type": "stream",
     "text": [
      "Number of values: 37084\n"
     ]
    }
   ],
   "source": [
    "count = len(dataset_ronaldo.index)\n",
    "print(f\"Number of values: {count}\")"
   ]
  },
  {
   "cell_type": "code",
   "execution_count": 17,
   "id": "738113db",
   "metadata": {
    "execution": {
     "iopub.execute_input": "2021-09-26T20:55:23.004178Z",
     "iopub.status.busy": "2021-09-26T20:55:23.003549Z",
     "iopub.status.idle": "2021-09-26T20:55:23.019424Z",
     "shell.execute_reply": "2021-09-26T20:55:23.019870Z",
     "shell.execute_reply.started": "2021-09-26T20:38:47.806088Z"
    },
    "papermill": {
     "duration": 0.048972,
     "end_time": "2021-09-26T20:55:23.020062",
     "exception": false,
     "start_time": "2021-09-26T20:55:22.971090",
     "status": "completed"
    },
    "tags": []
   },
   "outputs": [
    {
     "name": "stdout",
     "output_type": "stream",
     "text": [
      "Percentage of null geo values: 99.45%\n"
     ]
    }
   ],
   "source": [
    "count_null = dataset_ronaldo.isna().sum()[\"geo\"]\n",
    "percentage = count_null * 100/count\n",
    "print(f\"Percentage of null geo values: {round(percentage,2)}%\")"
   ]
  },
  {
   "cell_type": "markdown",
   "id": "5380a213",
   "metadata": {
    "papermill": {
     "duration": 0.029764,
     "end_time": "2021-09-26T20:55:23.079382",
     "exception": false,
     "start_time": "2021-09-26T20:55:23.049618",
     "status": "completed"
    },
    "tags": []
   },
   "source": [
    "### Assign the -1 id to null geo values"
   ]
  },
  {
   "cell_type": "code",
   "execution_count": 18,
   "id": "bb4e3186",
   "metadata": {
    "execution": {
     "iopub.execute_input": "2021-09-26T20:55:23.141316Z",
     "iopub.status.busy": "2021-09-26T20:55:23.140698Z",
     "iopub.status.idle": "2021-09-26T20:55:23.162646Z",
     "shell.execute_reply": "2021-09-26T20:55:23.163096Z",
     "shell.execute_reply.started": "2021-09-26T20:46:36.794841Z"
    },
    "papermill": {
     "duration": 0.054855,
     "end_time": "2021-09-26T20:55:23.163293",
     "exception": false,
     "start_time": "2021-09-26T20:55:23.108438",
     "status": "completed"
    },
    "tags": []
   },
   "outputs": [],
   "source": [
    "dataset_ronaldo.geo = dataset_ronaldo.geo.apply(lambda x: -1 if pd.isna(x) else x)"
   ]
  },
  {
   "cell_type": "markdown",
   "id": "11efdf55",
   "metadata": {
    "papermill": {
     "duration": 0.030161,
     "end_time": "2021-09-26T20:55:23.223796",
     "exception": false,
     "start_time": "2021-09-26T20:55:23.193635",
     "status": "completed"
    },
    "tags": []
   },
   "source": [
    "#### Display results"
   ]
  },
  {
   "cell_type": "code",
   "execution_count": 19,
   "id": "71ed889c",
   "metadata": {
    "execution": {
     "iopub.execute_input": "2021-09-26T20:55:23.286138Z",
     "iopub.status.busy": "2021-09-26T20:55:23.285533Z",
     "iopub.status.idle": "2021-09-26T20:55:23.292258Z",
     "shell.execute_reply": "2021-09-26T20:55:23.291749Z",
     "shell.execute_reply.started": "2021-09-26T20:46:59.795404Z"
    },
    "papermill": {
     "duration": 0.039056,
     "end_time": "2021-09-26T20:55:23.292400",
     "exception": false,
     "start_time": "2021-09-26T20:55:23.253344",
     "status": "completed"
    },
    "tags": []
   },
   "outputs": [
    {
     "data": {
      "text/plain": [
       "0    -1\n",
       "1    -1\n",
       "2    -1\n",
       "3    -1\n",
       "4    -1\n",
       "Name: geo, dtype: object"
      ]
     },
     "execution_count": 19,
     "metadata": {},
     "output_type": "execute_result"
    }
   ],
   "source": [
    "dataset_ronaldo[\"geo\"].head(5)"
   ]
  },
  {
   "cell_type": "code",
   "execution_count": 20,
   "id": "3c2fb55d",
   "metadata": {
    "execution": {
     "iopub.execute_input": "2021-09-26T20:55:23.355030Z",
     "iopub.status.busy": "2021-09-26T20:55:23.354442Z",
     "iopub.status.idle": "2021-09-26T20:55:23.359806Z",
     "shell.execute_reply": "2021-09-26T20:55:23.360331Z",
     "shell.execute_reply.started": "2021-09-26T20:47:41.595406Z"
    },
    "papermill": {
     "duration": 0.038428,
     "end_time": "2021-09-26T20:55:23.360497",
     "exception": false,
     "start_time": "2021-09-26T20:55:23.322069",
     "status": "completed"
    },
    "tags": []
   },
   "outputs": [
    {
     "data": {
      "text/plain": [
       "array([-1, '00611f1548c7bdef', 'd91084e084c8fc53', '00817d75276a95cf',\n",
       "       'ade6e91af3b145c7'], dtype=object)"
      ]
     },
     "execution_count": 20,
     "metadata": {},
     "output_type": "execute_result"
    }
   ],
   "source": [
    "dataset_ronaldo[\"geo\"].unique()[0:5]"
   ]
  },
  {
   "cell_type": "markdown",
   "id": "401100fd",
   "metadata": {
    "papermill": {
     "duration": 0.029749,
     "end_time": "2021-09-26T20:55:23.420231",
     "exception": false,
     "start_time": "2021-09-26T20:55:23.390482",
     "status": "completed"
    },
    "tags": []
   },
   "source": [
    "### Clean tweets : remove mentions, links and extra spaces"
   ]
  },
  {
   "cell_type": "markdown",
   "id": "74ce18d1",
   "metadata": {
    "papermill": {
     "duration": 0.029394,
     "end_time": "2021-09-26T20:55:23.479466",
     "exception": false,
     "start_time": "2021-09-26T20:55:23.450072",
     "status": "completed"
    },
    "tags": []
   },
   "source": [
    "#### Regex"
   ]
  },
  {
   "cell_type": "code",
   "execution_count": 21,
   "id": "5ccae6da",
   "metadata": {
    "execution": {
     "iopub.execute_input": "2021-09-26T20:55:23.542516Z",
     "iopub.status.busy": "2021-09-26T20:55:23.541901Z",
     "iopub.status.idle": "2021-09-26T20:55:23.544866Z",
     "shell.execute_reply": "2021-09-26T20:55:23.545302Z",
     "shell.execute_reply.started": "2021-09-26T20:38:47.838344Z"
    },
    "papermill": {
     "duration": 0.036056,
     "end_time": "2021-09-26T20:55:23.545457",
     "exception": false,
     "start_time": "2021-09-26T20:55:23.509401",
     "status": "completed"
    },
    "tags": []
   },
   "outputs": [],
   "source": [
    "regex = \"@\\S+|https?:\\S+|http?:\\S|[^A-Za-z0-9]+\""
   ]
  },
  {
   "cell_type": "markdown",
   "id": "aa02c93d",
   "metadata": {
    "papermill": {
     "duration": 0.029947,
     "end_time": "2021-09-26T20:55:23.605407",
     "exception": false,
     "start_time": "2021-09-26T20:55:23.575460",
     "status": "completed"
    },
    "tags": []
   },
   "source": [
    "#### Applying the regex"
   ]
  },
  {
   "cell_type": "code",
   "execution_count": 22,
   "id": "c2423c2a",
   "metadata": {
    "execution": {
     "iopub.execute_input": "2021-09-26T20:55:23.668942Z",
     "iopub.status.busy": "2021-09-26T20:55:23.668334Z",
     "iopub.status.idle": "2021-09-26T20:55:24.130309Z",
     "shell.execute_reply": "2021-09-26T20:55:24.130800Z",
     "shell.execute_reply.started": "2021-09-26T20:38:47.844243Z"
    },
    "papermill": {
     "duration": 0.495527,
     "end_time": "2021-09-26T20:55:24.130983",
     "exception": false,
     "start_time": "2021-09-26T20:55:23.635456",
     "status": "completed"
    },
    "tags": []
   },
   "outputs": [],
   "source": [
    "dataset_ronaldo.content = dataset_ronaldo.content.apply(lambda x: re.sub(regex, ' ', str(x).lower()).strip())\n",
    "dataset_ronaldo.content = dataset_ronaldo.content.apply(lambda x: x.replace(\"rt\", \"\", 1)) # Remove the \"RT\" tag"
   ]
  },
  {
   "cell_type": "markdown",
   "id": "67a2294a",
   "metadata": {
    "papermill": {
     "duration": 0.030139,
     "end_time": "2021-09-26T20:55:24.191415",
     "exception": false,
     "start_time": "2021-09-26T20:55:24.161276",
     "status": "completed"
    },
    "tags": []
   },
   "source": [
    "#### Display results"
   ]
  },
  {
   "cell_type": "code",
   "execution_count": 23,
   "id": "1493afda",
   "metadata": {
    "execution": {
     "iopub.execute_input": "2021-09-26T20:55:24.257922Z",
     "iopub.status.busy": "2021-09-26T20:55:24.257332Z",
     "iopub.status.idle": "2021-09-26T20:55:24.269402Z",
     "shell.execute_reply": "2021-09-26T20:55:24.268930Z",
     "shell.execute_reply.started": "2021-09-26T20:38:48.662633Z"
    },
    "papermill": {
     "duration": 0.046829,
     "end_time": "2021-09-26T20:55:24.269539",
     "exception": false,
     "start_time": "2021-09-26T20:55:24.222710",
     "status": "completed"
    },
    "tags": []
   },
   "outputs": [
    {
     "data": {
      "text/html": [
       "<div>\n",
       "<style scoped>\n",
       "    .dataframe tbody tr th:only-of-type {\n",
       "        vertical-align: middle;\n",
       "    }\n",
       "\n",
       "    .dataframe tbody tr th {\n",
       "        vertical-align: top;\n",
       "    }\n",
       "\n",
       "    .dataframe thead th {\n",
       "        text-align: right;\n",
       "    }\n",
       "</style>\n",
       "<table border=\"1\" class=\"dataframe\">\n",
       "  <thead>\n",
       "    <tr style=\"text-align: right;\">\n",
       "      <th></th>\n",
       "      <th>tweet_id</th>\n",
       "      <th>author_id</th>\n",
       "      <th>content</th>\n",
       "      <th>lang</th>\n",
       "      <th>date</th>\n",
       "      <th>source</th>\n",
       "      <th>geo</th>\n",
       "      <th>retweet_count</th>\n",
       "      <th>like_count</th>\n",
       "      <th>quote_count</th>\n",
       "    </tr>\n",
       "  </thead>\n",
       "  <tbody>\n",
       "    <tr>\n",
       "      <th>0</th>\n",
       "      <td>1442216040629514241</td>\n",
       "      <td>1395557892779122694</td>\n",
       "      <td>ronaldo was offside</td>\n",
       "      <td>en</td>\n",
       "      <td>2021-09-26T19:54:33.000Z</td>\n",
       "      <td>Twitter Web App</td>\n",
       "      <td>-1</td>\n",
       "      <td>0</td>\n",
       "      <td>1</td>\n",
       "      <td>0</td>\n",
       "    </tr>\n",
       "    <tr>\n",
       "      <th>1</th>\n",
       "      <td>1442216031792074755</td>\n",
       "      <td>1176842712420630530</td>\n",
       "      <td>football tweet the most effective trios over ...</td>\n",
       "      <td>en</td>\n",
       "      <td>2021-09-26T19:54:31.000Z</td>\n",
       "      <td>Twitter for Android</td>\n",
       "      <td>-1</td>\n",
       "      <td>18</td>\n",
       "      <td>0</td>\n",
       "      <td>0</td>\n",
       "    </tr>\n",
       "    <tr>\n",
       "      <th>2</th>\n",
       "      <td>1442216026456748036</td>\n",
       "      <td>2385664598</td>\n",
       "      <td>ronaldo jr the only footballer to score a goal...</td>\n",
       "      <td>en</td>\n",
       "      <td>2021-09-26T19:54:30.000Z</td>\n",
       "      <td>Twitter for iPhone</td>\n",
       "      <td>-1</td>\n",
       "      <td>0</td>\n",
       "      <td>0</td>\n",
       "      <td>0</td>\n",
       "    </tr>\n",
       "    <tr>\n",
       "      <th>3</th>\n",
       "      <td>1442216002197016578</td>\n",
       "      <td>1142495555790299138</td>\n",
       "      <td>edmundoris perfect weekend for barca fans and...</td>\n",
       "      <td>en</td>\n",
       "      <td>2021-09-26T19:54:24.000Z</td>\n",
       "      <td>Twitter for iPhone</td>\n",
       "      <td>-1</td>\n",
       "      <td>571</td>\n",
       "      <td>0</td>\n",
       "      <td>0</td>\n",
       "    </tr>\n",
       "    <tr>\n",
       "      <th>4</th>\n",
       "      <td>1442215992344596488</td>\n",
       "      <td>793153149066481664</td>\n",
       "      <td>efoetornam no way ansu fati has more goals ou...</td>\n",
       "      <td>en</td>\n",
       "      <td>2021-09-26T19:54:22.000Z</td>\n",
       "      <td>Twitter for iPhone</td>\n",
       "      <td>-1</td>\n",
       "      <td>106</td>\n",
       "      <td>0</td>\n",
       "      <td>0</td>\n",
       "    </tr>\n",
       "  </tbody>\n",
       "</table>\n",
       "</div>"
      ],
      "text/plain": [
       "              tweet_id            author_id  \\\n",
       "0  1442216040629514241  1395557892779122694   \n",
       "1  1442216031792074755  1176842712420630530   \n",
       "2  1442216026456748036           2385664598   \n",
       "3  1442216002197016578  1142495555790299138   \n",
       "4  1442215992344596488   793153149066481664   \n",
       "\n",
       "                                             content lang  \\\n",
       "0                                ronaldo was offside   en   \n",
       "1   football tweet the most effective trios over ...   en   \n",
       "2  ronaldo jr the only footballer to score a goal...   en   \n",
       "3   edmundoris perfect weekend for barca fans and...   en   \n",
       "4   efoetornam no way ansu fati has more goals ou...   en   \n",
       "\n",
       "                       date               source geo  retweet_count  \\\n",
       "0  2021-09-26T19:54:33.000Z      Twitter Web App  -1              0   \n",
       "1  2021-09-26T19:54:31.000Z  Twitter for Android  -1             18   \n",
       "2  2021-09-26T19:54:30.000Z   Twitter for iPhone  -1              0   \n",
       "3  2021-09-26T19:54:24.000Z   Twitter for iPhone  -1            571   \n",
       "4  2021-09-26T19:54:22.000Z   Twitter for iPhone  -1            106   \n",
       "\n",
       "   like_count  quote_count  \n",
       "0           1            0  \n",
       "1           0            0  \n",
       "2           0            0  \n",
       "3           0            0  \n",
       "4           0            0  "
      ]
     },
     "execution_count": 23,
     "metadata": {},
     "output_type": "execute_result"
    }
   ],
   "source": [
    "dataset_ronaldo.head(5)"
   ]
  },
  {
   "cell_type": "markdown",
   "id": "9aeedd79",
   "metadata": {
    "papermill": {
     "duration": 0.03023,
     "end_time": "2021-09-26T20:55:24.330231",
     "exception": false,
     "start_time": "2021-09-26T20:55:24.300001",
     "status": "completed"
    },
    "tags": []
   },
   "source": [
    "### Check for non-english content"
   ]
  },
  {
   "cell_type": "code",
   "execution_count": 24,
   "id": "7c4cbd62",
   "metadata": {
    "execution": {
     "iopub.execute_input": "2021-09-26T20:55:24.393909Z",
     "iopub.status.busy": "2021-09-26T20:55:24.393304Z",
     "iopub.status.idle": "2021-09-26T20:55:24.399121Z",
     "shell.execute_reply": "2021-09-26T20:55:24.399576Z",
     "shell.execute_reply.started": "2021-09-26T20:38:48.678039Z"
    },
    "papermill": {
     "duration": 0.039192,
     "end_time": "2021-09-26T20:55:24.399752",
     "exception": false,
     "start_time": "2021-09-26T20:55:24.360560",
     "status": "completed"
    },
    "tags": []
   },
   "outputs": [],
   "source": [
    "assert dataset_ronaldo[\"lang\"].unique()==\"en\", \"Non-english content detected\""
   ]
  },
  {
   "cell_type": "markdown",
   "id": "c40df91e",
   "metadata": {
    "papermill": {
     "duration": 0.029852,
     "end_time": "2021-09-26T20:55:24.459782",
     "exception": false,
     "start_time": "2021-09-26T20:55:24.429930",
     "status": "completed"
    },
    "tags": []
   },
   "source": [
    "```\n",
    "Test passed\n",
    "```"
   ]
  },
  {
   "cell_type": "markdown",
   "id": "41879f1c",
   "metadata": {
    "papermill": {
     "duration": 0.029903,
     "end_time": "2021-09-26T20:55:24.519769",
     "exception": false,
     "start_time": "2021-09-26T20:55:24.489866",
     "status": "completed"
    },
    "tags": []
   },
   "source": [
    "# Save the cleaned datasets"
   ]
  },
  {
   "cell_type": "markdown",
   "id": "07a50d45",
   "metadata": {
    "papermill": {
     "duration": 0.030017,
     "end_time": "2021-09-26T20:55:24.580098",
     "exception": false,
     "start_time": "2021-09-26T20:55:24.550081",
     "status": "completed"
    },
    "tags": []
   },
   "source": [
    "## Messi "
   ]
  },
  {
   "cell_type": "code",
   "execution_count": 25,
   "id": "5658c39f",
   "metadata": {
    "execution": {
     "iopub.execute_input": "2021-09-26T20:55:24.645830Z",
     "iopub.status.busy": "2021-09-26T20:55:24.644934Z",
     "iopub.status.idle": "2021-09-26T20:55:24.893295Z",
     "shell.execute_reply": "2021-09-26T20:55:24.893725Z",
     "shell.execute_reply.started": "2021-09-26T20:51:18.694924Z"
    },
    "papermill": {
     "duration": 0.283421,
     "end_time": "2021-09-26T20:55:24.893922",
     "exception": false,
     "start_time": "2021-09-26T20:55:24.610501",
     "status": "completed"
    },
    "tags": []
   },
   "outputs": [],
   "source": [
    "dataset_messi.to_csv(\"Cleaned_messi_tweets.csv\", index=False)"
   ]
  },
  {
   "cell_type": "markdown",
   "id": "9031432c",
   "metadata": {
    "papermill": {
     "duration": 0.038653,
     "end_time": "2021-09-26T20:55:24.963650",
     "exception": false,
     "start_time": "2021-09-26T20:55:24.924997",
     "status": "completed"
    },
    "tags": []
   },
   "source": [
    "## Ronaldo"
   ]
  },
  {
   "cell_type": "code",
   "execution_count": 26,
   "id": "3fe274c7",
   "metadata": {
    "execution": {
     "iopub.execute_input": "2021-09-26T20:55:25.038637Z",
     "iopub.status.busy": "2021-09-26T20:55:25.037680Z",
     "iopub.status.idle": "2021-09-26T20:55:25.270152Z",
     "shell.execute_reply": "2021-09-26T20:55:25.270653Z",
     "shell.execute_reply.started": "2021-09-26T20:51:49.394769Z"
    },
    "papermill": {
     "duration": 0.272034,
     "end_time": "2021-09-26T20:55:25.270823",
     "exception": false,
     "start_time": "2021-09-26T20:55:24.998789",
     "status": "completed"
    },
    "tags": []
   },
   "outputs": [],
   "source": [
    "dataset_ronaldo.to_csv(\"Cleaned_ronaldo_tweets.csv\", index=False)"
   ]
  }
 ],
 "metadata": {
  "kernelspec": {
   "display_name": "Python 3",
   "language": "python",
   "name": "python3"
  },
  "language_info": {
   "codemirror_mode": {
    "name": "ipython",
    "version": 3
   },
   "file_extension": ".py",
   "mimetype": "text/x-python",
   "name": "python",
   "nbconvert_exporter": "python",
   "pygments_lexer": "ipython3",
   "version": "3.7.10"
  },
  "papermill": {
   "default_parameters": {},
   "duration": 13.514806,
   "end_time": "2021-09-26T20:55:25.912160",
   "environment_variables": {},
   "exception": null,
   "input_path": "__notebook__.ipynb",
   "output_path": "__notebook__.ipynb",
   "parameters": {},
   "start_time": "2021-09-26T20:55:12.397354",
   "version": "2.3.3"
  }
 },
 "nbformat": 4,
 "nbformat_minor": 5
}
