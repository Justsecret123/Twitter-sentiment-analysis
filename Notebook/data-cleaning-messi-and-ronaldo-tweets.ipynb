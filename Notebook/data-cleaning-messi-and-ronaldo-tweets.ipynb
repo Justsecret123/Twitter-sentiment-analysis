{
 "cells": [
  {
   "cell_type": "markdown",
   "id": "ec5d26e0",
   "metadata": {
    "papermill": {
     "duration": 0.038666,
     "end_time": "2021-09-29T04:19:37.525595",
     "exception": false,
     "start_time": "2021-09-29T04:19:37.486929",
     "status": "completed"
    },
    "tags": []
   },
   "source": [
    "# Libraries"
   ]
  },
  {
   "cell_type": "code",
   "execution_count": 1,
   "id": "a0dda510",
   "metadata": {
    "execution": {
     "iopub.execute_input": "2021-09-29T04:19:37.618215Z",
     "iopub.status.busy": "2021-09-29T04:19:37.617319Z",
     "iopub.status.idle": "2021-09-29T04:19:37.621550Z",
     "shell.execute_reply": "2021-09-29T04:19:37.620846Z",
     "shell.execute_reply.started": "2021-09-29T04:02:51.944255Z"
    },
    "papermill": {
     "duration": 0.055999,
     "end_time": "2021-09-29T04:19:37.621725",
     "exception": false,
     "start_time": "2021-09-29T04:19:37.565726",
     "status": "completed"
    },
    "tags": []
   },
   "outputs": [],
   "source": [
    "import os\n",
    "import pandas as pd\n",
    "import numpy as np\n",
    "import re"
   ]
  },
  {
   "cell_type": "markdown",
   "id": "635ae2fc",
   "metadata": {
    "papermill": {
     "duration": 0.037106,
     "end_time": "2021-09-29T04:19:37.696045",
     "exception": false,
     "start_time": "2021-09-29T04:19:37.658939",
     "status": "completed"
    },
    "tags": []
   },
   "source": [
    "# Files"
   ]
  },
  {
   "cell_type": "markdown",
   "id": "4c0298b9",
   "metadata": {
    "papermill": {
     "duration": 0.03635,
     "end_time": "2021-09-29T04:19:37.769076",
     "exception": false,
     "start_time": "2021-09-29T04:19:37.732726",
     "status": "completed"
    },
    "tags": []
   },
   "source": [
    "## Dataset donwload"
   ]
  },
  {
   "cell_type": "code",
   "execution_count": 2,
   "id": "a6a9a211",
   "metadata": {
    "execution": {
     "iopub.execute_input": "2021-09-29T04:19:37.846382Z",
     "iopub.status.busy": "2021-09-29T04:19:37.845404Z",
     "iopub.status.idle": "2021-09-29T04:19:38.351150Z",
     "shell.execute_reply": "2021-09-29T04:19:38.350578Z",
     "shell.execute_reply.started": "2021-09-29T04:17:46.886437Z"
    },
    "papermill": {
     "duration": 0.545464,
     "end_time": "2021-09-29T04:19:38.351310",
     "exception": false,
     "start_time": "2021-09-29T04:19:37.805846",
     "status": "completed"
    },
    "tags": []
   },
   "outputs": [],
   "source": [
    "dataset_messi = pd.read_csv(\"/kaggle/input/twitter-sentiment-analysis-and-word-embeddings/messi_tweets.csv\", encoding=\"latin\")\n",
    "dataset_ronaldo = pd.read_csv(\"/kaggle/input/twitter-sentiment-analysis-and-word-embeddings/ronaldo_tweets.csv\", encoding=\"latin\")"
   ]
  },
  {
   "cell_type": "markdown",
   "id": "9293e387",
   "metadata": {
    "papermill": {
     "duration": 0.036067,
     "end_time": "2021-09-29T04:19:38.423838",
     "exception": false,
     "start_time": "2021-09-29T04:19:38.387771",
     "status": "completed"
    },
    "tags": []
   },
   "source": [
    "## Show some examples"
   ]
  },
  {
   "cell_type": "markdown",
   "id": "65d036e2",
   "metadata": {
    "papermill": {
     "duration": 0.036428,
     "end_time": "2021-09-29T04:19:38.496940",
     "exception": false,
     "start_time": "2021-09-29T04:19:38.460512",
     "status": "completed"
    },
    "tags": []
   },
   "source": [
    "## Messi"
   ]
  },
  {
   "cell_type": "code",
   "execution_count": 3,
   "id": "36f6467a",
   "metadata": {
    "execution": {
     "iopub.execute_input": "2021-09-29T04:19:38.581308Z",
     "iopub.status.busy": "2021-09-29T04:19:38.580131Z",
     "iopub.status.idle": "2021-09-29T04:19:38.609020Z",
     "shell.execute_reply": "2021-09-29T04:19:38.609624Z",
     "shell.execute_reply.started": "2021-09-29T04:17:47.685683Z"
    },
    "papermill": {
     "duration": 0.076388,
     "end_time": "2021-09-29T04:19:38.609804",
     "exception": false,
     "start_time": "2021-09-29T04:19:38.533416",
     "status": "completed"
    },
    "tags": []
   },
   "outputs": [
    {
     "data": {
      "text/html": [
       "<div>\n",
       "<style scoped>\n",
       "    .dataframe tbody tr th:only-of-type {\n",
       "        vertical-align: middle;\n",
       "    }\n",
       "\n",
       "    .dataframe tbody tr th {\n",
       "        vertical-align: top;\n",
       "    }\n",
       "\n",
       "    .dataframe thead th {\n",
       "        text-align: right;\n",
       "    }\n",
       "</style>\n",
       "<table border=\"1\" class=\"dataframe\">\n",
       "  <thead>\n",
       "    <tr style=\"text-align: right;\">\n",
       "      <th></th>\n",
       "      <th>tweet_id</th>\n",
       "      <th>author_id</th>\n",
       "      <th>content</th>\n",
       "      <th>lang</th>\n",
       "      <th>date</th>\n",
       "      <th>source</th>\n",
       "      <th>geo</th>\n",
       "      <th>retweet_count</th>\n",
       "      <th>like_count</th>\n",
       "      <th>quote_count</th>\n",
       "    </tr>\n",
       "  </thead>\n",
       "  <tbody>\n",
       "    <tr>\n",
       "      <th>0</th>\n",
       "      <td>1442143079373365248</td>\n",
       "      <td>1302375645666848768</td>\n",
       "      <td>@moh19si_ Who needs Messi ?</td>\n",
       "      <td>en</td>\n",
       "      <td>2021-09-26T15:04:38.000Z</td>\n",
       "      <td>Twitter for iPhone</td>\n",
       "      <td>NaN</td>\n",
       "      <td>0</td>\n",
       "      <td>0</td>\n",
       "      <td>0</td>\n",
       "    </tr>\n",
       "    <tr>\n",
       "      <th>1</th>\n",
       "      <td>1442143071995457542</td>\n",
       "      <td>116969561</td>\n",
       "      <td>RT @Forbes: Lionel Messi ranked No. 2 in this ...</td>\n",
       "      <td>en</td>\n",
       "      <td>2021-09-26T15:04:36.000Z</td>\n",
       "      <td>Twitter for Android</td>\n",
       "      <td>NaN</td>\n",
       "      <td>11</td>\n",
       "      <td>0</td>\n",
       "      <td>0</td>\n",
       "    </tr>\n",
       "    <tr>\n",
       "      <th>2</th>\n",
       "      <td>1442143058594652160</td>\n",
       "      <td>1296470104486612997</td>\n",
       "      <td>RT @ESPNFC: Pele congratulates Messi for break...</td>\n",
       "      <td>en</td>\n",
       "      <td>2021-09-26T15:04:33.000Z</td>\n",
       "      <td>Twitter Web App</td>\n",
       "      <td>NaN</td>\n",
       "      <td>637</td>\n",
       "      <td>0</td>\n",
       "      <td>0</td>\n",
       "    </tr>\n",
       "    <tr>\n",
       "      <th>3</th>\n",
       "      <td>1442143054836678656</td>\n",
       "      <td>4083107893</td>\n",
       "      <td>RT @CrewsMat10: PSG have lost 0 (ZERO) games s...</td>\n",
       "      <td>en</td>\n",
       "      <td>2021-09-26T15:04:32.000Z</td>\n",
       "      <td>Twitter for Android</td>\n",
       "      <td>NaN</td>\n",
       "      <td>510</td>\n",
       "      <td>0</td>\n",
       "      <td>0</td>\n",
       "    </tr>\n",
       "    <tr>\n",
       "      <th>4</th>\n",
       "      <td>1442143052265664514</td>\n",
       "      <td>1248782697029406720</td>\n",
       "      <td>RT @ESPNFC: Pele congratulates Messi for break...</td>\n",
       "      <td>en</td>\n",
       "      <td>2021-09-26T15:04:32.000Z</td>\n",
       "      <td>Twitter for Android</td>\n",
       "      <td>NaN</td>\n",
       "      <td>637</td>\n",
       "      <td>0</td>\n",
       "      <td>0</td>\n",
       "    </tr>\n",
       "  </tbody>\n",
       "</table>\n",
       "</div>"
      ],
      "text/plain": [
       "              tweet_id            author_id  \\\n",
       "0  1442143079373365248  1302375645666848768   \n",
       "1  1442143071995457542            116969561   \n",
       "2  1442143058594652160  1296470104486612997   \n",
       "3  1442143054836678656           4083107893   \n",
       "4  1442143052265664514  1248782697029406720   \n",
       "\n",
       "                                             content lang  \\\n",
       "0                        @moh19si_ Who needs Messi ?   en   \n",
       "1  RT @Forbes: Lionel Messi ranked No. 2 in this ...   en   \n",
       "2  RT @ESPNFC: Pele congratulates Messi for break...   en   \n",
       "3  RT @CrewsMat10: PSG have lost 0 (ZERO) games s...   en   \n",
       "4  RT @ESPNFC: Pele congratulates Messi for break...   en   \n",
       "\n",
       "                       date               source  geo  retweet_count  \\\n",
       "0  2021-09-26T15:04:38.000Z   Twitter for iPhone  NaN              0   \n",
       "1  2021-09-26T15:04:36.000Z  Twitter for Android  NaN             11   \n",
       "2  2021-09-26T15:04:33.000Z      Twitter Web App  NaN            637   \n",
       "3  2021-09-26T15:04:32.000Z  Twitter for Android  NaN            510   \n",
       "4  2021-09-26T15:04:32.000Z  Twitter for Android  NaN            637   \n",
       "\n",
       "   like_count  quote_count  \n",
       "0           0            0  \n",
       "1           0            0  \n",
       "2           0            0  \n",
       "3           0            0  \n",
       "4           0            0  "
      ]
     },
     "execution_count": 3,
     "metadata": {},
     "output_type": "execute_result"
    }
   ],
   "source": [
    "dataset_messi.head(5)"
   ]
  },
  {
   "cell_type": "markdown",
   "id": "a66c1977",
   "metadata": {
    "papermill": {
     "duration": 0.0431,
     "end_time": "2021-09-29T04:19:38.702908",
     "exception": false,
     "start_time": "2021-09-29T04:19:38.659808",
     "status": "completed"
    },
    "tags": []
   },
   "source": [
    "## Ronaldo"
   ]
  },
  {
   "cell_type": "code",
   "execution_count": 4,
   "id": "d5afcc65",
   "metadata": {
    "execution": {
     "iopub.execute_input": "2021-09-29T04:19:38.781385Z",
     "iopub.status.busy": "2021-09-29T04:19:38.780394Z",
     "iopub.status.idle": "2021-09-29T04:19:38.793695Z",
     "shell.execute_reply": "2021-09-29T04:19:38.794185Z",
     "shell.execute_reply.started": "2021-09-29T04:17:48.026567Z"
    },
    "papermill": {
     "duration": 0.054278,
     "end_time": "2021-09-29T04:19:38.794371",
     "exception": false,
     "start_time": "2021-09-29T04:19:38.740093",
     "status": "completed"
    },
    "tags": []
   },
   "outputs": [
    {
     "data": {
      "text/html": [
       "<div>\n",
       "<style scoped>\n",
       "    .dataframe tbody tr th:only-of-type {\n",
       "        vertical-align: middle;\n",
       "    }\n",
       "\n",
       "    .dataframe tbody tr th {\n",
       "        vertical-align: top;\n",
       "    }\n",
       "\n",
       "    .dataframe thead th {\n",
       "        text-align: right;\n",
       "    }\n",
       "</style>\n",
       "<table border=\"1\" class=\"dataframe\">\n",
       "  <thead>\n",
       "    <tr style=\"text-align: right;\">\n",
       "      <th></th>\n",
       "      <th>tweet_id</th>\n",
       "      <th>author_id</th>\n",
       "      <th>content</th>\n",
       "      <th>lang</th>\n",
       "      <th>date</th>\n",
       "      <th>source</th>\n",
       "      <th>geo</th>\n",
       "      <th>retweet_count</th>\n",
       "      <th>like_count</th>\n",
       "      <th>quote_count</th>\n",
       "    </tr>\n",
       "  </thead>\n",
       "  <tbody>\n",
       "    <tr>\n",
       "      <th>0</th>\n",
       "      <td>1442216040629514241</td>\n",
       "      <td>1395557892779122694</td>\n",
       "      <td>@AdusLP ronaldo was offside</td>\n",
       "      <td>en</td>\n",
       "      <td>2021-09-26T19:54:33.000Z</td>\n",
       "      <td>Twitter Web App</td>\n",
       "      <td>NaN</td>\n",
       "      <td>0</td>\n",
       "      <td>1</td>\n",
       "      <td>0</td>\n",
       "    </tr>\n",
       "    <tr>\n",
       "      <th>1</th>\n",
       "      <td>1442216031792074755</td>\n",
       "      <td>1176842712420630530</td>\n",
       "      <td>RT @Football__Tweet: ð½ The most effective t...</td>\n",
       "      <td>en</td>\n",
       "      <td>2021-09-26T19:54:31.000Z</td>\n",
       "      <td>Twitter for Android</td>\n",
       "      <td>NaN</td>\n",
       "      <td>18</td>\n",
       "      <td>0</td>\n",
       "      <td>0</td>\n",
       "    </tr>\n",
       "    <tr>\n",
       "      <th>2</th>\n",
       "      <td>1442216026456748036</td>\n",
       "      <td>2385664598</td>\n",
       "      <td>Ronaldo JR the only footballer to score a goal...</td>\n",
       "      <td>en</td>\n",
       "      <td>2021-09-26T19:54:30.000Z</td>\n",
       "      <td>Twitter for iPhone</td>\n",
       "      <td>NaN</td>\n",
       "      <td>0</td>\n",
       "      <td>0</td>\n",
       "      <td>0</td>\n",
       "    </tr>\n",
       "    <tr>\n",
       "      <th>3</th>\n",
       "      <td>1442216002197016578</td>\n",
       "      <td>1142495555790299138</td>\n",
       "      <td>RT @EdmundOris: Perfect weekend for Barca fans...</td>\n",
       "      <td>en</td>\n",
       "      <td>2021-09-26T19:54:24.000Z</td>\n",
       "      <td>Twitter for iPhone</td>\n",
       "      <td>NaN</td>\n",
       "      <td>571</td>\n",
       "      <td>0</td>\n",
       "      <td>0</td>\n",
       "    </tr>\n",
       "    <tr>\n",
       "      <th>4</th>\n",
       "      <td>1442215992344596488</td>\n",
       "      <td>793153149066481664</td>\n",
       "      <td>RT @EfoEtornam: No way Ansu Fati has more goal...</td>\n",
       "      <td>en</td>\n",
       "      <td>2021-09-26T19:54:22.000Z</td>\n",
       "      <td>Twitter for iPhone</td>\n",
       "      <td>NaN</td>\n",
       "      <td>106</td>\n",
       "      <td>0</td>\n",
       "      <td>0</td>\n",
       "    </tr>\n",
       "  </tbody>\n",
       "</table>\n",
       "</div>"
      ],
      "text/plain": [
       "              tweet_id            author_id  \\\n",
       "0  1442216040629514241  1395557892779122694   \n",
       "1  1442216031792074755  1176842712420630530   \n",
       "2  1442216026456748036           2385664598   \n",
       "3  1442216002197016578  1142495555790299138   \n",
       "4  1442215992344596488   793153149066481664   \n",
       "\n",
       "                                             content lang  \\\n",
       "0                        @AdusLP ronaldo was offside   en   \n",
       "1  RT @Football__Tweet: ð½ The most effective t...   en   \n",
       "2  Ronaldo JR the only footballer to score a goal...   en   \n",
       "3  RT @EdmundOris: Perfect weekend for Barca fans...   en   \n",
       "4  RT @EfoEtornam: No way Ansu Fati has more goal...   en   \n",
       "\n",
       "                       date               source  geo  retweet_count  \\\n",
       "0  2021-09-26T19:54:33.000Z      Twitter Web App  NaN              0   \n",
       "1  2021-09-26T19:54:31.000Z  Twitter for Android  NaN             18   \n",
       "2  2021-09-26T19:54:30.000Z   Twitter for iPhone  NaN              0   \n",
       "3  2021-09-26T19:54:24.000Z   Twitter for iPhone  NaN            571   \n",
       "4  2021-09-26T19:54:22.000Z   Twitter for iPhone  NaN            106   \n",
       "\n",
       "   like_count  quote_count  \n",
       "0           1            0  \n",
       "1           0            0  \n",
       "2           0            0  \n",
       "3           0            0  \n",
       "4           0            0  "
      ]
     },
     "execution_count": 4,
     "metadata": {},
     "output_type": "execute_result"
    }
   ],
   "source": [
    "dataset_ronaldo.head(5)"
   ]
  },
  {
   "cell_type": "markdown",
   "id": "d1f8f7ed",
   "metadata": {
    "papermill": {
     "duration": 0.037851,
     "end_time": "2021-09-29T04:19:38.869914",
     "exception": false,
     "start_time": "2021-09-29T04:19:38.832063",
     "status": "completed"
    },
    "tags": []
   },
   "source": [
    "# Data cleaning"
   ]
  },
  {
   "cell_type": "markdown",
   "id": "00270e72",
   "metadata": {
    "papermill": {
     "duration": 0.03736,
     "end_time": "2021-09-29T04:19:38.945089",
     "exception": false,
     "start_time": "2021-09-29T04:19:38.907729",
     "status": "completed"
    },
    "tags": []
   },
   "source": [
    "## Messi"
   ]
  },
  {
   "cell_type": "markdown",
   "id": "9fea49a1",
   "metadata": {
    "papermill": {
     "duration": 0.037951,
     "end_time": "2021-09-29T04:19:39.021432",
     "exception": false,
     "start_time": "2021-09-29T04:19:38.983481",
     "status": "completed"
    },
    "tags": []
   },
   "source": [
    "### Check for null values"
   ]
  },
  {
   "cell_type": "code",
   "execution_count": 5,
   "id": "b17f86bd",
   "metadata": {
    "execution": {
     "iopub.execute_input": "2021-09-29T04:19:39.101150Z",
     "iopub.status.busy": "2021-09-29T04:19:39.100207Z",
     "iopub.status.idle": "2021-09-29T04:19:39.126569Z",
     "shell.execute_reply": "2021-09-29T04:19:39.127054Z",
     "shell.execute_reply.started": "2021-09-29T04:17:48.714332Z"
    },
    "papermill": {
     "duration": 0.067593,
     "end_time": "2021-09-29T04:19:39.127238",
     "exception": false,
     "start_time": "2021-09-29T04:19:39.059645",
     "status": "completed"
    },
    "tags": []
   },
   "outputs": [
    {
     "data": {
      "text/plain": [
       "tweet_id             0\n",
       "author_id            0\n",
       "content              0\n",
       "lang                 0\n",
       "date                 0\n",
       "source               0\n",
       "geo              37003\n",
       "retweet_count        0\n",
       "like_count           0\n",
       "quote_count          0\n",
       "dtype: int64"
      ]
     },
     "execution_count": 5,
     "metadata": {},
     "output_type": "execute_result"
    }
   ],
   "source": [
    "dataset_messi.isna().sum()"
   ]
  },
  {
   "cell_type": "markdown",
   "id": "a13ecc47",
   "metadata": {
    "papermill": {
     "duration": 0.037736,
     "end_time": "2021-09-29T04:19:39.203061",
     "exception": false,
     "start_time": "2021-09-29T04:19:39.165325",
     "status": "completed"
    },
    "tags": []
   },
   "source": [
    "#### Percentage of null geo values "
   ]
  },
  {
   "cell_type": "code",
   "execution_count": 6,
   "id": "f2268e39",
   "metadata": {
    "execution": {
     "iopub.execute_input": "2021-09-29T04:19:39.283230Z",
     "iopub.status.busy": "2021-09-29T04:19:39.282232Z",
     "iopub.status.idle": "2021-09-29T04:19:39.288077Z",
     "shell.execute_reply": "2021-09-29T04:19:39.287469Z",
     "shell.execute_reply.started": "2021-09-29T04:17:49.086083Z"
    },
    "papermill": {
     "duration": 0.046943,
     "end_time": "2021-09-29T04:19:39.288211",
     "exception": false,
     "start_time": "2021-09-29T04:19:39.241268",
     "status": "completed"
    },
    "tags": []
   },
   "outputs": [
    {
     "name": "stdout",
     "output_type": "stream",
     "text": [
      "Number of values : 37097\n"
     ]
    }
   ],
   "source": [
    "count = len(dataset_messi.index)\n",
    "print(f\"Number of values : {count}\")"
   ]
  },
  {
   "cell_type": "code",
   "execution_count": 7,
   "id": "22417695",
   "metadata": {
    "execution": {
     "iopub.execute_input": "2021-09-29T04:19:39.389225Z",
     "iopub.status.busy": "2021-09-29T04:19:39.388208Z",
     "iopub.status.idle": "2021-09-29T04:19:39.398468Z",
     "shell.execute_reply": "2021-09-29T04:19:39.398972Z",
     "shell.execute_reply.started": "2021-09-29T04:17:49.175520Z"
    },
    "papermill": {
     "duration": 0.07236,
     "end_time": "2021-09-29T04:19:39.399167",
     "exception": false,
     "start_time": "2021-09-29T04:19:39.326807",
     "status": "completed"
    },
    "tags": []
   },
   "outputs": [
    {
     "name": "stdout",
     "output_type": "stream",
     "text": [
      "Percentage of null geo values 99.75%\n"
     ]
    }
   ],
   "source": [
    "count_null = dataset_messi.isna().sum()[\"geo\"]\n",
    "percentage = count_null*100/count\n",
    "print(f\"Percentage of null geo values {round(percentage,2)}%\")"
   ]
  },
  {
   "cell_type": "markdown",
   "id": "16c8829e",
   "metadata": {
    "papermill": {
     "duration": 0.038706,
     "end_time": "2021-09-29T04:19:39.476628",
     "exception": false,
     "start_time": "2021-09-29T04:19:39.437922",
     "status": "completed"
    },
    "tags": []
   },
   "source": [
    "### Assign the -1 id to null geo values"
   ]
  },
  {
   "cell_type": "code",
   "execution_count": 8,
   "id": "9232c74d",
   "metadata": {
    "execution": {
     "iopub.execute_input": "2021-09-29T04:19:39.590315Z",
     "iopub.status.busy": "2021-09-29T04:19:39.580211Z",
     "iopub.status.idle": "2021-09-29T04:19:39.594005Z",
     "shell.execute_reply": "2021-09-29T04:19:39.593441Z",
     "shell.execute_reply.started": "2021-09-29T04:17:49.444630Z"
    },
    "papermill": {
     "duration": 0.078506,
     "end_time": "2021-09-29T04:19:39.594154",
     "exception": false,
     "start_time": "2021-09-29T04:19:39.515648",
     "status": "completed"
    },
    "tags": []
   },
   "outputs": [],
   "source": [
    "dataset_messi.geo = dataset_messi.geo.apply(lambda x: -1 if pd.isna(x) else x)"
   ]
  },
  {
   "cell_type": "markdown",
   "id": "138b9c5f",
   "metadata": {
    "papermill": {
     "duration": 0.038531,
     "end_time": "2021-09-29T04:19:39.672007",
     "exception": false,
     "start_time": "2021-09-29T04:19:39.633476",
     "status": "completed"
    },
    "tags": []
   },
   "source": [
    "#### Display results"
   ]
  },
  {
   "cell_type": "code",
   "execution_count": 9,
   "id": "15600058",
   "metadata": {
    "execution": {
     "iopub.execute_input": "2021-09-29T04:19:39.756711Z",
     "iopub.status.busy": "2021-09-29T04:19:39.755941Z",
     "iopub.status.idle": "2021-09-29T04:19:39.759912Z",
     "shell.execute_reply": "2021-09-29T04:19:39.759236Z",
     "shell.execute_reply.started": "2021-09-29T04:17:49.756767Z"
    },
    "papermill": {
     "duration": 0.049286,
     "end_time": "2021-09-29T04:19:39.760062",
     "exception": false,
     "start_time": "2021-09-29T04:19:39.710776",
     "status": "completed"
    },
    "tags": []
   },
   "outputs": [
    {
     "data": {
      "text/plain": [
       "0    -1\n",
       "1    -1\n",
       "2    -1\n",
       "3    -1\n",
       "4    -1\n",
       "Name: geo, dtype: object"
      ]
     },
     "execution_count": 9,
     "metadata": {},
     "output_type": "execute_result"
    }
   ],
   "source": [
    "dataset_messi[\"geo\"].head(5)"
   ]
  },
  {
   "cell_type": "code",
   "execution_count": 10,
   "id": "fc2d2d5d",
   "metadata": {
    "execution": {
     "iopub.execute_input": "2021-09-29T04:19:39.848164Z",
     "iopub.status.busy": "2021-09-29T04:19:39.847215Z",
     "iopub.status.idle": "2021-09-29T04:19:39.851484Z",
     "shell.execute_reply": "2021-09-29T04:19:39.850941Z",
     "shell.execute_reply.started": "2021-09-29T04:17:49.862203Z"
    },
    "papermill": {
     "duration": 0.052,
     "end_time": "2021-09-29T04:19:39.851631",
     "exception": false,
     "start_time": "2021-09-29T04:19:39.799631",
     "status": "completed"
    },
    "tags": []
   },
   "outputs": [
    {
     "data": {
      "text/plain": [
       "array([-1, '1744381d2805a216', '5446838227498f51', '6a6d896ba1cb5dc4',\n",
       "       '5ccdc4a6f900a93f'], dtype=object)"
      ]
     },
     "execution_count": 10,
     "metadata": {},
     "output_type": "execute_result"
    }
   ],
   "source": [
    "dataset_messi[\"geo\"].unique()[0:5]"
   ]
  },
  {
   "cell_type": "markdown",
   "id": "6cebb5fd",
   "metadata": {
    "papermill": {
     "duration": 0.040032,
     "end_time": "2021-09-29T04:19:39.931437",
     "exception": false,
     "start_time": "2021-09-29T04:19:39.891405",
     "status": "completed"
    },
    "tags": []
   },
   "source": [
    "### Clean tweets : remove mentions, extra spaces and links"
   ]
  },
  {
   "cell_type": "markdown",
   "id": "f3cdccfb",
   "metadata": {
    "papermill": {
     "duration": 0.039867,
     "end_time": "2021-09-29T04:19:40.010914",
     "exception": false,
     "start_time": "2021-09-29T04:19:39.971047",
     "status": "completed"
    },
    "tags": []
   },
   "source": [
    "#### Regex"
   ]
  },
  {
   "cell_type": "code",
   "execution_count": 11,
   "id": "8c67222f",
   "metadata": {
    "execution": {
     "iopub.execute_input": "2021-09-29T04:19:40.094716Z",
     "iopub.status.busy": "2021-09-29T04:19:40.093688Z",
     "iopub.status.idle": "2021-09-29T04:19:40.097439Z",
     "shell.execute_reply": "2021-09-29T04:19:40.097959Z",
     "shell.execute_reply.started": "2021-09-29T04:17:50.274625Z"
    },
    "papermill": {
     "duration": 0.047937,
     "end_time": "2021-09-29T04:19:40.098122",
     "exception": false,
     "start_time": "2021-09-29T04:19:40.050185",
     "status": "completed"
    },
    "tags": []
   },
   "outputs": [],
   "source": [
    "regex1 = r'@[A-Za-z0-9]+'\n",
    "regex2 = r'https?://[A-Za-z0-9./]+'\n",
    "regex = r'|'.join((regex1, regex2))"
   ]
  },
  {
   "cell_type": "markdown",
   "id": "b4adcc3d",
   "metadata": {
    "papermill": {
     "duration": 0.039519,
     "end_time": "2021-09-29T04:19:40.177124",
     "exception": false,
     "start_time": "2021-09-29T04:19:40.137605",
     "status": "completed"
    },
    "tags": []
   },
   "source": [
    "#### Applying the regex"
   ]
  },
  {
   "cell_type": "code",
   "execution_count": 12,
   "id": "08d87520",
   "metadata": {
    "execution": {
     "iopub.execute_input": "2021-09-29T04:19:40.299868Z",
     "iopub.status.busy": "2021-09-29T04:19:40.284244Z",
     "iopub.status.idle": "2021-09-29T04:19:40.526409Z",
     "shell.execute_reply": "2021-09-29T04:19:40.525795Z",
     "shell.execute_reply.started": "2021-09-29T04:17:50.602155Z"
    },
    "papermill": {
     "duration": 0.309931,
     "end_time": "2021-09-29T04:19:40.526574",
     "exception": false,
     "start_time": "2021-09-29T04:19:40.216643",
     "status": "completed"
    },
    "tags": []
   },
   "outputs": [],
   "source": [
    "dataset_messi.content = dataset_messi.content.apply(lambda x: re.sub(regex, ' ', str(x).lower()).strip())\n",
    "dataset_messi.content = dataset_messi.content.apply(lambda x: x.replace(\"rt\",\"\",1)) # Remove the \"RT\" tag"
   ]
  },
  {
   "cell_type": "code",
   "execution_count": 13,
   "id": "7d75203c",
   "metadata": {
    "execution": {
     "iopub.execute_input": "2021-09-29T04:19:40.613484Z",
     "iopub.status.busy": "2021-09-29T04:19:40.610565Z",
     "iopub.status.idle": "2021-09-29T04:19:40.661604Z",
     "shell.execute_reply": "2021-09-29T04:19:40.660880Z",
     "shell.execute_reply.started": "2021-09-29T04:18:45.177881Z"
    },
    "papermill": {
     "duration": 0.093674,
     "end_time": "2021-09-29T04:19:40.661748",
     "exception": false,
     "start_time": "2021-09-29T04:19:40.568074",
     "status": "completed"
    },
    "tags": []
   },
   "outputs": [],
   "source": [
    "dataset_messi.content = dataset_messi.content.apply(lambda x: x.replace(\"_\",\"\")) # Remove the \"_\" \n",
    "dataset_messi.content = dataset_messi.content.apply(lambda x: x.replace(\":\",\"\")) # Remove the \":\" "
   ]
  },
  {
   "cell_type": "markdown",
   "id": "6735d183",
   "metadata": {
    "papermill": {
     "duration": 0.041119,
     "end_time": "2021-09-29T04:19:40.743613",
     "exception": false,
     "start_time": "2021-09-29T04:19:40.702494",
     "status": "completed"
    },
    "tags": []
   },
   "source": [
    "#### Display results"
   ]
  },
  {
   "cell_type": "code",
   "execution_count": 14,
   "id": "71f526c5",
   "metadata": {
    "execution": {
     "iopub.execute_input": "2021-09-29T04:19:40.837539Z",
     "iopub.status.busy": "2021-09-29T04:19:40.836792Z",
     "iopub.status.idle": "2021-09-29T04:19:40.839554Z",
     "shell.execute_reply": "2021-09-29T04:19:40.840029Z",
     "shell.execute_reply.started": "2021-09-29T04:18:46.490181Z"
    },
    "papermill": {
     "duration": 0.057038,
     "end_time": "2021-09-29T04:19:40.840204",
     "exception": false,
     "start_time": "2021-09-29T04:19:40.783166",
     "status": "completed"
    },
    "tags": []
   },
   "outputs": [
    {
     "data": {
      "text/html": [
       "<div>\n",
       "<style scoped>\n",
       "    .dataframe tbody tr th:only-of-type {\n",
       "        vertical-align: middle;\n",
       "    }\n",
       "\n",
       "    .dataframe tbody tr th {\n",
       "        vertical-align: top;\n",
       "    }\n",
       "\n",
       "    .dataframe thead th {\n",
       "        text-align: right;\n",
       "    }\n",
       "</style>\n",
       "<table border=\"1\" class=\"dataframe\">\n",
       "  <thead>\n",
       "    <tr style=\"text-align: right;\">\n",
       "      <th></th>\n",
       "      <th>tweet_id</th>\n",
       "      <th>author_id</th>\n",
       "      <th>content</th>\n",
       "      <th>lang</th>\n",
       "      <th>date</th>\n",
       "      <th>source</th>\n",
       "      <th>geo</th>\n",
       "      <th>retweet_count</th>\n",
       "      <th>like_count</th>\n",
       "      <th>quote_count</th>\n",
       "    </tr>\n",
       "  </thead>\n",
       "  <tbody>\n",
       "    <tr>\n",
       "      <th>0</th>\n",
       "      <td>1442143079373365248</td>\n",
       "      <td>1302375645666848768</td>\n",
       "      <td>who needs messi ?</td>\n",
       "      <td>en</td>\n",
       "      <td>2021-09-26T15:04:38.000Z</td>\n",
       "      <td>Twitter for iPhone</td>\n",
       "      <td>-1</td>\n",
       "      <td>0</td>\n",
       "      <td>0</td>\n",
       "      <td>0</td>\n",
       "    </tr>\n",
       "    <tr>\n",
       "      <th>1</th>\n",
       "      <td>1442143071995457542</td>\n",
       "      <td>116969561</td>\n",
       "      <td>lionel messi ranked no. 2 in this year's li...</td>\n",
       "      <td>en</td>\n",
       "      <td>2021-09-26T15:04:36.000Z</td>\n",
       "      <td>Twitter for Android</td>\n",
       "      <td>-1</td>\n",
       "      <td>11</td>\n",
       "      <td>0</td>\n",
       "      <td>0</td>\n",
       "    </tr>\n",
       "    <tr>\n",
       "      <th>2</th>\n",
       "      <td>1442143058594652160</td>\n",
       "      <td>1296470104486612997</td>\n",
       "      <td>pele congratulates messi for breaking his r...</td>\n",
       "      <td>en</td>\n",
       "      <td>2021-09-26T15:04:33.000Z</td>\n",
       "      <td>Twitter Web App</td>\n",
       "      <td>-1</td>\n",
       "      <td>637</td>\n",
       "      <td>0</td>\n",
       "      <td>0</td>\n",
       "    </tr>\n",
       "    <tr>\n",
       "      <th>3</th>\n",
       "      <td>1442143054836678656</td>\n",
       "      <td>4083107893</td>\n",
       "      <td>psg have lost 0 (zero) games since they sig...</td>\n",
       "      <td>en</td>\n",
       "      <td>2021-09-26T15:04:32.000Z</td>\n",
       "      <td>Twitter for Android</td>\n",
       "      <td>-1</td>\n",
       "      <td>510</td>\n",
       "      <td>0</td>\n",
       "      <td>0</td>\n",
       "    </tr>\n",
       "    <tr>\n",
       "      <th>4</th>\n",
       "      <td>1442143052265664514</td>\n",
       "      <td>1248782697029406720</td>\n",
       "      <td>pele congratulates messi for breaking his r...</td>\n",
       "      <td>en</td>\n",
       "      <td>2021-09-26T15:04:32.000Z</td>\n",
       "      <td>Twitter for Android</td>\n",
       "      <td>-1</td>\n",
       "      <td>637</td>\n",
       "      <td>0</td>\n",
       "      <td>0</td>\n",
       "    </tr>\n",
       "  </tbody>\n",
       "</table>\n",
       "</div>"
      ],
      "text/plain": [
       "              tweet_id            author_id  \\\n",
       "0  1442143079373365248  1302375645666848768   \n",
       "1  1442143071995457542            116969561   \n",
       "2  1442143058594652160  1296470104486612997   \n",
       "3  1442143054836678656           4083107893   \n",
       "4  1442143052265664514  1248782697029406720   \n",
       "\n",
       "                                             content lang  \\\n",
       "0                                  who needs messi ?   en   \n",
       "1     lionel messi ranked no. 2 in this year's li...   en   \n",
       "2     pele congratulates messi for breaking his r...   en   \n",
       "3     psg have lost 0 (zero) games since they sig...   en   \n",
       "4     pele congratulates messi for breaking his r...   en   \n",
       "\n",
       "                       date               source geo  retweet_count  \\\n",
       "0  2021-09-26T15:04:38.000Z   Twitter for iPhone  -1              0   \n",
       "1  2021-09-26T15:04:36.000Z  Twitter for Android  -1             11   \n",
       "2  2021-09-26T15:04:33.000Z      Twitter Web App  -1            637   \n",
       "3  2021-09-26T15:04:32.000Z  Twitter for Android  -1            510   \n",
       "4  2021-09-26T15:04:32.000Z  Twitter for Android  -1            637   \n",
       "\n",
       "   like_count  quote_count  \n",
       "0           0            0  \n",
       "1           0            0  \n",
       "2           0            0  \n",
       "3           0            0  \n",
       "4           0            0  "
      ]
     },
     "execution_count": 14,
     "metadata": {},
     "output_type": "execute_result"
    }
   ],
   "source": [
    "dataset_messi.head(5)"
   ]
  },
  {
   "cell_type": "markdown",
   "id": "094fe3f3",
   "metadata": {
    "papermill": {
     "duration": 0.040162,
     "end_time": "2021-09-29T04:19:40.921012",
     "exception": false,
     "start_time": "2021-09-29T04:19:40.880850",
     "status": "completed"
    },
    "tags": []
   },
   "source": [
    "### Check for non-english content"
   ]
  },
  {
   "cell_type": "code",
   "execution_count": 15,
   "id": "85f22c41",
   "metadata": {
    "execution": {
     "iopub.execute_input": "2021-09-29T04:19:41.009434Z",
     "iopub.status.busy": "2021-09-29T04:19:41.004305Z",
     "iopub.status.idle": "2021-09-29T04:19:41.013544Z",
     "shell.execute_reply": "2021-09-29T04:19:41.014024Z",
     "shell.execute_reply.started": "2021-09-29T04:17:52.113473Z"
    },
    "papermill": {
     "duration": 0.053016,
     "end_time": "2021-09-29T04:19:41.014204",
     "exception": false,
     "start_time": "2021-09-29T04:19:40.961188",
     "status": "completed"
    },
    "tags": []
   },
   "outputs": [],
   "source": [
    "assert dataset_messi[\"lang\"].unique()==\"en\", \"Non-english content detected\""
   ]
  },
  {
   "cell_type": "markdown",
   "id": "ccf7e715",
   "metadata": {
    "papermill": {
     "duration": 0.040078,
     "end_time": "2021-09-29T04:19:41.094788",
     "exception": false,
     "start_time": "2021-09-29T04:19:41.054710",
     "status": "completed"
    },
    "tags": []
   },
   "source": [
    "> Test passed"
   ]
  },
  {
   "cell_type": "markdown",
   "id": "b2192ef3",
   "metadata": {
    "papermill": {
     "duration": 0.039842,
     "end_time": "2021-09-29T04:19:41.174614",
     "exception": false,
     "start_time": "2021-09-29T04:19:41.134772",
     "status": "completed"
    },
    "tags": []
   },
   "source": [
    "## Ronaldo"
   ]
  },
  {
   "cell_type": "markdown",
   "id": "24658184",
   "metadata": {
    "papermill": {
     "duration": 0.039832,
     "end_time": "2021-09-29T04:19:41.254686",
     "exception": false,
     "start_time": "2021-09-29T04:19:41.214854",
     "status": "completed"
    },
    "tags": []
   },
   "source": [
    "### Check for null values"
   ]
  },
  {
   "cell_type": "code",
   "execution_count": 16,
   "id": "946fa5bc",
   "metadata": {
    "execution": {
     "iopub.execute_input": "2021-09-29T04:19:41.357021Z",
     "iopub.status.busy": "2021-09-29T04:19:41.356266Z",
     "iopub.status.idle": "2021-09-29T04:19:41.398037Z",
     "shell.execute_reply": "2021-09-29T04:19:41.397430Z",
     "shell.execute_reply.started": "2021-09-29T04:17:53.570698Z"
    },
    "papermill": {
     "duration": 0.095023,
     "end_time": "2021-09-29T04:19:41.398191",
     "exception": false,
     "start_time": "2021-09-29T04:19:41.303168",
     "status": "completed"
    },
    "tags": []
   },
   "outputs": [
    {
     "data": {
      "text/plain": [
       "tweet_id             0\n",
       "author_id            0\n",
       "content              0\n",
       "lang                 0\n",
       "date                 0\n",
       "source               0\n",
       "geo              36879\n",
       "retweet_count        0\n",
       "like_count           0\n",
       "quote_count          0\n",
       "dtype: int64"
      ]
     },
     "execution_count": 16,
     "metadata": {},
     "output_type": "execute_result"
    }
   ],
   "source": [
    "dataset_ronaldo.isna().sum()"
   ]
  },
  {
   "cell_type": "markdown",
   "id": "4d350b6b",
   "metadata": {
    "papermill": {
     "duration": 0.041296,
     "end_time": "2021-09-29T04:19:41.481598",
     "exception": false,
     "start_time": "2021-09-29T04:19:41.440302",
     "status": "completed"
    },
    "tags": []
   },
   "source": [
    "### Percentage of null geo values"
   ]
  },
  {
   "cell_type": "code",
   "execution_count": 17,
   "id": "b7f8c90e",
   "metadata": {
    "execution": {
     "iopub.execute_input": "2021-09-29T04:19:41.573365Z",
     "iopub.status.busy": "2021-09-29T04:19:41.572432Z",
     "iopub.status.idle": "2021-09-29T04:19:41.575522Z",
     "shell.execute_reply": "2021-09-29T04:19:41.576120Z",
     "shell.execute_reply.started": "2021-09-29T04:17:54.454122Z"
    },
    "papermill": {
     "duration": 0.049312,
     "end_time": "2021-09-29T04:19:41.576318",
     "exception": false,
     "start_time": "2021-09-29T04:19:41.527006",
     "status": "completed"
    },
    "tags": []
   },
   "outputs": [
    {
     "name": "stdout",
     "output_type": "stream",
     "text": [
      "Number of values: 37084\n"
     ]
    }
   ],
   "source": [
    "count = len(dataset_ronaldo.index)\n",
    "print(f\"Number of values: {count}\")"
   ]
  },
  {
   "cell_type": "code",
   "execution_count": 18,
   "id": "3da0e96a",
   "metadata": {
    "execution": {
     "iopub.execute_input": "2021-09-29T04:19:41.671669Z",
     "iopub.status.busy": "2021-09-29T04:19:41.670671Z",
     "iopub.status.idle": "2021-09-29T04:19:41.698462Z",
     "shell.execute_reply": "2021-09-29T04:19:41.697683Z",
     "shell.execute_reply.started": "2021-09-29T04:17:54.889196Z"
    },
    "papermill": {
     "duration": 0.07487,
     "end_time": "2021-09-29T04:19:41.698662",
     "exception": false,
     "start_time": "2021-09-29T04:19:41.623792",
     "status": "completed"
    },
    "tags": []
   },
   "outputs": [
    {
     "name": "stdout",
     "output_type": "stream",
     "text": [
      "Percentage of null geo values: 99.45%\n"
     ]
    }
   ],
   "source": [
    "count_null = dataset_ronaldo.isna().sum()[\"geo\"]\n",
    "percentage = count_null * 100/count\n",
    "print(f\"Percentage of null geo values: {round(percentage,2)}%\")"
   ]
  },
  {
   "cell_type": "markdown",
   "id": "71676048",
   "metadata": {
    "papermill": {
     "duration": 0.041673,
     "end_time": "2021-09-29T04:19:41.789187",
     "exception": false,
     "start_time": "2021-09-29T04:19:41.747514",
     "status": "completed"
    },
    "tags": []
   },
   "source": [
    "### Assign the -1 id to null geo values"
   ]
  },
  {
   "cell_type": "code",
   "execution_count": 19,
   "id": "dd0f3780",
   "metadata": {
    "execution": {
     "iopub.execute_input": "2021-09-29T04:19:41.878613Z",
     "iopub.status.busy": "2021-09-29T04:19:41.874865Z",
     "iopub.status.idle": "2021-09-29T04:19:41.918028Z",
     "shell.execute_reply": "2021-09-29T04:19:41.917351Z",
     "shell.execute_reply.started": "2021-09-29T04:17:55.774911Z"
    },
    "papermill": {
     "duration": 0.087391,
     "end_time": "2021-09-29T04:19:41.918176",
     "exception": false,
     "start_time": "2021-09-29T04:19:41.830785",
     "status": "completed"
    },
    "tags": []
   },
   "outputs": [],
   "source": [
    "dataset_ronaldo.geo = dataset_ronaldo.geo.apply(lambda x: -1 if pd.isna(x) else x)"
   ]
  },
  {
   "cell_type": "markdown",
   "id": "bf3e8f5f",
   "metadata": {
    "papermill": {
     "duration": 0.041467,
     "end_time": "2021-09-29T04:19:42.001092",
     "exception": false,
     "start_time": "2021-09-29T04:19:41.959625",
     "status": "completed"
    },
    "tags": []
   },
   "source": [
    "#### Display results"
   ]
  },
  {
   "cell_type": "code",
   "execution_count": 20,
   "id": "db58742f",
   "metadata": {
    "execution": {
     "iopub.execute_input": "2021-09-29T04:19:42.092981Z",
     "iopub.status.busy": "2021-09-29T04:19:42.088930Z",
     "iopub.status.idle": "2021-09-29T04:19:42.096666Z",
     "shell.execute_reply": "2021-09-29T04:19:42.096019Z",
     "shell.execute_reply.started": "2021-09-29T04:17:56.663412Z"
    },
    "papermill": {
     "duration": 0.054543,
     "end_time": "2021-09-29T04:19:42.096820",
     "exception": false,
     "start_time": "2021-09-29T04:19:42.042277",
     "status": "completed"
    },
    "tags": []
   },
   "outputs": [
    {
     "data": {
      "text/plain": [
       "0    -1\n",
       "1    -1\n",
       "2    -1\n",
       "3    -1\n",
       "4    -1\n",
       "Name: geo, dtype: object"
      ]
     },
     "execution_count": 20,
     "metadata": {},
     "output_type": "execute_result"
    }
   ],
   "source": [
    "dataset_ronaldo[\"geo\"].head(5)"
   ]
  },
  {
   "cell_type": "code",
   "execution_count": 21,
   "id": "bc1bce7e",
   "metadata": {
    "execution": {
     "iopub.execute_input": "2021-09-29T04:19:42.187458Z",
     "iopub.status.busy": "2021-09-29T04:19:42.186620Z",
     "iopub.status.idle": "2021-09-29T04:19:42.190263Z",
     "shell.execute_reply": "2021-09-29T04:19:42.189644Z",
     "shell.execute_reply.started": "2021-09-29T04:17:57.366175Z"
    },
    "papermill": {
     "duration": 0.052073,
     "end_time": "2021-09-29T04:19:42.190420",
     "exception": false,
     "start_time": "2021-09-29T04:19:42.138347",
     "status": "completed"
    },
    "tags": []
   },
   "outputs": [
    {
     "data": {
      "text/plain": [
       "array([-1, '00611f1548c7bdef', 'd91084e084c8fc53', '00817d75276a95cf',\n",
       "       'ade6e91af3b145c7'], dtype=object)"
      ]
     },
     "execution_count": 21,
     "metadata": {},
     "output_type": "execute_result"
    }
   ],
   "source": [
    "dataset_ronaldo[\"geo\"].unique()[0:5]"
   ]
  },
  {
   "cell_type": "markdown",
   "id": "a186b953",
   "metadata": {
    "papermill": {
     "duration": 0.041127,
     "end_time": "2021-09-29T04:19:42.273236",
     "exception": false,
     "start_time": "2021-09-29T04:19:42.232109",
     "status": "completed"
    },
    "tags": []
   },
   "source": [
    "### Clean tweets : remove mentions, links and extra spaces"
   ]
  },
  {
   "cell_type": "markdown",
   "id": "c4ce8ccf",
   "metadata": {
    "papermill": {
     "duration": 0.041248,
     "end_time": "2021-09-29T04:19:42.355964",
     "exception": false,
     "start_time": "2021-09-29T04:19:42.314716",
     "status": "completed"
    },
    "tags": []
   },
   "source": [
    "#### Regex"
   ]
  },
  {
   "cell_type": "code",
   "execution_count": 22,
   "id": "8da58bc6",
   "metadata": {
    "execution": {
     "iopub.execute_input": "2021-09-29T04:19:42.446964Z",
     "iopub.status.busy": "2021-09-29T04:19:42.446226Z",
     "iopub.status.idle": "2021-09-29T04:19:42.449125Z",
     "shell.execute_reply": "2021-09-29T04:19:42.448622Z",
     "shell.execute_reply.started": "2021-09-29T04:17:58.704708Z"
    },
    "papermill": {
     "duration": 0.051603,
     "end_time": "2021-09-29T04:19:42.449265",
     "exception": false,
     "start_time": "2021-09-29T04:19:42.397662",
     "status": "completed"
    },
    "tags": []
   },
   "outputs": [],
   "source": [
    "regex1 = r'@[A-Za-z0-9]+'\n",
    "regex2 = r'https?://[A-Za-z0-9./]+'\n",
    "regex = r'|'.join((regex1, regex2))"
   ]
  },
  {
   "cell_type": "markdown",
   "id": "e801de20",
   "metadata": {
    "papermill": {
     "duration": 0.041367,
     "end_time": "2021-09-29T04:19:42.532394",
     "exception": false,
     "start_time": "2021-09-29T04:19:42.491027",
     "status": "completed"
    },
    "tags": []
   },
   "source": [
    "#### Applying the regex"
   ]
  },
  {
   "cell_type": "code",
   "execution_count": 23,
   "id": "994b4c59",
   "metadata": {
    "execution": {
     "iopub.execute_input": "2021-09-29T04:19:42.622571Z",
     "iopub.status.busy": "2021-09-29T04:19:42.621864Z",
     "iopub.status.idle": "2021-09-29T04:19:42.899698Z",
     "shell.execute_reply": "2021-09-29T04:19:42.899003Z",
     "shell.execute_reply.started": "2021-09-29T04:18:11.574833Z"
    },
    "papermill": {
     "duration": 0.325461,
     "end_time": "2021-09-29T04:19:42.899855",
     "exception": false,
     "start_time": "2021-09-29T04:19:42.574394",
     "status": "completed"
    },
    "tags": []
   },
   "outputs": [],
   "source": [
    "dataset_ronaldo.content = dataset_ronaldo.content.apply(lambda x: re.sub(regex, ' ', str(x).lower()).strip())\n",
    "dataset_ronaldo.content = dataset_ronaldo.content.apply(lambda x: x.replace(\"rt\", \"\", 1)) # Remove the \"RT\" tag"
   ]
  },
  {
   "cell_type": "code",
   "execution_count": 24,
   "id": "de54f79a",
   "metadata": {
    "execution": {
     "iopub.execute_input": "2021-09-29T04:19:43.005533Z",
     "iopub.status.busy": "2021-09-29T04:19:42.989637Z",
     "iopub.status.idle": "2021-09-29T04:19:43.039515Z",
     "shell.execute_reply": "2021-09-29T04:19:43.038960Z",
     "shell.execute_reply.started": "2021-09-29T04:18:25.728592Z"
    },
    "papermill": {
     "duration": 0.097824,
     "end_time": "2021-09-29T04:19:43.039667",
     "exception": false,
     "start_time": "2021-09-29T04:19:42.941843",
     "status": "completed"
    },
    "tags": []
   },
   "outputs": [],
   "source": [
    "dataset_ronaldo.content = dataset_ronaldo.content.apply(lambda x: x.replace(\"_\",\"\")) # Remove the \"_\" \n",
    "dataset_ronaldo.content = dataset_ronaldo.content.apply(lambda x: x.replace(\":\",\"\")) # Remove the \":\" "
   ]
  },
  {
   "cell_type": "markdown",
   "id": "9b4f0680",
   "metadata": {
    "papermill": {
     "duration": 0.042125,
     "end_time": "2021-09-29T04:19:43.124789",
     "exception": false,
     "start_time": "2021-09-29T04:19:43.082664",
     "status": "completed"
    },
    "tags": []
   },
   "source": [
    "#### Display results"
   ]
  },
  {
   "cell_type": "code",
   "execution_count": 25,
   "id": "22ed0bf7",
   "metadata": {
    "execution": {
     "iopub.execute_input": "2021-09-29T04:19:43.221782Z",
     "iopub.status.busy": "2021-09-29T04:19:43.220783Z",
     "iopub.status.idle": "2021-09-29T04:19:43.224491Z",
     "shell.execute_reply": "2021-09-29T04:19:43.224944Z",
     "shell.execute_reply.started": "2021-09-29T04:18:29.107136Z"
    },
    "papermill": {
     "duration": 0.058576,
     "end_time": "2021-09-29T04:19:43.225119",
     "exception": false,
     "start_time": "2021-09-29T04:19:43.166543",
     "status": "completed"
    },
    "tags": []
   },
   "outputs": [
    {
     "data": {
      "text/html": [
       "<div>\n",
       "<style scoped>\n",
       "    .dataframe tbody tr th:only-of-type {\n",
       "        vertical-align: middle;\n",
       "    }\n",
       "\n",
       "    .dataframe tbody tr th {\n",
       "        vertical-align: top;\n",
       "    }\n",
       "\n",
       "    .dataframe thead th {\n",
       "        text-align: right;\n",
       "    }\n",
       "</style>\n",
       "<table border=\"1\" class=\"dataframe\">\n",
       "  <thead>\n",
       "    <tr style=\"text-align: right;\">\n",
       "      <th></th>\n",
       "      <th>tweet_id</th>\n",
       "      <th>author_id</th>\n",
       "      <th>content</th>\n",
       "      <th>lang</th>\n",
       "      <th>date</th>\n",
       "      <th>source</th>\n",
       "      <th>geo</th>\n",
       "      <th>retweet_count</th>\n",
       "      <th>like_count</th>\n",
       "      <th>quote_count</th>\n",
       "    </tr>\n",
       "  </thead>\n",
       "  <tbody>\n",
       "    <tr>\n",
       "      <th>0</th>\n",
       "      <td>1442216040629514241</td>\n",
       "      <td>1395557892779122694</td>\n",
       "      <td>ronaldo was offside</td>\n",
       "      <td>en</td>\n",
       "      <td>2021-09-26T19:54:33.000Z</td>\n",
       "      <td>Twitter Web App</td>\n",
       "      <td>-1</td>\n",
       "      <td>0</td>\n",
       "      <td>1</td>\n",
       "      <td>0</td>\n",
       "    </tr>\n",
       "    <tr>\n",
       "      <th>1</th>\n",
       "      <td>1442216031792074755</td>\n",
       "      <td>1176842712420630530</td>\n",
       "      <td>tweet ð½ the most effective trios over a s...</td>\n",
       "      <td>en</td>\n",
       "      <td>2021-09-26T19:54:31.000Z</td>\n",
       "      <td>Twitter for Android</td>\n",
       "      <td>-1</td>\n",
       "      <td>18</td>\n",
       "      <td>0</td>\n",
       "      <td>0</td>\n",
       "    </tr>\n",
       "    <tr>\n",
       "      <th>2</th>\n",
       "      <td>1442216026456748036</td>\n",
       "      <td>2385664598</td>\n",
       "      <td>ronaldo jr the only footballer to score a goal...</td>\n",
       "      <td>en</td>\n",
       "      <td>2021-09-26T19:54:30.000Z</td>\n",
       "      <td>Twitter for iPhone</td>\n",
       "      <td>-1</td>\n",
       "      <td>0</td>\n",
       "      <td>0</td>\n",
       "      <td>0</td>\n",
       "    </tr>\n",
       "    <tr>\n",
       "      <th>3</th>\n",
       "      <td>1442216002197016578</td>\n",
       "      <td>1142495555790299138</td>\n",
       "      <td>perfect weekend for barca fans and for me p...</td>\n",
       "      <td>en</td>\n",
       "      <td>2021-09-26T19:54:24.000Z</td>\n",
       "      <td>Twitter for iPhone</td>\n",
       "      <td>-1</td>\n",
       "      <td>571</td>\n",
       "      <td>0</td>\n",
       "      <td>0</td>\n",
       "    </tr>\n",
       "    <tr>\n",
       "      <th>4</th>\n",
       "      <td>1442215992344596488</td>\n",
       "      <td>793153149066481664</td>\n",
       "      <td>no way ansu fati has more goals outside the...</td>\n",
       "      <td>en</td>\n",
       "      <td>2021-09-26T19:54:22.000Z</td>\n",
       "      <td>Twitter for iPhone</td>\n",
       "      <td>-1</td>\n",
       "      <td>106</td>\n",
       "      <td>0</td>\n",
       "      <td>0</td>\n",
       "    </tr>\n",
       "  </tbody>\n",
       "</table>\n",
       "</div>"
      ],
      "text/plain": [
       "              tweet_id            author_id  \\\n",
       "0  1442216040629514241  1395557892779122694   \n",
       "1  1442216031792074755  1176842712420630530   \n",
       "2  1442216026456748036           2385664598   \n",
       "3  1442216002197016578  1142495555790299138   \n",
       "4  1442215992344596488   793153149066481664   \n",
       "\n",
       "                                             content lang  \\\n",
       "0                                ronaldo was offside   en   \n",
       "1    tweet ð½ the most effective trios over a s...   en   \n",
       "2  ronaldo jr the only footballer to score a goal...   en   \n",
       "3     perfect weekend for barca fans and for me p...   en   \n",
       "4     no way ansu fati has more goals outside the...   en   \n",
       "\n",
       "                       date               source geo  retweet_count  \\\n",
       "0  2021-09-26T19:54:33.000Z      Twitter Web App  -1              0   \n",
       "1  2021-09-26T19:54:31.000Z  Twitter for Android  -1             18   \n",
       "2  2021-09-26T19:54:30.000Z   Twitter for iPhone  -1              0   \n",
       "3  2021-09-26T19:54:24.000Z   Twitter for iPhone  -1            571   \n",
       "4  2021-09-26T19:54:22.000Z   Twitter for iPhone  -1            106   \n",
       "\n",
       "   like_count  quote_count  \n",
       "0           1            0  \n",
       "1           0            0  \n",
       "2           0            0  \n",
       "3           0            0  \n",
       "4           0            0  "
      ]
     },
     "execution_count": 25,
     "metadata": {},
     "output_type": "execute_result"
    }
   ],
   "source": [
    "dataset_ronaldo.head(5)"
   ]
  },
  {
   "cell_type": "markdown",
   "id": "64e6c16d",
   "metadata": {
    "papermill": {
     "duration": 0.043215,
     "end_time": "2021-09-29T04:19:43.311082",
     "exception": false,
     "start_time": "2021-09-29T04:19:43.267867",
     "status": "completed"
    },
    "tags": []
   },
   "source": [
    "### Check for non-english content"
   ]
  },
  {
   "cell_type": "code",
   "execution_count": 26,
   "id": "6edfcf53",
   "metadata": {
    "execution": {
     "iopub.execute_input": "2021-09-29T04:19:43.403608Z",
     "iopub.status.busy": "2021-09-29T04:19:43.402905Z",
     "iopub.status.idle": "2021-09-29T04:19:43.405669Z",
     "shell.execute_reply": "2021-09-29T04:19:43.406159Z",
     "shell.execute_reply.started": "2021-09-26T20:38:48.678039Z"
    },
    "papermill": {
     "duration": 0.052657,
     "end_time": "2021-09-29T04:19:43.406344",
     "exception": false,
     "start_time": "2021-09-29T04:19:43.353687",
     "status": "completed"
    },
    "tags": []
   },
   "outputs": [],
   "source": [
    "assert dataset_ronaldo[\"lang\"].unique()==\"en\", \"Non-english content detected\""
   ]
  },
  {
   "cell_type": "markdown",
   "id": "3549ebf7",
   "metadata": {
    "papermill": {
     "duration": 0.04194,
     "end_time": "2021-09-29T04:19:43.490864",
     "exception": false,
     "start_time": "2021-09-29T04:19:43.448924",
     "status": "completed"
    },
    "tags": []
   },
   "source": [
    "```\n",
    "Test passed\n",
    "```"
   ]
  },
  {
   "cell_type": "markdown",
   "id": "be1a2383",
   "metadata": {
    "papermill": {
     "duration": 0.041911,
     "end_time": "2021-09-29T04:19:43.575229",
     "exception": false,
     "start_time": "2021-09-29T04:19:43.533318",
     "status": "completed"
    },
    "tags": []
   },
   "source": [
    "# Save the cleaned datasets"
   ]
  },
  {
   "cell_type": "markdown",
   "id": "9d2e27dd",
   "metadata": {
    "papermill": {
     "duration": 0.043207,
     "end_time": "2021-09-29T04:19:43.660704",
     "exception": false,
     "start_time": "2021-09-29T04:19:43.617497",
     "status": "completed"
    },
    "tags": []
   },
   "source": [
    "## Messi "
   ]
  },
  {
   "cell_type": "code",
   "execution_count": 27,
   "id": "7e01c2af",
   "metadata": {
    "execution": {
     "iopub.execute_input": "2021-09-29T04:19:43.748526Z",
     "iopub.status.busy": "2021-09-29T04:19:43.747892Z",
     "iopub.status.idle": "2021-09-29T04:19:44.176484Z",
     "shell.execute_reply": "2021-09-29T04:19:44.175861Z",
     "shell.execute_reply.started": "2021-09-26T20:51:18.694924Z"
    },
    "papermill": {
     "duration": 0.47361,
     "end_time": "2021-09-29T04:19:44.176638",
     "exception": false,
     "start_time": "2021-09-29T04:19:43.703028",
     "status": "completed"
    },
    "tags": []
   },
   "outputs": [],
   "source": [
    "dataset_messi.to_csv(\"Cleaned_messi_tweets.csv\", index=False)"
   ]
  },
  {
   "cell_type": "markdown",
   "id": "0be4eafd",
   "metadata": {
    "papermill": {
     "duration": 0.042111,
     "end_time": "2021-09-29T04:19:44.262087",
     "exception": false,
     "start_time": "2021-09-29T04:19:44.219976",
     "status": "completed"
    },
    "tags": []
   },
   "source": [
    "## Ronaldo"
   ]
  },
  {
   "cell_type": "code",
   "execution_count": 28,
   "id": "6de14804",
   "metadata": {
    "execution": {
     "iopub.execute_input": "2021-09-29T04:19:44.354664Z",
     "iopub.status.busy": "2021-09-29T04:19:44.352594Z",
     "iopub.status.idle": "2021-09-29T04:19:44.806029Z",
     "shell.execute_reply": "2021-09-29T04:19:44.805465Z",
     "shell.execute_reply.started": "2021-09-26T20:51:49.394769Z"
    },
    "papermill": {
     "duration": 0.501381,
     "end_time": "2021-09-29T04:19:44.806195",
     "exception": false,
     "start_time": "2021-09-29T04:19:44.304814",
     "status": "completed"
    },
    "tags": []
   },
   "outputs": [],
   "source": [
    "dataset_ronaldo.to_csv(\"Cleaned_ronaldo_tweets.csv\", index=False)"
   ]
  }
 ],
 "metadata": {
  "kernelspec": {
   "display_name": "Python 3",
   "language": "python",
   "name": "python3"
  },
  "language_info": {
   "codemirror_mode": {
    "name": "ipython",
    "version": 3
   },
   "file_extension": ".py",
   "mimetype": "text/x-python",
   "name": "python",
   "nbconvert_exporter": "python",
   "pygments_lexer": "ipython3",
   "version": "3.7.10"
  },
  "papermill": {
   "default_parameters": {},
   "duration": 16.766298,
   "end_time": "2021-09-29T04:19:45.459485",
   "environment_variables": {},
   "exception": null,
   "input_path": "__notebook__.ipynb",
   "output_path": "__notebook__.ipynb",
   "parameters": {},
   "start_time": "2021-09-29T04:19:28.693187",
   "version": "2.3.3"
  }
 },
 "nbformat": 4,
 "nbformat_minor": 5
}
