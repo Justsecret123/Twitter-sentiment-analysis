{
 "cells": [
  {
   "cell_type": "markdown",
   "id": "97d433fd",
   "metadata": {
    "papermill": {
     "duration": 0.059126,
     "end_time": "2022-04-14T10:09:07.763613",
     "exception": false,
     "start_time": "2022-04-14T10:09:07.704487",
     "status": "completed"
    },
    "tags": []
   },
   "source": [
    "# Libraries"
   ]
  },
  {
   "cell_type": "code",
   "execution_count": 1,
   "id": "8489b24d",
   "metadata": {
    "_kg_hide-output": true,
    "execution": {
     "iopub.execute_input": "2022-04-14T10:09:07.859534Z",
     "iopub.status.busy": "2022-04-14T10:09:07.851414Z",
     "iopub.status.idle": "2022-04-14T10:09:17.884239Z",
     "shell.execute_reply": "2022-04-14T10:09:17.883507Z",
     "shell.execute_reply.started": "2022-04-14T10:07:39.329784Z"
    },
    "papermill": {
     "duration": 10.077753,
     "end_time": "2022-04-14T10:09:17.884426",
     "exception": false,
     "start_time": "2022-04-14T10:09:07.806673",
     "status": "completed"
    },
    "tags": []
   },
   "outputs": [
    {
     "name": "stdout",
     "output_type": "stream",
     "text": [
      "Collecting clean-text\r\n",
      "  Downloading clean_text-0.6.0-py3-none-any.whl (11 kB)\r\n",
      "Collecting ftfy<7.0,>=6.0\r\n",
      "  Downloading ftfy-6.1.1-py3-none-any.whl (53 kB)\r\n",
      "\u001b[K     |████████████████████████████████| 53 kB 550 kB/s \r\n",
      "\u001b[?25hRequirement already satisfied: emoji<2.0.0,>=1.0.0 in /opt/conda/lib/python3.7/site-packages (from clean-text) (1.5.0)\r\n",
      "Requirement already satisfied: wcwidth>=0.2.5 in /opt/conda/lib/python3.7/site-packages (from ftfy<7.0,>=6.0->clean-text) (0.2.5)\r\n",
      "Installing collected packages: ftfy, clean-text\r\n",
      "\u001b[33m  WARNING: The script ftfy is installed in '/root/.local/bin' which is not on PATH.\r\n",
      "  Consider adding this directory to PATH or, if you prefer to suppress this warning, use --no-warn-script-location.\u001b[0m\r\n",
      "Successfully installed clean-text-0.6.0 ftfy-6.1.1\r\n",
      "\u001b[33mWARNING: Running pip as the 'root' user can result in broken permissions and conflicting behaviour with the system package manager. It is recommended to use a virtual environment instead: https://pip.pypa.io/warnings/venv\u001b[0m\r\n"
     ]
    }
   ],
   "source": [
    "!pip install --user clean-text"
   ]
  },
  {
   "cell_type": "code",
   "execution_count": 2,
   "id": "b18b8fce",
   "metadata": {
    "execution": {
     "iopub.execute_input": "2022-04-14T10:09:17.976510Z",
     "iopub.status.busy": "2022-04-14T10:09:17.975819Z",
     "iopub.status.idle": "2022-04-14T10:09:18.595390Z",
     "shell.execute_reply": "2022-04-14T10:09:18.594778Z",
     "shell.execute_reply.started": "2022-04-14T10:07:47.564179Z"
    },
    "papermill": {
     "duration": 0.667692,
     "end_time": "2022-04-14T10:09:18.595553",
     "exception": false,
     "start_time": "2022-04-14T10:09:17.927861",
     "status": "completed"
    },
    "tags": []
   },
   "outputs": [],
   "source": [
    "import os\n",
    "import re\n",
    "import numpy as np\n",
    "import pandas as pd\n",
    "from cleantext import clean"
   ]
  },
  {
   "cell_type": "markdown",
   "id": "5983535f",
   "metadata": {
    "papermill": {
     "duration": 0.047611,
     "end_time": "2022-04-14T10:09:18.685899",
     "exception": false,
     "start_time": "2022-04-14T10:09:18.638288",
     "status": "completed"
    },
    "tags": []
   },
   "source": [
    "# Files"
   ]
  },
  {
   "cell_type": "markdown",
   "id": "8a2a9add",
   "metadata": {
    "papermill": {
     "duration": 0.053786,
     "end_time": "2022-04-14T10:09:18.794641",
     "exception": false,
     "start_time": "2022-04-14T10:09:18.740855",
     "status": "completed"
    },
    "tags": []
   },
   "source": [
    "## Dataset donwload"
   ]
  },
  {
   "cell_type": "code",
   "execution_count": 3,
   "id": "b708e254",
   "metadata": {
    "execution": {
     "iopub.execute_input": "2022-04-14T10:09:18.888733Z",
     "iopub.status.busy": "2022-04-14T10:09:18.887987Z",
     "iopub.status.idle": "2022-04-14T10:09:20.187306Z",
     "shell.execute_reply": "2022-04-14T10:09:20.187816Z",
     "shell.execute_reply.started": "2022-04-14T10:07:48.033800Z"
    },
    "papermill": {
     "duration": 1.349046,
     "end_time": "2022-04-14T10:09:20.187985",
     "exception": false,
     "start_time": "2022-04-14T10:09:18.838939",
     "status": "completed"
    },
    "tags": []
   },
   "outputs": [
    {
     "name": "stderr",
     "output_type": "stream",
     "text": [
      "/opt/conda/lib/python3.7/site-packages/IPython/core/interactiveshell.py:3441: DtypeWarning: Columns (0,1) have mixed types.Specify dtype option on import or set low_memory=False.\n",
      "  exec(code_obj, self.user_global_ns, self.user_ns)\n"
     ]
    }
   ],
   "source": [
    "dataset_messi = pd.read_csv(\"/kaggle/input/twitter-sentiment-analysis-and-word-embeddings/messi_tweets.csv\", encoding=\"utf-8\")\n",
    "dataset_ronaldo = pd.read_csv(\"/kaggle/input/twitter-sentiment-analysis-and-word-embeddings/ronaldo_tweets.csv\", encoding=\"utf-8\")"
   ]
  },
  {
   "cell_type": "markdown",
   "id": "72012dca",
   "metadata": {
    "papermill": {
     "duration": 0.044266,
     "end_time": "2022-04-14T10:09:20.276571",
     "exception": false,
     "start_time": "2022-04-14T10:09:20.232305",
     "status": "completed"
    },
    "tags": []
   },
   "source": [
    "# Show some examples"
   ]
  },
  {
   "cell_type": "markdown",
   "id": "b7ced5b0",
   "metadata": {
    "papermill": {
     "duration": 0.042603,
     "end_time": "2022-04-14T10:09:20.364366",
     "exception": false,
     "start_time": "2022-04-14T10:09:20.321763",
     "status": "completed"
    },
    "tags": []
   },
   "source": [
    "## Messi"
   ]
  },
  {
   "cell_type": "code",
   "execution_count": 4,
   "id": "14a8b353",
   "metadata": {
    "execution": {
     "iopub.execute_input": "2022-04-14T10:09:20.454928Z",
     "iopub.status.busy": "2022-04-14T10:09:20.454086Z",
     "iopub.status.idle": "2022-04-14T10:09:20.478751Z",
     "shell.execute_reply": "2022-04-14T10:09:20.478067Z",
     "shell.execute_reply.started": "2022-04-14T10:07:49.396487Z"
    },
    "papermill": {
     "duration": 0.070773,
     "end_time": "2022-04-14T10:09:20.478900",
     "exception": false,
     "start_time": "2022-04-14T10:09:20.408127",
     "status": "completed"
    },
    "tags": []
   },
   "outputs": [
    {
     "data": {
      "text/html": [
       "<div>\n",
       "<style scoped>\n",
       "    .dataframe tbody tr th:only-of-type {\n",
       "        vertical-align: middle;\n",
       "    }\n",
       "\n",
       "    .dataframe tbody tr th {\n",
       "        vertical-align: top;\n",
       "    }\n",
       "\n",
       "    .dataframe thead th {\n",
       "        text-align: right;\n",
       "    }\n",
       "</style>\n",
       "<table border=\"1\" class=\"dataframe\">\n",
       "  <thead>\n",
       "    <tr style=\"text-align: right;\">\n",
       "      <th></th>\n",
       "      <th>tweet_id</th>\n",
       "      <th>author_id</th>\n",
       "      <th>content</th>\n",
       "      <th>lang</th>\n",
       "      <th>date</th>\n",
       "      <th>source</th>\n",
       "      <th>geo</th>\n",
       "      <th>retweet_count</th>\n",
       "      <th>like_count</th>\n",
       "      <th>quote_count</th>\n",
       "    </tr>\n",
       "  </thead>\n",
       "  <tbody>\n",
       "    <tr>\n",
       "      <th>0</th>\n",
       "      <td>1514503439291543554</td>\n",
       "      <td>1504674335533187078</td>\n",
       "      <td>When did this happened????? #Messi https://t.c...</td>\n",
       "      <td>en</td>\n",
       "      <td>2022-04-14T07:18:52.000Z</td>\n",
       "      <td>Twitter for Android</td>\n",
       "      <td>NaN</td>\n",
       "      <td>1</td>\n",
       "      <td>1</td>\n",
       "      <td>0</td>\n",
       "    </tr>\n",
       "    <tr>\n",
       "      <th>1</th>\n",
       "      <td>1514503399462432770</td>\n",
       "      <td>1437183590781964290</td>\n",
       "      <td>Highest Ranking Active Players on My All-Time ...</td>\n",
       "      <td>en</td>\n",
       "      <td>2022-04-14T07:18:43.000Z</td>\n",
       "      <td>Twitter for iPhone</td>\n",
       "      <td>NaN</td>\n",
       "      <td>0</td>\n",
       "      <td>0</td>\n",
       "      <td>0</td>\n",
       "    </tr>\n",
       "    <tr>\n",
       "      <th>2</th>\n",
       "      <td>1514503259762958336</td>\n",
       "      <td>819679110</td>\n",
       "      <td>@st3vat @PederHL @sidlowe Don’t get me wrong m...</td>\n",
       "      <td>en</td>\n",
       "      <td>2022-04-14T07:18:09.000Z</td>\n",
       "      <td>Twitter for iPhone</td>\n",
       "      <td>NaN</td>\n",
       "      <td>0</td>\n",
       "      <td>0</td>\n",
       "      <td>0</td>\n",
       "    </tr>\n",
       "    <tr>\n",
       "      <th>3</th>\n",
       "      <td>1514503228221702144</td>\n",
       "      <td>1012688452863909891</td>\n",
       "      <td>@DaddyArteta @RonaldoW7_ @goal @PSG_English @T...</td>\n",
       "      <td>en</td>\n",
       "      <td>2022-04-14T07:18:02.000Z</td>\n",
       "      <td>Twitter for Android</td>\n",
       "      <td>NaN</td>\n",
       "      <td>0</td>\n",
       "      <td>0</td>\n",
       "      <td>0</td>\n",
       "    </tr>\n",
       "    <tr>\n",
       "      <th>4</th>\n",
       "      <td>1514503144478322688</td>\n",
       "      <td>1309496212345810944</td>\n",
       "      <td>Messi has to pay now 50m to play?? https://t.c...</td>\n",
       "      <td>en</td>\n",
       "      <td>2022-04-14T07:17:42.000Z</td>\n",
       "      <td>Twitter for Android</td>\n",
       "      <td>NaN</td>\n",
       "      <td>0</td>\n",
       "      <td>1</td>\n",
       "      <td>0</td>\n",
       "    </tr>\n",
       "  </tbody>\n",
       "</table>\n",
       "</div>"
      ],
      "text/plain": [
       "              tweet_id            author_id  \\\n",
       "0  1514503439291543554  1504674335533187078   \n",
       "1  1514503399462432770  1437183590781964290   \n",
       "2  1514503259762958336            819679110   \n",
       "3  1514503228221702144  1012688452863909891   \n",
       "4  1514503144478322688  1309496212345810944   \n",
       "\n",
       "                                             content lang  \\\n",
       "0  When did this happened????? #Messi https://t.c...   en   \n",
       "1  Highest Ranking Active Players on My All-Time ...   en   \n",
       "2  @st3vat @PederHL @sidlowe Don’t get me wrong m...   en   \n",
       "3  @DaddyArteta @RonaldoW7_ @goal @PSG_English @T...   en   \n",
       "4  Messi has to pay now 50m to play?? https://t.c...   en   \n",
       "\n",
       "                       date               source  geo  retweet_count  \\\n",
       "0  2022-04-14T07:18:52.000Z  Twitter for Android  NaN              1   \n",
       "1  2022-04-14T07:18:43.000Z   Twitter for iPhone  NaN              0   \n",
       "2  2022-04-14T07:18:09.000Z   Twitter for iPhone  NaN              0   \n",
       "3  2022-04-14T07:18:02.000Z  Twitter for Android  NaN              0   \n",
       "4  2022-04-14T07:17:42.000Z  Twitter for Android  NaN              0   \n",
       "\n",
       "   like_count  quote_count  \n",
       "0           1            0  \n",
       "1           0            0  \n",
       "2           0            0  \n",
       "3           0            0  \n",
       "4           1            0  "
      ]
     },
     "execution_count": 4,
     "metadata": {},
     "output_type": "execute_result"
    }
   ],
   "source": [
    "dataset_messi.head(5)"
   ]
  },
  {
   "cell_type": "markdown",
   "id": "6e1bc736",
   "metadata": {
    "papermill": {
     "duration": 0.044077,
     "end_time": "2022-04-14T10:09:20.568044",
     "exception": false,
     "start_time": "2022-04-14T10:09:20.523967",
     "status": "completed"
    },
    "tags": []
   },
   "source": [
    "## Ronaldo"
   ]
  },
  {
   "cell_type": "code",
   "execution_count": 5,
   "id": "f4673252",
   "metadata": {
    "execution": {
     "iopub.execute_input": "2022-04-14T10:09:20.671476Z",
     "iopub.status.busy": "2022-04-14T10:09:20.670722Z",
     "iopub.status.idle": "2022-04-14T10:09:20.675237Z",
     "shell.execute_reply": "2022-04-14T10:09:20.674713Z",
     "shell.execute_reply.started": "2022-04-14T10:07:49.421094Z"
    },
    "papermill": {
     "duration": 0.064224,
     "end_time": "2022-04-14T10:09:20.675384",
     "exception": false,
     "start_time": "2022-04-14T10:09:20.611160",
     "status": "completed"
    },
    "tags": []
   },
   "outputs": [
    {
     "data": {
      "text/html": [
       "<div>\n",
       "<style scoped>\n",
       "    .dataframe tbody tr th:only-of-type {\n",
       "        vertical-align: middle;\n",
       "    }\n",
       "\n",
       "    .dataframe tbody tr th {\n",
       "        vertical-align: top;\n",
       "    }\n",
       "\n",
       "    .dataframe thead th {\n",
       "        text-align: right;\n",
       "    }\n",
       "</style>\n",
       "<table border=\"1\" class=\"dataframe\">\n",
       "  <thead>\n",
       "    <tr style=\"text-align: right;\">\n",
       "      <th></th>\n",
       "      <th>tweet_id</th>\n",
       "      <th>author_id</th>\n",
       "      <th>content</th>\n",
       "      <th>lang</th>\n",
       "      <th>date</th>\n",
       "      <th>source</th>\n",
       "      <th>geo</th>\n",
       "      <th>retweet_count</th>\n",
       "      <th>like_count</th>\n",
       "      <th>quote_count</th>\n",
       "    </tr>\n",
       "  </thead>\n",
       "  <tbody>\n",
       "    <tr>\n",
       "      <th>0</th>\n",
       "      <td>1514503408820051969</td>\n",
       "      <td>1406215235829182470</td>\n",
       "      <td>🗣 Dressing room source at Ajax:   \"There's bee...</td>\n",
       "      <td>en</td>\n",
       "      <td>2022-04-14T07:18:45.000Z</td>\n",
       "      <td>Twitter Web App</td>\n",
       "      <td>NaN</td>\n",
       "      <td>0.0</td>\n",
       "      <td>0.0</td>\n",
       "      <td>0.0</td>\n",
       "    </tr>\n",
       "    <tr>\n",
       "      <th>1</th>\n",
       "      <td>1514503399462432770</td>\n",
       "      <td>1437183590781964290</td>\n",
       "      <td>Highest Ranking Active Players on My All-Time ...</td>\n",
       "      <td>en</td>\n",
       "      <td>2022-04-14T07:18:43.000Z</td>\n",
       "      <td>Twitter for iPhone</td>\n",
       "      <td>NaN</td>\n",
       "      <td>0.0</td>\n",
       "      <td>0.0</td>\n",
       "      <td>0.0</td>\n",
       "    </tr>\n",
       "    <tr>\n",
       "      <th>2</th>\n",
       "      <td>1514503356764418051</td>\n",
       "      <td>1215836950931705856</td>\n",
       "      <td>@RonaIdoProp @theutdjournal @lauriewhitwell @T...</td>\n",
       "      <td>en</td>\n",
       "      <td>2022-04-14T07:18:33.000Z</td>\n",
       "      <td>Twitter for Android</td>\n",
       "      <td>NaN</td>\n",
       "      <td>0.0</td>\n",
       "      <td>0.0</td>\n",
       "      <td>0.0</td>\n",
       "    </tr>\n",
       "    <tr>\n",
       "      <th>3</th>\n",
       "      <td>1514503333112864771</td>\n",
       "      <td>1201535456141168640</td>\n",
       "      <td>Timber + @atchouameni + @Darwinn99  That's it ...</td>\n",
       "      <td>en</td>\n",
       "      <td>2022-04-14T07:18:27.000Z</td>\n",
       "      <td>Twitter for Android</td>\n",
       "      <td>NaN</td>\n",
       "      <td>0.0</td>\n",
       "      <td>0.0</td>\n",
       "      <td>0.0</td>\n",
       "    </tr>\n",
       "    <tr>\n",
       "      <th>4</th>\n",
       "      <td>1514503191563579394</td>\n",
       "      <td>1080591523715129344</td>\n",
       "      <td>A quick reminder that Cristiano Ronaldo is the...</td>\n",
       "      <td>en</td>\n",
       "      <td>2022-04-14T07:17:53.000Z</td>\n",
       "      <td>Twitter for iPhone</td>\n",
       "      <td>NaN</td>\n",
       "      <td>0.0</td>\n",
       "      <td>0.0</td>\n",
       "      <td>0.0</td>\n",
       "    </tr>\n",
       "  </tbody>\n",
       "</table>\n",
       "</div>"
      ],
      "text/plain": [
       "              tweet_id            author_id  \\\n",
       "0  1514503408820051969  1406215235829182470   \n",
       "1  1514503399462432770  1437183590781964290   \n",
       "2  1514503356764418051  1215836950931705856   \n",
       "3  1514503333112864771  1201535456141168640   \n",
       "4  1514503191563579394  1080591523715129344   \n",
       "\n",
       "                                             content lang  \\\n",
       "0  🗣 Dressing room source at Ajax:   \"There's bee...   en   \n",
       "1  Highest Ranking Active Players on My All-Time ...   en   \n",
       "2  @RonaIdoProp @theutdjournal @lauriewhitwell @T...   en   \n",
       "3  Timber + @atchouameni + @Darwinn99  That's it ...   en   \n",
       "4  A quick reminder that Cristiano Ronaldo is the...   en   \n",
       "\n",
       "                       date               source  geo  retweet_count  \\\n",
       "0  2022-04-14T07:18:45.000Z      Twitter Web App  NaN            0.0   \n",
       "1  2022-04-14T07:18:43.000Z   Twitter for iPhone  NaN            0.0   \n",
       "2  2022-04-14T07:18:33.000Z  Twitter for Android  NaN            0.0   \n",
       "3  2022-04-14T07:18:27.000Z  Twitter for Android  NaN            0.0   \n",
       "4  2022-04-14T07:17:53.000Z   Twitter for iPhone  NaN            0.0   \n",
       "\n",
       "   like_count  quote_count  \n",
       "0         0.0          0.0  \n",
       "1         0.0          0.0  \n",
       "2         0.0          0.0  \n",
       "3         0.0          0.0  \n",
       "4         0.0          0.0  "
      ]
     },
     "execution_count": 5,
     "metadata": {},
     "output_type": "execute_result"
    }
   ],
   "source": [
    "dataset_ronaldo.head(5)"
   ]
  },
  {
   "cell_type": "markdown",
   "id": "1d696660",
   "metadata": {
    "papermill": {
     "duration": 0.044111,
     "end_time": "2022-04-14T10:09:20.764343",
     "exception": false,
     "start_time": "2022-04-14T10:09:20.720232",
     "status": "completed"
    },
    "tags": []
   },
   "source": [
    "# Data cleaning"
   ]
  },
  {
   "cell_type": "markdown",
   "id": "8ba042c5",
   "metadata": {
    "papermill": {
     "duration": 0.046428,
     "end_time": "2022-04-14T10:09:20.854783",
     "exception": false,
     "start_time": "2022-04-14T10:09:20.808355",
     "status": "completed"
    },
    "tags": []
   },
   "source": [
    "## Messi"
   ]
  },
  {
   "cell_type": "markdown",
   "id": "99f461b5",
   "metadata": {
    "papermill": {
     "duration": 0.043934,
     "end_time": "2022-04-14T10:09:20.942820",
     "exception": false,
     "start_time": "2022-04-14T10:09:20.898886",
     "status": "completed"
    },
    "tags": []
   },
   "source": [
    "### Check for null values"
   ]
  },
  {
   "cell_type": "code",
   "execution_count": 6,
   "id": "c123eb55",
   "metadata": {
    "execution": {
     "iopub.execute_input": "2022-04-14T10:09:21.075682Z",
     "iopub.status.busy": "2022-04-14T10:09:21.074895Z",
     "iopub.status.idle": "2022-04-14T10:09:21.084451Z",
     "shell.execute_reply": "2022-04-14T10:09:21.083867Z",
     "shell.execute_reply.started": "2022-04-14T10:07:49.438253Z"
    },
    "papermill": {
     "duration": 0.096982,
     "end_time": "2022-04-14T10:09:21.084618",
     "exception": false,
     "start_time": "2022-04-14T10:09:20.987636",
     "status": "completed"
    },
    "tags": []
   },
   "outputs": [
    {
     "data": {
      "text/plain": [
       "tweet_id             0\n",
       "author_id            0\n",
       "content              0\n",
       "lang                 0\n",
       "date                 0\n",
       "source               0\n",
       "geo              73511\n",
       "retweet_count        0\n",
       "like_count           0\n",
       "quote_count          0\n",
       "dtype: int64"
      ]
     },
     "execution_count": 6,
     "metadata": {},
     "output_type": "execute_result"
    }
   ],
   "source": [
    "dataset_messi.isna().sum()"
   ]
  },
  {
   "cell_type": "markdown",
   "id": "0e4e8f7c",
   "metadata": {
    "papermill": {
     "duration": 0.044033,
     "end_time": "2022-04-14T10:09:21.175468",
     "exception": false,
     "start_time": "2022-04-14T10:09:21.131435",
     "status": "completed"
    },
    "tags": []
   },
   "source": [
    "### Drop duplicates\n",
    "Based on tweet ID"
   ]
  },
  {
   "cell_type": "code",
   "execution_count": 7,
   "id": "352a655b",
   "metadata": {
    "execution": {
     "iopub.execute_input": "2022-04-14T10:09:21.278612Z",
     "iopub.status.busy": "2022-04-14T10:09:21.277877Z",
     "iopub.status.idle": "2022-04-14T10:09:21.300288Z",
     "shell.execute_reply": "2022-04-14T10:09:21.299676Z",
     "shell.execute_reply.started": "2022-04-14T10:07:49.478061Z"
    },
    "papermill": {
     "duration": 0.080759,
     "end_time": "2022-04-14T10:09:21.300450",
     "exception": false,
     "start_time": "2022-04-14T10:09:21.219691",
     "status": "completed"
    },
    "tags": []
   },
   "outputs": [
    {
     "name": "stdout",
     "output_type": "stream",
     "text": [
      "Row count before deletion: 74049 \n",
      "Row count after deletion: 74049\n"
     ]
    }
   ],
   "source": [
    "print(f\"Row count before deletion: {len(dataset_messi.index)} \")\n",
    "dataset_messi = dataset_messi.drop_duplicates(subset=\"tweet_id\", keep=\"first\")\n",
    "print(f\"Row count after deletion: {len(dataset_messi.index)}\")"
   ]
  },
  {
   "cell_type": "markdown",
   "id": "68cb22b0",
   "metadata": {
    "papermill": {
     "duration": 0.044549,
     "end_time": "2022-04-14T10:09:21.389592",
     "exception": false,
     "start_time": "2022-04-14T10:09:21.345043",
     "status": "completed"
    },
    "tags": []
   },
   "source": [
    "#### Percentage of null geo values "
   ]
  },
  {
   "cell_type": "code",
   "execution_count": 8,
   "id": "00f8abbf",
   "metadata": {
    "execution": {
     "iopub.execute_input": "2022-04-14T10:09:21.488934Z",
     "iopub.status.busy": "2022-04-14T10:09:21.488181Z",
     "iopub.status.idle": "2022-04-14T10:09:21.492252Z",
     "shell.execute_reply": "2022-04-14T10:09:21.491587Z",
     "shell.execute_reply.started": "2022-04-14T10:07:49.514898Z"
    },
    "papermill": {
     "duration": 0.058273,
     "end_time": "2022-04-14T10:09:21.492394",
     "exception": false,
     "start_time": "2022-04-14T10:09:21.434121",
     "status": "completed"
    },
    "tags": []
   },
   "outputs": [
    {
     "name": "stdout",
     "output_type": "stream",
     "text": [
      "Number of values : 74049\n"
     ]
    }
   ],
   "source": [
    "count = len(dataset_messi.index)\n",
    "print(f\"Number of values : {count}\")"
   ]
  },
  {
   "cell_type": "code",
   "execution_count": 9,
   "id": "7de221aa",
   "metadata": {
    "execution": {
     "iopub.execute_input": "2022-04-14T10:09:21.628824Z",
     "iopub.status.busy": "2022-04-14T10:09:21.628071Z",
     "iopub.status.idle": "2022-04-14T10:09:21.633613Z",
     "shell.execute_reply": "2022-04-14T10:09:21.633040Z",
     "shell.execute_reply.started": "2022-04-14T10:07:49.520896Z"
    },
    "papermill": {
     "duration": 0.093676,
     "end_time": "2022-04-14T10:09:21.633760",
     "exception": false,
     "start_time": "2022-04-14T10:09:21.540084",
     "status": "completed"
    },
    "tags": []
   },
   "outputs": [
    {
     "name": "stdout",
     "output_type": "stream",
     "text": [
      "Percentage of null geo values 99.27%\n"
     ]
    }
   ],
   "source": [
    "count_null = dataset_messi.isna().sum()[\"geo\"]\n",
    "percentage = count_null*100/count\n",
    "print(f\"Percentage of null geo values {round(percentage,2)}%\")"
   ]
  },
  {
   "cell_type": "markdown",
   "id": "dd1f19bf",
   "metadata": {
    "papermill": {
     "duration": 0.045516,
     "end_time": "2022-04-14T10:09:21.725223",
     "exception": false,
     "start_time": "2022-04-14T10:09:21.679707",
     "status": "completed"
    },
    "tags": []
   },
   "source": [
    "### Assign the -1 id to null geo values"
   ]
  },
  {
   "cell_type": "code",
   "execution_count": 10,
   "id": "eb6cdcce",
   "metadata": {
    "execution": {
     "iopub.execute_input": "2022-04-14T10:09:21.838789Z",
     "iopub.status.busy": "2022-04-14T10:09:21.838009Z",
     "iopub.status.idle": "2022-04-14T10:09:21.883749Z",
     "shell.execute_reply": "2022-04-14T10:09:21.882846Z",
     "shell.execute_reply.started": "2022-04-14T10:07:49.561833Z"
    },
    "papermill": {
     "duration": 0.113286,
     "end_time": "2022-04-14T10:09:21.883931",
     "exception": false,
     "start_time": "2022-04-14T10:09:21.770645",
     "status": "completed"
    },
    "tags": []
   },
   "outputs": [],
   "source": [
    "dataset_messi.geo = dataset_messi.geo.apply(lambda x: -1 if pd.isna(x) else x)"
   ]
  },
  {
   "cell_type": "markdown",
   "id": "067a672b",
   "metadata": {
    "papermill": {
     "duration": 0.045165,
     "end_time": "2022-04-14T10:09:21.975533",
     "exception": false,
     "start_time": "2022-04-14T10:09:21.930368",
     "status": "completed"
    },
    "tags": []
   },
   "source": [
    "#### Display results"
   ]
  },
  {
   "cell_type": "code",
   "execution_count": 11,
   "id": "f593577f",
   "metadata": {
    "execution": {
     "iopub.execute_input": "2022-04-14T10:09:22.073910Z",
     "iopub.status.busy": "2022-04-14T10:09:22.070054Z",
     "iopub.status.idle": "2022-04-14T10:09:22.076607Z",
     "shell.execute_reply": "2022-04-14T10:09:22.077194Z",
     "shell.execute_reply.started": "2022-04-14T10:07:49.604977Z"
    },
    "papermill": {
     "duration": 0.056028,
     "end_time": "2022-04-14T10:09:22.077374",
     "exception": false,
     "start_time": "2022-04-14T10:09:22.021346",
     "status": "completed"
    },
    "tags": []
   },
   "outputs": [
    {
     "data": {
      "text/plain": [
       "0    -1\n",
       "1    -1\n",
       "2    -1\n",
       "3    -1\n",
       "4    -1\n",
       "Name: geo, dtype: object"
      ]
     },
     "execution_count": 11,
     "metadata": {},
     "output_type": "execute_result"
    }
   ],
   "source": [
    "dataset_messi[\"geo\"].head(5)"
   ]
  },
  {
   "cell_type": "code",
   "execution_count": 12,
   "id": "40d8b1c8",
   "metadata": {
    "execution": {
     "iopub.execute_input": "2022-04-14T10:09:22.171414Z",
     "iopub.status.busy": "2022-04-14T10:09:22.170765Z",
     "iopub.status.idle": "2022-04-14T10:09:22.179295Z",
     "shell.execute_reply": "2022-04-14T10:09:22.179810Z",
     "shell.execute_reply.started": "2022-04-14T10:07:49.613082Z"
    },
    "papermill": {
     "duration": 0.05727,
     "end_time": "2022-04-14T10:09:22.180004",
     "exception": false,
     "start_time": "2022-04-14T10:09:22.122734",
     "status": "completed"
    },
    "tags": []
   },
   "outputs": [
    {
     "name": "stdout",
     "output_type": "stream",
     "text": [
      "Available locations ids: [-1 '01c1521c4381a164' '0e587c59401d0a27' '2c614b2aca285e79'\n",
      " '317fcc4b21a604d5']\n"
     ]
    }
   ],
   "source": [
    "print(f\"Available locations ids: {dataset_messi['geo'].unique()[0:5]}\")"
   ]
  },
  {
   "cell_type": "markdown",
   "id": "4dedf21f",
   "metadata": {
    "papermill": {
     "duration": 0.04578,
     "end_time": "2022-04-14T10:09:22.271708",
     "exception": false,
     "start_time": "2022-04-14T10:09:22.225928",
     "status": "completed"
    },
    "tags": []
   },
   "source": [
    "### Clean tweets : remove mentions, extra spaces and links"
   ]
  },
  {
   "cell_type": "markdown",
   "id": "cafe0c23",
   "metadata": {
    "papermill": {
     "duration": 0.046133,
     "end_time": "2022-04-14T10:09:22.363944",
     "exception": false,
     "start_time": "2022-04-14T10:09:22.317811",
     "status": "completed"
    },
    "tags": []
   },
   "source": [
    "#### Utility function"
   ]
  },
  {
   "cell_type": "code",
   "execution_count": 13,
   "id": "c6dae0bb",
   "metadata": {
    "execution": {
     "iopub.execute_input": "2022-04-14T10:09:22.458722Z",
     "iopub.status.busy": "2022-04-14T10:09:22.457935Z",
     "iopub.status.idle": "2022-04-14T10:09:22.462603Z",
     "shell.execute_reply": "2022-04-14T10:09:22.463132Z",
     "shell.execute_reply.started": "2022-04-14T10:07:49.625196Z"
    },
    "papermill": {
     "duration": 0.0535,
     "end_time": "2022-04-14T10:09:22.463317",
     "exception": false,
     "start_time": "2022-04-14T10:09:22.409817",
     "status": "completed"
    },
    "tags": []
   },
   "outputs": [],
   "source": [
    "def clean_tweet(text):\n",
    "    \"\"\"\n",
    "    Removes punctuation, emojis, normalize whitespaces...from a text\n",
    "    \"\"\"\n",
    "    \n",
    "    text = clean(text,\n",
    "                 no_punct=True,\n",
    "                 lower=True,\n",
    "                 no_emoji=True,\n",
    "                 normalize_whitespace=True\n",
    "                )\n",
    "    \n",
    "    return text"
   ]
  },
  {
   "cell_type": "markdown",
   "id": "5a744cb7",
   "metadata": {
    "papermill": {
     "duration": 0.046945,
     "end_time": "2022-04-14T10:09:22.556080",
     "exception": false,
     "start_time": "2022-04-14T10:09:22.509135",
     "status": "completed"
    },
    "tags": []
   },
   "source": [
    "#### Regex"
   ]
  },
  {
   "cell_type": "code",
   "execution_count": 14,
   "id": "d326b909",
   "metadata": {
    "execution": {
     "iopub.execute_input": "2022-04-14T10:09:22.650361Z",
     "iopub.status.busy": "2022-04-14T10:09:22.649728Z",
     "iopub.status.idle": "2022-04-14T10:09:22.653267Z",
     "shell.execute_reply": "2022-04-14T10:09:22.653894Z",
     "shell.execute_reply.started": "2022-04-14T10:07:49.638098Z"
    },
    "papermill": {
     "duration": 0.052357,
     "end_time": "2022-04-14T10:09:22.654061",
     "exception": false,
     "start_time": "2022-04-14T10:09:22.601704",
     "status": "completed"
    },
    "tags": []
   },
   "outputs": [],
   "source": [
    "# Remove mentions\n",
    "regex_mentions = r\"@[A-Za-z0-9_]+\"\n",
    "# Remove links\n",
    "regex_links = r\"https?://[A-Za-z0-9./]+\"\n",
    "# Remove some special characters\n",
    "regex_special = r\"[^A-Za-z0-9]+\""
   ]
  },
  {
   "cell_type": "markdown",
   "id": "3201c96a",
   "metadata": {
    "papermill": {
     "duration": 0.046041,
     "end_time": "2022-04-14T10:09:22.746496",
     "exception": false,
     "start_time": "2022-04-14T10:09:22.700455",
     "status": "completed"
    },
    "tags": []
   },
   "source": [
    "### Clean tweets : remove mentions, links and extra spaces"
   ]
  },
  {
   "cell_type": "code",
   "execution_count": 15,
   "id": "3f45f428",
   "metadata": {
    "execution": {
     "iopub.execute_input": "2022-04-14T10:09:22.847122Z",
     "iopub.status.busy": "2022-04-14T10:09:22.846419Z",
     "iopub.status.idle": "2022-04-14T10:09:32.048782Z",
     "shell.execute_reply": "2022-04-14T10:09:32.049264Z",
     "shell.execute_reply.started": "2022-04-14T10:07:49.648782Z"
    },
    "papermill": {
     "duration": 9.257551,
     "end_time": "2022-04-14T10:09:32.049485",
     "exception": false,
     "start_time": "2022-04-14T10:09:22.791934",
     "status": "completed"
    },
    "tags": []
   },
   "outputs": [],
   "source": [
    "# Remove mentions\n",
    "dataset_messi.content = dataset_messi.content.apply(lambda x: re.sub(regex_mentions, \" \", str(x).strip()))\n",
    "# Remove links \n",
    "dataset_messi.content = dataset_messi.content.apply(lambda x: re.sub(regex_links, \" \", str(x).strip()))\n",
    "# Remove special characters\n",
    "dataset_messi.content = dataset_messi.content.apply(lambda x: re.sub(regex_special, \" \", str(x).strip()))\n",
    "# Clean tweets\n",
    "dataset_messi.content = dataset_messi.content.apply(lambda x: clean_tweet(x)) "
   ]
  },
  {
   "cell_type": "markdown",
   "id": "4353d12a",
   "metadata": {
    "papermill": {
     "duration": 0.045726,
     "end_time": "2022-04-14T10:09:32.141211",
     "exception": false,
     "start_time": "2022-04-14T10:09:32.095485",
     "status": "completed"
    },
    "tags": []
   },
   "source": [
    "#### Display results"
   ]
  },
  {
   "cell_type": "code",
   "execution_count": 16,
   "id": "92172b1a",
   "metadata": {
    "execution": {
     "iopub.execute_input": "2022-04-14T10:09:32.236465Z",
     "iopub.status.busy": "2022-04-14T10:09:32.235825Z",
     "iopub.status.idle": "2022-04-14T10:09:32.250629Z",
     "shell.execute_reply": "2022-04-14T10:09:32.250002Z",
     "shell.execute_reply.started": "2022-04-14T10:07:55.425648Z"
    },
    "papermill": {
     "duration": 0.063727,
     "end_time": "2022-04-14T10:09:32.250775",
     "exception": false,
     "start_time": "2022-04-14T10:09:32.187048",
     "status": "completed"
    },
    "tags": []
   },
   "outputs": [
    {
     "data": {
      "text/html": [
       "<div>\n",
       "<style scoped>\n",
       "    .dataframe tbody tr th:only-of-type {\n",
       "        vertical-align: middle;\n",
       "    }\n",
       "\n",
       "    .dataframe tbody tr th {\n",
       "        vertical-align: top;\n",
       "    }\n",
       "\n",
       "    .dataframe thead th {\n",
       "        text-align: right;\n",
       "    }\n",
       "</style>\n",
       "<table border=\"1\" class=\"dataframe\">\n",
       "  <thead>\n",
       "    <tr style=\"text-align: right;\">\n",
       "      <th></th>\n",
       "      <th>tweet_id</th>\n",
       "      <th>author_id</th>\n",
       "      <th>content</th>\n",
       "      <th>lang</th>\n",
       "      <th>date</th>\n",
       "      <th>source</th>\n",
       "      <th>geo</th>\n",
       "      <th>retweet_count</th>\n",
       "      <th>like_count</th>\n",
       "      <th>quote_count</th>\n",
       "    </tr>\n",
       "  </thead>\n",
       "  <tbody>\n",
       "    <tr>\n",
       "      <th>0</th>\n",
       "      <td>1514503439291543554</td>\n",
       "      <td>1504674335533187078</td>\n",
       "      <td>when did this happened messi</td>\n",
       "      <td>en</td>\n",
       "      <td>2022-04-14T07:18:52.000Z</td>\n",
       "      <td>Twitter for Android</td>\n",
       "      <td>-1</td>\n",
       "      <td>1</td>\n",
       "      <td>1</td>\n",
       "      <td>0</td>\n",
       "    </tr>\n",
       "    <tr>\n",
       "      <th>1</th>\n",
       "      <td>1514503399462432770</td>\n",
       "      <td>1437183590781964290</td>\n",
       "      <td>highest ranking active players on my all time ...</td>\n",
       "      <td>en</td>\n",
       "      <td>2022-04-14T07:18:43.000Z</td>\n",
       "      <td>Twitter for iPhone</td>\n",
       "      <td>-1</td>\n",
       "      <td>0</td>\n",
       "      <td>0</td>\n",
       "      <td>0</td>\n",
       "    </tr>\n",
       "    <tr>\n",
       "      <th>2</th>\n",
       "      <td>1514503259762958336</td>\n",
       "      <td>819679110</td>\n",
       "      <td>don t get me wrong mate i know he was good but...</td>\n",
       "      <td>en</td>\n",
       "      <td>2022-04-14T07:18:09.000Z</td>\n",
       "      <td>Twitter for iPhone</td>\n",
       "      <td>-1</td>\n",
       "      <td>0</td>\n",
       "      <td>0</td>\n",
       "      <td>0</td>\n",
       "    </tr>\n",
       "    <tr>\n",
       "      <th>3</th>\n",
       "      <td>1514503228221702144</td>\n",
       "      <td>1012688452863909891</td>\n",
       "      <td>messi fans have no shame</td>\n",
       "      <td>en</td>\n",
       "      <td>2022-04-14T07:18:02.000Z</td>\n",
       "      <td>Twitter for Android</td>\n",
       "      <td>-1</td>\n",
       "      <td>0</td>\n",
       "      <td>0</td>\n",
       "      <td>0</td>\n",
       "    </tr>\n",
       "    <tr>\n",
       "      <th>4</th>\n",
       "      <td>1514503144478322688</td>\n",
       "      <td>1309496212345810944</td>\n",
       "      <td>messi has to pay now 50m to play</td>\n",
       "      <td>en</td>\n",
       "      <td>2022-04-14T07:17:42.000Z</td>\n",
       "      <td>Twitter for Android</td>\n",
       "      <td>-1</td>\n",
       "      <td>0</td>\n",
       "      <td>1</td>\n",
       "      <td>0</td>\n",
       "    </tr>\n",
       "  </tbody>\n",
       "</table>\n",
       "</div>"
      ],
      "text/plain": [
       "              tweet_id            author_id  \\\n",
       "0  1514503439291543554  1504674335533187078   \n",
       "1  1514503399462432770  1437183590781964290   \n",
       "2  1514503259762958336            819679110   \n",
       "3  1514503228221702144  1012688452863909891   \n",
       "4  1514503144478322688  1309496212345810944   \n",
       "\n",
       "                                             content lang  \\\n",
       "0                       when did this happened messi   en   \n",
       "1  highest ranking active players on my all time ...   en   \n",
       "2  don t get me wrong mate i know he was good but...   en   \n",
       "3                           messi fans have no shame   en   \n",
       "4                   messi has to pay now 50m to play   en   \n",
       "\n",
       "                       date               source geo  retweet_count  \\\n",
       "0  2022-04-14T07:18:52.000Z  Twitter for Android  -1              1   \n",
       "1  2022-04-14T07:18:43.000Z   Twitter for iPhone  -1              0   \n",
       "2  2022-04-14T07:18:09.000Z   Twitter for iPhone  -1              0   \n",
       "3  2022-04-14T07:18:02.000Z  Twitter for Android  -1              0   \n",
       "4  2022-04-14T07:17:42.000Z  Twitter for Android  -1              0   \n",
       "\n",
       "   like_count  quote_count  \n",
       "0           1            0  \n",
       "1           0            0  \n",
       "2           0            0  \n",
       "3           0            0  \n",
       "4           1            0  "
      ]
     },
     "execution_count": 16,
     "metadata": {},
     "output_type": "execute_result"
    }
   ],
   "source": [
    "dataset_messi.head(5)"
   ]
  },
  {
   "cell_type": "markdown",
   "id": "cc324952",
   "metadata": {
    "papermill": {
     "duration": 0.046506,
     "end_time": "2022-04-14T10:09:32.343751",
     "exception": false,
     "start_time": "2022-04-14T10:09:32.297245",
     "status": "completed"
    },
    "tags": []
   },
   "source": [
    "### Check for non-english content"
   ]
  },
  {
   "cell_type": "code",
   "execution_count": 17,
   "id": "fb6f57b9",
   "metadata": {
    "execution": {
     "iopub.execute_input": "2022-04-14T10:09:32.440839Z",
     "iopub.status.busy": "2022-04-14T10:09:32.440103Z",
     "iopub.status.idle": "2022-04-14T10:09:32.450241Z",
     "shell.execute_reply": "2022-04-14T10:09:32.450820Z",
     "shell.execute_reply.started": "2022-04-14T10:07:55.440931Z"
    },
    "papermill": {
     "duration": 0.06064,
     "end_time": "2022-04-14T10:09:32.451002",
     "exception": false,
     "start_time": "2022-04-14T10:09:32.390362",
     "status": "completed"
    },
    "tags": []
   },
   "outputs": [],
   "source": [
    "assert dataset_messi[\"lang\"].unique()==\"en\", \"Non-english content detected\""
   ]
  },
  {
   "cell_type": "markdown",
   "id": "4174d3d0",
   "metadata": {
    "papermill": {
     "duration": 0.04634,
     "end_time": "2022-04-14T10:09:32.544986",
     "exception": false,
     "start_time": "2022-04-14T10:09:32.498646",
     "status": "completed"
    },
    "tags": []
   },
   "source": [
    "> Test passed"
   ]
  },
  {
   "cell_type": "markdown",
   "id": "1baae89e",
   "metadata": {
    "papermill": {
     "duration": 0.045914,
     "end_time": "2022-04-14T10:09:32.637525",
     "exception": false,
     "start_time": "2022-04-14T10:09:32.591611",
     "status": "completed"
    },
    "tags": []
   },
   "source": [
    "## Ronaldo"
   ]
  },
  {
   "cell_type": "markdown",
   "id": "97525d19",
   "metadata": {
    "papermill": {
     "duration": 0.045945,
     "end_time": "2022-04-14T10:09:32.729906",
     "exception": false,
     "start_time": "2022-04-14T10:09:32.683961",
     "status": "completed"
    },
    "tags": []
   },
   "source": [
    "### Check for null values"
   ]
  },
  {
   "cell_type": "code",
   "execution_count": 18,
   "id": "615beb09",
   "metadata": {
    "execution": {
     "iopub.execute_input": "2022-04-14T10:09:32.825962Z",
     "iopub.status.busy": "2022-04-14T10:09:32.825256Z",
     "iopub.status.idle": "2022-04-14T10:09:32.889125Z",
     "shell.execute_reply": "2022-04-14T10:09:32.888616Z",
     "shell.execute_reply.started": "2022-04-14T10:07:55.455159Z"
    },
    "papermill": {
     "duration": 0.112815,
     "end_time": "2022-04-14T10:09:32.889268",
     "exception": false,
     "start_time": "2022-04-14T10:09:32.776453",
     "status": "completed"
    },
    "tags": []
   },
   "outputs": [
    {
     "data": {
      "text/plain": [
       "tweet_id             0\n",
       "author_id            0\n",
       "content              0\n",
       "lang                 1\n",
       "date                 2\n",
       "source               1\n",
       "geo              73417\n",
       "retweet_count        1\n",
       "like_count           2\n",
       "quote_count          2\n",
       "dtype: int64"
      ]
     },
     "execution_count": 18,
     "metadata": {},
     "output_type": "execute_result"
    }
   ],
   "source": [
    "dataset_ronaldo.isna().sum()"
   ]
  },
  {
   "cell_type": "markdown",
   "id": "646a9be0",
   "metadata": {
    "papermill": {
     "duration": 0.047533,
     "end_time": "2022-04-14T10:09:32.983760",
     "exception": false,
     "start_time": "2022-04-14T10:09:32.936227",
     "status": "completed"
    },
    "tags": []
   },
   "source": [
    "### Drop null values\n",
    "For columns relevant to our analysis"
   ]
  },
  {
   "cell_type": "code",
   "execution_count": 19,
   "id": "15dd115a",
   "metadata": {
    "execution": {
     "iopub.execute_input": "2022-04-14T10:09:33.081692Z",
     "iopub.status.busy": "2022-04-14T10:09:33.080976Z",
     "iopub.status.idle": "2022-04-14T10:09:33.128358Z",
     "shell.execute_reply": "2022-04-14T10:09:33.127597Z",
     "shell.execute_reply.started": "2022-04-14T10:07:55.501429Z"
    },
    "papermill": {
     "duration": 0.097538,
     "end_time": "2022-04-14T10:09:33.128526",
     "exception": false,
     "start_time": "2022-04-14T10:09:33.030988",
     "status": "completed"
    },
    "tags": []
   },
   "outputs": [],
   "source": [
    "dataset_ronaldo.dropna(subset=[\"lang\",\"date\",\"source\",\"retweet_count\",\"like_count\", \"quote_count\"], inplace=True)"
   ]
  },
  {
   "cell_type": "code",
   "execution_count": 20,
   "id": "4072dd3c",
   "metadata": {
    "execution": {
     "iopub.execute_input": "2022-04-14T10:09:33.282506Z",
     "iopub.status.busy": "2022-04-14T10:09:33.227791Z",
     "iopub.status.idle": "2022-04-14T10:09:33.289674Z",
     "shell.execute_reply": "2022-04-14T10:09:33.290271Z",
     "shell.execute_reply.started": "2022-04-14T10:07:55.540449Z"
    },
    "papermill": {
     "duration": 0.11417,
     "end_time": "2022-04-14T10:09:33.290465",
     "exception": false,
     "start_time": "2022-04-14T10:09:33.176295",
     "status": "completed"
    },
    "tags": []
   },
   "outputs": [
    {
     "data": {
      "text/plain": [
       "tweet_id             0\n",
       "author_id            0\n",
       "content              0\n",
       "lang                 0\n",
       "date                 0\n",
       "source               0\n",
       "geo              73416\n",
       "retweet_count        0\n",
       "like_count           0\n",
       "quote_count          0\n",
       "dtype: int64"
      ]
     },
     "execution_count": 20,
     "metadata": {},
     "output_type": "execute_result"
    }
   ],
   "source": [
    "dataset_ronaldo.isna().sum()"
   ]
  },
  {
   "cell_type": "markdown",
   "id": "ddfa5f10",
   "metadata": {
    "papermill": {
     "duration": 0.046758,
     "end_time": "2022-04-14T10:09:33.384192",
     "exception": false,
     "start_time": "2022-04-14T10:09:33.337434",
     "status": "completed"
    },
    "tags": []
   },
   "source": [
    "### Drop duplicates"
   ]
  },
  {
   "cell_type": "code",
   "execution_count": 21,
   "id": "c5b7a1a4",
   "metadata": {
    "execution": {
     "iopub.execute_input": "2022-04-14T10:09:33.481396Z",
     "iopub.status.busy": "2022-04-14T10:09:33.480763Z",
     "iopub.status.idle": "2022-04-14T10:09:33.529366Z",
     "shell.execute_reply": "2022-04-14T10:09:33.529963Z",
     "shell.execute_reply.started": "2022-04-14T10:07:55.584390Z"
    },
    "papermill": {
     "duration": 0.098879,
     "end_time": "2022-04-14T10:09:33.530141",
     "exception": false,
     "start_time": "2022-04-14T10:09:33.431262",
     "status": "completed"
    },
    "tags": []
   },
   "outputs": [
    {
     "name": "stdout",
     "output_type": "stream",
     "text": [
      "Row count before deletion: 74064 \n",
      "Row count after deletion: 74064\n"
     ]
    }
   ],
   "source": [
    "print(f\"Row count before deletion: {len(dataset_ronaldo.index)} \")\n",
    "dataset_ronaldo = dataset_ronaldo.drop_duplicates(subset=\"tweet_id\", keep=\"first\")\n",
    "print(f\"Row count after deletion: {len(dataset_ronaldo.index)}\")"
   ]
  },
  {
   "cell_type": "markdown",
   "id": "29e3b62b",
   "metadata": {
    "papermill": {
     "duration": 0.047477,
     "end_time": "2022-04-14T10:09:33.625663",
     "exception": false,
     "start_time": "2022-04-14T10:09:33.578186",
     "status": "completed"
    },
    "tags": []
   },
   "source": [
    "### Percentage of null geo values"
   ]
  },
  {
   "cell_type": "code",
   "execution_count": 22,
   "id": "c17e5f96",
   "metadata": {
    "execution": {
     "iopub.execute_input": "2022-04-14T10:09:33.727268Z",
     "iopub.status.busy": "2022-04-14T10:09:33.726209Z",
     "iopub.status.idle": "2022-04-14T10:09:33.731848Z",
     "shell.execute_reply": "2022-04-14T10:09:33.731160Z",
     "shell.execute_reply.started": "2022-04-14T10:07:55.637913Z"
    },
    "papermill": {
     "duration": 0.059181,
     "end_time": "2022-04-14T10:09:33.731993",
     "exception": false,
     "start_time": "2022-04-14T10:09:33.672812",
     "status": "completed"
    },
    "tags": []
   },
   "outputs": [
    {
     "name": "stdout",
     "output_type": "stream",
     "text": [
      "Number of values: 74064\n"
     ]
    }
   ],
   "source": [
    "count = len(dataset_ronaldo.index)\n",
    "print(f\"Number of values: {count}\")"
   ]
  },
  {
   "cell_type": "code",
   "execution_count": 23,
   "id": "19b7877b",
   "metadata": {
    "execution": {
     "iopub.execute_input": "2022-04-14T10:09:33.890704Z",
     "iopub.status.busy": "2022-04-14T10:09:33.889572Z",
     "iopub.status.idle": "2022-04-14T10:09:33.897553Z",
     "shell.execute_reply": "2022-04-14T10:09:33.896961Z",
     "shell.execute_reply.started": "2022-04-14T10:07:55.645019Z"
    },
    "papermill": {
     "duration": 0.117004,
     "end_time": "2022-04-14T10:09:33.897707",
     "exception": false,
     "start_time": "2022-04-14T10:09:33.780703",
     "status": "completed"
    },
    "tags": []
   },
   "outputs": [
    {
     "name": "stdout",
     "output_type": "stream",
     "text": [
      "Percentage of null geo values: 99.13%\n"
     ]
    }
   ],
   "source": [
    "count_null = dataset_ronaldo.isna().sum()[\"geo\"]\n",
    "percentage = count_null * 100/count\n",
    "print(f\"Percentage of null geo values: {round(percentage,2)}%\")"
   ]
  },
  {
   "cell_type": "markdown",
   "id": "066df7a2",
   "metadata": {
    "papermill": {
     "duration": 0.048338,
     "end_time": "2022-04-14T10:09:33.995477",
     "exception": false,
     "start_time": "2022-04-14T10:09:33.947139",
     "status": "completed"
    },
    "tags": []
   },
   "source": [
    "### Assign the -1 id to null geo values"
   ]
  },
  {
   "cell_type": "code",
   "execution_count": 24,
   "id": "e24abef7",
   "metadata": {
    "execution": {
     "iopub.execute_input": "2022-04-14T10:09:34.112113Z",
     "iopub.status.busy": "2022-04-14T10:09:34.111393Z",
     "iopub.status.idle": "2022-04-14T10:09:34.190373Z",
     "shell.execute_reply": "2022-04-14T10:09:34.190980Z",
     "shell.execute_reply.started": "2022-04-14T10:07:55.690393Z"
    },
    "papermill": {
     "duration": 0.13625,
     "end_time": "2022-04-14T10:09:34.191170",
     "exception": false,
     "start_time": "2022-04-14T10:09:34.054920",
     "status": "completed"
    },
    "tags": []
   },
   "outputs": [],
   "source": [
    "dataset_ronaldo.geo = dataset_ronaldo.geo.apply(lambda x: -1 if pd.isna(x) else x)"
   ]
  },
  {
   "cell_type": "markdown",
   "id": "346b86bb",
   "metadata": {
    "papermill": {
     "duration": 0.049964,
     "end_time": "2022-04-14T10:09:34.290910",
     "exception": false,
     "start_time": "2022-04-14T10:09:34.240946",
     "status": "completed"
    },
    "tags": []
   },
   "source": [
    "#### Display results"
   ]
  },
  {
   "cell_type": "code",
   "execution_count": 25,
   "id": "fddbaf82",
   "metadata": {
    "execution": {
     "iopub.execute_input": "2022-04-14T10:09:34.407115Z",
     "iopub.status.busy": "2022-04-14T10:09:34.406424Z",
     "iopub.status.idle": "2022-04-14T10:09:34.410018Z",
     "shell.execute_reply": "2022-04-14T10:09:34.410633Z",
     "shell.execute_reply.started": "2022-04-14T10:07:55.732066Z"
    },
    "papermill": {
     "duration": 0.061822,
     "end_time": "2022-04-14T10:09:34.410821",
     "exception": false,
     "start_time": "2022-04-14T10:09:34.348999",
     "status": "completed"
    },
    "tags": []
   },
   "outputs": [
    {
     "data": {
      "text/plain": [
       "0    -1\n",
       "1    -1\n",
       "2    -1\n",
       "3    -1\n",
       "4    -1\n",
       "Name: geo, dtype: object"
      ]
     },
     "execution_count": 25,
     "metadata": {},
     "output_type": "execute_result"
    }
   ],
   "source": [
    "dataset_ronaldo[\"geo\"].head(5)"
   ]
  },
  {
   "cell_type": "code",
   "execution_count": 26,
   "id": "b63f2a88",
   "metadata": {
    "execution": {
     "iopub.execute_input": "2022-04-14T10:09:34.511712Z",
     "iopub.status.busy": "2022-04-14T10:09:34.511011Z",
     "iopub.status.idle": "2022-04-14T10:09:34.521068Z",
     "shell.execute_reply": "2022-04-14T10:09:34.521600Z",
     "shell.execute_reply.started": "2022-04-14T10:07:55.741735Z"
    },
    "papermill": {
     "duration": 0.062442,
     "end_time": "2022-04-14T10:09:34.521772",
     "exception": false,
     "start_time": "2022-04-14T10:09:34.459330",
     "status": "completed"
    },
    "tags": []
   },
   "outputs": [
    {
     "name": "stdout",
     "output_type": "stream",
     "text": [
      "Avaialble location ids: [-1 '178a87b8e2eaa375' '00e1c334666793a2' '02b5b310e3979394'\n",
      " '11980e22bad50000']\n"
     ]
    }
   ],
   "source": [
    "print(f\"Avaialble location ids: {dataset_ronaldo['geo'].unique()[0:5]}\")"
   ]
  },
  {
   "cell_type": "markdown",
   "id": "87b0f918",
   "metadata": {
    "papermill": {
     "duration": 0.04911,
     "end_time": "2022-04-14T10:09:34.619918",
     "exception": false,
     "start_time": "2022-04-14T10:09:34.570808",
     "status": "completed"
    },
    "tags": []
   },
   "source": [
    "### Clean tweets : remove mentions, links and extra spaces"
   ]
  },
  {
   "cell_type": "code",
   "execution_count": 27,
   "id": "9b0de347",
   "metadata": {
    "execution": {
     "iopub.execute_input": "2022-04-14T10:09:34.722104Z",
     "iopub.status.busy": "2022-04-14T10:09:34.721372Z",
     "iopub.status.idle": "2022-04-14T10:09:44.385939Z",
     "shell.execute_reply": "2022-04-14T10:09:44.385307Z",
     "shell.execute_reply.started": "2022-04-14T10:07:55.755382Z"
    },
    "papermill": {
     "duration": 9.717294,
     "end_time": "2022-04-14T10:09:44.386085",
     "exception": false,
     "start_time": "2022-04-14T10:09:34.668791",
     "status": "completed"
    },
    "tags": []
   },
   "outputs": [],
   "source": [
    "# Remove mentions\n",
    "dataset_ronaldo.content = dataset_ronaldo.content.apply(lambda x: re.sub(regex_mentions, \" \", str(x).strip()))\n",
    "# Remove links\n",
    "dataset_ronaldo.content = dataset_ronaldo.content.apply(lambda x: re.sub(regex_links, \" \", str(x).strip()))\n",
    "# Remove special characters\n",
    "dataset_ronaldo.content = dataset_ronaldo.content.apply(lambda x: re.sub(regex_special, \" \", str(x).strip()))\n",
    "# Clean tweets\n",
    "dataset_ronaldo.content = dataset_ronaldo.content.apply(lambda x: clean_tweet(x)) "
   ]
  },
  {
   "cell_type": "markdown",
   "id": "642c4248",
   "metadata": {
    "papermill": {
     "duration": 0.049572,
     "end_time": "2022-04-14T10:09:44.485577",
     "exception": false,
     "start_time": "2022-04-14T10:09:44.436005",
     "status": "completed"
    },
    "tags": []
   },
   "source": [
    "#### Display results"
   ]
  },
  {
   "cell_type": "code",
   "execution_count": 28,
   "id": "ac32ca5c",
   "metadata": {
    "execution": {
     "iopub.execute_input": "2022-04-14T10:09:44.588206Z",
     "iopub.status.busy": "2022-04-14T10:09:44.587522Z",
     "iopub.status.idle": "2022-04-14T10:09:44.602249Z",
     "shell.execute_reply": "2022-04-14T10:09:44.602729Z",
     "shell.execute_reply.started": "2022-04-14T10:08:01.702217Z"
    },
    "papermill": {
     "duration": 0.068068,
     "end_time": "2022-04-14T10:09:44.602903",
     "exception": false,
     "start_time": "2022-04-14T10:09:44.534835",
     "status": "completed"
    },
    "tags": []
   },
   "outputs": [
    {
     "data": {
      "text/html": [
       "<div>\n",
       "<style scoped>\n",
       "    .dataframe tbody tr th:only-of-type {\n",
       "        vertical-align: middle;\n",
       "    }\n",
       "\n",
       "    .dataframe tbody tr th {\n",
       "        vertical-align: top;\n",
       "    }\n",
       "\n",
       "    .dataframe thead th {\n",
       "        text-align: right;\n",
       "    }\n",
       "</style>\n",
       "<table border=\"1\" class=\"dataframe\">\n",
       "  <thead>\n",
       "    <tr style=\"text-align: right;\">\n",
       "      <th></th>\n",
       "      <th>tweet_id</th>\n",
       "      <th>author_id</th>\n",
       "      <th>content</th>\n",
       "      <th>lang</th>\n",
       "      <th>date</th>\n",
       "      <th>source</th>\n",
       "      <th>geo</th>\n",
       "      <th>retweet_count</th>\n",
       "      <th>like_count</th>\n",
       "      <th>quote_count</th>\n",
       "    </tr>\n",
       "  </thead>\n",
       "  <tbody>\n",
       "    <tr>\n",
       "      <th>0</th>\n",
       "      <td>1514503408820051969</td>\n",
       "      <td>1406215235829182470</td>\n",
       "      <td>dressing room source at ajax there s been crit...</td>\n",
       "      <td>en</td>\n",
       "      <td>2022-04-14T07:18:45.000Z</td>\n",
       "      <td>Twitter Web App</td>\n",
       "      <td>-1</td>\n",
       "      <td>0.0</td>\n",
       "      <td>0.0</td>\n",
       "      <td>0.0</td>\n",
       "    </tr>\n",
       "    <tr>\n",
       "      <th>1</th>\n",
       "      <td>1514503399462432770</td>\n",
       "      <td>1437183590781964290</td>\n",
       "      <td>highest ranking active players on my all time ...</td>\n",
       "      <td>en</td>\n",
       "      <td>2022-04-14T07:18:43.000Z</td>\n",
       "      <td>Twitter for iPhone</td>\n",
       "      <td>-1</td>\n",
       "      <td>0.0</td>\n",
       "      <td>0.0</td>\n",
       "      <td>0.0</td>\n",
       "    </tr>\n",
       "    <tr>\n",
       "      <th>2</th>\n",
       "      <td>1514503356764418051</td>\n",
       "      <td>1215836950931705856</td>\n",
       "      <td>i personally feel that cdm is the most importa...</td>\n",
       "      <td>en</td>\n",
       "      <td>2022-04-14T07:18:33.000Z</td>\n",
       "      <td>Twitter for Android</td>\n",
       "      <td>-1</td>\n",
       "      <td>0.0</td>\n",
       "      <td>0.0</td>\n",
       "      <td>0.0</td>\n",
       "    </tr>\n",
       "    <tr>\n",
       "      <th>3</th>\n",
       "      <td>1514503333112864771</td>\n",
       "      <td>1201535456141168640</td>\n",
       "      <td>timber that s it these are the three essential...</td>\n",
       "      <td>en</td>\n",
       "      <td>2022-04-14T07:18:27.000Z</td>\n",
       "      <td>Twitter for Android</td>\n",
       "      <td>-1</td>\n",
       "      <td>0.0</td>\n",
       "      <td>0.0</td>\n",
       "      <td>0.0</td>\n",
       "    </tr>\n",
       "    <tr>\n",
       "      <th>4</th>\n",
       "      <td>1514503191563579394</td>\n",
       "      <td>1080591523715129344</td>\n",
       "      <td>a quick reminder that cristiano ronaldo is the...</td>\n",
       "      <td>en</td>\n",
       "      <td>2022-04-14T07:17:53.000Z</td>\n",
       "      <td>Twitter for iPhone</td>\n",
       "      <td>-1</td>\n",
       "      <td>0.0</td>\n",
       "      <td>0.0</td>\n",
       "      <td>0.0</td>\n",
       "    </tr>\n",
       "  </tbody>\n",
       "</table>\n",
       "</div>"
      ],
      "text/plain": [
       "              tweet_id            author_id  \\\n",
       "0  1514503408820051969  1406215235829182470   \n",
       "1  1514503399462432770  1437183590781964290   \n",
       "2  1514503356764418051  1215836950931705856   \n",
       "3  1514503333112864771  1201535456141168640   \n",
       "4  1514503191563579394  1080591523715129344   \n",
       "\n",
       "                                             content lang  \\\n",
       "0  dressing room source at ajax there s been crit...   en   \n",
       "1  highest ranking active players on my all time ...   en   \n",
       "2  i personally feel that cdm is the most importa...   en   \n",
       "3  timber that s it these are the three essential...   en   \n",
       "4  a quick reminder that cristiano ronaldo is the...   en   \n",
       "\n",
       "                       date               source geo  retweet_count  \\\n",
       "0  2022-04-14T07:18:45.000Z      Twitter Web App  -1            0.0   \n",
       "1  2022-04-14T07:18:43.000Z   Twitter for iPhone  -1            0.0   \n",
       "2  2022-04-14T07:18:33.000Z  Twitter for Android  -1            0.0   \n",
       "3  2022-04-14T07:18:27.000Z  Twitter for Android  -1            0.0   \n",
       "4  2022-04-14T07:17:53.000Z   Twitter for iPhone  -1            0.0   \n",
       "\n",
       "   like_count  quote_count  \n",
       "0         0.0          0.0  \n",
       "1         0.0          0.0  \n",
       "2         0.0          0.0  \n",
       "3         0.0          0.0  \n",
       "4         0.0          0.0  "
      ]
     },
     "execution_count": 28,
     "metadata": {},
     "output_type": "execute_result"
    }
   ],
   "source": [
    "dataset_ronaldo.head(5)"
   ]
  },
  {
   "cell_type": "markdown",
   "id": "4b76ea41",
   "metadata": {
    "papermill": {
     "duration": 0.050287,
     "end_time": "2022-04-14T10:09:44.703541",
     "exception": false,
     "start_time": "2022-04-14T10:09:44.653254",
     "status": "completed"
    },
    "tags": []
   },
   "source": [
    "### Check for non-english content"
   ]
  },
  {
   "cell_type": "code",
   "execution_count": 29,
   "id": "73abeac9",
   "metadata": {
    "execution": {
     "iopub.execute_input": "2022-04-14T10:09:44.806999Z",
     "iopub.status.busy": "2022-04-14T10:09:44.806238Z",
     "iopub.status.idle": "2022-04-14T10:09:44.816248Z",
     "shell.execute_reply": "2022-04-14T10:09:44.816779Z",
     "shell.execute_reply.started": "2022-04-14T10:08:01.722706Z"
    },
    "papermill": {
     "duration": 0.063744,
     "end_time": "2022-04-14T10:09:44.816978",
     "exception": false,
     "start_time": "2022-04-14T10:09:44.753234",
     "status": "completed"
    },
    "tags": []
   },
   "outputs": [],
   "source": [
    "assert dataset_ronaldo[\"lang\"].unique()==\"en\", \"Non-english content detected\""
   ]
  },
  {
   "cell_type": "markdown",
   "id": "b293dbe3",
   "metadata": {
    "papermill": {
     "duration": 0.049266,
     "end_time": "2022-04-14T10:09:44.917277",
     "exception": false,
     "start_time": "2022-04-14T10:09:44.868011",
     "status": "completed"
    },
    "tags": []
   },
   "source": [
    "```\n",
    "Test passed\n",
    "```"
   ]
  },
  {
   "cell_type": "markdown",
   "id": "c7561826",
   "metadata": {
    "papermill": {
     "duration": 0.049766,
     "end_time": "2022-04-14T10:09:45.016542",
     "exception": false,
     "start_time": "2022-04-14T10:09:44.966776",
     "status": "completed"
    },
    "tags": []
   },
   "source": [
    "# Save the cleaned datasets"
   ]
  },
  {
   "cell_type": "markdown",
   "id": "19238984",
   "metadata": {
    "papermill": {
     "duration": 0.050659,
     "end_time": "2022-04-14T10:09:45.117082",
     "exception": false,
     "start_time": "2022-04-14T10:09:45.066423",
     "status": "completed"
    },
    "tags": []
   },
   "source": [
    "## Messi "
   ]
  },
  {
   "cell_type": "code",
   "execution_count": 30,
   "id": "0f0a5369",
   "metadata": {
    "execution": {
     "iopub.execute_input": "2022-04-14T10:09:45.221823Z",
     "iopub.status.busy": "2022-04-14T10:09:45.220021Z",
     "iopub.status.idle": "2022-04-14T10:09:46.042185Z",
     "shell.execute_reply": "2022-04-14T10:09:46.041645Z",
     "shell.execute_reply.started": "2022-04-14T10:08:01.733866Z"
    },
    "papermill": {
     "duration": 0.87567,
     "end_time": "2022-04-14T10:09:46.042332",
     "exception": false,
     "start_time": "2022-04-14T10:09:45.166662",
     "status": "completed"
    },
    "tags": []
   },
   "outputs": [],
   "source": [
    "dataset_messi.to_csv(\"Cleaned_messi_tweets.csv\", index=False)"
   ]
  },
  {
   "cell_type": "markdown",
   "id": "f265391d",
   "metadata": {
    "papermill": {
     "duration": 0.049169,
     "end_time": "2022-04-14T10:09:46.141074",
     "exception": false,
     "start_time": "2022-04-14T10:09:46.091905",
     "status": "completed"
    },
    "tags": []
   },
   "source": [
    "## Ronaldo"
   ]
  },
  {
   "cell_type": "code",
   "execution_count": 31,
   "id": "6af690ea",
   "metadata": {
    "execution": {
     "iopub.execute_input": "2022-04-14T10:09:46.245657Z",
     "iopub.status.busy": "2022-04-14T10:09:46.244952Z",
     "iopub.status.idle": "2022-04-14T10:09:47.212845Z",
     "shell.execute_reply": "2022-04-14T10:09:47.212190Z",
     "shell.execute_reply.started": "2022-04-14T10:08:02.188500Z"
    },
    "papermill": {
     "duration": 1.022495,
     "end_time": "2022-04-14T10:09:47.213015",
     "exception": false,
     "start_time": "2022-04-14T10:09:46.190520",
     "status": "completed"
    },
    "tags": []
   },
   "outputs": [],
   "source": [
    "dataset_ronaldo.to_csv(\"Cleaned_ronaldo_tweets.csv\", index=False)"
   ]
  }
 ],
 "metadata": {
  "kernelspec": {
   "display_name": "Python 3",
   "language": "python",
   "name": "python3"
  },
  "language_info": {
   "codemirror_mode": {
    "name": "ipython",
    "version": 3
   },
   "file_extension": ".py",
   "mimetype": "text/x-python",
   "name": "python",
   "nbconvert_exporter": "python",
   "pygments_lexer": "ipython3",
   "version": "3.7.10"
  },
  "papermill": {
   "default_parameters": {},
   "duration": 49.907144,
   "end_time": "2022-04-14T10:09:48.851854",
   "environment_variables": {},
   "exception": null,
   "input_path": "__notebook__.ipynb",
   "output_path": "__notebook__.ipynb",
   "parameters": {},
   "start_time": "2022-04-14T10:08:58.944710",
   "version": "2.3.3"
  }
 },
 "nbformat": 4,
 "nbformat_minor": 5
}
