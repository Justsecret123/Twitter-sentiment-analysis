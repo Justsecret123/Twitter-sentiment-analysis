{
 "cells": [
  {
   "cell_type": "markdown",
   "id": "1ba9db9a",
   "metadata": {
    "papermill": {
     "duration": 0.044194,
     "end_time": "2022-05-09T09:51:53.777068",
     "exception": false,
     "start_time": "2022-05-09T09:51:53.732874",
     "status": "completed"
    },
    "tags": []
   },
   "source": [
    "# Data Cleaning on tweets about Messi and Ronaldo, by Ibrahim SEROUIS 💻\n",
    "\n",
    "## What is data cleaning ? 🧼\n",
    "\n",
    "\"Data cleaning is the process of fixing or removing incorrect, corrupted, incorrectly formatted, duplicate, or incomplete data within a dataset.\" [read more](https://www.tableau.com/learn/articles/what-is-data-cleaning)\n",
    "\n",
    "## What to expect 🤔\n",
    "\n",
    "In this Notebook, we're going to perform some data cleaning operations on [these tweets](https://www.kaggle.com/datasets/ibrahimserouis99/twitter-sentiment-analysis-and-word-embeddings)."
   ]
  },
  {
   "cell_type": "markdown",
   "id": "71d90beb",
   "metadata": {
    "papermill": {
     "duration": 0.042982,
     "end_time": "2022-05-09T09:51:53.864445",
     "exception": false,
     "start_time": "2022-05-09T09:51:53.821463",
     "status": "completed"
    },
    "tags": []
   },
   "source": [
    "# Libraries"
   ]
  },
  {
   "cell_type": "code",
   "execution_count": 1,
   "id": "b6da06ea",
   "metadata": {
    "_kg_hide-output": true,
    "execution": {
     "iopub.execute_input": "2022-05-09T09:51:53.955798Z",
     "iopub.status.busy": "2022-05-09T09:51:53.954600Z",
     "iopub.status.idle": "2022-05-09T09:52:04.158391Z",
     "shell.execute_reply": "2022-05-09T09:52:04.157709Z",
     "shell.execute_reply.started": "2022-05-09T09:43:31.316707Z"
    },
    "papermill": {
     "duration": 10.25082,
     "end_time": "2022-05-09T09:52:04.158587",
     "exception": false,
     "start_time": "2022-05-09T09:51:53.907767",
     "status": "completed"
    },
    "tags": []
   },
   "outputs": [
    {
     "name": "stdout",
     "output_type": "stream",
     "text": [
      "Collecting clean-text\r\n",
      "  Downloading clean_text-0.6.0-py3-none-any.whl (11 kB)\r\n",
      "Collecting ftfy<7.0,>=6.0\r\n",
      "  Downloading ftfy-6.1.1-py3-none-any.whl (53 kB)\r\n",
      "\u001b[K     |████████████████████████████████| 53 kB 380 kB/s \r\n",
      "\u001b[?25hRequirement already satisfied: emoji<2.0.0,>=1.0.0 in /opt/conda/lib/python3.7/site-packages (from clean-text) (1.5.0)\r\n",
      "Requirement already satisfied: wcwidth>=0.2.5 in /opt/conda/lib/python3.7/site-packages (from ftfy<7.0,>=6.0->clean-text) (0.2.5)\r\n",
      "Installing collected packages: ftfy, clean-text\r\n",
      "\u001b[33m  WARNING: The script ftfy is installed in '/root/.local/bin' which is not on PATH.\r\n",
      "  Consider adding this directory to PATH or, if you prefer to suppress this warning, use --no-warn-script-location.\u001b[0m\r\n",
      "Successfully installed clean-text-0.6.0 ftfy-6.1.1\r\n",
      "\u001b[33mWARNING: Running pip as the 'root' user can result in broken permissions and conflicting behaviour with the system package manager. It is recommended to use a virtual environment instead: https://pip.pypa.io/warnings/venv\u001b[0m\r\n"
     ]
    }
   ],
   "source": [
    "!pip install --user clean-text"
   ]
  },
  {
   "cell_type": "code",
   "execution_count": 2,
   "id": "4fa39cc2",
   "metadata": {
    "execution": {
     "iopub.execute_input": "2022-05-09T09:52:04.253210Z",
     "iopub.status.busy": "2022-05-09T09:52:04.252544Z",
     "iopub.status.idle": "2022-05-09T09:52:04.871495Z",
     "shell.execute_reply": "2022-05-09T09:52:04.870245Z",
     "shell.execute_reply.started": "2022-05-09T09:43:43.003248Z"
    },
    "papermill": {
     "duration": 0.667033,
     "end_time": "2022-05-09T09:52:04.871647",
     "exception": false,
     "start_time": "2022-05-09T09:52:04.204614",
     "status": "completed"
    },
    "tags": []
   },
   "outputs": [],
   "source": [
    "import re\n",
    "import pandas as pd\n",
    "from cleantext import clean"
   ]
  },
  {
   "cell_type": "markdown",
   "id": "9e11ae4a",
   "metadata": {
    "papermill": {
     "duration": 0.044771,
     "end_time": "2022-05-09T09:52:04.961959",
     "exception": false,
     "start_time": "2022-05-09T09:52:04.917188",
     "status": "completed"
    },
    "tags": []
   },
   "source": [
    "# Files"
   ]
  },
  {
   "cell_type": "code",
   "execution_count": 3,
   "id": "02e05208",
   "metadata": {
    "execution": {
     "iopub.execute_input": "2022-05-09T09:52:05.059335Z",
     "iopub.status.busy": "2022-05-09T09:52:05.058679Z",
     "iopub.status.idle": "2022-05-09T09:52:09.494137Z",
     "shell.execute_reply": "2022-05-09T09:52:09.493451Z",
     "shell.execute_reply.started": "2022-05-09T09:43:43.641920Z"
    },
    "papermill": {
     "duration": 4.486495,
     "end_time": "2022-05-09T09:52:09.494280",
     "exception": false,
     "start_time": "2022-05-09T09:52:05.007785",
     "status": "completed"
    },
    "tags": []
   },
   "outputs": [
    {
     "name": "stderr",
     "output_type": "stream",
     "text": [
      "/opt/conda/lib/python3.7/site-packages/IPython/core/interactiveshell.py:3441: DtypeWarning: Columns (0,1,7,8,9) have mixed types.Specify dtype option on import or set low_memory=False.\n",
      "  exec(code_obj, self.user_global_ns, self.user_ns)\n"
     ]
    }
   ],
   "source": [
    "dataset_messi = pd.read_csv(\"/kaggle/input/twitter-sentiment-analysis-and-word-embeddings/messi_tweets.csv\", encoding=\"utf-8\")\n",
    "dataset_ronaldo = pd.read_csv(\"/kaggle/input/twitter-sentiment-analysis-and-word-embeddings/ronaldo_tweets.csv\", encoding=\"utf-8\")"
   ]
  },
  {
   "cell_type": "markdown",
   "id": "ff587747",
   "metadata": {
    "papermill": {
     "duration": 0.046149,
     "end_time": "2022-05-09T09:52:09.586141",
     "exception": false,
     "start_time": "2022-05-09T09:52:09.539992",
     "status": "completed"
    },
    "tags": []
   },
   "source": [
    "# Display some samples"
   ]
  },
  {
   "cell_type": "markdown",
   "id": "e21e5f88",
   "metadata": {
    "papermill": {
     "duration": 0.045824,
     "end_time": "2022-05-09T09:52:09.677249",
     "exception": false,
     "start_time": "2022-05-09T09:52:09.631425",
     "status": "completed"
    },
    "tags": []
   },
   "source": [
    "## Messi"
   ]
  },
  {
   "cell_type": "code",
   "execution_count": 4,
   "id": "256f0c06",
   "metadata": {
    "execution": {
     "iopub.execute_input": "2022-05-09T09:52:09.771593Z",
     "iopub.status.busy": "2022-05-09T09:52:09.770909Z",
     "iopub.status.idle": "2022-05-09T09:52:09.797149Z",
     "shell.execute_reply": "2022-05-09T09:52:09.796637Z",
     "shell.execute_reply.started": "2022-05-09T09:43:48.117475Z"
    },
    "papermill": {
     "duration": 0.074548,
     "end_time": "2022-05-09T09:52:09.797290",
     "exception": false,
     "start_time": "2022-05-09T09:52:09.722742",
     "status": "completed"
    },
    "tags": []
   },
   "outputs": [
    {
     "data": {
      "text/html": [
       "<div>\n",
       "<style scoped>\n",
       "    .dataframe tbody tr th:only-of-type {\n",
       "        vertical-align: middle;\n",
       "    }\n",
       "\n",
       "    .dataframe tbody tr th {\n",
       "        vertical-align: top;\n",
       "    }\n",
       "\n",
       "    .dataframe thead th {\n",
       "        text-align: right;\n",
       "    }\n",
       "</style>\n",
       "<table border=\"1\" class=\"dataframe\">\n",
       "  <thead>\n",
       "    <tr style=\"text-align: right;\">\n",
       "      <th></th>\n",
       "      <th>tweet_id</th>\n",
       "      <th>author_id</th>\n",
       "      <th>content</th>\n",
       "      <th>lang</th>\n",
       "      <th>date</th>\n",
       "      <th>source</th>\n",
       "      <th>geo</th>\n",
       "      <th>retweet_count</th>\n",
       "      <th>like_count</th>\n",
       "      <th>quote_count</th>\n",
       "    </tr>\n",
       "  </thead>\n",
       "  <tbody>\n",
       "    <tr>\n",
       "      <th>0</th>\n",
       "      <td>1523587143632703488</td>\n",
       "      <td>1292468372618326023</td>\n",
       "      <td>@szn_united @Afc_Nick_ @Thogden Oh yeah and me...</td>\n",
       "      <td>en</td>\n",
       "      <td>2022-05-09T08:54:16.000Z</td>\n",
       "      <td>Twitter for Android</td>\n",
       "      <td>NaN</td>\n",
       "      <td>0</td>\n",
       "      <td>0</td>\n",
       "      <td>0</td>\n",
       "    </tr>\n",
       "    <tr>\n",
       "      <th>1</th>\n",
       "      <td>1523587126595825664</td>\n",
       "      <td>3985914141</td>\n",
       "      <td>@ws_onlyw @AbjaFCB @ShanviMessi This level of ...</td>\n",
       "      <td>en</td>\n",
       "      <td>2022-05-09T08:54:12.000Z</td>\n",
       "      <td>Twitter for iPhone</td>\n",
       "      <td>NaN</td>\n",
       "      <td>0</td>\n",
       "      <td>0</td>\n",
       "      <td>0</td>\n",
       "    </tr>\n",
       "    <tr>\n",
       "      <th>2</th>\n",
       "      <td>1523587117556715520</td>\n",
       "      <td>1480936861790924801</td>\n",
       "      <td>@FutSheriff Fred and messi tradeable. Thoughts...</td>\n",
       "      <td>en</td>\n",
       "      <td>2022-05-09T08:54:10.000Z</td>\n",
       "      <td>Twitter for Android</td>\n",
       "      <td>NaN</td>\n",
       "      <td>0</td>\n",
       "      <td>1</td>\n",
       "      <td>0</td>\n",
       "    </tr>\n",
       "    <tr>\n",
       "      <th>3</th>\n",
       "      <td>1523587113005948929</td>\n",
       "      <td>1424726769236529155</td>\n",
       "      <td>@NoCapFC @Mysticalleo_ @BecksRonnie their is a...</td>\n",
       "      <td>en</td>\n",
       "      <td>2022-05-09T08:54:09.000Z</td>\n",
       "      <td>Twitter Web App</td>\n",
       "      <td>NaN</td>\n",
       "      <td>0</td>\n",
       "      <td>0</td>\n",
       "      <td>0</td>\n",
       "    </tr>\n",
       "    <tr>\n",
       "      <th>4</th>\n",
       "      <td>1523587088381136896</td>\n",
       "      <td>942073809464467456</td>\n",
       "      <td>@goatssifreak Ok sir I think you know Messi be...</td>\n",
       "      <td>en</td>\n",
       "      <td>2022-05-09T08:54:03.000Z</td>\n",
       "      <td>Twitter for Android</td>\n",
       "      <td>NaN</td>\n",
       "      <td>0</td>\n",
       "      <td>0</td>\n",
       "      <td>0</td>\n",
       "    </tr>\n",
       "  </tbody>\n",
       "</table>\n",
       "</div>"
      ],
      "text/plain": [
       "              tweet_id            author_id  \\\n",
       "0  1523587143632703488  1292468372618326023   \n",
       "1  1523587126595825664           3985914141   \n",
       "2  1523587117556715520  1480936861790924801   \n",
       "3  1523587113005948929  1424726769236529155   \n",
       "4  1523587088381136896   942073809464467456   \n",
       "\n",
       "                                             content lang  \\\n",
       "0  @szn_united @Afc_Nick_ @Thogden Oh yeah and me...   en   \n",
       "1  @ws_onlyw @AbjaFCB @ShanviMessi This level of ...   en   \n",
       "2  @FutSheriff Fred and messi tradeable. Thoughts...   en   \n",
       "3  @NoCapFC @Mysticalleo_ @BecksRonnie their is a...   en   \n",
       "4  @goatssifreak Ok sir I think you know Messi be...   en   \n",
       "\n",
       "                       date               source  geo retweet_count  \\\n",
       "0  2022-05-09T08:54:16.000Z  Twitter for Android  NaN             0   \n",
       "1  2022-05-09T08:54:12.000Z   Twitter for iPhone  NaN             0   \n",
       "2  2022-05-09T08:54:10.000Z  Twitter for Android  NaN             0   \n",
       "3  2022-05-09T08:54:09.000Z      Twitter Web App  NaN             0   \n",
       "4  2022-05-09T08:54:03.000Z  Twitter for Android  NaN             0   \n",
       "\n",
       "  like_count quote_count  \n",
       "0          0           0  \n",
       "1          0           0  \n",
       "2          1           0  \n",
       "3          0           0  \n",
       "4          0           0  "
      ]
     },
     "execution_count": 4,
     "metadata": {},
     "output_type": "execute_result"
    }
   ],
   "source": [
    "dataset_messi.head(5)"
   ]
  },
  {
   "cell_type": "markdown",
   "id": "53c6c5f3",
   "metadata": {
    "papermill": {
     "duration": 0.045965,
     "end_time": "2022-05-09T09:52:09.889044",
     "exception": false,
     "start_time": "2022-05-09T09:52:09.843079",
     "status": "completed"
    },
    "tags": []
   },
   "source": [
    "## Ronaldo"
   ]
  },
  {
   "cell_type": "code",
   "execution_count": 5,
   "id": "17eb8cf3",
   "metadata": {
    "execution": {
     "iopub.execute_input": "2022-05-09T09:52:09.996924Z",
     "iopub.status.busy": "2022-05-09T09:52:09.996139Z",
     "iopub.status.idle": "2022-05-09T09:52:10.000381Z",
     "shell.execute_reply": "2022-05-09T09:52:09.999842Z",
     "shell.execute_reply.started": "2022-05-09T09:43:48.149088Z"
    },
    "papermill": {
     "duration": 0.065333,
     "end_time": "2022-05-09T09:52:10.000515",
     "exception": false,
     "start_time": "2022-05-09T09:52:09.935182",
     "status": "completed"
    },
    "tags": []
   },
   "outputs": [
    {
     "data": {
      "text/html": [
       "<div>\n",
       "<style scoped>\n",
       "    .dataframe tbody tr th:only-of-type {\n",
       "        vertical-align: middle;\n",
       "    }\n",
       "\n",
       "    .dataframe tbody tr th {\n",
       "        vertical-align: top;\n",
       "    }\n",
       "\n",
       "    .dataframe thead th {\n",
       "        text-align: right;\n",
       "    }\n",
       "</style>\n",
       "<table border=\"1\" class=\"dataframe\">\n",
       "  <thead>\n",
       "    <tr style=\"text-align: right;\">\n",
       "      <th></th>\n",
       "      <th>tweet_id</th>\n",
       "      <th>author_id</th>\n",
       "      <th>content</th>\n",
       "      <th>lang</th>\n",
       "      <th>date</th>\n",
       "      <th>source</th>\n",
       "      <th>geo</th>\n",
       "      <th>retweet_count</th>\n",
       "      <th>like_count</th>\n",
       "      <th>quote_count</th>\n",
       "    </tr>\n",
       "  </thead>\n",
       "  <tbody>\n",
       "    <tr>\n",
       "      <th>0</th>\n",
       "      <td>1523587244572872704</td>\n",
       "      <td>1383801795823116291</td>\n",
       "      <td>@markgoldbridge Where is the band leader? #Ron...</td>\n",
       "      <td>en</td>\n",
       "      <td>2022-05-09T08:54:40.000Z</td>\n",
       "      <td>Twitter for Android</td>\n",
       "      <td>NaN</td>\n",
       "      <td>0</td>\n",
       "      <td>0</td>\n",
       "      <td>0</td>\n",
       "    </tr>\n",
       "    <tr>\n",
       "      <th>1</th>\n",
       "      <td>1523587203351293953</td>\n",
       "      <td>1011901831411322880</td>\n",
       "      <td>@FutSheriff All untradeable except Alex Telles...</td>\n",
       "      <td>en</td>\n",
       "      <td>2022-05-09T08:54:30.000Z</td>\n",
       "      <td>Twitter Web App</td>\n",
       "      <td>NaN</td>\n",
       "      <td>0</td>\n",
       "      <td>0</td>\n",
       "      <td>0</td>\n",
       "    </tr>\n",
       "    <tr>\n",
       "      <th>2</th>\n",
       "      <td>1523587136968003584</td>\n",
       "      <td>288628771</td>\n",
       "      <td>@tshikolomot Or CR7 https://t.co/46rurMMMlW</td>\n",
       "      <td>en</td>\n",
       "      <td>2022-05-09T08:54:14.000Z</td>\n",
       "      <td>Twitter for iPhone</td>\n",
       "      <td>NaN</td>\n",
       "      <td>0</td>\n",
       "      <td>0</td>\n",
       "      <td>0</td>\n",
       "    </tr>\n",
       "    <tr>\n",
       "      <th>3</th>\n",
       "      <td>1523587113005948929</td>\n",
       "      <td>1424726769236529155</td>\n",
       "      <td>@NoCapFC @Mysticalleo_ @BecksRonnie their is a...</td>\n",
       "      <td>en</td>\n",
       "      <td>2022-05-09T08:54:09.000Z</td>\n",
       "      <td>Twitter Web App</td>\n",
       "      <td>NaN</td>\n",
       "      <td>0</td>\n",
       "      <td>0</td>\n",
       "      <td>0</td>\n",
       "    </tr>\n",
       "    <tr>\n",
       "      <th>4</th>\n",
       "      <td>1523587106647560192</td>\n",
       "      <td>278038673</td>\n",
       "      <td>🗣 “[Erik] ten hag needs some constance.”  @Fle...</td>\n",
       "      <td>en</td>\n",
       "      <td>2022-05-09T08:54:07.000Z</td>\n",
       "      <td>Wildmoka</td>\n",
       "      <td>NaN</td>\n",
       "      <td>5</td>\n",
       "      <td>19</td>\n",
       "      <td>0</td>\n",
       "    </tr>\n",
       "  </tbody>\n",
       "</table>\n",
       "</div>"
      ],
      "text/plain": [
       "              tweet_id            author_id  \\\n",
       "0  1523587244572872704  1383801795823116291   \n",
       "1  1523587203351293953  1011901831411322880   \n",
       "2  1523587136968003584            288628771   \n",
       "3  1523587113005948929  1424726769236529155   \n",
       "4  1523587106647560192            278038673   \n",
       "\n",
       "                                             content lang  \\\n",
       "0  @markgoldbridge Where is the band leader? #Ron...   en   \n",
       "1  @FutSheriff All untradeable except Alex Telles...   en   \n",
       "2        @tshikolomot Or CR7 https://t.co/46rurMMMlW   en   \n",
       "3  @NoCapFC @Mysticalleo_ @BecksRonnie their is a...   en   \n",
       "4  🗣 “[Erik] ten hag needs some constance.”  @Fle...   en   \n",
       "\n",
       "                       date               source  geo retweet_count  \\\n",
       "0  2022-05-09T08:54:40.000Z  Twitter for Android  NaN             0   \n",
       "1  2022-05-09T08:54:30.000Z      Twitter Web App  NaN             0   \n",
       "2  2022-05-09T08:54:14.000Z   Twitter for iPhone  NaN             0   \n",
       "3  2022-05-09T08:54:09.000Z      Twitter Web App  NaN             0   \n",
       "4  2022-05-09T08:54:07.000Z             Wildmoka  NaN             5   \n",
       "\n",
       "  like_count quote_count  \n",
       "0          0           0  \n",
       "1          0           0  \n",
       "2          0           0  \n",
       "3          0           0  \n",
       "4         19           0  "
      ]
     },
     "execution_count": 5,
     "metadata": {},
     "output_type": "execute_result"
    }
   ],
   "source": [
    "dataset_ronaldo.head(5)"
   ]
  },
  {
   "cell_type": "markdown",
   "id": "15407ab2",
   "metadata": {
    "papermill": {
     "duration": 0.047036,
     "end_time": "2022-05-09T09:52:10.097976",
     "exception": false,
     "start_time": "2022-05-09T09:52:10.050940",
     "status": "completed"
    },
    "tags": []
   },
   "source": [
    "# Data cleaning 🧼🧽"
   ]
  },
  {
   "cell_type": "markdown",
   "id": "aed3c7c1",
   "metadata": {
    "papermill": {
     "duration": 0.046674,
     "end_time": "2022-05-09T09:52:10.191396",
     "exception": false,
     "start_time": "2022-05-09T09:52:10.144722",
     "status": "completed"
    },
    "tags": []
   },
   "source": [
    "## Messi"
   ]
  },
  {
   "cell_type": "markdown",
   "id": "2b25e837",
   "metadata": {
    "papermill": {
     "duration": 0.046151,
     "end_time": "2022-05-09T09:52:10.284222",
     "exception": false,
     "start_time": "2022-05-09T09:52:10.238071",
     "status": "completed"
    },
    "tags": []
   },
   "source": [
    "### Check for null values"
   ]
  },
  {
   "cell_type": "code",
   "execution_count": 6,
   "id": "e904d0d6",
   "metadata": {
    "execution": {
     "iopub.execute_input": "2022-05-09T09:52:10.643183Z",
     "iopub.status.busy": "2022-05-09T09:52:10.642455Z",
     "iopub.status.idle": "2022-05-09T09:52:10.651797Z",
     "shell.execute_reply": "2022-05-09T09:52:10.652520Z",
     "shell.execute_reply.started": "2022-05-09T09:43:48.166537Z"
    },
    "papermill": {
     "duration": 0.322044,
     "end_time": "2022-05-09T09:52:10.652743",
     "exception": false,
     "start_time": "2022-05-09T09:52:10.330699",
     "status": "completed"
    },
    "tags": []
   },
   "outputs": [
    {
     "name": "stdout",
     "output_type": "stream",
     "text": [
      "Null values per column : \n",
      "\n",
      "tweet_id              0\n",
      "author_id             0\n",
      "content               0\n",
      "lang                  0\n",
      "date                  0\n",
      "source                0\n",
      "geo              249522\n",
      "retweet_count         0\n",
      "like_count            0\n",
      "quote_count           0\n",
      "dtype: int64\n"
     ]
    }
   ],
   "source": [
    "print(f\"Null values per column : \\n\\n{dataset_messi.isna().sum()}\")"
   ]
  },
  {
   "cell_type": "markdown",
   "id": "1efb333f",
   "metadata": {
    "papermill": {
     "duration": 0.046389,
     "end_time": "2022-05-09T09:52:10.746588",
     "exception": false,
     "start_time": "2022-05-09T09:52:10.700199",
     "status": "completed"
    },
    "tags": []
   },
   "source": [
    "### Drop duplicates\n",
    "Based on tweet ID"
   ]
  },
  {
   "cell_type": "code",
   "execution_count": 7,
   "id": "88274c11",
   "metadata": {
    "execution": {
     "iopub.execute_input": "2022-05-09T09:52:10.925394Z",
     "iopub.status.busy": "2022-05-09T09:52:10.853543Z",
     "iopub.status.idle": "2022-05-09T09:52:10.971213Z",
     "shell.execute_reply": "2022-05-09T09:52:10.971669Z",
     "shell.execute_reply.started": "2022-05-09T09:43:48.455647Z"
    },
    "papermill": {
     "duration": 0.17761,
     "end_time": "2022-05-09T09:52:10.971852",
     "exception": false,
     "start_time": "2022-05-09T09:52:10.794242",
     "status": "completed"
    },
    "tags": []
   },
   "outputs": [
    {
     "name": "stdout",
     "output_type": "stream",
     "text": [
      "Row count before deletion: 251530 \n",
      "Row count after deletion: 213969\n"
     ]
    }
   ],
   "source": [
    "print(f\"Row count before deletion: {len(dataset_messi.index)} \")\n",
    "dataset_messi = dataset_messi.drop_duplicates(subset=\"tweet_id\", keep=\"first\")\n",
    "print(f\"Row count after deletion: {len(dataset_messi.index)}\")"
   ]
  },
  {
   "cell_type": "markdown",
   "id": "5e8de97d",
   "metadata": {
    "papermill": {
     "duration": 0.048729,
     "end_time": "2022-05-09T09:52:11.069844",
     "exception": false,
     "start_time": "2022-05-09T09:52:11.021115",
     "status": "completed"
    },
    "tags": []
   },
   "source": [
    "#### Percentage of null geo values "
   ]
  },
  {
   "cell_type": "code",
   "execution_count": 8,
   "id": "9f344fad",
   "metadata": {
    "execution": {
     "iopub.execute_input": "2022-05-09T09:52:11.172363Z",
     "iopub.status.busy": "2022-05-09T09:52:11.171679Z",
     "iopub.status.idle": "2022-05-09T09:52:11.175277Z",
     "shell.execute_reply": "2022-05-09T09:52:11.174411Z",
     "shell.execute_reply.started": "2022-05-09T09:43:48.592020Z"
    },
    "papermill": {
     "duration": 0.057685,
     "end_time": "2022-05-09T09:52:11.175460",
     "exception": false,
     "start_time": "2022-05-09T09:52:11.117775",
     "status": "completed"
    },
    "tags": []
   },
   "outputs": [
    {
     "name": "stdout",
     "output_type": "stream",
     "text": [
      "Number of values : 213969\n"
     ]
    }
   ],
   "source": [
    "count = len(dataset_messi.index)\n",
    "print(f\"Number of values : {count}\")"
   ]
  },
  {
   "cell_type": "code",
   "execution_count": 9,
   "id": "5bc4edf6",
   "metadata": {
    "execution": {
     "iopub.execute_input": "2022-05-09T09:52:11.500219Z",
     "iopub.status.busy": "2022-05-09T09:52:11.499553Z",
     "iopub.status.idle": "2022-05-09T09:52:11.506448Z",
     "shell.execute_reply": "2022-05-09T09:52:11.506941Z",
     "shell.execute_reply.started": "2022-05-09T09:43:48.599001Z"
    },
    "papermill": {
     "duration": 0.282603,
     "end_time": "2022-05-09T09:52:11.507141",
     "exception": false,
     "start_time": "2022-05-09T09:52:11.224538",
     "status": "completed"
    },
    "tags": []
   },
   "outputs": [
    {
     "name": "stdout",
     "output_type": "stream",
     "text": [
      "Percentage of null geo values 99.18%\n"
     ]
    }
   ],
   "source": [
    "count_null = dataset_messi.isna().sum()[\"geo\"]\n",
    "percentage = count_null*100/count\n",
    "print(f\"Percentage of null geo values {round(percentage,2)}%\")"
   ]
  },
  {
   "cell_type": "markdown",
   "id": "b02c5f14",
   "metadata": {
    "papermill": {
     "duration": 0.047743,
     "end_time": "2022-05-09T09:52:11.602970",
     "exception": false,
     "start_time": "2022-05-09T09:52:11.555227",
     "status": "completed"
    },
    "tags": []
   },
   "source": [
    "### Assign the -1 id to null geo values"
   ]
  },
  {
   "cell_type": "code",
   "execution_count": 10,
   "id": "52f6a675",
   "metadata": {
    "execution": {
     "iopub.execute_input": "2022-05-09T09:52:11.702868Z",
     "iopub.status.busy": "2022-05-09T09:52:11.702254Z",
     "iopub.status.idle": "2022-05-09T09:52:11.871361Z",
     "shell.execute_reply": "2022-05-09T09:52:11.871842Z",
     "shell.execute_reply.started": "2022-05-09T09:43:48.855142Z"
    },
    "papermill": {
     "duration": 0.220862,
     "end_time": "2022-05-09T09:52:11.872040",
     "exception": false,
     "start_time": "2022-05-09T09:52:11.651178",
     "status": "completed"
    },
    "tags": []
   },
   "outputs": [],
   "source": [
    "dataset_messi.geo = dataset_messi.geo.apply(lambda x: -1 if pd.isna(x) else x)"
   ]
  },
  {
   "cell_type": "markdown",
   "id": "564299a1",
   "metadata": {
    "papermill": {
     "duration": 0.049,
     "end_time": "2022-05-09T09:52:11.970225",
     "exception": false,
     "start_time": "2022-05-09T09:52:11.921225",
     "status": "completed"
    },
    "tags": []
   },
   "source": [
    "#### Display results"
   ]
  },
  {
   "cell_type": "code",
   "execution_count": 11,
   "id": "bd2d1fc0",
   "metadata": {
    "execution": {
     "iopub.execute_input": "2022-05-09T09:52:12.076128Z",
     "iopub.status.busy": "2022-05-09T09:52:12.075359Z",
     "iopub.status.idle": "2022-05-09T09:52:12.078462Z",
     "shell.execute_reply": "2022-05-09T09:52:12.078951Z",
     "shell.execute_reply.started": "2022-05-09T09:43:49.027376Z"
    },
    "papermill": {
     "duration": 0.059213,
     "end_time": "2022-05-09T09:52:12.079147",
     "exception": false,
     "start_time": "2022-05-09T09:52:12.019934",
     "status": "completed"
    },
    "tags": []
   },
   "outputs": [
    {
     "data": {
      "text/plain": [
       "0    -1\n",
       "1    -1\n",
       "2    -1\n",
       "3    -1\n",
       "4    -1\n",
       "Name: geo, dtype: object"
      ]
     },
     "execution_count": 11,
     "metadata": {},
     "output_type": "execute_result"
    }
   ],
   "source": [
    "dataset_messi[\"geo\"].head(5)"
   ]
  },
  {
   "cell_type": "code",
   "execution_count": 12,
   "id": "bd14ec97",
   "metadata": {
    "execution": {
     "iopub.execute_input": "2022-05-09T09:52:12.192063Z",
     "iopub.status.busy": "2022-05-09T09:52:12.180000Z",
     "iopub.status.idle": "2022-05-09T09:52:12.194524Z",
     "shell.execute_reply": "2022-05-09T09:52:12.195032Z",
     "shell.execute_reply.started": "2022-05-09T09:43:49.038329Z"
    },
    "papermill": {
     "duration": 0.067478,
     "end_time": "2022-05-09T09:52:12.195210",
     "exception": false,
     "start_time": "2022-05-09T09:52:12.127732",
     "status": "completed"
    },
    "tags": []
   },
   "outputs": [
    {
     "name": "stdout",
     "output_type": "stream",
     "text": [
      "Some locations IDs: [-1 '9d7cae88ff6a29f5' '01238f7f200d1e45' '009b4bcc18019797'\n",
      " '01983bef79d0f0cf']\n"
     ]
    }
   ],
   "source": [
    "print(f\"Some locations IDs: {dataset_messi['geo'].unique()[0:5]}\")"
   ]
  },
  {
   "cell_type": "markdown",
   "id": "8b9de4f7",
   "metadata": {
    "papermill": {
     "duration": 0.048803,
     "end_time": "2022-05-09T09:52:12.293317",
     "exception": false,
     "start_time": "2022-05-09T09:52:12.244514",
     "status": "completed"
    },
    "tags": []
   },
   "source": [
    "### Clean tweets : remove mentions, extra spaces and links"
   ]
  },
  {
   "cell_type": "markdown",
   "id": "940e40f6",
   "metadata": {
    "papermill": {
     "duration": 0.049255,
     "end_time": "2022-05-09T09:52:12.391609",
     "exception": false,
     "start_time": "2022-05-09T09:52:12.342354",
     "status": "completed"
    },
    "tags": []
   },
   "source": [
    "#### Utility function"
   ]
  },
  {
   "cell_type": "code",
   "execution_count": 13,
   "id": "3d72f2c6",
   "metadata": {
    "execution": {
     "iopub.execute_input": "2022-05-09T09:52:12.495665Z",
     "iopub.status.busy": "2022-05-09T09:52:12.494753Z",
     "iopub.status.idle": "2022-05-09T09:52:12.497749Z",
     "shell.execute_reply": "2022-05-09T09:52:12.497223Z",
     "shell.execute_reply.started": "2022-05-09T09:43:49.063500Z"
    },
    "papermill": {
     "duration": 0.056952,
     "end_time": "2022-05-09T09:52:12.497884",
     "exception": false,
     "start_time": "2022-05-09T09:52:12.440932",
     "status": "completed"
    },
    "tags": []
   },
   "outputs": [],
   "source": [
    "def clean_tweet(text):\n",
    "    \"\"\"\n",
    "    Removes punctuation, emojis, normalizes whitespaces...from a text\n",
    "    \"\"\"\n",
    "    \n",
    "    text = clean(text,\n",
    "                 no_punct=True,\n",
    "                 lower=True,\n",
    "                 no_emoji=True,\n",
    "                 normalize_whitespace=True\n",
    "                )\n",
    "    \n",
    "    return text"
   ]
  },
  {
   "cell_type": "markdown",
   "id": "3a3b3f15",
   "metadata": {
    "papermill": {
     "duration": 0.051182,
     "end_time": "2022-05-09T09:52:12.598244",
     "exception": false,
     "start_time": "2022-05-09T09:52:12.547062",
     "status": "completed"
    },
    "tags": []
   },
   "source": [
    "#### Create the text cleaning regular expressions "
   ]
  },
  {
   "cell_type": "code",
   "execution_count": 14,
   "id": "a9808c27",
   "metadata": {
    "execution": {
     "iopub.execute_input": "2022-05-09T09:52:12.701928Z",
     "iopub.status.busy": "2022-05-09T09:52:12.701196Z",
     "iopub.status.idle": "2022-05-09T09:52:12.702832Z",
     "shell.execute_reply": "2022-05-09T09:52:12.703427Z",
     "shell.execute_reply.started": "2022-05-09T09:43:49.081251Z"
    },
    "papermill": {
     "duration": 0.055959,
     "end_time": "2022-05-09T09:52:12.703588",
     "exception": false,
     "start_time": "2022-05-09T09:52:12.647629",
     "status": "completed"
    },
    "tags": []
   },
   "outputs": [],
   "source": [
    "# Remove mentions\n",
    "regex_mentions = r\"@[A-Za-z0-9_]+\"\n",
    "# Remove links\n",
    "regex_links = r\"https?://[A-Za-z0-9./]+\"\n",
    "# Remove some special characters\n",
    "regex_special = r\"[^A-Za-z0-9]+\"\n",
    "# Remove numbers \n",
    "regex_numbers = r\"[0-9]+\"\n",
    "# Remove ordinals \n",
    "regex_ordinals = r\"[0-9]+(?:st| st|nd| nd|rd| rd|th| th)\""
   ]
  },
  {
   "cell_type": "markdown",
   "id": "d3986f37",
   "metadata": {
    "papermill": {
     "duration": 0.049074,
     "end_time": "2022-05-09T09:52:12.801649",
     "exception": false,
     "start_time": "2022-05-09T09:52:12.752575",
     "status": "completed"
    },
    "tags": []
   },
   "source": [
    "### Clean tweets : remove mentions, links, special characters, extra spaces..."
   ]
  },
  {
   "cell_type": "code",
   "execution_count": 15,
   "id": "d6399934",
   "metadata": {
    "execution": {
     "iopub.execute_input": "2022-05-09T09:52:12.921742Z",
     "iopub.status.busy": "2022-05-09T09:52:12.911319Z",
     "iopub.status.idle": "2022-05-09T09:52:41.675196Z",
     "shell.execute_reply": "2022-05-09T09:52:41.675778Z",
     "shell.execute_reply.started": "2022-05-09T09:43:49.097234Z"
    },
    "papermill": {
     "duration": 28.825513,
     "end_time": "2022-05-09T09:52:41.676027",
     "exception": false,
     "start_time": "2022-05-09T09:52:12.850514",
     "status": "completed"
    },
    "tags": []
   },
   "outputs": [],
   "source": [
    "# Remove mentions\n",
    "dataset_messi.content = dataset_messi.content.apply(lambda x: re.sub(regex_mentions, \" \", str(x).strip()))\n",
    "# Remove links \n",
    "dataset_messi.content = dataset_messi.content.apply(lambda x: re.sub(regex_links, \" \", str(x).strip()))\n",
    "# Remove special characters\n",
    "dataset_messi.content = dataset_messi.content.apply(lambda x: re.sub(regex_special, \" \", str(x).strip()))\n",
    "# Remove ordinals\n",
    "dataset_messi.content = dataset_messi.content.apply(lambda x: re.sub(regex_ordinals, \" \", str(x).strip()))\n",
    "# Remove numbers \n",
    "dataset_messi.content = dataset_messi.content.apply(lambda x: re.sub(regex_numbers, \" \", str(x).strip()))\n",
    "# Clean tweets\n",
    "dataset_messi.content = dataset_messi.content.apply(lambda x: clean_tweet(x)) "
   ]
  },
  {
   "cell_type": "markdown",
   "id": "53d0c113",
   "metadata": {
    "papermill": {
     "duration": 0.050661,
     "end_time": "2022-05-09T09:52:41.793414",
     "exception": false,
     "start_time": "2022-05-09T09:52:41.742753",
     "status": "completed"
    },
    "tags": []
   },
   "source": [
    "#### Display results"
   ]
  },
  {
   "cell_type": "code",
   "execution_count": 16,
   "id": "6ca94200",
   "metadata": {
    "execution": {
     "iopub.execute_input": "2022-05-09T09:52:41.900003Z",
     "iopub.status.busy": "2022-05-09T09:52:41.899235Z",
     "iopub.status.idle": "2022-05-09T09:52:41.915258Z",
     "shell.execute_reply": "2022-05-09T09:52:41.915819Z",
     "shell.execute_reply.started": "2022-05-09T09:44:18.647051Z"
    },
    "papermill": {
     "duration": 0.072768,
     "end_time": "2022-05-09T09:52:41.915987",
     "exception": false,
     "start_time": "2022-05-09T09:52:41.843219",
     "status": "completed"
    },
    "tags": []
   },
   "outputs": [
    {
     "data": {
      "text/html": [
       "<div>\n",
       "<style scoped>\n",
       "    .dataframe tbody tr th:only-of-type {\n",
       "        vertical-align: middle;\n",
       "    }\n",
       "\n",
       "    .dataframe tbody tr th {\n",
       "        vertical-align: top;\n",
       "    }\n",
       "\n",
       "    .dataframe thead th {\n",
       "        text-align: right;\n",
       "    }\n",
       "</style>\n",
       "<table border=\"1\" class=\"dataframe\">\n",
       "  <thead>\n",
       "    <tr style=\"text-align: right;\">\n",
       "      <th></th>\n",
       "      <th>tweet_id</th>\n",
       "      <th>author_id</th>\n",
       "      <th>content</th>\n",
       "      <th>lang</th>\n",
       "      <th>date</th>\n",
       "      <th>source</th>\n",
       "      <th>geo</th>\n",
       "      <th>retweet_count</th>\n",
       "      <th>like_count</th>\n",
       "      <th>quote_count</th>\n",
       "    </tr>\n",
       "  </thead>\n",
       "  <tbody>\n",
       "    <tr>\n",
       "      <th>0</th>\n",
       "      <td>1523587143632703488</td>\n",
       "      <td>1292468372618326023</td>\n",
       "      <td>oh yeah and messi contributed so heavily to hi...</td>\n",
       "      <td>en</td>\n",
       "      <td>2022-05-09T08:54:16.000Z</td>\n",
       "      <td>Twitter for Android</td>\n",
       "      <td>-1</td>\n",
       "      <td>0</td>\n",
       "      <td>0</td>\n",
       "      <td>0</td>\n",
       "    </tr>\n",
       "    <tr>\n",
       "      <th>1</th>\n",
       "      <td>1523587126595825664</td>\n",
       "      <td>3985914141</td>\n",
       "      <td>this level of stretch is insane he literally t...</td>\n",
       "      <td>en</td>\n",
       "      <td>2022-05-09T08:54:12.000Z</td>\n",
       "      <td>Twitter for iPhone</td>\n",
       "      <td>-1</td>\n",
       "      <td>0</td>\n",
       "      <td>0</td>\n",
       "      <td>0</td>\n",
       "    </tr>\n",
       "    <tr>\n",
       "      <th>2</th>\n",
       "      <td>1523587117556715520</td>\n",
       "      <td>1480936861790924801</td>\n",
       "      <td>fred and messi tradeable thoughts</td>\n",
       "      <td>en</td>\n",
       "      <td>2022-05-09T08:54:10.000Z</td>\n",
       "      <td>Twitter for Android</td>\n",
       "      <td>-1</td>\n",
       "      <td>0</td>\n",
       "      <td>1</td>\n",
       "      <td>0</td>\n",
       "    </tr>\n",
       "    <tr>\n",
       "      <th>3</th>\n",
       "      <td>1523587113005948929</td>\n",
       "      <td>1424726769236529155</td>\n",
       "      <td>their is a reason most tickets sold in worldcu...</td>\n",
       "      <td>en</td>\n",
       "      <td>2022-05-09T08:54:09.000Z</td>\n",
       "      <td>Twitter Web App</td>\n",
       "      <td>-1</td>\n",
       "      <td>0</td>\n",
       "      <td>0</td>\n",
       "      <td>0</td>\n",
       "    </tr>\n",
       "    <tr>\n",
       "      <th>4</th>\n",
       "      <td>1523587088381136896</td>\n",
       "      <td>942073809464467456</td>\n",
       "      <td>ok sir i think you know messi better than mess...</td>\n",
       "      <td>en</td>\n",
       "      <td>2022-05-09T08:54:03.000Z</td>\n",
       "      <td>Twitter for Android</td>\n",
       "      <td>-1</td>\n",
       "      <td>0</td>\n",
       "      <td>0</td>\n",
       "      <td>0</td>\n",
       "    </tr>\n",
       "  </tbody>\n",
       "</table>\n",
       "</div>"
      ],
      "text/plain": [
       "              tweet_id            author_id  \\\n",
       "0  1523587143632703488  1292468372618326023   \n",
       "1  1523587126595825664           3985914141   \n",
       "2  1523587117556715520  1480936861790924801   \n",
       "3  1523587113005948929  1424726769236529155   \n",
       "4  1523587088381136896   942073809464467456   \n",
       "\n",
       "                                             content lang  \\\n",
       "0  oh yeah and messi contributed so heavily to hi...   en   \n",
       "1  this level of stretch is insane he literally t...   en   \n",
       "2                  fred and messi tradeable thoughts   en   \n",
       "3  their is a reason most tickets sold in worldcu...   en   \n",
       "4  ok sir i think you know messi better than mess...   en   \n",
       "\n",
       "                       date               source geo retweet_count like_count  \\\n",
       "0  2022-05-09T08:54:16.000Z  Twitter for Android  -1             0          0   \n",
       "1  2022-05-09T08:54:12.000Z   Twitter for iPhone  -1             0          0   \n",
       "2  2022-05-09T08:54:10.000Z  Twitter for Android  -1             0          1   \n",
       "3  2022-05-09T08:54:09.000Z      Twitter Web App  -1             0          0   \n",
       "4  2022-05-09T08:54:03.000Z  Twitter for Android  -1             0          0   \n",
       "\n",
       "  quote_count  \n",
       "0           0  \n",
       "1           0  \n",
       "2           0  \n",
       "3           0  \n",
       "4           0  "
      ]
     },
     "execution_count": 16,
     "metadata": {},
     "output_type": "execute_result"
    }
   ],
   "source": [
    "dataset_messi.head(5)"
   ]
  },
  {
   "cell_type": "markdown",
   "id": "5c3f7078",
   "metadata": {
    "papermill": {
     "duration": 0.050373,
     "end_time": "2022-05-09T09:52:42.016654",
     "exception": false,
     "start_time": "2022-05-09T09:52:41.966281",
     "status": "completed"
    },
    "tags": []
   },
   "source": [
    "### Check for non-english content"
   ]
  },
  {
   "cell_type": "code",
   "execution_count": 17,
   "id": "27d13ca5",
   "metadata": {
    "execution": {
     "iopub.execute_input": "2022-05-09T09:52:42.121469Z",
     "iopub.status.busy": "2022-05-09T09:52:42.120776Z",
     "iopub.status.idle": "2022-05-09T09:52:42.186110Z",
     "shell.execute_reply": "2022-05-09T09:52:42.186622Z",
     "shell.execute_reply.started": "2022-05-09T09:46:32.508311Z"
    },
    "papermill": {
     "duration": 0.118948,
     "end_time": "2022-05-09T09:52:42.186792",
     "exception": false,
     "start_time": "2022-05-09T09:52:42.067844",
     "status": "completed"
    },
    "tags": []
   },
   "outputs": [],
   "source": [
    "dataset_messi = dataset_messi[dataset_messi[\"lang\"]==\"en\"]"
   ]
  },
  {
   "cell_type": "code",
   "execution_count": 18,
   "id": "498e2046",
   "metadata": {
    "execution": {
     "iopub.execute_input": "2022-05-09T09:52:42.299789Z",
     "iopub.status.busy": "2022-05-09T09:52:42.298842Z",
     "iopub.status.idle": "2022-05-09T09:52:42.321421Z",
     "shell.execute_reply": "2022-05-09T09:52:42.320802Z",
     "shell.execute_reply.started": "2022-05-09T09:46:34.164058Z"
    },
    "papermill": {
     "duration": 0.079273,
     "end_time": "2022-05-09T09:52:42.321579",
     "exception": false,
     "start_time": "2022-05-09T09:52:42.242306",
     "status": "completed"
    },
    "tags": []
   },
   "outputs": [],
   "source": [
    "assert dataset_messi[\"lang\"].unique()==\"en\", \"Non-english content detected\""
   ]
  },
  {
   "cell_type": "markdown",
   "id": "ba501137",
   "metadata": {
    "papermill": {
     "duration": 0.049481,
     "end_time": "2022-05-09T09:52:42.421445",
     "exception": false,
     "start_time": "2022-05-09T09:52:42.371964",
     "status": "completed"
    },
    "tags": []
   },
   "source": [
    "> Test passed"
   ]
  },
  {
   "cell_type": "markdown",
   "id": "2db6ad1c",
   "metadata": {
    "papermill": {
     "duration": 0.049707,
     "end_time": "2022-05-09T09:52:42.520886",
     "exception": false,
     "start_time": "2022-05-09T09:52:42.471179",
     "status": "completed"
    },
    "tags": []
   },
   "source": [
    "## Ronaldo"
   ]
  },
  {
   "cell_type": "markdown",
   "id": "233f012d",
   "metadata": {
    "papermill": {
     "duration": 0.05217,
     "end_time": "2022-05-09T09:52:42.622743",
     "exception": false,
     "start_time": "2022-05-09T09:52:42.570573",
     "status": "completed"
    },
    "tags": []
   },
   "source": [
    "### Check for null values"
   ]
  },
  {
   "cell_type": "code",
   "execution_count": 19,
   "id": "9075dc1f",
   "metadata": {
    "execution": {
     "iopub.execute_input": "2022-05-09T09:52:42.959393Z",
     "iopub.status.busy": "2022-05-09T09:52:42.958443Z",
     "iopub.status.idle": "2022-05-09T09:52:42.968956Z",
     "shell.execute_reply": "2022-05-09T09:52:42.968458Z",
     "shell.execute_reply.started": "2022-05-09T09:46:40.903791Z"
    },
    "papermill": {
     "duration": 0.29622,
     "end_time": "2022-05-09T09:52:42.969127",
     "exception": false,
     "start_time": "2022-05-09T09:52:42.672907",
     "status": "completed"
    },
    "tags": []
   },
   "outputs": [
    {
     "data": {
      "text/plain": [
       "tweet_id              0\n",
       "author_id             2\n",
       "content               2\n",
       "lang                  5\n",
       "date                  8\n",
       "source                5\n",
       "geo              248295\n",
       "retweet_count         5\n",
       "like_count            8\n",
       "quote_count           8\n",
       "dtype: int64"
      ]
     },
     "execution_count": 19,
     "metadata": {},
     "output_type": "execute_result"
    }
   ],
   "source": [
    "dataset_ronaldo.isna().sum()"
   ]
  },
  {
   "cell_type": "markdown",
   "id": "3eda88df",
   "metadata": {
    "papermill": {
     "duration": 0.05025,
     "end_time": "2022-05-09T09:52:43.070076",
     "exception": false,
     "start_time": "2022-05-09T09:52:43.019826",
     "status": "completed"
    },
    "tags": []
   },
   "source": [
    "### Drop null values\n",
    "For columns relevant to our analysis"
   ]
  },
  {
   "cell_type": "code",
   "execution_count": 20,
   "id": "16600c5c",
   "metadata": {
    "execution": {
     "iopub.execute_input": "2022-05-09T09:52:43.177147Z",
     "iopub.status.busy": "2022-05-09T09:52:43.176040Z",
     "iopub.status.idle": "2022-05-09T09:52:43.369111Z",
     "shell.execute_reply": "2022-05-09T09:52:43.368542Z",
     "shell.execute_reply.started": "2022-05-09T09:46:41.583491Z"
    },
    "papermill": {
     "duration": 0.248953,
     "end_time": "2022-05-09T09:52:43.369270",
     "exception": false,
     "start_time": "2022-05-09T09:52:43.120317",
     "status": "completed"
    },
    "tags": []
   },
   "outputs": [],
   "source": [
    "dataset_ronaldo.dropna(subset=[\"lang\",\"date\",\"source\",\"retweet_count\",\"like_count\", \"quote_count\"], inplace=True)"
   ]
  },
  {
   "cell_type": "code",
   "execution_count": 21,
   "id": "7cbd83a9",
   "metadata": {
    "execution": {
     "iopub.execute_input": "2022-05-09T09:52:43.472836Z",
     "iopub.status.busy": "2022-05-09T09:52:43.472178Z",
     "iopub.status.idle": "2022-05-09T09:52:43.710492Z",
     "shell.execute_reply": "2022-05-09T09:52:43.710966Z",
     "shell.execute_reply.started": "2022-05-09T09:46:42.515525Z"
    },
    "papermill": {
     "duration": 0.291579,
     "end_time": "2022-05-09T09:52:43.711159",
     "exception": false,
     "start_time": "2022-05-09T09:52:43.419580",
     "status": "completed"
    },
    "tags": []
   },
   "outputs": [
    {
     "name": "stdout",
     "output_type": "stream",
     "text": [
      "Null values: \n",
      "tweet_id              0\n",
      "author_id             0\n",
      "content               0\n",
      "lang                  0\n",
      "date                  0\n",
      "source                0\n",
      "geo              248290\n",
      "retweet_count         0\n",
      "like_count            0\n",
      "quote_count           0\n",
      "dtype: int64\n"
     ]
    }
   ],
   "source": [
    "print(f\"Null values: \\n{dataset_ronaldo.isna().sum()}\")"
   ]
  },
  {
   "cell_type": "markdown",
   "id": "cbb4c121",
   "metadata": {
    "papermill": {
     "duration": 0.05101,
     "end_time": "2022-05-09T09:52:43.812288",
     "exception": false,
     "start_time": "2022-05-09T09:52:43.761278",
     "status": "completed"
    },
    "tags": []
   },
   "source": [
    "### Drop duplicates"
   ]
  },
  {
   "cell_type": "code",
   "execution_count": 22,
   "id": "d5c1d406",
   "metadata": {
    "execution": {
     "iopub.execute_input": "2022-05-09T09:52:43.918895Z",
     "iopub.status.busy": "2022-05-09T09:52:43.917865Z",
     "iopub.status.idle": "2022-05-09T09:52:44.070398Z",
     "shell.execute_reply": "2022-05-09T09:52:44.071042Z",
     "shell.execute_reply.started": "2022-05-09T09:46:44.257755Z"
    },
    "papermill": {
     "duration": 0.208656,
     "end_time": "2022-05-09T09:52:44.071213",
     "exception": false,
     "start_time": "2022-05-09T09:52:43.862557",
     "status": "completed"
    },
    "tags": []
   },
   "outputs": [
    {
     "name": "stdout",
     "output_type": "stream",
     "text": [
      "Row count before deletion: 251370 \n",
      "Row count after deletion: 250670\n"
     ]
    }
   ],
   "source": [
    "print(f\"Row count before deletion: {len(dataset_ronaldo.index)} \")\n",
    "dataset_ronaldo = dataset_ronaldo.drop_duplicates(subset=\"tweet_id\", keep=\"first\")\n",
    "print(f\"Row count after deletion: {len(dataset_ronaldo.index)}\")"
   ]
  },
  {
   "cell_type": "markdown",
   "id": "0537acf7",
   "metadata": {
    "papermill": {
     "duration": 0.05051,
     "end_time": "2022-05-09T09:52:44.173598",
     "exception": false,
     "start_time": "2022-05-09T09:52:44.123088",
     "status": "completed"
    },
    "tags": []
   },
   "source": [
    "### Percentage of null geo values"
   ]
  },
  {
   "cell_type": "code",
   "execution_count": 23,
   "id": "79037635",
   "metadata": {
    "execution": {
     "iopub.execute_input": "2022-05-09T09:52:44.280418Z",
     "iopub.status.busy": "2022-05-09T09:52:44.279779Z",
     "iopub.status.idle": "2022-05-09T09:52:44.283226Z",
     "shell.execute_reply": "2022-05-09T09:52:44.282700Z",
     "shell.execute_reply.started": "2022-05-09T09:46:54.808390Z"
    },
    "papermill": {
     "duration": 0.058288,
     "end_time": "2022-05-09T09:52:44.283365",
     "exception": false,
     "start_time": "2022-05-09T09:52:44.225077",
     "status": "completed"
    },
    "tags": []
   },
   "outputs": [
    {
     "name": "stdout",
     "output_type": "stream",
     "text": [
      "Number of values: 250670\n"
     ]
    }
   ],
   "source": [
    "count = len(dataset_ronaldo.index)\n",
    "print(f\"Number of values: {count}\")"
   ]
  },
  {
   "cell_type": "code",
   "execution_count": 24,
   "id": "04f7a95e",
   "metadata": {
    "execution": {
     "iopub.execute_input": "2022-05-09T09:52:44.390140Z",
     "iopub.status.busy": "2022-05-09T09:52:44.389489Z",
     "iopub.status.idle": "2022-05-09T09:52:44.627462Z",
     "shell.execute_reply": "2022-05-09T09:52:44.627942Z",
     "shell.execute_reply.started": "2022-05-09T09:46:58.422512Z"
    },
    "papermill": {
     "duration": 0.29254,
     "end_time": "2022-05-09T09:52:44.628140",
     "exception": false,
     "start_time": "2022-05-09T09:52:44.335600",
     "status": "completed"
    },
    "tags": []
   },
   "outputs": [
    {
     "name": "stdout",
     "output_type": "stream",
     "text": [
      "Percentage of null geo values: 98.77%\n"
     ]
    }
   ],
   "source": [
    "count_null = dataset_ronaldo.isna().sum()[\"geo\"]\n",
    "percentage = count_null * 100/count\n",
    "print(f\"Percentage of null geo values: {round(percentage,2)}%\")"
   ]
  },
  {
   "cell_type": "markdown",
   "id": "b0dc062c",
   "metadata": {
    "papermill": {
     "duration": 0.052722,
     "end_time": "2022-05-09T09:52:44.732269",
     "exception": false,
     "start_time": "2022-05-09T09:52:44.679547",
     "status": "completed"
    },
    "tags": []
   },
   "source": [
    "### Assign the -1 id to null geo values"
   ]
  },
  {
   "cell_type": "code",
   "execution_count": 25,
   "id": "97c2ff34",
   "metadata": {
    "execution": {
     "iopub.execute_input": "2022-05-09T09:52:44.841392Z",
     "iopub.status.busy": "2022-05-09T09:52:44.840588Z",
     "iopub.status.idle": "2022-05-09T09:52:45.033451Z",
     "shell.execute_reply": "2022-05-09T09:52:45.032891Z",
     "shell.execute_reply.started": "2022-05-09T09:47:21.431197Z"
    },
    "papermill": {
     "duration": 0.250217,
     "end_time": "2022-05-09T09:52:45.033603",
     "exception": false,
     "start_time": "2022-05-09T09:52:44.783386",
     "status": "completed"
    },
    "tags": []
   },
   "outputs": [],
   "source": [
    "dataset_ronaldo.geo = dataset_ronaldo.geo.apply(lambda x: -1 if pd.isna(x) else x)"
   ]
  },
  {
   "cell_type": "markdown",
   "id": "09c452a7",
   "metadata": {
    "papermill": {
     "duration": 0.05076,
     "end_time": "2022-05-09T09:52:45.135602",
     "exception": false,
     "start_time": "2022-05-09T09:52:45.084842",
     "status": "completed"
    },
    "tags": []
   },
   "source": [
    "#### Display results"
   ]
  },
  {
   "cell_type": "code",
   "execution_count": 26,
   "id": "daa46bca",
   "metadata": {
    "execution": {
     "iopub.execute_input": "2022-05-09T09:52:45.243867Z",
     "iopub.status.busy": "2022-05-09T09:52:45.241100Z",
     "iopub.status.idle": "2022-05-09T09:52:45.247418Z",
     "shell.execute_reply": "2022-05-09T09:52:45.247897Z",
     "shell.execute_reply.started": "2022-05-09T09:47:23.209923Z"
    },
    "papermill": {
     "duration": 0.061185,
     "end_time": "2022-05-09T09:52:45.248105",
     "exception": false,
     "start_time": "2022-05-09T09:52:45.186920",
     "status": "completed"
    },
    "tags": []
   },
   "outputs": [
    {
     "data": {
      "text/plain": [
       "0    -1\n",
       "1    -1\n",
       "2    -1\n",
       "3    -1\n",
       "4    -1\n",
       "Name: geo, dtype: object"
      ]
     },
     "execution_count": 26,
     "metadata": {},
     "output_type": "execute_result"
    }
   ],
   "source": [
    "dataset_ronaldo[\"geo\"].head(5)"
   ]
  },
  {
   "cell_type": "code",
   "execution_count": 27,
   "id": "cabd68bb",
   "metadata": {
    "execution": {
     "iopub.execute_input": "2022-05-09T09:52:45.354517Z",
     "iopub.status.busy": "2022-05-09T09:52:45.353893Z",
     "iopub.status.idle": "2022-05-09T09:52:45.370239Z",
     "shell.execute_reply": "2022-05-09T09:52:45.370684Z",
     "shell.execute_reply.started": "2022-05-09T09:47:25.089328Z"
    },
    "papermill": {
     "duration": 0.071392,
     "end_time": "2022-05-09T09:52:45.370869",
     "exception": false,
     "start_time": "2022-05-09T09:52:45.299477",
     "status": "completed"
    },
    "tags": []
   },
   "outputs": [
    {
     "name": "stdout",
     "output_type": "stream",
     "text": [
      "Some location IDs: [-1 '9d7cae88ff6a29f5' '73a5d83329504007' '0118c71c0ed41109'\n",
      " '01aca86a155c9099']\n"
     ]
    }
   ],
   "source": [
    "print(f\"Some location IDs: {dataset_ronaldo['geo'].unique()[0:5]}\")"
   ]
  },
  {
   "cell_type": "markdown",
   "id": "751fdbd2",
   "metadata": {
    "papermill": {
     "duration": 0.051409,
     "end_time": "2022-05-09T09:52:45.474108",
     "exception": false,
     "start_time": "2022-05-09T09:52:45.422699",
     "status": "completed"
    },
    "tags": []
   },
   "source": [
    "### Clean tweets : remove mentions, links, special characters, extra spaces..."
   ]
  },
  {
   "cell_type": "code",
   "execution_count": 28,
   "id": "b36a04e8",
   "metadata": {
    "execution": {
     "iopub.execute_input": "2022-05-09T09:52:45.590337Z",
     "iopub.status.busy": "2022-05-09T09:52:45.585825Z",
     "iopub.status.idle": "2022-05-09T09:53:19.014462Z",
     "shell.execute_reply": "2022-05-09T09:53:19.014941Z",
     "shell.execute_reply.started": "2022-05-09T09:47:27.259910Z"
    },
    "papermill": {
     "duration": 33.489263,
     "end_time": "2022-05-09T09:53:19.015145",
     "exception": false,
     "start_time": "2022-05-09T09:52:45.525882",
     "status": "completed"
    },
    "tags": []
   },
   "outputs": [],
   "source": [
    "# Remove mentions\n",
    "dataset_ronaldo.content = dataset_ronaldo.content.apply(lambda x: re.sub(regex_mentions, \" \", str(x).strip()))\n",
    "# Remove links\n",
    "dataset_ronaldo.content = dataset_ronaldo.content.apply(lambda x: re.sub(regex_links, \" \", str(x).strip()))\n",
    "# Remove special characters\n",
    "dataset_ronaldo.content = dataset_ronaldo.content.apply(lambda x: re.sub(regex_special, \" \", str(x).strip()))\n",
    "# Remove ordinals\n",
    "dataset_ronaldo.content = dataset_ronaldo.content.apply(lambda x: re.sub(regex_ordinals, \" \", str(x).strip()))\n",
    "# Remove numbers\n",
    "dataset_ronaldo.content = dataset_ronaldo.content.apply(lambda x: re.sub(regex_numbers, \" \", str(x).strip()))\n",
    "# Clean tweets\n",
    "dataset_ronaldo.content = dataset_ronaldo.content.apply(lambda x: clean_tweet(x)) "
   ]
  },
  {
   "cell_type": "markdown",
   "id": "0b8487b7",
   "metadata": {
    "papermill": {
     "duration": 0.05221,
     "end_time": "2022-05-09T09:53:19.120595",
     "exception": false,
     "start_time": "2022-05-09T09:53:19.068385",
     "status": "completed"
    },
    "tags": []
   },
   "source": [
    "#### Display results"
   ]
  },
  {
   "cell_type": "code",
   "execution_count": 29,
   "id": "c079f60e",
   "metadata": {
    "execution": {
     "iopub.execute_input": "2022-05-09T09:53:19.227702Z",
     "iopub.status.busy": "2022-05-09T09:53:19.226991Z",
     "iopub.status.idle": "2022-05-09T09:53:19.241242Z",
     "shell.execute_reply": "2022-05-09T09:53:19.241712Z",
     "shell.execute_reply.started": "2022-05-09T09:48:01.754261Z"
    },
    "papermill": {
     "duration": 0.069329,
     "end_time": "2022-05-09T09:53:19.241874",
     "exception": false,
     "start_time": "2022-05-09T09:53:19.172545",
     "status": "completed"
    },
    "tags": []
   },
   "outputs": [
    {
     "data": {
      "text/html": [
       "<div>\n",
       "<style scoped>\n",
       "    .dataframe tbody tr th:only-of-type {\n",
       "        vertical-align: middle;\n",
       "    }\n",
       "\n",
       "    .dataframe tbody tr th {\n",
       "        vertical-align: top;\n",
       "    }\n",
       "\n",
       "    .dataframe thead th {\n",
       "        text-align: right;\n",
       "    }\n",
       "</style>\n",
       "<table border=\"1\" class=\"dataframe\">\n",
       "  <thead>\n",
       "    <tr style=\"text-align: right;\">\n",
       "      <th></th>\n",
       "      <th>tweet_id</th>\n",
       "      <th>author_id</th>\n",
       "      <th>content</th>\n",
       "      <th>lang</th>\n",
       "      <th>date</th>\n",
       "      <th>source</th>\n",
       "      <th>geo</th>\n",
       "      <th>retweet_count</th>\n",
       "      <th>like_count</th>\n",
       "      <th>quote_count</th>\n",
       "    </tr>\n",
       "  </thead>\n",
       "  <tbody>\n",
       "    <tr>\n",
       "      <th>0</th>\n",
       "      <td>1523587244572872704</td>\n",
       "      <td>1383801795823116291</td>\n",
       "      <td>where is the band leader ronaldo</td>\n",
       "      <td>en</td>\n",
       "      <td>2022-05-09T08:54:40.000Z</td>\n",
       "      <td>Twitter for Android</td>\n",
       "      <td>-1</td>\n",
       "      <td>0</td>\n",
       "      <td>0</td>\n",
       "      <td>0</td>\n",
       "    </tr>\n",
       "    <tr>\n",
       "      <th>1</th>\n",
       "      <td>1523587203351293953</td>\n",
       "      <td>1011901831411322880</td>\n",
       "      <td>all untradeable except alex telles what could ...</td>\n",
       "      <td>en</td>\n",
       "      <td>2022-05-09T08:54:30.000Z</td>\n",
       "      <td>Twitter Web App</td>\n",
       "      <td>-1</td>\n",
       "      <td>0</td>\n",
       "      <td>0</td>\n",
       "      <td>0</td>\n",
       "    </tr>\n",
       "    <tr>\n",
       "      <th>2</th>\n",
       "      <td>1523587136968003584</td>\n",
       "      <td>288628771</td>\n",
       "      <td>or cr</td>\n",
       "      <td>en</td>\n",
       "      <td>2022-05-09T08:54:14.000Z</td>\n",
       "      <td>Twitter for iPhone</td>\n",
       "      <td>-1</td>\n",
       "      <td>0</td>\n",
       "      <td>0</td>\n",
       "      <td>0</td>\n",
       "    </tr>\n",
       "    <tr>\n",
       "      <th>3</th>\n",
       "      <td>1523587113005948929</td>\n",
       "      <td>1424726769236529155</td>\n",
       "      <td>their is a reason most tickets sold in worldcu...</td>\n",
       "      <td>en</td>\n",
       "      <td>2022-05-09T08:54:09.000Z</td>\n",
       "      <td>Twitter Web App</td>\n",
       "      <td>-1</td>\n",
       "      <td>0</td>\n",
       "      <td>0</td>\n",
       "      <td>0</td>\n",
       "    </tr>\n",
       "    <tr>\n",
       "      <th>4</th>\n",
       "      <td>1523587106647560192</td>\n",
       "      <td>278038673</td>\n",
       "      <td>erik ten hag needs some constance says he want...</td>\n",
       "      <td>en</td>\n",
       "      <td>2022-05-09T08:54:07.000Z</td>\n",
       "      <td>Wildmoka</td>\n",
       "      <td>-1</td>\n",
       "      <td>5</td>\n",
       "      <td>19</td>\n",
       "      <td>0</td>\n",
       "    </tr>\n",
       "  </tbody>\n",
       "</table>\n",
       "</div>"
      ],
      "text/plain": [
       "              tweet_id            author_id  \\\n",
       "0  1523587244572872704  1383801795823116291   \n",
       "1  1523587203351293953  1011901831411322880   \n",
       "2  1523587136968003584            288628771   \n",
       "3  1523587113005948929  1424726769236529155   \n",
       "4  1523587106647560192            278038673   \n",
       "\n",
       "                                             content lang  \\\n",
       "0                   where is the band leader ronaldo   en   \n",
       "1  all untradeable except alex telles what could ...   en   \n",
       "2                                              or cr   en   \n",
       "3  their is a reason most tickets sold in worldcu...   en   \n",
       "4  erik ten hag needs some constance says he want...   en   \n",
       "\n",
       "                       date               source geo retweet_count like_count  \\\n",
       "0  2022-05-09T08:54:40.000Z  Twitter for Android  -1             0          0   \n",
       "1  2022-05-09T08:54:30.000Z      Twitter Web App  -1             0          0   \n",
       "2  2022-05-09T08:54:14.000Z   Twitter for iPhone  -1             0          0   \n",
       "3  2022-05-09T08:54:09.000Z      Twitter Web App  -1             0          0   \n",
       "4  2022-05-09T08:54:07.000Z             Wildmoka  -1             5         19   \n",
       "\n",
       "  quote_count  \n",
       "0           0  \n",
       "1           0  \n",
       "2           0  \n",
       "3           0  \n",
       "4           0  "
      ]
     },
     "execution_count": 29,
     "metadata": {},
     "output_type": "execute_result"
    }
   ],
   "source": [
    "dataset_ronaldo.head(5)"
   ]
  },
  {
   "cell_type": "markdown",
   "id": "49915b8d",
   "metadata": {
    "papermill": {
     "duration": 0.052314,
     "end_time": "2022-05-09T09:53:19.347194",
     "exception": false,
     "start_time": "2022-05-09T09:53:19.294880",
     "status": "completed"
    },
    "tags": []
   },
   "source": [
    "### Check for non-english content"
   ]
  },
  {
   "cell_type": "code",
   "execution_count": 30,
   "id": "631d0417",
   "metadata": {
    "execution": {
     "iopub.execute_input": "2022-05-09T09:53:19.497179Z",
     "iopub.status.busy": "2022-05-09T09:53:19.496505Z",
     "iopub.status.idle": "2022-05-09T09:53:19.529856Z",
     "shell.execute_reply": "2022-05-09T09:53:19.528912Z",
     "shell.execute_reply.started": "2022-05-09T09:48:50.820891Z"
    },
    "papermill": {
     "duration": 0.129875,
     "end_time": "2022-05-09T09:53:19.530025",
     "exception": false,
     "start_time": "2022-05-09T09:53:19.400150",
     "status": "completed"
    },
    "tags": []
   },
   "outputs": [],
   "source": [
    "dataset_ronaldo = dataset_ronaldo[dataset_ronaldo[\"lang\"]==\"en\"]"
   ]
  },
  {
   "cell_type": "code",
   "execution_count": 31,
   "id": "4d5a85fd",
   "metadata": {
    "execution": {
     "iopub.execute_input": "2022-05-09T09:53:19.638724Z",
     "iopub.status.busy": "2022-05-09T09:53:19.637734Z",
     "iopub.status.idle": "2022-05-09T09:53:19.659902Z",
     "shell.execute_reply": "2022-05-09T09:53:19.660399Z",
     "shell.execute_reply.started": "2022-05-09T09:48:51.834666Z"
    },
    "papermill": {
     "duration": 0.077999,
     "end_time": "2022-05-09T09:53:19.660589",
     "exception": false,
     "start_time": "2022-05-09T09:53:19.582590",
     "status": "completed"
    },
    "tags": []
   },
   "outputs": [],
   "source": [
    "assert dataset_ronaldo[\"lang\"].unique()==\"en\", \"Non-english content detected\""
   ]
  },
  {
   "cell_type": "markdown",
   "id": "fc3895a6",
   "metadata": {
    "papermill": {
     "duration": 0.052052,
     "end_time": "2022-05-09T09:53:19.765325",
     "exception": false,
     "start_time": "2022-05-09T09:53:19.713273",
     "status": "completed"
    },
    "tags": []
   },
   "source": [
    "```\n",
    "Test passed\n",
    "```"
   ]
  },
  {
   "cell_type": "markdown",
   "id": "b9194e9a",
   "metadata": {
    "papermill": {
     "duration": 0.052208,
     "end_time": "2022-05-09T09:53:19.870543",
     "exception": false,
     "start_time": "2022-05-09T09:53:19.818335",
     "status": "completed"
    },
    "tags": []
   },
   "source": [
    "# Save the cleaned datasets 💾\n",
    "\n",
    "> Note : Index = false tells the Pandas library not to add an index when writing the file. In our case, since there's already an index, no need to write a new one. "
   ]
  },
  {
   "cell_type": "markdown",
   "id": "5013eb42",
   "metadata": {
    "papermill": {
     "duration": 0.052686,
     "end_time": "2022-05-09T09:53:19.975827",
     "exception": false,
     "start_time": "2022-05-09T09:53:19.923141",
     "status": "completed"
    },
    "tags": []
   },
   "source": [
    "## Messi "
   ]
  },
  {
   "cell_type": "code",
   "execution_count": 32,
   "id": "57fd08e8",
   "metadata": {
    "execution": {
     "iopub.execute_input": "2022-05-09T09:53:20.087279Z",
     "iopub.status.busy": "2022-05-09T09:53:20.086248Z",
     "iopub.status.idle": "2022-05-09T09:53:22.493614Z",
     "shell.execute_reply": "2022-05-09T09:53:22.492914Z",
     "shell.execute_reply.started": "2022-05-09T09:49:01.428344Z"
    },
    "papermill": {
     "duration": 2.46511,
     "end_time": "2022-05-09T09:53:22.493756",
     "exception": false,
     "start_time": "2022-05-09T09:53:20.028646",
     "status": "completed"
    },
    "tags": []
   },
   "outputs": [],
   "source": [
    "dataset_messi.to_csv(\"Cleaned_messi_tweets.csv\", index=False)"
   ]
  },
  {
   "cell_type": "markdown",
   "id": "b2958587",
   "metadata": {
    "papermill": {
     "duration": 0.060381,
     "end_time": "2022-05-09T09:53:22.606933",
     "exception": false,
     "start_time": "2022-05-09T09:53:22.546552",
     "status": "completed"
    },
    "tags": []
   },
   "source": [
    "## Ronaldo"
   ]
  },
  {
   "cell_type": "code",
   "execution_count": 33,
   "id": "d5f490eb",
   "metadata": {
    "execution": {
     "iopub.execute_input": "2022-05-09T09:53:22.733065Z",
     "iopub.status.busy": "2022-05-09T09:53:22.732104Z",
     "iopub.status.idle": "2022-05-09T09:53:25.824187Z",
     "shell.execute_reply": "2022-05-09T09:53:25.824790Z",
     "shell.execute_reply.started": "2022-05-09T09:49:03.939683Z"
    },
    "papermill": {
     "duration": 3.153172,
     "end_time": "2022-05-09T09:53:25.824977",
     "exception": false,
     "start_time": "2022-05-09T09:53:22.671805",
     "status": "completed"
    },
    "tags": []
   },
   "outputs": [],
   "source": [
    "dataset_ronaldo.to_csv(\"Cleaned_ronaldo_tweets.csv\", index=False)"
   ]
  },
  {
   "cell_type": "markdown",
   "id": "065a0cf4",
   "metadata": {
    "papermill": {
     "duration": 0.054401,
     "end_time": "2022-05-09T09:53:25.934742",
     "exception": false,
     "start_time": "2022-05-09T09:53:25.880341",
     "status": "completed"
    },
    "tags": []
   },
   "source": [
    "# Thank you for your time 😄"
   ]
  }
 ],
 "metadata": {
  "kernelspec": {
   "display_name": "Python 3",
   "language": "python",
   "name": "python3"
  },
  "language_info": {
   "codemirror_mode": {
    "name": "ipython",
    "version": 3
   },
   "file_extension": ".py",
   "mimetype": "text/x-python",
   "name": "python",
   "nbconvert_exporter": "python",
   "pygments_lexer": "ipython3",
   "version": "3.7.10"
  },
  "papermill": {
   "default_parameters": {},
   "duration": 101.718965,
   "end_time": "2022-05-09T09:53:26.802470",
   "environment_variables": {},
   "exception": null,
   "input_path": "__notebook__.ipynb",
   "output_path": "__notebook__.ipynb",
   "parameters": {},
   "start_time": "2022-05-09T09:51:45.083505",
   "version": "2.3.3"
  }
 },
 "nbformat": 4,
 "nbformat_minor": 5
}
