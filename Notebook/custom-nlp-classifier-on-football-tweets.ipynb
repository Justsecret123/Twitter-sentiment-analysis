{
 "cells": [
  {
   "cell_type": "markdown",
   "id": "7918aba0",
   "metadata": {
    "papermill": {
     "duration": 0.026786,
     "end_time": "2022-04-17T12:59:22.124076",
     "exception": false,
     "start_time": "2022-04-17T12:59:22.097290",
     "status": "completed"
    },
    "tags": []
   },
   "source": [
    "# What to expect 🤔\n",
    "\n",
    "In this Notebook, we're going to run inferences on our tweets Dataset with the Sentiment Analysis model trained [here](https://www.kaggle.com/code/ibrahimserouis99/twitter-sentiment-analysis)."
   ]
  },
  {
   "cell_type": "markdown",
   "id": "fbf0bcb2",
   "metadata": {
    "papermill": {
     "duration": 0.024985,
     "end_time": "2022-04-17T12:59:22.178953",
     "exception": false,
     "start_time": "2022-04-17T12:59:22.153968",
     "status": "completed"
    },
    "tags": []
   },
   "source": [
    "# Libraries"
   ]
  },
  {
   "cell_type": "code",
   "execution_count": 1,
   "id": "c0e78391",
   "metadata": {
    "execution": {
     "iopub.execute_input": "2022-04-17T12:59:22.313100Z",
     "iopub.status.busy": "2022-04-17T12:59:22.312374Z",
     "iopub.status.idle": "2022-04-17T12:59:26.520508Z",
     "shell.execute_reply": "2022-04-17T12:59:26.519881Z",
     "shell.execute_reply.started": "2022-04-17T12:54:30.946237Z"
    },
    "papermill": {
     "duration": 4.316369,
     "end_time": "2022-04-17T12:59:26.520671",
     "exception": false,
     "start_time": "2022-04-17T12:59:22.204302",
     "status": "completed"
    },
    "tags": []
   },
   "outputs": [
    {
     "name": "stderr",
     "output_type": "stream",
     "text": [
      "2022-04-17 12:59:22.774612: I tensorflow/stream_executor/platform/default/dso_loader.cc:49] Successfully opened dynamic library libcudart.so.11.0\n"
     ]
    }
   ],
   "source": [
    "import numpy as np \n",
    "import pandas as pd\n",
    "import tensorflow as tf\n",
    "from tensorflow.keras.models import load_model\n",
    "from IPython.display import clear_output"
   ]
  },
  {
   "cell_type": "markdown",
   "id": "3b969187",
   "metadata": {
    "papermill": {
     "duration": 0.025199,
     "end_time": "2022-04-17T12:59:26.571671",
     "exception": false,
     "start_time": "2022-04-17T12:59:26.546472",
     "status": "completed"
    },
    "tags": []
   },
   "source": [
    "# Exploring the datasets"
   ]
  },
  {
   "cell_type": "markdown",
   "id": "3ed9b31e",
   "metadata": {
    "papermill": {
     "duration": 0.025184,
     "end_time": "2022-04-17T12:59:26.622095",
     "exception": false,
     "start_time": "2022-04-17T12:59:26.596911",
     "status": "completed"
    },
    "tags": []
   },
   "source": [
    "## Messi"
   ]
  },
  {
   "cell_type": "code",
   "execution_count": 2,
   "id": "1169692a",
   "metadata": {
    "execution": {
     "iopub.execute_input": "2022-04-17T12:59:26.678618Z",
     "iopub.status.busy": "2022-04-17T12:59:26.678012Z",
     "iopub.status.idle": "2022-04-17T12:59:27.158510Z",
     "shell.execute_reply": "2022-04-17T12:59:27.157758Z",
     "shell.execute_reply.started": "2022-04-17T12:54:31.796512Z"
    },
    "papermill": {
     "duration": 0.51035,
     "end_time": "2022-04-17T12:59:27.158631",
     "exception": false,
     "start_time": "2022-04-17T12:59:26.648281",
     "status": "completed"
    },
    "tags": []
   },
   "outputs": [
    {
     "data": {
      "text/html": [
       "<div>\n",
       "<style scoped>\n",
       "    .dataframe tbody tr th:only-of-type {\n",
       "        vertical-align: middle;\n",
       "    }\n",
       "\n",
       "    .dataframe tbody tr th {\n",
       "        vertical-align: top;\n",
       "    }\n",
       "\n",
       "    .dataframe thead th {\n",
       "        text-align: right;\n",
       "    }\n",
       "</style>\n",
       "<table border=\"1\" class=\"dataframe\">\n",
       "  <thead>\n",
       "    <tr style=\"text-align: right;\">\n",
       "      <th></th>\n",
       "      <th>tweet_id</th>\n",
       "      <th>author_id</th>\n",
       "      <th>content</th>\n",
       "      <th>lang</th>\n",
       "      <th>date</th>\n",
       "      <th>source</th>\n",
       "      <th>geo</th>\n",
       "      <th>retweet_count</th>\n",
       "      <th>like_count</th>\n",
       "      <th>quote_count</th>\n",
       "    </tr>\n",
       "  </thead>\n",
       "  <tbody>\n",
       "    <tr>\n",
       "      <th>0</th>\n",
       "      <td>1515608437270454276</td>\n",
       "      <td>1464517603637014532</td>\n",
       "      <td>messi missed a pen against real madrid in the ...</td>\n",
       "      <td>en</td>\n",
       "      <td>2022-04-17T08:29:44.000Z</td>\n",
       "      <td>Twitter Web App</td>\n",
       "      <td>-1</td>\n",
       "      <td>0</td>\n",
       "      <td>0</td>\n",
       "      <td>0</td>\n",
       "    </tr>\n",
       "    <tr>\n",
       "      <th>1</th>\n",
       "      <td>1515608409730699264</td>\n",
       "      <td>1307634596985659395</td>\n",
       "      <td>many strikers does that also not to mention th...</td>\n",
       "      <td>en</td>\n",
       "      <td>2022-04-17T08:29:38.000Z</td>\n",
       "      <td>Twitter Web App</td>\n",
       "      <td>-1</td>\n",
       "      <td>0</td>\n",
       "      <td>0</td>\n",
       "      <td>0</td>\n",
       "    </tr>\n",
       "    <tr>\n",
       "      <th>2</th>\n",
       "      <td>1515608399295270912</td>\n",
       "      <td>1475133084596981762</td>\n",
       "      <td>lionel messi has goals in finals check anywhere</td>\n",
       "      <td>en</td>\n",
       "      <td>2022-04-17T08:29:35.000Z</td>\n",
       "      <td>Twitter for Android</td>\n",
       "      <td>-1</td>\n",
       "      <td>0</td>\n",
       "      <td>0</td>\n",
       "      <td>0</td>\n",
       "    </tr>\n",
       "    <tr>\n",
       "      <th>3</th>\n",
       "      <td>1515608375782002691</td>\n",
       "      <td>1390728932228485123</td>\n",
       "      <td>spot on however even fergie scholes beckham al...</td>\n",
       "      <td>en</td>\n",
       "      <td>2022-04-17T08:29:30.000Z</td>\n",
       "      <td>Twitter for iPhone</td>\n",
       "      <td>-1</td>\n",
       "      <td>0</td>\n",
       "      <td>0</td>\n",
       "      <td>0</td>\n",
       "    </tr>\n",
       "    <tr>\n",
       "      <th>4</th>\n",
       "      <td>1515608312787750913</td>\n",
       "      <td>1342456471167119360</td>\n",
       "      <td>messi is not a striker he s a playmaker giving...</td>\n",
       "      <td>en</td>\n",
       "      <td>2022-04-17T08:29:15.000Z</td>\n",
       "      <td>Twitter for Android</td>\n",
       "      <td>-1</td>\n",
       "      <td>0</td>\n",
       "      <td>1</td>\n",
       "      <td>0</td>\n",
       "    </tr>\n",
       "  </tbody>\n",
       "</table>\n",
       "</div>"
      ],
      "text/plain": [
       "              tweet_id            author_id  \\\n",
       "0  1515608437270454276  1464517603637014532   \n",
       "1  1515608409730699264  1307634596985659395   \n",
       "2  1515608399295270912  1475133084596981762   \n",
       "3  1515608375782002691  1390728932228485123   \n",
       "4  1515608312787750913  1342456471167119360   \n",
       "\n",
       "                                             content lang  \\\n",
       "0  messi missed a pen against real madrid in the ...   en   \n",
       "1  many strikers does that also not to mention th...   en   \n",
       "2    lionel messi has goals in finals check anywhere   en   \n",
       "3  spot on however even fergie scholes beckham al...   en   \n",
       "4  messi is not a striker he s a playmaker giving...   en   \n",
       "\n",
       "                       date               source geo  retweet_count  \\\n",
       "0  2022-04-17T08:29:44.000Z      Twitter Web App  -1              0   \n",
       "1  2022-04-17T08:29:38.000Z      Twitter Web App  -1              0   \n",
       "2  2022-04-17T08:29:35.000Z  Twitter for Android  -1              0   \n",
       "3  2022-04-17T08:29:30.000Z   Twitter for iPhone  -1              0   \n",
       "4  2022-04-17T08:29:15.000Z  Twitter for Android  -1              0   \n",
       "\n",
       "   like_count  quote_count  \n",
       "0           0            0  \n",
       "1           0            0  \n",
       "2           0            0  \n",
       "3           0            0  \n",
       "4           1            0  "
      ]
     },
     "execution_count": 2,
     "metadata": {},
     "output_type": "execute_result"
    }
   ],
   "source": [
    "dataset_messi = pd.read_csv(\"../input/twitter-sentiment-analysis-and-word-embeddings/Cleaned_messi_tweets.csv\", encoding=\"latin\")\n",
    "dataset_messi.head(5)"
   ]
  },
  {
   "cell_type": "markdown",
   "id": "00f650f4",
   "metadata": {
    "papermill": {
     "duration": 0.026268,
     "end_time": "2022-04-17T12:59:27.211220",
     "exception": false,
     "start_time": "2022-04-17T12:59:27.184952",
     "status": "completed"
    },
    "tags": []
   },
   "source": [
    "### Check for duplicate tweets"
   ]
  },
  {
   "cell_type": "code",
   "execution_count": 3,
   "id": "8a5dbb54",
   "metadata": {
    "execution": {
     "iopub.execute_input": "2022-04-17T12:59:27.269798Z",
     "iopub.status.busy": "2022-04-17T12:59:27.269023Z",
     "iopub.status.idle": "2022-04-17T12:59:27.274147Z",
     "shell.execute_reply": "2022-04-17T12:59:27.274522Z",
     "shell.execute_reply.started": "2022-04-17T12:54:33.342473Z"
    },
    "papermill": {
     "duration": 0.037452,
     "end_time": "2022-04-17T12:59:27.274664",
     "exception": false,
     "start_time": "2022-04-17T12:59:27.237212",
     "status": "completed"
    },
    "tags": []
   },
   "outputs": [],
   "source": [
    "assert len(np.unique(dataset_messi[\"tweet_id\"])) == len(dataset_messi.index), \"Duplicate IDs !\""
   ]
  },
  {
   "cell_type": "markdown",
   "id": "0780bd93",
   "metadata": {
    "papermill": {
     "duration": 0.025892,
     "end_time": "2022-04-17T12:59:27.326288",
     "exception": false,
     "start_time": "2022-04-17T12:59:27.300396",
     "status": "completed"
    },
    "tags": []
   },
   "source": [
    "### Drop N/A values"
   ]
  },
  {
   "cell_type": "code",
   "execution_count": 4,
   "id": "c0056896",
   "metadata": {
    "execution": {
     "iopub.execute_input": "2022-04-17T12:59:27.432017Z",
     "iopub.status.busy": "2022-04-17T12:59:27.431204Z",
     "iopub.status.idle": "2022-04-17T12:59:27.564839Z",
     "shell.execute_reply": "2022-04-17T12:59:27.565279Z",
     "shell.execute_reply.started": "2022-04-17T12:54:34.184364Z"
    },
    "papermill": {
     "duration": 0.212916,
     "end_time": "2022-04-17T12:59:27.565445",
     "exception": false,
     "start_time": "2022-04-17T12:59:27.352529",
     "status": "completed"
    },
    "tags": []
   },
   "outputs": [
    {
     "name": "stdout",
     "output_type": "stream",
     "text": [
      "Number of N/A: \n",
      "tweet_id         0\n",
      "author_id        0\n",
      "content          0\n",
      "lang             0\n",
      "date             0\n",
      "source           0\n",
      "geo              0\n",
      "retweet_count    0\n",
      "like_count       0\n",
      "quote_count      0\n",
      "dtype: int64\n",
      "\n",
      "Dropping N/A values...\n",
      "\n",
      "\n",
      "Number N/A after dropping: \n",
      "tweet_id         0\n",
      "author_id        0\n",
      "content          0\n",
      "lang             0\n",
      "date             0\n",
      "source           0\n",
      "geo              0\n",
      "retweet_count    0\n",
      "like_count       0\n",
      "quote_count      0\n",
      "dtype: int64\n"
     ]
    }
   ],
   "source": [
    "print(f\"Number of N/A: \\n{dataset_messi.isna().sum()}\")\n",
    "print(f\"\\nDropping N/A values...\")\n",
    "# Inplace = replace the original dataframe\n",
    "dataset_messi.dropna(inplace=True)\n",
    "print(f\"\\n\\nNumber N/A after dropping: \\n{dataset_messi.isna().sum()}\")"
   ]
  },
  {
   "cell_type": "markdown",
   "id": "b4253164",
   "metadata": {
    "papermill": {
     "duration": 0.025863,
     "end_time": "2022-04-17T12:59:27.617602",
     "exception": false,
     "start_time": "2022-04-17T12:59:27.591739",
     "status": "completed"
    },
    "tags": []
   },
   "source": [
    "## Ronaldo"
   ]
  },
  {
   "cell_type": "code",
   "execution_count": 5,
   "id": "a4ef2187",
   "metadata": {
    "execution": {
     "iopub.execute_input": "2022-04-17T12:59:27.673741Z",
     "iopub.status.busy": "2022-04-17T12:59:27.673132Z",
     "iopub.status.idle": "2022-04-17T12:59:28.356576Z",
     "shell.execute_reply": "2022-04-17T12:59:28.357085Z",
     "shell.execute_reply.started": "2022-04-17T12:54:34.661639Z"
    },
    "papermill": {
     "duration": 0.713642,
     "end_time": "2022-04-17T12:59:28.357291",
     "exception": false,
     "start_time": "2022-04-17T12:59:27.643649",
     "status": "completed"
    },
    "tags": []
   },
   "outputs": [
    {
     "data": {
      "text/html": [
       "<div>\n",
       "<style scoped>\n",
       "    .dataframe tbody tr th:only-of-type {\n",
       "        vertical-align: middle;\n",
       "    }\n",
       "\n",
       "    .dataframe tbody tr th {\n",
       "        vertical-align: top;\n",
       "    }\n",
       "\n",
       "    .dataframe thead th {\n",
       "        text-align: right;\n",
       "    }\n",
       "</style>\n",
       "<table border=\"1\" class=\"dataframe\">\n",
       "  <thead>\n",
       "    <tr style=\"text-align: right;\">\n",
       "      <th></th>\n",
       "      <th>tweet_id</th>\n",
       "      <th>author_id</th>\n",
       "      <th>content</th>\n",
       "      <th>lang</th>\n",
       "      <th>date</th>\n",
       "      <th>source</th>\n",
       "      <th>geo</th>\n",
       "      <th>retweet_count</th>\n",
       "      <th>like_count</th>\n",
       "      <th>quote_count</th>\n",
       "    </tr>\n",
       "  </thead>\n",
       "  <tbody>\n",
       "    <tr>\n",
       "      <th>0</th>\n",
       "      <td>1515589799943548929</td>\n",
       "      <td>1152201242766131202</td>\n",
       "      <td>there s no reason to believe cristiano ronaldo...</td>\n",
       "      <td>en</td>\n",
       "      <td>2022-04-17T07:15:41.000Z</td>\n",
       "      <td>Twitter for Android</td>\n",
       "      <td>-1</td>\n",
       "      <td>0.0</td>\n",
       "      <td>0.0</td>\n",
       "      <td>0.0</td>\n",
       "    </tr>\n",
       "    <tr>\n",
       "      <th>1</th>\n",
       "      <td>1515589796130865155</td>\n",
       "      <td>1202283615427727360</td>\n",
       "      <td>vintage ronaldo tottenham and norwich tap in h...</td>\n",
       "      <td>en</td>\n",
       "      <td>2022-04-17T07:15:40.000Z</td>\n",
       "      <td>Twitter Web App</td>\n",
       "      <td>-1</td>\n",
       "      <td>0.0</td>\n",
       "      <td>0.0</td>\n",
       "      <td>0.0</td>\n",
       "    </tr>\n",
       "    <tr>\n",
       "      <th>2</th>\n",
       "      <td>1515589765172768769</td>\n",
       "      <td>3368387687</td>\n",
       "      <td>werra mister champions league ronaldo why did ...</td>\n",
       "      <td>en</td>\n",
       "      <td>2022-04-17T07:15:32.000Z</td>\n",
       "      <td>Twitter for iPhone</td>\n",
       "      <td>-1</td>\n",
       "      <td>0.0</td>\n",
       "      <td>0.0</td>\n",
       "      <td>0.0</td>\n",
       "    </tr>\n",
       "    <tr>\n",
       "      <th>3</th>\n",
       "      <td>1515589753470861318</td>\n",
       "      <td>2615336101</td>\n",
       "      <td>yeah but facts don t lie messi is missing awar...</td>\n",
       "      <td>en</td>\n",
       "      <td>2022-04-17T07:15:30.000Z</td>\n",
       "      <td>Twitter for Android</td>\n",
       "      <td>-1</td>\n",
       "      <td>0.0</td>\n",
       "      <td>0.0</td>\n",
       "      <td>0.0</td>\n",
       "    </tr>\n",
       "    <tr>\n",
       "      <th>4</th>\n",
       "      <td>1515589684013027335</td>\n",
       "      <td>1093900817046810625</td>\n",
       "      <td>ronaldo was greatly rewarded after hat trick a...</td>\n",
       "      <td>en</td>\n",
       "      <td>2022-04-17T07:15:13.000Z</td>\n",
       "      <td>IFTTT</td>\n",
       "      <td>-1</td>\n",
       "      <td>0.0</td>\n",
       "      <td>0.0</td>\n",
       "      <td>0.0</td>\n",
       "    </tr>\n",
       "  </tbody>\n",
       "</table>\n",
       "</div>"
      ],
      "text/plain": [
       "              tweet_id            author_id  \\\n",
       "0  1515589799943548929  1152201242766131202   \n",
       "1  1515589796130865155  1202283615427727360   \n",
       "2  1515589765172768769           3368387687   \n",
       "3  1515589753470861318           2615336101   \n",
       "4  1515589684013027335  1093900817046810625   \n",
       "\n",
       "                                             content lang  \\\n",
       "0  there s no reason to believe cristiano ronaldo...   en   \n",
       "1  vintage ronaldo tottenham and norwich tap in h...   en   \n",
       "2  werra mister champions league ronaldo why did ...   en   \n",
       "3  yeah but facts don t lie messi is missing awar...   en   \n",
       "4  ronaldo was greatly rewarded after hat trick a...   en   \n",
       "\n",
       "                       date               source geo  retweet_count  \\\n",
       "0  2022-04-17T07:15:41.000Z  Twitter for Android  -1            0.0   \n",
       "1  2022-04-17T07:15:40.000Z      Twitter Web App  -1            0.0   \n",
       "2  2022-04-17T07:15:32.000Z   Twitter for iPhone  -1            0.0   \n",
       "3  2022-04-17T07:15:30.000Z  Twitter for Android  -1            0.0   \n",
       "4  2022-04-17T07:15:13.000Z                IFTTT  -1            0.0   \n",
       "\n",
       "   like_count  quote_count  \n",
       "0         0.0          0.0  \n",
       "1         0.0          0.0  \n",
       "2         0.0          0.0  \n",
       "3         0.0          0.0  \n",
       "4         0.0          0.0  "
      ]
     },
     "execution_count": 5,
     "metadata": {},
     "output_type": "execute_result"
    }
   ],
   "source": [
    "dataset_ronaldo = pd.read_csv(\"../input/twitter-sentiment-analysis-and-word-embeddings/Cleaned_ronaldo_tweets.csv\", encoding=\"utf-8\")\n",
    "dataset_ronaldo.head(5)"
   ]
  },
  {
   "cell_type": "markdown",
   "id": "92b35f20",
   "metadata": {
    "papermill": {
     "duration": 0.026229,
     "end_time": "2022-04-17T12:59:28.412103",
     "exception": false,
     "start_time": "2022-04-17T12:59:28.385874",
     "status": "completed"
    },
    "tags": []
   },
   "source": [
    "### Check for duplicate tweets"
   ]
  },
  {
   "cell_type": "code",
   "execution_count": 6,
   "id": "45a5a4b9",
   "metadata": {
    "execution": {
     "iopub.execute_input": "2022-04-17T12:59:28.470656Z",
     "iopub.status.busy": "2022-04-17T12:59:28.469859Z",
     "iopub.status.idle": "2022-04-17T12:59:28.475165Z",
     "shell.execute_reply": "2022-04-17T12:59:28.474733Z",
     "shell.execute_reply.started": "2022-04-17T12:54:35.413865Z"
    },
    "papermill": {
     "duration": 0.036803,
     "end_time": "2022-04-17T12:59:28.475277",
     "exception": false,
     "start_time": "2022-04-17T12:59:28.438474",
     "status": "completed"
    },
    "tags": []
   },
   "outputs": [],
   "source": [
    "assert len(np.unique(dataset_ronaldo[\"tweet_id\"])) == len(dataset_ronaldo.index), \"Duplicate IDs!\""
   ]
  },
  {
   "cell_type": "markdown",
   "id": "28e830f9",
   "metadata": {
    "papermill": {
     "duration": 0.026098,
     "end_time": "2022-04-17T12:59:28.527725",
     "exception": false,
     "start_time": "2022-04-17T12:59:28.501627",
     "status": "completed"
    },
    "tags": []
   },
   "source": [
    "### Check data"
   ]
  },
  {
   "cell_type": "code",
   "execution_count": 7,
   "id": "56e56eaa",
   "metadata": {
    "execution": {
     "iopub.execute_input": "2022-04-17T12:59:28.584714Z",
     "iopub.status.busy": "2022-04-17T12:59:28.584015Z",
     "iopub.status.idle": "2022-04-17T12:59:28.801418Z",
     "shell.execute_reply": "2022-04-17T12:59:28.800906Z",
     "shell.execute_reply.started": "2022-04-17T12:54:35.456976Z"
    },
    "papermill": {
     "duration": 0.247629,
     "end_time": "2022-04-17T12:59:28.801550",
     "exception": false,
     "start_time": "2022-04-17T12:59:28.553921",
     "status": "completed"
    },
    "tags": []
   },
   "outputs": [
    {
     "name": "stdout",
     "output_type": "stream",
     "text": [
      "Number of N/A: \n",
      "tweet_id         0\n",
      "author_id        0\n",
      "content          9\n",
      "lang             0\n",
      "date             0\n",
      "source           0\n",
      "geo              0\n",
      "retweet_count    0\n",
      "like_count       0\n",
      "quote_count      0\n",
      "dtype: int64\n",
      "\n",
      "Dropping N/A values...\n",
      "\n",
      "\n",
      "Number N/A after dropping: \n",
      "tweet_id         0\n",
      "author_id        0\n",
      "content          0\n",
      "lang             0\n",
      "date             0\n",
      "source           0\n",
      "geo              0\n",
      "retweet_count    0\n",
      "like_count       0\n",
      "quote_count      0\n",
      "dtype: int64\n"
     ]
    }
   ],
   "source": [
    "print(f\"Number of N/A: \\n{dataset_ronaldo.isna().sum()}\")\n",
    "print(f\"\\nDropping N/A values...\")\n",
    "# Inplace = replace the original dataframe\n",
    "dataset_ronaldo.dropna(inplace=True)\n",
    "print(f\"\\n\\nNumber N/A after dropping: \\n{dataset_ronaldo.isna().sum()}\")"
   ]
  },
  {
   "cell_type": "markdown",
   "id": "f4516404",
   "metadata": {
    "papermill": {
     "duration": 0.02653,
     "end_time": "2022-04-17T12:59:28.855486",
     "exception": false,
     "start_time": "2022-04-17T12:59:28.828956",
     "status": "completed"
    },
    "tags": []
   },
   "source": [
    "# Load the model"
   ]
  },
  {
   "cell_type": "code",
   "execution_count": 8,
   "id": "54ed12d9",
   "metadata": {
    "execution": {
     "iopub.execute_input": "2022-04-17T12:59:28.914302Z",
     "iopub.status.busy": "2022-04-17T12:59:28.913694Z",
     "iopub.status.idle": "2022-04-17T12:59:54.746944Z",
     "shell.execute_reply": "2022-04-17T12:59:54.747575Z",
     "shell.execute_reply.started": "2022-04-17T12:54:35.879456Z"
    },
    "papermill": {
     "duration": 25.865041,
     "end_time": "2022-04-17T12:59:54.747772",
     "exception": false,
     "start_time": "2022-04-17T12:59:28.882731",
     "status": "completed"
    },
    "tags": []
   },
   "outputs": [
    {
     "name": "stderr",
     "output_type": "stream",
     "text": [
      "2022-04-17 12:59:29.942592: I tensorflow/compiler/jit/xla_cpu_device.cc:41] Not creating XLA devices, tf_xla_enable_xla_devices not set\n",
      "2022-04-17 12:59:29.945796: I tensorflow/stream_executor/platform/default/dso_loader.cc:49] Successfully opened dynamic library libcuda.so.1\n",
      "2022-04-17 12:59:29.998070: I tensorflow/stream_executor/cuda/cuda_gpu_executor.cc:941] successful NUMA node read from SysFS had negative value (-1), but there must be at least one NUMA node, so returning NUMA node zero\n",
      "2022-04-17 12:59:29.998797: I tensorflow/core/common_runtime/gpu/gpu_device.cc:1720] Found device 0 with properties: \n",
      "pciBusID: 0000:00:04.0 name: Tesla P100-PCIE-16GB computeCapability: 6.0\n",
      "coreClock: 1.3285GHz coreCount: 56 deviceMemorySize: 15.90GiB deviceMemoryBandwidth: 681.88GiB/s\n",
      "2022-04-17 12:59:29.998856: I tensorflow/stream_executor/platform/default/dso_loader.cc:49] Successfully opened dynamic library libcudart.so.11.0\n",
      "2022-04-17 12:59:30.041395: I tensorflow/stream_executor/platform/default/dso_loader.cc:49] Successfully opened dynamic library libcublas.so.11\n",
      "2022-04-17 12:59:30.041473: I tensorflow/stream_executor/platform/default/dso_loader.cc:49] Successfully opened dynamic library libcublasLt.so.11\n",
      "2022-04-17 12:59:30.057953: I tensorflow/stream_executor/platform/default/dso_loader.cc:49] Successfully opened dynamic library libcufft.so.10\n",
      "2022-04-17 12:59:30.066260: I tensorflow/stream_executor/platform/default/dso_loader.cc:49] Successfully opened dynamic library libcurand.so.10\n",
      "2022-04-17 12:59:30.089333: I tensorflow/stream_executor/platform/default/dso_loader.cc:49] Successfully opened dynamic library libcusolver.so.10\n",
      "2022-04-17 12:59:30.096307: I tensorflow/stream_executor/platform/default/dso_loader.cc:49] Successfully opened dynamic library libcusparse.so.11\n",
      "2022-04-17 12:59:30.100118: I tensorflow/stream_executor/platform/default/dso_loader.cc:49] Successfully opened dynamic library libcudnn.so.8\n",
      "2022-04-17 12:59:30.100290: I tensorflow/stream_executor/cuda/cuda_gpu_executor.cc:941] successful NUMA node read from SysFS had negative value (-1), but there must be at least one NUMA node, so returning NUMA node zero\n",
      "2022-04-17 12:59:30.101135: I tensorflow/stream_executor/cuda/cuda_gpu_executor.cc:941] successful NUMA node read from SysFS had negative value (-1), but there must be at least one NUMA node, so returning NUMA node zero\n",
      "2022-04-17 12:59:30.102812: I tensorflow/core/common_runtime/gpu/gpu_device.cc:1862] Adding visible gpu devices: 0\n",
      "2022-04-17 12:59:30.103795: I tensorflow/core/platform/cpu_feature_guard.cc:142] This TensorFlow binary is optimized with oneAPI Deep Neural Network Library (oneDNN) to use the following CPU instructions in performance-critical operations:  AVX2 AVX512F FMA\n",
      "To enable them in other operations, rebuild TensorFlow with the appropriate compiler flags.\n",
      "2022-04-17 12:59:30.104026: I tensorflow/compiler/jit/xla_gpu_device.cc:99] Not creating XLA devices, tf_xla_enable_xla_devices not set\n",
      "2022-04-17 12:59:30.104177: I tensorflow/stream_executor/cuda/cuda_gpu_executor.cc:941] successful NUMA node read from SysFS had negative value (-1), but there must be at least one NUMA node, so returning NUMA node zero\n",
      "2022-04-17 12:59:30.104803: I tensorflow/core/common_runtime/gpu/gpu_device.cc:1720] Found device 0 with properties: \n",
      "pciBusID: 0000:00:04.0 name: Tesla P100-PCIE-16GB computeCapability: 6.0\n",
      "coreClock: 1.3285GHz coreCount: 56 deviceMemorySize: 15.90GiB deviceMemoryBandwidth: 681.88GiB/s\n",
      "2022-04-17 12:59:30.104848: I tensorflow/stream_executor/platform/default/dso_loader.cc:49] Successfully opened dynamic library libcudart.so.11.0\n",
      "2022-04-17 12:59:30.104881: I tensorflow/stream_executor/platform/default/dso_loader.cc:49] Successfully opened dynamic library libcublas.so.11\n",
      "2022-04-17 12:59:30.104904: I tensorflow/stream_executor/platform/default/dso_loader.cc:49] Successfully opened dynamic library libcublasLt.so.11\n",
      "2022-04-17 12:59:30.104921: I tensorflow/stream_executor/platform/default/dso_loader.cc:49] Successfully opened dynamic library libcufft.so.10\n",
      "2022-04-17 12:59:30.104937: I tensorflow/stream_executor/platform/default/dso_loader.cc:49] Successfully opened dynamic library libcurand.so.10\n",
      "2022-04-17 12:59:30.104953: I tensorflow/stream_executor/platform/default/dso_loader.cc:49] Successfully opened dynamic library libcusolver.so.10\n",
      "2022-04-17 12:59:30.104971: I tensorflow/stream_executor/platform/default/dso_loader.cc:49] Successfully opened dynamic library libcusparse.so.11\n",
      "2022-04-17 12:59:30.105012: I tensorflow/stream_executor/platform/default/dso_loader.cc:49] Successfully opened dynamic library libcudnn.so.8\n",
      "2022-04-17 12:59:30.105103: I tensorflow/stream_executor/cuda/cuda_gpu_executor.cc:941] successful NUMA node read from SysFS had negative value (-1), but there must be at least one NUMA node, so returning NUMA node zero\n",
      "2022-04-17 12:59:30.105760: I tensorflow/stream_executor/cuda/cuda_gpu_executor.cc:941] successful NUMA node read from SysFS had negative value (-1), but there must be at least one NUMA node, so returning NUMA node zero\n",
      "2022-04-17 12:59:30.106351: I tensorflow/core/common_runtime/gpu/gpu_device.cc:1862] Adding visible gpu devices: 0\n",
      "2022-04-17 12:59:30.107315: I tensorflow/stream_executor/platform/default/dso_loader.cc:49] Successfully opened dynamic library libcudart.so.11.0\n",
      "2022-04-17 12:59:31.411384: I tensorflow/core/common_runtime/gpu/gpu_device.cc:1261] Device interconnect StreamExecutor with strength 1 edge matrix:\n",
      "2022-04-17 12:59:31.411432: I tensorflow/core/common_runtime/gpu/gpu_device.cc:1267]      0 \n",
      "2022-04-17 12:59:31.411443: I tensorflow/core/common_runtime/gpu/gpu_device.cc:1280] 0:   N \n",
      "2022-04-17 12:59:31.413663: I tensorflow/stream_executor/cuda/cuda_gpu_executor.cc:941] successful NUMA node read from SysFS had negative value (-1), but there must be at least one NUMA node, so returning NUMA node zero\n",
      "2022-04-17 12:59:31.414564: I tensorflow/stream_executor/cuda/cuda_gpu_executor.cc:941] successful NUMA node read from SysFS had negative value (-1), but there must be at least one NUMA node, so returning NUMA node zero\n",
      "2022-04-17 12:59:31.415206: I tensorflow/stream_executor/cuda/cuda_gpu_executor.cc:941] successful NUMA node read from SysFS had negative value (-1), but there must be at least one NUMA node, so returning NUMA node zero\n",
      "2022-04-17 12:59:31.415763: I tensorflow/core/common_runtime/gpu/gpu_device.cc:1406] Created TensorFlow device (/job:localhost/replica:0/task:0/device:GPU:0 with 14957 MB memory) -> physical GPU (device: 0, name: Tesla P100-PCIE-16GB, pci bus id: 0000:00:04.0, compute capability: 6.0)\n",
      "2022-04-17 12:59:51.773589: I tensorflow/compiler/mlir/mlir_graph_optimization_pass.cc:116] None of the MLIR optimization passes are enabled (registered 2)\n",
      "2022-04-17 12:59:51.783066: I tensorflow/core/platform/profile_utils/cpu_utils.cc:112] CPU Frequency: 2000170000 Hz\n"
     ]
    },
    {
     "name": "stdout",
     "output_type": "stream",
     "text": [
      "Model: \"sequential_1\"\n",
      "_________________________________________________________________\n",
      "Layer (type)                 Output Shape              Param #   \n",
      "=================================================================\n",
      "text_vectorization (TextVect (None, 53)                0         \n",
      "_________________________________________________________________\n",
      "sequential (Sequential)      (None, 1)                 27859389  \n",
      "_________________________________________________________________\n",
      "activation (Activation)      (None, 1)                 0         \n",
      "=================================================================\n",
      "Total params: 27,859,389\n",
      "Trainable params: 27,859,389\n",
      "Non-trainable params: 0\n",
      "_________________________________________________________________\n"
     ]
    }
   ],
   "source": [
    "model = load_model(\"../input/twitter-sentiment-analysis-and-word-embeddings/TSA_model_v4\")\n",
    "model.summary()"
   ]
  },
  {
   "cell_type": "markdown",
   "id": "a476294d",
   "metadata": {
    "papermill": {
     "duration": 0.02785,
     "end_time": "2022-04-17T12:59:54.804664",
     "exception": false,
     "start_time": "2022-04-17T12:59:54.776814",
     "status": "completed"
    },
    "tags": []
   },
   "source": [
    "# Set the thresholds : refer to [this link](https://github.com/Justsecret123/Twitter-sentiment-analysis/blob/main/Notebook/twitter-sentiment-analysis.ipynb)"
   ]
  },
  {
   "cell_type": "code",
   "execution_count": 9,
   "id": "3c902127",
   "metadata": {
    "execution": {
     "iopub.execute_input": "2022-04-17T12:59:54.864941Z",
     "iopub.status.busy": "2022-04-17T12:59:54.864232Z",
     "iopub.status.idle": "2022-04-17T12:59:54.866915Z",
     "shell.execute_reply": "2022-04-17T12:59:54.866485Z",
     "shell.execute_reply.started": "2022-04-17T12:55:02.191092Z"
    },
    "papermill": {
     "duration": 0.03407,
     "end_time": "2022-04-17T12:59:54.867045",
     "exception": false,
     "start_time": "2022-04-17T12:59:54.832975",
     "status": "completed"
    },
    "tags": []
   },
   "outputs": [],
   "source": [
    "threshold = 0.625"
   ]
  },
  {
   "cell_type": "markdown",
   "id": "43ccafbc",
   "metadata": {
    "papermill": {
     "duration": 0.02738,
     "end_time": "2022-04-17T12:59:54.922192",
     "exception": false,
     "start_time": "2022-04-17T12:59:54.894812",
     "status": "completed"
    },
    "tags": []
   },
   "source": [
    "# Run inferences"
   ]
  },
  {
   "cell_type": "markdown",
   "id": "8b6c1c51",
   "metadata": {
    "papermill": {
     "duration": 0.027732,
     "end_time": "2022-04-17T12:59:54.977879",
     "exception": false,
     "start_time": "2022-04-17T12:59:54.950147",
     "status": "completed"
    },
    "tags": []
   },
   "source": [
    "## Messi dataset"
   ]
  },
  {
   "cell_type": "code",
   "execution_count": 10,
   "id": "63d095d9",
   "metadata": {
    "execution": {
     "iopub.execute_input": "2022-04-17T12:59:55.041129Z",
     "iopub.status.busy": "2022-04-17T12:59:55.040264Z",
     "iopub.status.idle": "2022-04-17T12:59:55.043096Z",
     "shell.execute_reply": "2022-04-17T12:59:55.043595Z",
     "shell.execute_reply.started": "2022-04-17T12:55:02.198425Z"
    },
    "papermill": {
     "duration": 0.037161,
     "end_time": "2022-04-17T12:59:55.043725",
     "exception": false,
     "start_time": "2022-04-17T12:59:55.006564",
     "status": "completed"
    },
    "tags": []
   },
   "outputs": [
    {
     "data": {
      "text/plain": [
       "0    messi missed a pen against real madrid in the ...\n",
       "1    many strikers does that also not to mention th...\n",
       "2      lionel messi has goals in finals check anywhere\n",
       "3    spot on however even fergie scholes beckham al...\n",
       "4    messi is not a striker he s a playmaker giving...\n",
       "5    i watch all messi and ronaldo games ronaldo al...\n",
       "6    messi is the system he is currently teaching p...\n",
       "7    three goals in a row and they are acting like ...\n",
       "8    you messi fans should calm down na he s a unit...\n",
       "9    prolly messi completed football before and you...\n",
       "Name: content, dtype: object"
      ]
     },
     "execution_count": 10,
     "metadata": {},
     "output_type": "execute_result"
    }
   ],
   "source": [
    "X_messi = dataset_messi[\"content\"]\n",
    "X_messi.head(10)"
   ]
  },
  {
   "cell_type": "markdown",
   "id": "b2d57d15",
   "metadata": {
    "papermill": {
     "duration": 0.02765,
     "end_time": "2022-04-17T12:59:55.099234",
     "exception": false,
     "start_time": "2022-04-17T12:59:55.071584",
     "status": "completed"
    },
    "tags": []
   },
   "source": [
    "### Perform inferences"
   ]
  },
  {
   "cell_type": "code",
   "execution_count": 11,
   "id": "39137768",
   "metadata": {
    "execution": {
     "iopub.execute_input": "2022-04-17T12:59:55.159370Z",
     "iopub.status.busy": "2022-04-17T12:59:55.158774Z",
     "iopub.status.idle": "2022-04-17T13:00:31.920164Z",
     "shell.execute_reply": "2022-04-17T13:00:31.919268Z",
     "shell.execute_reply.started": "2022-04-17T12:55:02.211970Z"
    },
    "papermill": {
     "duration": 36.793142,
     "end_time": "2022-04-17T13:00:31.920303",
     "exception": false,
     "start_time": "2022-04-17T12:59:55.127161",
     "status": "completed"
    },
    "tags": []
   },
   "outputs": [
    {
     "name": "stderr",
     "output_type": "stream",
     "text": [
      "2022-04-17 12:59:56.808688: I tensorflow/stream_executor/platform/default/dso_loader.cc:49] Successfully opened dynamic library libcublas.so.11\n",
      "2022-04-17 12:59:57.500991: I tensorflow/stream_executor/platform/default/dso_loader.cc:49] Successfully opened dynamic library libcublasLt.so.11\n",
      "2022-04-17 12:59:57.555610: I tensorflow/stream_executor/platform/default/dso_loader.cc:49] Successfully opened dynamic library libcudnn.so.8\n"
     ]
    }
   ],
   "source": [
    "predictions_messi = model.predict(X_messi)"
   ]
  },
  {
   "cell_type": "markdown",
   "id": "39e8a182",
   "metadata": {
    "papermill": {
     "duration": 0.0358,
     "end_time": "2022-04-17T13:00:31.985329",
     "exception": false,
     "start_time": "2022-04-17T13:00:31.949529",
     "status": "completed"
    },
    "tags": []
   },
   "source": [
    "### Display some results"
   ]
  },
  {
   "cell_type": "code",
   "execution_count": 12,
   "id": "c2e8b0fa",
   "metadata": {
    "execution": {
     "iopub.execute_input": "2022-04-17T13:00:32.124345Z",
     "iopub.status.busy": "2022-04-17T13:00:32.123427Z",
     "iopub.status.idle": "2022-04-17T13:00:32.141964Z",
     "shell.execute_reply": "2022-04-17T13:00:32.141308Z",
     "shell.execute_reply.started": "2022-04-17T12:55:40.657101Z"
    },
    "papermill": {
     "duration": 0.08999,
     "end_time": "2022-04-17T13:00:32.142123",
     "exception": false,
     "start_time": "2022-04-17T13:00:32.052133",
     "status": "completed"
    },
    "tags": []
   },
   "outputs": [
    {
     "name": "stdout",
     "output_type": "stream",
     "text": [
      "Tweet: messi missed a pen against real madrid in the quarter final of ucl ||| Score : [0.6731385]\n",
      "Tweet: many strikers does that also not to mention that he played more games than messi ||| Score : [0.65665877]\n",
      "Tweet: lionel messi has goals in finals check anywhere ||| Score : [0.7110322]\n",
      "Tweet: spot on however even fergie scholes beckham also saying messi goat cr isn t top all time ||| Score : [0.6612542]\n",
      "Tweet: messi is not a striker he s a playmaker giving assists and sometimes scoring goals ||| Score : [0.59083074]\n",
      "Tweet: i watch all messi and ronaldo games ronaldo always end up with ratings without goals while messi will be rating ||| Score : [0.6554347]\n",
      "Tweet: messi is the system he is currently teaching psg his plays one season with mbappe mbappe no wan go madrid again ||| Score : [0.6884214]\n",
      "Tweet: three goals in a row and they are acting like he s messi in his prime ||| Score : [0.7053263]\n",
      "Tweet: you messi fans should calm down na he s a united boi so ronaldo is the goat and legend of my club garnacho knows best ||| Score : [0.6304558]\n",
      "Tweet: prolly messi completed football before and your man is now doing his assignment you re just exposing ronaldo ignorantly ||| Score : [0.66445696]\n"
     ]
    }
   ],
   "source": [
    "for i in range(10): \n",
    "    print(f\"Tweet: {X_messi[i]} ||| Score : {predictions_messi[i]}\")"
   ]
  },
  {
   "cell_type": "markdown",
   "id": "f4860fbd",
   "metadata": {
    "papermill": {
     "duration": 0.051472,
     "end_time": "2022-04-17T13:00:32.245844",
     "exception": false,
     "start_time": "2022-04-17T13:00:32.194372",
     "status": "completed"
    },
    "tags": []
   },
   "source": [
    "## Ronaldo dataset"
   ]
  },
  {
   "cell_type": "code",
   "execution_count": 13,
   "id": "0a6ab418",
   "metadata": {
    "execution": {
     "iopub.execute_input": "2022-04-17T13:00:32.358594Z",
     "iopub.status.busy": "2022-04-17T13:00:32.356731Z",
     "iopub.status.idle": "2022-04-17T13:00:32.363237Z",
     "shell.execute_reply": "2022-04-17T13:00:32.362449Z",
     "shell.execute_reply.started": "2022-04-17T12:55:40.684779Z"
    },
    "papermill": {
     "duration": 0.064882,
     "end_time": "2022-04-17T13:00:32.363439",
     "exception": false,
     "start_time": "2022-04-17T13:00:32.298557",
     "status": "completed"
    },
    "tags": []
   },
   "outputs": [
    {
     "data": {
      "text/plain": [
       "0    there s no reason to believe cristiano ronaldo...\n",
       "1    vintage ronaldo tottenham and norwich tap in h...\n",
       "2    werra mister champions league ronaldo why did ...\n",
       "3    yeah but facts don t lie messi is missing awar...\n",
       "4    ronaldo was greatly rewarded after hat trick a...\n",
       "Name: content, dtype: object"
      ]
     },
     "execution_count": 13,
     "metadata": {},
     "output_type": "execute_result"
    }
   ],
   "source": [
    "X_ronaldo = dataset_ronaldo[\"content\"]\n",
    "X_ronaldo.head(5)"
   ]
  },
  {
   "cell_type": "code",
   "execution_count": 14,
   "id": "ad0d58a3",
   "metadata": {
    "execution": {
     "iopub.execute_input": "2022-04-17T13:00:32.489039Z",
     "iopub.status.busy": "2022-04-17T13:00:32.486894Z",
     "iopub.status.idle": "2022-04-17T13:01:13.414648Z",
     "shell.execute_reply": "2022-04-17T13:01:13.414076Z",
     "shell.execute_reply.started": "2022-04-17T12:55:40.694612Z"
    },
    "papermill": {
     "duration": 40.994171,
     "end_time": "2022-04-17T13:01:13.414784",
     "exception": false,
     "start_time": "2022-04-17T13:00:32.420613",
     "status": "completed"
    },
    "tags": []
   },
   "outputs": [],
   "source": [
    "predictions_ronaldo = model.predict(X_ronaldo)"
   ]
  },
  {
   "cell_type": "markdown",
   "id": "096b5ba2",
   "metadata": {
    "papermill": {
     "duration": 0.028934,
     "end_time": "2022-04-17T13:01:13.473552",
     "exception": false,
     "start_time": "2022-04-17T13:01:13.444618",
     "status": "completed"
    },
    "tags": []
   },
   "source": [
    "### Display some results"
   ]
  },
  {
   "cell_type": "code",
   "execution_count": 15,
   "id": "22c62855",
   "metadata": {
    "execution": {
     "iopub.execute_input": "2022-04-17T13:01:13.538968Z",
     "iopub.status.busy": "2022-04-17T13:01:13.538124Z",
     "iopub.status.idle": "2022-04-17T13:01:13.550026Z",
     "shell.execute_reply": "2022-04-17T13:01:13.549430Z",
     "shell.execute_reply.started": "2022-04-17T12:56:22.967652Z"
    },
    "papermill": {
     "duration": 0.047546,
     "end_time": "2022-04-17T13:01:13.550185",
     "exception": false,
     "start_time": "2022-04-17T13:01:13.502639",
     "status": "completed"
    },
    "tags": []
   },
   "outputs": [
    {
     "name": "stdout",
     "output_type": "stream",
     "text": [
      "Tweet: there s no reason to believe cristiano ronaldo won t still be a top player when he s football ||| Score : [0.7210271]\n",
      "Tweet: vintage ronaldo tottenham and norwich tap in header long range ||| Score : [0.7255068]\n",
      "Tweet: werra mister champions league ronaldo why did man u buy ronaldo he can t deliver fa cup not to talk of the league nor champions league man his about to deliver conference league with his goals a season ||| Score : [0.5898251]\n",
      "Tweet: yeah but facts don t lie messi is missing award to match ronaldo ||| Score : [0.69758606]\n",
      "Tweet: ronaldo was greatly rewarded after hat trick against norwich ||| Score : [0.70167935]\n",
      "Tweet: connect with turn on notification for daily gain followers ||| Score : [0.71780527]\n",
      "Tweet: ronaldo earned a bonus of as a result of his hat trick against norwich ||| Score : [0.7271059]\n",
      "Tweet: manchester united star cristiano earned a bumper bonus after hitting hat trick in victory against norwich ||| Score : [0.7276084]\n",
      "Tweet: epl rangnick reveals who will decide if ronaldo leaves man utd this summer ||| Score : [0.5427143]\n",
      "Tweet: i d rather spurs make top an united will get to see the ronaldo drama and conte group stage exit united making top will be an utter disaster they can get serious players and eth can actually make them a nuisance ||| Score : [0.67391694]\n"
     ]
    }
   ],
   "source": [
    "for i in range(10): \n",
    "    print(f\"Tweet: {X_ronaldo[i]} ||| Score : {predictions_ronaldo[i]}\")"
   ]
  },
  {
   "cell_type": "markdown",
   "id": "806b4423",
   "metadata": {
    "papermill": {
     "duration": 0.029374,
     "end_time": "2022-04-17T13:01:13.610494",
     "exception": false,
     "start_time": "2022-04-17T13:01:13.581120",
     "status": "completed"
    },
    "tags": []
   },
   "source": [
    "# Assign the predictions to the dataset"
   ]
  },
  {
   "cell_type": "markdown",
   "id": "d05f4ac9",
   "metadata": {
    "papermill": {
     "duration": 0.029276,
     "end_time": "2022-04-17T13:01:13.669416",
     "exception": false,
     "start_time": "2022-04-17T13:01:13.640140",
     "status": "completed"
    },
    "tags": []
   },
   "source": [
    "## Messi"
   ]
  },
  {
   "cell_type": "code",
   "execution_count": 16,
   "id": "7d0e084e",
   "metadata": {
    "execution": {
     "iopub.execute_input": "2022-04-17T13:01:13.738365Z",
     "iopub.status.busy": "2022-04-17T13:01:13.737547Z",
     "iopub.status.idle": "2022-04-17T13:01:13.747007Z",
     "shell.execute_reply": "2022-04-17T13:01:13.746588Z",
     "shell.execute_reply.started": "2022-04-17T12:56:28.500087Z"
    },
    "papermill": {
     "duration": 0.04815,
     "end_time": "2022-04-17T13:01:13.747129",
     "exception": false,
     "start_time": "2022-04-17T13:01:13.698979",
     "status": "completed"
    },
    "tags": []
   },
   "outputs": [
    {
     "data": {
      "text/html": [
       "<div>\n",
       "<style scoped>\n",
       "    .dataframe tbody tr th:only-of-type {\n",
       "        vertical-align: middle;\n",
       "    }\n",
       "\n",
       "    .dataframe tbody tr th {\n",
       "        vertical-align: top;\n",
       "    }\n",
       "\n",
       "    .dataframe thead th {\n",
       "        text-align: right;\n",
       "    }\n",
       "</style>\n",
       "<table border=\"1\" class=\"dataframe\">\n",
       "  <thead>\n",
       "    <tr style=\"text-align: right;\">\n",
       "      <th></th>\n",
       "      <th>tweet_id</th>\n",
       "      <th>author_id</th>\n",
       "      <th>content</th>\n",
       "      <th>lang</th>\n",
       "      <th>date</th>\n",
       "      <th>source</th>\n",
       "      <th>geo</th>\n",
       "      <th>retweet_count</th>\n",
       "      <th>like_count</th>\n",
       "      <th>quote_count</th>\n",
       "      <th>prediction</th>\n",
       "    </tr>\n",
       "  </thead>\n",
       "  <tbody>\n",
       "    <tr>\n",
       "      <th>0</th>\n",
       "      <td>1515608437270454276</td>\n",
       "      <td>1464517603637014532</td>\n",
       "      <td>messi missed a pen against real madrid in the ...</td>\n",
       "      <td>en</td>\n",
       "      <td>2022-04-17T08:29:44.000Z</td>\n",
       "      <td>Twitter Web App</td>\n",
       "      <td>-1</td>\n",
       "      <td>0</td>\n",
       "      <td>0</td>\n",
       "      <td>0</td>\n",
       "      <td>0.673138</td>\n",
       "    </tr>\n",
       "    <tr>\n",
       "      <th>1</th>\n",
       "      <td>1515608409730699264</td>\n",
       "      <td>1307634596985659395</td>\n",
       "      <td>many strikers does that also not to mention th...</td>\n",
       "      <td>en</td>\n",
       "      <td>2022-04-17T08:29:38.000Z</td>\n",
       "      <td>Twitter Web App</td>\n",
       "      <td>-1</td>\n",
       "      <td>0</td>\n",
       "      <td>0</td>\n",
       "      <td>0</td>\n",
       "      <td>0.656659</td>\n",
       "    </tr>\n",
       "    <tr>\n",
       "      <th>2</th>\n",
       "      <td>1515608399295270912</td>\n",
       "      <td>1475133084596981762</td>\n",
       "      <td>lionel messi has goals in finals check anywhere</td>\n",
       "      <td>en</td>\n",
       "      <td>2022-04-17T08:29:35.000Z</td>\n",
       "      <td>Twitter for Android</td>\n",
       "      <td>-1</td>\n",
       "      <td>0</td>\n",
       "      <td>0</td>\n",
       "      <td>0</td>\n",
       "      <td>0.711032</td>\n",
       "    </tr>\n",
       "    <tr>\n",
       "      <th>3</th>\n",
       "      <td>1515608375782002691</td>\n",
       "      <td>1390728932228485123</td>\n",
       "      <td>spot on however even fergie scholes beckham al...</td>\n",
       "      <td>en</td>\n",
       "      <td>2022-04-17T08:29:30.000Z</td>\n",
       "      <td>Twitter for iPhone</td>\n",
       "      <td>-1</td>\n",
       "      <td>0</td>\n",
       "      <td>0</td>\n",
       "      <td>0</td>\n",
       "      <td>0.661254</td>\n",
       "    </tr>\n",
       "    <tr>\n",
       "      <th>4</th>\n",
       "      <td>1515608312787750913</td>\n",
       "      <td>1342456471167119360</td>\n",
       "      <td>messi is not a striker he s a playmaker giving...</td>\n",
       "      <td>en</td>\n",
       "      <td>2022-04-17T08:29:15.000Z</td>\n",
       "      <td>Twitter for Android</td>\n",
       "      <td>-1</td>\n",
       "      <td>0</td>\n",
       "      <td>1</td>\n",
       "      <td>0</td>\n",
       "      <td>0.590831</td>\n",
       "    </tr>\n",
       "  </tbody>\n",
       "</table>\n",
       "</div>"
      ],
      "text/plain": [
       "              tweet_id            author_id  \\\n",
       "0  1515608437270454276  1464517603637014532   \n",
       "1  1515608409730699264  1307634596985659395   \n",
       "2  1515608399295270912  1475133084596981762   \n",
       "3  1515608375782002691  1390728932228485123   \n",
       "4  1515608312787750913  1342456471167119360   \n",
       "\n",
       "                                             content lang  \\\n",
       "0  messi missed a pen against real madrid in the ...   en   \n",
       "1  many strikers does that also not to mention th...   en   \n",
       "2    lionel messi has goals in finals check anywhere   en   \n",
       "3  spot on however even fergie scholes beckham al...   en   \n",
       "4  messi is not a striker he s a playmaker giving...   en   \n",
       "\n",
       "                       date               source geo  retweet_count  \\\n",
       "0  2022-04-17T08:29:44.000Z      Twitter Web App  -1              0   \n",
       "1  2022-04-17T08:29:38.000Z      Twitter Web App  -1              0   \n",
       "2  2022-04-17T08:29:35.000Z  Twitter for Android  -1              0   \n",
       "3  2022-04-17T08:29:30.000Z   Twitter for iPhone  -1              0   \n",
       "4  2022-04-17T08:29:15.000Z  Twitter for Android  -1              0   \n",
       "\n",
       "   like_count  quote_count  prediction  \n",
       "0           0            0    0.673138  \n",
       "1           0            0    0.656659  \n",
       "2           0            0    0.711032  \n",
       "3           0            0    0.661254  \n",
       "4           1            0    0.590831  "
      ]
     },
     "execution_count": 16,
     "metadata": {},
     "output_type": "execute_result"
    }
   ],
   "source": [
    "dataset_messi[\"prediction\"] = predictions_messi\n",
    "dataset_messi.head(5)"
   ]
  },
  {
   "cell_type": "markdown",
   "id": "bde49efa",
   "metadata": {
    "papermill": {
     "duration": 0.029955,
     "end_time": "2022-04-17T13:01:13.807415",
     "exception": false,
     "start_time": "2022-04-17T13:01:13.777460",
     "status": "completed"
    },
    "tags": []
   },
   "source": [
    "## Ronaldo"
   ]
  },
  {
   "cell_type": "code",
   "execution_count": 17,
   "id": "0e046cf4",
   "metadata": {
    "execution": {
     "iopub.execute_input": "2022-04-17T13:01:13.883683Z",
     "iopub.status.busy": "2022-04-17T13:01:13.882946Z",
     "iopub.status.idle": "2022-04-17T13:01:13.885710Z",
     "shell.execute_reply": "2022-04-17T13:01:13.886174Z",
     "shell.execute_reply.started": "2022-04-17T12:56:30.768038Z"
    },
    "papermill": {
     "duration": 0.04896,
     "end_time": "2022-04-17T13:01:13.886304",
     "exception": false,
     "start_time": "2022-04-17T13:01:13.837344",
     "status": "completed"
    },
    "tags": []
   },
   "outputs": [
    {
     "data": {
      "text/html": [
       "<div>\n",
       "<style scoped>\n",
       "    .dataframe tbody tr th:only-of-type {\n",
       "        vertical-align: middle;\n",
       "    }\n",
       "\n",
       "    .dataframe tbody tr th {\n",
       "        vertical-align: top;\n",
       "    }\n",
       "\n",
       "    .dataframe thead th {\n",
       "        text-align: right;\n",
       "    }\n",
       "</style>\n",
       "<table border=\"1\" class=\"dataframe\">\n",
       "  <thead>\n",
       "    <tr style=\"text-align: right;\">\n",
       "      <th></th>\n",
       "      <th>tweet_id</th>\n",
       "      <th>author_id</th>\n",
       "      <th>content</th>\n",
       "      <th>lang</th>\n",
       "      <th>date</th>\n",
       "      <th>source</th>\n",
       "      <th>geo</th>\n",
       "      <th>retweet_count</th>\n",
       "      <th>like_count</th>\n",
       "      <th>quote_count</th>\n",
       "      <th>prediction</th>\n",
       "    </tr>\n",
       "  </thead>\n",
       "  <tbody>\n",
       "    <tr>\n",
       "      <th>0</th>\n",
       "      <td>1515589799943548929</td>\n",
       "      <td>1152201242766131202</td>\n",
       "      <td>there s no reason to believe cristiano ronaldo...</td>\n",
       "      <td>en</td>\n",
       "      <td>2022-04-17T07:15:41.000Z</td>\n",
       "      <td>Twitter for Android</td>\n",
       "      <td>-1</td>\n",
       "      <td>0.0</td>\n",
       "      <td>0.0</td>\n",
       "      <td>0.0</td>\n",
       "      <td>0.721027</td>\n",
       "    </tr>\n",
       "    <tr>\n",
       "      <th>1</th>\n",
       "      <td>1515589796130865155</td>\n",
       "      <td>1202283615427727360</td>\n",
       "      <td>vintage ronaldo tottenham and norwich tap in h...</td>\n",
       "      <td>en</td>\n",
       "      <td>2022-04-17T07:15:40.000Z</td>\n",
       "      <td>Twitter Web App</td>\n",
       "      <td>-1</td>\n",
       "      <td>0.0</td>\n",
       "      <td>0.0</td>\n",
       "      <td>0.0</td>\n",
       "      <td>0.725507</td>\n",
       "    </tr>\n",
       "    <tr>\n",
       "      <th>2</th>\n",
       "      <td>1515589765172768769</td>\n",
       "      <td>3368387687</td>\n",
       "      <td>werra mister champions league ronaldo why did ...</td>\n",
       "      <td>en</td>\n",
       "      <td>2022-04-17T07:15:32.000Z</td>\n",
       "      <td>Twitter for iPhone</td>\n",
       "      <td>-1</td>\n",
       "      <td>0.0</td>\n",
       "      <td>0.0</td>\n",
       "      <td>0.0</td>\n",
       "      <td>0.589825</td>\n",
       "    </tr>\n",
       "    <tr>\n",
       "      <th>3</th>\n",
       "      <td>1515589753470861318</td>\n",
       "      <td>2615336101</td>\n",
       "      <td>yeah but facts don t lie messi is missing awar...</td>\n",
       "      <td>en</td>\n",
       "      <td>2022-04-17T07:15:30.000Z</td>\n",
       "      <td>Twitter for Android</td>\n",
       "      <td>-1</td>\n",
       "      <td>0.0</td>\n",
       "      <td>0.0</td>\n",
       "      <td>0.0</td>\n",
       "      <td>0.697586</td>\n",
       "    </tr>\n",
       "    <tr>\n",
       "      <th>4</th>\n",
       "      <td>1515589684013027335</td>\n",
       "      <td>1093900817046810625</td>\n",
       "      <td>ronaldo was greatly rewarded after hat trick a...</td>\n",
       "      <td>en</td>\n",
       "      <td>2022-04-17T07:15:13.000Z</td>\n",
       "      <td>IFTTT</td>\n",
       "      <td>-1</td>\n",
       "      <td>0.0</td>\n",
       "      <td>0.0</td>\n",
       "      <td>0.0</td>\n",
       "      <td>0.701679</td>\n",
       "    </tr>\n",
       "  </tbody>\n",
       "</table>\n",
       "</div>"
      ],
      "text/plain": [
       "              tweet_id            author_id  \\\n",
       "0  1515589799943548929  1152201242766131202   \n",
       "1  1515589796130865155  1202283615427727360   \n",
       "2  1515589765172768769           3368387687   \n",
       "3  1515589753470861318           2615336101   \n",
       "4  1515589684013027335  1093900817046810625   \n",
       "\n",
       "                                             content lang  \\\n",
       "0  there s no reason to believe cristiano ronaldo...   en   \n",
       "1  vintage ronaldo tottenham and norwich tap in h...   en   \n",
       "2  werra mister champions league ronaldo why did ...   en   \n",
       "3  yeah but facts don t lie messi is missing awar...   en   \n",
       "4  ronaldo was greatly rewarded after hat trick a...   en   \n",
       "\n",
       "                       date               source geo  retweet_count  \\\n",
       "0  2022-04-17T07:15:41.000Z  Twitter for Android  -1            0.0   \n",
       "1  2022-04-17T07:15:40.000Z      Twitter Web App  -1            0.0   \n",
       "2  2022-04-17T07:15:32.000Z   Twitter for iPhone  -1            0.0   \n",
       "3  2022-04-17T07:15:30.000Z  Twitter for Android  -1            0.0   \n",
       "4  2022-04-17T07:15:13.000Z                IFTTT  -1            0.0   \n",
       "\n",
       "   like_count  quote_count  prediction  \n",
       "0         0.0          0.0    0.721027  \n",
       "1         0.0          0.0    0.725507  \n",
       "2         0.0          0.0    0.589825  \n",
       "3         0.0          0.0    0.697586  \n",
       "4         0.0          0.0    0.701679  "
      ]
     },
     "execution_count": 17,
     "metadata": {},
     "output_type": "execute_result"
    }
   ],
   "source": [
    "dataset_ronaldo[\"prediction\"] = predictions_ronaldo\n",
    "dataset_ronaldo.head(5)"
   ]
  },
  {
   "cell_type": "markdown",
   "id": "4acc66c7",
   "metadata": {
    "papermill": {
     "duration": 0.030162,
     "end_time": "2022-04-17T13:01:13.946886",
     "exception": false,
     "start_time": "2022-04-17T13:01:13.916724",
     "status": "completed"
    },
    "tags": []
   },
   "source": [
    "# Convert predictions (scores) to labels (positive or negative)"
   ]
  },
  {
   "cell_type": "markdown",
   "id": "cb27c09d",
   "metadata": {
    "papermill": {
     "duration": 0.053124,
     "end_time": "2022-04-17T13:01:14.039444",
     "exception": false,
     "start_time": "2022-04-17T13:01:13.986320",
     "status": "completed"
    },
    "tags": []
   },
   "source": [
    "## Define the processing function"
   ]
  },
  {
   "cell_type": "code",
   "execution_count": 18,
   "id": "65614d57",
   "metadata": {
    "execution": {
     "iopub.execute_input": "2022-04-17T13:01:14.114034Z",
     "iopub.status.busy": "2022-04-17T13:01:14.112461Z",
     "iopub.status.idle": "2022-04-17T13:01:14.114622Z",
     "shell.execute_reply": "2022-04-17T13:01:14.115041Z",
     "shell.execute_reply.started": "2022-04-17T12:56:32.569965Z"
    },
    "papermill": {
     "duration": 0.03876,
     "end_time": "2022-04-17T13:01:14.115178",
     "exception": false,
     "start_time": "2022-04-17T13:01:14.076418",
     "status": "completed"
    },
    "tags": []
   },
   "outputs": [],
   "source": [
    "def assign_label(x):\n",
    "    \"\"\"\n",
    "    Parameters\n",
    "    ----------\n",
    "    x : SCORE\n",
    "        The prediction score\n",
    "\n",
    "    Returns\n",
    "    -------\n",
    "    label : STRING\n",
    "        The sentiment of the tweet.\n",
    "    \"\"\"\n",
    "    rounded_x = round(x,2)\n",
    "    label = \"\"\n",
    "    if rounded_x >= threshold: \n",
    "        label = \"Positive\"\n",
    "    else:\n",
    "        label = \"Negative\"\n",
    "    return label"
   ]
  },
  {
   "cell_type": "markdown",
   "id": "c0cfe4e0",
   "metadata": {
    "papermill": {
     "duration": 0.030204,
     "end_time": "2022-04-17T13:01:14.175796",
     "exception": false,
     "start_time": "2022-04-17T13:01:14.145592",
     "status": "completed"
    },
    "tags": []
   },
   "source": [
    "## Application : Messi Dataset"
   ]
  },
  {
   "cell_type": "code",
   "execution_count": 19,
   "id": "802b2b32",
   "metadata": {
    "execution": {
     "iopub.execute_input": "2022-04-17T13:01:14.242704Z",
     "iopub.status.busy": "2022-04-17T13:01:14.241900Z",
     "iopub.status.idle": "2022-04-17T13:01:14.372933Z",
     "shell.execute_reply": "2022-04-17T13:01:14.373389Z",
     "shell.execute_reply.started": "2022-04-17T12:56:33.076482Z"
    },
    "papermill": {
     "duration": 0.167162,
     "end_time": "2022-04-17T13:01:14.373545",
     "exception": false,
     "start_time": "2022-04-17T13:01:14.206383",
     "status": "completed"
    },
    "tags": []
   },
   "outputs": [
    {
     "data": {
      "text/html": [
       "<div>\n",
       "<style scoped>\n",
       "    .dataframe tbody tr th:only-of-type {\n",
       "        vertical-align: middle;\n",
       "    }\n",
       "\n",
       "    .dataframe tbody tr th {\n",
       "        vertical-align: top;\n",
       "    }\n",
       "\n",
       "    .dataframe thead th {\n",
       "        text-align: right;\n",
       "    }\n",
       "</style>\n",
       "<table border=\"1\" class=\"dataframe\">\n",
       "  <thead>\n",
       "    <tr style=\"text-align: right;\">\n",
       "      <th></th>\n",
       "      <th>tweet_id</th>\n",
       "      <th>author_id</th>\n",
       "      <th>content</th>\n",
       "      <th>lang</th>\n",
       "      <th>date</th>\n",
       "      <th>source</th>\n",
       "      <th>geo</th>\n",
       "      <th>retweet_count</th>\n",
       "      <th>like_count</th>\n",
       "      <th>quote_count</th>\n",
       "      <th>prediction</th>\n",
       "      <th>label</th>\n",
       "    </tr>\n",
       "  </thead>\n",
       "  <tbody>\n",
       "    <tr>\n",
       "      <th>0</th>\n",
       "      <td>1515608437270454276</td>\n",
       "      <td>1464517603637014532</td>\n",
       "      <td>messi missed a pen against real madrid in the ...</td>\n",
       "      <td>en</td>\n",
       "      <td>2022-04-17T08:29:44.000Z</td>\n",
       "      <td>Twitter Web App</td>\n",
       "      <td>-1</td>\n",
       "      <td>0</td>\n",
       "      <td>0</td>\n",
       "      <td>0</td>\n",
       "      <td>0.673138</td>\n",
       "      <td>Positive</td>\n",
       "    </tr>\n",
       "    <tr>\n",
       "      <th>1</th>\n",
       "      <td>1515608409730699264</td>\n",
       "      <td>1307634596985659395</td>\n",
       "      <td>many strikers does that also not to mention th...</td>\n",
       "      <td>en</td>\n",
       "      <td>2022-04-17T08:29:38.000Z</td>\n",
       "      <td>Twitter Web App</td>\n",
       "      <td>-1</td>\n",
       "      <td>0</td>\n",
       "      <td>0</td>\n",
       "      <td>0</td>\n",
       "      <td>0.656659</td>\n",
       "      <td>Positive</td>\n",
       "    </tr>\n",
       "    <tr>\n",
       "      <th>2</th>\n",
       "      <td>1515608399295270912</td>\n",
       "      <td>1475133084596981762</td>\n",
       "      <td>lionel messi has goals in finals check anywhere</td>\n",
       "      <td>en</td>\n",
       "      <td>2022-04-17T08:29:35.000Z</td>\n",
       "      <td>Twitter for Android</td>\n",
       "      <td>-1</td>\n",
       "      <td>0</td>\n",
       "      <td>0</td>\n",
       "      <td>0</td>\n",
       "      <td>0.711032</td>\n",
       "      <td>Positive</td>\n",
       "    </tr>\n",
       "    <tr>\n",
       "      <th>3</th>\n",
       "      <td>1515608375782002691</td>\n",
       "      <td>1390728932228485123</td>\n",
       "      <td>spot on however even fergie scholes beckham al...</td>\n",
       "      <td>en</td>\n",
       "      <td>2022-04-17T08:29:30.000Z</td>\n",
       "      <td>Twitter for iPhone</td>\n",
       "      <td>-1</td>\n",
       "      <td>0</td>\n",
       "      <td>0</td>\n",
       "      <td>0</td>\n",
       "      <td>0.661254</td>\n",
       "      <td>Positive</td>\n",
       "    </tr>\n",
       "    <tr>\n",
       "      <th>4</th>\n",
       "      <td>1515608312787750913</td>\n",
       "      <td>1342456471167119360</td>\n",
       "      <td>messi is not a striker he s a playmaker giving...</td>\n",
       "      <td>en</td>\n",
       "      <td>2022-04-17T08:29:15.000Z</td>\n",
       "      <td>Twitter for Android</td>\n",
       "      <td>-1</td>\n",
       "      <td>0</td>\n",
       "      <td>1</td>\n",
       "      <td>0</td>\n",
       "      <td>0.590831</td>\n",
       "      <td>Negative</td>\n",
       "    </tr>\n",
       "  </tbody>\n",
       "</table>\n",
       "</div>"
      ],
      "text/plain": [
       "              tweet_id            author_id  \\\n",
       "0  1515608437270454276  1464517603637014532   \n",
       "1  1515608409730699264  1307634596985659395   \n",
       "2  1515608399295270912  1475133084596981762   \n",
       "3  1515608375782002691  1390728932228485123   \n",
       "4  1515608312787750913  1342456471167119360   \n",
       "\n",
       "                                             content lang  \\\n",
       "0  messi missed a pen against real madrid in the ...   en   \n",
       "1  many strikers does that also not to mention th...   en   \n",
       "2    lionel messi has goals in finals check anywhere   en   \n",
       "3  spot on however even fergie scholes beckham al...   en   \n",
       "4  messi is not a striker he s a playmaker giving...   en   \n",
       "\n",
       "                       date               source geo  retweet_count  \\\n",
       "0  2022-04-17T08:29:44.000Z      Twitter Web App  -1              0   \n",
       "1  2022-04-17T08:29:38.000Z      Twitter Web App  -1              0   \n",
       "2  2022-04-17T08:29:35.000Z  Twitter for Android  -1              0   \n",
       "3  2022-04-17T08:29:30.000Z   Twitter for iPhone  -1              0   \n",
       "4  2022-04-17T08:29:15.000Z  Twitter for Android  -1              0   \n",
       "\n",
       "   like_count  quote_count  prediction     label  \n",
       "0           0            0    0.673138  Positive  \n",
       "1           0            0    0.656659  Positive  \n",
       "2           0            0    0.711032  Positive  \n",
       "3           0            0    0.661254  Positive  \n",
       "4           1            0    0.590831  Negative  "
      ]
     },
     "execution_count": 19,
     "metadata": {},
     "output_type": "execute_result"
    }
   ],
   "source": [
    " # Create a column named \"label\"\n",
    "dataset_messi[\"label\"] = \"0\"\n",
    "dataset_messi[\"label\"] = dataset_messi.prediction.apply(lambda x: assign_label(x))\n",
    "dataset_messi.head(5)"
   ]
  },
  {
   "cell_type": "markdown",
   "id": "5adba0fd",
   "metadata": {
    "papermill": {
     "duration": 0.030718,
     "end_time": "2022-04-17T13:01:14.435583",
     "exception": false,
     "start_time": "2022-04-17T13:01:14.404865",
     "status": "completed"
    },
    "tags": []
   },
   "source": [
    "## Application : Ronaldo Dataset"
   ]
  },
  {
   "cell_type": "code",
   "execution_count": 20,
   "id": "5bc4d128",
   "metadata": {
    "execution": {
     "iopub.execute_input": "2022-04-17T13:01:14.504654Z",
     "iopub.status.busy": "2022-04-17T13:01:14.503844Z",
     "iopub.status.idle": "2022-04-17T13:01:14.669409Z",
     "shell.execute_reply": "2022-04-17T13:01:14.669832Z",
     "shell.execute_reply.started": "2022-04-17T12:56:33.451179Z"
    },
    "papermill": {
     "duration": 0.20357,
     "end_time": "2022-04-17T13:01:14.669975",
     "exception": false,
     "start_time": "2022-04-17T13:01:14.466405",
     "status": "completed"
    },
    "tags": []
   },
   "outputs": [
    {
     "data": {
      "text/html": [
       "<div>\n",
       "<style scoped>\n",
       "    .dataframe tbody tr th:only-of-type {\n",
       "        vertical-align: middle;\n",
       "    }\n",
       "\n",
       "    .dataframe tbody tr th {\n",
       "        vertical-align: top;\n",
       "    }\n",
       "\n",
       "    .dataframe thead th {\n",
       "        text-align: right;\n",
       "    }\n",
       "</style>\n",
       "<table border=\"1\" class=\"dataframe\">\n",
       "  <thead>\n",
       "    <tr style=\"text-align: right;\">\n",
       "      <th></th>\n",
       "      <th>tweet_id</th>\n",
       "      <th>author_id</th>\n",
       "      <th>content</th>\n",
       "      <th>lang</th>\n",
       "      <th>date</th>\n",
       "      <th>source</th>\n",
       "      <th>geo</th>\n",
       "      <th>retweet_count</th>\n",
       "      <th>like_count</th>\n",
       "      <th>quote_count</th>\n",
       "      <th>prediction</th>\n",
       "      <th>label</th>\n",
       "    </tr>\n",
       "  </thead>\n",
       "  <tbody>\n",
       "    <tr>\n",
       "      <th>0</th>\n",
       "      <td>1515589799943548929</td>\n",
       "      <td>1152201242766131202</td>\n",
       "      <td>there s no reason to believe cristiano ronaldo...</td>\n",
       "      <td>en</td>\n",
       "      <td>2022-04-17T07:15:41.000Z</td>\n",
       "      <td>Twitter for Android</td>\n",
       "      <td>-1</td>\n",
       "      <td>0.0</td>\n",
       "      <td>0.0</td>\n",
       "      <td>0.0</td>\n",
       "      <td>0.721027</td>\n",
       "      <td>Positive</td>\n",
       "    </tr>\n",
       "    <tr>\n",
       "      <th>1</th>\n",
       "      <td>1515589796130865155</td>\n",
       "      <td>1202283615427727360</td>\n",
       "      <td>vintage ronaldo tottenham and norwich tap in h...</td>\n",
       "      <td>en</td>\n",
       "      <td>2022-04-17T07:15:40.000Z</td>\n",
       "      <td>Twitter Web App</td>\n",
       "      <td>-1</td>\n",
       "      <td>0.0</td>\n",
       "      <td>0.0</td>\n",
       "      <td>0.0</td>\n",
       "      <td>0.725507</td>\n",
       "      <td>Positive</td>\n",
       "    </tr>\n",
       "    <tr>\n",
       "      <th>2</th>\n",
       "      <td>1515589765172768769</td>\n",
       "      <td>3368387687</td>\n",
       "      <td>werra mister champions league ronaldo why did ...</td>\n",
       "      <td>en</td>\n",
       "      <td>2022-04-17T07:15:32.000Z</td>\n",
       "      <td>Twitter for iPhone</td>\n",
       "      <td>-1</td>\n",
       "      <td>0.0</td>\n",
       "      <td>0.0</td>\n",
       "      <td>0.0</td>\n",
       "      <td>0.589825</td>\n",
       "      <td>Negative</td>\n",
       "    </tr>\n",
       "    <tr>\n",
       "      <th>3</th>\n",
       "      <td>1515589753470861318</td>\n",
       "      <td>2615336101</td>\n",
       "      <td>yeah but facts don t lie messi is missing awar...</td>\n",
       "      <td>en</td>\n",
       "      <td>2022-04-17T07:15:30.000Z</td>\n",
       "      <td>Twitter for Android</td>\n",
       "      <td>-1</td>\n",
       "      <td>0.0</td>\n",
       "      <td>0.0</td>\n",
       "      <td>0.0</td>\n",
       "      <td>0.697586</td>\n",
       "      <td>Positive</td>\n",
       "    </tr>\n",
       "    <tr>\n",
       "      <th>4</th>\n",
       "      <td>1515589684013027335</td>\n",
       "      <td>1093900817046810625</td>\n",
       "      <td>ronaldo was greatly rewarded after hat trick a...</td>\n",
       "      <td>en</td>\n",
       "      <td>2022-04-17T07:15:13.000Z</td>\n",
       "      <td>IFTTT</td>\n",
       "      <td>-1</td>\n",
       "      <td>0.0</td>\n",
       "      <td>0.0</td>\n",
       "      <td>0.0</td>\n",
       "      <td>0.701679</td>\n",
       "      <td>Positive</td>\n",
       "    </tr>\n",
       "  </tbody>\n",
       "</table>\n",
       "</div>"
      ],
      "text/plain": [
       "              tweet_id            author_id  \\\n",
       "0  1515589799943548929  1152201242766131202   \n",
       "1  1515589796130865155  1202283615427727360   \n",
       "2  1515589765172768769           3368387687   \n",
       "3  1515589753470861318           2615336101   \n",
       "4  1515589684013027335  1093900817046810625   \n",
       "\n",
       "                                             content lang  \\\n",
       "0  there s no reason to believe cristiano ronaldo...   en   \n",
       "1  vintage ronaldo tottenham and norwich tap in h...   en   \n",
       "2  werra mister champions league ronaldo why did ...   en   \n",
       "3  yeah but facts don t lie messi is missing awar...   en   \n",
       "4  ronaldo was greatly rewarded after hat trick a...   en   \n",
       "\n",
       "                       date               source geo  retweet_count  \\\n",
       "0  2022-04-17T07:15:41.000Z  Twitter for Android  -1            0.0   \n",
       "1  2022-04-17T07:15:40.000Z      Twitter Web App  -1            0.0   \n",
       "2  2022-04-17T07:15:32.000Z   Twitter for iPhone  -1            0.0   \n",
       "3  2022-04-17T07:15:30.000Z  Twitter for Android  -1            0.0   \n",
       "4  2022-04-17T07:15:13.000Z                IFTTT  -1            0.0   \n",
       "\n",
       "   like_count  quote_count  prediction     label  \n",
       "0         0.0          0.0    0.721027  Positive  \n",
       "1         0.0          0.0    0.725507  Positive  \n",
       "2         0.0          0.0    0.589825  Negative  \n",
       "3         0.0          0.0    0.697586  Positive  \n",
       "4         0.0          0.0    0.701679  Positive  "
      ]
     },
     "execution_count": 20,
     "metadata": {},
     "output_type": "execute_result"
    }
   ],
   "source": [
    "# Create a column named \"label\"\n",
    "dataset_ronaldo[\"label\"] = \"0\" \n",
    "dataset_ronaldo[\"label\"] = dataset_ronaldo.prediction.apply(lambda x: assign_label(x))\n",
    "dataset_ronaldo.head(5)"
   ]
  },
  {
   "cell_type": "markdown",
   "id": "2f74e8b7",
   "metadata": {
    "papermill": {
     "duration": 0.031477,
     "end_time": "2022-04-17T13:01:14.733362",
     "exception": false,
     "start_time": "2022-04-17T13:01:14.701885",
     "status": "completed"
    },
    "tags": []
   },
   "source": [
    "# Save the results\n",
    "> Note : if you plan to use the dataset, feel free to manually check and tweak the results, in order to come closer to a human-precision level"
   ]
  },
  {
   "cell_type": "markdown",
   "id": "de4b1a73",
   "metadata": {
    "papermill": {
     "duration": 0.031075,
     "end_time": "2022-04-17T13:01:14.796204",
     "exception": false,
     "start_time": "2022-04-17T13:01:14.765129",
     "status": "completed"
    },
    "tags": []
   },
   "source": [
    "## Messi "
   ]
  },
  {
   "cell_type": "code",
   "execution_count": 21,
   "id": "4e29d03d",
   "metadata": {
    "execution": {
     "iopub.execute_input": "2022-04-17T13:01:14.864206Z",
     "iopub.status.busy": "2022-04-17T13:01:14.863338Z",
     "iopub.status.idle": "2022-04-17T13:01:16.109593Z",
     "shell.execute_reply": "2022-04-17T13:01:16.110611Z",
     "shell.execute_reply.started": "2022-04-17T12:56:34.072993Z"
    },
    "papermill": {
     "duration": 1.282995,
     "end_time": "2022-04-17T13:01:16.110829",
     "exception": false,
     "start_time": "2022-04-17T13:01:14.827834",
     "status": "completed"
    },
    "tags": []
   },
   "outputs": [],
   "source": [
    "dataset_messi.to_csv(\"Predictions_messi.csv\", index=False)"
   ]
  },
  {
   "cell_type": "markdown",
   "id": "b99da362",
   "metadata": {
    "papermill": {
     "duration": 0.055253,
     "end_time": "2022-04-17T13:01:16.222320",
     "exception": false,
     "start_time": "2022-04-17T13:01:16.167067",
     "status": "completed"
    },
    "tags": []
   },
   "source": [
    "## Ronaldo"
   ]
  },
  {
   "cell_type": "code",
   "execution_count": 22,
   "id": "d45f54b2",
   "metadata": {
    "execution": {
     "iopub.execute_input": "2022-04-17T13:01:16.340268Z",
     "iopub.status.busy": "2022-04-17T13:01:16.339453Z",
     "iopub.status.idle": "2022-04-17T13:01:18.199575Z",
     "shell.execute_reply": "2022-04-17T13:01:18.199096Z",
     "shell.execute_reply.started": "2022-04-17T12:56:35.423762Z"
    },
    "papermill": {
     "duration": 1.921082,
     "end_time": "2022-04-17T13:01:18.199707",
     "exception": false,
     "start_time": "2022-04-17T13:01:16.278625",
     "status": "completed"
    },
    "tags": []
   },
   "outputs": [],
   "source": [
    "dataset_ronaldo.to_csv(\"Predictions_ronaldo.csv\", index=False)"
   ]
  }
 ],
 "metadata": {
  "kernelspec": {
   "display_name": "Python 3",
   "language": "python",
   "name": "python3"
  },
  "language_info": {
   "codemirror_mode": {
    "name": "ipython",
    "version": 3
   },
   "file_extension": ".py",
   "mimetype": "text/x-python",
   "name": "python",
   "nbconvert_exporter": "python",
   "pygments_lexer": "ipython3",
   "version": "3.7.10"
  },
  "papermill": {
   "default_parameters": {},
   "duration": 125.727712,
   "end_time": "2022-04-17T13:01:21.280383",
   "environment_variables": {},
   "exception": null,
   "input_path": "__notebook__.ipynb",
   "output_path": "__notebook__.ipynb",
   "parameters": {},
   "start_time": "2022-04-17T12:59:15.552671",
   "version": "2.3.3"
  }
 },
 "nbformat": 4,
 "nbformat_minor": 5
}
