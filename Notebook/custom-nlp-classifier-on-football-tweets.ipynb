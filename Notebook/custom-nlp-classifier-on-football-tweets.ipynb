{
 "cells": [
  {
   "cell_type": "markdown",
   "id": "9aad1ceb",
   "metadata": {
    "papermill": {
     "duration": 0.029945,
     "end_time": "2022-04-16T10:14:56.925598",
     "exception": false,
     "start_time": "2022-04-16T10:14:56.895653",
     "status": "completed"
    },
    "tags": []
   },
   "source": [
    "# What to expect 🤔\n",
    "\n",
    "In this Notebook, we're going to run inferences on our tweets Dataset with the Sentiment Analysis model trained [here](https://www.kaggle.com/code/ibrahimserouis99/twitter-sentiment-analysis)."
   ]
  },
  {
   "cell_type": "markdown",
   "id": "16ccb936",
   "metadata": {
    "papermill": {
     "duration": 0.02828,
     "end_time": "2022-04-16T10:14:56.985759",
     "exception": false,
     "start_time": "2022-04-16T10:14:56.957479",
     "status": "completed"
    },
    "tags": []
   },
   "source": [
    "# Libraries"
   ]
  },
  {
   "cell_type": "code",
   "execution_count": 1,
   "id": "583cd6c5",
   "metadata": {
    "execution": {
     "iopub.execute_input": "2022-04-16T10:14:57.047455Z",
     "iopub.status.busy": "2022-04-16T10:14:57.045746Z",
     "iopub.status.idle": "2022-04-16T10:15:01.421123Z",
     "shell.execute_reply": "2022-04-16T10:15:01.421637Z",
     "shell.execute_reply.started": "2022-04-16T10:14:35.396461Z"
    },
    "papermill": {
     "duration": 4.408098,
     "end_time": "2022-04-16T10:15:01.421896",
     "exception": false,
     "start_time": "2022-04-16T10:14:57.013798",
     "status": "completed"
    },
    "tags": []
   },
   "outputs": [
    {
     "name": "stderr",
     "output_type": "stream",
     "text": [
      "2022-04-16 10:14:57.583733: I tensorflow/stream_executor/platform/default/dso_loader.cc:49] Successfully opened dynamic library libcudart.so.11.0\n"
     ]
    }
   ],
   "source": [
    "import numpy as np \n",
    "import pandas as pd\n",
    "import tensorflow as tf\n",
    "from tensorflow.keras.models import load_model"
   ]
  },
  {
   "cell_type": "markdown",
   "id": "6aa84741",
   "metadata": {
    "papermill": {
     "duration": 0.025593,
     "end_time": "2022-04-16T10:15:01.473492",
     "exception": false,
     "start_time": "2022-04-16T10:15:01.447899",
     "status": "completed"
    },
    "tags": []
   },
   "source": [
    "# Exploring the datasets"
   ]
  },
  {
   "cell_type": "markdown",
   "id": "8248b858",
   "metadata": {
    "papermill": {
     "duration": 0.026497,
     "end_time": "2022-04-16T10:15:01.525399",
     "exception": false,
     "start_time": "2022-04-16T10:15:01.498902",
     "status": "completed"
    },
    "tags": []
   },
   "source": [
    "## Messi"
   ]
  },
  {
   "cell_type": "code",
   "execution_count": 2,
   "id": "0aed1dc4",
   "metadata": {
    "execution": {
     "iopub.execute_input": "2022-04-16T10:15:01.581960Z",
     "iopub.status.busy": "2022-04-16T10:15:01.581407Z",
     "iopub.status.idle": "2022-04-16T10:15:01.968215Z",
     "shell.execute_reply": "2022-04-16T10:15:01.967750Z",
     "shell.execute_reply.started": "2022-04-16T07:24:13.540089Z"
    },
    "papermill": {
     "duration": 0.416973,
     "end_time": "2022-04-16T10:15:01.968352",
     "exception": false,
     "start_time": "2022-04-16T10:15:01.551379",
     "status": "completed"
    },
    "tags": []
   },
   "outputs": [
    {
     "data": {
      "text/html": [
       "<div>\n",
       "<style scoped>\n",
       "    .dataframe tbody tr th:only-of-type {\n",
       "        vertical-align: middle;\n",
       "    }\n",
       "\n",
       "    .dataframe tbody tr th {\n",
       "        vertical-align: top;\n",
       "    }\n",
       "\n",
       "    .dataframe thead th {\n",
       "        text-align: right;\n",
       "    }\n",
       "</style>\n",
       "<table border=\"1\" class=\"dataframe\">\n",
       "  <thead>\n",
       "    <tr style=\"text-align: right;\">\n",
       "      <th></th>\n",
       "      <th>tweet_id</th>\n",
       "      <th>author_id</th>\n",
       "      <th>content</th>\n",
       "      <th>lang</th>\n",
       "      <th>date</th>\n",
       "      <th>source</th>\n",
       "      <th>geo</th>\n",
       "      <th>retweet_count</th>\n",
       "      <th>like_count</th>\n",
       "      <th>quote_count</th>\n",
       "    </tr>\n",
       "  </thead>\n",
       "  <tbody>\n",
       "    <tr>\n",
       "      <th>0</th>\n",
       "      <td>1514503439291543554</td>\n",
       "      <td>1504674335533187078</td>\n",
       "      <td>when did this happened messi</td>\n",
       "      <td>en</td>\n",
       "      <td>2022-04-14T07:18:52.000Z</td>\n",
       "      <td>Twitter for Android</td>\n",
       "      <td>-1</td>\n",
       "      <td>1</td>\n",
       "      <td>1</td>\n",
       "      <td>0</td>\n",
       "    </tr>\n",
       "    <tr>\n",
       "      <th>1</th>\n",
       "      <td>1514503399462432770</td>\n",
       "      <td>1437183590781964290</td>\n",
       "      <td>highest ranking active players on my all time ...</td>\n",
       "      <td>en</td>\n",
       "      <td>2022-04-14T07:18:43.000Z</td>\n",
       "      <td>Twitter for iPhone</td>\n",
       "      <td>-1</td>\n",
       "      <td>0</td>\n",
       "      <td>0</td>\n",
       "      <td>0</td>\n",
       "    </tr>\n",
       "    <tr>\n",
       "      <th>2</th>\n",
       "      <td>1514503259762958336</td>\n",
       "      <td>819679110</td>\n",
       "      <td>don t get me wrong mate i know he was good but...</td>\n",
       "      <td>en</td>\n",
       "      <td>2022-04-14T07:18:09.000Z</td>\n",
       "      <td>Twitter for iPhone</td>\n",
       "      <td>-1</td>\n",
       "      <td>0</td>\n",
       "      <td>0</td>\n",
       "      <td>0</td>\n",
       "    </tr>\n",
       "    <tr>\n",
       "      <th>3</th>\n",
       "      <td>1514503228221702144</td>\n",
       "      <td>1012688452863909891</td>\n",
       "      <td>messi fans have no shame</td>\n",
       "      <td>en</td>\n",
       "      <td>2022-04-14T07:18:02.000Z</td>\n",
       "      <td>Twitter for Android</td>\n",
       "      <td>-1</td>\n",
       "      <td>0</td>\n",
       "      <td>0</td>\n",
       "      <td>0</td>\n",
       "    </tr>\n",
       "    <tr>\n",
       "      <th>4</th>\n",
       "      <td>1514503144478322688</td>\n",
       "      <td>1309496212345810944</td>\n",
       "      <td>messi has to pay now 50m to play</td>\n",
       "      <td>en</td>\n",
       "      <td>2022-04-14T07:17:42.000Z</td>\n",
       "      <td>Twitter for Android</td>\n",
       "      <td>-1</td>\n",
       "      <td>0</td>\n",
       "      <td>1</td>\n",
       "      <td>0</td>\n",
       "    </tr>\n",
       "  </tbody>\n",
       "</table>\n",
       "</div>"
      ],
      "text/plain": [
       "              tweet_id            author_id  \\\n",
       "0  1514503439291543554  1504674335533187078   \n",
       "1  1514503399462432770  1437183590781964290   \n",
       "2  1514503259762958336            819679110   \n",
       "3  1514503228221702144  1012688452863909891   \n",
       "4  1514503144478322688  1309496212345810944   \n",
       "\n",
       "                                             content lang  \\\n",
       "0                       when did this happened messi   en   \n",
       "1  highest ranking active players on my all time ...   en   \n",
       "2  don t get me wrong mate i know he was good but...   en   \n",
       "3                           messi fans have no shame   en   \n",
       "4                   messi has to pay now 50m to play   en   \n",
       "\n",
       "                       date               source geo  retweet_count  \\\n",
       "0  2022-04-14T07:18:52.000Z  Twitter for Android  -1              1   \n",
       "1  2022-04-14T07:18:43.000Z   Twitter for iPhone  -1              0   \n",
       "2  2022-04-14T07:18:09.000Z   Twitter for iPhone  -1              0   \n",
       "3  2022-04-14T07:18:02.000Z  Twitter for Android  -1              0   \n",
       "4  2022-04-14T07:17:42.000Z  Twitter for Android  -1              0   \n",
       "\n",
       "   like_count  quote_count  \n",
       "0           1            0  \n",
       "1           0            0  \n",
       "2           0            0  \n",
       "3           0            0  \n",
       "4           1            0  "
      ]
     },
     "execution_count": 2,
     "metadata": {},
     "output_type": "execute_result"
    }
   ],
   "source": [
    "dataset_messi = pd.read_csv(\"../input/twitter-sentiment-analysis-and-word-embeddings/Cleaned_messi_tweets.csv\", encoding=\"latin\")\n",
    "dataset_messi.head(5)"
   ]
  },
  {
   "cell_type": "markdown",
   "id": "b7c0492d",
   "metadata": {
    "papermill": {
     "duration": 0.026292,
     "end_time": "2022-04-16T10:15:02.020815",
     "exception": false,
     "start_time": "2022-04-16T10:15:01.994523",
     "status": "completed"
    },
    "tags": []
   },
   "source": [
    "### Check for duplicate tweets"
   ]
  },
  {
   "cell_type": "code",
   "execution_count": 3,
   "id": "cae91e13",
   "metadata": {
    "execution": {
     "iopub.execute_input": "2022-04-16T10:15:02.079780Z",
     "iopub.status.busy": "2022-04-16T10:15:02.078855Z",
     "iopub.status.idle": "2022-04-16T10:15:02.083651Z",
     "shell.execute_reply": "2022-04-16T10:15:02.083202Z",
     "shell.execute_reply.started": "2022-04-16T07:24:14.850831Z"
    },
    "papermill": {
     "duration": 0.036888,
     "end_time": "2022-04-16T10:15:02.083766",
     "exception": false,
     "start_time": "2022-04-16T10:15:02.046878",
     "status": "completed"
    },
    "tags": []
   },
   "outputs": [],
   "source": [
    "assert len(np.unique(dataset_messi[\"tweet_id\"])) == len(dataset_messi.index), \"Duplicate IDs !\""
   ]
  },
  {
   "cell_type": "markdown",
   "id": "4e7b92e0",
   "metadata": {
    "papermill": {
     "duration": 0.025767,
     "end_time": "2022-04-16T10:15:02.135475",
     "exception": false,
     "start_time": "2022-04-16T10:15:02.109708",
     "status": "completed"
    },
    "tags": []
   },
   "source": [
    "### Drop N/A values"
   ]
  },
  {
   "cell_type": "code",
   "execution_count": 4,
   "id": "d0c49894",
   "metadata": {
    "execution": {
     "iopub.execute_input": "2022-04-16T10:15:02.225481Z",
     "iopub.status.busy": "2022-04-16T10:15:02.224650Z",
     "iopub.status.idle": "2022-04-16T10:15:02.324433Z",
     "shell.execute_reply": "2022-04-16T10:15:02.324850Z",
     "shell.execute_reply.started": "2022-04-16T07:24:15.777757Z"
    },
    "papermill": {
     "duration": 0.163179,
     "end_time": "2022-04-16T10:15:02.325012",
     "exception": false,
     "start_time": "2022-04-16T10:15:02.161833",
     "status": "completed"
    },
    "tags": []
   },
   "outputs": [
    {
     "name": "stdout",
     "output_type": "stream",
     "text": [
      "Number of N/A: \n",
      "tweet_id         0\n",
      "author_id        0\n",
      "content          0\n",
      "lang             0\n",
      "date             0\n",
      "source           0\n",
      "geo              0\n",
      "retweet_count    0\n",
      "like_count       0\n",
      "quote_count      0\n",
      "dtype: int64\n",
      "\n",
      "Dropping N/A values...\n",
      "\n",
      "\n",
      "Number N/A after dropping: \n",
      "tweet_id         0\n",
      "author_id        0\n",
      "content          0\n",
      "lang             0\n",
      "date             0\n",
      "source           0\n",
      "geo              0\n",
      "retweet_count    0\n",
      "like_count       0\n",
      "quote_count      0\n",
      "dtype: int64\n"
     ]
    }
   ],
   "source": [
    "print(f\"Number of N/A: \\n{dataset_messi.isna().sum()}\")\n",
    "print(f\"\\nDropping N/A values...\")\n",
    "# Inplace = replace the original dataframe\n",
    "dataset_messi.dropna(inplace=True)\n",
    "print(f\"\\n\\nNumber N/A after dropping: \\n{dataset_messi.isna().sum()}\")"
   ]
  },
  {
   "cell_type": "markdown",
   "id": "cb56c13e",
   "metadata": {
    "papermill": {
     "duration": 0.026026,
     "end_time": "2022-04-16T10:15:02.377418",
     "exception": false,
     "start_time": "2022-04-16T10:15:02.351392",
     "status": "completed"
    },
    "tags": []
   },
   "source": [
    "## Ronaldo"
   ]
  },
  {
   "cell_type": "code",
   "execution_count": 5,
   "id": "b307ccc5",
   "metadata": {
    "execution": {
     "iopub.execute_input": "2022-04-16T10:15:02.435518Z",
     "iopub.status.busy": "2022-04-16T10:15:02.434840Z",
     "iopub.status.idle": "2022-04-16T10:15:02.806234Z",
     "shell.execute_reply": "2022-04-16T10:15:02.806785Z",
     "shell.execute_reply.started": "2022-04-16T07:24:17.433034Z"
    },
    "papermill": {
     "duration": 0.402728,
     "end_time": "2022-04-16T10:15:02.807003",
     "exception": false,
     "start_time": "2022-04-16T10:15:02.404275",
     "status": "completed"
    },
    "tags": []
   },
   "outputs": [
    {
     "data": {
      "text/html": [
       "<div>\n",
       "<style scoped>\n",
       "    .dataframe tbody tr th:only-of-type {\n",
       "        vertical-align: middle;\n",
       "    }\n",
       "\n",
       "    .dataframe tbody tr th {\n",
       "        vertical-align: top;\n",
       "    }\n",
       "\n",
       "    .dataframe thead th {\n",
       "        text-align: right;\n",
       "    }\n",
       "</style>\n",
       "<table border=\"1\" class=\"dataframe\">\n",
       "  <thead>\n",
       "    <tr style=\"text-align: right;\">\n",
       "      <th></th>\n",
       "      <th>tweet_id</th>\n",
       "      <th>author_id</th>\n",
       "      <th>content</th>\n",
       "      <th>lang</th>\n",
       "      <th>date</th>\n",
       "      <th>source</th>\n",
       "      <th>geo</th>\n",
       "      <th>retweet_count</th>\n",
       "      <th>like_count</th>\n",
       "      <th>quote_count</th>\n",
       "    </tr>\n",
       "  </thead>\n",
       "  <tbody>\n",
       "    <tr>\n",
       "      <th>0</th>\n",
       "      <td>1514503408820051969</td>\n",
       "      <td>1406215235829182470</td>\n",
       "      <td>dressing room source at ajax there s been crit...</td>\n",
       "      <td>en</td>\n",
       "      <td>2022-04-14T07:18:45.000Z</td>\n",
       "      <td>Twitter Web App</td>\n",
       "      <td>-1</td>\n",
       "      <td>0.0</td>\n",
       "      <td>0.0</td>\n",
       "      <td>0.0</td>\n",
       "    </tr>\n",
       "    <tr>\n",
       "      <th>1</th>\n",
       "      <td>1514503399462432770</td>\n",
       "      <td>1437183590781964290</td>\n",
       "      <td>highest ranking active players on my all time ...</td>\n",
       "      <td>en</td>\n",
       "      <td>2022-04-14T07:18:43.000Z</td>\n",
       "      <td>Twitter for iPhone</td>\n",
       "      <td>-1</td>\n",
       "      <td>0.0</td>\n",
       "      <td>0.0</td>\n",
       "      <td>0.0</td>\n",
       "    </tr>\n",
       "    <tr>\n",
       "      <th>2</th>\n",
       "      <td>1514503356764418051</td>\n",
       "      <td>1215836950931705856</td>\n",
       "      <td>i personally feel that cdm is the most importa...</td>\n",
       "      <td>en</td>\n",
       "      <td>2022-04-14T07:18:33.000Z</td>\n",
       "      <td>Twitter for Android</td>\n",
       "      <td>-1</td>\n",
       "      <td>0.0</td>\n",
       "      <td>0.0</td>\n",
       "      <td>0.0</td>\n",
       "    </tr>\n",
       "    <tr>\n",
       "      <th>3</th>\n",
       "      <td>1514503333112864771</td>\n",
       "      <td>1201535456141168640</td>\n",
       "      <td>timber that s it these are the three essential...</td>\n",
       "      <td>en</td>\n",
       "      <td>2022-04-14T07:18:27.000Z</td>\n",
       "      <td>Twitter for Android</td>\n",
       "      <td>-1</td>\n",
       "      <td>0.0</td>\n",
       "      <td>0.0</td>\n",
       "      <td>0.0</td>\n",
       "    </tr>\n",
       "    <tr>\n",
       "      <th>4</th>\n",
       "      <td>1514503191563579394</td>\n",
       "      <td>1080591523715129344</td>\n",
       "      <td>a quick reminder that cristiano ronaldo is the...</td>\n",
       "      <td>en</td>\n",
       "      <td>2022-04-14T07:17:53.000Z</td>\n",
       "      <td>Twitter for iPhone</td>\n",
       "      <td>-1</td>\n",
       "      <td>0.0</td>\n",
       "      <td>0.0</td>\n",
       "      <td>0.0</td>\n",
       "    </tr>\n",
       "  </tbody>\n",
       "</table>\n",
       "</div>"
      ],
      "text/plain": [
       "              tweet_id            author_id  \\\n",
       "0  1514503408820051969  1406215235829182470   \n",
       "1  1514503399462432770  1437183590781964290   \n",
       "2  1514503356764418051  1215836950931705856   \n",
       "3  1514503333112864771  1201535456141168640   \n",
       "4  1514503191563579394  1080591523715129344   \n",
       "\n",
       "                                             content lang  \\\n",
       "0  dressing room source at ajax there s been crit...   en   \n",
       "1  highest ranking active players on my all time ...   en   \n",
       "2  i personally feel that cdm is the most importa...   en   \n",
       "3  timber that s it these are the three essential...   en   \n",
       "4  a quick reminder that cristiano ronaldo is the...   en   \n",
       "\n",
       "                       date               source geo  retweet_count  \\\n",
       "0  2022-04-14T07:18:45.000Z      Twitter Web App  -1            0.0   \n",
       "1  2022-04-14T07:18:43.000Z   Twitter for iPhone  -1            0.0   \n",
       "2  2022-04-14T07:18:33.000Z  Twitter for Android  -1            0.0   \n",
       "3  2022-04-14T07:18:27.000Z  Twitter for Android  -1            0.0   \n",
       "4  2022-04-14T07:17:53.000Z   Twitter for iPhone  -1            0.0   \n",
       "\n",
       "   like_count  quote_count  \n",
       "0         0.0          0.0  \n",
       "1         0.0          0.0  \n",
       "2         0.0          0.0  \n",
       "3         0.0          0.0  \n",
       "4         0.0          0.0  "
      ]
     },
     "execution_count": 5,
     "metadata": {},
     "output_type": "execute_result"
    }
   ],
   "source": [
    "dataset_ronaldo = pd.read_csv(\"../input/twitter-sentiment-analysis-and-word-embeddings/Cleaned_ronaldo_tweets.csv\", encoding=\"latin\")\n",
    "dataset_ronaldo.head(5)"
   ]
  },
  {
   "cell_type": "markdown",
   "id": "c5b37338",
   "metadata": {
    "papermill": {
     "duration": 0.027011,
     "end_time": "2022-04-16T10:15:02.862215",
     "exception": false,
     "start_time": "2022-04-16T10:15:02.835204",
     "status": "completed"
    },
    "tags": []
   },
   "source": [
    "### Check for duplicate tweets"
   ]
  },
  {
   "cell_type": "code",
   "execution_count": 6,
   "id": "ec8098a5",
   "metadata": {
    "execution": {
     "iopub.execute_input": "2022-04-16T10:15:02.923633Z",
     "iopub.status.busy": "2022-04-16T10:15:02.922331Z",
     "iopub.status.idle": "2022-04-16T10:15:02.926610Z",
     "shell.execute_reply": "2022-04-16T10:15:02.926170Z",
     "shell.execute_reply.started": "2022-04-16T07:24:17.92312Z"
    },
    "papermill": {
     "duration": 0.036969,
     "end_time": "2022-04-16T10:15:02.926727",
     "exception": false,
     "start_time": "2022-04-16T10:15:02.889758",
     "status": "completed"
    },
    "tags": []
   },
   "outputs": [],
   "source": [
    "assert len(np.unique(dataset_ronaldo[\"tweet_id\"])) == len(dataset_ronaldo.index), \"Duplicate IDs!\""
   ]
  },
  {
   "cell_type": "markdown",
   "id": "c413d558",
   "metadata": {
    "papermill": {
     "duration": 0.026763,
     "end_time": "2022-04-16T10:15:02.980495",
     "exception": false,
     "start_time": "2022-04-16T10:15:02.953732",
     "status": "completed"
    },
    "tags": []
   },
   "source": [
    "### Check data"
   ]
  },
  {
   "cell_type": "code",
   "execution_count": 7,
   "id": "069abb6d",
   "metadata": {
    "execution": {
     "iopub.execute_input": "2022-04-16T10:15:03.072087Z",
     "iopub.status.busy": "2022-04-16T10:15:03.071270Z",
     "iopub.status.idle": "2022-04-16T10:15:03.154432Z",
     "shell.execute_reply": "2022-04-16T10:15:03.154950Z",
     "shell.execute_reply.started": "2022-04-16T07:24:18.585848Z"
    },
    "papermill": {
     "duration": 0.14777,
     "end_time": "2022-04-16T10:15:03.155144",
     "exception": false,
     "start_time": "2022-04-16T10:15:03.007374",
     "status": "completed"
    },
    "tags": []
   },
   "outputs": [
    {
     "name": "stdout",
     "output_type": "stream",
     "text": [
      "Number of N/A: \n",
      "tweet_id         0\n",
      "author_id        0\n",
      "content          6\n",
      "lang             0\n",
      "date             0\n",
      "source           0\n",
      "geo              0\n",
      "retweet_count    0\n",
      "like_count       0\n",
      "quote_count      0\n",
      "dtype: int64\n",
      "\n",
      "Dropping N/A values...\n",
      "\n",
      "\n",
      "Number N/A after dropping: \n",
      "tweet_id         0\n",
      "author_id        0\n",
      "content          0\n",
      "lang             0\n",
      "date             0\n",
      "source           0\n",
      "geo              0\n",
      "retweet_count    0\n",
      "like_count       0\n",
      "quote_count      0\n",
      "dtype: int64\n"
     ]
    }
   ],
   "source": [
    "print(f\"Number of N/A: \\n{dataset_ronaldo.isna().sum()}\")\n",
    "print(f\"\\nDropping N/A values...\")\n",
    "# Inplace = replace the original dataframe\n",
    "dataset_ronaldo.dropna(inplace=True)\n",
    "print(f\"\\n\\nNumber N/A after dropping: \\n{dataset_ronaldo.isna().sum()}\")"
   ]
  },
  {
   "cell_type": "markdown",
   "id": "1085f3b9",
   "metadata": {
    "papermill": {
     "duration": 0.026926,
     "end_time": "2022-04-16T10:15:03.209402",
     "exception": false,
     "start_time": "2022-04-16T10:15:03.182476",
     "status": "completed"
    },
    "tags": []
   },
   "source": [
    "# Load the model"
   ]
  },
  {
   "cell_type": "code",
   "execution_count": 8,
   "id": "48529072",
   "metadata": {
    "execution": {
     "iopub.execute_input": "2022-04-16T10:15:03.268121Z",
     "iopub.status.busy": "2022-04-16T10:15:03.267599Z",
     "iopub.status.idle": "2022-04-16T10:15:29.290793Z",
     "shell.execute_reply": "2022-04-16T10:15:29.290248Z",
     "shell.execute_reply.started": "2022-04-16T07:24:32.721855Z"
    },
    "papermill": {
     "duration": 26.054457,
     "end_time": "2022-04-16T10:15:29.290924",
     "exception": false,
     "start_time": "2022-04-16T10:15:03.236467",
     "status": "completed"
    },
    "tags": []
   },
   "outputs": [
    {
     "name": "stderr",
     "output_type": "stream",
     "text": [
      "2022-04-16 10:15:04.316640: I tensorflow/compiler/jit/xla_cpu_device.cc:41] Not creating XLA devices, tf_xla_enable_xla_devices not set\n",
      "2022-04-16 10:15:04.319592: I tensorflow/stream_executor/platform/default/dso_loader.cc:49] Successfully opened dynamic library libcuda.so.1\n",
      "2022-04-16 10:15:04.377923: I tensorflow/stream_executor/cuda/cuda_gpu_executor.cc:941] successful NUMA node read from SysFS had negative value (-1), but there must be at least one NUMA node, so returning NUMA node zero\n",
      "2022-04-16 10:15:04.378713: I tensorflow/core/common_runtime/gpu/gpu_device.cc:1720] Found device 0 with properties: \n",
      "pciBusID: 0000:00:04.0 name: Tesla P100-PCIE-16GB computeCapability: 6.0\n",
      "coreClock: 1.3285GHz coreCount: 56 deviceMemorySize: 15.90GiB deviceMemoryBandwidth: 681.88GiB/s\n",
      "2022-04-16 10:15:04.378783: I tensorflow/stream_executor/platform/default/dso_loader.cc:49] Successfully opened dynamic library libcudart.so.11.0\n",
      "2022-04-16 10:15:04.409277: I tensorflow/stream_executor/platform/default/dso_loader.cc:49] Successfully opened dynamic library libcublas.so.11\n",
      "2022-04-16 10:15:04.409382: I tensorflow/stream_executor/platform/default/dso_loader.cc:49] Successfully opened dynamic library libcublasLt.so.11\n",
      "2022-04-16 10:15:04.423525: I tensorflow/stream_executor/platform/default/dso_loader.cc:49] Successfully opened dynamic library libcufft.so.10\n",
      "2022-04-16 10:15:04.431933: I tensorflow/stream_executor/platform/default/dso_loader.cc:49] Successfully opened dynamic library libcurand.so.10\n",
      "2022-04-16 10:15:04.454293: I tensorflow/stream_executor/platform/default/dso_loader.cc:49] Successfully opened dynamic library libcusolver.so.10\n",
      "2022-04-16 10:15:04.461173: I tensorflow/stream_executor/platform/default/dso_loader.cc:49] Successfully opened dynamic library libcusparse.so.11\n",
      "2022-04-16 10:15:04.465068: I tensorflow/stream_executor/platform/default/dso_loader.cc:49] Successfully opened dynamic library libcudnn.so.8\n",
      "2022-04-16 10:15:04.465249: I tensorflow/stream_executor/cuda/cuda_gpu_executor.cc:941] successful NUMA node read from SysFS had negative value (-1), but there must be at least one NUMA node, so returning NUMA node zero\n",
      "2022-04-16 10:15:04.466008: I tensorflow/stream_executor/cuda/cuda_gpu_executor.cc:941] successful NUMA node read from SysFS had negative value (-1), but there must be at least one NUMA node, so returning NUMA node zero\n",
      "2022-04-16 10:15:04.467498: I tensorflow/core/common_runtime/gpu/gpu_device.cc:1862] Adding visible gpu devices: 0\n",
      "2022-04-16 10:15:04.468638: I tensorflow/core/platform/cpu_feature_guard.cc:142] This TensorFlow binary is optimized with oneAPI Deep Neural Network Library (oneDNN) to use the following CPU instructions in performance-critical operations:  AVX2 AVX512F FMA\n",
      "To enable them in other operations, rebuild TensorFlow with the appropriate compiler flags.\n",
      "2022-04-16 10:15:04.468844: I tensorflow/compiler/jit/xla_gpu_device.cc:99] Not creating XLA devices, tf_xla_enable_xla_devices not set\n",
      "2022-04-16 10:15:04.469004: I tensorflow/stream_executor/cuda/cuda_gpu_executor.cc:941] successful NUMA node read from SysFS had negative value (-1), but there must be at least one NUMA node, so returning NUMA node zero\n",
      "2022-04-16 10:15:04.469654: I tensorflow/core/common_runtime/gpu/gpu_device.cc:1720] Found device 0 with properties: \n",
      "pciBusID: 0000:00:04.0 name: Tesla P100-PCIE-16GB computeCapability: 6.0\n",
      "coreClock: 1.3285GHz coreCount: 56 deviceMemorySize: 15.90GiB deviceMemoryBandwidth: 681.88GiB/s\n",
      "2022-04-16 10:15:04.469702: I tensorflow/stream_executor/platform/default/dso_loader.cc:49] Successfully opened dynamic library libcudart.so.11.0\n",
      "2022-04-16 10:15:04.469726: I tensorflow/stream_executor/platform/default/dso_loader.cc:49] Successfully opened dynamic library libcublas.so.11\n",
      "2022-04-16 10:15:04.469742: I tensorflow/stream_executor/platform/default/dso_loader.cc:49] Successfully opened dynamic library libcublasLt.so.11\n",
      "2022-04-16 10:15:04.469757: I tensorflow/stream_executor/platform/default/dso_loader.cc:49] Successfully opened dynamic library libcufft.so.10\n",
      "2022-04-16 10:15:04.469772: I tensorflow/stream_executor/platform/default/dso_loader.cc:49] Successfully opened dynamic library libcurand.so.10\n",
      "2022-04-16 10:15:04.469787: I tensorflow/stream_executor/platform/default/dso_loader.cc:49] Successfully opened dynamic library libcusolver.so.10\n",
      "2022-04-16 10:15:04.469804: I tensorflow/stream_executor/platform/default/dso_loader.cc:49] Successfully opened dynamic library libcusparse.so.11\n",
      "2022-04-16 10:15:04.469819: I tensorflow/stream_executor/platform/default/dso_loader.cc:49] Successfully opened dynamic library libcudnn.so.8\n",
      "2022-04-16 10:15:04.469891: I tensorflow/stream_executor/cuda/cuda_gpu_executor.cc:941] successful NUMA node read from SysFS had negative value (-1), but there must be at least one NUMA node, so returning NUMA node zero\n",
      "2022-04-16 10:15:04.470536: I tensorflow/stream_executor/cuda/cuda_gpu_executor.cc:941] successful NUMA node read from SysFS had negative value (-1), but there must be at least one NUMA node, so returning NUMA node zero\n",
      "2022-04-16 10:15:04.471108: I tensorflow/core/common_runtime/gpu/gpu_device.cc:1862] Adding visible gpu devices: 0\n",
      "2022-04-16 10:15:04.471902: I tensorflow/stream_executor/platform/default/dso_loader.cc:49] Successfully opened dynamic library libcudart.so.11.0\n",
      "2022-04-16 10:15:05.832789: I tensorflow/core/common_runtime/gpu/gpu_device.cc:1261] Device interconnect StreamExecutor with strength 1 edge matrix:\n",
      "2022-04-16 10:15:05.832838: I tensorflow/core/common_runtime/gpu/gpu_device.cc:1267]      0 \n",
      "2022-04-16 10:15:05.832848: I tensorflow/core/common_runtime/gpu/gpu_device.cc:1280] 0:   N \n",
      "2022-04-16 10:15:05.835031: I tensorflow/stream_executor/cuda/cuda_gpu_executor.cc:941] successful NUMA node read from SysFS had negative value (-1), but there must be at least one NUMA node, so returning NUMA node zero\n",
      "2022-04-16 10:15:05.835817: I tensorflow/stream_executor/cuda/cuda_gpu_executor.cc:941] successful NUMA node read from SysFS had negative value (-1), but there must be at least one NUMA node, so returning NUMA node zero\n",
      "2022-04-16 10:15:05.836503: I tensorflow/stream_executor/cuda/cuda_gpu_executor.cc:941] successful NUMA node read from SysFS had negative value (-1), but there must be at least one NUMA node, so returning NUMA node zero\n",
      "2022-04-16 10:15:05.837094: I tensorflow/core/common_runtime/gpu/gpu_device.cc:1406] Created TensorFlow device (/job:localhost/replica:0/task:0/device:GPU:0 with 14957 MB memory) -> physical GPU (device: 0, name: Tesla P100-PCIE-16GB, pci bus id: 0000:00:04.0, compute capability: 6.0)\n",
      "2022-04-16 10:15:26.224382: I tensorflow/compiler/mlir/mlir_graph_optimization_pass.cc:116] None of the MLIR optimization passes are enabled (registered 2)\n",
      "2022-04-16 10:15:26.233858: I tensorflow/core/platform/profile_utils/cpu_utils.cc:112] CPU Frequency: 2000155000 Hz\n"
     ]
    },
    {
     "name": "stdout",
     "output_type": "stream",
     "text": [
      "Model: \"sequential_1\"\n",
      "_________________________________________________________________\n",
      "Layer (type)                 Output Shape              Param #   \n",
      "=================================================================\n",
      "text_vectorization (TextVect (None, 53)                0         \n",
      "_________________________________________________________________\n",
      "sequential (Sequential)      (None, 1)                 27859389  \n",
      "_________________________________________________________________\n",
      "activation (Activation)      (None, 1)                 0         \n",
      "=================================================================\n",
      "Total params: 27,859,389\n",
      "Trainable params: 27,859,389\n",
      "Non-trainable params: 0\n",
      "_________________________________________________________________\n"
     ]
    }
   ],
   "source": [
    "model = load_model(\"../input/twitter-sentiment-analysis-and-word-embeddings/TSA_model_v4\")\n",
    "model.summary()"
   ]
  },
  {
   "cell_type": "markdown",
   "id": "c989d0d8",
   "metadata": {
    "papermill": {
     "duration": 0.027509,
     "end_time": "2022-04-16T10:15:29.346377",
     "exception": false,
     "start_time": "2022-04-16T10:15:29.318868",
     "status": "completed"
    },
    "tags": []
   },
   "source": [
    "# Set the thresholds : refer to [this link](https://github.com/Justsecret123/Twitter-sentiment-analysis/blob/main/Notebook/twitter-sentiment-analysis.ipynb)"
   ]
  },
  {
   "cell_type": "code",
   "execution_count": 9,
   "id": "9c5ea7a9",
   "metadata": {
    "execution": {
     "iopub.execute_input": "2022-04-16T10:15:29.406712Z",
     "iopub.status.busy": "2022-04-16T10:15:29.405161Z",
     "iopub.status.idle": "2022-04-16T10:15:29.407352Z",
     "shell.execute_reply": "2022-04-16T10:15:29.407753Z",
     "shell.execute_reply.started": "2022-04-16T10:14:08.435168Z"
    },
    "papermill": {
     "duration": 0.034023,
     "end_time": "2022-04-16T10:15:29.407882",
     "exception": false,
     "start_time": "2022-04-16T10:15:29.373859",
     "status": "completed"
    },
    "tags": []
   },
   "outputs": [],
   "source": [
    "threshold = 0.625"
   ]
  },
  {
   "cell_type": "markdown",
   "id": "8eb54773",
   "metadata": {
    "papermill": {
     "duration": 0.027272,
     "end_time": "2022-04-16T10:15:29.462626",
     "exception": false,
     "start_time": "2022-04-16T10:15:29.435354",
     "status": "completed"
    },
    "tags": []
   },
   "source": [
    "# Run inferences"
   ]
  },
  {
   "cell_type": "markdown",
   "id": "b73d6acd",
   "metadata": {
    "papermill": {
     "duration": 0.0278,
     "end_time": "2022-04-16T10:15:29.517908",
     "exception": false,
     "start_time": "2022-04-16T10:15:29.490108",
     "status": "completed"
    },
    "tags": []
   },
   "source": [
    "## Messi dataset"
   ]
  },
  {
   "cell_type": "code",
   "execution_count": 10,
   "id": "8e3ff974",
   "metadata": {
    "execution": {
     "iopub.execute_input": "2022-04-16T10:15:29.577220Z",
     "iopub.status.busy": "2022-04-16T10:15:29.576444Z",
     "iopub.status.idle": "2022-04-16T10:15:29.582729Z",
     "shell.execute_reply": "2022-04-16T10:15:29.582242Z",
     "shell.execute_reply.started": "2022-04-16T07:25:09.030059Z"
    },
    "papermill": {
     "duration": 0.037389,
     "end_time": "2022-04-16T10:15:29.582850",
     "exception": false,
     "start_time": "2022-04-16T10:15:29.545461",
     "status": "completed"
    },
    "tags": []
   },
   "outputs": [
    {
     "data": {
      "text/plain": [
       "0                         when did this happened messi\n",
       "1    highest ranking active players on my all time ...\n",
       "2    don t get me wrong mate i know he was good but...\n",
       "3                             messi fans have no shame\n",
       "4                     messi has to pay now 50m to play\n",
       "5                                         you re mines\n",
       "6    nigeria must cease being a killing field peter...\n",
       "7                    prime ronaldo and messi instantly\n",
       "8    karim benzema joins lionel messi and cristiano...\n",
       "9    how many goal does the finished messi have 3 d...\n",
       "Name: content, dtype: object"
      ]
     },
     "execution_count": 10,
     "metadata": {},
     "output_type": "execute_result"
    }
   ],
   "source": [
    "X_messi = dataset_messi[\"content\"]\n",
    "X_messi.head(10)"
   ]
  },
  {
   "cell_type": "markdown",
   "id": "70001d38",
   "metadata": {
    "papermill": {
     "duration": 0.027674,
     "end_time": "2022-04-16T10:15:29.638661",
     "exception": false,
     "start_time": "2022-04-16T10:15:29.610987",
     "status": "completed"
    },
    "tags": []
   },
   "source": [
    "### Check data"
   ]
  },
  {
   "cell_type": "code",
   "execution_count": 11,
   "id": "7bfb1f45",
   "metadata": {
    "execution": {
     "iopub.execute_input": "2022-04-16T10:15:29.698619Z",
     "iopub.status.busy": "2022-04-16T10:15:29.698038Z",
     "iopub.status.idle": "2022-04-16T10:15:56.384261Z",
     "shell.execute_reply": "2022-04-16T10:15:56.384757Z",
     "shell.execute_reply.started": "2022-04-16T07:25:09.939909Z"
    },
    "papermill": {
     "duration": 26.718458,
     "end_time": "2022-04-16T10:15:56.384922",
     "exception": false,
     "start_time": "2022-04-16T10:15:29.666464",
     "status": "completed"
    },
    "tags": []
   },
   "outputs": [
    {
     "name": "stderr",
     "output_type": "stream",
     "text": [
      "2022-04-16 10:15:31.341168: I tensorflow/stream_executor/platform/default/dso_loader.cc:49] Successfully opened dynamic library libcublas.so.11\n",
      "2022-04-16 10:15:32.060244: I tensorflow/stream_executor/platform/default/dso_loader.cc:49] Successfully opened dynamic library libcublasLt.so.11\n",
      "2022-04-16 10:15:32.117746: I tensorflow/stream_executor/platform/default/dso_loader.cc:49] Successfully opened dynamic library libcudnn.so.8\n"
     ]
    }
   ],
   "source": [
    "predictions_messi = model.predict(X_messi)"
   ]
  },
  {
   "cell_type": "markdown",
   "id": "7401702e",
   "metadata": {
    "papermill": {
     "duration": 0.028173,
     "end_time": "2022-04-16T10:15:56.442528",
     "exception": false,
     "start_time": "2022-04-16T10:15:56.414355",
     "status": "completed"
    },
    "tags": []
   },
   "source": [
    "### Display some results"
   ]
  },
  {
   "cell_type": "code",
   "execution_count": 12,
   "id": "9cf1d9e5",
   "metadata": {
    "execution": {
     "iopub.execute_input": "2022-04-16T10:15:56.503792Z",
     "iopub.status.busy": "2022-04-16T10:15:56.503079Z",
     "iopub.status.idle": "2022-04-16T10:15:56.511979Z",
     "shell.execute_reply": "2022-04-16T10:15:56.511543Z",
     "shell.execute_reply.started": "2022-04-16T07:25:36.007647Z"
    },
    "papermill": {
     "duration": 0.041089,
     "end_time": "2022-04-16T10:15:56.512116",
     "exception": false,
     "start_time": "2022-04-16T10:15:56.471027",
     "status": "completed"
    },
    "tags": []
   },
   "outputs": [
    {
     "name": "stdout",
     "output_type": "stream",
     "text": [
      "Tweet: when did this happened messi ||| Score : [0.7044735]\n",
      "Tweet: highest ranking active players on my all time top 75 for now 1 l messi 5th 2 c ronaldo 8th 3 a iniesta 31st 4 g buffon 34th 5 neymar jr 43rd 6 l modri 62nd 7 k de bruyne 67th 8 r lewandowski 68th 9 z ibrahimovi 70th 10 m neuer 72nd ||| Score : [0.5355405]\n",
      "Tweet: don t get me wrong mate i know he was good but for me messi trumps everyone that fella is insane ||| Score : [0.619831]\n",
      "Tweet: messi fans have no shame ||| Score : [0.7156492]\n",
      "Tweet: messi has to pay now 50m to play ||| Score : [0.7179817]\n",
      "Tweet: you re mines ||| Score : [0.71386266]\n",
      "Tweet: nigeria must cease being a killing field peter obi plateau benue massacre news benuemassacre nigeria peterobi plateau bbnaija messi wizkid davido ||| Score : [0.5798119]\n",
      "Tweet: prime ronaldo and messi instantly ||| Score : [0.7241524]\n",
      "Tweet: karim benzema joins lionel messi and cristiano ronaldo in accomplishing champions league feat football ||| Score : [0.70077986]\n",
      "Tweet: how many goal does the finished messi have 3 dog ronaldo being in the hardest league bro he d got 18 in all competition so stop capping unnecessarily dog ||| Score : [0.53929377]\n"
     ]
    }
   ],
   "source": [
    "for i in range(10): \n",
    "    print(f\"Tweet: {X_messi[i]} ||| Score : {predictions_messi[i]}\")"
   ]
  },
  {
   "cell_type": "markdown",
   "id": "5ecf4b5d",
   "metadata": {
    "papermill": {
     "duration": 0.028374,
     "end_time": "2022-04-16T10:15:56.568903",
     "exception": false,
     "start_time": "2022-04-16T10:15:56.540529",
     "status": "completed"
    },
    "tags": []
   },
   "source": [
    "## Ronaldo dataset"
   ]
  },
  {
   "cell_type": "code",
   "execution_count": 13,
   "id": "ec1dc38d",
   "metadata": {
    "execution": {
     "iopub.execute_input": "2022-04-16T10:15:56.632500Z",
     "iopub.status.busy": "2022-04-16T10:15:56.631955Z",
     "iopub.status.idle": "2022-04-16T10:15:56.637037Z",
     "shell.execute_reply": "2022-04-16T10:15:56.636622Z",
     "shell.execute_reply.started": "2022-04-16T07:25:36.020972Z"
    },
    "papermill": {
     "duration": 0.039801,
     "end_time": "2022-04-16T10:15:56.637197",
     "exception": false,
     "start_time": "2022-04-16T10:15:56.597396",
     "status": "completed"
    },
    "tags": []
   },
   "outputs": [
    {
     "data": {
      "text/plain": [
       "0    dressing room source at ajax there s been crit...\n",
       "1    highest ranking active players on my all time ...\n",
       "2    i personally feel that cdm is the most importa...\n",
       "3    timber that s it these are the three essential...\n",
       "4    a quick reminder that cristiano ronaldo is the...\n",
       "Name: content, dtype: object"
      ]
     },
     "execution_count": 13,
     "metadata": {},
     "output_type": "execute_result"
    }
   ],
   "source": [
    "X_ronaldo = dataset_ronaldo[\"content\"]\n",
    "X_ronaldo.head(5)"
   ]
  },
  {
   "cell_type": "code",
   "execution_count": 14,
   "id": "d669beb8",
   "metadata": {
    "execution": {
     "iopub.execute_input": "2022-04-16T10:15:56.699368Z",
     "iopub.status.busy": "2022-04-16T10:15:56.696894Z",
     "iopub.status.idle": "2022-04-16T10:16:15.441655Z",
     "shell.execute_reply": "2022-04-16T10:16:15.441143Z",
     "shell.execute_reply.started": "2022-04-16T07:25:36.031499Z"
    },
    "papermill": {
     "duration": 18.775833,
     "end_time": "2022-04-16T10:16:15.441798",
     "exception": false,
     "start_time": "2022-04-16T10:15:56.665965",
     "status": "completed"
    },
    "tags": []
   },
   "outputs": [],
   "source": [
    "predictions_ronaldo = model.predict(X_ronaldo)"
   ]
  },
  {
   "cell_type": "markdown",
   "id": "041771b8",
   "metadata": {
    "papermill": {
     "duration": 0.02929,
     "end_time": "2022-04-16T10:16:15.500474",
     "exception": false,
     "start_time": "2022-04-16T10:16:15.471184",
     "status": "completed"
    },
    "tags": []
   },
   "source": [
    "### Display some results"
   ]
  },
  {
   "cell_type": "code",
   "execution_count": 15,
   "id": "2a267cfb",
   "metadata": {
    "execution": {
     "iopub.execute_input": "2022-04-16T10:16:15.563934Z",
     "iopub.status.busy": "2022-04-16T10:16:15.563221Z",
     "iopub.status.idle": "2022-04-16T10:16:15.572452Z",
     "shell.execute_reply": "2022-04-16T10:16:15.571957Z",
     "shell.execute_reply.started": "2022-04-16T07:25:55.369484Z"
    },
    "papermill": {
     "duration": 0.042527,
     "end_time": "2022-04-16T10:16:15.572569",
     "exception": false,
     "start_time": "2022-04-16T10:16:15.530042",
     "status": "completed"
    },
    "tags": []
   },
   "outputs": [
    {
     "name": "stdout",
     "output_type": "stream",
     "text": [
      "Tweet: dressing room source at ajax there s been criticism of him ten hag for playing blind just because of the surname so we re curious to see how he handles cristiano ronaldo and co mufc ||| Score : [0.68055373]\n",
      "Tweet: highest ranking active players on my all time top 75 for now 1 l messi 5th 2 c ronaldo 8th 3 a iniesta 31st 4 g buffon 34th 5 neymar jr 43rd 6 l modri 62nd 7 k de bruyne 67th 8 r lewandowski 68th 9 z ibrahimovi 70th 10 m neuer 72nd ||| Score : [0.5355405]\n",
      "Tweet: i personally feel that cdm is the most important position after we buy a cdm that will ultimately determine the budget for the rest of the positions ronaldo is unlikely to leave if cavani leaves we still can bring a youth into the system ||| Score : [0.5631666]\n",
      "Tweet: timber that s it these are the three essential transfer mufc needs to pull off this summer to give a fight in domestic competitions and release players with huge salary amp free up funds for them cr7 should not be at ot next ssn ||| Score : [0.6851202]\n",
      "Tweet: a quick reminder that cristiano ronaldo is the greatest player of all time like how can he own atletico madrid who park the bus with 12 players ||| Score : [0.6760288]\n",
      "Tweet: nice to drive past a stadium where a few records have been broken by cr7 est dio algarve ||| Score : [0.7244033]\n",
      "Tweet: prime ronaldo and messi instantly ||| Score : [0.7241524]\n",
      "Tweet: on a serious note quaresma had more skills than ronaldo but lacked discipline true or false ||| Score : [0.6819503]\n",
      "Tweet: karim benzema joins lionel messi and cristiano ronaldo in accomplishing champions league feat football ||| Score : [0.70077986]\n",
      "Tweet: how many goal does the finished messi have 3 dog ronaldo being in the hardest league bro he d got 18 in all competition so stop capping unnecessarily dog ||| Score : [0.53929377]\n"
     ]
    }
   ],
   "source": [
    "for i in range(10): \n",
    "    print(f\"Tweet: {X_ronaldo[i]} ||| Score : {predictions_ronaldo[i]}\")"
   ]
  },
  {
   "cell_type": "markdown",
   "id": "383aaed9",
   "metadata": {
    "papermill": {
     "duration": 0.029221,
     "end_time": "2022-04-16T10:16:15.631962",
     "exception": false,
     "start_time": "2022-04-16T10:16:15.602741",
     "status": "completed"
    },
    "tags": []
   },
   "source": [
    "# Assign the predictions to the dataset"
   ]
  },
  {
   "cell_type": "markdown",
   "id": "f755bb92",
   "metadata": {
    "papermill": {
     "duration": 0.028938,
     "end_time": "2022-04-16T10:16:15.690189",
     "exception": false,
     "start_time": "2022-04-16T10:16:15.661251",
     "status": "completed"
    },
    "tags": []
   },
   "source": [
    "## Messi"
   ]
  },
  {
   "cell_type": "code",
   "execution_count": 16,
   "id": "47f09b07",
   "metadata": {
    "execution": {
     "iopub.execute_input": "2022-04-16T10:16:15.763419Z",
     "iopub.status.busy": "2022-04-16T10:16:15.762739Z",
     "iopub.status.idle": "2022-04-16T10:16:15.768074Z",
     "shell.execute_reply": "2022-04-16T10:16:15.767661Z",
     "shell.execute_reply.started": "2022-04-16T07:25:55.38265Z"
    },
    "papermill": {
     "duration": 0.04884,
     "end_time": "2022-04-16T10:16:15.768195",
     "exception": false,
     "start_time": "2022-04-16T10:16:15.719355",
     "status": "completed"
    },
    "tags": []
   },
   "outputs": [
    {
     "data": {
      "text/html": [
       "<div>\n",
       "<style scoped>\n",
       "    .dataframe tbody tr th:only-of-type {\n",
       "        vertical-align: middle;\n",
       "    }\n",
       "\n",
       "    .dataframe tbody tr th {\n",
       "        vertical-align: top;\n",
       "    }\n",
       "\n",
       "    .dataframe thead th {\n",
       "        text-align: right;\n",
       "    }\n",
       "</style>\n",
       "<table border=\"1\" class=\"dataframe\">\n",
       "  <thead>\n",
       "    <tr style=\"text-align: right;\">\n",
       "      <th></th>\n",
       "      <th>tweet_id</th>\n",
       "      <th>author_id</th>\n",
       "      <th>content</th>\n",
       "      <th>lang</th>\n",
       "      <th>date</th>\n",
       "      <th>source</th>\n",
       "      <th>geo</th>\n",
       "      <th>retweet_count</th>\n",
       "      <th>like_count</th>\n",
       "      <th>quote_count</th>\n",
       "      <th>prediction</th>\n",
       "    </tr>\n",
       "  </thead>\n",
       "  <tbody>\n",
       "    <tr>\n",
       "      <th>0</th>\n",
       "      <td>1514503439291543554</td>\n",
       "      <td>1504674335533187078</td>\n",
       "      <td>when did this happened messi</td>\n",
       "      <td>en</td>\n",
       "      <td>2022-04-14T07:18:52.000Z</td>\n",
       "      <td>Twitter for Android</td>\n",
       "      <td>-1</td>\n",
       "      <td>1</td>\n",
       "      <td>1</td>\n",
       "      <td>0</td>\n",
       "      <td>0.704473</td>\n",
       "    </tr>\n",
       "    <tr>\n",
       "      <th>1</th>\n",
       "      <td>1514503399462432770</td>\n",
       "      <td>1437183590781964290</td>\n",
       "      <td>highest ranking active players on my all time ...</td>\n",
       "      <td>en</td>\n",
       "      <td>2022-04-14T07:18:43.000Z</td>\n",
       "      <td>Twitter for iPhone</td>\n",
       "      <td>-1</td>\n",
       "      <td>0</td>\n",
       "      <td>0</td>\n",
       "      <td>0</td>\n",
       "      <td>0.535541</td>\n",
       "    </tr>\n",
       "    <tr>\n",
       "      <th>2</th>\n",
       "      <td>1514503259762958336</td>\n",
       "      <td>819679110</td>\n",
       "      <td>don t get me wrong mate i know he was good but...</td>\n",
       "      <td>en</td>\n",
       "      <td>2022-04-14T07:18:09.000Z</td>\n",
       "      <td>Twitter for iPhone</td>\n",
       "      <td>-1</td>\n",
       "      <td>0</td>\n",
       "      <td>0</td>\n",
       "      <td>0</td>\n",
       "      <td>0.619831</td>\n",
       "    </tr>\n",
       "    <tr>\n",
       "      <th>3</th>\n",
       "      <td>1514503228221702144</td>\n",
       "      <td>1012688452863909891</td>\n",
       "      <td>messi fans have no shame</td>\n",
       "      <td>en</td>\n",
       "      <td>2022-04-14T07:18:02.000Z</td>\n",
       "      <td>Twitter for Android</td>\n",
       "      <td>-1</td>\n",
       "      <td>0</td>\n",
       "      <td>0</td>\n",
       "      <td>0</td>\n",
       "      <td>0.715649</td>\n",
       "    </tr>\n",
       "    <tr>\n",
       "      <th>4</th>\n",
       "      <td>1514503144478322688</td>\n",
       "      <td>1309496212345810944</td>\n",
       "      <td>messi has to pay now 50m to play</td>\n",
       "      <td>en</td>\n",
       "      <td>2022-04-14T07:17:42.000Z</td>\n",
       "      <td>Twitter for Android</td>\n",
       "      <td>-1</td>\n",
       "      <td>0</td>\n",
       "      <td>1</td>\n",
       "      <td>0</td>\n",
       "      <td>0.717982</td>\n",
       "    </tr>\n",
       "  </tbody>\n",
       "</table>\n",
       "</div>"
      ],
      "text/plain": [
       "              tweet_id            author_id  \\\n",
       "0  1514503439291543554  1504674335533187078   \n",
       "1  1514503399462432770  1437183590781964290   \n",
       "2  1514503259762958336            819679110   \n",
       "3  1514503228221702144  1012688452863909891   \n",
       "4  1514503144478322688  1309496212345810944   \n",
       "\n",
       "                                             content lang  \\\n",
       "0                       when did this happened messi   en   \n",
       "1  highest ranking active players on my all time ...   en   \n",
       "2  don t get me wrong mate i know he was good but...   en   \n",
       "3                           messi fans have no shame   en   \n",
       "4                   messi has to pay now 50m to play   en   \n",
       "\n",
       "                       date               source geo  retweet_count  \\\n",
       "0  2022-04-14T07:18:52.000Z  Twitter for Android  -1              1   \n",
       "1  2022-04-14T07:18:43.000Z   Twitter for iPhone  -1              0   \n",
       "2  2022-04-14T07:18:09.000Z   Twitter for iPhone  -1              0   \n",
       "3  2022-04-14T07:18:02.000Z  Twitter for Android  -1              0   \n",
       "4  2022-04-14T07:17:42.000Z  Twitter for Android  -1              0   \n",
       "\n",
       "   like_count  quote_count  prediction  \n",
       "0           1            0    0.704473  \n",
       "1           0            0    0.535541  \n",
       "2           0            0    0.619831  \n",
       "3           0            0    0.715649  \n",
       "4           1            0    0.717982  "
      ]
     },
     "execution_count": 16,
     "metadata": {},
     "output_type": "execute_result"
    }
   ],
   "source": [
    "dataset_messi[\"prediction\"] = predictions_messi\n",
    "dataset_messi.head(5)"
   ]
  },
  {
   "cell_type": "markdown",
   "id": "70f5da95",
   "metadata": {
    "papermill": {
     "duration": 0.02938,
     "end_time": "2022-04-16T10:16:15.827162",
     "exception": false,
     "start_time": "2022-04-16T10:16:15.797782",
     "status": "completed"
    },
    "tags": []
   },
   "source": [
    "## Ronaldo"
   ]
  },
  {
   "cell_type": "code",
   "execution_count": 17,
   "id": "0281eb0f",
   "metadata": {
    "execution": {
     "iopub.execute_input": "2022-04-16T10:16:15.910768Z",
     "iopub.status.busy": "2022-04-16T10:16:15.909781Z",
     "iopub.status.idle": "2022-04-16T10:16:15.914901Z",
     "shell.execute_reply": "2022-04-16T10:16:15.915356Z",
     "shell.execute_reply.started": "2022-04-16T07:25:55.400803Z"
    },
    "papermill": {
     "duration": 0.058422,
     "end_time": "2022-04-16T10:16:15.915504",
     "exception": false,
     "start_time": "2022-04-16T10:16:15.857082",
     "status": "completed"
    },
    "tags": []
   },
   "outputs": [
    {
     "data": {
      "text/html": [
       "<div>\n",
       "<style scoped>\n",
       "    .dataframe tbody tr th:only-of-type {\n",
       "        vertical-align: middle;\n",
       "    }\n",
       "\n",
       "    .dataframe tbody tr th {\n",
       "        vertical-align: top;\n",
       "    }\n",
       "\n",
       "    .dataframe thead th {\n",
       "        text-align: right;\n",
       "    }\n",
       "</style>\n",
       "<table border=\"1\" class=\"dataframe\">\n",
       "  <thead>\n",
       "    <tr style=\"text-align: right;\">\n",
       "      <th></th>\n",
       "      <th>tweet_id</th>\n",
       "      <th>author_id</th>\n",
       "      <th>content</th>\n",
       "      <th>lang</th>\n",
       "      <th>date</th>\n",
       "      <th>source</th>\n",
       "      <th>geo</th>\n",
       "      <th>retweet_count</th>\n",
       "      <th>like_count</th>\n",
       "      <th>quote_count</th>\n",
       "      <th>prediction</th>\n",
       "    </tr>\n",
       "  </thead>\n",
       "  <tbody>\n",
       "    <tr>\n",
       "      <th>0</th>\n",
       "      <td>1514503408820051969</td>\n",
       "      <td>1406215235829182470</td>\n",
       "      <td>dressing room source at ajax there s been crit...</td>\n",
       "      <td>en</td>\n",
       "      <td>2022-04-14T07:18:45.000Z</td>\n",
       "      <td>Twitter Web App</td>\n",
       "      <td>-1</td>\n",
       "      <td>0.0</td>\n",
       "      <td>0.0</td>\n",
       "      <td>0.0</td>\n",
       "      <td>0.680554</td>\n",
       "    </tr>\n",
       "    <tr>\n",
       "      <th>1</th>\n",
       "      <td>1514503399462432770</td>\n",
       "      <td>1437183590781964290</td>\n",
       "      <td>highest ranking active players on my all time ...</td>\n",
       "      <td>en</td>\n",
       "      <td>2022-04-14T07:18:43.000Z</td>\n",
       "      <td>Twitter for iPhone</td>\n",
       "      <td>-1</td>\n",
       "      <td>0.0</td>\n",
       "      <td>0.0</td>\n",
       "      <td>0.0</td>\n",
       "      <td>0.535541</td>\n",
       "    </tr>\n",
       "    <tr>\n",
       "      <th>2</th>\n",
       "      <td>1514503356764418051</td>\n",
       "      <td>1215836950931705856</td>\n",
       "      <td>i personally feel that cdm is the most importa...</td>\n",
       "      <td>en</td>\n",
       "      <td>2022-04-14T07:18:33.000Z</td>\n",
       "      <td>Twitter for Android</td>\n",
       "      <td>-1</td>\n",
       "      <td>0.0</td>\n",
       "      <td>0.0</td>\n",
       "      <td>0.0</td>\n",
       "      <td>0.563167</td>\n",
       "    </tr>\n",
       "    <tr>\n",
       "      <th>3</th>\n",
       "      <td>1514503333112864771</td>\n",
       "      <td>1201535456141168640</td>\n",
       "      <td>timber that s it these are the three essential...</td>\n",
       "      <td>en</td>\n",
       "      <td>2022-04-14T07:18:27.000Z</td>\n",
       "      <td>Twitter for Android</td>\n",
       "      <td>-1</td>\n",
       "      <td>0.0</td>\n",
       "      <td>0.0</td>\n",
       "      <td>0.0</td>\n",
       "      <td>0.685120</td>\n",
       "    </tr>\n",
       "    <tr>\n",
       "      <th>4</th>\n",
       "      <td>1514503191563579394</td>\n",
       "      <td>1080591523715129344</td>\n",
       "      <td>a quick reminder that cristiano ronaldo is the...</td>\n",
       "      <td>en</td>\n",
       "      <td>2022-04-14T07:17:53.000Z</td>\n",
       "      <td>Twitter for iPhone</td>\n",
       "      <td>-1</td>\n",
       "      <td>0.0</td>\n",
       "      <td>0.0</td>\n",
       "      <td>0.0</td>\n",
       "      <td>0.676029</td>\n",
       "    </tr>\n",
       "  </tbody>\n",
       "</table>\n",
       "</div>"
      ],
      "text/plain": [
       "              tweet_id            author_id  \\\n",
       "0  1514503408820051969  1406215235829182470   \n",
       "1  1514503399462432770  1437183590781964290   \n",
       "2  1514503356764418051  1215836950931705856   \n",
       "3  1514503333112864771  1201535456141168640   \n",
       "4  1514503191563579394  1080591523715129344   \n",
       "\n",
       "                                             content lang  \\\n",
       "0  dressing room source at ajax there s been crit...   en   \n",
       "1  highest ranking active players on my all time ...   en   \n",
       "2  i personally feel that cdm is the most importa...   en   \n",
       "3  timber that s it these are the three essential...   en   \n",
       "4  a quick reminder that cristiano ronaldo is the...   en   \n",
       "\n",
       "                       date               source geo  retweet_count  \\\n",
       "0  2022-04-14T07:18:45.000Z      Twitter Web App  -1            0.0   \n",
       "1  2022-04-14T07:18:43.000Z   Twitter for iPhone  -1            0.0   \n",
       "2  2022-04-14T07:18:33.000Z  Twitter for Android  -1            0.0   \n",
       "3  2022-04-14T07:18:27.000Z  Twitter for Android  -1            0.0   \n",
       "4  2022-04-14T07:17:53.000Z   Twitter for iPhone  -1            0.0   \n",
       "\n",
       "   like_count  quote_count  prediction  \n",
       "0         0.0          0.0    0.680554  \n",
       "1         0.0          0.0    0.535541  \n",
       "2         0.0          0.0    0.563167  \n",
       "3         0.0          0.0    0.685120  \n",
       "4         0.0          0.0    0.676029  "
      ]
     },
     "execution_count": 17,
     "metadata": {},
     "output_type": "execute_result"
    }
   ],
   "source": [
    "dataset_ronaldo[\"prediction\"] = predictions_ronaldo\n",
    "dataset_ronaldo.head(5)"
   ]
  },
  {
   "cell_type": "markdown",
   "id": "7ece2fde",
   "metadata": {
    "papermill": {
     "duration": 0.030545,
     "end_time": "2022-04-16T10:16:15.978662",
     "exception": false,
     "start_time": "2022-04-16T10:16:15.948117",
     "status": "completed"
    },
    "tags": []
   },
   "source": [
    "# Convett predictions to labels"
   ]
  },
  {
   "cell_type": "markdown",
   "id": "02a1a971",
   "metadata": {
    "papermill": {
     "duration": 0.030503,
     "end_time": "2022-04-16T10:16:16.039884",
     "exception": false,
     "start_time": "2022-04-16T10:16:16.009381",
     "status": "completed"
    },
    "tags": []
   },
   "source": [
    "## Define the processing function"
   ]
  },
  {
   "cell_type": "code",
   "execution_count": 18,
   "id": "7cbd5428",
   "metadata": {
    "execution": {
     "iopub.execute_input": "2022-04-16T10:16:16.107805Z",
     "iopub.status.busy": "2022-04-16T10:16:16.106939Z",
     "iopub.status.idle": "2022-04-16T10:16:16.109534Z",
     "shell.execute_reply": "2022-04-16T10:16:16.109061Z",
     "shell.execute_reply.started": "2022-04-16T07:25:55.432637Z"
    },
    "papermill": {
     "duration": 0.039178,
     "end_time": "2022-04-16T10:16:16.109643",
     "exception": false,
     "start_time": "2022-04-16T10:16:16.070465",
     "status": "completed"
    },
    "tags": []
   },
   "outputs": [],
   "source": [
    "def assign_label(x):\n",
    "    \"\"\"\n",
    "    Parameters\n",
    "    ----------\n",
    "    x : SCORE\n",
    "        The prediction score\n",
    "\n",
    "    Returns\n",
    "    -------\n",
    "    label : STRING\n",
    "        The sentiment of the tweet.\n",
    "    \"\"\"\n",
    "    rounded_x = round(x,2)\n",
    "    label = \"\"\n",
    "    if rounded_x >= 0.593: \n",
    "        label = \"Positive\"\n",
    "    else:\n",
    "        label = \"Negative\"\n",
    "    return label"
   ]
  },
  {
   "cell_type": "markdown",
   "id": "085beeda",
   "metadata": {
    "papermill": {
     "duration": 0.029875,
     "end_time": "2022-04-16T10:16:16.169828",
     "exception": false,
     "start_time": "2022-04-16T10:16:16.139953",
     "status": "completed"
    },
    "tags": []
   },
   "source": [
    "## Application : Messi Dataset"
   ]
  },
  {
   "cell_type": "code",
   "execution_count": 19,
   "id": "65df2344",
   "metadata": {
    "execution": {
     "iopub.execute_input": "2022-04-16T10:16:16.244211Z",
     "iopub.status.busy": "2022-04-16T10:16:16.235901Z",
     "iopub.status.idle": "2022-04-16T10:16:16.325089Z",
     "shell.execute_reply": "2022-04-16T10:16:16.325506Z",
     "shell.execute_reply.started": "2022-04-16T07:25:55.440929Z"
    },
    "papermill": {
     "duration": 0.125496,
     "end_time": "2022-04-16T10:16:16.325641",
     "exception": false,
     "start_time": "2022-04-16T10:16:16.200145",
     "status": "completed"
    },
    "tags": []
   },
   "outputs": [
    {
     "data": {
      "text/html": [
       "<div>\n",
       "<style scoped>\n",
       "    .dataframe tbody tr th:only-of-type {\n",
       "        vertical-align: middle;\n",
       "    }\n",
       "\n",
       "    .dataframe tbody tr th {\n",
       "        vertical-align: top;\n",
       "    }\n",
       "\n",
       "    .dataframe thead th {\n",
       "        text-align: right;\n",
       "    }\n",
       "</style>\n",
       "<table border=\"1\" class=\"dataframe\">\n",
       "  <thead>\n",
       "    <tr style=\"text-align: right;\">\n",
       "      <th></th>\n",
       "      <th>tweet_id</th>\n",
       "      <th>author_id</th>\n",
       "      <th>content</th>\n",
       "      <th>lang</th>\n",
       "      <th>date</th>\n",
       "      <th>source</th>\n",
       "      <th>geo</th>\n",
       "      <th>retweet_count</th>\n",
       "      <th>like_count</th>\n",
       "      <th>quote_count</th>\n",
       "      <th>prediction</th>\n",
       "      <th>label</th>\n",
       "    </tr>\n",
       "  </thead>\n",
       "  <tbody>\n",
       "    <tr>\n",
       "      <th>0</th>\n",
       "      <td>1514503439291543554</td>\n",
       "      <td>1504674335533187078</td>\n",
       "      <td>when did this happened messi</td>\n",
       "      <td>en</td>\n",
       "      <td>2022-04-14T07:18:52.000Z</td>\n",
       "      <td>Twitter for Android</td>\n",
       "      <td>-1</td>\n",
       "      <td>1</td>\n",
       "      <td>1</td>\n",
       "      <td>0</td>\n",
       "      <td>0.704473</td>\n",
       "      <td>Positive</td>\n",
       "    </tr>\n",
       "    <tr>\n",
       "      <th>1</th>\n",
       "      <td>1514503399462432770</td>\n",
       "      <td>1437183590781964290</td>\n",
       "      <td>highest ranking active players on my all time ...</td>\n",
       "      <td>en</td>\n",
       "      <td>2022-04-14T07:18:43.000Z</td>\n",
       "      <td>Twitter for iPhone</td>\n",
       "      <td>-1</td>\n",
       "      <td>0</td>\n",
       "      <td>0</td>\n",
       "      <td>0</td>\n",
       "      <td>0.535541</td>\n",
       "      <td>Negative</td>\n",
       "    </tr>\n",
       "    <tr>\n",
       "      <th>2</th>\n",
       "      <td>1514503259762958336</td>\n",
       "      <td>819679110</td>\n",
       "      <td>don t get me wrong mate i know he was good but...</td>\n",
       "      <td>en</td>\n",
       "      <td>2022-04-14T07:18:09.000Z</td>\n",
       "      <td>Twitter for iPhone</td>\n",
       "      <td>-1</td>\n",
       "      <td>0</td>\n",
       "      <td>0</td>\n",
       "      <td>0</td>\n",
       "      <td>0.619831</td>\n",
       "      <td>Positive</td>\n",
       "    </tr>\n",
       "    <tr>\n",
       "      <th>3</th>\n",
       "      <td>1514503228221702144</td>\n",
       "      <td>1012688452863909891</td>\n",
       "      <td>messi fans have no shame</td>\n",
       "      <td>en</td>\n",
       "      <td>2022-04-14T07:18:02.000Z</td>\n",
       "      <td>Twitter for Android</td>\n",
       "      <td>-1</td>\n",
       "      <td>0</td>\n",
       "      <td>0</td>\n",
       "      <td>0</td>\n",
       "      <td>0.715649</td>\n",
       "      <td>Positive</td>\n",
       "    </tr>\n",
       "    <tr>\n",
       "      <th>4</th>\n",
       "      <td>1514503144478322688</td>\n",
       "      <td>1309496212345810944</td>\n",
       "      <td>messi has to pay now 50m to play</td>\n",
       "      <td>en</td>\n",
       "      <td>2022-04-14T07:17:42.000Z</td>\n",
       "      <td>Twitter for Android</td>\n",
       "      <td>-1</td>\n",
       "      <td>0</td>\n",
       "      <td>1</td>\n",
       "      <td>0</td>\n",
       "      <td>0.717982</td>\n",
       "      <td>Positive</td>\n",
       "    </tr>\n",
       "  </tbody>\n",
       "</table>\n",
       "</div>"
      ],
      "text/plain": [
       "              tweet_id            author_id  \\\n",
       "0  1514503439291543554  1504674335533187078   \n",
       "1  1514503399462432770  1437183590781964290   \n",
       "2  1514503259762958336            819679110   \n",
       "3  1514503228221702144  1012688452863909891   \n",
       "4  1514503144478322688  1309496212345810944   \n",
       "\n",
       "                                             content lang  \\\n",
       "0                       when did this happened messi   en   \n",
       "1  highest ranking active players on my all time ...   en   \n",
       "2  don t get me wrong mate i know he was good but...   en   \n",
       "3                           messi fans have no shame   en   \n",
       "4                   messi has to pay now 50m to play   en   \n",
       "\n",
       "                       date               source geo  retweet_count  \\\n",
       "0  2022-04-14T07:18:52.000Z  Twitter for Android  -1              1   \n",
       "1  2022-04-14T07:18:43.000Z   Twitter for iPhone  -1              0   \n",
       "2  2022-04-14T07:18:09.000Z   Twitter for iPhone  -1              0   \n",
       "3  2022-04-14T07:18:02.000Z  Twitter for Android  -1              0   \n",
       "4  2022-04-14T07:17:42.000Z  Twitter for Android  -1              0   \n",
       "\n",
       "   like_count  quote_count  prediction     label  \n",
       "0           1            0    0.704473  Positive  \n",
       "1           0            0    0.535541  Negative  \n",
       "2           0            0    0.619831  Positive  \n",
       "3           0            0    0.715649  Positive  \n",
       "4           1            0    0.717982  Positive  "
      ]
     },
     "execution_count": 19,
     "metadata": {},
     "output_type": "execute_result"
    }
   ],
   "source": [
    " # Create a column named \"label\"\n",
    "dataset_messi[\"label\"] = \"0\"\n",
    "dataset_messi[\"label\"] = dataset_messi.prediction.apply(lambda x: assign_label(x))\n",
    "dataset_messi.head(5)"
   ]
  },
  {
   "cell_type": "markdown",
   "id": "f03ab492",
   "metadata": {
    "papermill": {
     "duration": 0.030544,
     "end_time": "2022-04-16T10:16:16.387371",
     "exception": false,
     "start_time": "2022-04-16T10:16:16.356827",
     "status": "completed"
    },
    "tags": []
   },
   "source": [
    "## Application : Ronaldo Dataset"
   ]
  },
  {
   "cell_type": "code",
   "execution_count": 20,
   "id": "e326a7d8",
   "metadata": {
    "execution": {
     "iopub.execute_input": "2022-04-16T10:16:16.457368Z",
     "iopub.status.busy": "2022-04-16T10:16:16.456803Z",
     "iopub.status.idle": "2022-04-16T10:16:16.544640Z",
     "shell.execute_reply": "2022-04-16T10:16:16.545010Z",
     "shell.execute_reply.started": "2022-04-16T07:25:55.54033Z"
    },
    "papermill": {
     "duration": 0.12706,
     "end_time": "2022-04-16T10:16:16.545198",
     "exception": false,
     "start_time": "2022-04-16T10:16:16.418138",
     "status": "completed"
    },
    "tags": []
   },
   "outputs": [
    {
     "data": {
      "text/html": [
       "<div>\n",
       "<style scoped>\n",
       "    .dataframe tbody tr th:only-of-type {\n",
       "        vertical-align: middle;\n",
       "    }\n",
       "\n",
       "    .dataframe tbody tr th {\n",
       "        vertical-align: top;\n",
       "    }\n",
       "\n",
       "    .dataframe thead th {\n",
       "        text-align: right;\n",
       "    }\n",
       "</style>\n",
       "<table border=\"1\" class=\"dataframe\">\n",
       "  <thead>\n",
       "    <tr style=\"text-align: right;\">\n",
       "      <th></th>\n",
       "      <th>tweet_id</th>\n",
       "      <th>author_id</th>\n",
       "      <th>content</th>\n",
       "      <th>lang</th>\n",
       "      <th>date</th>\n",
       "      <th>source</th>\n",
       "      <th>geo</th>\n",
       "      <th>retweet_count</th>\n",
       "      <th>like_count</th>\n",
       "      <th>quote_count</th>\n",
       "      <th>prediction</th>\n",
       "      <th>label</th>\n",
       "    </tr>\n",
       "  </thead>\n",
       "  <tbody>\n",
       "    <tr>\n",
       "      <th>0</th>\n",
       "      <td>1514503408820051969</td>\n",
       "      <td>1406215235829182470</td>\n",
       "      <td>dressing room source at ajax there s been crit...</td>\n",
       "      <td>en</td>\n",
       "      <td>2022-04-14T07:18:45.000Z</td>\n",
       "      <td>Twitter Web App</td>\n",
       "      <td>-1</td>\n",
       "      <td>0.0</td>\n",
       "      <td>0.0</td>\n",
       "      <td>0.0</td>\n",
       "      <td>0.680554</td>\n",
       "      <td>Positive</td>\n",
       "    </tr>\n",
       "    <tr>\n",
       "      <th>1</th>\n",
       "      <td>1514503399462432770</td>\n",
       "      <td>1437183590781964290</td>\n",
       "      <td>highest ranking active players on my all time ...</td>\n",
       "      <td>en</td>\n",
       "      <td>2022-04-14T07:18:43.000Z</td>\n",
       "      <td>Twitter for iPhone</td>\n",
       "      <td>-1</td>\n",
       "      <td>0.0</td>\n",
       "      <td>0.0</td>\n",
       "      <td>0.0</td>\n",
       "      <td>0.535541</td>\n",
       "      <td>Negative</td>\n",
       "    </tr>\n",
       "    <tr>\n",
       "      <th>2</th>\n",
       "      <td>1514503356764418051</td>\n",
       "      <td>1215836950931705856</td>\n",
       "      <td>i personally feel that cdm is the most importa...</td>\n",
       "      <td>en</td>\n",
       "      <td>2022-04-14T07:18:33.000Z</td>\n",
       "      <td>Twitter for Android</td>\n",
       "      <td>-1</td>\n",
       "      <td>0.0</td>\n",
       "      <td>0.0</td>\n",
       "      <td>0.0</td>\n",
       "      <td>0.563167</td>\n",
       "      <td>Negative</td>\n",
       "    </tr>\n",
       "    <tr>\n",
       "      <th>3</th>\n",
       "      <td>1514503333112864771</td>\n",
       "      <td>1201535456141168640</td>\n",
       "      <td>timber that s it these are the three essential...</td>\n",
       "      <td>en</td>\n",
       "      <td>2022-04-14T07:18:27.000Z</td>\n",
       "      <td>Twitter for Android</td>\n",
       "      <td>-1</td>\n",
       "      <td>0.0</td>\n",
       "      <td>0.0</td>\n",
       "      <td>0.0</td>\n",
       "      <td>0.685120</td>\n",
       "      <td>Positive</td>\n",
       "    </tr>\n",
       "    <tr>\n",
       "      <th>4</th>\n",
       "      <td>1514503191563579394</td>\n",
       "      <td>1080591523715129344</td>\n",
       "      <td>a quick reminder that cristiano ronaldo is the...</td>\n",
       "      <td>en</td>\n",
       "      <td>2022-04-14T07:17:53.000Z</td>\n",
       "      <td>Twitter for iPhone</td>\n",
       "      <td>-1</td>\n",
       "      <td>0.0</td>\n",
       "      <td>0.0</td>\n",
       "      <td>0.0</td>\n",
       "      <td>0.676029</td>\n",
       "      <td>Positive</td>\n",
       "    </tr>\n",
       "  </tbody>\n",
       "</table>\n",
       "</div>"
      ],
      "text/plain": [
       "              tweet_id            author_id  \\\n",
       "0  1514503408820051969  1406215235829182470   \n",
       "1  1514503399462432770  1437183590781964290   \n",
       "2  1514503356764418051  1215836950931705856   \n",
       "3  1514503333112864771  1201535456141168640   \n",
       "4  1514503191563579394  1080591523715129344   \n",
       "\n",
       "                                             content lang  \\\n",
       "0  dressing room source at ajax there s been crit...   en   \n",
       "1  highest ranking active players on my all time ...   en   \n",
       "2  i personally feel that cdm is the most importa...   en   \n",
       "3  timber that s it these are the three essential...   en   \n",
       "4  a quick reminder that cristiano ronaldo is the...   en   \n",
       "\n",
       "                       date               source geo  retweet_count  \\\n",
       "0  2022-04-14T07:18:45.000Z      Twitter Web App  -1            0.0   \n",
       "1  2022-04-14T07:18:43.000Z   Twitter for iPhone  -1            0.0   \n",
       "2  2022-04-14T07:18:33.000Z  Twitter for Android  -1            0.0   \n",
       "3  2022-04-14T07:18:27.000Z  Twitter for Android  -1            0.0   \n",
       "4  2022-04-14T07:17:53.000Z   Twitter for iPhone  -1            0.0   \n",
       "\n",
       "   like_count  quote_count  prediction     label  \n",
       "0         0.0          0.0    0.680554  Positive  \n",
       "1         0.0          0.0    0.535541  Negative  \n",
       "2         0.0          0.0    0.563167  Negative  \n",
       "3         0.0          0.0    0.685120  Positive  \n",
       "4         0.0          0.0    0.676029  Positive  "
      ]
     },
     "execution_count": 20,
     "metadata": {},
     "output_type": "execute_result"
    }
   ],
   "source": [
    "# Create a column named \"label\"\n",
    "dataset_ronaldo[\"label\"] = \"0\" \n",
    "dataset_ronaldo[\"label\"] = dataset_ronaldo.prediction.apply(lambda x: assign_label(x))\n",
    "dataset_ronaldo.head(5)"
   ]
  },
  {
   "cell_type": "markdown",
   "id": "90a8c1b7",
   "metadata": {
    "papermill": {
     "duration": 0.03494,
     "end_time": "2022-04-16T10:16:16.611350",
     "exception": false,
     "start_time": "2022-04-16T10:16:16.576410",
     "status": "completed"
    },
    "tags": []
   },
   "source": [
    "# Save the results\n",
    "> Note : if you plan to use the dataset, feel free to manually check and tweak the results, in order to come closer to a human-precision level"
   ]
  },
  {
   "cell_type": "markdown",
   "id": "9a512c91",
   "metadata": {
    "papermill": {
     "duration": 0.035244,
     "end_time": "2022-04-16T10:16:16.681958",
     "exception": false,
     "start_time": "2022-04-16T10:16:16.646714",
     "status": "completed"
    },
    "tags": []
   },
   "source": [
    "## Messi "
   ]
  },
  {
   "cell_type": "code",
   "execution_count": 21,
   "id": "ccaaff45",
   "metadata": {
    "execution": {
     "iopub.execute_input": "2022-04-16T10:16:16.757372Z",
     "iopub.status.busy": "2022-04-16T10:16:16.756747Z",
     "iopub.status.idle": "2022-04-16T10:16:17.922301Z",
     "shell.execute_reply": "2022-04-16T10:16:17.922993Z",
     "shell.execute_reply.started": "2022-04-16T07:25:55.647991Z"
    },
    "papermill": {
     "duration": 1.206023,
     "end_time": "2022-04-16T10:16:17.923232",
     "exception": false,
     "start_time": "2022-04-16T10:16:16.717209",
     "status": "completed"
    },
    "tags": []
   },
   "outputs": [],
   "source": [
    "dataset_messi.to_csv(\"Predictions_messi.csv\", index=False)"
   ]
  },
  {
   "cell_type": "markdown",
   "id": "2cd2a747",
   "metadata": {
    "papermill": {
     "duration": 0.049939,
     "end_time": "2022-04-16T10:16:18.028787",
     "exception": false,
     "start_time": "2022-04-16T10:16:17.978848",
     "status": "completed"
    },
    "tags": []
   },
   "source": [
    "## Ronaldo"
   ]
  },
  {
   "cell_type": "code",
   "execution_count": 22,
   "id": "f7b37fd8",
   "metadata": {
    "execution": {
     "iopub.execute_input": "2022-04-16T10:16:18.152970Z",
     "iopub.status.busy": "2022-04-16T10:16:18.152126Z",
     "iopub.status.idle": "2022-04-16T10:16:19.368374Z",
     "shell.execute_reply": "2022-04-16T10:16:19.367862Z",
     "shell.execute_reply.started": "2022-04-16T07:26:24.951541Z"
    },
    "papermill": {
     "duration": 1.284976,
     "end_time": "2022-04-16T10:16:19.368514",
     "exception": false,
     "start_time": "2022-04-16T10:16:18.083538",
     "status": "completed"
    },
    "tags": []
   },
   "outputs": [],
   "source": [
    "dataset_ronaldo.to_csv(\"Predictions_ronaldo.csv\", index=False)"
   ]
  }
 ],
 "metadata": {
  "kernelspec": {
   "display_name": "Python 3",
   "language": "python",
   "name": "python3"
  },
  "language_info": {
   "codemirror_mode": {
    "name": "ipython",
    "version": 3
   },
   "file_extension": ".py",
   "mimetype": "text/x-python",
   "name": "python",
   "nbconvert_exporter": "python",
   "pygments_lexer": "ipython3",
   "version": "3.7.10"
  },
  "papermill": {
   "default_parameters": {},
   "duration": 92.655857,
   "end_time": "2022-04-16T10:16:22.911530",
   "environment_variables": {},
   "exception": null,
   "input_path": "__notebook__.ipynb",
   "output_path": "__notebook__.ipynb",
   "parameters": {},
   "start_time": "2022-04-16T10:14:50.255673",
   "version": "2.3.3"
  }
 },
 "nbformat": 4,
 "nbformat_minor": 5
}
