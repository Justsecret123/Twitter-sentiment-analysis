{
 "cells": [
  {
   "cell_type": "markdown",
   "id": "de697a9b",
   "metadata": {
    "papermill": {
     "duration": 0.029848,
     "end_time": "2022-04-14T10:49:26.784357",
     "exception": false,
     "start_time": "2022-04-14T10:49:26.754509",
     "status": "completed"
    },
    "tags": []
   },
   "source": [
    "# Libraries"
   ]
  },
  {
   "cell_type": "code",
   "execution_count": 1,
   "id": "b129df67",
   "metadata": {
    "execution": {
     "iopub.execute_input": "2022-04-14T10:49:26.921475Z",
     "iopub.status.busy": "2022-04-14T10:49:26.920626Z",
     "iopub.status.idle": "2022-04-14T10:49:31.619883Z",
     "shell.execute_reply": "2022-04-14T10:49:31.619239Z",
     "shell.execute_reply.started": "2022-04-14T10:46:41.659698Z"
    },
    "papermill": {
     "duration": 4.803192,
     "end_time": "2022-04-14T10:49:31.620026",
     "exception": false,
     "start_time": "2022-04-14T10:49:26.816834",
     "status": "completed"
    },
    "tags": []
   },
   "outputs": [
    {
     "name": "stderr",
     "output_type": "stream",
     "text": [
      "2022-04-14 10:49:27.397891: I tensorflow/stream_executor/platform/default/dso_loader.cc:49] Successfully opened dynamic library libcudart.so.11.0\n"
     ]
    }
   ],
   "source": [
    "import numpy as np \n",
    "import pandas as pd\n",
    "import tensorflow as tf\n",
    "from tensorflow.keras.models import load_model"
   ]
  },
  {
   "cell_type": "markdown",
   "id": "0d21a5d3",
   "metadata": {
    "papermill": {
     "duration": 0.028194,
     "end_time": "2022-04-14T10:49:31.676179",
     "exception": false,
     "start_time": "2022-04-14T10:49:31.647985",
     "status": "completed"
    },
    "tags": []
   },
   "source": [
    "# Load the datasets"
   ]
  },
  {
   "cell_type": "markdown",
   "id": "ff99d4c8",
   "metadata": {
    "papermill": {
     "duration": 0.026751,
     "end_time": "2022-04-14T10:49:31.730023",
     "exception": false,
     "start_time": "2022-04-14T10:49:31.703272",
     "status": "completed"
    },
    "tags": []
   },
   "source": [
    "## Messi"
   ]
  },
  {
   "cell_type": "code",
   "execution_count": 2,
   "id": "39621904",
   "metadata": {
    "execution": {
     "iopub.execute_input": "2022-04-14T10:49:31.790053Z",
     "iopub.status.busy": "2022-04-14T10:49:31.789480Z",
     "iopub.status.idle": "2022-04-14T10:49:32.136298Z",
     "shell.execute_reply": "2022-04-14T10:49:32.135543Z",
     "shell.execute_reply.started": "2022-04-14T10:46:47.182606Z"
    },
    "papermill": {
     "duration": 0.378572,
     "end_time": "2022-04-14T10:49:32.136426",
     "exception": false,
     "start_time": "2022-04-14T10:49:31.757854",
     "status": "completed"
    },
    "tags": []
   },
   "outputs": [
    {
     "data": {
      "text/html": [
       "<div>\n",
       "<style scoped>\n",
       "    .dataframe tbody tr th:only-of-type {\n",
       "        vertical-align: middle;\n",
       "    }\n",
       "\n",
       "    .dataframe tbody tr th {\n",
       "        vertical-align: top;\n",
       "    }\n",
       "\n",
       "    .dataframe thead th {\n",
       "        text-align: right;\n",
       "    }\n",
       "</style>\n",
       "<table border=\"1\" class=\"dataframe\">\n",
       "  <thead>\n",
       "    <tr style=\"text-align: right;\">\n",
       "      <th></th>\n",
       "      <th>tweet_id</th>\n",
       "      <th>author_id</th>\n",
       "      <th>content</th>\n",
       "      <th>lang</th>\n",
       "      <th>date</th>\n",
       "      <th>source</th>\n",
       "      <th>geo</th>\n",
       "      <th>retweet_count</th>\n",
       "      <th>like_count</th>\n",
       "      <th>quote_count</th>\n",
       "    </tr>\n",
       "  </thead>\n",
       "  <tbody>\n",
       "    <tr>\n",
       "      <th>0</th>\n",
       "      <td>1514503439291543554</td>\n",
       "      <td>1504674335533187078</td>\n",
       "      <td>when did this happened messi</td>\n",
       "      <td>en</td>\n",
       "      <td>2022-04-14T07:18:52.000Z</td>\n",
       "      <td>Twitter for Android</td>\n",
       "      <td>-1</td>\n",
       "      <td>1</td>\n",
       "      <td>1</td>\n",
       "      <td>0</td>\n",
       "    </tr>\n",
       "    <tr>\n",
       "      <th>1</th>\n",
       "      <td>1514503399462432770</td>\n",
       "      <td>1437183590781964290</td>\n",
       "      <td>highest ranking active players on my all time ...</td>\n",
       "      <td>en</td>\n",
       "      <td>2022-04-14T07:18:43.000Z</td>\n",
       "      <td>Twitter for iPhone</td>\n",
       "      <td>-1</td>\n",
       "      <td>0</td>\n",
       "      <td>0</td>\n",
       "      <td>0</td>\n",
       "    </tr>\n",
       "    <tr>\n",
       "      <th>2</th>\n",
       "      <td>1514503259762958336</td>\n",
       "      <td>819679110</td>\n",
       "      <td>don t get me wrong mate i know he was good but...</td>\n",
       "      <td>en</td>\n",
       "      <td>2022-04-14T07:18:09.000Z</td>\n",
       "      <td>Twitter for iPhone</td>\n",
       "      <td>-1</td>\n",
       "      <td>0</td>\n",
       "      <td>0</td>\n",
       "      <td>0</td>\n",
       "    </tr>\n",
       "    <tr>\n",
       "      <th>3</th>\n",
       "      <td>1514503228221702144</td>\n",
       "      <td>1012688452863909891</td>\n",
       "      <td>messi fans have no shame</td>\n",
       "      <td>en</td>\n",
       "      <td>2022-04-14T07:18:02.000Z</td>\n",
       "      <td>Twitter for Android</td>\n",
       "      <td>-1</td>\n",
       "      <td>0</td>\n",
       "      <td>0</td>\n",
       "      <td>0</td>\n",
       "    </tr>\n",
       "    <tr>\n",
       "      <th>4</th>\n",
       "      <td>1514503144478322688</td>\n",
       "      <td>1309496212345810944</td>\n",
       "      <td>messi has to pay now 50m to play</td>\n",
       "      <td>en</td>\n",
       "      <td>2022-04-14T07:17:42.000Z</td>\n",
       "      <td>Twitter for Android</td>\n",
       "      <td>-1</td>\n",
       "      <td>0</td>\n",
       "      <td>1</td>\n",
       "      <td>0</td>\n",
       "    </tr>\n",
       "  </tbody>\n",
       "</table>\n",
       "</div>"
      ],
      "text/plain": [
       "              tweet_id            author_id  \\\n",
       "0  1514503439291543554  1504674335533187078   \n",
       "1  1514503399462432770  1437183590781964290   \n",
       "2  1514503259762958336            819679110   \n",
       "3  1514503228221702144  1012688452863909891   \n",
       "4  1514503144478322688  1309496212345810944   \n",
       "\n",
       "                                             content lang  \\\n",
       "0                       when did this happened messi   en   \n",
       "1  highest ranking active players on my all time ...   en   \n",
       "2  don t get me wrong mate i know he was good but...   en   \n",
       "3                           messi fans have no shame   en   \n",
       "4                   messi has to pay now 50m to play   en   \n",
       "\n",
       "                       date               source geo  retweet_count  \\\n",
       "0  2022-04-14T07:18:52.000Z  Twitter for Android  -1              1   \n",
       "1  2022-04-14T07:18:43.000Z   Twitter for iPhone  -1              0   \n",
       "2  2022-04-14T07:18:09.000Z   Twitter for iPhone  -1              0   \n",
       "3  2022-04-14T07:18:02.000Z  Twitter for Android  -1              0   \n",
       "4  2022-04-14T07:17:42.000Z  Twitter for Android  -1              0   \n",
       "\n",
       "   like_count  quote_count  \n",
       "0           1            0  \n",
       "1           0            0  \n",
       "2           0            0  \n",
       "3           0            0  \n",
       "4           1            0  "
      ]
     },
     "execution_count": 2,
     "metadata": {},
     "output_type": "execute_result"
    }
   ],
   "source": [
    "dataset_messi = pd.read_csv(\"../input/twitter-sentiment-analysis-and-word-embeddings/Cleaned_messi_tweets.csv\", encoding=\"latin\")\n",
    "dataset_messi.head(5)"
   ]
  },
  {
   "cell_type": "markdown",
   "id": "39149835",
   "metadata": {
    "papermill": {
     "duration": 0.026857,
     "end_time": "2022-04-14T10:49:32.190523",
     "exception": false,
     "start_time": "2022-04-14T10:49:32.163666",
     "status": "completed"
    },
    "tags": []
   },
   "source": [
    "### Check for duplicate tweets"
   ]
  },
  {
   "cell_type": "code",
   "execution_count": 3,
   "id": "99ec7ac5",
   "metadata": {
    "execution": {
     "iopub.execute_input": "2022-04-14T10:49:32.250655Z",
     "iopub.status.busy": "2022-04-14T10:49:32.249890Z",
     "iopub.status.idle": "2022-04-14T10:49:32.254265Z",
     "shell.execute_reply": "2022-04-14T10:49:32.253816Z",
     "shell.execute_reply.started": "2022-04-14T10:46:47.584177Z"
    },
    "papermill": {
     "duration": 0.036671,
     "end_time": "2022-04-14T10:49:32.254372",
     "exception": false,
     "start_time": "2022-04-14T10:49:32.217701",
     "status": "completed"
    },
    "tags": []
   },
   "outputs": [],
   "source": [
    "assert len(np.unique(dataset_messi[\"tweet_id\"])) == len(dataset_messi.index), \"Duplicate IDs !\""
   ]
  },
  {
   "cell_type": "markdown",
   "id": "a54d9dcf",
   "metadata": {
    "papermill": {
     "duration": 0.026636,
     "end_time": "2022-04-14T10:49:32.307747",
     "exception": false,
     "start_time": "2022-04-14T10:49:32.281111",
     "status": "completed"
    },
    "tags": []
   },
   "source": [
    "### Drop N/A values"
   ]
  },
  {
   "cell_type": "code",
   "execution_count": 4,
   "id": "8d973dab",
   "metadata": {
    "execution": {
     "iopub.execute_input": "2022-04-14T10:49:32.398497Z",
     "iopub.status.busy": "2022-04-14T10:49:32.397728Z",
     "iopub.status.idle": "2022-04-14T10:49:32.495696Z",
     "shell.execute_reply": "2022-04-14T10:49:32.494878Z",
     "shell.execute_reply.started": "2022-04-14T10:46:47.598005Z"
    },
    "papermill": {
     "duration": 0.160228,
     "end_time": "2022-04-14T10:49:32.495870",
     "exception": false,
     "start_time": "2022-04-14T10:49:32.335642",
     "status": "completed"
    },
    "tags": []
   },
   "outputs": [
    {
     "name": "stdout",
     "output_type": "stream",
     "text": [
      "Number of N/A: \n",
      "tweet_id         0\n",
      "author_id        0\n",
      "content          0\n",
      "lang             0\n",
      "date             0\n",
      "source           0\n",
      "geo              0\n",
      "retweet_count    0\n",
      "like_count       0\n",
      "quote_count      0\n",
      "dtype: int64\n",
      "\n",
      "Dropping N/A values...\n",
      "\n",
      "\n",
      "Number N/A after dropping: \n",
      "tweet_id         0\n",
      "author_id        0\n",
      "content          0\n",
      "lang             0\n",
      "date             0\n",
      "source           0\n",
      "geo              0\n",
      "retweet_count    0\n",
      "like_count       0\n",
      "quote_count      0\n",
      "dtype: int64\n"
     ]
    }
   ],
   "source": [
    "print(f\"Number of N/A: \\n{dataset_messi.isna().sum()}\")\n",
    "print(f\"\\nDropping N/A values...\")\n",
    "# Inplace = replace the original dataframe\n",
    "dataset_messi.dropna(inplace=True)\n",
    "print(f\"\\n\\nNumber N/A after dropping: \\n{dataset_messi.isna().sum()}\")"
   ]
  },
  {
   "cell_type": "markdown",
   "id": "4c17e18f",
   "metadata": {
    "papermill": {
     "duration": 0.027734,
     "end_time": "2022-04-14T10:49:32.553117",
     "exception": false,
     "start_time": "2022-04-14T10:49:32.525383",
     "status": "completed"
    },
    "tags": []
   },
   "source": [
    "## Ronaldo"
   ]
  },
  {
   "cell_type": "code",
   "execution_count": 5,
   "id": "b331ba2b",
   "metadata": {
    "execution": {
     "iopub.execute_input": "2022-04-14T10:49:32.613208Z",
     "iopub.status.busy": "2022-04-14T10:49:32.612513Z",
     "iopub.status.idle": "2022-04-14T10:49:32.976044Z",
     "shell.execute_reply": "2022-04-14T10:49:32.974965Z",
     "shell.execute_reply.started": "2022-04-14T10:46:47.742633Z"
    },
    "papermill": {
     "duration": 0.395392,
     "end_time": "2022-04-14T10:49:32.976239",
     "exception": false,
     "start_time": "2022-04-14T10:49:32.580847",
     "status": "completed"
    },
    "tags": []
   },
   "outputs": [
    {
     "data": {
      "text/html": [
       "<div>\n",
       "<style scoped>\n",
       "    .dataframe tbody tr th:only-of-type {\n",
       "        vertical-align: middle;\n",
       "    }\n",
       "\n",
       "    .dataframe tbody tr th {\n",
       "        vertical-align: top;\n",
       "    }\n",
       "\n",
       "    .dataframe thead th {\n",
       "        text-align: right;\n",
       "    }\n",
       "</style>\n",
       "<table border=\"1\" class=\"dataframe\">\n",
       "  <thead>\n",
       "    <tr style=\"text-align: right;\">\n",
       "      <th></th>\n",
       "      <th>tweet_id</th>\n",
       "      <th>author_id</th>\n",
       "      <th>content</th>\n",
       "      <th>lang</th>\n",
       "      <th>date</th>\n",
       "      <th>source</th>\n",
       "      <th>geo</th>\n",
       "      <th>retweet_count</th>\n",
       "      <th>like_count</th>\n",
       "      <th>quote_count</th>\n",
       "    </tr>\n",
       "  </thead>\n",
       "  <tbody>\n",
       "    <tr>\n",
       "      <th>0</th>\n",
       "      <td>1514503408820051969</td>\n",
       "      <td>1406215235829182470</td>\n",
       "      <td>dressing room source at ajax there s been crit...</td>\n",
       "      <td>en</td>\n",
       "      <td>2022-04-14T07:18:45.000Z</td>\n",
       "      <td>Twitter Web App</td>\n",
       "      <td>-1</td>\n",
       "      <td>0.0</td>\n",
       "      <td>0.0</td>\n",
       "      <td>0.0</td>\n",
       "    </tr>\n",
       "    <tr>\n",
       "      <th>1</th>\n",
       "      <td>1514503399462432770</td>\n",
       "      <td>1437183590781964290</td>\n",
       "      <td>highest ranking active players on my all time ...</td>\n",
       "      <td>en</td>\n",
       "      <td>2022-04-14T07:18:43.000Z</td>\n",
       "      <td>Twitter for iPhone</td>\n",
       "      <td>-1</td>\n",
       "      <td>0.0</td>\n",
       "      <td>0.0</td>\n",
       "      <td>0.0</td>\n",
       "    </tr>\n",
       "    <tr>\n",
       "      <th>2</th>\n",
       "      <td>1514503356764418051</td>\n",
       "      <td>1215836950931705856</td>\n",
       "      <td>i personally feel that cdm is the most importa...</td>\n",
       "      <td>en</td>\n",
       "      <td>2022-04-14T07:18:33.000Z</td>\n",
       "      <td>Twitter for Android</td>\n",
       "      <td>-1</td>\n",
       "      <td>0.0</td>\n",
       "      <td>0.0</td>\n",
       "      <td>0.0</td>\n",
       "    </tr>\n",
       "    <tr>\n",
       "      <th>3</th>\n",
       "      <td>1514503333112864771</td>\n",
       "      <td>1201535456141168640</td>\n",
       "      <td>timber that s it these are the three essential...</td>\n",
       "      <td>en</td>\n",
       "      <td>2022-04-14T07:18:27.000Z</td>\n",
       "      <td>Twitter for Android</td>\n",
       "      <td>-1</td>\n",
       "      <td>0.0</td>\n",
       "      <td>0.0</td>\n",
       "      <td>0.0</td>\n",
       "    </tr>\n",
       "    <tr>\n",
       "      <th>4</th>\n",
       "      <td>1514503191563579394</td>\n",
       "      <td>1080591523715129344</td>\n",
       "      <td>a quick reminder that cristiano ronaldo is the...</td>\n",
       "      <td>en</td>\n",
       "      <td>2022-04-14T07:17:53.000Z</td>\n",
       "      <td>Twitter for iPhone</td>\n",
       "      <td>-1</td>\n",
       "      <td>0.0</td>\n",
       "      <td>0.0</td>\n",
       "      <td>0.0</td>\n",
       "    </tr>\n",
       "  </tbody>\n",
       "</table>\n",
       "</div>"
      ],
      "text/plain": [
       "              tweet_id            author_id  \\\n",
       "0  1514503408820051969  1406215235829182470   \n",
       "1  1514503399462432770  1437183590781964290   \n",
       "2  1514503356764418051  1215836950931705856   \n",
       "3  1514503333112864771  1201535456141168640   \n",
       "4  1514503191563579394  1080591523715129344   \n",
       "\n",
       "                                             content lang  \\\n",
       "0  dressing room source at ajax there s been crit...   en   \n",
       "1  highest ranking active players on my all time ...   en   \n",
       "2  i personally feel that cdm is the most importa...   en   \n",
       "3  timber that s it these are the three essential...   en   \n",
       "4  a quick reminder that cristiano ronaldo is the...   en   \n",
       "\n",
       "                       date               source geo  retweet_count  \\\n",
       "0  2022-04-14T07:18:45.000Z      Twitter Web App  -1            0.0   \n",
       "1  2022-04-14T07:18:43.000Z   Twitter for iPhone  -1            0.0   \n",
       "2  2022-04-14T07:18:33.000Z  Twitter for Android  -1            0.0   \n",
       "3  2022-04-14T07:18:27.000Z  Twitter for Android  -1            0.0   \n",
       "4  2022-04-14T07:17:53.000Z   Twitter for iPhone  -1            0.0   \n",
       "\n",
       "   like_count  quote_count  \n",
       "0         0.0          0.0  \n",
       "1         0.0          0.0  \n",
       "2         0.0          0.0  \n",
       "3         0.0          0.0  \n",
       "4         0.0          0.0  "
      ]
     },
     "execution_count": 5,
     "metadata": {},
     "output_type": "execute_result"
    }
   ],
   "source": [
    "dataset_ronaldo = pd.read_csv(\"../input/twitter-sentiment-analysis-and-word-embeddings/Cleaned_ronaldo_tweets.csv\", encoding=\"latin\")\n",
    "dataset_ronaldo.head(5)"
   ]
  },
  {
   "cell_type": "markdown",
   "id": "2b40da25",
   "metadata": {
    "papermill": {
     "duration": 0.030096,
     "end_time": "2022-04-14T10:49:33.038876",
     "exception": false,
     "start_time": "2022-04-14T10:49:33.008780",
     "status": "completed"
    },
    "tags": []
   },
   "source": [
    "### Check for duplicate tweets"
   ]
  },
  {
   "cell_type": "code",
   "execution_count": 6,
   "id": "54c78a77",
   "metadata": {
    "execution": {
     "iopub.execute_input": "2022-04-14T10:49:33.105808Z",
     "iopub.status.busy": "2022-04-14T10:49:33.105058Z",
     "iopub.status.idle": "2022-04-14T10:49:33.108390Z",
     "shell.execute_reply": "2022-04-14T10:49:33.107929Z",
     "shell.execute_reply.started": "2022-04-14T10:46:48.129491Z"
    },
    "papermill": {
     "duration": 0.039077,
     "end_time": "2022-04-14T10:49:33.108506",
     "exception": false,
     "start_time": "2022-04-14T10:49:33.069429",
     "status": "completed"
    },
    "tags": []
   },
   "outputs": [],
   "source": [
    "assert len(np.unique(dataset_ronaldo[\"tweet_id\"])) == len(dataset_ronaldo.index), \"Duplicate IDs!\""
   ]
  },
  {
   "cell_type": "markdown",
   "id": "98fe691b",
   "metadata": {
    "papermill": {
     "duration": 0.028422,
     "end_time": "2022-04-14T10:49:33.165871",
     "exception": false,
     "start_time": "2022-04-14T10:49:33.137449",
     "status": "completed"
    },
    "tags": []
   },
   "source": [
    "### Check data"
   ]
  },
  {
   "cell_type": "code",
   "execution_count": 7,
   "id": "67cdb97d",
   "metadata": {
    "execution": {
     "iopub.execute_input": "2022-04-14T10:49:33.264230Z",
     "iopub.status.busy": "2022-04-14T10:49:33.263354Z",
     "iopub.status.idle": "2022-04-14T10:49:33.348568Z",
     "shell.execute_reply": "2022-04-14T10:49:33.349306Z",
     "shell.execute_reply.started": "2022-04-14T10:46:48.141445Z"
    },
    "papermill": {
     "duration": 0.15467,
     "end_time": "2022-04-14T10:49:33.349546",
     "exception": false,
     "start_time": "2022-04-14T10:49:33.194876",
     "status": "completed"
    },
    "tags": []
   },
   "outputs": [
    {
     "name": "stdout",
     "output_type": "stream",
     "text": [
      "Number of N/A: \n",
      "tweet_id         0\n",
      "author_id        0\n",
      "content          6\n",
      "lang             0\n",
      "date             0\n",
      "source           0\n",
      "geo              0\n",
      "retweet_count    0\n",
      "like_count       0\n",
      "quote_count      0\n",
      "dtype: int64\n",
      "\n",
      "Dropping N/A values...\n",
      "\n",
      "\n",
      "Number N/A after dropping: \n",
      "tweet_id         0\n",
      "author_id        0\n",
      "content          0\n",
      "lang             0\n",
      "date             0\n",
      "source           0\n",
      "geo              0\n",
      "retweet_count    0\n",
      "like_count       0\n",
      "quote_count      0\n",
      "dtype: int64\n"
     ]
    }
   ],
   "source": [
    "print(f\"Number of N/A: \\n{dataset_ronaldo.isna().sum()}\")\n",
    "print(f\"\\nDropping N/A values...\")\n",
    "# Inplace = replace the original dataframe\n",
    "dataset_ronaldo.dropna(inplace=True)\n",
    "print(f\"\\n\\nNumber N/A after dropping: \\n{dataset_ronaldo.isna().sum()}\")"
   ]
  },
  {
   "cell_type": "markdown",
   "id": "822eec76",
   "metadata": {
    "papermill": {
     "duration": 0.029125,
     "end_time": "2022-04-14T10:49:33.415222",
     "exception": false,
     "start_time": "2022-04-14T10:49:33.386097",
     "status": "completed"
    },
    "tags": []
   },
   "source": [
    "# Load the model"
   ]
  },
  {
   "cell_type": "code",
   "execution_count": 8,
   "id": "7ff5be40",
   "metadata": {
    "execution": {
     "iopub.execute_input": "2022-04-14T10:49:33.476529Z",
     "iopub.status.busy": "2022-04-14T10:49:33.475902Z",
     "iopub.status.idle": "2022-04-14T10:49:59.216553Z",
     "shell.execute_reply": "2022-04-14T10:49:59.217584Z",
     "shell.execute_reply.started": "2022-04-14T10:46:48.270085Z"
    },
    "papermill": {
     "duration": 25.77414,
     "end_time": "2022-04-14T10:49:59.217793",
     "exception": false,
     "start_time": "2022-04-14T10:49:33.443653",
     "status": "completed"
    },
    "tags": []
   },
   "outputs": [
    {
     "name": "stderr",
     "output_type": "stream",
     "text": [
      "2022-04-14 10:49:34.504770: I tensorflow/compiler/jit/xla_cpu_device.cc:41] Not creating XLA devices, tf_xla_enable_xla_devices not set\n",
      "2022-04-14 10:49:34.507875: I tensorflow/stream_executor/platform/default/dso_loader.cc:49] Successfully opened dynamic library libcuda.so.1\n",
      "2022-04-14 10:49:34.562861: I tensorflow/stream_executor/cuda/cuda_gpu_executor.cc:941] successful NUMA node read from SysFS had negative value (-1), but there must be at least one NUMA node, so returning NUMA node zero\n",
      "2022-04-14 10:49:34.563550: I tensorflow/core/common_runtime/gpu/gpu_device.cc:1720] Found device 0 with properties: \n",
      "pciBusID: 0000:00:04.0 name: Tesla P100-PCIE-16GB computeCapability: 6.0\n",
      "coreClock: 1.3285GHz coreCount: 56 deviceMemorySize: 15.90GiB deviceMemoryBandwidth: 681.88GiB/s\n",
      "2022-04-14 10:49:34.563645: I tensorflow/stream_executor/platform/default/dso_loader.cc:49] Successfully opened dynamic library libcudart.so.11.0\n",
      "2022-04-14 10:49:34.598050: I tensorflow/stream_executor/platform/default/dso_loader.cc:49] Successfully opened dynamic library libcublas.so.11\n",
      "2022-04-14 10:49:34.598198: I tensorflow/stream_executor/platform/default/dso_loader.cc:49] Successfully opened dynamic library libcublasLt.so.11\n",
      "2022-04-14 10:49:34.612718: I tensorflow/stream_executor/platform/default/dso_loader.cc:49] Successfully opened dynamic library libcufft.so.10\n",
      "2022-04-14 10:49:34.620970: I tensorflow/stream_executor/platform/default/dso_loader.cc:49] Successfully opened dynamic library libcurand.so.10\n",
      "2022-04-14 10:49:34.646327: I tensorflow/stream_executor/platform/default/dso_loader.cc:49] Successfully opened dynamic library libcusolver.so.10\n",
      "2022-04-14 10:49:34.653533: I tensorflow/stream_executor/platform/default/dso_loader.cc:49] Successfully opened dynamic library libcusparse.so.11\n",
      "2022-04-14 10:49:34.656807: I tensorflow/stream_executor/platform/default/dso_loader.cc:49] Successfully opened dynamic library libcudnn.so.8\n",
      "2022-04-14 10:49:34.656975: I tensorflow/stream_executor/cuda/cuda_gpu_executor.cc:941] successful NUMA node read from SysFS had negative value (-1), but there must be at least one NUMA node, so returning NUMA node zero\n",
      "2022-04-14 10:49:34.657730: I tensorflow/stream_executor/cuda/cuda_gpu_executor.cc:941] successful NUMA node read from SysFS had negative value (-1), but there must be at least one NUMA node, so returning NUMA node zero\n",
      "2022-04-14 10:49:34.659297: I tensorflow/core/common_runtime/gpu/gpu_device.cc:1862] Adding visible gpu devices: 0\n",
      "2022-04-14 10:49:34.660275: I tensorflow/core/platform/cpu_feature_guard.cc:142] This TensorFlow binary is optimized with oneAPI Deep Neural Network Library (oneDNN) to use the following CPU instructions in performance-critical operations:  AVX2 AVX512F FMA\n",
      "To enable them in other operations, rebuild TensorFlow with the appropriate compiler flags.\n",
      "2022-04-14 10:49:34.660480: I tensorflow/compiler/jit/xla_gpu_device.cc:99] Not creating XLA devices, tf_xla_enable_xla_devices not set\n",
      "2022-04-14 10:49:34.660640: I tensorflow/stream_executor/cuda/cuda_gpu_executor.cc:941] successful NUMA node read from SysFS had negative value (-1), but there must be at least one NUMA node, so returning NUMA node zero\n",
      "2022-04-14 10:49:34.661242: I tensorflow/core/common_runtime/gpu/gpu_device.cc:1720] Found device 0 with properties: \n",
      "pciBusID: 0000:00:04.0 name: Tesla P100-PCIE-16GB computeCapability: 6.0\n",
      "coreClock: 1.3285GHz coreCount: 56 deviceMemorySize: 15.90GiB deviceMemoryBandwidth: 681.88GiB/s\n",
      "2022-04-14 10:49:34.661293: I tensorflow/stream_executor/platform/default/dso_loader.cc:49] Successfully opened dynamic library libcudart.so.11.0\n",
      "2022-04-14 10:49:34.661321: I tensorflow/stream_executor/platform/default/dso_loader.cc:49] Successfully opened dynamic library libcublas.so.11\n",
      "2022-04-14 10:49:34.661341: I tensorflow/stream_executor/platform/default/dso_loader.cc:49] Successfully opened dynamic library libcublasLt.so.11\n",
      "2022-04-14 10:49:34.661360: I tensorflow/stream_executor/platform/default/dso_loader.cc:49] Successfully opened dynamic library libcufft.so.10\n",
      "2022-04-14 10:49:34.661391: I tensorflow/stream_executor/platform/default/dso_loader.cc:49] Successfully opened dynamic library libcurand.so.10\n",
      "2022-04-14 10:49:34.661410: I tensorflow/stream_executor/platform/default/dso_loader.cc:49] Successfully opened dynamic library libcusolver.so.10\n",
      "2022-04-14 10:49:34.661431: I tensorflow/stream_executor/platform/default/dso_loader.cc:49] Successfully opened dynamic library libcusparse.so.11\n",
      "2022-04-14 10:49:34.661450: I tensorflow/stream_executor/platform/default/dso_loader.cc:49] Successfully opened dynamic library libcudnn.so.8\n",
      "2022-04-14 10:49:34.661519: I tensorflow/stream_executor/cuda/cuda_gpu_executor.cc:941] successful NUMA node read from SysFS had negative value (-1), but there must be at least one NUMA node, so returning NUMA node zero\n",
      "2022-04-14 10:49:34.662132: I tensorflow/stream_executor/cuda/cuda_gpu_executor.cc:941] successful NUMA node read from SysFS had negative value (-1), but there must be at least one NUMA node, so returning NUMA node zero\n",
      "2022-04-14 10:49:34.662702: I tensorflow/core/common_runtime/gpu/gpu_device.cc:1862] Adding visible gpu devices: 0\n",
      "2022-04-14 10:49:34.663698: I tensorflow/stream_executor/platform/default/dso_loader.cc:49] Successfully opened dynamic library libcudart.so.11.0\n",
      "2022-04-14 10:49:36.054237: I tensorflow/core/common_runtime/gpu/gpu_device.cc:1261] Device interconnect StreamExecutor with strength 1 edge matrix:\n",
      "2022-04-14 10:49:36.054285: I tensorflow/core/common_runtime/gpu/gpu_device.cc:1267]      0 \n",
      "2022-04-14 10:49:36.054295: I tensorflow/core/common_runtime/gpu/gpu_device.cc:1280] 0:   N \n",
      "2022-04-14 10:49:36.056932: I tensorflow/stream_executor/cuda/cuda_gpu_executor.cc:941] successful NUMA node read from SysFS had negative value (-1), but there must be at least one NUMA node, so returning NUMA node zero\n",
      "2022-04-14 10:49:36.057731: I tensorflow/stream_executor/cuda/cuda_gpu_executor.cc:941] successful NUMA node read from SysFS had negative value (-1), but there must be at least one NUMA node, so returning NUMA node zero\n",
      "2022-04-14 10:49:36.058355: I tensorflow/stream_executor/cuda/cuda_gpu_executor.cc:941] successful NUMA node read from SysFS had negative value (-1), but there must be at least one NUMA node, so returning NUMA node zero\n",
      "2022-04-14 10:49:36.058916: I tensorflow/core/common_runtime/gpu/gpu_device.cc:1406] Created TensorFlow device (/job:localhost/replica:0/task:0/device:GPU:0 with 14957 MB memory) -> physical GPU (device: 0, name: Tesla P100-PCIE-16GB, pci bus id: 0000:00:04.0, compute capability: 6.0)\n",
      "2022-04-14 10:49:56.086047: I tensorflow/compiler/mlir/mlir_graph_optimization_pass.cc:116] None of the MLIR optimization passes are enabled (registered 2)\n",
      "2022-04-14 10:49:56.096258: I tensorflow/core/platform/profile_utils/cpu_utils.cc:112] CPU Frequency: 2000185000 Hz\n"
     ]
    },
    {
     "name": "stdout",
     "output_type": "stream",
     "text": [
      "Model: \"sequential_1\"\n",
      "_________________________________________________________________\n",
      "Layer (type)                 Output Shape              Param #   \n",
      "=================================================================\n",
      "text_vectorization (TextVect (None, 53)                0         \n",
      "_________________________________________________________________\n",
      "sequential (Sequential)      (None, 1)                 32398789  \n",
      "_________________________________________________________________\n",
      "activation (Activation)      (None, 1)                 0         \n",
      "=================================================================\n",
      "Total params: 32,398,789\n",
      "Trainable params: 32,398,789\n",
      "Non-trainable params: 0\n",
      "_________________________________________________________________\n"
     ]
    }
   ],
   "source": [
    "model = load_model(\"../input/twitter-sentiment-analysis-and-word-embeddings/TSA_model_v3\")\n",
    "model.summary()"
   ]
  },
  {
   "cell_type": "markdown",
   "id": "92b391b5",
   "metadata": {
    "papermill": {
     "duration": 0.029726,
     "end_time": "2022-04-14T10:49:59.278067",
     "exception": false,
     "start_time": "2022-04-14T10:49:59.248341",
     "status": "completed"
    },
    "tags": []
   },
   "source": [
    "# Set the thresholds : Refer to [This link](https://github.com/Justsecret123/Twitter-sentiment-analysis/blob/main/Notebook/twitter-sentiment-analysis.ipynb)"
   ]
  },
  {
   "cell_type": "markdown",
   "id": "374f3aac",
   "metadata": {
    "papermill": {
     "duration": 0.029227,
     "end_time": "2022-04-14T10:49:59.337680",
     "exception": false,
     "start_time": "2022-04-14T10:49:59.308453",
     "status": "completed"
    },
    "tags": []
   },
   "source": [
    "## Positive (> threshold = positive)"
   ]
  },
  {
   "cell_type": "code",
   "execution_count": 9,
   "id": "1e821293",
   "metadata": {
    "execution": {
     "iopub.execute_input": "2022-04-14T10:49:59.403178Z",
     "iopub.status.busy": "2022-04-14T10:49:59.401547Z",
     "iopub.status.idle": "2022-04-14T10:49:59.403753Z",
     "shell.execute_reply": "2022-04-14T10:49:59.404164Z",
     "shell.execute_reply.started": "2022-04-14T10:47:23.278665Z"
    },
    "papermill": {
     "duration": 0.036779,
     "end_time": "2022-04-14T10:49:59.404317",
     "exception": false,
     "start_time": "2022-04-14T10:49:59.367538",
     "status": "completed"
    },
    "tags": []
   },
   "outputs": [],
   "source": [
    "positive_threshold = 0.64"
   ]
  },
  {
   "cell_type": "markdown",
   "id": "6b9be0ff",
   "metadata": {
    "papermill": {
     "duration": 0.029305,
     "end_time": "2022-04-14T10:49:59.463846",
     "exception": false,
     "start_time": "2022-04-14T10:49:59.434541",
     "status": "completed"
    },
    "tags": []
   },
   "source": [
    "### Negative (< threshold = negative)"
   ]
  },
  {
   "cell_type": "code",
   "execution_count": 10,
   "id": "8977ad6a",
   "metadata": {
    "execution": {
     "iopub.execute_input": "2022-04-14T10:49:59.528510Z",
     "iopub.status.busy": "2022-04-14T10:49:59.527653Z",
     "iopub.status.idle": "2022-04-14T10:49:59.529784Z",
     "shell.execute_reply": "2022-04-14T10:49:59.530143Z",
     "shell.execute_reply.started": "2022-04-14T10:47:23.289808Z"
    },
    "papermill": {
     "duration": 0.036605,
     "end_time": "2022-04-14T10:49:59.530362",
     "exception": false,
     "start_time": "2022-04-14T10:49:59.493757",
     "status": "completed"
    },
    "tags": []
   },
   "outputs": [],
   "source": [
    "negative_threshold = 0.599"
   ]
  },
  {
   "cell_type": "markdown",
   "id": "4752d7fe",
   "metadata": {
    "papermill": {
     "duration": 0.029908,
     "end_time": "2022-04-14T10:49:59.589836",
     "exception": false,
     "start_time": "2022-04-14T10:49:59.559928",
     "status": "completed"
    },
    "tags": []
   },
   "source": [
    "> The values inbetween will be labeled as \"neutral\""
   ]
  },
  {
   "cell_type": "markdown",
   "id": "b1af22b0",
   "metadata": {
    "papermill": {
     "duration": 0.029333,
     "end_time": "2022-04-14T10:49:59.649112",
     "exception": false,
     "start_time": "2022-04-14T10:49:59.619779",
     "status": "completed"
    },
    "tags": []
   },
   "source": [
    "# Run inferences"
   ]
  },
  {
   "cell_type": "markdown",
   "id": "cf222631",
   "metadata": {
    "papermill": {
     "duration": 0.029658,
     "end_time": "2022-04-14T10:49:59.708548",
     "exception": false,
     "start_time": "2022-04-14T10:49:59.678890",
     "status": "completed"
    },
    "tags": []
   },
   "source": [
    "## Messi dataset"
   ]
  },
  {
   "cell_type": "code",
   "execution_count": 11,
   "id": "2690e878",
   "metadata": {
    "execution": {
     "iopub.execute_input": "2022-04-14T10:49:59.776569Z",
     "iopub.status.busy": "2022-04-14T10:49:59.775885Z",
     "iopub.status.idle": "2022-04-14T10:49:59.778683Z",
     "shell.execute_reply": "2022-04-14T10:49:59.779084Z",
     "shell.execute_reply.started": "2022-04-14T10:47:23.298021Z"
    },
    "papermill": {
     "duration": 0.039947,
     "end_time": "2022-04-14T10:49:59.779229",
     "exception": false,
     "start_time": "2022-04-14T10:49:59.739282",
     "status": "completed"
    },
    "tags": []
   },
   "outputs": [
    {
     "data": {
      "text/plain": [
       "0                         when did this happened messi\n",
       "1    highest ranking active players on my all time ...\n",
       "2    don t get me wrong mate i know he was good but...\n",
       "3                             messi fans have no shame\n",
       "4                     messi has to pay now 50m to play\n",
       "5                                         you re mines\n",
       "6    nigeria must cease being a killing field peter...\n",
       "7                    prime ronaldo and messi instantly\n",
       "8    karim benzema joins lionel messi and cristiano...\n",
       "9    how many goal does the finished messi have 3 d...\n",
       "Name: content, dtype: object"
      ]
     },
     "execution_count": 11,
     "metadata": {},
     "output_type": "execute_result"
    }
   ],
   "source": [
    "X_messi = dataset_messi[\"content\"]\n",
    "X_messi.head(10)"
   ]
  },
  {
   "cell_type": "markdown",
   "id": "f7d1a04c",
   "metadata": {
    "papermill": {
     "duration": 0.030269,
     "end_time": "2022-04-14T10:49:59.840495",
     "exception": false,
     "start_time": "2022-04-14T10:49:59.810226",
     "status": "completed"
    },
    "tags": []
   },
   "source": [
    "### Check data"
   ]
  },
  {
   "cell_type": "code",
   "execution_count": 12,
   "id": "a9c3e251",
   "metadata": {
    "execution": {
     "iopub.execute_input": "2022-04-14T10:49:59.961623Z",
     "iopub.status.busy": "2022-04-14T10:49:59.957888Z",
     "iopub.status.idle": "2022-04-14T10:50:26.844700Z",
     "shell.execute_reply": "2022-04-14T10:50:26.843761Z",
     "shell.execute_reply.started": "2022-04-14T10:47:23.313075Z"
    },
    "papermill": {
     "duration": 26.956959,
     "end_time": "2022-04-14T10:50:26.844846",
     "exception": false,
     "start_time": "2022-04-14T10:49:59.887887",
     "status": "completed"
    },
    "tags": []
   },
   "outputs": [
    {
     "name": "stderr",
     "output_type": "stream",
     "text": [
      "2022-04-14 10:50:02.074070: I tensorflow/stream_executor/platform/default/dso_loader.cc:49] Successfully opened dynamic library libcublas.so.11\n",
      "2022-04-14 10:50:02.869517: I tensorflow/stream_executor/platform/default/dso_loader.cc:49] Successfully opened dynamic library libcublasLt.so.11\n",
      "2022-04-14 10:50:02.944937: I tensorflow/stream_executor/platform/default/dso_loader.cc:49] Successfully opened dynamic library libcudnn.so.8\n"
     ]
    }
   ],
   "source": [
    "predictions_messi = model.predict(X_messi)"
   ]
  },
  {
   "cell_type": "markdown",
   "id": "a538c556",
   "metadata": {
    "papermill": {
     "duration": 0.029889,
     "end_time": "2022-04-14T10:50:26.905419",
     "exception": false,
     "start_time": "2022-04-14T10:50:26.875530",
     "status": "completed"
    },
    "tags": []
   },
   "source": [
    "### Display some results"
   ]
  },
  {
   "cell_type": "code",
   "execution_count": 13,
   "id": "9203edee",
   "metadata": {
    "execution": {
     "iopub.execute_input": "2022-04-14T10:50:26.970273Z",
     "iopub.status.busy": "2022-04-14T10:50:26.969676Z",
     "iopub.status.idle": "2022-04-14T10:50:26.978410Z",
     "shell.execute_reply": "2022-04-14T10:50:26.977917Z",
     "shell.execute_reply.started": "2022-04-14T10:47:57.609607Z"
    },
    "papermill": {
     "duration": 0.043052,
     "end_time": "2022-04-14T10:50:26.978532",
     "exception": false,
     "start_time": "2022-04-14T10:50:26.935480",
     "status": "completed"
    },
    "tags": []
   },
   "outputs": [
    {
     "name": "stdout",
     "output_type": "stream",
     "text": [
      "Tweet: when did this happened messi ||| Score : [0.650695]\n",
      "Tweet: highest ranking active players on my all time top 75 for now 1 l messi 5th 2 c ronaldo 8th 3 a iniesta 31st 4 g buffon 34th 5 neymar jr 43rd 6 l modri 62nd 7 k de bruyne 67th 8 r lewandowski 68th 9 z ibrahimovi 70th 10 m neuer 72nd ||| Score : [0.6164681]\n",
      "Tweet: don t get me wrong mate i know he was good but for me messi trumps everyone that fella is insane ||| Score : [0.65590394]\n",
      "Tweet: messi fans have no shame ||| Score : [0.7030979]\n",
      "Tweet: messi has to pay now 50m to play ||| Score : [0.66974324]\n",
      "Tweet: you re mines ||| Score : [0.67546666]\n",
      "Tweet: nigeria must cease being a killing field peter obi plateau benue massacre news benuemassacre nigeria peterobi plateau bbnaija messi wizkid davido ||| Score : [0.6322154]\n",
      "Tweet: prime ronaldo and messi instantly ||| Score : [0.69525677]\n",
      "Tweet: karim benzema joins lionel messi and cristiano ronaldo in accomplishing champions league feat football ||| Score : [0.62661433]\n",
      "Tweet: how many goal does the finished messi have 3 dog ronaldo being in the hardest league bro he d got 18 in all competition so stop capping unnecessarily dog ||| Score : [0.5455679]\n"
     ]
    }
   ],
   "source": [
    "for i in range(10): \n",
    "    print(f\"Tweet: {X_messi[i]} ||| Score : {predictions_messi[i]}\")"
   ]
  },
  {
   "cell_type": "markdown",
   "id": "acfda013",
   "metadata": {
    "papermill": {
     "duration": 0.03073,
     "end_time": "2022-04-14T10:50:27.040057",
     "exception": false,
     "start_time": "2022-04-14T10:50:27.009327",
     "status": "completed"
    },
    "tags": []
   },
   "source": [
    "## Ronaldo dataset"
   ]
  },
  {
   "cell_type": "code",
   "execution_count": 14,
   "id": "7b4e115d",
   "metadata": {
    "execution": {
     "iopub.execute_input": "2022-04-14T10:50:27.104978Z",
     "iopub.status.busy": "2022-04-14T10:50:27.104201Z",
     "iopub.status.idle": "2022-04-14T10:50:27.111268Z",
     "shell.execute_reply": "2022-04-14T10:50:27.111683Z",
     "shell.execute_reply.started": "2022-04-14T10:47:57.630171Z"
    },
    "papermill": {
     "duration": 0.041055,
     "end_time": "2022-04-14T10:50:27.111821",
     "exception": false,
     "start_time": "2022-04-14T10:50:27.070766",
     "status": "completed"
    },
    "tags": []
   },
   "outputs": [
    {
     "data": {
      "text/plain": [
       "0    dressing room source at ajax there s been crit...\n",
       "1    highest ranking active players on my all time ...\n",
       "2    i personally feel that cdm is the most importa...\n",
       "3    timber that s it these are the three essential...\n",
       "4    a quick reminder that cristiano ronaldo is the...\n",
       "Name: content, dtype: object"
      ]
     },
     "execution_count": 14,
     "metadata": {},
     "output_type": "execute_result"
    }
   ],
   "source": [
    "X_ronaldo = dataset_ronaldo[\"content\"]\n",
    "X_ronaldo.head(5)"
   ]
  },
  {
   "cell_type": "code",
   "execution_count": 15,
   "id": "5e364927",
   "metadata": {
    "execution": {
     "iopub.execute_input": "2022-04-14T10:50:27.179076Z",
     "iopub.status.busy": "2022-04-14T10:50:27.178219Z",
     "iopub.status.idle": "2022-04-14T10:50:46.463322Z",
     "shell.execute_reply": "2022-04-14T10:50:46.462783Z",
     "shell.execute_reply.started": "2022-04-14T10:47:57.644361Z"
    },
    "papermill": {
     "duration": 19.320626,
     "end_time": "2022-04-14T10:50:46.463471",
     "exception": false,
     "start_time": "2022-04-14T10:50:27.142845",
     "status": "completed"
    },
    "tags": []
   },
   "outputs": [],
   "source": [
    "predictions_ronaldo = model.predict(X_ronaldo)"
   ]
  },
  {
   "cell_type": "markdown",
   "id": "78850f55",
   "metadata": {
    "papermill": {
     "duration": 0.031653,
     "end_time": "2022-04-14T10:50:46.529667",
     "exception": false,
     "start_time": "2022-04-14T10:50:46.498014",
     "status": "completed"
    },
    "tags": []
   },
   "source": [
    "### Display some results"
   ]
  },
  {
   "cell_type": "code",
   "execution_count": 16,
   "id": "3431943a",
   "metadata": {
    "execution": {
     "iopub.execute_input": "2022-04-14T10:50:46.596600Z",
     "iopub.status.busy": "2022-04-14T10:50:46.595665Z",
     "iopub.status.idle": "2022-04-14T10:50:46.604462Z",
     "shell.execute_reply": "2022-04-14T10:50:46.604848Z",
     "shell.execute_reply.started": "2022-04-14T10:48:22.453031Z"
    },
    "papermill": {
     "duration": 0.044576,
     "end_time": "2022-04-14T10:50:46.604997",
     "exception": false,
     "start_time": "2022-04-14T10:50:46.560421",
     "status": "completed"
    },
    "tags": []
   },
   "outputs": [
    {
     "name": "stdout",
     "output_type": "stream",
     "text": [
      "Tweet: dressing room source at ajax there s been criticism of him ten hag for playing blind just because of the surname so we re curious to see how he handles cristiano ronaldo and co mufc ||| Score : [0.6988411]\n",
      "Tweet: highest ranking active players on my all time top 75 for now 1 l messi 5th 2 c ronaldo 8th 3 a iniesta 31st 4 g buffon 34th 5 neymar jr 43rd 6 l modri 62nd 7 k de bruyne 67th 8 r lewandowski 68th 9 z ibrahimovi 70th 10 m neuer 72nd ||| Score : [0.6164681]\n",
      "Tweet: i personally feel that cdm is the most important position after we buy a cdm that will ultimately determine the budget for the rest of the positions ronaldo is unlikely to leave if cavani leaves we still can bring a youth into the system ||| Score : [0.622216]\n",
      "Tweet: timber that s it these are the three essential transfer mufc needs to pull off this summer to give a fight in domestic competitions and release players with huge salary amp free up funds for them cr7 should not be at ot next ssn ||| Score : [0.5888474]\n",
      "Tweet: a quick reminder that cristiano ronaldo is the greatest player of all time like how can he own atletico madrid who park the bus with 12 players ||| Score : [0.56648064]\n",
      "Tweet: nice to drive past a stadium where a few records have been broken by cr7 est dio algarve ||| Score : [0.7045317]\n",
      "Tweet: prime ronaldo and messi instantly ||| Score : [0.69525677]\n",
      "Tweet: on a serious note quaresma had more skills than ronaldo but lacked discipline true or false ||| Score : [0.6786753]\n",
      "Tweet: karim benzema joins lionel messi and cristiano ronaldo in accomplishing champions league feat football ||| Score : [0.62661433]\n",
      "Tweet: how many goal does the finished messi have 3 dog ronaldo being in the hardest league bro he d got 18 in all competition so stop capping unnecessarily dog ||| Score : [0.5455679]\n"
     ]
    }
   ],
   "source": [
    "for i in range(10): \n",
    "    print(f\"Tweet: {X_ronaldo[i]} ||| Score : {predictions_ronaldo[i]}\")"
   ]
  },
  {
   "cell_type": "markdown",
   "id": "ce551d2b",
   "metadata": {
    "papermill": {
     "duration": 0.031422,
     "end_time": "2022-04-14T10:50:46.668350",
     "exception": false,
     "start_time": "2022-04-14T10:50:46.636928",
     "status": "completed"
    },
    "tags": []
   },
   "source": [
    "# Assign the predictions to the dataset"
   ]
  },
  {
   "cell_type": "markdown",
   "id": "6c369685",
   "metadata": {
    "papermill": {
     "duration": 0.063394,
     "end_time": "2022-04-14T10:50:46.767023",
     "exception": false,
     "start_time": "2022-04-14T10:50:46.703629",
     "status": "completed"
    },
    "tags": []
   },
   "source": [
    "## Messi"
   ]
  },
  {
   "cell_type": "code",
   "execution_count": 17,
   "id": "8e133ae4",
   "metadata": {
    "execution": {
     "iopub.execute_input": "2022-04-14T10:50:46.893348Z",
     "iopub.status.busy": "2022-04-14T10:50:46.892495Z",
     "iopub.status.idle": "2022-04-14T10:50:46.912637Z",
     "shell.execute_reply": "2022-04-14T10:50:46.913592Z",
     "shell.execute_reply.started": "2022-04-14T10:48:22.472018Z"
    },
    "papermill": {
     "duration": 0.081123,
     "end_time": "2022-04-14T10:50:46.913818",
     "exception": false,
     "start_time": "2022-04-14T10:50:46.832695",
     "status": "completed"
    },
    "tags": []
   },
   "outputs": [
    {
     "data": {
      "text/html": [
       "<div>\n",
       "<style scoped>\n",
       "    .dataframe tbody tr th:only-of-type {\n",
       "        vertical-align: middle;\n",
       "    }\n",
       "\n",
       "    .dataframe tbody tr th {\n",
       "        vertical-align: top;\n",
       "    }\n",
       "\n",
       "    .dataframe thead th {\n",
       "        text-align: right;\n",
       "    }\n",
       "</style>\n",
       "<table border=\"1\" class=\"dataframe\">\n",
       "  <thead>\n",
       "    <tr style=\"text-align: right;\">\n",
       "      <th></th>\n",
       "      <th>tweet_id</th>\n",
       "      <th>author_id</th>\n",
       "      <th>content</th>\n",
       "      <th>lang</th>\n",
       "      <th>date</th>\n",
       "      <th>source</th>\n",
       "      <th>geo</th>\n",
       "      <th>retweet_count</th>\n",
       "      <th>like_count</th>\n",
       "      <th>quote_count</th>\n",
       "      <th>prediction</th>\n",
       "    </tr>\n",
       "  </thead>\n",
       "  <tbody>\n",
       "    <tr>\n",
       "      <th>0</th>\n",
       "      <td>1514503439291543554</td>\n",
       "      <td>1504674335533187078</td>\n",
       "      <td>when did this happened messi</td>\n",
       "      <td>en</td>\n",
       "      <td>2022-04-14T07:18:52.000Z</td>\n",
       "      <td>Twitter for Android</td>\n",
       "      <td>-1</td>\n",
       "      <td>1</td>\n",
       "      <td>1</td>\n",
       "      <td>0</td>\n",
       "      <td>0.650695</td>\n",
       "    </tr>\n",
       "    <tr>\n",
       "      <th>1</th>\n",
       "      <td>1514503399462432770</td>\n",
       "      <td>1437183590781964290</td>\n",
       "      <td>highest ranking active players on my all time ...</td>\n",
       "      <td>en</td>\n",
       "      <td>2022-04-14T07:18:43.000Z</td>\n",
       "      <td>Twitter for iPhone</td>\n",
       "      <td>-1</td>\n",
       "      <td>0</td>\n",
       "      <td>0</td>\n",
       "      <td>0</td>\n",
       "      <td>0.616468</td>\n",
       "    </tr>\n",
       "    <tr>\n",
       "      <th>2</th>\n",
       "      <td>1514503259762958336</td>\n",
       "      <td>819679110</td>\n",
       "      <td>don t get me wrong mate i know he was good but...</td>\n",
       "      <td>en</td>\n",
       "      <td>2022-04-14T07:18:09.000Z</td>\n",
       "      <td>Twitter for iPhone</td>\n",
       "      <td>-1</td>\n",
       "      <td>0</td>\n",
       "      <td>0</td>\n",
       "      <td>0</td>\n",
       "      <td>0.655904</td>\n",
       "    </tr>\n",
       "    <tr>\n",
       "      <th>3</th>\n",
       "      <td>1514503228221702144</td>\n",
       "      <td>1012688452863909891</td>\n",
       "      <td>messi fans have no shame</td>\n",
       "      <td>en</td>\n",
       "      <td>2022-04-14T07:18:02.000Z</td>\n",
       "      <td>Twitter for Android</td>\n",
       "      <td>-1</td>\n",
       "      <td>0</td>\n",
       "      <td>0</td>\n",
       "      <td>0</td>\n",
       "      <td>0.703098</td>\n",
       "    </tr>\n",
       "    <tr>\n",
       "      <th>4</th>\n",
       "      <td>1514503144478322688</td>\n",
       "      <td>1309496212345810944</td>\n",
       "      <td>messi has to pay now 50m to play</td>\n",
       "      <td>en</td>\n",
       "      <td>2022-04-14T07:17:42.000Z</td>\n",
       "      <td>Twitter for Android</td>\n",
       "      <td>-1</td>\n",
       "      <td>0</td>\n",
       "      <td>1</td>\n",
       "      <td>0</td>\n",
       "      <td>0.669743</td>\n",
       "    </tr>\n",
       "  </tbody>\n",
       "</table>\n",
       "</div>"
      ],
      "text/plain": [
       "              tweet_id            author_id  \\\n",
       "0  1514503439291543554  1504674335533187078   \n",
       "1  1514503399462432770  1437183590781964290   \n",
       "2  1514503259762958336            819679110   \n",
       "3  1514503228221702144  1012688452863909891   \n",
       "4  1514503144478322688  1309496212345810944   \n",
       "\n",
       "                                             content lang  \\\n",
       "0                       when did this happened messi   en   \n",
       "1  highest ranking active players on my all time ...   en   \n",
       "2  don t get me wrong mate i know he was good but...   en   \n",
       "3                           messi fans have no shame   en   \n",
       "4                   messi has to pay now 50m to play   en   \n",
       "\n",
       "                       date               source geo  retweet_count  \\\n",
       "0  2022-04-14T07:18:52.000Z  Twitter for Android  -1              1   \n",
       "1  2022-04-14T07:18:43.000Z   Twitter for iPhone  -1              0   \n",
       "2  2022-04-14T07:18:09.000Z   Twitter for iPhone  -1              0   \n",
       "3  2022-04-14T07:18:02.000Z  Twitter for Android  -1              0   \n",
       "4  2022-04-14T07:17:42.000Z  Twitter for Android  -1              0   \n",
       "\n",
       "   like_count  quote_count  prediction  \n",
       "0           1            0    0.650695  \n",
       "1           0            0    0.616468  \n",
       "2           0            0    0.655904  \n",
       "3           0            0    0.703098  \n",
       "4           1            0    0.669743  "
      ]
     },
     "execution_count": 17,
     "metadata": {},
     "output_type": "execute_result"
    }
   ],
   "source": [
    "dataset_messi[\"prediction\"] = predictions_messi\n",
    "dataset_messi.head(5)"
   ]
  },
  {
   "cell_type": "markdown",
   "id": "2aaccd9d",
   "metadata": {
    "papermill": {
     "duration": 0.051361,
     "end_time": "2022-04-14T10:50:47.020228",
     "exception": false,
     "start_time": "2022-04-14T10:50:46.968867",
     "status": "completed"
    },
    "tags": []
   },
   "source": [
    "## Ronaldo"
   ]
  },
  {
   "cell_type": "code",
   "execution_count": 18,
   "id": "64ed6e4c",
   "metadata": {
    "execution": {
     "iopub.execute_input": "2022-04-14T10:50:47.128862Z",
     "iopub.status.busy": "2022-04-14T10:50:47.128048Z",
     "iopub.status.idle": "2022-04-14T10:50:47.150567Z",
     "shell.execute_reply": "2022-04-14T10:50:47.151456Z",
     "shell.execute_reply.started": "2022-04-14T10:48:22.497539Z"
    },
    "papermill": {
     "duration": 0.079525,
     "end_time": "2022-04-14T10:50:47.151652",
     "exception": false,
     "start_time": "2022-04-14T10:50:47.072127",
     "status": "completed"
    },
    "tags": []
   },
   "outputs": [
    {
     "data": {
      "text/html": [
       "<div>\n",
       "<style scoped>\n",
       "    .dataframe tbody tr th:only-of-type {\n",
       "        vertical-align: middle;\n",
       "    }\n",
       "\n",
       "    .dataframe tbody tr th {\n",
       "        vertical-align: top;\n",
       "    }\n",
       "\n",
       "    .dataframe thead th {\n",
       "        text-align: right;\n",
       "    }\n",
       "</style>\n",
       "<table border=\"1\" class=\"dataframe\">\n",
       "  <thead>\n",
       "    <tr style=\"text-align: right;\">\n",
       "      <th></th>\n",
       "      <th>tweet_id</th>\n",
       "      <th>author_id</th>\n",
       "      <th>content</th>\n",
       "      <th>lang</th>\n",
       "      <th>date</th>\n",
       "      <th>source</th>\n",
       "      <th>geo</th>\n",
       "      <th>retweet_count</th>\n",
       "      <th>like_count</th>\n",
       "      <th>quote_count</th>\n",
       "      <th>prediction</th>\n",
       "    </tr>\n",
       "  </thead>\n",
       "  <tbody>\n",
       "    <tr>\n",
       "      <th>0</th>\n",
       "      <td>1514503408820051969</td>\n",
       "      <td>1406215235829182470</td>\n",
       "      <td>dressing room source at ajax there s been crit...</td>\n",
       "      <td>en</td>\n",
       "      <td>2022-04-14T07:18:45.000Z</td>\n",
       "      <td>Twitter Web App</td>\n",
       "      <td>-1</td>\n",
       "      <td>0.0</td>\n",
       "      <td>0.0</td>\n",
       "      <td>0.0</td>\n",
       "      <td>0.698841</td>\n",
       "    </tr>\n",
       "    <tr>\n",
       "      <th>1</th>\n",
       "      <td>1514503399462432770</td>\n",
       "      <td>1437183590781964290</td>\n",
       "      <td>highest ranking active players on my all time ...</td>\n",
       "      <td>en</td>\n",
       "      <td>2022-04-14T07:18:43.000Z</td>\n",
       "      <td>Twitter for iPhone</td>\n",
       "      <td>-1</td>\n",
       "      <td>0.0</td>\n",
       "      <td>0.0</td>\n",
       "      <td>0.0</td>\n",
       "      <td>0.616468</td>\n",
       "    </tr>\n",
       "    <tr>\n",
       "      <th>2</th>\n",
       "      <td>1514503356764418051</td>\n",
       "      <td>1215836950931705856</td>\n",
       "      <td>i personally feel that cdm is the most importa...</td>\n",
       "      <td>en</td>\n",
       "      <td>2022-04-14T07:18:33.000Z</td>\n",
       "      <td>Twitter for Android</td>\n",
       "      <td>-1</td>\n",
       "      <td>0.0</td>\n",
       "      <td>0.0</td>\n",
       "      <td>0.0</td>\n",
       "      <td>0.622216</td>\n",
       "    </tr>\n",
       "    <tr>\n",
       "      <th>3</th>\n",
       "      <td>1514503333112864771</td>\n",
       "      <td>1201535456141168640</td>\n",
       "      <td>timber that s it these are the three essential...</td>\n",
       "      <td>en</td>\n",
       "      <td>2022-04-14T07:18:27.000Z</td>\n",
       "      <td>Twitter for Android</td>\n",
       "      <td>-1</td>\n",
       "      <td>0.0</td>\n",
       "      <td>0.0</td>\n",
       "      <td>0.0</td>\n",
       "      <td>0.588847</td>\n",
       "    </tr>\n",
       "    <tr>\n",
       "      <th>4</th>\n",
       "      <td>1514503191563579394</td>\n",
       "      <td>1080591523715129344</td>\n",
       "      <td>a quick reminder that cristiano ronaldo is the...</td>\n",
       "      <td>en</td>\n",
       "      <td>2022-04-14T07:17:53.000Z</td>\n",
       "      <td>Twitter for iPhone</td>\n",
       "      <td>-1</td>\n",
       "      <td>0.0</td>\n",
       "      <td>0.0</td>\n",
       "      <td>0.0</td>\n",
       "      <td>0.566481</td>\n",
       "    </tr>\n",
       "  </tbody>\n",
       "</table>\n",
       "</div>"
      ],
      "text/plain": [
       "              tweet_id            author_id  \\\n",
       "0  1514503408820051969  1406215235829182470   \n",
       "1  1514503399462432770  1437183590781964290   \n",
       "2  1514503356764418051  1215836950931705856   \n",
       "3  1514503333112864771  1201535456141168640   \n",
       "4  1514503191563579394  1080591523715129344   \n",
       "\n",
       "                                             content lang  \\\n",
       "0  dressing room source at ajax there s been crit...   en   \n",
       "1  highest ranking active players on my all time ...   en   \n",
       "2  i personally feel that cdm is the most importa...   en   \n",
       "3  timber that s it these are the three essential...   en   \n",
       "4  a quick reminder that cristiano ronaldo is the...   en   \n",
       "\n",
       "                       date               source geo  retweet_count  \\\n",
       "0  2022-04-14T07:18:45.000Z      Twitter Web App  -1            0.0   \n",
       "1  2022-04-14T07:18:43.000Z   Twitter for iPhone  -1            0.0   \n",
       "2  2022-04-14T07:18:33.000Z  Twitter for Android  -1            0.0   \n",
       "3  2022-04-14T07:18:27.000Z  Twitter for Android  -1            0.0   \n",
       "4  2022-04-14T07:17:53.000Z   Twitter for iPhone  -1            0.0   \n",
       "\n",
       "   like_count  quote_count  prediction  \n",
       "0         0.0          0.0    0.698841  \n",
       "1         0.0          0.0    0.616468  \n",
       "2         0.0          0.0    0.622216  \n",
       "3         0.0          0.0    0.588847  \n",
       "4         0.0          0.0    0.566481  "
      ]
     },
     "execution_count": 18,
     "metadata": {},
     "output_type": "execute_result"
    }
   ],
   "source": [
    "dataset_ronaldo[\"prediction\"] = predictions_ronaldo\n",
    "dataset_ronaldo.head(5)"
   ]
  },
  {
   "cell_type": "markdown",
   "id": "e0625ad3",
   "metadata": {
    "papermill": {
     "duration": 0.052736,
     "end_time": "2022-04-14T10:50:47.260228",
     "exception": false,
     "start_time": "2022-04-14T10:50:47.207492",
     "status": "completed"
    },
    "tags": []
   },
   "source": [
    "# From predictions to labels"
   ]
  },
  {
   "cell_type": "markdown",
   "id": "90c98125",
   "metadata": {
    "papermill": {
     "duration": 0.031999,
     "end_time": "2022-04-14T10:50:47.342296",
     "exception": false,
     "start_time": "2022-04-14T10:50:47.310297",
     "status": "completed"
    },
    "tags": []
   },
   "source": [
    "## Define the processing function"
   ]
  },
  {
   "cell_type": "code",
   "execution_count": 19,
   "id": "d8a585df",
   "metadata": {
    "execution": {
     "iopub.execute_input": "2022-04-14T10:50:47.412940Z",
     "iopub.status.busy": "2022-04-14T10:50:47.412040Z",
     "iopub.status.idle": "2022-04-14T10:50:47.413962Z",
     "shell.execute_reply": "2022-04-14T10:50:47.414445Z",
     "shell.execute_reply.started": "2022-04-14T10:48:22.524114Z"
    },
    "papermill": {
     "duration": 0.040105,
     "end_time": "2022-04-14T10:50:47.414593",
     "exception": false,
     "start_time": "2022-04-14T10:50:47.374488",
     "status": "completed"
    },
    "tags": []
   },
   "outputs": [],
   "source": [
    "def assign_label(x):\n",
    "    \"\"\"\n",
    "    Parameters\n",
    "    ----------\n",
    "    x : SCORE\n",
    "        The prediction score\n",
    "\n",
    "    Returns\n",
    "    -------\n",
    "    label : STRING\n",
    "        The sentiment of the tweet.\n",
    "    \"\"\"\n",
    "    rounded_x = round(x,2)\n",
    "    label = \"\"\n",
    "    if rounded_x >= 0.64: \n",
    "        label = \"Positive\"\n",
    "    elif rounded_x >= 0.6: \n",
    "        label = \"Neutral\"\n",
    "    else:\n",
    "        label = \"Negative\"\n",
    "    return label"
   ]
  },
  {
   "cell_type": "markdown",
   "id": "b3389446",
   "metadata": {
    "papermill": {
     "duration": 0.031622,
     "end_time": "2022-04-14T10:50:47.478203",
     "exception": false,
     "start_time": "2022-04-14T10:50:47.446581",
     "status": "completed"
    },
    "tags": []
   },
   "source": [
    "## Application : Messi Dataset"
   ]
  },
  {
   "cell_type": "code",
   "execution_count": 20,
   "id": "54a48a87",
   "metadata": {
    "execution": {
     "iopub.execute_input": "2022-04-14T10:50:47.568234Z",
     "iopub.status.busy": "2022-04-14T10:50:47.547182Z",
     "iopub.status.idle": "2022-04-14T10:50:47.642286Z",
     "shell.execute_reply": "2022-04-14T10:50:47.642762Z",
     "shell.execute_reply.started": "2022-04-14T10:48:22.533125Z"
    },
    "papermill": {
     "duration": 0.132329,
     "end_time": "2022-04-14T10:50:47.642921",
     "exception": false,
     "start_time": "2022-04-14T10:50:47.510592",
     "status": "completed"
    },
    "tags": []
   },
   "outputs": [
    {
     "data": {
      "text/html": [
       "<div>\n",
       "<style scoped>\n",
       "    .dataframe tbody tr th:only-of-type {\n",
       "        vertical-align: middle;\n",
       "    }\n",
       "\n",
       "    .dataframe tbody tr th {\n",
       "        vertical-align: top;\n",
       "    }\n",
       "\n",
       "    .dataframe thead th {\n",
       "        text-align: right;\n",
       "    }\n",
       "</style>\n",
       "<table border=\"1\" class=\"dataframe\">\n",
       "  <thead>\n",
       "    <tr style=\"text-align: right;\">\n",
       "      <th></th>\n",
       "      <th>tweet_id</th>\n",
       "      <th>author_id</th>\n",
       "      <th>content</th>\n",
       "      <th>lang</th>\n",
       "      <th>date</th>\n",
       "      <th>source</th>\n",
       "      <th>geo</th>\n",
       "      <th>retweet_count</th>\n",
       "      <th>like_count</th>\n",
       "      <th>quote_count</th>\n",
       "      <th>prediction</th>\n",
       "      <th>label</th>\n",
       "    </tr>\n",
       "  </thead>\n",
       "  <tbody>\n",
       "    <tr>\n",
       "      <th>0</th>\n",
       "      <td>1514503439291543554</td>\n",
       "      <td>1504674335533187078</td>\n",
       "      <td>when did this happened messi</td>\n",
       "      <td>en</td>\n",
       "      <td>2022-04-14T07:18:52.000Z</td>\n",
       "      <td>Twitter for Android</td>\n",
       "      <td>-1</td>\n",
       "      <td>1</td>\n",
       "      <td>1</td>\n",
       "      <td>0</td>\n",
       "      <td>0.650695</td>\n",
       "      <td>Positive</td>\n",
       "    </tr>\n",
       "    <tr>\n",
       "      <th>1</th>\n",
       "      <td>1514503399462432770</td>\n",
       "      <td>1437183590781964290</td>\n",
       "      <td>highest ranking active players on my all time ...</td>\n",
       "      <td>en</td>\n",
       "      <td>2022-04-14T07:18:43.000Z</td>\n",
       "      <td>Twitter for iPhone</td>\n",
       "      <td>-1</td>\n",
       "      <td>0</td>\n",
       "      <td>0</td>\n",
       "      <td>0</td>\n",
       "      <td>0.616468</td>\n",
       "      <td>Neutral</td>\n",
       "    </tr>\n",
       "    <tr>\n",
       "      <th>2</th>\n",
       "      <td>1514503259762958336</td>\n",
       "      <td>819679110</td>\n",
       "      <td>don t get me wrong mate i know he was good but...</td>\n",
       "      <td>en</td>\n",
       "      <td>2022-04-14T07:18:09.000Z</td>\n",
       "      <td>Twitter for iPhone</td>\n",
       "      <td>-1</td>\n",
       "      <td>0</td>\n",
       "      <td>0</td>\n",
       "      <td>0</td>\n",
       "      <td>0.655904</td>\n",
       "      <td>Positive</td>\n",
       "    </tr>\n",
       "    <tr>\n",
       "      <th>3</th>\n",
       "      <td>1514503228221702144</td>\n",
       "      <td>1012688452863909891</td>\n",
       "      <td>messi fans have no shame</td>\n",
       "      <td>en</td>\n",
       "      <td>2022-04-14T07:18:02.000Z</td>\n",
       "      <td>Twitter for Android</td>\n",
       "      <td>-1</td>\n",
       "      <td>0</td>\n",
       "      <td>0</td>\n",
       "      <td>0</td>\n",
       "      <td>0.703098</td>\n",
       "      <td>Positive</td>\n",
       "    </tr>\n",
       "    <tr>\n",
       "      <th>4</th>\n",
       "      <td>1514503144478322688</td>\n",
       "      <td>1309496212345810944</td>\n",
       "      <td>messi has to pay now 50m to play</td>\n",
       "      <td>en</td>\n",
       "      <td>2022-04-14T07:17:42.000Z</td>\n",
       "      <td>Twitter for Android</td>\n",
       "      <td>-1</td>\n",
       "      <td>0</td>\n",
       "      <td>1</td>\n",
       "      <td>0</td>\n",
       "      <td>0.669743</td>\n",
       "      <td>Positive</td>\n",
       "    </tr>\n",
       "  </tbody>\n",
       "</table>\n",
       "</div>"
      ],
      "text/plain": [
       "              tweet_id            author_id  \\\n",
       "0  1514503439291543554  1504674335533187078   \n",
       "1  1514503399462432770  1437183590781964290   \n",
       "2  1514503259762958336            819679110   \n",
       "3  1514503228221702144  1012688452863909891   \n",
       "4  1514503144478322688  1309496212345810944   \n",
       "\n",
       "                                             content lang  \\\n",
       "0                       when did this happened messi   en   \n",
       "1  highest ranking active players on my all time ...   en   \n",
       "2  don t get me wrong mate i know he was good but...   en   \n",
       "3                           messi fans have no shame   en   \n",
       "4                   messi has to pay now 50m to play   en   \n",
       "\n",
       "                       date               source geo  retweet_count  \\\n",
       "0  2022-04-14T07:18:52.000Z  Twitter for Android  -1              1   \n",
       "1  2022-04-14T07:18:43.000Z   Twitter for iPhone  -1              0   \n",
       "2  2022-04-14T07:18:09.000Z   Twitter for iPhone  -1              0   \n",
       "3  2022-04-14T07:18:02.000Z  Twitter for Android  -1              0   \n",
       "4  2022-04-14T07:17:42.000Z  Twitter for Android  -1              0   \n",
       "\n",
       "   like_count  quote_count  prediction     label  \n",
       "0           1            0    0.650695  Positive  \n",
       "1           0            0    0.616468   Neutral  \n",
       "2           0            0    0.655904  Positive  \n",
       "3           0            0    0.703098  Positive  \n",
       "4           1            0    0.669743  Positive  "
      ]
     },
     "execution_count": 20,
     "metadata": {},
     "output_type": "execute_result"
    }
   ],
   "source": [
    " # Create a column named \"label\"\n",
    "dataset_messi[\"label\"] = \"0\"\n",
    "dataset_messi[\"label\"] = dataset_messi.prediction.apply(lambda x: assign_label(x))\n",
    "dataset_messi.head(5)"
   ]
  },
  {
   "cell_type": "markdown",
   "id": "847bd8b4",
   "metadata": {
    "papermill": {
     "duration": 0.042818,
     "end_time": "2022-04-14T10:50:47.721303",
     "exception": false,
     "start_time": "2022-04-14T10:50:47.678485",
     "status": "completed"
    },
    "tags": []
   },
   "source": [
    "## Application : Ronaldo Dataset"
   ]
  },
  {
   "cell_type": "code",
   "execution_count": 21,
   "id": "e4890303",
   "metadata": {
    "execution": {
     "iopub.execute_input": "2022-04-14T10:50:47.811798Z",
     "iopub.status.busy": "2022-04-14T10:50:47.798219Z",
     "iopub.status.idle": "2022-04-14T10:50:47.893075Z",
     "shell.execute_reply": "2022-04-14T10:50:47.893665Z",
     "shell.execute_reply.started": "2022-04-14T10:48:22.664476Z"
    },
    "papermill": {
     "duration": 0.134634,
     "end_time": "2022-04-14T10:50:47.893818",
     "exception": false,
     "start_time": "2022-04-14T10:50:47.759184",
     "status": "completed"
    },
    "tags": []
   },
   "outputs": [
    {
     "data": {
      "text/html": [
       "<div>\n",
       "<style scoped>\n",
       "    .dataframe tbody tr th:only-of-type {\n",
       "        vertical-align: middle;\n",
       "    }\n",
       "\n",
       "    .dataframe tbody tr th {\n",
       "        vertical-align: top;\n",
       "    }\n",
       "\n",
       "    .dataframe thead th {\n",
       "        text-align: right;\n",
       "    }\n",
       "</style>\n",
       "<table border=\"1\" class=\"dataframe\">\n",
       "  <thead>\n",
       "    <tr style=\"text-align: right;\">\n",
       "      <th></th>\n",
       "      <th>tweet_id</th>\n",
       "      <th>author_id</th>\n",
       "      <th>content</th>\n",
       "      <th>lang</th>\n",
       "      <th>date</th>\n",
       "      <th>source</th>\n",
       "      <th>geo</th>\n",
       "      <th>retweet_count</th>\n",
       "      <th>like_count</th>\n",
       "      <th>quote_count</th>\n",
       "      <th>prediction</th>\n",
       "      <th>label</th>\n",
       "    </tr>\n",
       "  </thead>\n",
       "  <tbody>\n",
       "    <tr>\n",
       "      <th>0</th>\n",
       "      <td>1514503408820051969</td>\n",
       "      <td>1406215235829182470</td>\n",
       "      <td>dressing room source at ajax there s been crit...</td>\n",
       "      <td>en</td>\n",
       "      <td>2022-04-14T07:18:45.000Z</td>\n",
       "      <td>Twitter Web App</td>\n",
       "      <td>-1</td>\n",
       "      <td>0.0</td>\n",
       "      <td>0.0</td>\n",
       "      <td>0.0</td>\n",
       "      <td>0.698841</td>\n",
       "      <td>Positive</td>\n",
       "    </tr>\n",
       "    <tr>\n",
       "      <th>1</th>\n",
       "      <td>1514503399462432770</td>\n",
       "      <td>1437183590781964290</td>\n",
       "      <td>highest ranking active players on my all time ...</td>\n",
       "      <td>en</td>\n",
       "      <td>2022-04-14T07:18:43.000Z</td>\n",
       "      <td>Twitter for iPhone</td>\n",
       "      <td>-1</td>\n",
       "      <td>0.0</td>\n",
       "      <td>0.0</td>\n",
       "      <td>0.0</td>\n",
       "      <td>0.616468</td>\n",
       "      <td>Neutral</td>\n",
       "    </tr>\n",
       "    <tr>\n",
       "      <th>2</th>\n",
       "      <td>1514503356764418051</td>\n",
       "      <td>1215836950931705856</td>\n",
       "      <td>i personally feel that cdm is the most importa...</td>\n",
       "      <td>en</td>\n",
       "      <td>2022-04-14T07:18:33.000Z</td>\n",
       "      <td>Twitter for Android</td>\n",
       "      <td>-1</td>\n",
       "      <td>0.0</td>\n",
       "      <td>0.0</td>\n",
       "      <td>0.0</td>\n",
       "      <td>0.622216</td>\n",
       "      <td>Neutral</td>\n",
       "    </tr>\n",
       "    <tr>\n",
       "      <th>3</th>\n",
       "      <td>1514503333112864771</td>\n",
       "      <td>1201535456141168640</td>\n",
       "      <td>timber that s it these are the three essential...</td>\n",
       "      <td>en</td>\n",
       "      <td>2022-04-14T07:18:27.000Z</td>\n",
       "      <td>Twitter for Android</td>\n",
       "      <td>-1</td>\n",
       "      <td>0.0</td>\n",
       "      <td>0.0</td>\n",
       "      <td>0.0</td>\n",
       "      <td>0.588847</td>\n",
       "      <td>Negative</td>\n",
       "    </tr>\n",
       "    <tr>\n",
       "      <th>4</th>\n",
       "      <td>1514503191563579394</td>\n",
       "      <td>1080591523715129344</td>\n",
       "      <td>a quick reminder that cristiano ronaldo is the...</td>\n",
       "      <td>en</td>\n",
       "      <td>2022-04-14T07:17:53.000Z</td>\n",
       "      <td>Twitter for iPhone</td>\n",
       "      <td>-1</td>\n",
       "      <td>0.0</td>\n",
       "      <td>0.0</td>\n",
       "      <td>0.0</td>\n",
       "      <td>0.566481</td>\n",
       "      <td>Negative</td>\n",
       "    </tr>\n",
       "  </tbody>\n",
       "</table>\n",
       "</div>"
      ],
      "text/plain": [
       "              tweet_id            author_id  \\\n",
       "0  1514503408820051969  1406215235829182470   \n",
       "1  1514503399462432770  1437183590781964290   \n",
       "2  1514503356764418051  1215836950931705856   \n",
       "3  1514503333112864771  1201535456141168640   \n",
       "4  1514503191563579394  1080591523715129344   \n",
       "\n",
       "                                             content lang  \\\n",
       "0  dressing room source at ajax there s been crit...   en   \n",
       "1  highest ranking active players on my all time ...   en   \n",
       "2  i personally feel that cdm is the most importa...   en   \n",
       "3  timber that s it these are the three essential...   en   \n",
       "4  a quick reminder that cristiano ronaldo is the...   en   \n",
       "\n",
       "                       date               source geo  retweet_count  \\\n",
       "0  2022-04-14T07:18:45.000Z      Twitter Web App  -1            0.0   \n",
       "1  2022-04-14T07:18:43.000Z   Twitter for iPhone  -1            0.0   \n",
       "2  2022-04-14T07:18:33.000Z  Twitter for Android  -1            0.0   \n",
       "3  2022-04-14T07:18:27.000Z  Twitter for Android  -1            0.0   \n",
       "4  2022-04-14T07:17:53.000Z   Twitter for iPhone  -1            0.0   \n",
       "\n",
       "   like_count  quote_count  prediction     label  \n",
       "0         0.0          0.0    0.698841  Positive  \n",
       "1         0.0          0.0    0.616468   Neutral  \n",
       "2         0.0          0.0    0.622216   Neutral  \n",
       "3         0.0          0.0    0.588847  Negative  \n",
       "4         0.0          0.0    0.566481  Negative  "
      ]
     },
     "execution_count": 21,
     "metadata": {},
     "output_type": "execute_result"
    }
   ],
   "source": [
    "# Create a column named \"label\"\n",
    "dataset_ronaldo[\"label\"] = \"0\" \n",
    "dataset_ronaldo[\"label\"] = dataset_ronaldo.prediction.apply(lambda x: assign_label(x))\n",
    "dataset_ronaldo.head(5)"
   ]
  },
  {
   "cell_type": "markdown",
   "id": "3e4eb11f",
   "metadata": {
    "papermill": {
     "duration": 0.033068,
     "end_time": "2022-04-14T10:50:47.960490",
     "exception": false,
     "start_time": "2022-04-14T10:50:47.927422",
     "status": "completed"
    },
    "tags": []
   },
   "source": [
    "# Save the results\n",
    "> Note : if you plan to use the dataset, feel free to manually check and tweak the results, in order to come closer to a human-precision level"
   ]
  },
  {
   "cell_type": "markdown",
   "id": "1bbb6e93",
   "metadata": {
    "papermill": {
     "duration": 0.032662,
     "end_time": "2022-04-14T10:50:48.025927",
     "exception": false,
     "start_time": "2022-04-14T10:50:47.993265",
     "status": "completed"
    },
    "tags": []
   },
   "source": [
    "## Messi "
   ]
  },
  {
   "cell_type": "code",
   "execution_count": 22,
   "id": "e63a23fb",
   "metadata": {
    "execution": {
     "iopub.execute_input": "2022-04-14T10:50:48.095719Z",
     "iopub.status.busy": "2022-04-14T10:50:48.095050Z",
     "iopub.status.idle": "2022-04-14T10:50:48.882610Z",
     "shell.execute_reply": "2022-04-14T10:50:48.882081Z",
     "shell.execute_reply.started": "2022-04-14T10:48:22.785765Z"
    },
    "papermill": {
     "duration": 0.824272,
     "end_time": "2022-04-14T10:50:48.882746",
     "exception": false,
     "start_time": "2022-04-14T10:50:48.058474",
     "status": "completed"
    },
    "tags": []
   },
   "outputs": [],
   "source": [
    "dataset_messi.to_csv(\"Predictions_messi.csv\", index=False)"
   ]
  },
  {
   "cell_type": "markdown",
   "id": "d8d2c1ee",
   "metadata": {
    "papermill": {
     "duration": 0.033575,
     "end_time": "2022-04-14T10:50:48.950173",
     "exception": false,
     "start_time": "2022-04-14T10:50:48.916598",
     "status": "completed"
    },
    "tags": []
   },
   "source": [
    "## Ronaldo"
   ]
  },
  {
   "cell_type": "code",
   "execution_count": 23,
   "id": "11bc0c85",
   "metadata": {
    "execution": {
     "iopub.execute_input": "2022-04-14T10:50:49.022654Z",
     "iopub.status.busy": "2022-04-14T10:50:49.021852Z",
     "iopub.status.idle": "2022-04-14T10:50:49.954217Z",
     "shell.execute_reply": "2022-04-14T10:50:49.953680Z",
     "shell.execute_reply.started": "2022-04-14T10:48:23.626372Z"
    },
    "papermill": {
     "duration": 0.970615,
     "end_time": "2022-04-14T10:50:49.954352",
     "exception": false,
     "start_time": "2022-04-14T10:50:48.983737",
     "status": "completed"
    },
    "tags": []
   },
   "outputs": [],
   "source": [
    "dataset_ronaldo.to_csv(\"Predictions_ronaldo.csv\", index=False)"
   ]
  }
 ],
 "metadata": {
  "kernelspec": {
   "display_name": "Python 3",
   "language": "python",
   "name": "python3"
  },
  "language_info": {
   "codemirror_mode": {
    "name": "ipython",
    "version": 3
   },
   "file_extension": ".py",
   "mimetype": "text/x-python",
   "name": "python",
   "nbconvert_exporter": "python",
   "pygments_lexer": "ipython3",
   "version": "3.7.10"
  },
  "papermill": {
   "default_parameters": {},
   "duration": 92.692867,
   "end_time": "2022-04-14T10:50:52.793081",
   "environment_variables": {},
   "exception": null,
   "input_path": "__notebook__.ipynb",
   "output_path": "__notebook__.ipynb",
   "parameters": {},
   "start_time": "2022-04-14T10:49:20.100214",
   "version": "2.3.3"
  }
 },
 "nbformat": 4,
 "nbformat_minor": 5
}
