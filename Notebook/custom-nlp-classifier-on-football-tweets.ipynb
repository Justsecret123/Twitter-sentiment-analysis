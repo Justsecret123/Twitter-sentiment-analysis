{
 "cells": [
  {
   "cell_type": "markdown",
   "id": "2b8818e0",
   "metadata": {
    "papermill": {
     "duration": 0.026618,
     "end_time": "2022-05-09T10:04:10.884326",
     "exception": false,
     "start_time": "2022-05-09T10:04:10.857708",
     "status": "completed"
    },
    "tags": []
   },
   "source": [
    "# What to expect 🤔\n",
    "\n",
    "In this Notebook, we're going to run inferences on our tweets Dataset with the Sentiment Analysis model trained [here](https://www.kaggle.com/code/ibrahimserouis99/twitter-sentiment-analysis). (~83% accuracy)"
   ]
  },
  {
   "cell_type": "markdown",
   "id": "606e9841",
   "metadata": {
    "papermill": {
     "duration": 0.024808,
     "end_time": "2022-05-09T10:04:10.937458",
     "exception": false,
     "start_time": "2022-05-09T10:04:10.912650",
     "status": "completed"
    },
    "tags": []
   },
   "source": [
    "# Libraries "
   ]
  },
  {
   "cell_type": "code",
   "execution_count": 1,
   "id": "cc15a18d",
   "metadata": {
    "execution": {
     "iopub.execute_input": "2022-05-09T10:04:11.068580Z",
     "iopub.status.busy": "2022-05-09T10:04:11.067867Z",
     "iopub.status.idle": "2022-05-09T10:04:15.691912Z",
     "shell.execute_reply": "2022-05-09T10:04:15.691315Z",
     "shell.execute_reply.started": "2022-05-09T09:57:49.180810Z"
    },
    "papermill": {
     "duration": 4.729655,
     "end_time": "2022-05-09T10:04:15.692072",
     "exception": false,
     "start_time": "2022-05-09T10:04:10.962417",
     "status": "completed"
    },
    "tags": []
   },
   "outputs": [
    {
     "name": "stderr",
     "output_type": "stream",
     "text": [
      "2022-05-09 10:04:11.588170: I tensorflow/stream_executor/platform/default/dso_loader.cc:49] Successfully opened dynamic library libcudart.so.11.0\n"
     ]
    }
   ],
   "source": [
    "import numpy as np \n",
    "import pandas as pd\n",
    "import tensorflow as tf\n",
    "from tensorflow.keras.models import load_model"
   ]
  },
  {
   "cell_type": "markdown",
   "id": "1c3ad1c7",
   "metadata": {
    "papermill": {
     "duration": 0.025505,
     "end_time": "2022-05-09T10:04:15.743964",
     "exception": false,
     "start_time": "2022-05-09T10:04:15.718459",
     "status": "completed"
    },
    "tags": []
   },
   "source": [
    "# Exploring the datasets 🔬"
   ]
  },
  {
   "cell_type": "markdown",
   "id": "5d137460",
   "metadata": {
    "papermill": {
     "duration": 0.025168,
     "end_time": "2022-05-09T10:04:15.794682",
     "exception": false,
     "start_time": "2022-05-09T10:04:15.769514",
     "status": "completed"
    },
    "tags": []
   },
   "source": [
    "## Messi"
   ]
  },
  {
   "cell_type": "code",
   "execution_count": 2,
   "id": "cdfe0632",
   "metadata": {
    "execution": {
     "iopub.execute_input": "2022-05-09T10:04:15.850674Z",
     "iopub.status.busy": "2022-05-09T10:04:15.850156Z",
     "iopub.status.idle": "2022-05-09T10:04:16.875732Z",
     "shell.execute_reply": "2022-05-09T10:04:16.876283Z",
     "shell.execute_reply.started": "2022-05-09T09:57:53.801773Z"
    },
    "papermill": {
     "duration": 1.055713,
     "end_time": "2022-05-09T10:04:16.876437",
     "exception": false,
     "start_time": "2022-05-09T10:04:15.820724",
     "status": "completed"
    },
    "tags": []
   },
   "outputs": [
    {
     "data": {
      "text/html": [
       "<div>\n",
       "<style scoped>\n",
       "    .dataframe tbody tr th:only-of-type {\n",
       "        vertical-align: middle;\n",
       "    }\n",
       "\n",
       "    .dataframe tbody tr th {\n",
       "        vertical-align: top;\n",
       "    }\n",
       "\n",
       "    .dataframe thead th {\n",
       "        text-align: right;\n",
       "    }\n",
       "</style>\n",
       "<table border=\"1\" class=\"dataframe\">\n",
       "  <thead>\n",
       "    <tr style=\"text-align: right;\">\n",
       "      <th></th>\n",
       "      <th>tweet_id</th>\n",
       "      <th>author_id</th>\n",
       "      <th>content</th>\n",
       "      <th>lang</th>\n",
       "      <th>date</th>\n",
       "      <th>source</th>\n",
       "      <th>geo</th>\n",
       "      <th>retweet_count</th>\n",
       "      <th>like_count</th>\n",
       "      <th>quote_count</th>\n",
       "    </tr>\n",
       "  </thead>\n",
       "  <tbody>\n",
       "    <tr>\n",
       "      <th>0</th>\n",
       "      <td>1523587143632703488</td>\n",
       "      <td>1292468372618326023</td>\n",
       "      <td>oh yeah and messi contributed so heavily to hi...</td>\n",
       "      <td>en</td>\n",
       "      <td>2022-05-09T08:54:16.000Z</td>\n",
       "      <td>Twitter for Android</td>\n",
       "      <td>-1</td>\n",
       "      <td>0</td>\n",
       "      <td>0</td>\n",
       "      <td>0</td>\n",
       "    </tr>\n",
       "    <tr>\n",
       "      <th>1</th>\n",
       "      <td>1523587126595825664</td>\n",
       "      <td>3985914141</td>\n",
       "      <td>this level of stretch is insane he literally t...</td>\n",
       "      <td>en</td>\n",
       "      <td>2022-05-09T08:54:12.000Z</td>\n",
       "      <td>Twitter for iPhone</td>\n",
       "      <td>-1</td>\n",
       "      <td>0</td>\n",
       "      <td>0</td>\n",
       "      <td>0</td>\n",
       "    </tr>\n",
       "    <tr>\n",
       "      <th>2</th>\n",
       "      <td>1523587117556715520</td>\n",
       "      <td>1480936861790924801</td>\n",
       "      <td>fred and messi tradeable thoughts</td>\n",
       "      <td>en</td>\n",
       "      <td>2022-05-09T08:54:10.000Z</td>\n",
       "      <td>Twitter for Android</td>\n",
       "      <td>-1</td>\n",
       "      <td>0</td>\n",
       "      <td>1</td>\n",
       "      <td>0</td>\n",
       "    </tr>\n",
       "    <tr>\n",
       "      <th>3</th>\n",
       "      <td>1523587113005948929</td>\n",
       "      <td>1424726769236529155</td>\n",
       "      <td>their is a reason most tickets sold in worldcu...</td>\n",
       "      <td>en</td>\n",
       "      <td>2022-05-09T08:54:09.000Z</td>\n",
       "      <td>Twitter Web App</td>\n",
       "      <td>-1</td>\n",
       "      <td>0</td>\n",
       "      <td>0</td>\n",
       "      <td>0</td>\n",
       "    </tr>\n",
       "    <tr>\n",
       "      <th>4</th>\n",
       "      <td>1523587088381136896</td>\n",
       "      <td>942073809464467456</td>\n",
       "      <td>ok sir i think you know messi better than mess...</td>\n",
       "      <td>en</td>\n",
       "      <td>2022-05-09T08:54:03.000Z</td>\n",
       "      <td>Twitter for Android</td>\n",
       "      <td>-1</td>\n",
       "      <td>0</td>\n",
       "      <td>0</td>\n",
       "      <td>0</td>\n",
       "    </tr>\n",
       "  </tbody>\n",
       "</table>\n",
       "</div>"
      ],
      "text/plain": [
       "              tweet_id            author_id  \\\n",
       "0  1523587143632703488  1292468372618326023   \n",
       "1  1523587126595825664           3985914141   \n",
       "2  1523587117556715520  1480936861790924801   \n",
       "3  1523587113005948929  1424726769236529155   \n",
       "4  1523587088381136896   942073809464467456   \n",
       "\n",
       "                                             content lang  \\\n",
       "0  oh yeah and messi contributed so heavily to hi...   en   \n",
       "1  this level of stretch is insane he literally t...   en   \n",
       "2                  fred and messi tradeable thoughts   en   \n",
       "3  their is a reason most tickets sold in worldcu...   en   \n",
       "4  ok sir i think you know messi better than mess...   en   \n",
       "\n",
       "                       date               source geo  retweet_count  \\\n",
       "0  2022-05-09T08:54:16.000Z  Twitter for Android  -1              0   \n",
       "1  2022-05-09T08:54:12.000Z   Twitter for iPhone  -1              0   \n",
       "2  2022-05-09T08:54:10.000Z  Twitter for Android  -1              0   \n",
       "3  2022-05-09T08:54:09.000Z      Twitter Web App  -1              0   \n",
       "4  2022-05-09T08:54:03.000Z  Twitter for Android  -1              0   \n",
       "\n",
       "   like_count  quote_count  \n",
       "0           0            0  \n",
       "1           0            0  \n",
       "2           1            0  \n",
       "3           0            0  \n",
       "4           0            0  "
      ]
     },
     "execution_count": 2,
     "metadata": {},
     "output_type": "execute_result"
    }
   ],
   "source": [
    "dataset_messi = pd.read_csv(\"../input/twitter-sentiment-analysis-and-word-embeddings/Cleaned_messi_tweets.csv\", encoding=\"latin\")\n",
    "dataset_messi.head(5)"
   ]
  },
  {
   "cell_type": "markdown",
   "id": "a084fa75",
   "metadata": {
    "papermill": {
     "duration": 0.025813,
     "end_time": "2022-05-09T10:04:16.928568",
     "exception": false,
     "start_time": "2022-05-09T10:04:16.902755",
     "status": "completed"
    },
    "tags": []
   },
   "source": [
    "### Check for duplicate tweets"
   ]
  },
  {
   "cell_type": "code",
   "execution_count": 3,
   "id": "1766b176",
   "metadata": {
    "execution": {
     "iopub.execute_input": "2022-05-09T10:04:16.987377Z",
     "iopub.status.busy": "2022-05-09T10:04:16.983469Z",
     "iopub.status.idle": "2022-05-09T10:04:16.994892Z",
     "shell.execute_reply": "2022-05-09T10:04:16.994450Z",
     "shell.execute_reply.started": "2022-05-09T09:57:54.720304Z"
    },
    "papermill": {
     "duration": 0.040045,
     "end_time": "2022-05-09T10:04:16.995007",
     "exception": false,
     "start_time": "2022-05-09T10:04:16.954962",
     "status": "completed"
    },
    "tags": []
   },
   "outputs": [],
   "source": [
    "assert len(np.unique(dataset_messi[\"tweet_id\"])) == len(dataset_messi.index), \"Duplicate IDs !\""
   ]
  },
  {
   "cell_type": "markdown",
   "id": "0e21dd9d",
   "metadata": {
    "papermill": {
     "duration": 0.025784,
     "end_time": "2022-05-09T10:04:17.046638",
     "exception": false,
     "start_time": "2022-05-09T10:04:17.020854",
     "status": "completed"
    },
    "tags": []
   },
   "source": [
    "### Drop N/A values"
   ]
  },
  {
   "cell_type": "code",
   "execution_count": 4,
   "id": "6ff6e058",
   "metadata": {
    "execution": {
     "iopub.execute_input": "2022-05-09T10:04:17.196487Z",
     "iopub.status.busy": "2022-05-09T10:04:17.195731Z",
     "iopub.status.idle": "2022-05-09T10:04:17.433546Z",
     "shell.execute_reply": "2022-05-09T10:04:17.434003Z",
     "shell.execute_reply.started": "2022-05-09T09:57:54.735763Z"
    },
    "papermill": {
     "duration": 0.361497,
     "end_time": "2022-05-09T10:04:17.434159",
     "exception": false,
     "start_time": "2022-05-09T10:04:17.072662",
     "status": "completed"
    },
    "tags": []
   },
   "outputs": [
    {
     "name": "stdout",
     "output_type": "stream",
     "text": [
      "Number of N/A: \n",
      "tweet_id         0\n",
      "author_id        0\n",
      "content          1\n",
      "lang             0\n",
      "date             0\n",
      "source           0\n",
      "geo              0\n",
      "retweet_count    0\n",
      "like_count       0\n",
      "quote_count      0\n",
      "dtype: int64\n",
      "\n",
      "Dropping N/A values...\n",
      "\n",
      "\n",
      "Number N/A after dropping: \n",
      "tweet_id         0\n",
      "author_id        0\n",
      "content          0\n",
      "lang             0\n",
      "date             0\n",
      "source           0\n",
      "geo              0\n",
      "retweet_count    0\n",
      "like_count       0\n",
      "quote_count      0\n",
      "dtype: int64\n"
     ]
    }
   ],
   "source": [
    "print(f\"Number of N/A: \\n{dataset_messi.isna().sum()}\")\n",
    "print(f\"\\nDropping N/A values...\")\n",
    "# Inplace = replace the original dataframe\n",
    "dataset_messi.dropna(inplace=True)\n",
    "print(f\"\\n\\nNumber N/A after dropping: \\n{dataset_messi.isna().sum()}\")"
   ]
  },
  {
   "cell_type": "markdown",
   "id": "43272c1e",
   "metadata": {
    "papermill": {
     "duration": 0.026318,
     "end_time": "2022-05-09T10:04:17.486986",
     "exception": false,
     "start_time": "2022-05-09T10:04:17.460668",
     "status": "completed"
    },
    "tags": []
   },
   "source": [
    "## Ronaldo"
   ]
  },
  {
   "cell_type": "code",
   "execution_count": 5,
   "id": "47b13e53",
   "metadata": {
    "execution": {
     "iopub.execute_input": "2022-05-09T10:04:17.543816Z",
     "iopub.status.busy": "2022-05-09T10:04:17.543148Z",
     "iopub.status.idle": "2022-05-09T10:04:18.696045Z",
     "shell.execute_reply": "2022-05-09T10:04:18.696498Z",
     "shell.execute_reply.started": "2022-05-09T09:57:55.075539Z"
    },
    "papermill": {
     "duration": 1.183392,
     "end_time": "2022-05-09T10:04:18.696667",
     "exception": false,
     "start_time": "2022-05-09T10:04:17.513275",
     "status": "completed"
    },
    "tags": []
   },
   "outputs": [
    {
     "data": {
      "text/html": [
       "<div>\n",
       "<style scoped>\n",
       "    .dataframe tbody tr th:only-of-type {\n",
       "        vertical-align: middle;\n",
       "    }\n",
       "\n",
       "    .dataframe tbody tr th {\n",
       "        vertical-align: top;\n",
       "    }\n",
       "\n",
       "    .dataframe thead th {\n",
       "        text-align: right;\n",
       "    }\n",
       "</style>\n",
       "<table border=\"1\" class=\"dataframe\">\n",
       "  <thead>\n",
       "    <tr style=\"text-align: right;\">\n",
       "      <th></th>\n",
       "      <th>tweet_id</th>\n",
       "      <th>author_id</th>\n",
       "      <th>content</th>\n",
       "      <th>lang</th>\n",
       "      <th>date</th>\n",
       "      <th>source</th>\n",
       "      <th>geo</th>\n",
       "      <th>retweet_count</th>\n",
       "      <th>like_count</th>\n",
       "      <th>quote_count</th>\n",
       "    </tr>\n",
       "  </thead>\n",
       "  <tbody>\n",
       "    <tr>\n",
       "      <th>0</th>\n",
       "      <td>1523587244572872704</td>\n",
       "      <td>1383801795823116291</td>\n",
       "      <td>where is the band leader ronaldo</td>\n",
       "      <td>en</td>\n",
       "      <td>2022-05-09T08:54:40.000Z</td>\n",
       "      <td>Twitter for Android</td>\n",
       "      <td>-1</td>\n",
       "      <td>0.0</td>\n",
       "      <td>0.0</td>\n",
       "      <td>0.0</td>\n",
       "    </tr>\n",
       "    <tr>\n",
       "      <th>1</th>\n",
       "      <td>1523587203351293953</td>\n",
       "      <td>1011901831411322880</td>\n",
       "      <td>all untradeable except alex telles what could ...</td>\n",
       "      <td>en</td>\n",
       "      <td>2022-05-09T08:54:30.000Z</td>\n",
       "      <td>Twitter Web App</td>\n",
       "      <td>-1</td>\n",
       "      <td>0.0</td>\n",
       "      <td>0.0</td>\n",
       "      <td>0.0</td>\n",
       "    </tr>\n",
       "    <tr>\n",
       "      <th>2</th>\n",
       "      <td>1523587136968003584</td>\n",
       "      <td>288628771</td>\n",
       "      <td>or cr</td>\n",
       "      <td>en</td>\n",
       "      <td>2022-05-09T08:54:14.000Z</td>\n",
       "      <td>Twitter for iPhone</td>\n",
       "      <td>-1</td>\n",
       "      <td>0.0</td>\n",
       "      <td>0.0</td>\n",
       "      <td>0.0</td>\n",
       "    </tr>\n",
       "    <tr>\n",
       "      <th>3</th>\n",
       "      <td>1523587113005948929</td>\n",
       "      <td>1424726769236529155</td>\n",
       "      <td>their is a reason most tickets sold in worldcu...</td>\n",
       "      <td>en</td>\n",
       "      <td>2022-05-09T08:54:09.000Z</td>\n",
       "      <td>Twitter Web App</td>\n",
       "      <td>-1</td>\n",
       "      <td>0.0</td>\n",
       "      <td>0.0</td>\n",
       "      <td>0.0</td>\n",
       "    </tr>\n",
       "    <tr>\n",
       "      <th>4</th>\n",
       "      <td>1523587106647560192</td>\n",
       "      <td>278038673</td>\n",
       "      <td>erik ten hag needs some constance says he want...</td>\n",
       "      <td>en</td>\n",
       "      <td>2022-05-09T08:54:07.000Z</td>\n",
       "      <td>Wildmoka</td>\n",
       "      <td>-1</td>\n",
       "      <td>5.0</td>\n",
       "      <td>19.0</td>\n",
       "      <td>0.0</td>\n",
       "    </tr>\n",
       "  </tbody>\n",
       "</table>\n",
       "</div>"
      ],
      "text/plain": [
       "              tweet_id            author_id  \\\n",
       "0  1523587244572872704  1383801795823116291   \n",
       "1  1523587203351293953  1011901831411322880   \n",
       "2  1523587136968003584            288628771   \n",
       "3  1523587113005948929  1424726769236529155   \n",
       "4  1523587106647560192            278038673   \n",
       "\n",
       "                                             content lang  \\\n",
       "0                   where is the band leader ronaldo   en   \n",
       "1  all untradeable except alex telles what could ...   en   \n",
       "2                                              or cr   en   \n",
       "3  their is a reason most tickets sold in worldcu...   en   \n",
       "4  erik ten hag needs some constance says he want...   en   \n",
       "\n",
       "                       date               source geo  retweet_count  \\\n",
       "0  2022-05-09T08:54:40.000Z  Twitter for Android  -1            0.0   \n",
       "1  2022-05-09T08:54:30.000Z      Twitter Web App  -1            0.0   \n",
       "2  2022-05-09T08:54:14.000Z   Twitter for iPhone  -1            0.0   \n",
       "3  2022-05-09T08:54:09.000Z      Twitter Web App  -1            0.0   \n",
       "4  2022-05-09T08:54:07.000Z             Wildmoka  -1            5.0   \n",
       "\n",
       "   like_count  quote_count  \n",
       "0         0.0          0.0  \n",
       "1         0.0          0.0  \n",
       "2         0.0          0.0  \n",
       "3         0.0          0.0  \n",
       "4        19.0          0.0  "
      ]
     },
     "execution_count": 5,
     "metadata": {},
     "output_type": "execute_result"
    }
   ],
   "source": [
    "dataset_ronaldo = pd.read_csv(\"../input/twitter-sentiment-analysis-and-word-embeddings/Cleaned_ronaldo_tweets.csv\", encoding=\"utf-8\")\n",
    "dataset_ronaldo.head(5)"
   ]
  },
  {
   "cell_type": "markdown",
   "id": "504f185a",
   "metadata": {
    "papermill": {
     "duration": 0.026994,
     "end_time": "2022-05-09T10:04:18.754676",
     "exception": false,
     "start_time": "2022-05-09T10:04:18.727682",
     "status": "completed"
    },
    "tags": []
   },
   "source": [
    "### Check for duplicate tweets"
   ]
  },
  {
   "cell_type": "code",
   "execution_count": 6,
   "id": "69e2a142",
   "metadata": {
    "execution": {
     "iopub.execute_input": "2022-05-09T10:04:18.813130Z",
     "iopub.status.busy": "2022-05-09T10:04:18.812574Z",
     "iopub.status.idle": "2022-05-09T10:04:18.820672Z",
     "shell.execute_reply": "2022-05-09T10:04:18.820285Z",
     "shell.execute_reply.started": "2022-05-09T09:57:56.255837Z"
    },
    "papermill": {
     "duration": 0.039378,
     "end_time": "2022-05-09T10:04:18.820806",
     "exception": false,
     "start_time": "2022-05-09T10:04:18.781428",
     "status": "completed"
    },
    "tags": []
   },
   "outputs": [],
   "source": [
    "assert len(np.unique(dataset_ronaldo[\"tweet_id\"])) == len(dataset_ronaldo.index), \"Duplicate IDs!\""
   ]
  },
  {
   "cell_type": "markdown",
   "id": "587f86cf",
   "metadata": {
    "papermill": {
     "duration": 0.027371,
     "end_time": "2022-05-09T10:04:18.874904",
     "exception": false,
     "start_time": "2022-05-09T10:04:18.847533",
     "status": "completed"
    },
    "tags": []
   },
   "source": [
    "### Check data"
   ]
  },
  {
   "cell_type": "code",
   "execution_count": 7,
   "id": "663cbf6f",
   "metadata": {
    "execution": {
     "iopub.execute_input": "2022-05-09T10:04:18.932917Z",
     "iopub.status.busy": "2022-05-09T10:04:18.932079Z",
     "iopub.status.idle": "2022-05-09T10:04:19.293314Z",
     "shell.execute_reply": "2022-05-09T10:04:19.293723Z",
     "shell.execute_reply.started": "2022-05-09T09:57:56.270820Z"
    },
    "papermill": {
     "duration": 0.392199,
     "end_time": "2022-05-09T10:04:19.293884",
     "exception": false,
     "start_time": "2022-05-09T10:04:18.901685",
     "status": "completed"
    },
    "tags": []
   },
   "outputs": [
    {
     "name": "stdout",
     "output_type": "stream",
     "text": [
      "Number of N/A: \n",
      "tweet_id          0\n",
      "author_id         0\n",
      "content          11\n",
      "lang              0\n",
      "date              0\n",
      "source            0\n",
      "geo               0\n",
      "retweet_count     0\n",
      "like_count        0\n",
      "quote_count       0\n",
      "dtype: int64\n",
      "\n",
      "Dropping N/A values...\n",
      "\n",
      "\n",
      "Number N/A after dropping: \n",
      "tweet_id         0\n",
      "author_id        0\n",
      "content          0\n",
      "lang             0\n",
      "date             0\n",
      "source           0\n",
      "geo              0\n",
      "retweet_count    0\n",
      "like_count       0\n",
      "quote_count      0\n",
      "dtype: int64\n"
     ]
    }
   ],
   "source": [
    "print(f\"Number of N/A: \\n{dataset_ronaldo.isna().sum()}\")\n",
    "print(f\"\\nDropping N/A values...\")\n",
    "# Inplace = replace the original dataframe\n",
    "dataset_ronaldo.dropna(inplace=True)\n",
    "print(f\"\\n\\nNumber N/A after dropping: \\n{dataset_ronaldo.isna().sum()}\")"
   ]
  },
  {
   "cell_type": "markdown",
   "id": "d97ecfbb",
   "metadata": {
    "papermill": {
     "duration": 0.027178,
     "end_time": "2022-05-09T10:04:19.348471",
     "exception": false,
     "start_time": "2022-05-09T10:04:19.321293",
     "status": "completed"
    },
    "tags": []
   },
   "source": [
    "# Load the model 🔌"
   ]
  },
  {
   "cell_type": "code",
   "execution_count": 8,
   "id": "e4a72f55",
   "metadata": {
    "execution": {
     "iopub.execute_input": "2022-05-09T10:04:19.407167Z",
     "iopub.status.busy": "2022-05-09T10:04:19.406477Z",
     "iopub.status.idle": "2022-05-09T10:04:44.901485Z",
     "shell.execute_reply": "2022-05-09T10:04:44.901976Z",
     "shell.execute_reply.started": "2022-05-09T09:57:56.655420Z"
    },
    "papermill": {
     "duration": 25.526345,
     "end_time": "2022-05-09T10:04:44.902160",
     "exception": false,
     "start_time": "2022-05-09T10:04:19.375815",
     "status": "completed"
    },
    "tags": []
   },
   "outputs": [
    {
     "name": "stderr",
     "output_type": "stream",
     "text": [
      "2022-05-09 10:04:20.378402: I tensorflow/compiler/jit/xla_cpu_device.cc:41] Not creating XLA devices, tf_xla_enable_xla_devices not set\n",
      "2022-05-09 10:04:20.381605: I tensorflow/stream_executor/platform/default/dso_loader.cc:49] Successfully opened dynamic library libcuda.so.1\n",
      "2022-05-09 10:04:20.450627: I tensorflow/stream_executor/cuda/cuda_gpu_executor.cc:941] successful NUMA node read from SysFS had negative value (-1), but there must be at least one NUMA node, so returning NUMA node zero\n",
      "2022-05-09 10:04:20.451325: I tensorflow/core/common_runtime/gpu/gpu_device.cc:1720] Found device 0 with properties: \n",
      "pciBusID: 0000:00:04.0 name: Tesla P100-PCIE-16GB computeCapability: 6.0\n",
      "coreClock: 1.3285GHz coreCount: 56 deviceMemorySize: 15.90GiB deviceMemoryBandwidth: 681.88GiB/s\n",
      "2022-05-09 10:04:20.451403: I tensorflow/stream_executor/platform/default/dso_loader.cc:49] Successfully opened dynamic library libcudart.so.11.0\n",
      "2022-05-09 10:04:20.559567: I tensorflow/stream_executor/platform/default/dso_loader.cc:49] Successfully opened dynamic library libcublas.so.11\n",
      "2022-05-09 10:04:20.559653: I tensorflow/stream_executor/platform/default/dso_loader.cc:49] Successfully opened dynamic library libcublasLt.so.11\n",
      "2022-05-09 10:04:20.579417: I tensorflow/stream_executor/platform/default/dso_loader.cc:49] Successfully opened dynamic library libcufft.so.10\n",
      "2022-05-09 10:04:20.587874: I tensorflow/stream_executor/platform/default/dso_loader.cc:49] Successfully opened dynamic library libcurand.so.10\n",
      "2022-05-09 10:04:20.617770: I tensorflow/stream_executor/platform/default/dso_loader.cc:49] Successfully opened dynamic library libcusolver.so.10\n",
      "2022-05-09 10:04:20.624801: I tensorflow/stream_executor/platform/default/dso_loader.cc:49] Successfully opened dynamic library libcusparse.so.11\n",
      "2022-05-09 10:04:20.629188: I tensorflow/stream_executor/platform/default/dso_loader.cc:49] Successfully opened dynamic library libcudnn.so.8\n",
      "2022-05-09 10:04:20.629345: I tensorflow/stream_executor/cuda/cuda_gpu_executor.cc:941] successful NUMA node read from SysFS had negative value (-1), but there must be at least one NUMA node, so returning NUMA node zero\n",
      "2022-05-09 10:04:20.630117: I tensorflow/stream_executor/cuda/cuda_gpu_executor.cc:941] successful NUMA node read from SysFS had negative value (-1), but there must be at least one NUMA node, so returning NUMA node zero\n",
      "2022-05-09 10:04:20.631997: I tensorflow/core/common_runtime/gpu/gpu_device.cc:1862] Adding visible gpu devices: 0\n",
      "2022-05-09 10:04:20.633106: I tensorflow/core/platform/cpu_feature_guard.cc:142] This TensorFlow binary is optimized with oneAPI Deep Neural Network Library (oneDNN) to use the following CPU instructions in performance-critical operations:  AVX2 AVX512F FMA\n",
      "To enable them in other operations, rebuild TensorFlow with the appropriate compiler flags.\n",
      "2022-05-09 10:04:20.633303: I tensorflow/compiler/jit/xla_gpu_device.cc:99] Not creating XLA devices, tf_xla_enable_xla_devices not set\n",
      "2022-05-09 10:04:20.633468: I tensorflow/stream_executor/cuda/cuda_gpu_executor.cc:941] successful NUMA node read from SysFS had negative value (-1), but there must be at least one NUMA node, so returning NUMA node zero\n",
      "2022-05-09 10:04:20.634125: I tensorflow/core/common_runtime/gpu/gpu_device.cc:1720] Found device 0 with properties: \n",
      "pciBusID: 0000:00:04.0 name: Tesla P100-PCIE-16GB computeCapability: 6.0\n",
      "coreClock: 1.3285GHz coreCount: 56 deviceMemorySize: 15.90GiB deviceMemoryBandwidth: 681.88GiB/s\n",
      "2022-05-09 10:04:20.634181: I tensorflow/stream_executor/platform/default/dso_loader.cc:49] Successfully opened dynamic library libcudart.so.11.0\n",
      "2022-05-09 10:04:20.634204: I tensorflow/stream_executor/platform/default/dso_loader.cc:49] Successfully opened dynamic library libcublas.so.11\n",
      "2022-05-09 10:04:20.634220: I tensorflow/stream_executor/platform/default/dso_loader.cc:49] Successfully opened dynamic library libcublasLt.so.11\n",
      "2022-05-09 10:04:20.634236: I tensorflow/stream_executor/platform/default/dso_loader.cc:49] Successfully opened dynamic library libcufft.so.10\n",
      "2022-05-09 10:04:20.634251: I tensorflow/stream_executor/platform/default/dso_loader.cc:49] Successfully opened dynamic library libcurand.so.10\n",
      "2022-05-09 10:04:20.634266: I tensorflow/stream_executor/platform/default/dso_loader.cc:49] Successfully opened dynamic library libcusolver.so.10\n",
      "2022-05-09 10:04:20.634283: I tensorflow/stream_executor/platform/default/dso_loader.cc:49] Successfully opened dynamic library libcusparse.so.11\n",
      "2022-05-09 10:04:20.634298: I tensorflow/stream_executor/platform/default/dso_loader.cc:49] Successfully opened dynamic library libcudnn.so.8\n",
      "2022-05-09 10:04:20.634392: I tensorflow/stream_executor/cuda/cuda_gpu_executor.cc:941] successful NUMA node read from SysFS had negative value (-1), but there must be at least one NUMA node, so returning NUMA node zero\n",
      "2022-05-09 10:04:20.635112: I tensorflow/stream_executor/cuda/cuda_gpu_executor.cc:941] successful NUMA node read from SysFS had negative value (-1), but there must be at least one NUMA node, so returning NUMA node zero\n",
      "2022-05-09 10:04:20.635721: I tensorflow/core/common_runtime/gpu/gpu_device.cc:1862] Adding visible gpu devices: 0\n",
      "2022-05-09 10:04:20.636744: I tensorflow/stream_executor/platform/default/dso_loader.cc:49] Successfully opened dynamic library libcudart.so.11.0\n",
      "2022-05-09 10:04:22.078746: I tensorflow/core/common_runtime/gpu/gpu_device.cc:1261] Device interconnect StreamExecutor with strength 1 edge matrix:\n",
      "2022-05-09 10:04:22.078797: I tensorflow/core/common_runtime/gpu/gpu_device.cc:1267]      0 \n",
      "2022-05-09 10:04:22.078807: I tensorflow/core/common_runtime/gpu/gpu_device.cc:1280] 0:   N \n",
      "2022-05-09 10:04:22.082152: I tensorflow/stream_executor/cuda/cuda_gpu_executor.cc:941] successful NUMA node read from SysFS had negative value (-1), but there must be at least one NUMA node, so returning NUMA node zero\n",
      "2022-05-09 10:04:22.083008: I tensorflow/stream_executor/cuda/cuda_gpu_executor.cc:941] successful NUMA node read from SysFS had negative value (-1), but there must be at least one NUMA node, so returning NUMA node zero\n",
      "2022-05-09 10:04:22.083637: I tensorflow/stream_executor/cuda/cuda_gpu_executor.cc:941] successful NUMA node read from SysFS had negative value (-1), but there must be at least one NUMA node, so returning NUMA node zero\n",
      "2022-05-09 10:04:22.084232: I tensorflow/core/common_runtime/gpu/gpu_device.cc:1406] Created TensorFlow device (/job:localhost/replica:0/task:0/device:GPU:0 with 14957 MB memory) -> physical GPU (device: 0, name: Tesla P100-PCIE-16GB, pci bus id: 0000:00:04.0, compute capability: 6.0)\n",
      "2022-05-09 10:04:41.990746: I tensorflow/compiler/mlir/mlir_graph_optimization_pass.cc:116] None of the MLIR optimization passes are enabled (registered 2)\n",
      "2022-05-09 10:04:42.002002: I tensorflow/core/platform/profile_utils/cpu_utils.cc:112] CPU Frequency: 2000179999 Hz\n"
     ]
    },
    {
     "name": "stdout",
     "output_type": "stream",
     "text": [
      "Model: \"sequential_1\"\n",
      "_________________________________________________________________\n",
      "Layer (type)                 Output Shape              Param #   \n",
      "=================================================================\n",
      "text_vectorization (TextVect (None, 53)                0         \n",
      "_________________________________________________________________\n",
      "sequential (Sequential)      (None, 1)                 27859389  \n",
      "_________________________________________________________________\n",
      "activation (Activation)      (None, 1)                 0         \n",
      "=================================================================\n",
      "Total params: 27,859,389\n",
      "Trainable params: 27,859,389\n",
      "Non-trainable params: 0\n",
      "_________________________________________________________________\n"
     ]
    }
   ],
   "source": [
    "model = load_model(\"../input/twitter-sentiment-analysis-and-word-embeddings/TSA_model_v4\")\n",
    "model.summary()"
   ]
  },
  {
   "cell_type": "markdown",
   "id": "387436f8",
   "metadata": {
    "papermill": {
     "duration": 0.028261,
     "end_time": "2022-05-09T10:04:44.959027",
     "exception": false,
     "start_time": "2022-05-09T10:04:44.930766",
     "status": "completed"
    },
    "tags": []
   },
   "source": [
    "# Set the thresholds : refer to [this link](https://github.com/Justsecret123/Twitter-sentiment-analysis/blob/main/Notebook/twitter-sentiment-analysis.ipynb)  🛠"
   ]
  },
  {
   "cell_type": "code",
   "execution_count": 9,
   "id": "1e64372f",
   "metadata": {
    "execution": {
     "iopub.execute_input": "2022-05-09T10:04:45.019681Z",
     "iopub.status.busy": "2022-05-09T10:04:45.018924Z",
     "iopub.status.idle": "2022-05-09T10:04:45.021530Z",
     "shell.execute_reply": "2022-05-09T10:04:45.021101Z",
     "shell.execute_reply.started": "2022-05-09T09:58:22.973831Z"
    },
    "papermill": {
     "duration": 0.034329,
     "end_time": "2022-05-09T10:04:45.021634",
     "exception": false,
     "start_time": "2022-05-09T10:04:44.987305",
     "status": "completed"
    },
    "tags": []
   },
   "outputs": [],
   "source": [
    "threshold = 0.625"
   ]
  },
  {
   "cell_type": "markdown",
   "id": "42d5d747",
   "metadata": {
    "papermill": {
     "duration": 0.028028,
     "end_time": "2022-05-09T10:04:45.078082",
     "exception": false,
     "start_time": "2022-05-09T10:04:45.050054",
     "status": "completed"
    },
    "tags": []
   },
   "source": [
    "# Run inferences"
   ]
  },
  {
   "cell_type": "markdown",
   "id": "9b9c00db",
   "metadata": {
    "papermill": {
     "duration": 0.027873,
     "end_time": "2022-05-09T10:04:45.134344",
     "exception": false,
     "start_time": "2022-05-09T10:04:45.106471",
     "status": "completed"
    },
    "tags": []
   },
   "source": [
    "## Messi dataset"
   ]
  },
  {
   "cell_type": "code",
   "execution_count": 10,
   "id": "99d7b737",
   "metadata": {
    "execution": {
     "iopub.execute_input": "2022-05-09T10:04:45.197025Z",
     "iopub.status.busy": "2022-05-09T10:04:45.196197Z",
     "iopub.status.idle": "2022-05-09T10:04:45.199784Z",
     "shell.execute_reply": "2022-05-09T10:04:45.199305Z",
     "shell.execute_reply.started": "2022-05-09T09:58:22.982547Z"
    },
    "papermill": {
     "duration": 0.037425,
     "end_time": "2022-05-09T10:04:45.199897",
     "exception": false,
     "start_time": "2022-05-09T10:04:45.162472",
     "status": "completed"
    },
    "tags": []
   },
   "outputs": [
    {
     "data": {
      "text/plain": [
       "0    oh yeah and messi contributed so heavily to hi...\n",
       "1    this level of stretch is insane he literally t...\n",
       "2                    fred and messi tradeable thoughts\n",
       "3    their is a reason most tickets sold in worldcu...\n",
       "4    ok sir i think you know messi better than mess...\n",
       "5    so psg pays million a week to messi to keep do...\n",
       "6    messi is a better goal scorer too its obvious ...\n",
       "7    ronaldo for juventus games goals assists g a i...\n",
       "8                messi is basically german for hoarder\n",
       "9                               all these cos of messi\n",
       "Name: content, dtype: object"
      ]
     },
     "execution_count": 10,
     "metadata": {},
     "output_type": "execute_result"
    }
   ],
   "source": [
    "X_messi = dataset_messi[\"content\"]\n",
    "X_messi.head(10)"
   ]
  },
  {
   "cell_type": "markdown",
   "id": "11b48719",
   "metadata": {
    "papermill": {
     "duration": 0.028348,
     "end_time": "2022-05-09T10:04:45.256923",
     "exception": false,
     "start_time": "2022-05-09T10:04:45.228575",
     "status": "completed"
    },
    "tags": []
   },
   "source": [
    "### Perform inferences"
   ]
  },
  {
   "cell_type": "code",
   "execution_count": 11,
   "id": "968e4594",
   "metadata": {
    "execution": {
     "iopub.execute_input": "2022-05-09T10:04:45.317349Z",
     "iopub.status.busy": "2022-05-09T10:04:45.316852Z",
     "iopub.status.idle": "2022-05-09T10:05:54.374998Z",
     "shell.execute_reply": "2022-05-09T10:05:54.375524Z",
     "shell.execute_reply.started": "2022-05-09T09:58:22.994298Z"
    },
    "papermill": {
     "duration": 69.090357,
     "end_time": "2022-05-09T10:05:54.375743",
     "exception": false,
     "start_time": "2022-05-09T10:04:45.285386",
     "status": "completed"
    },
    "tags": []
   },
   "outputs": [
    {
     "name": "stderr",
     "output_type": "stream",
     "text": [
      "2022-05-09 10:04:47.179156: I tensorflow/stream_executor/platform/default/dso_loader.cc:49] Successfully opened dynamic library libcublas.so.11\n",
      "2022-05-09 10:04:47.979837: I tensorflow/stream_executor/platform/default/dso_loader.cc:49] Successfully opened dynamic library libcublasLt.so.11\n",
      "2022-05-09 10:04:48.038345: I tensorflow/stream_executor/platform/default/dso_loader.cc:49] Successfully opened dynamic library libcudnn.so.8\n"
     ]
    }
   ],
   "source": [
    "predictions_messi = model.predict(X_messi)"
   ]
  },
  {
   "cell_type": "markdown",
   "id": "71e091e0",
   "metadata": {
    "papermill": {
     "duration": 0.030645,
     "end_time": "2022-05-09T10:05:54.436274",
     "exception": false,
     "start_time": "2022-05-09T10:05:54.405629",
     "status": "completed"
    },
    "tags": []
   },
   "source": [
    "### Display some results"
   ]
  },
  {
   "cell_type": "code",
   "execution_count": 12,
   "id": "930b038d",
   "metadata": {
    "execution": {
     "iopub.execute_input": "2022-05-09T10:05:54.499887Z",
     "iopub.status.busy": "2022-05-09T10:05:54.499013Z",
     "iopub.status.idle": "2022-05-09T10:05:54.519804Z",
     "shell.execute_reply": "2022-05-09T10:05:54.520335Z",
     "shell.execute_reply.started": "2022-05-09T09:59:36.299452Z"
    },
    "papermill": {
     "duration": 0.054858,
     "end_time": "2022-05-09T10:05:54.520507",
     "exception": false,
     "start_time": "2022-05-09T10:05:54.465649",
     "status": "completed"
    },
    "tags": []
   },
   "outputs": [
    {
     "name": "stdout",
     "output_type": "stream",
     "text": [
      "Tweet: oh yeah and messi contributed so heavily to his trophies at psg ||| Score : [0.61182326]\n",
      "Tweet: this level of stretch is insane he literally tried to force his way out of psg to go back to bar a and play with messi inevitably losing no even tried paying part of his own transfer fee it s a stupid premise to act like neymar doesn t respect messi ||| Score : [0.62912303]\n",
      "Tweet: fred and messi tradeable thoughts ||| Score : [0.5103146]\n",
      "Tweet: their is a reason most tickets sold in worldcup were that of argentina surely people dont consider watching portuguese merchant man you have no idea what messi stands for ronaldo stands for factos and two jealous ||| Score : [0.6450123]\n",
      "Tweet: ok sir i think you know messi better than messi himself ||| Score : [0.57039213]\n",
      "Tweet: so psg pays million a week to messi to keep doing what neymar has been doing for a while its easy to feed mbappe because he converts from nothing they brought him so they could have a suarez messi partnership but one guy couldn t hold it up not a bad thing to have a bad season ||| Score : [0.53043205]\n",
      "Tweet: messi is a better goal scorer too its obvious ronaldo has more goals since he played more matches ||| Score : [0.7271393]\n",
      "Tweet: ronaldo for juventus games goals assists g a in games neymar for psg games goals assists g a in games one is compared to messi and other to luis diaz ||| Score : [0.6018136]\n",
      "Tweet: messi is basically german for hoarder ||| Score : [0.70135033]\n",
      "Tweet: all these cos of messi ||| Score : [0.68055606]\n"
     ]
    }
   ],
   "source": [
    "for i in range(10): \n",
    "    print(f\"Tweet: {X_messi[i]} ||| Score : {predictions_messi[i]}\")"
   ]
  },
  {
   "cell_type": "markdown",
   "id": "f8f0f346",
   "metadata": {
    "papermill": {
     "duration": 0.029646,
     "end_time": "2022-05-09T10:05:54.580892",
     "exception": false,
     "start_time": "2022-05-09T10:05:54.551246",
     "status": "completed"
    },
    "tags": []
   },
   "source": [
    "## Ronaldo dataset"
   ]
  },
  {
   "cell_type": "code",
   "execution_count": 13,
   "id": "f5d22867",
   "metadata": {
    "execution": {
     "iopub.execute_input": "2022-05-09T10:05:54.646984Z",
     "iopub.status.busy": "2022-05-09T10:05:54.646191Z",
     "iopub.status.idle": "2022-05-09T10:05:54.649224Z",
     "shell.execute_reply": "2022-05-09T10:05:54.649632Z",
     "shell.execute_reply.started": "2022-05-09T09:59:36.325302Z"
    },
    "papermill": {
     "duration": 0.03945,
     "end_time": "2022-05-09T10:05:54.649795",
     "exception": false,
     "start_time": "2022-05-09T10:05:54.610345",
     "status": "completed"
    },
    "tags": []
   },
   "outputs": [
    {
     "data": {
      "text/plain": [
       "0                     where is the band leader ronaldo\n",
       "1    all untradeable except alex telles what could ...\n",
       "2                                                or cr\n",
       "3    their is a reason most tickets sold in worldcu...\n",
       "4    erik ten hag needs some constance says he want...\n",
       "Name: content, dtype: object"
      ]
     },
     "execution_count": 13,
     "metadata": {},
     "output_type": "execute_result"
    }
   ],
   "source": [
    "X_ronaldo = dataset_ronaldo[\"content\"]\n",
    "X_ronaldo.head(5)"
   ]
  },
  {
   "cell_type": "code",
   "execution_count": 14,
   "id": "bbf037dd",
   "metadata": {
    "execution": {
     "iopub.execute_input": "2022-05-09T10:05:54.713917Z",
     "iopub.status.busy": "2022-05-09T10:05:54.713121Z",
     "iopub.status.idle": "2022-05-09T10:07:08.282142Z",
     "shell.execute_reply": "2022-05-09T10:07:08.282617Z",
     "shell.execute_reply.started": "2022-05-09T09:59:36.336054Z"
    },
    "papermill": {
     "duration": 73.602884,
     "end_time": "2022-05-09T10:07:08.282828",
     "exception": false,
     "start_time": "2022-05-09T10:05:54.679944",
     "status": "completed"
    },
    "tags": []
   },
   "outputs": [],
   "source": [
    "predictions_ronaldo = model.predict(X_ronaldo)"
   ]
  },
  {
   "cell_type": "markdown",
   "id": "888231bf",
   "metadata": {
    "papermill": {
     "duration": 0.030134,
     "end_time": "2022-05-09T10:07:08.344023",
     "exception": false,
     "start_time": "2022-05-09T10:07:08.313889",
     "status": "completed"
    },
    "tags": []
   },
   "source": [
    "### Display some results"
   ]
  },
  {
   "cell_type": "code",
   "execution_count": 15,
   "id": "3cb525ce",
   "metadata": {
    "execution": {
     "iopub.execute_input": "2022-05-09T10:07:08.409075Z",
     "iopub.status.busy": "2022-05-09T10:07:08.408276Z",
     "iopub.status.idle": "2022-05-09T10:07:08.426005Z",
     "shell.execute_reply": "2022-05-09T10:07:08.426410Z",
     "shell.execute_reply.started": "2022-05-09T10:00:56.079368Z"
    },
    "papermill": {
     "duration": 0.052514,
     "end_time": "2022-05-09T10:07:08.426536",
     "exception": false,
     "start_time": "2022-05-09T10:07:08.374022",
     "status": "completed"
    },
    "tags": []
   },
   "outputs": [
    {
     "name": "stdout",
     "output_type": "stream",
     "text": [
      "Tweet: where is the band leader ronaldo ||| Score : [0.7283744]\n",
      "Tweet: all untradeable except alex telles what could i change in game with cr and bernardo as strikers ||| Score : [0.70669216]\n",
      "Tweet: or cr ||| Score : [0.7226145]\n",
      "Tweet: their is a reason most tickets sold in worldcup were that of argentina surely people dont consider watching portuguese merchant man you have no idea what messi stands for ronaldo stands for factos and two jealous ||| Score : [0.6450123]\n",
      "Tweet: erik ten hag needs some constance says he wants cristiano ronaldo to stay at man united for at least one more season ||| Score : [0.5930576]\n",
      "Tweet: if ronaldo leaves then we ll make it for sure ||| Score : [0.54073703]\n",
      "Tweet: not cr his contract is this proof ||| Score : [0.691198]\n",
      "Tweet: and don t forget ronaldo for new era with hag ||| Score : [0.7160235]\n",
      "Tweet: messi is a better goal scorer too its obvious ronaldo has more goals since he played more matches ||| Score : [0.7271393]\n",
      "Tweet: ronaldo for juventus games goals assists g a in games neymar for psg games goals assists g a in games one is compared to messi and other to luis diaz ||| Score : [0.6018136]\n"
     ]
    }
   ],
   "source": [
    "for i in range(10): \n",
    "    print(f\"Tweet: {X_ronaldo[i]} ||| Score : {predictions_ronaldo[i]}\")"
   ]
  },
  {
   "cell_type": "markdown",
   "id": "0da07a58",
   "metadata": {
    "papermill": {
     "duration": 0.029997,
     "end_time": "2022-05-09T10:07:08.487003",
     "exception": false,
     "start_time": "2022-05-09T10:07:08.457006",
     "status": "completed"
    },
    "tags": []
   },
   "source": [
    "# Assign the predictions to the dataset 📝"
   ]
  },
  {
   "cell_type": "markdown",
   "id": "2f11f46e",
   "metadata": {
    "papermill": {
     "duration": 0.029994,
     "end_time": "2022-05-09T10:07:08.549498",
     "exception": false,
     "start_time": "2022-05-09T10:07:08.519504",
     "status": "completed"
    },
    "tags": []
   },
   "source": [
    "## Messi"
   ]
  },
  {
   "cell_type": "code",
   "execution_count": 16,
   "id": "f2a10432",
   "metadata": {
    "execution": {
     "iopub.execute_input": "2022-05-09T10:07:08.626515Z",
     "iopub.status.busy": "2022-05-09T10:07:08.625849Z",
     "iopub.status.idle": "2022-05-09T10:07:08.628990Z",
     "shell.execute_reply": "2022-05-09T10:07:08.629394Z",
     "shell.execute_reply.started": "2022-05-09T10:00:56.105775Z"
    },
    "papermill": {
     "duration": 0.049523,
     "end_time": "2022-05-09T10:07:08.629516",
     "exception": false,
     "start_time": "2022-05-09T10:07:08.579993",
     "status": "completed"
    },
    "tags": []
   },
   "outputs": [
    {
     "data": {
      "text/html": [
       "<div>\n",
       "<style scoped>\n",
       "    .dataframe tbody tr th:only-of-type {\n",
       "        vertical-align: middle;\n",
       "    }\n",
       "\n",
       "    .dataframe tbody tr th {\n",
       "        vertical-align: top;\n",
       "    }\n",
       "\n",
       "    .dataframe thead th {\n",
       "        text-align: right;\n",
       "    }\n",
       "</style>\n",
       "<table border=\"1\" class=\"dataframe\">\n",
       "  <thead>\n",
       "    <tr style=\"text-align: right;\">\n",
       "      <th></th>\n",
       "      <th>tweet_id</th>\n",
       "      <th>author_id</th>\n",
       "      <th>content</th>\n",
       "      <th>lang</th>\n",
       "      <th>date</th>\n",
       "      <th>source</th>\n",
       "      <th>geo</th>\n",
       "      <th>retweet_count</th>\n",
       "      <th>like_count</th>\n",
       "      <th>quote_count</th>\n",
       "      <th>prediction</th>\n",
       "    </tr>\n",
       "  </thead>\n",
       "  <tbody>\n",
       "    <tr>\n",
       "      <th>0</th>\n",
       "      <td>1523587143632703488</td>\n",
       "      <td>1292468372618326023</td>\n",
       "      <td>oh yeah and messi contributed so heavily to hi...</td>\n",
       "      <td>en</td>\n",
       "      <td>2022-05-09T08:54:16.000Z</td>\n",
       "      <td>Twitter for Android</td>\n",
       "      <td>-1</td>\n",
       "      <td>0</td>\n",
       "      <td>0</td>\n",
       "      <td>0</td>\n",
       "      <td>0.611823</td>\n",
       "    </tr>\n",
       "    <tr>\n",
       "      <th>1</th>\n",
       "      <td>1523587126595825664</td>\n",
       "      <td>3985914141</td>\n",
       "      <td>this level of stretch is insane he literally t...</td>\n",
       "      <td>en</td>\n",
       "      <td>2022-05-09T08:54:12.000Z</td>\n",
       "      <td>Twitter for iPhone</td>\n",
       "      <td>-1</td>\n",
       "      <td>0</td>\n",
       "      <td>0</td>\n",
       "      <td>0</td>\n",
       "      <td>0.629123</td>\n",
       "    </tr>\n",
       "    <tr>\n",
       "      <th>2</th>\n",
       "      <td>1523587117556715520</td>\n",
       "      <td>1480936861790924801</td>\n",
       "      <td>fred and messi tradeable thoughts</td>\n",
       "      <td>en</td>\n",
       "      <td>2022-05-09T08:54:10.000Z</td>\n",
       "      <td>Twitter for Android</td>\n",
       "      <td>-1</td>\n",
       "      <td>0</td>\n",
       "      <td>1</td>\n",
       "      <td>0</td>\n",
       "      <td>0.510315</td>\n",
       "    </tr>\n",
       "    <tr>\n",
       "      <th>3</th>\n",
       "      <td>1523587113005948929</td>\n",
       "      <td>1424726769236529155</td>\n",
       "      <td>their is a reason most tickets sold in worldcu...</td>\n",
       "      <td>en</td>\n",
       "      <td>2022-05-09T08:54:09.000Z</td>\n",
       "      <td>Twitter Web App</td>\n",
       "      <td>-1</td>\n",
       "      <td>0</td>\n",
       "      <td>0</td>\n",
       "      <td>0</td>\n",
       "      <td>0.645012</td>\n",
       "    </tr>\n",
       "    <tr>\n",
       "      <th>4</th>\n",
       "      <td>1523587088381136896</td>\n",
       "      <td>942073809464467456</td>\n",
       "      <td>ok sir i think you know messi better than mess...</td>\n",
       "      <td>en</td>\n",
       "      <td>2022-05-09T08:54:03.000Z</td>\n",
       "      <td>Twitter for Android</td>\n",
       "      <td>-1</td>\n",
       "      <td>0</td>\n",
       "      <td>0</td>\n",
       "      <td>0</td>\n",
       "      <td>0.570392</td>\n",
       "    </tr>\n",
       "  </tbody>\n",
       "</table>\n",
       "</div>"
      ],
      "text/plain": [
       "              tweet_id            author_id  \\\n",
       "0  1523587143632703488  1292468372618326023   \n",
       "1  1523587126595825664           3985914141   \n",
       "2  1523587117556715520  1480936861790924801   \n",
       "3  1523587113005948929  1424726769236529155   \n",
       "4  1523587088381136896   942073809464467456   \n",
       "\n",
       "                                             content lang  \\\n",
       "0  oh yeah and messi contributed so heavily to hi...   en   \n",
       "1  this level of stretch is insane he literally t...   en   \n",
       "2                  fred and messi tradeable thoughts   en   \n",
       "3  their is a reason most tickets sold in worldcu...   en   \n",
       "4  ok sir i think you know messi better than mess...   en   \n",
       "\n",
       "                       date               source geo  retweet_count  \\\n",
       "0  2022-05-09T08:54:16.000Z  Twitter for Android  -1              0   \n",
       "1  2022-05-09T08:54:12.000Z   Twitter for iPhone  -1              0   \n",
       "2  2022-05-09T08:54:10.000Z  Twitter for Android  -1              0   \n",
       "3  2022-05-09T08:54:09.000Z      Twitter Web App  -1              0   \n",
       "4  2022-05-09T08:54:03.000Z  Twitter for Android  -1              0   \n",
       "\n",
       "   like_count  quote_count  prediction  \n",
       "0           0            0    0.611823  \n",
       "1           0            0    0.629123  \n",
       "2           1            0    0.510315  \n",
       "3           0            0    0.645012  \n",
       "4           0            0    0.570392  "
      ]
     },
     "execution_count": 16,
     "metadata": {},
     "output_type": "execute_result"
    }
   ],
   "source": [
    "dataset_messi[\"prediction\"] = predictions_messi\n",
    "dataset_messi.head(5)"
   ]
  },
  {
   "cell_type": "markdown",
   "id": "dcc9207b",
   "metadata": {
    "papermill": {
     "duration": 0.030444,
     "end_time": "2022-05-09T10:07:08.691240",
     "exception": false,
     "start_time": "2022-05-09T10:07:08.660796",
     "status": "completed"
    },
    "tags": []
   },
   "source": [
    "## Ronaldo"
   ]
  },
  {
   "cell_type": "code",
   "execution_count": 17,
   "id": "3a4b2087",
   "metadata": {
    "execution": {
     "iopub.execute_input": "2022-05-09T10:07:08.770086Z",
     "iopub.status.busy": "2022-05-09T10:07:08.757462Z",
     "iopub.status.idle": "2022-05-09T10:07:08.772451Z",
     "shell.execute_reply": "2022-05-09T10:07:08.772844Z",
     "shell.execute_reply.started": "2022-05-09T10:00:56.129472Z"
    },
    "papermill": {
     "duration": 0.050735,
     "end_time": "2022-05-09T10:07:08.772970",
     "exception": false,
     "start_time": "2022-05-09T10:07:08.722235",
     "status": "completed"
    },
    "tags": []
   },
   "outputs": [
    {
     "data": {
      "text/html": [
       "<div>\n",
       "<style scoped>\n",
       "    .dataframe tbody tr th:only-of-type {\n",
       "        vertical-align: middle;\n",
       "    }\n",
       "\n",
       "    .dataframe tbody tr th {\n",
       "        vertical-align: top;\n",
       "    }\n",
       "\n",
       "    .dataframe thead th {\n",
       "        text-align: right;\n",
       "    }\n",
       "</style>\n",
       "<table border=\"1\" class=\"dataframe\">\n",
       "  <thead>\n",
       "    <tr style=\"text-align: right;\">\n",
       "      <th></th>\n",
       "      <th>tweet_id</th>\n",
       "      <th>author_id</th>\n",
       "      <th>content</th>\n",
       "      <th>lang</th>\n",
       "      <th>date</th>\n",
       "      <th>source</th>\n",
       "      <th>geo</th>\n",
       "      <th>retweet_count</th>\n",
       "      <th>like_count</th>\n",
       "      <th>quote_count</th>\n",
       "      <th>prediction</th>\n",
       "    </tr>\n",
       "  </thead>\n",
       "  <tbody>\n",
       "    <tr>\n",
       "      <th>0</th>\n",
       "      <td>1523587244572872704</td>\n",
       "      <td>1383801795823116291</td>\n",
       "      <td>where is the band leader ronaldo</td>\n",
       "      <td>en</td>\n",
       "      <td>2022-05-09T08:54:40.000Z</td>\n",
       "      <td>Twitter for Android</td>\n",
       "      <td>-1</td>\n",
       "      <td>0.0</td>\n",
       "      <td>0.0</td>\n",
       "      <td>0.0</td>\n",
       "      <td>0.728374</td>\n",
       "    </tr>\n",
       "    <tr>\n",
       "      <th>1</th>\n",
       "      <td>1523587203351293953</td>\n",
       "      <td>1011901831411322880</td>\n",
       "      <td>all untradeable except alex telles what could ...</td>\n",
       "      <td>en</td>\n",
       "      <td>2022-05-09T08:54:30.000Z</td>\n",
       "      <td>Twitter Web App</td>\n",
       "      <td>-1</td>\n",
       "      <td>0.0</td>\n",
       "      <td>0.0</td>\n",
       "      <td>0.0</td>\n",
       "      <td>0.706692</td>\n",
       "    </tr>\n",
       "    <tr>\n",
       "      <th>2</th>\n",
       "      <td>1523587136968003584</td>\n",
       "      <td>288628771</td>\n",
       "      <td>or cr</td>\n",
       "      <td>en</td>\n",
       "      <td>2022-05-09T08:54:14.000Z</td>\n",
       "      <td>Twitter for iPhone</td>\n",
       "      <td>-1</td>\n",
       "      <td>0.0</td>\n",
       "      <td>0.0</td>\n",
       "      <td>0.0</td>\n",
       "      <td>0.722615</td>\n",
       "    </tr>\n",
       "    <tr>\n",
       "      <th>3</th>\n",
       "      <td>1523587113005948929</td>\n",
       "      <td>1424726769236529155</td>\n",
       "      <td>their is a reason most tickets sold in worldcu...</td>\n",
       "      <td>en</td>\n",
       "      <td>2022-05-09T08:54:09.000Z</td>\n",
       "      <td>Twitter Web App</td>\n",
       "      <td>-1</td>\n",
       "      <td>0.0</td>\n",
       "      <td>0.0</td>\n",
       "      <td>0.0</td>\n",
       "      <td>0.645012</td>\n",
       "    </tr>\n",
       "    <tr>\n",
       "      <th>4</th>\n",
       "      <td>1523587106647560192</td>\n",
       "      <td>278038673</td>\n",
       "      <td>erik ten hag needs some constance says he want...</td>\n",
       "      <td>en</td>\n",
       "      <td>2022-05-09T08:54:07.000Z</td>\n",
       "      <td>Wildmoka</td>\n",
       "      <td>-1</td>\n",
       "      <td>5.0</td>\n",
       "      <td>19.0</td>\n",
       "      <td>0.0</td>\n",
       "      <td>0.593058</td>\n",
       "    </tr>\n",
       "  </tbody>\n",
       "</table>\n",
       "</div>"
      ],
      "text/plain": [
       "              tweet_id            author_id  \\\n",
       "0  1523587244572872704  1383801795823116291   \n",
       "1  1523587203351293953  1011901831411322880   \n",
       "2  1523587136968003584            288628771   \n",
       "3  1523587113005948929  1424726769236529155   \n",
       "4  1523587106647560192            278038673   \n",
       "\n",
       "                                             content lang  \\\n",
       "0                   where is the band leader ronaldo   en   \n",
       "1  all untradeable except alex telles what could ...   en   \n",
       "2                                              or cr   en   \n",
       "3  their is a reason most tickets sold in worldcu...   en   \n",
       "4  erik ten hag needs some constance says he want...   en   \n",
       "\n",
       "                       date               source geo  retweet_count  \\\n",
       "0  2022-05-09T08:54:40.000Z  Twitter for Android  -1            0.0   \n",
       "1  2022-05-09T08:54:30.000Z      Twitter Web App  -1            0.0   \n",
       "2  2022-05-09T08:54:14.000Z   Twitter for iPhone  -1            0.0   \n",
       "3  2022-05-09T08:54:09.000Z      Twitter Web App  -1            0.0   \n",
       "4  2022-05-09T08:54:07.000Z             Wildmoka  -1            5.0   \n",
       "\n",
       "   like_count  quote_count  prediction  \n",
       "0         0.0          0.0    0.728374  \n",
       "1         0.0          0.0    0.706692  \n",
       "2         0.0          0.0    0.722615  \n",
       "3         0.0          0.0    0.645012  \n",
       "4        19.0          0.0    0.593058  "
      ]
     },
     "execution_count": 17,
     "metadata": {},
     "output_type": "execute_result"
    }
   ],
   "source": [
    "dataset_ronaldo[\"prediction\"] = predictions_ronaldo\n",
    "dataset_ronaldo.head(5)"
   ]
  },
  {
   "cell_type": "markdown",
   "id": "335c17c8",
   "metadata": {
    "papermill": {
     "duration": 0.031702,
     "end_time": "2022-05-09T10:07:08.836434",
     "exception": false,
     "start_time": "2022-05-09T10:07:08.804732",
     "status": "completed"
    },
    "tags": []
   },
   "source": [
    "# Convert predictions (scores) to labels (positive or negative) ⚗️"
   ]
  },
  {
   "cell_type": "markdown",
   "id": "cf448768",
   "metadata": {
    "papermill": {
     "duration": 0.032276,
     "end_time": "2022-05-09T10:07:08.900537",
     "exception": false,
     "start_time": "2022-05-09T10:07:08.868261",
     "status": "completed"
    },
    "tags": []
   },
   "source": [
    "## Define the processing function"
   ]
  },
  {
   "cell_type": "code",
   "execution_count": 18,
   "id": "49aa1d63",
   "metadata": {
    "execution": {
     "iopub.execute_input": "2022-05-09T10:07:08.969155Z",
     "iopub.status.busy": "2022-05-09T10:07:08.968375Z",
     "iopub.status.idle": "2022-05-09T10:07:08.970734Z",
     "shell.execute_reply": "2022-05-09T10:07:08.970290Z",
     "shell.execute_reply.started": "2022-05-09T10:00:56.154625Z"
    },
    "papermill": {
     "duration": 0.038044,
     "end_time": "2022-05-09T10:07:08.970841",
     "exception": false,
     "start_time": "2022-05-09T10:07:08.932797",
     "status": "completed"
    },
    "tags": []
   },
   "outputs": [],
   "source": [
    "def assign_label(x):\n",
    "    \"\"\"\n",
    "    Parameters\n",
    "    ----------\n",
    "    x : SCORE\n",
    "        The prediction score\n",
    "\n",
    "    Returns\n",
    "    -------\n",
    "    label : STRING\n",
    "        The sentiment of the tweet.\n",
    "    \"\"\"\n",
    "    rounded_x = round(x,2)\n",
    "    label = \"\"\n",
    "    if rounded_x >= threshold: \n",
    "        label = \"Positive\"\n",
    "    else:\n",
    "        label = \"Negative\"\n",
    "    return label"
   ]
  },
  {
   "cell_type": "markdown",
   "id": "8fc4f0c3",
   "metadata": {
    "papermill": {
     "duration": 0.030922,
     "end_time": "2022-05-09T10:07:09.033103",
     "exception": false,
     "start_time": "2022-05-09T10:07:09.002181",
     "status": "completed"
    },
    "tags": []
   },
   "source": [
    "## Application : Messi Dataset"
   ]
  },
  {
   "cell_type": "code",
   "execution_count": 19,
   "id": "098bc44f",
   "metadata": {
    "execution": {
     "iopub.execute_input": "2022-05-09T10:07:09.100503Z",
     "iopub.status.busy": "2022-05-09T10:07:09.099748Z",
     "iopub.status.idle": "2022-05-09T10:07:09.358073Z",
     "shell.execute_reply": "2022-05-09T10:07:09.358486Z",
     "shell.execute_reply.started": "2022-05-09T10:00:56.163246Z"
    },
    "papermill": {
     "duration": 0.294098,
     "end_time": "2022-05-09T10:07:09.358624",
     "exception": false,
     "start_time": "2022-05-09T10:07:09.064526",
     "status": "completed"
    },
    "tags": []
   },
   "outputs": [
    {
     "data": {
      "text/html": [
       "<div>\n",
       "<style scoped>\n",
       "    .dataframe tbody tr th:only-of-type {\n",
       "        vertical-align: middle;\n",
       "    }\n",
       "\n",
       "    .dataframe tbody tr th {\n",
       "        vertical-align: top;\n",
       "    }\n",
       "\n",
       "    .dataframe thead th {\n",
       "        text-align: right;\n",
       "    }\n",
       "</style>\n",
       "<table border=\"1\" class=\"dataframe\">\n",
       "  <thead>\n",
       "    <tr style=\"text-align: right;\">\n",
       "      <th></th>\n",
       "      <th>tweet_id</th>\n",
       "      <th>author_id</th>\n",
       "      <th>content</th>\n",
       "      <th>lang</th>\n",
       "      <th>date</th>\n",
       "      <th>source</th>\n",
       "      <th>geo</th>\n",
       "      <th>retweet_count</th>\n",
       "      <th>like_count</th>\n",
       "      <th>quote_count</th>\n",
       "      <th>prediction</th>\n",
       "      <th>label</th>\n",
       "    </tr>\n",
       "  </thead>\n",
       "  <tbody>\n",
       "    <tr>\n",
       "      <th>0</th>\n",
       "      <td>1523587143632703488</td>\n",
       "      <td>1292468372618326023</td>\n",
       "      <td>oh yeah and messi contributed so heavily to hi...</td>\n",
       "      <td>en</td>\n",
       "      <td>2022-05-09T08:54:16.000Z</td>\n",
       "      <td>Twitter for Android</td>\n",
       "      <td>-1</td>\n",
       "      <td>0</td>\n",
       "      <td>0</td>\n",
       "      <td>0</td>\n",
       "      <td>0.611823</td>\n",
       "      <td>Negative</td>\n",
       "    </tr>\n",
       "    <tr>\n",
       "      <th>1</th>\n",
       "      <td>1523587126595825664</td>\n",
       "      <td>3985914141</td>\n",
       "      <td>this level of stretch is insane he literally t...</td>\n",
       "      <td>en</td>\n",
       "      <td>2022-05-09T08:54:12.000Z</td>\n",
       "      <td>Twitter for iPhone</td>\n",
       "      <td>-1</td>\n",
       "      <td>0</td>\n",
       "      <td>0</td>\n",
       "      <td>0</td>\n",
       "      <td>0.629123</td>\n",
       "      <td>Positive</td>\n",
       "    </tr>\n",
       "    <tr>\n",
       "      <th>2</th>\n",
       "      <td>1523587117556715520</td>\n",
       "      <td>1480936861790924801</td>\n",
       "      <td>fred and messi tradeable thoughts</td>\n",
       "      <td>en</td>\n",
       "      <td>2022-05-09T08:54:10.000Z</td>\n",
       "      <td>Twitter for Android</td>\n",
       "      <td>-1</td>\n",
       "      <td>0</td>\n",
       "      <td>1</td>\n",
       "      <td>0</td>\n",
       "      <td>0.510315</td>\n",
       "      <td>Negative</td>\n",
       "    </tr>\n",
       "    <tr>\n",
       "      <th>3</th>\n",
       "      <td>1523587113005948929</td>\n",
       "      <td>1424726769236529155</td>\n",
       "      <td>their is a reason most tickets sold in worldcu...</td>\n",
       "      <td>en</td>\n",
       "      <td>2022-05-09T08:54:09.000Z</td>\n",
       "      <td>Twitter Web App</td>\n",
       "      <td>-1</td>\n",
       "      <td>0</td>\n",
       "      <td>0</td>\n",
       "      <td>0</td>\n",
       "      <td>0.645012</td>\n",
       "      <td>Positive</td>\n",
       "    </tr>\n",
       "    <tr>\n",
       "      <th>4</th>\n",
       "      <td>1523587088381136896</td>\n",
       "      <td>942073809464467456</td>\n",
       "      <td>ok sir i think you know messi better than mess...</td>\n",
       "      <td>en</td>\n",
       "      <td>2022-05-09T08:54:03.000Z</td>\n",
       "      <td>Twitter for Android</td>\n",
       "      <td>-1</td>\n",
       "      <td>0</td>\n",
       "      <td>0</td>\n",
       "      <td>0</td>\n",
       "      <td>0.570392</td>\n",
       "      <td>Negative</td>\n",
       "    </tr>\n",
       "  </tbody>\n",
       "</table>\n",
       "</div>"
      ],
      "text/plain": [
       "              tweet_id            author_id  \\\n",
       "0  1523587143632703488  1292468372618326023   \n",
       "1  1523587126595825664           3985914141   \n",
       "2  1523587117556715520  1480936861790924801   \n",
       "3  1523587113005948929  1424726769236529155   \n",
       "4  1523587088381136896   942073809464467456   \n",
       "\n",
       "                                             content lang  \\\n",
       "0  oh yeah and messi contributed so heavily to hi...   en   \n",
       "1  this level of stretch is insane he literally t...   en   \n",
       "2                  fred and messi tradeable thoughts   en   \n",
       "3  their is a reason most tickets sold in worldcu...   en   \n",
       "4  ok sir i think you know messi better than mess...   en   \n",
       "\n",
       "                       date               source geo  retweet_count  \\\n",
       "0  2022-05-09T08:54:16.000Z  Twitter for Android  -1              0   \n",
       "1  2022-05-09T08:54:12.000Z   Twitter for iPhone  -1              0   \n",
       "2  2022-05-09T08:54:10.000Z  Twitter for Android  -1              0   \n",
       "3  2022-05-09T08:54:09.000Z      Twitter Web App  -1              0   \n",
       "4  2022-05-09T08:54:03.000Z  Twitter for Android  -1              0   \n",
       "\n",
       "   like_count  quote_count  prediction     label  \n",
       "0           0            0    0.611823  Negative  \n",
       "1           0            0    0.629123  Positive  \n",
       "2           1            0    0.510315  Negative  \n",
       "3           0            0    0.645012  Positive  \n",
       "4           0            0    0.570392  Negative  "
      ]
     },
     "execution_count": 19,
     "metadata": {},
     "output_type": "execute_result"
    }
   ],
   "source": [
    " # Create a column named \"label\"\n",
    "dataset_messi[\"label\"] = \"0\"\n",
    "dataset_messi[\"label\"] = dataset_messi.prediction.apply(lambda x: assign_label(x))\n",
    "dataset_messi.head(5)"
   ]
  },
  {
   "cell_type": "markdown",
   "id": "991a3cd2",
   "metadata": {
    "papermill": {
     "duration": 0.032285,
     "end_time": "2022-05-09T10:07:09.423237",
     "exception": false,
     "start_time": "2022-05-09T10:07:09.390952",
     "status": "completed"
    },
    "tags": []
   },
   "source": [
    "## Application : Ronaldo Dataset"
   ]
  },
  {
   "cell_type": "code",
   "execution_count": 20,
   "id": "5f07397e",
   "metadata": {
    "execution": {
     "iopub.execute_input": "2022-05-09T10:07:09.492946Z",
     "iopub.status.busy": "2022-05-09T10:07:09.492171Z",
     "iopub.status.idle": "2022-05-09T10:07:09.991901Z",
     "shell.execute_reply": "2022-05-09T10:07:09.991164Z",
     "shell.execute_reply.started": "2022-05-09T10:00:56.415273Z"
    },
    "papermill": {
     "duration": 0.536542,
     "end_time": "2022-05-09T10:07:09.992110",
     "exception": false,
     "start_time": "2022-05-09T10:07:09.455568",
     "status": "completed"
    },
    "tags": []
   },
   "outputs": [
    {
     "data": {
      "text/html": [
       "<div>\n",
       "<style scoped>\n",
       "    .dataframe tbody tr th:only-of-type {\n",
       "        vertical-align: middle;\n",
       "    }\n",
       "\n",
       "    .dataframe tbody tr th {\n",
       "        vertical-align: top;\n",
       "    }\n",
       "\n",
       "    .dataframe thead th {\n",
       "        text-align: right;\n",
       "    }\n",
       "</style>\n",
       "<table border=\"1\" class=\"dataframe\">\n",
       "  <thead>\n",
       "    <tr style=\"text-align: right;\">\n",
       "      <th></th>\n",
       "      <th>tweet_id</th>\n",
       "      <th>author_id</th>\n",
       "      <th>content</th>\n",
       "      <th>lang</th>\n",
       "      <th>date</th>\n",
       "      <th>source</th>\n",
       "      <th>geo</th>\n",
       "      <th>retweet_count</th>\n",
       "      <th>like_count</th>\n",
       "      <th>quote_count</th>\n",
       "      <th>prediction</th>\n",
       "      <th>label</th>\n",
       "    </tr>\n",
       "  </thead>\n",
       "  <tbody>\n",
       "    <tr>\n",
       "      <th>0</th>\n",
       "      <td>1523587244572872704</td>\n",
       "      <td>1383801795823116291</td>\n",
       "      <td>where is the band leader ronaldo</td>\n",
       "      <td>en</td>\n",
       "      <td>2022-05-09T08:54:40.000Z</td>\n",
       "      <td>Twitter for Android</td>\n",
       "      <td>-1</td>\n",
       "      <td>0.0</td>\n",
       "      <td>0.0</td>\n",
       "      <td>0.0</td>\n",
       "      <td>0.728374</td>\n",
       "      <td>Positive</td>\n",
       "    </tr>\n",
       "    <tr>\n",
       "      <th>1</th>\n",
       "      <td>1523587203351293953</td>\n",
       "      <td>1011901831411322880</td>\n",
       "      <td>all untradeable except alex telles what could ...</td>\n",
       "      <td>en</td>\n",
       "      <td>2022-05-09T08:54:30.000Z</td>\n",
       "      <td>Twitter Web App</td>\n",
       "      <td>-1</td>\n",
       "      <td>0.0</td>\n",
       "      <td>0.0</td>\n",
       "      <td>0.0</td>\n",
       "      <td>0.706692</td>\n",
       "      <td>Positive</td>\n",
       "    </tr>\n",
       "    <tr>\n",
       "      <th>2</th>\n",
       "      <td>1523587136968003584</td>\n",
       "      <td>288628771</td>\n",
       "      <td>or cr</td>\n",
       "      <td>en</td>\n",
       "      <td>2022-05-09T08:54:14.000Z</td>\n",
       "      <td>Twitter for iPhone</td>\n",
       "      <td>-1</td>\n",
       "      <td>0.0</td>\n",
       "      <td>0.0</td>\n",
       "      <td>0.0</td>\n",
       "      <td>0.722615</td>\n",
       "      <td>Positive</td>\n",
       "    </tr>\n",
       "    <tr>\n",
       "      <th>3</th>\n",
       "      <td>1523587113005948929</td>\n",
       "      <td>1424726769236529155</td>\n",
       "      <td>their is a reason most tickets sold in worldcu...</td>\n",
       "      <td>en</td>\n",
       "      <td>2022-05-09T08:54:09.000Z</td>\n",
       "      <td>Twitter Web App</td>\n",
       "      <td>-1</td>\n",
       "      <td>0.0</td>\n",
       "      <td>0.0</td>\n",
       "      <td>0.0</td>\n",
       "      <td>0.645012</td>\n",
       "      <td>Positive</td>\n",
       "    </tr>\n",
       "    <tr>\n",
       "      <th>4</th>\n",
       "      <td>1523587106647560192</td>\n",
       "      <td>278038673</td>\n",
       "      <td>erik ten hag needs some constance says he want...</td>\n",
       "      <td>en</td>\n",
       "      <td>2022-05-09T08:54:07.000Z</td>\n",
       "      <td>Wildmoka</td>\n",
       "      <td>-1</td>\n",
       "      <td>5.0</td>\n",
       "      <td>19.0</td>\n",
       "      <td>0.0</td>\n",
       "      <td>0.593058</td>\n",
       "      <td>Negative</td>\n",
       "    </tr>\n",
       "  </tbody>\n",
       "</table>\n",
       "</div>"
      ],
      "text/plain": [
       "              tweet_id            author_id  \\\n",
       "0  1523587244572872704  1383801795823116291   \n",
       "1  1523587203351293953  1011901831411322880   \n",
       "2  1523587136968003584            288628771   \n",
       "3  1523587113005948929  1424726769236529155   \n",
       "4  1523587106647560192            278038673   \n",
       "\n",
       "                                             content lang  \\\n",
       "0                   where is the band leader ronaldo   en   \n",
       "1  all untradeable except alex telles what could ...   en   \n",
       "2                                              or cr   en   \n",
       "3  their is a reason most tickets sold in worldcu...   en   \n",
       "4  erik ten hag needs some constance says he want...   en   \n",
       "\n",
       "                       date               source geo  retweet_count  \\\n",
       "0  2022-05-09T08:54:40.000Z  Twitter for Android  -1            0.0   \n",
       "1  2022-05-09T08:54:30.000Z      Twitter Web App  -1            0.0   \n",
       "2  2022-05-09T08:54:14.000Z   Twitter for iPhone  -1            0.0   \n",
       "3  2022-05-09T08:54:09.000Z      Twitter Web App  -1            0.0   \n",
       "4  2022-05-09T08:54:07.000Z             Wildmoka  -1            5.0   \n",
       "\n",
       "   like_count  quote_count  prediction     label  \n",
       "0         0.0          0.0    0.728374  Positive  \n",
       "1         0.0          0.0    0.706692  Positive  \n",
       "2         0.0          0.0    0.722615  Positive  \n",
       "3         0.0          0.0    0.645012  Positive  \n",
       "4        19.0          0.0    0.593058  Negative  "
      ]
     },
     "execution_count": 20,
     "metadata": {},
     "output_type": "execute_result"
    }
   ],
   "source": [
    "# Create a column named \"label\"\n",
    "dataset_ronaldo[\"label\"] = \"0\" \n",
    "dataset_ronaldo[\"label\"] = dataset_ronaldo.prediction.apply(lambda x: assign_label(x))\n",
    "dataset_ronaldo.head(5)"
   ]
  },
  {
   "cell_type": "markdown",
   "id": "edbc0b19",
   "metadata": {
    "papermill": {
     "duration": 0.04203,
     "end_time": "2022-05-09T10:07:10.091056",
     "exception": false,
     "start_time": "2022-05-09T10:07:10.049026",
     "status": "completed"
    },
    "tags": []
   },
   "source": [
    "# Save the results 💾\n",
    "> Note : if you plan to use the dataset, feel free to manually check and tweak the results, in order to come closer to a human-precision level"
   ]
  },
  {
   "cell_type": "markdown",
   "id": "ad492cb2",
   "metadata": {
    "papermill": {
     "duration": 0.032089,
     "end_time": "2022-05-09T10:07:10.155645",
     "exception": false,
     "start_time": "2022-05-09T10:07:10.123556",
     "status": "completed"
    },
    "tags": []
   },
   "source": [
    "## Messi "
   ]
  },
  {
   "cell_type": "code",
   "execution_count": 21,
   "id": "d143afd8",
   "metadata": {
    "execution": {
     "iopub.execute_input": "2022-05-09T10:07:10.226238Z",
     "iopub.status.busy": "2022-05-09T10:07:10.225424Z",
     "iopub.status.idle": "2022-05-09T10:07:12.485873Z",
     "shell.execute_reply": "2022-05-09T10:07:12.484936Z",
     "shell.execute_reply.started": "2022-05-09T10:00:56.703020Z"
    },
    "papermill": {
     "duration": 2.297937,
     "end_time": "2022-05-09T10:07:12.486020",
     "exception": false,
     "start_time": "2022-05-09T10:07:10.188083",
     "status": "completed"
    },
    "tags": []
   },
   "outputs": [],
   "source": [
    "dataset_messi.to_csv(\"Predictions_messi.csv\", index=False)"
   ]
  },
  {
   "cell_type": "markdown",
   "id": "71d0c0a2",
   "metadata": {
    "papermill": {
     "duration": 0.032135,
     "end_time": "2022-05-09T10:07:12.551264",
     "exception": false,
     "start_time": "2022-05-09T10:07:12.519129",
     "status": "completed"
    },
    "tags": []
   },
   "source": [
    "## Ronaldo"
   ]
  },
  {
   "cell_type": "code",
   "execution_count": 22,
   "id": "9921d7de",
   "metadata": {
    "execution": {
     "iopub.execute_input": "2022-05-09T10:07:12.621183Z",
     "iopub.status.busy": "2022-05-09T10:07:12.620435Z",
     "iopub.status.idle": "2022-05-09T10:07:15.582646Z",
     "shell.execute_reply": "2022-05-09T10:07:15.582171Z",
     "shell.execute_reply.started": "2022-05-09T10:00:59.038295Z"
    },
    "papermill": {
     "duration": 2.998907,
     "end_time": "2022-05-09T10:07:15.582809",
     "exception": false,
     "start_time": "2022-05-09T10:07:12.583902",
     "status": "completed"
    },
    "tags": []
   },
   "outputs": [],
   "source": [
    "dataset_ronaldo.to_csv(\"Predictions_ronaldo.csv\", index=False)"
   ]
  },
  {
   "cell_type": "markdown",
   "id": "1d97b41d",
   "metadata": {
    "papermill": {
     "duration": 0.03235,
     "end_time": "2022-05-09T10:07:15.648066",
     "exception": false,
     "start_time": "2022-05-09T10:07:15.615716",
     "status": "completed"
    },
    "tags": []
   },
   "source": [
    "# Thank you for your time 😄"
   ]
  }
 ],
 "metadata": {
  "kernelspec": {
   "display_name": "Python 3",
   "language": "python",
   "name": "python3"
  },
  "language_info": {
   "codemirror_mode": {
    "name": "ipython",
    "version": 3
   },
   "file_extension": ".py",
   "mimetype": "text/x-python",
   "name": "python",
   "nbconvert_exporter": "python",
   "pygments_lexer": "ipython3",
   "version": "3.7.10"
  },
  "papermill": {
   "default_parameters": {},
   "duration": 194.756528,
   "end_time": "2022-05-09T10:07:18.932108",
   "environment_variables": {},
   "exception": null,
   "input_path": "__notebook__.ipynb",
   "output_path": "__notebook__.ipynb",
   "parameters": {},
   "start_time": "2022-05-09T10:04:04.175580",
   "version": "2.3.3"
  }
 },
 "nbformat": 4,
 "nbformat_minor": 5
}
