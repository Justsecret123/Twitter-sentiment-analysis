{
 "cells": [
  {
   "cell_type": "markdown",
   "id": "3ddf440d",
   "metadata": {
    "papermill": {
     "duration": 0.032549,
     "end_time": "2021-09-29T04:22:30.014230",
     "exception": false,
     "start_time": "2021-09-29T04:22:29.981681",
     "status": "completed"
    },
    "tags": []
   },
   "source": [
    "# Libraries"
   ]
  },
  {
   "cell_type": "code",
   "execution_count": 1,
   "id": "3f5bf925",
   "metadata": {
    "execution": {
     "iopub.execute_input": "2021-09-29T04:22:30.081419Z",
     "iopub.status.busy": "2021-09-29T04:22:30.080185Z",
     "iopub.status.idle": "2021-09-29T04:22:35.865945Z",
     "shell.execute_reply": "2021-09-29T04:22:35.866559Z",
     "shell.execute_reply.started": "2021-09-27T00:58:06.380813Z"
    },
    "papermill": {
     "duration": 5.820249,
     "end_time": "2021-09-29T04:22:35.866867",
     "exception": false,
     "start_time": "2021-09-29T04:22:30.046618",
     "status": "completed"
    },
    "tags": []
   },
   "outputs": [
    {
     "name": "stderr",
     "output_type": "stream",
     "text": [
      "2021-09-29 04:22:30.772727: W tensorflow/stream_executor/platform/default/dso_loader.cc:60] Could not load dynamic library 'libcudart.so.11.0'; dlerror: libcudart.so.11.0: cannot open shared object file: No such file or directory; LD_LIBRARY_PATH: /opt/conda/lib\n",
      "2021-09-29 04:22:30.772850: I tensorflow/stream_executor/cuda/cudart_stub.cc:29] Ignore above cudart dlerror if you do not have a GPU set up on your machine.\n"
     ]
    }
   ],
   "source": [
    "from tensorflow.keras.models import load_model\n",
    "import numpy as np \n",
    "import pandas as pd"
   ]
  },
  {
   "cell_type": "markdown",
   "id": "2b62da84",
   "metadata": {
    "papermill": {
     "duration": 0.032937,
     "end_time": "2021-09-29T04:22:35.933333",
     "exception": false,
     "start_time": "2021-09-29T04:22:35.900396",
     "status": "completed"
    },
    "tags": []
   },
   "source": [
    "# Load the datasets"
   ]
  },
  {
   "cell_type": "markdown",
   "id": "f7cdeb83",
   "metadata": {
    "papermill": {
     "duration": 0.036451,
     "end_time": "2021-09-29T04:22:36.000225",
     "exception": false,
     "start_time": "2021-09-29T04:22:35.963774",
     "status": "completed"
    },
    "tags": []
   },
   "source": [
    "## Messi"
   ]
  },
  {
   "cell_type": "code",
   "execution_count": 2,
   "id": "125db0a3",
   "metadata": {
    "execution": {
     "iopub.execute_input": "2021-09-29T04:22:36.069813Z",
     "iopub.status.busy": "2021-09-29T04:22:36.069086Z",
     "iopub.status.idle": "2021-09-29T04:22:36.285739Z",
     "shell.execute_reply": "2021-09-29T04:22:36.285153Z",
     "shell.execute_reply.started": "2021-09-27T00:58:13.153054Z"
    },
    "papermill": {
     "duration": 0.253901,
     "end_time": "2021-09-29T04:22:36.285879",
     "exception": false,
     "start_time": "2021-09-29T04:22:36.031978",
     "status": "completed"
    },
    "tags": []
   },
   "outputs": [
    {
     "data": {
      "text/html": [
       "<div>\n",
       "<style scoped>\n",
       "    .dataframe tbody tr th:only-of-type {\n",
       "        vertical-align: middle;\n",
       "    }\n",
       "\n",
       "    .dataframe tbody tr th {\n",
       "        vertical-align: top;\n",
       "    }\n",
       "\n",
       "    .dataframe thead th {\n",
       "        text-align: right;\n",
       "    }\n",
       "</style>\n",
       "<table border=\"1\" class=\"dataframe\">\n",
       "  <thead>\n",
       "    <tr style=\"text-align: right;\">\n",
       "      <th></th>\n",
       "      <th>tweet_id</th>\n",
       "      <th>author_id</th>\n",
       "      <th>content</th>\n",
       "      <th>lang</th>\n",
       "      <th>date</th>\n",
       "      <th>source</th>\n",
       "      <th>geo</th>\n",
       "      <th>retweet_count</th>\n",
       "      <th>like_count</th>\n",
       "      <th>quote_count</th>\n",
       "    </tr>\n",
       "  </thead>\n",
       "  <tbody>\n",
       "    <tr>\n",
       "      <th>0</th>\n",
       "      <td>1442143079373365248</td>\n",
       "      <td>1302375645666848768</td>\n",
       "      <td>who needs messi</td>\n",
       "      <td>en</td>\n",
       "      <td>2021-09-26T15:04:38.000Z</td>\n",
       "      <td>Twitter for iPhone</td>\n",
       "      <td>-1</td>\n",
       "      <td>0</td>\n",
       "      <td>0</td>\n",
       "      <td>0</td>\n",
       "    </tr>\n",
       "    <tr>\n",
       "      <th>1</th>\n",
       "      <td>1442143071995457542</td>\n",
       "      <td>116969561</td>\n",
       "      <td>forbes lionel messi ranked no 2 in this year ...</td>\n",
       "      <td>en</td>\n",
       "      <td>2021-09-26T15:04:36.000Z</td>\n",
       "      <td>Twitter for Android</td>\n",
       "      <td>-1</td>\n",
       "      <td>11</td>\n",
       "      <td>0</td>\n",
       "      <td>0</td>\n",
       "    </tr>\n",
       "    <tr>\n",
       "      <th>2</th>\n",
       "      <td>1442143058594652160</td>\n",
       "      <td>1296470104486612997</td>\n",
       "      <td>espnfc pele congratulates messi for breaking ...</td>\n",
       "      <td>en</td>\n",
       "      <td>2021-09-26T15:04:33.000Z</td>\n",
       "      <td>Twitter Web App</td>\n",
       "      <td>-1</td>\n",
       "      <td>637</td>\n",
       "      <td>0</td>\n",
       "      <td>0</td>\n",
       "    </tr>\n",
       "    <tr>\n",
       "      <th>3</th>\n",
       "      <td>1442143054836678656</td>\n",
       "      <td>4083107893</td>\n",
       "      <td>crewsmat10 psg have lost 0 zero games since t...</td>\n",
       "      <td>en</td>\n",
       "      <td>2021-09-26T15:04:32.000Z</td>\n",
       "      <td>Twitter for Android</td>\n",
       "      <td>-1</td>\n",
       "      <td>510</td>\n",
       "      <td>0</td>\n",
       "      <td>0</td>\n",
       "    </tr>\n",
       "    <tr>\n",
       "      <th>4</th>\n",
       "      <td>1442143052265664514</td>\n",
       "      <td>1248782697029406720</td>\n",
       "      <td>espnfc pele congratulates messi for breaking ...</td>\n",
       "      <td>en</td>\n",
       "      <td>2021-09-26T15:04:32.000Z</td>\n",
       "      <td>Twitter for Android</td>\n",
       "      <td>-1</td>\n",
       "      <td>637</td>\n",
       "      <td>0</td>\n",
       "      <td>0</td>\n",
       "    </tr>\n",
       "  </tbody>\n",
       "</table>\n",
       "</div>"
      ],
      "text/plain": [
       "              tweet_id            author_id  \\\n",
       "0  1442143079373365248  1302375645666848768   \n",
       "1  1442143071995457542            116969561   \n",
       "2  1442143058594652160  1296470104486612997   \n",
       "3  1442143054836678656           4083107893   \n",
       "4  1442143052265664514  1248782697029406720   \n",
       "\n",
       "                                             content lang  \\\n",
       "0                                    who needs messi   en   \n",
       "1   forbes lionel messi ranked no 2 in this year ...   en   \n",
       "2   espnfc pele congratulates messi for breaking ...   en   \n",
       "3   crewsmat10 psg have lost 0 zero games since t...   en   \n",
       "4   espnfc pele congratulates messi for breaking ...   en   \n",
       "\n",
       "                       date               source geo  retweet_count  \\\n",
       "0  2021-09-26T15:04:38.000Z   Twitter for iPhone  -1              0   \n",
       "1  2021-09-26T15:04:36.000Z  Twitter for Android  -1             11   \n",
       "2  2021-09-26T15:04:33.000Z      Twitter Web App  -1            637   \n",
       "3  2021-09-26T15:04:32.000Z  Twitter for Android  -1            510   \n",
       "4  2021-09-26T15:04:32.000Z  Twitter for Android  -1            637   \n",
       "\n",
       "   like_count  quote_count  \n",
       "0           0            0  \n",
       "1           0            0  \n",
       "2           0            0  \n",
       "3           0            0  \n",
       "4           0            0  "
      ]
     },
     "execution_count": 2,
     "metadata": {},
     "output_type": "execute_result"
    }
   ],
   "source": [
    "dataset_messi = pd.read_csv(\"../input/twitter-sentiment-analysis-and-word-embeddings/Cleaned_messi_tweets.csv\", encoding=\"latin\")\n",
    "dataset_messi.head(5)"
   ]
  },
  {
   "cell_type": "markdown",
   "id": "61b76ff8",
   "metadata": {
    "papermill": {
     "duration": 0.033661,
     "end_time": "2021-09-29T04:22:36.352072",
     "exception": false,
     "start_time": "2021-09-29T04:22:36.318411",
     "status": "completed"
    },
    "tags": []
   },
   "source": [
    "### Check for duplicate tweets"
   ]
  },
  {
   "cell_type": "code",
   "execution_count": 3,
   "id": "0d354455",
   "metadata": {
    "execution": {
     "iopub.execute_input": "2021-09-29T04:22:36.426515Z",
     "iopub.status.busy": "2021-09-29T04:22:36.425777Z",
     "iopub.status.idle": "2021-09-29T04:22:36.429370Z",
     "shell.execute_reply": "2021-09-29T04:22:36.429869Z",
     "shell.execute_reply.started": "2021-09-27T02:26:15.616789Z"
    },
    "papermill": {
     "duration": 0.044625,
     "end_time": "2021-09-29T04:22:36.430073",
     "exception": false,
     "start_time": "2021-09-29T04:22:36.385448",
     "status": "completed"
    },
    "tags": []
   },
   "outputs": [],
   "source": [
    "assert len(np.unique(dataset_messi[\"tweet_id\"])) == len(dataset_messi.index), \"Duplicate IDs !\""
   ]
  },
  {
   "cell_type": "markdown",
   "id": "b39bc55e",
   "metadata": {
    "papermill": {
     "duration": 0.034334,
     "end_time": "2021-09-29T04:22:36.498814",
     "exception": false,
     "start_time": "2021-09-29T04:22:36.464480",
     "status": "completed"
    },
    "tags": []
   },
   "source": [
    "> Test passed"
   ]
  },
  {
   "cell_type": "markdown",
   "id": "2b401bb4",
   "metadata": {
    "papermill": {
     "duration": 0.032096,
     "end_time": "2021-09-29T04:22:36.563852",
     "exception": false,
     "start_time": "2021-09-29T04:22:36.531756",
     "status": "completed"
    },
    "tags": []
   },
   "source": [
    "## Ronaldo"
   ]
  },
  {
   "cell_type": "code",
   "execution_count": 4,
   "id": "daf74882",
   "metadata": {
    "execution": {
     "iopub.execute_input": "2021-09-29T04:22:36.630787Z",
     "iopub.status.busy": "2021-09-29T04:22:36.628425Z",
     "iopub.status.idle": "2021-09-29T04:22:36.839647Z",
     "shell.execute_reply": "2021-09-29T04:22:36.840179Z",
     "shell.execute_reply.started": "2021-09-27T00:58:13.397606Z"
    },
    "papermill": {
     "duration": 0.245704,
     "end_time": "2021-09-29T04:22:36.840418",
     "exception": false,
     "start_time": "2021-09-29T04:22:36.594714",
     "status": "completed"
    },
    "tags": []
   },
   "outputs": [
    {
     "data": {
      "text/html": [
       "<div>\n",
       "<style scoped>\n",
       "    .dataframe tbody tr th:only-of-type {\n",
       "        vertical-align: middle;\n",
       "    }\n",
       "\n",
       "    .dataframe tbody tr th {\n",
       "        vertical-align: top;\n",
       "    }\n",
       "\n",
       "    .dataframe thead th {\n",
       "        text-align: right;\n",
       "    }\n",
       "</style>\n",
       "<table border=\"1\" class=\"dataframe\">\n",
       "  <thead>\n",
       "    <tr style=\"text-align: right;\">\n",
       "      <th></th>\n",
       "      <th>tweet_id</th>\n",
       "      <th>author_id</th>\n",
       "      <th>content</th>\n",
       "      <th>lang</th>\n",
       "      <th>date</th>\n",
       "      <th>source</th>\n",
       "      <th>geo</th>\n",
       "      <th>retweet_count</th>\n",
       "      <th>like_count</th>\n",
       "      <th>quote_count</th>\n",
       "    </tr>\n",
       "  </thead>\n",
       "  <tbody>\n",
       "    <tr>\n",
       "      <th>0</th>\n",
       "      <td>1442216040629514241</td>\n",
       "      <td>1395557892779122694</td>\n",
       "      <td>ronaldo was offside</td>\n",
       "      <td>en</td>\n",
       "      <td>2021-09-26T19:54:33.000Z</td>\n",
       "      <td>Twitter Web App</td>\n",
       "      <td>-1</td>\n",
       "      <td>0</td>\n",
       "      <td>1</td>\n",
       "      <td>0</td>\n",
       "    </tr>\n",
       "    <tr>\n",
       "      <th>1</th>\n",
       "      <td>1442216031792074755</td>\n",
       "      <td>1176842712420630530</td>\n",
       "      <td>football tweet the most effective trios over ...</td>\n",
       "      <td>en</td>\n",
       "      <td>2021-09-26T19:54:31.000Z</td>\n",
       "      <td>Twitter for Android</td>\n",
       "      <td>-1</td>\n",
       "      <td>18</td>\n",
       "      <td>0</td>\n",
       "      <td>0</td>\n",
       "    </tr>\n",
       "    <tr>\n",
       "      <th>2</th>\n",
       "      <td>1442216026456748036</td>\n",
       "      <td>2385664598</td>\n",
       "      <td>ronaldo jr the only footballer to score a goal...</td>\n",
       "      <td>en</td>\n",
       "      <td>2021-09-26T19:54:30.000Z</td>\n",
       "      <td>Twitter for iPhone</td>\n",
       "      <td>-1</td>\n",
       "      <td>0</td>\n",
       "      <td>0</td>\n",
       "      <td>0</td>\n",
       "    </tr>\n",
       "    <tr>\n",
       "      <th>3</th>\n",
       "      <td>1442216002197016578</td>\n",
       "      <td>1142495555790299138</td>\n",
       "      <td>edmundoris perfect weekend for barca fans and...</td>\n",
       "      <td>en</td>\n",
       "      <td>2021-09-26T19:54:24.000Z</td>\n",
       "      <td>Twitter for iPhone</td>\n",
       "      <td>-1</td>\n",
       "      <td>571</td>\n",
       "      <td>0</td>\n",
       "      <td>0</td>\n",
       "    </tr>\n",
       "    <tr>\n",
       "      <th>4</th>\n",
       "      <td>1442215992344596488</td>\n",
       "      <td>793153149066481664</td>\n",
       "      <td>efoetornam no way ansu fati has more goals ou...</td>\n",
       "      <td>en</td>\n",
       "      <td>2021-09-26T19:54:22.000Z</td>\n",
       "      <td>Twitter for iPhone</td>\n",
       "      <td>-1</td>\n",
       "      <td>106</td>\n",
       "      <td>0</td>\n",
       "      <td>0</td>\n",
       "    </tr>\n",
       "  </tbody>\n",
       "</table>\n",
       "</div>"
      ],
      "text/plain": [
       "              tweet_id            author_id  \\\n",
       "0  1442216040629514241  1395557892779122694   \n",
       "1  1442216031792074755  1176842712420630530   \n",
       "2  1442216026456748036           2385664598   \n",
       "3  1442216002197016578  1142495555790299138   \n",
       "4  1442215992344596488   793153149066481664   \n",
       "\n",
       "                                             content lang  \\\n",
       "0                                ronaldo was offside   en   \n",
       "1   football tweet the most effective trios over ...   en   \n",
       "2  ronaldo jr the only footballer to score a goal...   en   \n",
       "3   edmundoris perfect weekend for barca fans and...   en   \n",
       "4   efoetornam no way ansu fati has more goals ou...   en   \n",
       "\n",
       "                       date               source geo  retweet_count  \\\n",
       "0  2021-09-26T19:54:33.000Z      Twitter Web App  -1              0   \n",
       "1  2021-09-26T19:54:31.000Z  Twitter for Android  -1             18   \n",
       "2  2021-09-26T19:54:30.000Z   Twitter for iPhone  -1              0   \n",
       "3  2021-09-26T19:54:24.000Z   Twitter for iPhone  -1            571   \n",
       "4  2021-09-26T19:54:22.000Z   Twitter for iPhone  -1            106   \n",
       "\n",
       "   like_count  quote_count  \n",
       "0           1            0  \n",
       "1           0            0  \n",
       "2           0            0  \n",
       "3           0            0  \n",
       "4           0            0  "
      ]
     },
     "execution_count": 4,
     "metadata": {},
     "output_type": "execute_result"
    }
   ],
   "source": [
    "dataset_ronaldo = pd.read_csv(\"../input/twitter-sentiment-analysis-and-word-embeddings/Cleaned_ronaldo_tweets.csv\", encoding=\"latin\")\n",
    "dataset_ronaldo.head(5)"
   ]
  },
  {
   "cell_type": "markdown",
   "id": "d0ccfced",
   "metadata": {
    "papermill": {
     "duration": 0.031587,
     "end_time": "2021-09-29T04:22:36.907385",
     "exception": false,
     "start_time": "2021-09-29T04:22:36.875798",
     "status": "completed"
    },
    "tags": []
   },
   "source": [
    "### Check for duplicate tweets"
   ]
  },
  {
   "cell_type": "code",
   "execution_count": 5,
   "id": "ae6d06d3",
   "metadata": {
    "execution": {
     "iopub.execute_input": "2021-09-29T04:22:36.976791Z",
     "iopub.status.busy": "2021-09-29T04:22:36.976006Z",
     "iopub.status.idle": "2021-09-29T04:22:36.979661Z",
     "shell.execute_reply": "2021-09-29T04:22:36.978970Z",
     "shell.execute_reply.started": "2021-09-27T02:27:54.444027Z"
    },
    "papermill": {
     "duration": 0.040875,
     "end_time": "2021-09-29T04:22:36.979803",
     "exception": false,
     "start_time": "2021-09-29T04:22:36.938928",
     "status": "completed"
    },
    "tags": []
   },
   "outputs": [],
   "source": [
    "assert len(np.unique(dataset_ronaldo[\"tweet_id\"])) == len(dataset_ronaldo.index), \"Duplicate IDs!\""
   ]
  },
  {
   "cell_type": "markdown",
   "id": "98b30d73",
   "metadata": {
    "papermill": {
     "duration": 0.031923,
     "end_time": "2021-09-29T04:22:37.043965",
     "exception": false,
     "start_time": "2021-09-29T04:22:37.012042",
     "status": "completed"
    },
    "tags": []
   },
   "source": [
    "> Test passed"
   ]
  },
  {
   "cell_type": "markdown",
   "id": "161dc325",
   "metadata": {
    "papermill": {
     "duration": 0.032392,
     "end_time": "2021-09-29T04:22:37.108389",
     "exception": false,
     "start_time": "2021-09-29T04:22:37.075997",
     "status": "completed"
    },
    "tags": []
   },
   "source": [
    "# Load the model"
   ]
  },
  {
   "cell_type": "code",
   "execution_count": 6,
   "id": "bd4515b3",
   "metadata": {
    "execution": {
     "iopub.execute_input": "2021-09-29T04:22:37.178230Z",
     "iopub.status.busy": "2021-09-29T04:22:37.177474Z",
     "iopub.status.idle": "2021-09-29T04:23:06.511006Z",
     "shell.execute_reply": "2021-09-29T04:23:06.510092Z",
     "shell.execute_reply.started": "2021-09-27T00:58:16.427367Z"
    },
    "papermill": {
     "duration": 29.370502,
     "end_time": "2021-09-29T04:23:06.511223",
     "exception": false,
     "start_time": "2021-09-29T04:22:37.140721",
     "status": "completed"
    },
    "tags": []
   },
   "outputs": [
    {
     "name": "stderr",
     "output_type": "stream",
     "text": [
      "2021-09-29 04:22:38.388923: I tensorflow/compiler/jit/xla_cpu_device.cc:41] Not creating XLA devices, tf_xla_enable_xla_devices not set\n",
      "2021-09-29 04:22:38.391865: W tensorflow/stream_executor/platform/default/dso_loader.cc:60] Could not load dynamic library 'libcuda.so.1'; dlerror: libcuda.so.1: cannot open shared object file: No such file or directory; LD_LIBRARY_PATH: /opt/conda/lib\n",
      "2021-09-29 04:22:38.391904: W tensorflow/stream_executor/cuda/cuda_driver.cc:326] failed call to cuInit: UNKNOWN ERROR (303)\n",
      "2021-09-29 04:22:38.391930: I tensorflow/stream_executor/cuda/cuda_diagnostics.cc:156] kernel driver does not appear to be running on this host (64e58dda7250): /proc/driver/nvidia/version does not exist\n",
      "2021-09-29 04:22:38.393094: I tensorflow/core/platform/cpu_feature_guard.cc:142] This TensorFlow binary is optimized with oneAPI Deep Neural Network Library (oneDNN) to use the following CPU instructions in performance-critical operations:  AVX2 FMA\n",
      "To enable them in other operations, rebuild TensorFlow with the appropriate compiler flags.\n",
      "2021-09-29 04:22:38.393530: I tensorflow/compiler/jit/xla_gpu_device.cc:99] Not creating XLA devices, tf_xla_enable_xla_devices not set\n",
      "2021-09-29 04:23:02.853592: I tensorflow/compiler/mlir/mlir_graph_optimization_pass.cc:116] None of the MLIR optimization passes are enabled (registered 2)\n",
      "2021-09-29 04:23:02.865507: I tensorflow/core/platform/profile_utils/cpu_utils.cc:112] CPU Frequency: 2199995000 Hz\n"
     ]
    },
    {
     "name": "stdout",
     "output_type": "stream",
     "text": [
      "Model: \"sequential_1\"\n",
      "_________________________________________________________________\n",
      "Layer (type)                 Output Shape              Param #   \n",
      "=================================================================\n",
      "text_vectorization (TextVect (None, 53)                0         \n",
      "_________________________________________________________________\n",
      "sequential (Sequential)      (None, 1)                 32398789  \n",
      "_________________________________________________________________\n",
      "activation (Activation)      (None, 1)                 0         \n",
      "=================================================================\n",
      "Total params: 32,398,789\n",
      "Trainable params: 32,398,789\n",
      "Non-trainable params: 0\n",
      "_________________________________________________________________\n"
     ]
    }
   ],
   "source": [
    "model = load_model(\"../input/twitter-sentiment-analysis-and-word-embeddings/TSA_model_v3\")\n",
    "model.summary()"
   ]
  },
  {
   "cell_type": "markdown",
   "id": "048b996f",
   "metadata": {
    "papermill": {
     "duration": 0.032619,
     "end_time": "2021-09-29T04:23:06.577347",
     "exception": false,
     "start_time": "2021-09-29T04:23:06.544728",
     "status": "completed"
    },
    "tags": []
   },
   "source": [
    "# Set the thresholds : Refer to [This link](https://github.com/Justsecret123/Twitter-sentiment-analysis/blob/main/Notebook/twitter-sentiment-analysis.ipynb)"
   ]
  },
  {
   "cell_type": "markdown",
   "id": "23fbae23",
   "metadata": {
    "papermill": {
     "duration": 0.040506,
     "end_time": "2021-09-29T04:23:06.652473",
     "exception": false,
     "start_time": "2021-09-29T04:23:06.611967",
     "status": "completed"
    },
    "tags": []
   },
   "source": [
    "## Positive (> threshold = positive)"
   ]
  },
  {
   "cell_type": "code",
   "execution_count": 7,
   "id": "3c605f9b",
   "metadata": {
    "execution": {
     "iopub.execute_input": "2021-09-29T04:23:06.726529Z",
     "iopub.status.busy": "2021-09-29T04:23:06.725455Z",
     "iopub.status.idle": "2021-09-29T04:23:06.727667Z",
     "shell.execute_reply": "2021-09-29T04:23:06.728250Z",
     "shell.execute_reply.started": "2021-09-27T02:34:33.510416Z"
    },
    "papermill": {
     "duration": 0.040858,
     "end_time": "2021-09-29T04:23:06.728437",
     "exception": false,
     "start_time": "2021-09-29T04:23:06.687579",
     "status": "completed"
    },
    "tags": []
   },
   "outputs": [],
   "source": [
    "positive_threshold = 0.64"
   ]
  },
  {
   "cell_type": "markdown",
   "id": "1773111f",
   "metadata": {
    "papermill": {
     "duration": 0.047424,
     "end_time": "2021-09-29T04:23:06.810582",
     "exception": false,
     "start_time": "2021-09-29T04:23:06.763158",
     "status": "completed"
    },
    "tags": []
   },
   "source": [
    "### Negative (< threshold = negative)"
   ]
  },
  {
   "cell_type": "code",
   "execution_count": 8,
   "id": "87523274",
   "metadata": {
    "execution": {
     "iopub.execute_input": "2021-09-29T04:23:06.885688Z",
     "iopub.status.busy": "2021-09-29T04:23:06.884710Z",
     "iopub.status.idle": "2021-09-29T04:23:06.887523Z",
     "shell.execute_reply": "2021-09-29T04:23:06.886910Z",
     "shell.execute_reply.started": "2021-09-27T02:34:31.900669Z"
    },
    "papermill": {
     "duration": 0.043584,
     "end_time": "2021-09-29T04:23:06.887679",
     "exception": false,
     "start_time": "2021-09-29T04:23:06.844095",
     "status": "completed"
    },
    "tags": []
   },
   "outputs": [],
   "source": [
    "negative_threshold = 0.60"
   ]
  },
  {
   "cell_type": "markdown",
   "id": "4e67d10c",
   "metadata": {
    "papermill": {
     "duration": 0.03809,
     "end_time": "2021-09-29T04:23:06.967501",
     "exception": false,
     "start_time": "2021-09-29T04:23:06.929411",
     "status": "completed"
    },
    "tags": []
   },
   "source": [
    "> The values inbetween will be labeled as \"neutral\""
   ]
  },
  {
   "cell_type": "markdown",
   "id": "994ae38a",
   "metadata": {
    "papermill": {
     "duration": 0.037301,
     "end_time": "2021-09-29T04:23:07.043040",
     "exception": false,
     "start_time": "2021-09-29T04:23:07.005739",
     "status": "completed"
    },
    "tags": []
   },
   "source": [
    "# Run inferences"
   ]
  },
  {
   "cell_type": "markdown",
   "id": "0e5aee0d",
   "metadata": {
    "papermill": {
     "duration": 0.033115,
     "end_time": "2021-09-29T04:23:07.109481",
     "exception": false,
     "start_time": "2021-09-29T04:23:07.076366",
     "status": "completed"
    },
    "tags": []
   },
   "source": [
    "## Messi dataset"
   ]
  },
  {
   "cell_type": "code",
   "execution_count": 9,
   "id": "90c9a296",
   "metadata": {
    "execution": {
     "iopub.execute_input": "2021-09-29T04:23:07.182159Z",
     "iopub.status.busy": "2021-09-29T04:23:07.181182Z",
     "iopub.status.idle": "2021-09-29T04:23:07.188611Z",
     "shell.execute_reply": "2021-09-29T04:23:07.189200Z",
     "shell.execute_reply.started": "2021-09-27T01:44:13.184967Z"
    },
    "papermill": {
     "duration": 0.04557,
     "end_time": "2021-09-29T04:23:07.189403",
     "exception": false,
     "start_time": "2021-09-29T04:23:07.143833",
     "status": "completed"
    },
    "tags": []
   },
   "outputs": [
    {
     "data": {
      "text/plain": [
       "0                                      who needs messi\n",
       "1     forbes lionel messi ranked no 2 in this year ...\n",
       "2     espnfc pele congratulates messi for breaking ...\n",
       "3     crewsmat10 psg have lost 0 zero games since t...\n",
       "4     espnfc pele congratulates messi for breaking ...\n",
       "5     cristiano peak1 i can t keep lying to myself ...\n",
       "6                                    messi could never\n",
       "7     addicted to leo joachim low picks between lio...\n",
       "8     wizarab10 the joy of watching quaresma the au...\n",
       "9     espnfc pele congratulates messi for breaking ...\n",
       "Name: content, dtype: object"
      ]
     },
     "execution_count": 9,
     "metadata": {},
     "output_type": "execute_result"
    }
   ],
   "source": [
    "X_messi = dataset_messi[\"content\"]\n",
    "X_messi.head(10)"
   ]
  },
  {
   "cell_type": "code",
   "execution_count": 10,
   "id": "fbf8aa0c",
   "metadata": {
    "execution": {
     "iopub.execute_input": "2021-09-29T04:23:07.263708Z",
     "iopub.status.busy": "2021-09-29T04:23:07.263022Z",
     "iopub.status.idle": "2021-09-29T04:24:56.725366Z",
     "shell.execute_reply": "2021-09-29T04:24:56.725937Z",
     "shell.execute_reply.started": "2021-09-27T01:48:13.013233Z"
    },
    "papermill": {
     "duration": 109.503079,
     "end_time": "2021-09-29T04:24:56.726176",
     "exception": false,
     "start_time": "2021-09-29T04:23:07.223097",
     "status": "completed"
    },
    "tags": []
   },
   "outputs": [],
   "source": [
    "predictions_messi = model.predict(X_messi)"
   ]
  },
  {
   "cell_type": "markdown",
   "id": "7bf57b27",
   "metadata": {
    "papermill": {
     "duration": 0.032212,
     "end_time": "2021-09-29T04:24:56.791266",
     "exception": false,
     "start_time": "2021-09-29T04:24:56.759054",
     "status": "completed"
    },
    "tags": []
   },
   "source": [
    "### Some results"
   ]
  },
  {
   "cell_type": "code",
   "execution_count": 11,
   "id": "234814ba",
   "metadata": {
    "execution": {
     "iopub.execute_input": "2021-09-29T04:24:56.860875Z",
     "iopub.status.busy": "2021-09-29T04:24:56.859840Z",
     "iopub.status.idle": "2021-09-29T04:24:56.867370Z",
     "shell.execute_reply": "2021-09-29T04:24:56.866809Z",
     "shell.execute_reply.started": "2021-09-27T01:50:29.517899Z"
    },
    "papermill": {
     "duration": 0.043767,
     "end_time": "2021-09-29T04:24:56.867520",
     "exception": false,
     "start_time": "2021-09-29T04:24:56.823753",
     "status": "completed"
    },
    "tags": []
   },
   "outputs": [
    {
     "data": {
      "text/plain": [
       "array([[0.7018067 ],\n",
       "       [0.70083314],\n",
       "       [0.7211006 ],\n",
       "       [0.5130738 ],\n",
       "       [0.7211006 ],\n",
       "       [0.66584957],\n",
       "       [0.6779947 ],\n",
       "       [0.65424395],\n",
       "       [0.66204655],\n",
       "       [0.7211006 ]], dtype=float32)"
      ]
     },
     "execution_count": 11,
     "metadata": {},
     "output_type": "execute_result"
    }
   ],
   "source": [
    "predictions_messi[0:10]"
   ]
  },
  {
   "cell_type": "markdown",
   "id": "cae3e053",
   "metadata": {
    "papermill": {
     "duration": 0.033057,
     "end_time": "2021-09-29T04:24:56.933515",
     "exception": false,
     "start_time": "2021-09-29T04:24:56.900458",
     "status": "completed"
    },
    "tags": []
   },
   "source": [
    "## Ronaldo dataset"
   ]
  },
  {
   "cell_type": "code",
   "execution_count": 12,
   "id": "76212563",
   "metadata": {
    "execution": {
     "iopub.execute_input": "2021-09-29T04:24:57.006256Z",
     "iopub.status.busy": "2021-09-29T04:24:57.005286Z",
     "iopub.status.idle": "2021-09-29T04:24:57.012578Z",
     "shell.execute_reply": "2021-09-29T04:24:57.013165Z",
     "shell.execute_reply.started": "2021-09-27T03:17:05.613924Z"
    },
    "papermill": {
     "duration": 0.044902,
     "end_time": "2021-09-29T04:24:57.013355",
     "exception": false,
     "start_time": "2021-09-29T04:24:56.968453",
     "status": "completed"
    },
    "tags": []
   },
   "outputs": [
    {
     "data": {
      "text/plain": [
       "0                                  ronaldo was offside\n",
       "1     football tweet the most effective trios over ...\n",
       "2    ronaldo jr the only footballer to score a goal...\n",
       "3     edmundoris perfect weekend for barca fans and...\n",
       "4     efoetornam no way ansu fati has more goals ou...\n",
       "Name: content, dtype: object"
      ]
     },
     "execution_count": 12,
     "metadata": {},
     "output_type": "execute_result"
    }
   ],
   "source": [
    "X_ronaldo = dataset_ronaldo[\"content\"]\n",
    "X_ronaldo.head(5)"
   ]
  },
  {
   "cell_type": "code",
   "execution_count": 13,
   "id": "39c20e13",
   "metadata": {
    "execution": {
     "iopub.execute_input": "2021-09-29T04:24:57.086047Z",
     "iopub.status.busy": "2021-09-29T04:24:57.085006Z",
     "iopub.status.idle": "2021-09-29T04:26:44.714758Z",
     "shell.execute_reply": "2021-09-29T04:26:44.715361Z",
     "shell.execute_reply.started": "2021-09-27T01:58:28.399108Z"
    },
    "papermill": {
     "duration": 107.66786,
     "end_time": "2021-09-29T04:26:44.715571",
     "exception": false,
     "start_time": "2021-09-29T04:24:57.047711",
     "status": "completed"
    },
    "tags": []
   },
   "outputs": [],
   "source": [
    "predictions_ronaldo = model.predict(X_ronaldo)"
   ]
  },
  {
   "cell_type": "markdown",
   "id": "7292395a",
   "metadata": {
    "papermill": {
     "duration": 0.033576,
     "end_time": "2021-09-29T04:26:44.782956",
     "exception": false,
     "start_time": "2021-09-29T04:26:44.749380",
     "status": "completed"
    },
    "tags": []
   },
   "source": [
    "### Some results"
   ]
  },
  {
   "cell_type": "code",
   "execution_count": 14,
   "id": "903142a4",
   "metadata": {
    "execution": {
     "iopub.execute_input": "2021-09-29T04:26:44.857322Z",
     "iopub.status.busy": "2021-09-29T04:26:44.856314Z",
     "iopub.status.idle": "2021-09-29T04:26:44.860555Z",
     "shell.execute_reply": "2021-09-29T04:26:44.859977Z",
     "shell.execute_reply.started": "2021-09-27T02:10:23.766285Z"
    },
    "papermill": {
     "duration": 0.043783,
     "end_time": "2021-09-29T04:26:44.860709",
     "exception": false,
     "start_time": "2021-09-29T04:26:44.816926",
     "status": "completed"
    },
    "tags": []
   },
   "outputs": [
    {
     "data": {
      "text/plain": [
       "array([[0.6192377 ],\n",
       "       [0.57604   ],\n",
       "       [0.7179266 ],\n",
       "       [0.58372605],\n",
       "       [0.710394  ],\n",
       "       [0.6981025 ],\n",
       "       [0.630884  ],\n",
       "       [0.705195  ],\n",
       "       [0.64066935],\n",
       "       [0.58361983]], dtype=float32)"
      ]
     },
     "execution_count": 14,
     "metadata": {},
     "output_type": "execute_result"
    }
   ],
   "source": [
    "predictions_ronaldo[0:10]"
   ]
  },
  {
   "cell_type": "markdown",
   "id": "86625af0",
   "metadata": {
    "papermill": {
     "duration": 0.033437,
     "end_time": "2021-09-29T04:26:44.928601",
     "exception": false,
     "start_time": "2021-09-29T04:26:44.895164",
     "status": "completed"
    },
    "tags": []
   },
   "source": [
    "# Assign the predictions to the dataset"
   ]
  },
  {
   "cell_type": "markdown",
   "id": "019572ce",
   "metadata": {
    "papermill": {
     "duration": 0.033564,
     "end_time": "2021-09-29T04:26:44.996082",
     "exception": false,
     "start_time": "2021-09-29T04:26:44.962518",
     "status": "completed"
    },
    "tags": []
   },
   "source": [
    "## Messi"
   ]
  },
  {
   "cell_type": "code",
   "execution_count": 15,
   "id": "4916722f",
   "metadata": {
    "execution": {
     "iopub.execute_input": "2021-09-29T04:26:45.083316Z",
     "iopub.status.busy": "2021-09-29T04:26:45.082422Z",
     "iopub.status.idle": "2021-09-29T04:26:45.086773Z",
     "shell.execute_reply": "2021-09-29T04:26:45.086193Z",
     "shell.execute_reply.started": "2021-09-27T02:06:29.909384Z"
    },
    "papermill": {
     "duration": 0.055516,
     "end_time": "2021-09-29T04:26:45.086908",
     "exception": false,
     "start_time": "2021-09-29T04:26:45.031392",
     "status": "completed"
    },
    "tags": []
   },
   "outputs": [
    {
     "data": {
      "text/html": [
       "<div>\n",
       "<style scoped>\n",
       "    .dataframe tbody tr th:only-of-type {\n",
       "        vertical-align: middle;\n",
       "    }\n",
       "\n",
       "    .dataframe tbody tr th {\n",
       "        vertical-align: top;\n",
       "    }\n",
       "\n",
       "    .dataframe thead th {\n",
       "        text-align: right;\n",
       "    }\n",
       "</style>\n",
       "<table border=\"1\" class=\"dataframe\">\n",
       "  <thead>\n",
       "    <tr style=\"text-align: right;\">\n",
       "      <th></th>\n",
       "      <th>tweet_id</th>\n",
       "      <th>author_id</th>\n",
       "      <th>content</th>\n",
       "      <th>lang</th>\n",
       "      <th>date</th>\n",
       "      <th>source</th>\n",
       "      <th>geo</th>\n",
       "      <th>retweet_count</th>\n",
       "      <th>like_count</th>\n",
       "      <th>quote_count</th>\n",
       "      <th>prediction</th>\n",
       "    </tr>\n",
       "  </thead>\n",
       "  <tbody>\n",
       "    <tr>\n",
       "      <th>0</th>\n",
       "      <td>1442143079373365248</td>\n",
       "      <td>1302375645666848768</td>\n",
       "      <td>who needs messi</td>\n",
       "      <td>en</td>\n",
       "      <td>2021-09-26T15:04:38.000Z</td>\n",
       "      <td>Twitter for iPhone</td>\n",
       "      <td>-1</td>\n",
       "      <td>0</td>\n",
       "      <td>0</td>\n",
       "      <td>0</td>\n",
       "      <td>0.701807</td>\n",
       "    </tr>\n",
       "    <tr>\n",
       "      <th>1</th>\n",
       "      <td>1442143071995457542</td>\n",
       "      <td>116969561</td>\n",
       "      <td>forbes lionel messi ranked no 2 in this year ...</td>\n",
       "      <td>en</td>\n",
       "      <td>2021-09-26T15:04:36.000Z</td>\n",
       "      <td>Twitter for Android</td>\n",
       "      <td>-1</td>\n",
       "      <td>11</td>\n",
       "      <td>0</td>\n",
       "      <td>0</td>\n",
       "      <td>0.700833</td>\n",
       "    </tr>\n",
       "    <tr>\n",
       "      <th>2</th>\n",
       "      <td>1442143058594652160</td>\n",
       "      <td>1296470104486612997</td>\n",
       "      <td>espnfc pele congratulates messi for breaking ...</td>\n",
       "      <td>en</td>\n",
       "      <td>2021-09-26T15:04:33.000Z</td>\n",
       "      <td>Twitter Web App</td>\n",
       "      <td>-1</td>\n",
       "      <td>637</td>\n",
       "      <td>0</td>\n",
       "      <td>0</td>\n",
       "      <td>0.721101</td>\n",
       "    </tr>\n",
       "    <tr>\n",
       "      <th>3</th>\n",
       "      <td>1442143054836678656</td>\n",
       "      <td>4083107893</td>\n",
       "      <td>crewsmat10 psg have lost 0 zero games since t...</td>\n",
       "      <td>en</td>\n",
       "      <td>2021-09-26T15:04:32.000Z</td>\n",
       "      <td>Twitter for Android</td>\n",
       "      <td>-1</td>\n",
       "      <td>510</td>\n",
       "      <td>0</td>\n",
       "      <td>0</td>\n",
       "      <td>0.513074</td>\n",
       "    </tr>\n",
       "    <tr>\n",
       "      <th>4</th>\n",
       "      <td>1442143052265664514</td>\n",
       "      <td>1248782697029406720</td>\n",
       "      <td>espnfc pele congratulates messi for breaking ...</td>\n",
       "      <td>en</td>\n",
       "      <td>2021-09-26T15:04:32.000Z</td>\n",
       "      <td>Twitter for Android</td>\n",
       "      <td>-1</td>\n",
       "      <td>637</td>\n",
       "      <td>0</td>\n",
       "      <td>0</td>\n",
       "      <td>0.721101</td>\n",
       "    </tr>\n",
       "  </tbody>\n",
       "</table>\n",
       "</div>"
      ],
      "text/plain": [
       "              tweet_id            author_id  \\\n",
       "0  1442143079373365248  1302375645666848768   \n",
       "1  1442143071995457542            116969561   \n",
       "2  1442143058594652160  1296470104486612997   \n",
       "3  1442143054836678656           4083107893   \n",
       "4  1442143052265664514  1248782697029406720   \n",
       "\n",
       "                                             content lang  \\\n",
       "0                                    who needs messi   en   \n",
       "1   forbes lionel messi ranked no 2 in this year ...   en   \n",
       "2   espnfc pele congratulates messi for breaking ...   en   \n",
       "3   crewsmat10 psg have lost 0 zero games since t...   en   \n",
       "4   espnfc pele congratulates messi for breaking ...   en   \n",
       "\n",
       "                       date               source geo  retweet_count  \\\n",
       "0  2021-09-26T15:04:38.000Z   Twitter for iPhone  -1              0   \n",
       "1  2021-09-26T15:04:36.000Z  Twitter for Android  -1             11   \n",
       "2  2021-09-26T15:04:33.000Z      Twitter Web App  -1            637   \n",
       "3  2021-09-26T15:04:32.000Z  Twitter for Android  -1            510   \n",
       "4  2021-09-26T15:04:32.000Z  Twitter for Android  -1            637   \n",
       "\n",
       "   like_count  quote_count  prediction  \n",
       "0           0            0    0.701807  \n",
       "1           0            0    0.700833  \n",
       "2           0            0    0.721101  \n",
       "3           0            0    0.513074  \n",
       "4           0            0    0.721101  "
      ]
     },
     "execution_count": 15,
     "metadata": {},
     "output_type": "execute_result"
    }
   ],
   "source": [
    "dataset_messi[\"prediction\"] = predictions_messi\n",
    "dataset_messi.head(5)"
   ]
  },
  {
   "cell_type": "markdown",
   "id": "1c6a0eec",
   "metadata": {
    "papermill": {
     "duration": 0.034327,
     "end_time": "2021-09-29T04:26:45.155888",
     "exception": false,
     "start_time": "2021-09-29T04:26:45.121561",
     "status": "completed"
    },
    "tags": []
   },
   "source": [
    "## Ronaldo"
   ]
  },
  {
   "cell_type": "code",
   "execution_count": 16,
   "id": "3fa5c313",
   "metadata": {
    "execution": {
     "iopub.execute_input": "2021-09-29T04:26:45.242970Z",
     "iopub.status.busy": "2021-09-29T04:26:45.241883Z",
     "iopub.status.idle": "2021-09-29T04:26:45.247137Z",
     "shell.execute_reply": "2021-09-29T04:26:45.246401Z",
     "shell.execute_reply.started": "2021-09-27T02:06:33.746436Z"
    },
    "papermill": {
     "duration": 0.056151,
     "end_time": "2021-09-29T04:26:45.247300",
     "exception": false,
     "start_time": "2021-09-29T04:26:45.191149",
     "status": "completed"
    },
    "tags": []
   },
   "outputs": [
    {
     "data": {
      "text/html": [
       "<div>\n",
       "<style scoped>\n",
       "    .dataframe tbody tr th:only-of-type {\n",
       "        vertical-align: middle;\n",
       "    }\n",
       "\n",
       "    .dataframe tbody tr th {\n",
       "        vertical-align: top;\n",
       "    }\n",
       "\n",
       "    .dataframe thead th {\n",
       "        text-align: right;\n",
       "    }\n",
       "</style>\n",
       "<table border=\"1\" class=\"dataframe\">\n",
       "  <thead>\n",
       "    <tr style=\"text-align: right;\">\n",
       "      <th></th>\n",
       "      <th>tweet_id</th>\n",
       "      <th>author_id</th>\n",
       "      <th>content</th>\n",
       "      <th>lang</th>\n",
       "      <th>date</th>\n",
       "      <th>source</th>\n",
       "      <th>geo</th>\n",
       "      <th>retweet_count</th>\n",
       "      <th>like_count</th>\n",
       "      <th>quote_count</th>\n",
       "      <th>prediction</th>\n",
       "    </tr>\n",
       "  </thead>\n",
       "  <tbody>\n",
       "    <tr>\n",
       "      <th>0</th>\n",
       "      <td>1442216040629514241</td>\n",
       "      <td>1395557892779122694</td>\n",
       "      <td>ronaldo was offside</td>\n",
       "      <td>en</td>\n",
       "      <td>2021-09-26T19:54:33.000Z</td>\n",
       "      <td>Twitter Web App</td>\n",
       "      <td>-1</td>\n",
       "      <td>0</td>\n",
       "      <td>1</td>\n",
       "      <td>0</td>\n",
       "      <td>0.619238</td>\n",
       "    </tr>\n",
       "    <tr>\n",
       "      <th>1</th>\n",
       "      <td>1442216031792074755</td>\n",
       "      <td>1176842712420630530</td>\n",
       "      <td>football tweet the most effective trios over ...</td>\n",
       "      <td>en</td>\n",
       "      <td>2021-09-26T19:54:31.000Z</td>\n",
       "      <td>Twitter for Android</td>\n",
       "      <td>-1</td>\n",
       "      <td>18</td>\n",
       "      <td>0</td>\n",
       "      <td>0</td>\n",
       "      <td>0.576040</td>\n",
       "    </tr>\n",
       "    <tr>\n",
       "      <th>2</th>\n",
       "      <td>1442216026456748036</td>\n",
       "      <td>2385664598</td>\n",
       "      <td>ronaldo jr the only footballer to score a goal...</td>\n",
       "      <td>en</td>\n",
       "      <td>2021-09-26T19:54:30.000Z</td>\n",
       "      <td>Twitter for iPhone</td>\n",
       "      <td>-1</td>\n",
       "      <td>0</td>\n",
       "      <td>0</td>\n",
       "      <td>0</td>\n",
       "      <td>0.717927</td>\n",
       "    </tr>\n",
       "    <tr>\n",
       "      <th>3</th>\n",
       "      <td>1442216002197016578</td>\n",
       "      <td>1142495555790299138</td>\n",
       "      <td>edmundoris perfect weekend for barca fans and...</td>\n",
       "      <td>en</td>\n",
       "      <td>2021-09-26T19:54:24.000Z</td>\n",
       "      <td>Twitter for iPhone</td>\n",
       "      <td>-1</td>\n",
       "      <td>571</td>\n",
       "      <td>0</td>\n",
       "      <td>0</td>\n",
       "      <td>0.583726</td>\n",
       "    </tr>\n",
       "    <tr>\n",
       "      <th>4</th>\n",
       "      <td>1442215992344596488</td>\n",
       "      <td>793153149066481664</td>\n",
       "      <td>efoetornam no way ansu fati has more goals ou...</td>\n",
       "      <td>en</td>\n",
       "      <td>2021-09-26T19:54:22.000Z</td>\n",
       "      <td>Twitter for iPhone</td>\n",
       "      <td>-1</td>\n",
       "      <td>106</td>\n",
       "      <td>0</td>\n",
       "      <td>0</td>\n",
       "      <td>0.710394</td>\n",
       "    </tr>\n",
       "  </tbody>\n",
       "</table>\n",
       "</div>"
      ],
      "text/plain": [
       "              tweet_id            author_id  \\\n",
       "0  1442216040629514241  1395557892779122694   \n",
       "1  1442216031792074755  1176842712420630530   \n",
       "2  1442216026456748036           2385664598   \n",
       "3  1442216002197016578  1142495555790299138   \n",
       "4  1442215992344596488   793153149066481664   \n",
       "\n",
       "                                             content lang  \\\n",
       "0                                ronaldo was offside   en   \n",
       "1   football tweet the most effective trios over ...   en   \n",
       "2  ronaldo jr the only footballer to score a goal...   en   \n",
       "3   edmundoris perfect weekend for barca fans and...   en   \n",
       "4   efoetornam no way ansu fati has more goals ou...   en   \n",
       "\n",
       "                       date               source geo  retweet_count  \\\n",
       "0  2021-09-26T19:54:33.000Z      Twitter Web App  -1              0   \n",
       "1  2021-09-26T19:54:31.000Z  Twitter for Android  -1             18   \n",
       "2  2021-09-26T19:54:30.000Z   Twitter for iPhone  -1              0   \n",
       "3  2021-09-26T19:54:24.000Z   Twitter for iPhone  -1            571   \n",
       "4  2021-09-26T19:54:22.000Z   Twitter for iPhone  -1            106   \n",
       "\n",
       "   like_count  quote_count  prediction  \n",
       "0           1            0    0.619238  \n",
       "1           0            0    0.576040  \n",
       "2           0            0    0.717927  \n",
       "3           0            0    0.583726  \n",
       "4           0            0    0.710394  "
      ]
     },
     "execution_count": 16,
     "metadata": {},
     "output_type": "execute_result"
    }
   ],
   "source": [
    "dataset_ronaldo[\"prediction\"] = predictions_ronaldo\n",
    "dataset_ronaldo.head(5)"
   ]
  },
  {
   "cell_type": "markdown",
   "id": "86240962",
   "metadata": {
    "papermill": {
     "duration": 0.037329,
     "end_time": "2021-09-29T04:26:45.320154",
     "exception": false,
     "start_time": "2021-09-29T04:26:45.282825",
     "status": "completed"
    },
    "tags": []
   },
   "source": [
    "# From predictions to labels"
   ]
  },
  {
   "cell_type": "markdown",
   "id": "9abf3264",
   "metadata": {
    "papermill": {
     "duration": 0.037273,
     "end_time": "2021-09-29T04:26:45.392783",
     "exception": false,
     "start_time": "2021-09-29T04:26:45.355510",
     "status": "completed"
    },
    "tags": []
   },
   "source": [
    "## Define the processing function"
   ]
  },
  {
   "cell_type": "code",
   "execution_count": 17,
   "id": "636273ad",
   "metadata": {
    "execution": {
     "iopub.execute_input": "2021-09-29T04:26:45.474745Z",
     "iopub.status.busy": "2021-09-29T04:26:45.473806Z",
     "iopub.status.idle": "2021-09-29T04:26:45.477059Z",
     "shell.execute_reply": "2021-09-29T04:26:45.476434Z",
     "shell.execute_reply.started": "2021-09-27T02:43:49.958728Z"
    },
    "papermill": {
     "duration": 0.046659,
     "end_time": "2021-09-29T04:26:45.477215",
     "exception": false,
     "start_time": "2021-09-29T04:26:45.430556",
     "status": "completed"
    },
    "tags": []
   },
   "outputs": [],
   "source": [
    "def assign_label(x):\n",
    "    rounded_x = round(x,2)\n",
    "    label = \"\"\n",
    "    if rounded_x >= 0.64: \n",
    "        label = \"Positive\"\n",
    "    elif rounded_x >= 0.6: \n",
    "        label = \"Neutral\"\n",
    "    else:\n",
    "        label = \"Negative\"\n",
    "    return label"
   ]
  },
  {
   "cell_type": "markdown",
   "id": "b3a1cca1",
   "metadata": {
    "papermill": {
     "duration": 0.035858,
     "end_time": "2021-09-29T04:26:45.553152",
     "exception": false,
     "start_time": "2021-09-29T04:26:45.517294",
     "status": "completed"
    },
    "tags": []
   },
   "source": [
    "## Application : Messi Dataset"
   ]
  },
  {
   "cell_type": "code",
   "execution_count": 18,
   "id": "ff12af0a",
   "metadata": {
    "execution": {
     "iopub.execute_input": "2021-09-29T04:26:45.630415Z",
     "iopub.status.busy": "2021-09-29T04:26:45.628138Z",
     "iopub.status.idle": "2021-09-29T04:26:45.690159Z",
     "shell.execute_reply": "2021-09-29T04:26:45.689631Z",
     "shell.execute_reply.started": "2021-09-27T02:56:07.279962Z"
    },
    "papermill": {
     "duration": 0.102312,
     "end_time": "2021-09-29T04:26:45.690306",
     "exception": false,
     "start_time": "2021-09-29T04:26:45.587994",
     "status": "completed"
    },
    "tags": []
   },
   "outputs": [
    {
     "data": {
      "text/html": [
       "<div>\n",
       "<style scoped>\n",
       "    .dataframe tbody tr th:only-of-type {\n",
       "        vertical-align: middle;\n",
       "    }\n",
       "\n",
       "    .dataframe tbody tr th {\n",
       "        vertical-align: top;\n",
       "    }\n",
       "\n",
       "    .dataframe thead th {\n",
       "        text-align: right;\n",
       "    }\n",
       "</style>\n",
       "<table border=\"1\" class=\"dataframe\">\n",
       "  <thead>\n",
       "    <tr style=\"text-align: right;\">\n",
       "      <th></th>\n",
       "      <th>tweet_id</th>\n",
       "      <th>author_id</th>\n",
       "      <th>content</th>\n",
       "      <th>lang</th>\n",
       "      <th>date</th>\n",
       "      <th>source</th>\n",
       "      <th>geo</th>\n",
       "      <th>retweet_count</th>\n",
       "      <th>like_count</th>\n",
       "      <th>quote_count</th>\n",
       "      <th>prediction</th>\n",
       "      <th>label</th>\n",
       "    </tr>\n",
       "  </thead>\n",
       "  <tbody>\n",
       "    <tr>\n",
       "      <th>0</th>\n",
       "      <td>1442143079373365248</td>\n",
       "      <td>1302375645666848768</td>\n",
       "      <td>who needs messi</td>\n",
       "      <td>en</td>\n",
       "      <td>2021-09-26T15:04:38.000Z</td>\n",
       "      <td>Twitter for iPhone</td>\n",
       "      <td>-1</td>\n",
       "      <td>0</td>\n",
       "      <td>0</td>\n",
       "      <td>0</td>\n",
       "      <td>0.701807</td>\n",
       "      <td>Positive</td>\n",
       "    </tr>\n",
       "    <tr>\n",
       "      <th>1</th>\n",
       "      <td>1442143071995457542</td>\n",
       "      <td>116969561</td>\n",
       "      <td>forbes lionel messi ranked no 2 in this year ...</td>\n",
       "      <td>en</td>\n",
       "      <td>2021-09-26T15:04:36.000Z</td>\n",
       "      <td>Twitter for Android</td>\n",
       "      <td>-1</td>\n",
       "      <td>11</td>\n",
       "      <td>0</td>\n",
       "      <td>0</td>\n",
       "      <td>0.700833</td>\n",
       "      <td>Positive</td>\n",
       "    </tr>\n",
       "    <tr>\n",
       "      <th>2</th>\n",
       "      <td>1442143058594652160</td>\n",
       "      <td>1296470104486612997</td>\n",
       "      <td>espnfc pele congratulates messi for breaking ...</td>\n",
       "      <td>en</td>\n",
       "      <td>2021-09-26T15:04:33.000Z</td>\n",
       "      <td>Twitter Web App</td>\n",
       "      <td>-1</td>\n",
       "      <td>637</td>\n",
       "      <td>0</td>\n",
       "      <td>0</td>\n",
       "      <td>0.721101</td>\n",
       "      <td>Positive</td>\n",
       "    </tr>\n",
       "    <tr>\n",
       "      <th>3</th>\n",
       "      <td>1442143054836678656</td>\n",
       "      <td>4083107893</td>\n",
       "      <td>crewsmat10 psg have lost 0 zero games since t...</td>\n",
       "      <td>en</td>\n",
       "      <td>2021-09-26T15:04:32.000Z</td>\n",
       "      <td>Twitter for Android</td>\n",
       "      <td>-1</td>\n",
       "      <td>510</td>\n",
       "      <td>0</td>\n",
       "      <td>0</td>\n",
       "      <td>0.513074</td>\n",
       "      <td>Negative</td>\n",
       "    </tr>\n",
       "    <tr>\n",
       "      <th>4</th>\n",
       "      <td>1442143052265664514</td>\n",
       "      <td>1248782697029406720</td>\n",
       "      <td>espnfc pele congratulates messi for breaking ...</td>\n",
       "      <td>en</td>\n",
       "      <td>2021-09-26T15:04:32.000Z</td>\n",
       "      <td>Twitter for Android</td>\n",
       "      <td>-1</td>\n",
       "      <td>637</td>\n",
       "      <td>0</td>\n",
       "      <td>0</td>\n",
       "      <td>0.721101</td>\n",
       "      <td>Positive</td>\n",
       "    </tr>\n",
       "  </tbody>\n",
       "</table>\n",
       "</div>"
      ],
      "text/plain": [
       "              tweet_id            author_id  \\\n",
       "0  1442143079373365248  1302375645666848768   \n",
       "1  1442143071995457542            116969561   \n",
       "2  1442143058594652160  1296470104486612997   \n",
       "3  1442143054836678656           4083107893   \n",
       "4  1442143052265664514  1248782697029406720   \n",
       "\n",
       "                                             content lang  \\\n",
       "0                                    who needs messi   en   \n",
       "1   forbes lionel messi ranked no 2 in this year ...   en   \n",
       "2   espnfc pele congratulates messi for breaking ...   en   \n",
       "3   crewsmat10 psg have lost 0 zero games since t...   en   \n",
       "4   espnfc pele congratulates messi for breaking ...   en   \n",
       "\n",
       "                       date               source geo  retweet_count  \\\n",
       "0  2021-09-26T15:04:38.000Z   Twitter for iPhone  -1              0   \n",
       "1  2021-09-26T15:04:36.000Z  Twitter for Android  -1             11   \n",
       "2  2021-09-26T15:04:33.000Z      Twitter Web App  -1            637   \n",
       "3  2021-09-26T15:04:32.000Z  Twitter for Android  -1            510   \n",
       "4  2021-09-26T15:04:32.000Z  Twitter for Android  -1            637   \n",
       "\n",
       "   like_count  quote_count  prediction     label  \n",
       "0           0            0    0.701807  Positive  \n",
       "1           0            0    0.700833  Positive  \n",
       "2           0            0    0.721101  Positive  \n",
       "3           0            0    0.513074  Negative  \n",
       "4           0            0    0.721101  Positive  "
      ]
     },
     "execution_count": 18,
     "metadata": {},
     "output_type": "execute_result"
    }
   ],
   "source": [
    "dataset_messi[\"label\"] = \"0\" # Create a column named \"label\"\n",
    "dataset_messi[\"label\"] = dataset_messi.prediction.apply(lambda x: assign_label(x))\n",
    "dataset_messi.head(5)"
   ]
  },
  {
   "cell_type": "markdown",
   "id": "8c32c022",
   "metadata": {
    "papermill": {
     "duration": 0.035914,
     "end_time": "2021-09-29T04:26:45.763210",
     "exception": false,
     "start_time": "2021-09-29T04:26:45.727296",
     "status": "completed"
    },
    "tags": []
   },
   "source": [
    "## Application : Ronaldo Dataset"
   ]
  },
  {
   "cell_type": "code",
   "execution_count": 19,
   "id": "e822cef3",
   "metadata": {
    "execution": {
     "iopub.execute_input": "2021-09-29T04:26:45.879600Z",
     "iopub.status.busy": "2021-09-29T04:26:45.868875Z",
     "iopub.status.idle": "2021-09-29T04:26:45.902854Z",
     "shell.execute_reply": "2021-09-29T04:26:45.903452Z",
     "shell.execute_reply.started": "2021-09-27T02:56:49.576383Z"
    },
    "papermill": {
     "duration": 0.104075,
     "end_time": "2021-09-29T04:26:45.903645",
     "exception": false,
     "start_time": "2021-09-29T04:26:45.799570",
     "status": "completed"
    },
    "tags": []
   },
   "outputs": [
    {
     "data": {
      "text/html": [
       "<div>\n",
       "<style scoped>\n",
       "    .dataframe tbody tr th:only-of-type {\n",
       "        vertical-align: middle;\n",
       "    }\n",
       "\n",
       "    .dataframe tbody tr th {\n",
       "        vertical-align: top;\n",
       "    }\n",
       "\n",
       "    .dataframe thead th {\n",
       "        text-align: right;\n",
       "    }\n",
       "</style>\n",
       "<table border=\"1\" class=\"dataframe\">\n",
       "  <thead>\n",
       "    <tr style=\"text-align: right;\">\n",
       "      <th></th>\n",
       "      <th>tweet_id</th>\n",
       "      <th>author_id</th>\n",
       "      <th>content</th>\n",
       "      <th>lang</th>\n",
       "      <th>date</th>\n",
       "      <th>source</th>\n",
       "      <th>geo</th>\n",
       "      <th>retweet_count</th>\n",
       "      <th>like_count</th>\n",
       "      <th>quote_count</th>\n",
       "      <th>prediction</th>\n",
       "      <th>label</th>\n",
       "    </tr>\n",
       "  </thead>\n",
       "  <tbody>\n",
       "    <tr>\n",
       "      <th>0</th>\n",
       "      <td>1442216040629514241</td>\n",
       "      <td>1395557892779122694</td>\n",
       "      <td>ronaldo was offside</td>\n",
       "      <td>en</td>\n",
       "      <td>2021-09-26T19:54:33.000Z</td>\n",
       "      <td>Twitter Web App</td>\n",
       "      <td>-1</td>\n",
       "      <td>0</td>\n",
       "      <td>1</td>\n",
       "      <td>0</td>\n",
       "      <td>0.619238</td>\n",
       "      <td>Neutral</td>\n",
       "    </tr>\n",
       "    <tr>\n",
       "      <th>1</th>\n",
       "      <td>1442216031792074755</td>\n",
       "      <td>1176842712420630530</td>\n",
       "      <td>football tweet the most effective trios over ...</td>\n",
       "      <td>en</td>\n",
       "      <td>2021-09-26T19:54:31.000Z</td>\n",
       "      <td>Twitter for Android</td>\n",
       "      <td>-1</td>\n",
       "      <td>18</td>\n",
       "      <td>0</td>\n",
       "      <td>0</td>\n",
       "      <td>0.576040</td>\n",
       "      <td>Negative</td>\n",
       "    </tr>\n",
       "    <tr>\n",
       "      <th>2</th>\n",
       "      <td>1442216026456748036</td>\n",
       "      <td>2385664598</td>\n",
       "      <td>ronaldo jr the only footballer to score a goal...</td>\n",
       "      <td>en</td>\n",
       "      <td>2021-09-26T19:54:30.000Z</td>\n",
       "      <td>Twitter for iPhone</td>\n",
       "      <td>-1</td>\n",
       "      <td>0</td>\n",
       "      <td>0</td>\n",
       "      <td>0</td>\n",
       "      <td>0.717927</td>\n",
       "      <td>Positive</td>\n",
       "    </tr>\n",
       "    <tr>\n",
       "      <th>3</th>\n",
       "      <td>1442216002197016578</td>\n",
       "      <td>1142495555790299138</td>\n",
       "      <td>edmundoris perfect weekend for barca fans and...</td>\n",
       "      <td>en</td>\n",
       "      <td>2021-09-26T19:54:24.000Z</td>\n",
       "      <td>Twitter for iPhone</td>\n",
       "      <td>-1</td>\n",
       "      <td>571</td>\n",
       "      <td>0</td>\n",
       "      <td>0</td>\n",
       "      <td>0.583726</td>\n",
       "      <td>Negative</td>\n",
       "    </tr>\n",
       "    <tr>\n",
       "      <th>4</th>\n",
       "      <td>1442215992344596488</td>\n",
       "      <td>793153149066481664</td>\n",
       "      <td>efoetornam no way ansu fati has more goals ou...</td>\n",
       "      <td>en</td>\n",
       "      <td>2021-09-26T19:54:22.000Z</td>\n",
       "      <td>Twitter for iPhone</td>\n",
       "      <td>-1</td>\n",
       "      <td>106</td>\n",
       "      <td>0</td>\n",
       "      <td>0</td>\n",
       "      <td>0.710394</td>\n",
       "      <td>Positive</td>\n",
       "    </tr>\n",
       "  </tbody>\n",
       "</table>\n",
       "</div>"
      ],
      "text/plain": [
       "              tweet_id            author_id  \\\n",
       "0  1442216040629514241  1395557892779122694   \n",
       "1  1442216031792074755  1176842712420630530   \n",
       "2  1442216026456748036           2385664598   \n",
       "3  1442216002197016578  1142495555790299138   \n",
       "4  1442215992344596488   793153149066481664   \n",
       "\n",
       "                                             content lang  \\\n",
       "0                                ronaldo was offside   en   \n",
       "1   football tweet the most effective trios over ...   en   \n",
       "2  ronaldo jr the only footballer to score a goal...   en   \n",
       "3   edmundoris perfect weekend for barca fans and...   en   \n",
       "4   efoetornam no way ansu fati has more goals ou...   en   \n",
       "\n",
       "                       date               source geo  retweet_count  \\\n",
       "0  2021-09-26T19:54:33.000Z      Twitter Web App  -1              0   \n",
       "1  2021-09-26T19:54:31.000Z  Twitter for Android  -1             18   \n",
       "2  2021-09-26T19:54:30.000Z   Twitter for iPhone  -1              0   \n",
       "3  2021-09-26T19:54:24.000Z   Twitter for iPhone  -1            571   \n",
       "4  2021-09-26T19:54:22.000Z   Twitter for iPhone  -1            106   \n",
       "\n",
       "   like_count  quote_count  prediction     label  \n",
       "0           1            0    0.619238   Neutral  \n",
       "1           0            0    0.576040  Negative  \n",
       "2           0            0    0.717927  Positive  \n",
       "3           0            0    0.583726  Negative  \n",
       "4           0            0    0.710394  Positive  "
      ]
     },
     "execution_count": 19,
     "metadata": {},
     "output_type": "execute_result"
    }
   ],
   "source": [
    "dataset_ronaldo[\"label\"] = \"0\" # Create a column named \"label\"\n",
    "dataset_ronaldo[\"label\"] = dataset_ronaldo.prediction.apply(lambda x: assign_label(x))\n",
    "dataset_ronaldo.head(5)"
   ]
  },
  {
   "cell_type": "markdown",
   "id": "c9638bc3",
   "metadata": {
    "papermill": {
     "duration": 0.035506,
     "end_time": "2021-09-29T04:26:45.975297",
     "exception": false,
     "start_time": "2021-09-29T04:26:45.939791",
     "status": "completed"
    },
    "tags": []
   },
   "source": [
    "# Save the results\n",
    "> Note : if you plan to use the dataset, feel free to manually check and tweak the results, in order to come closer to a human-precision level"
   ]
  },
  {
   "cell_type": "markdown",
   "id": "10549438",
   "metadata": {
    "papermill": {
     "duration": 0.03863,
     "end_time": "2021-09-29T04:26:46.049681",
     "exception": false,
     "start_time": "2021-09-29T04:26:46.011051",
     "status": "completed"
    },
    "tags": []
   },
   "source": [
    "## Messi "
   ]
  },
  {
   "cell_type": "code",
   "execution_count": 20,
   "id": "4dc91c9d",
   "metadata": {
    "execution": {
     "iopub.execute_input": "2021-09-29T04:26:46.128080Z",
     "iopub.status.busy": "2021-09-29T04:26:46.127042Z",
     "iopub.status.idle": "2021-09-29T04:26:46.611320Z",
     "shell.execute_reply": "2021-09-29T04:26:46.610701Z",
     "shell.execute_reply.started": "2021-09-27T02:59:59.572214Z"
    },
    "papermill": {
     "duration": 0.525387,
     "end_time": "2021-09-29T04:26:46.611488",
     "exception": false,
     "start_time": "2021-09-29T04:26:46.086101",
     "status": "completed"
    },
    "tags": []
   },
   "outputs": [],
   "source": [
    "dataset_messi.to_csv(\"Predictions_messi.csv\", index=False)"
   ]
  },
  {
   "cell_type": "markdown",
   "id": "6ab44cde",
   "metadata": {
    "papermill": {
     "duration": 0.036687,
     "end_time": "2021-09-29T04:26:46.684819",
     "exception": false,
     "start_time": "2021-09-29T04:26:46.648132",
     "status": "completed"
    },
    "tags": []
   },
   "source": [
    "## Ronaldo"
   ]
  },
  {
   "cell_type": "code",
   "execution_count": 21,
   "id": "3374165a",
   "metadata": {
    "execution": {
     "iopub.execute_input": "2021-09-29T04:26:46.776328Z",
     "iopub.status.busy": "2021-09-29T04:26:46.770128Z",
     "iopub.status.idle": "2021-09-29T04:26:47.256570Z",
     "shell.execute_reply": "2021-09-29T04:26:47.255928Z",
     "shell.execute_reply.started": "2021-09-27T03:00:22.154954Z"
    },
    "papermill": {
     "duration": 0.535046,
     "end_time": "2021-09-29T04:26:47.256720",
     "exception": false,
     "start_time": "2021-09-29T04:26:46.721674",
     "status": "completed"
    },
    "tags": []
   },
   "outputs": [],
   "source": [
    "dataset_ronaldo.to_csv(\"Predictions_ronaldo.csv\", index=False)"
   ]
  }
 ],
 "metadata": {
  "kernelspec": {
   "display_name": "Python 3",
   "language": "python",
   "name": "python3"
  },
  "language_info": {
   "codemirror_mode": {
    "name": "ipython",
    "version": 3
   },
   "file_extension": ".py",
   "mimetype": "text/x-python",
   "name": "python",
   "nbconvert_exporter": "python",
   "pygments_lexer": "ipython3",
   "version": "3.7.10"
  },
  "papermill": {
   "default_parameters": {},
   "duration": 268.889662,
   "end_time": "2021-09-29T04:26:50.184137",
   "environment_variables": {},
   "exception": null,
   "input_path": "__notebook__.ipynb",
   "output_path": "__notebook__.ipynb",
   "parameters": {},
   "start_time": "2021-09-29T04:22:21.294475",
   "version": "2.3.3"
  }
 },
 "nbformat": 4,
 "nbformat_minor": 5
}
