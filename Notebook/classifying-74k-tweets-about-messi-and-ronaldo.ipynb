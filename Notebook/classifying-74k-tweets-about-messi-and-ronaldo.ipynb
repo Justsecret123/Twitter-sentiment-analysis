{
 "cells": [
  {
   "cell_type": "markdown",
   "id": "07b87181",
   "metadata": {
    "papermill": {
     "duration": 0.031943,
     "end_time": "2021-09-27T03:17:33.952807",
     "exception": false,
     "start_time": "2021-09-27T03:17:33.920864",
     "status": "completed"
    },
    "tags": []
   },
   "source": [
    "# Libraries"
   ]
  },
  {
   "cell_type": "code",
   "execution_count": 1,
   "id": "ea6839ed",
   "metadata": {
    "execution": {
     "iopub.execute_input": "2021-09-27T03:17:34.018229Z",
     "iopub.status.busy": "2021-09-27T03:17:34.016937Z",
     "iopub.status.idle": "2021-09-27T03:17:39.194123Z",
     "shell.execute_reply": "2021-09-27T03:17:39.193348Z",
     "shell.execute_reply.started": "2021-09-27T00:58:06.380813Z"
    },
    "papermill": {
     "duration": 5.210718,
     "end_time": "2021-09-27T03:17:39.194296",
     "exception": false,
     "start_time": "2021-09-27T03:17:33.983578",
     "status": "completed"
    },
    "tags": []
   },
   "outputs": [
    {
     "name": "stderr",
     "output_type": "stream",
     "text": [
      "2021-09-27 03:17:34.626555: W tensorflow/stream_executor/platform/default/dso_loader.cc:60] Could not load dynamic library 'libcudart.so.11.0'; dlerror: libcudart.so.11.0: cannot open shared object file: No such file or directory; LD_LIBRARY_PATH: /opt/conda/lib\n",
      "2021-09-27 03:17:34.626679: I tensorflow/stream_executor/cuda/cudart_stub.cc:29] Ignore above cudart dlerror if you do not have a GPU set up on your machine.\n"
     ]
    }
   ],
   "source": [
    "from tensorflow.keras.models import load_model\n",
    "import numpy as np \n",
    "import pandas as pd"
   ]
  },
  {
   "cell_type": "markdown",
   "id": "7d653915",
   "metadata": {
    "papermill": {
     "duration": 0.029766,
     "end_time": "2021-09-27T03:17:39.256121",
     "exception": false,
     "start_time": "2021-09-27T03:17:39.226355",
     "status": "completed"
    },
    "tags": []
   },
   "source": [
    "# Load the datasets"
   ]
  },
  {
   "cell_type": "markdown",
   "id": "e1dda6f2",
   "metadata": {
    "papermill": {
     "duration": 0.030285,
     "end_time": "2021-09-27T03:17:39.316522",
     "exception": false,
     "start_time": "2021-09-27T03:17:39.286237",
     "status": "completed"
    },
    "tags": []
   },
   "source": [
    "## Messi"
   ]
  },
  {
   "cell_type": "code",
   "execution_count": 2,
   "id": "a2a96d36",
   "metadata": {
    "execution": {
     "iopub.execute_input": "2021-09-27T03:17:39.383936Z",
     "iopub.status.busy": "2021-09-27T03:17:39.383197Z",
     "iopub.status.idle": "2021-09-27T03:17:39.601977Z",
     "shell.execute_reply": "2021-09-27T03:17:39.601428Z",
     "shell.execute_reply.started": "2021-09-27T00:58:13.153054Z"
    },
    "papermill": {
     "duration": 0.255655,
     "end_time": "2021-09-27T03:17:39.602123",
     "exception": false,
     "start_time": "2021-09-27T03:17:39.346468",
     "status": "completed"
    },
    "tags": []
   },
   "outputs": [
    {
     "data": {
      "text/html": [
       "<div>\n",
       "<style scoped>\n",
       "    .dataframe tbody tr th:only-of-type {\n",
       "        vertical-align: middle;\n",
       "    }\n",
       "\n",
       "    .dataframe tbody tr th {\n",
       "        vertical-align: top;\n",
       "    }\n",
       "\n",
       "    .dataframe thead th {\n",
       "        text-align: right;\n",
       "    }\n",
       "</style>\n",
       "<table border=\"1\" class=\"dataframe\">\n",
       "  <thead>\n",
       "    <tr style=\"text-align: right;\">\n",
       "      <th></th>\n",
       "      <th>tweet_id</th>\n",
       "      <th>author_id</th>\n",
       "      <th>content</th>\n",
       "      <th>lang</th>\n",
       "      <th>date</th>\n",
       "      <th>source</th>\n",
       "      <th>geo</th>\n",
       "      <th>retweet_count</th>\n",
       "      <th>like_count</th>\n",
       "      <th>quote_count</th>\n",
       "    </tr>\n",
       "  </thead>\n",
       "  <tbody>\n",
       "    <tr>\n",
       "      <th>0</th>\n",
       "      <td>1442143079373365248</td>\n",
       "      <td>1302375645666848768</td>\n",
       "      <td>who needs messi</td>\n",
       "      <td>en</td>\n",
       "      <td>2021-09-26T15:04:38.000Z</td>\n",
       "      <td>Twitter for iPhone</td>\n",
       "      <td>-1</td>\n",
       "      <td>0</td>\n",
       "      <td>0</td>\n",
       "      <td>0</td>\n",
       "    </tr>\n",
       "    <tr>\n",
       "      <th>1</th>\n",
       "      <td>1442143071995457542</td>\n",
       "      <td>116969561</td>\n",
       "      <td>forbes lionel messi ranked no 2 in this year ...</td>\n",
       "      <td>en</td>\n",
       "      <td>2021-09-26T15:04:36.000Z</td>\n",
       "      <td>Twitter for Android</td>\n",
       "      <td>-1</td>\n",
       "      <td>11</td>\n",
       "      <td>0</td>\n",
       "      <td>0</td>\n",
       "    </tr>\n",
       "    <tr>\n",
       "      <th>2</th>\n",
       "      <td>1442143058594652160</td>\n",
       "      <td>1296470104486612997</td>\n",
       "      <td>espnfc pele congratulates messi for breaking ...</td>\n",
       "      <td>en</td>\n",
       "      <td>2021-09-26T15:04:33.000Z</td>\n",
       "      <td>Twitter Web App</td>\n",
       "      <td>-1</td>\n",
       "      <td>637</td>\n",
       "      <td>0</td>\n",
       "      <td>0</td>\n",
       "    </tr>\n",
       "    <tr>\n",
       "      <th>3</th>\n",
       "      <td>1442143054836678656</td>\n",
       "      <td>4083107893</td>\n",
       "      <td>crewsmat10 psg have lost 0 zero games since t...</td>\n",
       "      <td>en</td>\n",
       "      <td>2021-09-26T15:04:32.000Z</td>\n",
       "      <td>Twitter for Android</td>\n",
       "      <td>-1</td>\n",
       "      <td>510</td>\n",
       "      <td>0</td>\n",
       "      <td>0</td>\n",
       "    </tr>\n",
       "    <tr>\n",
       "      <th>4</th>\n",
       "      <td>1442143052265664514</td>\n",
       "      <td>1248782697029406720</td>\n",
       "      <td>espnfc pele congratulates messi for breaking ...</td>\n",
       "      <td>en</td>\n",
       "      <td>2021-09-26T15:04:32.000Z</td>\n",
       "      <td>Twitter for Android</td>\n",
       "      <td>-1</td>\n",
       "      <td>637</td>\n",
       "      <td>0</td>\n",
       "      <td>0</td>\n",
       "    </tr>\n",
       "  </tbody>\n",
       "</table>\n",
       "</div>"
      ],
      "text/plain": [
       "              tweet_id            author_id  \\\n",
       "0  1442143079373365248  1302375645666848768   \n",
       "1  1442143071995457542            116969561   \n",
       "2  1442143058594652160  1296470104486612997   \n",
       "3  1442143054836678656           4083107893   \n",
       "4  1442143052265664514  1248782697029406720   \n",
       "\n",
       "                                             content lang  \\\n",
       "0                                    who needs messi   en   \n",
       "1   forbes lionel messi ranked no 2 in this year ...   en   \n",
       "2   espnfc pele congratulates messi for breaking ...   en   \n",
       "3   crewsmat10 psg have lost 0 zero games since t...   en   \n",
       "4   espnfc pele congratulates messi for breaking ...   en   \n",
       "\n",
       "                       date               source geo  retweet_count  \\\n",
       "0  2021-09-26T15:04:38.000Z   Twitter for iPhone  -1              0   \n",
       "1  2021-09-26T15:04:36.000Z  Twitter for Android  -1             11   \n",
       "2  2021-09-26T15:04:33.000Z      Twitter Web App  -1            637   \n",
       "3  2021-09-26T15:04:32.000Z  Twitter for Android  -1            510   \n",
       "4  2021-09-26T15:04:32.000Z  Twitter for Android  -1            637   \n",
       "\n",
       "   like_count  quote_count  \n",
       "0           0            0  \n",
       "1           0            0  \n",
       "2           0            0  \n",
       "3           0            0  \n",
       "4           0            0  "
      ]
     },
     "execution_count": 2,
     "metadata": {},
     "output_type": "execute_result"
    }
   ],
   "source": [
    "dataset_messi = pd.read_csv(\"../input/twitter-sentiment-analysis-and-word-embeddings/Cleaned_messi_tweets.csv\", encoding=\"latin\")\n",
    "dataset_messi.head(5)"
   ]
  },
  {
   "cell_type": "markdown",
   "id": "d67a72ad",
   "metadata": {
    "papermill": {
     "duration": 0.030149,
     "end_time": "2021-09-27T03:17:39.663077",
     "exception": false,
     "start_time": "2021-09-27T03:17:39.632928",
     "status": "completed"
    },
    "tags": []
   },
   "source": [
    "### Check for duplicate tweets"
   ]
  },
  {
   "cell_type": "code",
   "execution_count": 3,
   "id": "8422ce4b",
   "metadata": {
    "execution": {
     "iopub.execute_input": "2021-09-27T03:17:39.732672Z",
     "iopub.status.busy": "2021-09-27T03:17:39.731993Z",
     "iopub.status.idle": "2021-09-27T03:17:39.735635Z",
     "shell.execute_reply": "2021-09-27T03:17:39.735034Z",
     "shell.execute_reply.started": "2021-09-27T02:26:15.616789Z"
    },
    "papermill": {
     "duration": 0.042091,
     "end_time": "2021-09-27T03:17:39.735813",
     "exception": false,
     "start_time": "2021-09-27T03:17:39.693722",
     "status": "completed"
    },
    "tags": []
   },
   "outputs": [],
   "source": [
    "assert len(np.unique(dataset_messi[\"tweet_id\"])) == len(dataset_messi.index), \"Duplicate IDs !\""
   ]
  },
  {
   "cell_type": "markdown",
   "id": "32a479db",
   "metadata": {
    "papermill": {
     "duration": 0.03056,
     "end_time": "2021-09-27T03:17:39.797524",
     "exception": false,
     "start_time": "2021-09-27T03:17:39.766964",
     "status": "completed"
    },
    "tags": []
   },
   "source": [
    "> Test passed"
   ]
  },
  {
   "cell_type": "markdown",
   "id": "6f178d08",
   "metadata": {
    "papermill": {
     "duration": 0.030368,
     "end_time": "2021-09-27T03:17:39.859279",
     "exception": false,
     "start_time": "2021-09-27T03:17:39.828911",
     "status": "completed"
    },
    "tags": []
   },
   "source": [
    "## Ronaldo"
   ]
  },
  {
   "cell_type": "code",
   "execution_count": 4,
   "id": "eb7af43a",
   "metadata": {
    "execution": {
     "iopub.execute_input": "2021-09-27T03:17:39.925579Z",
     "iopub.status.busy": "2021-09-27T03:17:39.924935Z",
     "iopub.status.idle": "2021-09-27T03:17:40.141055Z",
     "shell.execute_reply": "2021-09-27T03:17:40.140394Z",
     "shell.execute_reply.started": "2021-09-27T00:58:13.397606Z"
    },
    "papermill": {
     "duration": 0.251351,
     "end_time": "2021-09-27T03:17:40.141192",
     "exception": false,
     "start_time": "2021-09-27T03:17:39.889841",
     "status": "completed"
    },
    "tags": []
   },
   "outputs": [
    {
     "data": {
      "text/html": [
       "<div>\n",
       "<style scoped>\n",
       "    .dataframe tbody tr th:only-of-type {\n",
       "        vertical-align: middle;\n",
       "    }\n",
       "\n",
       "    .dataframe tbody tr th {\n",
       "        vertical-align: top;\n",
       "    }\n",
       "\n",
       "    .dataframe thead th {\n",
       "        text-align: right;\n",
       "    }\n",
       "</style>\n",
       "<table border=\"1\" class=\"dataframe\">\n",
       "  <thead>\n",
       "    <tr style=\"text-align: right;\">\n",
       "      <th></th>\n",
       "      <th>tweet_id</th>\n",
       "      <th>author_id</th>\n",
       "      <th>content</th>\n",
       "      <th>lang</th>\n",
       "      <th>date</th>\n",
       "      <th>source</th>\n",
       "      <th>geo</th>\n",
       "      <th>retweet_count</th>\n",
       "      <th>like_count</th>\n",
       "      <th>quote_count</th>\n",
       "    </tr>\n",
       "  </thead>\n",
       "  <tbody>\n",
       "    <tr>\n",
       "      <th>0</th>\n",
       "      <td>1442216040629514241</td>\n",
       "      <td>1395557892779122694</td>\n",
       "      <td>ronaldo was offside</td>\n",
       "      <td>en</td>\n",
       "      <td>2021-09-26T19:54:33.000Z</td>\n",
       "      <td>Twitter Web App</td>\n",
       "      <td>-1</td>\n",
       "      <td>0</td>\n",
       "      <td>1</td>\n",
       "      <td>0</td>\n",
       "    </tr>\n",
       "    <tr>\n",
       "      <th>1</th>\n",
       "      <td>1442216031792074755</td>\n",
       "      <td>1176842712420630530</td>\n",
       "      <td>football tweet the most effective trios over ...</td>\n",
       "      <td>en</td>\n",
       "      <td>2021-09-26T19:54:31.000Z</td>\n",
       "      <td>Twitter for Android</td>\n",
       "      <td>-1</td>\n",
       "      <td>18</td>\n",
       "      <td>0</td>\n",
       "      <td>0</td>\n",
       "    </tr>\n",
       "    <tr>\n",
       "      <th>2</th>\n",
       "      <td>1442216026456748036</td>\n",
       "      <td>2385664598</td>\n",
       "      <td>ronaldo jr the only footballer to score a goal...</td>\n",
       "      <td>en</td>\n",
       "      <td>2021-09-26T19:54:30.000Z</td>\n",
       "      <td>Twitter for iPhone</td>\n",
       "      <td>-1</td>\n",
       "      <td>0</td>\n",
       "      <td>0</td>\n",
       "      <td>0</td>\n",
       "    </tr>\n",
       "    <tr>\n",
       "      <th>3</th>\n",
       "      <td>1442216002197016578</td>\n",
       "      <td>1142495555790299138</td>\n",
       "      <td>edmundoris perfect weekend for barca fans and...</td>\n",
       "      <td>en</td>\n",
       "      <td>2021-09-26T19:54:24.000Z</td>\n",
       "      <td>Twitter for iPhone</td>\n",
       "      <td>-1</td>\n",
       "      <td>571</td>\n",
       "      <td>0</td>\n",
       "      <td>0</td>\n",
       "    </tr>\n",
       "    <tr>\n",
       "      <th>4</th>\n",
       "      <td>1442215992344596488</td>\n",
       "      <td>793153149066481664</td>\n",
       "      <td>efoetornam no way ansu fati has more goals ou...</td>\n",
       "      <td>en</td>\n",
       "      <td>2021-09-26T19:54:22.000Z</td>\n",
       "      <td>Twitter for iPhone</td>\n",
       "      <td>-1</td>\n",
       "      <td>106</td>\n",
       "      <td>0</td>\n",
       "      <td>0</td>\n",
       "    </tr>\n",
       "  </tbody>\n",
       "</table>\n",
       "</div>"
      ],
      "text/plain": [
       "              tweet_id            author_id  \\\n",
       "0  1442216040629514241  1395557892779122694   \n",
       "1  1442216031792074755  1176842712420630530   \n",
       "2  1442216026456748036           2385664598   \n",
       "3  1442216002197016578  1142495555790299138   \n",
       "4  1442215992344596488   793153149066481664   \n",
       "\n",
       "                                             content lang  \\\n",
       "0                                ronaldo was offside   en   \n",
       "1   football tweet the most effective trios over ...   en   \n",
       "2  ronaldo jr the only footballer to score a goal...   en   \n",
       "3   edmundoris perfect weekend for barca fans and...   en   \n",
       "4   efoetornam no way ansu fati has more goals ou...   en   \n",
       "\n",
       "                       date               source geo  retweet_count  \\\n",
       "0  2021-09-26T19:54:33.000Z      Twitter Web App  -1              0   \n",
       "1  2021-09-26T19:54:31.000Z  Twitter for Android  -1             18   \n",
       "2  2021-09-26T19:54:30.000Z   Twitter for iPhone  -1              0   \n",
       "3  2021-09-26T19:54:24.000Z   Twitter for iPhone  -1            571   \n",
       "4  2021-09-26T19:54:22.000Z   Twitter for iPhone  -1            106   \n",
       "\n",
       "   like_count  quote_count  \n",
       "0           1            0  \n",
       "1           0            0  \n",
       "2           0            0  \n",
       "3           0            0  \n",
       "4           0            0  "
      ]
     },
     "execution_count": 4,
     "metadata": {},
     "output_type": "execute_result"
    }
   ],
   "source": [
    "dataset_ronaldo = pd.read_csv(\"../input/twitter-sentiment-analysis-and-word-embeddings/Cleaned_ronaldo_tweets.csv\", encoding=\"latin\")\n",
    "dataset_ronaldo.head(5)"
   ]
  },
  {
   "cell_type": "markdown",
   "id": "fd6f73e4",
   "metadata": {
    "papermill": {
     "duration": 0.030946,
     "end_time": "2021-09-27T03:17:40.204118",
     "exception": false,
     "start_time": "2021-09-27T03:17:40.173172",
     "status": "completed"
    },
    "tags": []
   },
   "source": [
    "### Check for duplicate tweets"
   ]
  },
  {
   "cell_type": "code",
   "execution_count": 5,
   "id": "42fe4eb7",
   "metadata": {
    "execution": {
     "iopub.execute_input": "2021-09-27T03:17:40.270116Z",
     "iopub.status.busy": "2021-09-27T03:17:40.269479Z",
     "iopub.status.idle": "2021-09-27T03:17:40.274221Z",
     "shell.execute_reply": "2021-09-27T03:17:40.274795Z",
     "shell.execute_reply.started": "2021-09-27T02:27:54.444027Z"
    },
    "papermill": {
     "duration": 0.039548,
     "end_time": "2021-09-27T03:17:40.274979",
     "exception": false,
     "start_time": "2021-09-27T03:17:40.235431",
     "status": "completed"
    },
    "tags": []
   },
   "outputs": [],
   "source": [
    "assert len(np.unique(dataset_ronaldo[\"tweet_id\"])) == len(dataset_ronaldo.index), \"Duplicate IDs!\""
   ]
  },
  {
   "cell_type": "markdown",
   "id": "f0a1bbf1",
   "metadata": {
    "papermill": {
     "duration": 0.031037,
     "end_time": "2021-09-27T03:17:40.337119",
     "exception": false,
     "start_time": "2021-09-27T03:17:40.306082",
     "status": "completed"
    },
    "tags": []
   },
   "source": [
    "> Test passed"
   ]
  },
  {
   "cell_type": "markdown",
   "id": "323ca710",
   "metadata": {
    "papermill": {
     "duration": 0.030748,
     "end_time": "2021-09-27T03:17:40.399205",
     "exception": false,
     "start_time": "2021-09-27T03:17:40.368457",
     "status": "completed"
    },
    "tags": []
   },
   "source": [
    "# Load the model"
   ]
  },
  {
   "cell_type": "code",
   "execution_count": 6,
   "id": "108efc84",
   "metadata": {
    "execution": {
     "iopub.execute_input": "2021-09-27T03:17:40.465057Z",
     "iopub.status.busy": "2021-09-27T03:17:40.464395Z",
     "iopub.status.idle": "2021-09-27T03:18:08.927513Z",
     "shell.execute_reply": "2021-09-27T03:18:08.928070Z",
     "shell.execute_reply.started": "2021-09-27T00:58:16.427367Z"
    },
    "papermill": {
     "duration": 28.497845,
     "end_time": "2021-09-27T03:18:08.928260",
     "exception": false,
     "start_time": "2021-09-27T03:17:40.430415",
     "status": "completed"
    },
    "tags": []
   },
   "outputs": [
    {
     "name": "stderr",
     "output_type": "stream",
     "text": [
      "2021-09-27 03:17:41.652876: I tensorflow/compiler/jit/xla_cpu_device.cc:41] Not creating XLA devices, tf_xla_enable_xla_devices not set\n",
      "2021-09-27 03:17:41.656396: W tensorflow/stream_executor/platform/default/dso_loader.cc:60] Could not load dynamic library 'libcuda.so.1'; dlerror: libcuda.so.1: cannot open shared object file: No such file or directory; LD_LIBRARY_PATH: /opt/conda/lib\n",
      "2021-09-27 03:17:41.656433: W tensorflow/stream_executor/cuda/cuda_driver.cc:326] failed call to cuInit: UNKNOWN ERROR (303)\n",
      "2021-09-27 03:17:41.656460: I tensorflow/stream_executor/cuda/cuda_diagnostics.cc:156] kernel driver does not appear to be running on this host (97bf1c0b187b): /proc/driver/nvidia/version does not exist\n",
      "2021-09-27 03:17:41.657557: I tensorflow/core/platform/cpu_feature_guard.cc:142] This TensorFlow binary is optimized with oneAPI Deep Neural Network Library (oneDNN) to use the following CPU instructions in performance-critical operations:  AVX2 FMA\n",
      "To enable them in other operations, rebuild TensorFlow with the appropriate compiler flags.\n",
      "2021-09-27 03:17:41.657978: I tensorflow/compiler/jit/xla_gpu_device.cc:99] Not creating XLA devices, tf_xla_enable_xla_devices not set\n",
      "2021-09-27 03:18:05.341260: I tensorflow/compiler/mlir/mlir_graph_optimization_pass.cc:116] None of the MLIR optimization passes are enabled (registered 2)\n",
      "2021-09-27 03:18:05.351203: I tensorflow/core/platform/profile_utils/cpu_utils.cc:112] CPU Frequency: 2199995000 Hz\n"
     ]
    },
    {
     "name": "stdout",
     "output_type": "stream",
     "text": [
      "Model: \"sequential_1\"\n",
      "_________________________________________________________________\n",
      "Layer (type)                 Output Shape              Param #   \n",
      "=================================================================\n",
      "text_vectorization (TextVect (None, 53)                0         \n",
      "_________________________________________________________________\n",
      "sequential (Sequential)      (None, 1)                 32398789  \n",
      "_________________________________________________________________\n",
      "activation (Activation)      (None, 1)                 0         \n",
      "=================================================================\n",
      "Total params: 32,398,789\n",
      "Trainable params: 32,398,789\n",
      "Non-trainable params: 0\n",
      "_________________________________________________________________\n"
     ]
    }
   ],
   "source": [
    "model = load_model(\"../input/twitter-sentiment-analysis-and-word-embeddings/TSA_model_v3\")\n",
    "model.summary()"
   ]
  },
  {
   "cell_type": "markdown",
   "id": "012f9e40",
   "metadata": {
    "papermill": {
     "duration": 0.031973,
     "end_time": "2021-09-27T03:18:08.993297",
     "exception": false,
     "start_time": "2021-09-27T03:18:08.961324",
     "status": "completed"
    },
    "tags": []
   },
   "source": [
    "# Set the thresholds : Refer to [This link](https://github.com/Justsecret123/Twitter-sentiment-analysis/blob/main/Notebook/twitter-sentiment-analysis.ipynb)"
   ]
  },
  {
   "cell_type": "markdown",
   "id": "4bf55b99",
   "metadata": {
    "papermill": {
     "duration": 0.031735,
     "end_time": "2021-09-27T03:18:09.057190",
     "exception": false,
     "start_time": "2021-09-27T03:18:09.025455",
     "status": "completed"
    },
    "tags": []
   },
   "source": [
    "## Positive (> threshold = positive)"
   ]
  },
  {
   "cell_type": "code",
   "execution_count": 7,
   "id": "7333351b",
   "metadata": {
    "execution": {
     "iopub.execute_input": "2021-09-27T03:18:09.127735Z",
     "iopub.status.busy": "2021-09-27T03:18:09.127008Z",
     "iopub.status.idle": "2021-09-27T03:18:09.130042Z",
     "shell.execute_reply": "2021-09-27T03:18:09.129512Z",
     "shell.execute_reply.started": "2021-09-27T02:34:33.510416Z"
    },
    "papermill": {
     "duration": 0.039747,
     "end_time": "2021-09-27T03:18:09.130178",
     "exception": false,
     "start_time": "2021-09-27T03:18:09.090431",
     "status": "completed"
    },
    "tags": []
   },
   "outputs": [],
   "source": [
    "positive_threshold = 0.64"
   ]
  },
  {
   "cell_type": "markdown",
   "id": "f3c35df5",
   "metadata": {
    "papermill": {
     "duration": 0.031805,
     "end_time": "2021-09-27T03:18:09.194622",
     "exception": false,
     "start_time": "2021-09-27T03:18:09.162817",
     "status": "completed"
    },
    "tags": []
   },
   "source": [
    "### Negative (< threshold = negative)"
   ]
  },
  {
   "cell_type": "code",
   "execution_count": 8,
   "id": "d1e23a01",
   "metadata": {
    "execution": {
     "iopub.execute_input": "2021-09-27T03:18:09.263367Z",
     "iopub.status.busy": "2021-09-27T03:18:09.262486Z",
     "iopub.status.idle": "2021-09-27T03:18:09.265468Z",
     "shell.execute_reply": "2021-09-27T03:18:09.264946Z",
     "shell.execute_reply.started": "2021-09-27T02:34:31.900669Z"
    },
    "papermill": {
     "duration": 0.038981,
     "end_time": "2021-09-27T03:18:09.265624",
     "exception": false,
     "start_time": "2021-09-27T03:18:09.226643",
     "status": "completed"
    },
    "tags": []
   },
   "outputs": [],
   "source": [
    "negative_threshold = 0.60"
   ]
  },
  {
   "cell_type": "markdown",
   "id": "b13b9e2a",
   "metadata": {
    "papermill": {
     "duration": 0.032326,
     "end_time": "2021-09-27T03:18:09.330314",
     "exception": false,
     "start_time": "2021-09-27T03:18:09.297988",
     "status": "completed"
    },
    "tags": []
   },
   "source": [
    "> The values inbetween will be labeled as \"neutral\""
   ]
  },
  {
   "cell_type": "markdown",
   "id": "76d0ba6a",
   "metadata": {
    "papermill": {
     "duration": 0.031875,
     "end_time": "2021-09-27T03:18:09.394589",
     "exception": false,
     "start_time": "2021-09-27T03:18:09.362714",
     "status": "completed"
    },
    "tags": []
   },
   "source": [
    "# Run inferences"
   ]
  },
  {
   "cell_type": "markdown",
   "id": "4551478e",
   "metadata": {
    "papermill": {
     "duration": 0.031871,
     "end_time": "2021-09-27T03:18:09.458794",
     "exception": false,
     "start_time": "2021-09-27T03:18:09.426923",
     "status": "completed"
    },
    "tags": []
   },
   "source": [
    "## Messi dataset"
   ]
  },
  {
   "cell_type": "code",
   "execution_count": 9,
   "id": "cfc2ce78",
   "metadata": {
    "execution": {
     "iopub.execute_input": "2021-09-27T03:18:09.531408Z",
     "iopub.status.busy": "2021-09-27T03:18:09.530470Z",
     "iopub.status.idle": "2021-09-27T03:18:09.534642Z",
     "shell.execute_reply": "2021-09-27T03:18:09.534148Z",
     "shell.execute_reply.started": "2021-09-27T01:44:13.184967Z"
    },
    "papermill": {
     "duration": 0.04333,
     "end_time": "2021-09-27T03:18:09.534781",
     "exception": false,
     "start_time": "2021-09-27T03:18:09.491451",
     "status": "completed"
    },
    "tags": []
   },
   "outputs": [
    {
     "data": {
      "text/plain": [
       "0                                      who needs messi\n",
       "1     forbes lionel messi ranked no 2 in this year ...\n",
       "2     espnfc pele congratulates messi for breaking ...\n",
       "3     crewsmat10 psg have lost 0 zero games since t...\n",
       "4     espnfc pele congratulates messi for breaking ...\n",
       "5     cristiano peak1 i can t keep lying to myself ...\n",
       "6                                    messi could never\n",
       "7     addicted to leo joachim low picks between lio...\n",
       "8     wizarab10 the joy of watching quaresma the au...\n",
       "9     espnfc pele congratulates messi for breaking ...\n",
       "Name: content, dtype: object"
      ]
     },
     "execution_count": 9,
     "metadata": {},
     "output_type": "execute_result"
    }
   ],
   "source": [
    "X_messi = dataset_messi[\"content\"]\n",
    "X_messi.head(10)"
   ]
  },
  {
   "cell_type": "code",
   "execution_count": 10,
   "id": "3286fa69",
   "metadata": {
    "execution": {
     "iopub.execute_input": "2021-09-27T03:18:09.604613Z",
     "iopub.status.busy": "2021-09-27T03:18:09.603935Z",
     "iopub.status.idle": "2021-09-27T03:19:53.946418Z",
     "shell.execute_reply": "2021-09-27T03:19:53.947098Z",
     "shell.execute_reply.started": "2021-09-27T01:48:13.013233Z"
    },
    "papermill": {
     "duration": 104.379989,
     "end_time": "2021-09-27T03:19:53.947326",
     "exception": false,
     "start_time": "2021-09-27T03:18:09.567337",
     "status": "completed"
    },
    "tags": []
   },
   "outputs": [],
   "source": [
    "predictions_messi = model.predict(X_messi)"
   ]
  },
  {
   "cell_type": "markdown",
   "id": "30c20708",
   "metadata": {
    "papermill": {
     "duration": 0.034077,
     "end_time": "2021-09-27T03:19:54.016183",
     "exception": false,
     "start_time": "2021-09-27T03:19:53.982106",
     "status": "completed"
    },
    "tags": []
   },
   "source": [
    "### Some results"
   ]
  },
  {
   "cell_type": "code",
   "execution_count": 11,
   "id": "dfbf89fb",
   "metadata": {
    "execution": {
     "iopub.execute_input": "2021-09-27T03:19:54.088207Z",
     "iopub.status.busy": "2021-09-27T03:19:54.087530Z",
     "iopub.status.idle": "2021-09-27T03:19:54.094330Z",
     "shell.execute_reply": "2021-09-27T03:19:54.093824Z",
     "shell.execute_reply.started": "2021-09-27T01:50:29.517899Z"
    },
    "papermill": {
     "duration": 0.043884,
     "end_time": "2021-09-27T03:19:54.094470",
     "exception": false,
     "start_time": "2021-09-27T03:19:54.050586",
     "status": "completed"
    },
    "tags": []
   },
   "outputs": [
    {
     "data": {
      "text/plain": [
       "array([[0.7018067 ],\n",
       "       [0.70083314],\n",
       "       [0.7211006 ],\n",
       "       [0.5130738 ],\n",
       "       [0.7211006 ],\n",
       "       [0.66584957],\n",
       "       [0.6779947 ],\n",
       "       [0.65424395],\n",
       "       [0.66204655],\n",
       "       [0.7211006 ]], dtype=float32)"
      ]
     },
     "execution_count": 11,
     "metadata": {},
     "output_type": "execute_result"
    }
   ],
   "source": [
    "predictions_messi[0:10]"
   ]
  },
  {
   "cell_type": "markdown",
   "id": "92cf0713",
   "metadata": {
    "papermill": {
     "duration": 0.033831,
     "end_time": "2021-09-27T03:19:54.162956",
     "exception": false,
     "start_time": "2021-09-27T03:19:54.129125",
     "status": "completed"
    },
    "tags": []
   },
   "source": [
    "## Ronaldo dataset"
   ]
  },
  {
   "cell_type": "code",
   "execution_count": 12,
   "id": "87ff5be6",
   "metadata": {
    "execution": {
     "iopub.execute_input": "2021-09-27T03:19:54.238674Z",
     "iopub.status.busy": "2021-09-27T03:19:54.237956Z",
     "iopub.status.idle": "2021-09-27T03:19:54.240741Z",
     "shell.execute_reply": "2021-09-27T03:19:54.241249Z",
     "shell.execute_reply.started": "2021-09-27T03:17:05.613924Z"
    },
    "papermill": {
     "duration": 0.0444,
     "end_time": "2021-09-27T03:19:54.241412",
     "exception": false,
     "start_time": "2021-09-27T03:19:54.197012",
     "status": "completed"
    },
    "tags": []
   },
   "outputs": [
    {
     "data": {
      "text/plain": [
       "0                                  ronaldo was offside\n",
       "1     football tweet the most effective trios over ...\n",
       "2    ronaldo jr the only footballer to score a goal...\n",
       "3     edmundoris perfect weekend for barca fans and...\n",
       "4     efoetornam no way ansu fati has more goals ou...\n",
       "Name: content, dtype: object"
      ]
     },
     "execution_count": 12,
     "metadata": {},
     "output_type": "execute_result"
    }
   ],
   "source": [
    "X_ronaldo = dataset_ronaldo[\"content\"]\n",
    "X_ronaldo.head(5)"
   ]
  },
  {
   "cell_type": "code",
   "execution_count": 13,
   "id": "d6e5326f",
   "metadata": {
    "execution": {
     "iopub.execute_input": "2021-09-27T03:19:54.311934Z",
     "iopub.status.busy": "2021-09-27T03:19:54.311277Z",
     "iopub.status.idle": "2021-09-27T03:21:35.941307Z",
     "shell.execute_reply": "2021-09-27T03:21:35.940697Z",
     "shell.execute_reply.started": "2021-09-27T01:58:28.399108Z"
    },
    "papermill": {
     "duration": 101.666407,
     "end_time": "2021-09-27T03:21:35.941459",
     "exception": false,
     "start_time": "2021-09-27T03:19:54.275052",
     "status": "completed"
    },
    "tags": []
   },
   "outputs": [],
   "source": [
    "predictions_ronaldo = model.predict(X_ronaldo)"
   ]
  },
  {
   "cell_type": "markdown",
   "id": "bb33a35d",
   "metadata": {
    "papermill": {
     "duration": 0.032914,
     "end_time": "2021-09-27T03:21:36.008133",
     "exception": false,
     "start_time": "2021-09-27T03:21:35.975219",
     "status": "completed"
    },
    "tags": []
   },
   "source": [
    "### Some results"
   ]
  },
  {
   "cell_type": "code",
   "execution_count": 14,
   "id": "f2949188",
   "metadata": {
    "execution": {
     "iopub.execute_input": "2021-09-27T03:21:36.079898Z",
     "iopub.status.busy": "2021-09-27T03:21:36.078885Z",
     "iopub.status.idle": "2021-09-27T03:21:36.084964Z",
     "shell.execute_reply": "2021-09-27T03:21:36.085463Z",
     "shell.execute_reply.started": "2021-09-27T02:10:23.766285Z"
    },
    "papermill": {
     "duration": 0.044482,
     "end_time": "2021-09-27T03:21:36.085644",
     "exception": false,
     "start_time": "2021-09-27T03:21:36.041162",
     "status": "completed"
    },
    "tags": []
   },
   "outputs": [
    {
     "data": {
      "text/plain": [
       "array([[0.6192377 ],\n",
       "       [0.57604   ],\n",
       "       [0.7179266 ],\n",
       "       [0.58372605],\n",
       "       [0.710394  ],\n",
       "       [0.6981025 ],\n",
       "       [0.630884  ],\n",
       "       [0.705195  ],\n",
       "       [0.64066935],\n",
       "       [0.58361983]], dtype=float32)"
      ]
     },
     "execution_count": 14,
     "metadata": {},
     "output_type": "execute_result"
    }
   ],
   "source": [
    "predictions_ronaldo[0:10]"
   ]
  },
  {
   "cell_type": "markdown",
   "id": "daa2004f",
   "metadata": {
    "papermill": {
     "duration": 0.034071,
     "end_time": "2021-09-27T03:21:36.153239",
     "exception": false,
     "start_time": "2021-09-27T03:21:36.119168",
     "status": "completed"
    },
    "tags": []
   },
   "source": [
    "# Assign the predictions to the dataset"
   ]
  },
  {
   "cell_type": "markdown",
   "id": "aa7711b2",
   "metadata": {
    "papermill": {
     "duration": 0.033166,
     "end_time": "2021-09-27T03:21:36.219995",
     "exception": false,
     "start_time": "2021-09-27T03:21:36.186829",
     "status": "completed"
    },
    "tags": []
   },
   "source": [
    "## Messi"
   ]
  },
  {
   "cell_type": "code",
   "execution_count": 15,
   "id": "c0906638",
   "metadata": {
    "execution": {
     "iopub.execute_input": "2021-09-27T03:21:36.293479Z",
     "iopub.status.busy": "2021-09-27T03:21:36.290081Z",
     "iopub.status.idle": "2021-09-27T03:21:36.307907Z",
     "shell.execute_reply": "2021-09-27T03:21:36.308398Z",
     "shell.execute_reply.started": "2021-09-27T02:06:29.909384Z"
    },
    "papermill": {
     "duration": 0.05511,
     "end_time": "2021-09-27T03:21:36.308590",
     "exception": false,
     "start_time": "2021-09-27T03:21:36.253480",
     "status": "completed"
    },
    "tags": []
   },
   "outputs": [
    {
     "data": {
      "text/html": [
       "<div>\n",
       "<style scoped>\n",
       "    .dataframe tbody tr th:only-of-type {\n",
       "        vertical-align: middle;\n",
       "    }\n",
       "\n",
       "    .dataframe tbody tr th {\n",
       "        vertical-align: top;\n",
       "    }\n",
       "\n",
       "    .dataframe thead th {\n",
       "        text-align: right;\n",
       "    }\n",
       "</style>\n",
       "<table border=\"1\" class=\"dataframe\">\n",
       "  <thead>\n",
       "    <tr style=\"text-align: right;\">\n",
       "      <th></th>\n",
       "      <th>tweet_id</th>\n",
       "      <th>author_id</th>\n",
       "      <th>content</th>\n",
       "      <th>lang</th>\n",
       "      <th>date</th>\n",
       "      <th>source</th>\n",
       "      <th>geo</th>\n",
       "      <th>retweet_count</th>\n",
       "      <th>like_count</th>\n",
       "      <th>quote_count</th>\n",
       "      <th>prediction</th>\n",
       "    </tr>\n",
       "  </thead>\n",
       "  <tbody>\n",
       "    <tr>\n",
       "      <th>0</th>\n",
       "      <td>1442143079373365248</td>\n",
       "      <td>1302375645666848768</td>\n",
       "      <td>who needs messi</td>\n",
       "      <td>en</td>\n",
       "      <td>2021-09-26T15:04:38.000Z</td>\n",
       "      <td>Twitter for iPhone</td>\n",
       "      <td>-1</td>\n",
       "      <td>0</td>\n",
       "      <td>0</td>\n",
       "      <td>0</td>\n",
       "      <td>0.701807</td>\n",
       "    </tr>\n",
       "    <tr>\n",
       "      <th>1</th>\n",
       "      <td>1442143071995457542</td>\n",
       "      <td>116969561</td>\n",
       "      <td>forbes lionel messi ranked no 2 in this year ...</td>\n",
       "      <td>en</td>\n",
       "      <td>2021-09-26T15:04:36.000Z</td>\n",
       "      <td>Twitter for Android</td>\n",
       "      <td>-1</td>\n",
       "      <td>11</td>\n",
       "      <td>0</td>\n",
       "      <td>0</td>\n",
       "      <td>0.700833</td>\n",
       "    </tr>\n",
       "    <tr>\n",
       "      <th>2</th>\n",
       "      <td>1442143058594652160</td>\n",
       "      <td>1296470104486612997</td>\n",
       "      <td>espnfc pele congratulates messi for breaking ...</td>\n",
       "      <td>en</td>\n",
       "      <td>2021-09-26T15:04:33.000Z</td>\n",
       "      <td>Twitter Web App</td>\n",
       "      <td>-1</td>\n",
       "      <td>637</td>\n",
       "      <td>0</td>\n",
       "      <td>0</td>\n",
       "      <td>0.721101</td>\n",
       "    </tr>\n",
       "    <tr>\n",
       "      <th>3</th>\n",
       "      <td>1442143054836678656</td>\n",
       "      <td>4083107893</td>\n",
       "      <td>crewsmat10 psg have lost 0 zero games since t...</td>\n",
       "      <td>en</td>\n",
       "      <td>2021-09-26T15:04:32.000Z</td>\n",
       "      <td>Twitter for Android</td>\n",
       "      <td>-1</td>\n",
       "      <td>510</td>\n",
       "      <td>0</td>\n",
       "      <td>0</td>\n",
       "      <td>0.513074</td>\n",
       "    </tr>\n",
       "    <tr>\n",
       "      <th>4</th>\n",
       "      <td>1442143052265664514</td>\n",
       "      <td>1248782697029406720</td>\n",
       "      <td>espnfc pele congratulates messi for breaking ...</td>\n",
       "      <td>en</td>\n",
       "      <td>2021-09-26T15:04:32.000Z</td>\n",
       "      <td>Twitter for Android</td>\n",
       "      <td>-1</td>\n",
       "      <td>637</td>\n",
       "      <td>0</td>\n",
       "      <td>0</td>\n",
       "      <td>0.721101</td>\n",
       "    </tr>\n",
       "  </tbody>\n",
       "</table>\n",
       "</div>"
      ],
      "text/plain": [
       "              tweet_id            author_id  \\\n",
       "0  1442143079373365248  1302375645666848768   \n",
       "1  1442143071995457542            116969561   \n",
       "2  1442143058594652160  1296470104486612997   \n",
       "3  1442143054836678656           4083107893   \n",
       "4  1442143052265664514  1248782697029406720   \n",
       "\n",
       "                                             content lang  \\\n",
       "0                                    who needs messi   en   \n",
       "1   forbes lionel messi ranked no 2 in this year ...   en   \n",
       "2   espnfc pele congratulates messi for breaking ...   en   \n",
       "3   crewsmat10 psg have lost 0 zero games since t...   en   \n",
       "4   espnfc pele congratulates messi for breaking ...   en   \n",
       "\n",
       "                       date               source geo  retweet_count  \\\n",
       "0  2021-09-26T15:04:38.000Z   Twitter for iPhone  -1              0   \n",
       "1  2021-09-26T15:04:36.000Z  Twitter for Android  -1             11   \n",
       "2  2021-09-26T15:04:33.000Z      Twitter Web App  -1            637   \n",
       "3  2021-09-26T15:04:32.000Z  Twitter for Android  -1            510   \n",
       "4  2021-09-26T15:04:32.000Z  Twitter for Android  -1            637   \n",
       "\n",
       "   like_count  quote_count  prediction  \n",
       "0           0            0    0.701807  \n",
       "1           0            0    0.700833  \n",
       "2           0            0    0.721101  \n",
       "3           0            0    0.513074  \n",
       "4           0            0    0.721101  "
      ]
     },
     "execution_count": 15,
     "metadata": {},
     "output_type": "execute_result"
    }
   ],
   "source": [
    "dataset_messi[\"prediction\"] = predictions_messi\n",
    "dataset_messi.head(5)"
   ]
  },
  {
   "cell_type": "markdown",
   "id": "c73888f3",
   "metadata": {
    "papermill": {
     "duration": 0.033613,
     "end_time": "2021-09-27T03:21:36.376326",
     "exception": false,
     "start_time": "2021-09-27T03:21:36.342713",
     "status": "completed"
    },
    "tags": []
   },
   "source": [
    "## Ronaldo"
   ]
  },
  {
   "cell_type": "code",
   "execution_count": 16,
   "id": "2fb678c1",
   "metadata": {
    "execution": {
     "iopub.execute_input": "2021-09-27T03:21:36.462266Z",
     "iopub.status.busy": "2021-09-27T03:21:36.451696Z",
     "iopub.status.idle": "2021-09-27T03:21:36.465192Z",
     "shell.execute_reply": "2021-09-27T03:21:36.465762Z",
     "shell.execute_reply.started": "2021-09-27T02:06:33.746436Z"
    },
    "papermill": {
     "duration": 0.055485,
     "end_time": "2021-09-27T03:21:36.465936",
     "exception": false,
     "start_time": "2021-09-27T03:21:36.410451",
     "status": "completed"
    },
    "tags": []
   },
   "outputs": [
    {
     "data": {
      "text/html": [
       "<div>\n",
       "<style scoped>\n",
       "    .dataframe tbody tr th:only-of-type {\n",
       "        vertical-align: middle;\n",
       "    }\n",
       "\n",
       "    .dataframe tbody tr th {\n",
       "        vertical-align: top;\n",
       "    }\n",
       "\n",
       "    .dataframe thead th {\n",
       "        text-align: right;\n",
       "    }\n",
       "</style>\n",
       "<table border=\"1\" class=\"dataframe\">\n",
       "  <thead>\n",
       "    <tr style=\"text-align: right;\">\n",
       "      <th></th>\n",
       "      <th>tweet_id</th>\n",
       "      <th>author_id</th>\n",
       "      <th>content</th>\n",
       "      <th>lang</th>\n",
       "      <th>date</th>\n",
       "      <th>source</th>\n",
       "      <th>geo</th>\n",
       "      <th>retweet_count</th>\n",
       "      <th>like_count</th>\n",
       "      <th>quote_count</th>\n",
       "      <th>prediction</th>\n",
       "    </tr>\n",
       "  </thead>\n",
       "  <tbody>\n",
       "    <tr>\n",
       "      <th>0</th>\n",
       "      <td>1442216040629514241</td>\n",
       "      <td>1395557892779122694</td>\n",
       "      <td>ronaldo was offside</td>\n",
       "      <td>en</td>\n",
       "      <td>2021-09-26T19:54:33.000Z</td>\n",
       "      <td>Twitter Web App</td>\n",
       "      <td>-1</td>\n",
       "      <td>0</td>\n",
       "      <td>1</td>\n",
       "      <td>0</td>\n",
       "      <td>0.619238</td>\n",
       "    </tr>\n",
       "    <tr>\n",
       "      <th>1</th>\n",
       "      <td>1442216031792074755</td>\n",
       "      <td>1176842712420630530</td>\n",
       "      <td>football tweet the most effective trios over ...</td>\n",
       "      <td>en</td>\n",
       "      <td>2021-09-26T19:54:31.000Z</td>\n",
       "      <td>Twitter for Android</td>\n",
       "      <td>-1</td>\n",
       "      <td>18</td>\n",
       "      <td>0</td>\n",
       "      <td>0</td>\n",
       "      <td>0.576040</td>\n",
       "    </tr>\n",
       "    <tr>\n",
       "      <th>2</th>\n",
       "      <td>1442216026456748036</td>\n",
       "      <td>2385664598</td>\n",
       "      <td>ronaldo jr the only footballer to score a goal...</td>\n",
       "      <td>en</td>\n",
       "      <td>2021-09-26T19:54:30.000Z</td>\n",
       "      <td>Twitter for iPhone</td>\n",
       "      <td>-1</td>\n",
       "      <td>0</td>\n",
       "      <td>0</td>\n",
       "      <td>0</td>\n",
       "      <td>0.717927</td>\n",
       "    </tr>\n",
       "    <tr>\n",
       "      <th>3</th>\n",
       "      <td>1442216002197016578</td>\n",
       "      <td>1142495555790299138</td>\n",
       "      <td>edmundoris perfect weekend for barca fans and...</td>\n",
       "      <td>en</td>\n",
       "      <td>2021-09-26T19:54:24.000Z</td>\n",
       "      <td>Twitter for iPhone</td>\n",
       "      <td>-1</td>\n",
       "      <td>571</td>\n",
       "      <td>0</td>\n",
       "      <td>0</td>\n",
       "      <td>0.583726</td>\n",
       "    </tr>\n",
       "    <tr>\n",
       "      <th>4</th>\n",
       "      <td>1442215992344596488</td>\n",
       "      <td>793153149066481664</td>\n",
       "      <td>efoetornam no way ansu fati has more goals ou...</td>\n",
       "      <td>en</td>\n",
       "      <td>2021-09-26T19:54:22.000Z</td>\n",
       "      <td>Twitter for iPhone</td>\n",
       "      <td>-1</td>\n",
       "      <td>106</td>\n",
       "      <td>0</td>\n",
       "      <td>0</td>\n",
       "      <td>0.710394</td>\n",
       "    </tr>\n",
       "  </tbody>\n",
       "</table>\n",
       "</div>"
      ],
      "text/plain": [
       "              tweet_id            author_id  \\\n",
       "0  1442216040629514241  1395557892779122694   \n",
       "1  1442216031792074755  1176842712420630530   \n",
       "2  1442216026456748036           2385664598   \n",
       "3  1442216002197016578  1142495555790299138   \n",
       "4  1442215992344596488   793153149066481664   \n",
       "\n",
       "                                             content lang  \\\n",
       "0                                ronaldo was offside   en   \n",
       "1   football tweet the most effective trios over ...   en   \n",
       "2  ronaldo jr the only footballer to score a goal...   en   \n",
       "3   edmundoris perfect weekend for barca fans and...   en   \n",
       "4   efoetornam no way ansu fati has more goals ou...   en   \n",
       "\n",
       "                       date               source geo  retweet_count  \\\n",
       "0  2021-09-26T19:54:33.000Z      Twitter Web App  -1              0   \n",
       "1  2021-09-26T19:54:31.000Z  Twitter for Android  -1             18   \n",
       "2  2021-09-26T19:54:30.000Z   Twitter for iPhone  -1              0   \n",
       "3  2021-09-26T19:54:24.000Z   Twitter for iPhone  -1            571   \n",
       "4  2021-09-26T19:54:22.000Z   Twitter for iPhone  -1            106   \n",
       "\n",
       "   like_count  quote_count  prediction  \n",
       "0           1            0    0.619238  \n",
       "1           0            0    0.576040  \n",
       "2           0            0    0.717927  \n",
       "3           0            0    0.583726  \n",
       "4           0            0    0.710394  "
      ]
     },
     "execution_count": 16,
     "metadata": {},
     "output_type": "execute_result"
    }
   ],
   "source": [
    "dataset_ronaldo[\"prediction\"] = predictions_ronaldo\n",
    "dataset_ronaldo.head(5)"
   ]
  },
  {
   "cell_type": "markdown",
   "id": "98b24661",
   "metadata": {
    "papermill": {
     "duration": 0.03452,
     "end_time": "2021-09-27T03:21:36.535262",
     "exception": false,
     "start_time": "2021-09-27T03:21:36.500742",
     "status": "completed"
    },
    "tags": []
   },
   "source": [
    "# From predictions to labels"
   ]
  },
  {
   "cell_type": "markdown",
   "id": "57a89d7c",
   "metadata": {
    "papermill": {
     "duration": 0.034398,
     "end_time": "2021-09-27T03:21:36.604291",
     "exception": false,
     "start_time": "2021-09-27T03:21:36.569893",
     "status": "completed"
    },
    "tags": []
   },
   "source": [
    "## Define the processing function"
   ]
  },
  {
   "cell_type": "code",
   "execution_count": 17,
   "id": "49c25fa8",
   "metadata": {
    "execution": {
     "iopub.execute_input": "2021-09-27T03:21:36.678158Z",
     "iopub.status.busy": "2021-09-27T03:21:36.677202Z",
     "iopub.status.idle": "2021-09-27T03:21:36.681671Z",
     "shell.execute_reply": "2021-09-27T03:21:36.682135Z",
     "shell.execute_reply.started": "2021-09-27T02:43:49.958728Z"
    },
    "papermill": {
     "duration": 0.043198,
     "end_time": "2021-09-27T03:21:36.682299",
     "exception": false,
     "start_time": "2021-09-27T03:21:36.639101",
     "status": "completed"
    },
    "tags": []
   },
   "outputs": [],
   "source": [
    "def assign_label(x):\n",
    "    rounded_x = round(x,2)\n",
    "    label = \"\"\n",
    "    if rounded_x >= 0.64: \n",
    "        label = \"Positive\"\n",
    "    elif rounded_x >= 0.6: \n",
    "        label = \"Neutral\"\n",
    "    else:\n",
    "        label = \"Negative\"\n",
    "    return label"
   ]
  },
  {
   "cell_type": "markdown",
   "id": "cc777702",
   "metadata": {
    "papermill": {
     "duration": 0.03422,
     "end_time": "2021-09-27T03:21:36.750978",
     "exception": false,
     "start_time": "2021-09-27T03:21:36.716758",
     "status": "completed"
    },
    "tags": []
   },
   "source": [
    "## Application : Messi Dataset"
   ]
  },
  {
   "cell_type": "code",
   "execution_count": 18,
   "id": "ee9c2346",
   "metadata": {
    "execution": {
     "iopub.execute_input": "2021-09-27T03:21:36.826669Z",
     "iopub.status.busy": "2021-09-27T03:21:36.823826Z",
     "iopub.status.idle": "2021-09-27T03:21:36.886468Z",
     "shell.execute_reply": "2021-09-27T03:21:36.885851Z",
     "shell.execute_reply.started": "2021-09-27T02:56:07.279962Z"
    },
    "papermill": {
     "duration": 0.100901,
     "end_time": "2021-09-27T03:21:36.886622",
     "exception": false,
     "start_time": "2021-09-27T03:21:36.785721",
     "status": "completed"
    },
    "tags": []
   },
   "outputs": [
    {
     "data": {
      "text/html": [
       "<div>\n",
       "<style scoped>\n",
       "    .dataframe tbody tr th:only-of-type {\n",
       "        vertical-align: middle;\n",
       "    }\n",
       "\n",
       "    .dataframe tbody tr th {\n",
       "        vertical-align: top;\n",
       "    }\n",
       "\n",
       "    .dataframe thead th {\n",
       "        text-align: right;\n",
       "    }\n",
       "</style>\n",
       "<table border=\"1\" class=\"dataframe\">\n",
       "  <thead>\n",
       "    <tr style=\"text-align: right;\">\n",
       "      <th></th>\n",
       "      <th>tweet_id</th>\n",
       "      <th>author_id</th>\n",
       "      <th>content</th>\n",
       "      <th>lang</th>\n",
       "      <th>date</th>\n",
       "      <th>source</th>\n",
       "      <th>geo</th>\n",
       "      <th>retweet_count</th>\n",
       "      <th>like_count</th>\n",
       "      <th>quote_count</th>\n",
       "      <th>prediction</th>\n",
       "      <th>label</th>\n",
       "    </tr>\n",
       "  </thead>\n",
       "  <tbody>\n",
       "    <tr>\n",
       "      <th>0</th>\n",
       "      <td>1442143079373365248</td>\n",
       "      <td>1302375645666848768</td>\n",
       "      <td>who needs messi</td>\n",
       "      <td>en</td>\n",
       "      <td>2021-09-26T15:04:38.000Z</td>\n",
       "      <td>Twitter for iPhone</td>\n",
       "      <td>-1</td>\n",
       "      <td>0</td>\n",
       "      <td>0</td>\n",
       "      <td>0</td>\n",
       "      <td>0.701807</td>\n",
       "      <td>Positive</td>\n",
       "    </tr>\n",
       "    <tr>\n",
       "      <th>1</th>\n",
       "      <td>1442143071995457542</td>\n",
       "      <td>116969561</td>\n",
       "      <td>forbes lionel messi ranked no 2 in this year ...</td>\n",
       "      <td>en</td>\n",
       "      <td>2021-09-26T15:04:36.000Z</td>\n",
       "      <td>Twitter for Android</td>\n",
       "      <td>-1</td>\n",
       "      <td>11</td>\n",
       "      <td>0</td>\n",
       "      <td>0</td>\n",
       "      <td>0.700833</td>\n",
       "      <td>Positive</td>\n",
       "    </tr>\n",
       "    <tr>\n",
       "      <th>2</th>\n",
       "      <td>1442143058594652160</td>\n",
       "      <td>1296470104486612997</td>\n",
       "      <td>espnfc pele congratulates messi for breaking ...</td>\n",
       "      <td>en</td>\n",
       "      <td>2021-09-26T15:04:33.000Z</td>\n",
       "      <td>Twitter Web App</td>\n",
       "      <td>-1</td>\n",
       "      <td>637</td>\n",
       "      <td>0</td>\n",
       "      <td>0</td>\n",
       "      <td>0.721101</td>\n",
       "      <td>Positive</td>\n",
       "    </tr>\n",
       "    <tr>\n",
       "      <th>3</th>\n",
       "      <td>1442143054836678656</td>\n",
       "      <td>4083107893</td>\n",
       "      <td>crewsmat10 psg have lost 0 zero games since t...</td>\n",
       "      <td>en</td>\n",
       "      <td>2021-09-26T15:04:32.000Z</td>\n",
       "      <td>Twitter for Android</td>\n",
       "      <td>-1</td>\n",
       "      <td>510</td>\n",
       "      <td>0</td>\n",
       "      <td>0</td>\n",
       "      <td>0.513074</td>\n",
       "      <td>Negative</td>\n",
       "    </tr>\n",
       "    <tr>\n",
       "      <th>4</th>\n",
       "      <td>1442143052265664514</td>\n",
       "      <td>1248782697029406720</td>\n",
       "      <td>espnfc pele congratulates messi for breaking ...</td>\n",
       "      <td>en</td>\n",
       "      <td>2021-09-26T15:04:32.000Z</td>\n",
       "      <td>Twitter for Android</td>\n",
       "      <td>-1</td>\n",
       "      <td>637</td>\n",
       "      <td>0</td>\n",
       "      <td>0</td>\n",
       "      <td>0.721101</td>\n",
       "      <td>Positive</td>\n",
       "    </tr>\n",
       "  </tbody>\n",
       "</table>\n",
       "</div>"
      ],
      "text/plain": [
       "              tweet_id            author_id  \\\n",
       "0  1442143079373365248  1302375645666848768   \n",
       "1  1442143071995457542            116969561   \n",
       "2  1442143058594652160  1296470104486612997   \n",
       "3  1442143054836678656           4083107893   \n",
       "4  1442143052265664514  1248782697029406720   \n",
       "\n",
       "                                             content lang  \\\n",
       "0                                    who needs messi   en   \n",
       "1   forbes lionel messi ranked no 2 in this year ...   en   \n",
       "2   espnfc pele congratulates messi for breaking ...   en   \n",
       "3   crewsmat10 psg have lost 0 zero games since t...   en   \n",
       "4   espnfc pele congratulates messi for breaking ...   en   \n",
       "\n",
       "                       date               source geo  retweet_count  \\\n",
       "0  2021-09-26T15:04:38.000Z   Twitter for iPhone  -1              0   \n",
       "1  2021-09-26T15:04:36.000Z  Twitter for Android  -1             11   \n",
       "2  2021-09-26T15:04:33.000Z      Twitter Web App  -1            637   \n",
       "3  2021-09-26T15:04:32.000Z  Twitter for Android  -1            510   \n",
       "4  2021-09-26T15:04:32.000Z  Twitter for Android  -1            637   \n",
       "\n",
       "   like_count  quote_count  prediction     label  \n",
       "0           0            0    0.701807  Positive  \n",
       "1           0            0    0.700833  Positive  \n",
       "2           0            0    0.721101  Positive  \n",
       "3           0            0    0.513074  Negative  \n",
       "4           0            0    0.721101  Positive  "
      ]
     },
     "execution_count": 18,
     "metadata": {},
     "output_type": "execute_result"
    }
   ],
   "source": [
    "dataset_messi[\"label\"] = \"0\" # Create a column named \"label\"\n",
    "dataset_messi[\"label\"] = dataset_messi.prediction.apply(lambda x: assign_label(x))\n",
    "dataset_messi.head(5)"
   ]
  },
  {
   "cell_type": "markdown",
   "id": "d7929cfd",
   "metadata": {
    "papermill": {
     "duration": 0.035087,
     "end_time": "2021-09-27T03:21:36.957255",
     "exception": false,
     "start_time": "2021-09-27T03:21:36.922168",
     "status": "completed"
    },
    "tags": []
   },
   "source": [
    "## Application : Ronaldo Dataset"
   ]
  },
  {
   "cell_type": "code",
   "execution_count": 19,
   "id": "2698227c",
   "metadata": {
    "execution": {
     "iopub.execute_input": "2021-09-27T03:21:37.046780Z",
     "iopub.status.busy": "2021-09-27T03:21:37.041555Z",
     "iopub.status.idle": "2021-09-27T03:21:37.095776Z",
     "shell.execute_reply": "2021-09-27T03:21:37.095258Z",
     "shell.execute_reply.started": "2021-09-27T02:56:49.576383Z"
    },
    "papermill": {
     "duration": 0.102463,
     "end_time": "2021-09-27T03:21:37.095930",
     "exception": false,
     "start_time": "2021-09-27T03:21:36.993467",
     "status": "completed"
    },
    "tags": []
   },
   "outputs": [
    {
     "data": {
      "text/html": [
       "<div>\n",
       "<style scoped>\n",
       "    .dataframe tbody tr th:only-of-type {\n",
       "        vertical-align: middle;\n",
       "    }\n",
       "\n",
       "    .dataframe tbody tr th {\n",
       "        vertical-align: top;\n",
       "    }\n",
       "\n",
       "    .dataframe thead th {\n",
       "        text-align: right;\n",
       "    }\n",
       "</style>\n",
       "<table border=\"1\" class=\"dataframe\">\n",
       "  <thead>\n",
       "    <tr style=\"text-align: right;\">\n",
       "      <th></th>\n",
       "      <th>tweet_id</th>\n",
       "      <th>author_id</th>\n",
       "      <th>content</th>\n",
       "      <th>lang</th>\n",
       "      <th>date</th>\n",
       "      <th>source</th>\n",
       "      <th>geo</th>\n",
       "      <th>retweet_count</th>\n",
       "      <th>like_count</th>\n",
       "      <th>quote_count</th>\n",
       "      <th>prediction</th>\n",
       "      <th>label</th>\n",
       "    </tr>\n",
       "  </thead>\n",
       "  <tbody>\n",
       "    <tr>\n",
       "      <th>0</th>\n",
       "      <td>1442216040629514241</td>\n",
       "      <td>1395557892779122694</td>\n",
       "      <td>ronaldo was offside</td>\n",
       "      <td>en</td>\n",
       "      <td>2021-09-26T19:54:33.000Z</td>\n",
       "      <td>Twitter Web App</td>\n",
       "      <td>-1</td>\n",
       "      <td>0</td>\n",
       "      <td>1</td>\n",
       "      <td>0</td>\n",
       "      <td>0.619238</td>\n",
       "      <td>Neutral</td>\n",
       "    </tr>\n",
       "    <tr>\n",
       "      <th>1</th>\n",
       "      <td>1442216031792074755</td>\n",
       "      <td>1176842712420630530</td>\n",
       "      <td>football tweet the most effective trios over ...</td>\n",
       "      <td>en</td>\n",
       "      <td>2021-09-26T19:54:31.000Z</td>\n",
       "      <td>Twitter for Android</td>\n",
       "      <td>-1</td>\n",
       "      <td>18</td>\n",
       "      <td>0</td>\n",
       "      <td>0</td>\n",
       "      <td>0.576040</td>\n",
       "      <td>Negative</td>\n",
       "    </tr>\n",
       "    <tr>\n",
       "      <th>2</th>\n",
       "      <td>1442216026456748036</td>\n",
       "      <td>2385664598</td>\n",
       "      <td>ronaldo jr the only footballer to score a goal...</td>\n",
       "      <td>en</td>\n",
       "      <td>2021-09-26T19:54:30.000Z</td>\n",
       "      <td>Twitter for iPhone</td>\n",
       "      <td>-1</td>\n",
       "      <td>0</td>\n",
       "      <td>0</td>\n",
       "      <td>0</td>\n",
       "      <td>0.717927</td>\n",
       "      <td>Positive</td>\n",
       "    </tr>\n",
       "    <tr>\n",
       "      <th>3</th>\n",
       "      <td>1442216002197016578</td>\n",
       "      <td>1142495555790299138</td>\n",
       "      <td>edmundoris perfect weekend for barca fans and...</td>\n",
       "      <td>en</td>\n",
       "      <td>2021-09-26T19:54:24.000Z</td>\n",
       "      <td>Twitter for iPhone</td>\n",
       "      <td>-1</td>\n",
       "      <td>571</td>\n",
       "      <td>0</td>\n",
       "      <td>0</td>\n",
       "      <td>0.583726</td>\n",
       "      <td>Negative</td>\n",
       "    </tr>\n",
       "    <tr>\n",
       "      <th>4</th>\n",
       "      <td>1442215992344596488</td>\n",
       "      <td>793153149066481664</td>\n",
       "      <td>efoetornam no way ansu fati has more goals ou...</td>\n",
       "      <td>en</td>\n",
       "      <td>2021-09-26T19:54:22.000Z</td>\n",
       "      <td>Twitter for iPhone</td>\n",
       "      <td>-1</td>\n",
       "      <td>106</td>\n",
       "      <td>0</td>\n",
       "      <td>0</td>\n",
       "      <td>0.710394</td>\n",
       "      <td>Positive</td>\n",
       "    </tr>\n",
       "  </tbody>\n",
       "</table>\n",
       "</div>"
      ],
      "text/plain": [
       "              tweet_id            author_id  \\\n",
       "0  1442216040629514241  1395557892779122694   \n",
       "1  1442216031792074755  1176842712420630530   \n",
       "2  1442216026456748036           2385664598   \n",
       "3  1442216002197016578  1142495555790299138   \n",
       "4  1442215992344596488   793153149066481664   \n",
       "\n",
       "                                             content lang  \\\n",
       "0                                ronaldo was offside   en   \n",
       "1   football tweet the most effective trios over ...   en   \n",
       "2  ronaldo jr the only footballer to score a goal...   en   \n",
       "3   edmundoris perfect weekend for barca fans and...   en   \n",
       "4   efoetornam no way ansu fati has more goals ou...   en   \n",
       "\n",
       "                       date               source geo  retweet_count  \\\n",
       "0  2021-09-26T19:54:33.000Z      Twitter Web App  -1              0   \n",
       "1  2021-09-26T19:54:31.000Z  Twitter for Android  -1             18   \n",
       "2  2021-09-26T19:54:30.000Z   Twitter for iPhone  -1              0   \n",
       "3  2021-09-26T19:54:24.000Z   Twitter for iPhone  -1            571   \n",
       "4  2021-09-26T19:54:22.000Z   Twitter for iPhone  -1            106   \n",
       "\n",
       "   like_count  quote_count  prediction     label  \n",
       "0           1            0    0.619238   Neutral  \n",
       "1           0            0    0.576040  Negative  \n",
       "2           0            0    0.717927  Positive  \n",
       "3           0            0    0.583726  Negative  \n",
       "4           0            0    0.710394  Positive  "
      ]
     },
     "execution_count": 19,
     "metadata": {},
     "output_type": "execute_result"
    }
   ],
   "source": [
    "dataset_ronaldo[\"label\"] = \"0\" # Create a column named \"label\"\n",
    "dataset_ronaldo[\"label\"] = dataset_ronaldo.prediction.apply(lambda x: assign_label(x))\n",
    "dataset_ronaldo.head(5)"
   ]
  },
  {
   "cell_type": "markdown",
   "id": "ead1c310",
   "metadata": {
    "papermill": {
     "duration": 0.036588,
     "end_time": "2021-09-27T03:21:37.168571",
     "exception": false,
     "start_time": "2021-09-27T03:21:37.131983",
     "status": "completed"
    },
    "tags": []
   },
   "source": [
    "# Save the results\n",
    "> Note : if you plan to use the dataset, feel free to manually check and tweak the results, in order to come closer to a human-precision level"
   ]
  },
  {
   "cell_type": "markdown",
   "id": "5904c566",
   "metadata": {
    "papermill": {
     "duration": 0.035822,
     "end_time": "2021-09-27T03:21:37.240406",
     "exception": false,
     "start_time": "2021-09-27T03:21:37.204584",
     "status": "completed"
    },
    "tags": []
   },
   "source": [
    "## Messi "
   ]
  },
  {
   "cell_type": "code",
   "execution_count": 20,
   "id": "4837a60d",
   "metadata": {
    "execution": {
     "iopub.execute_input": "2021-09-27T03:21:37.317243Z",
     "iopub.status.busy": "2021-09-27T03:21:37.316604Z",
     "iopub.status.idle": "2021-09-27T03:21:37.812272Z",
     "shell.execute_reply": "2021-09-27T03:21:37.811655Z",
     "shell.execute_reply.started": "2021-09-27T02:59:59.572214Z"
    },
    "papermill": {
     "duration": 0.535995,
     "end_time": "2021-09-27T03:21:37.812422",
     "exception": false,
     "start_time": "2021-09-27T03:21:37.276427",
     "status": "completed"
    },
    "tags": []
   },
   "outputs": [],
   "source": [
    "dataset_messi.to_csv(\"Predictions_messi.csv\", index=False)"
   ]
  },
  {
   "cell_type": "markdown",
   "id": "782fb683",
   "metadata": {
    "papermill": {
     "duration": 0.03572,
     "end_time": "2021-09-27T03:21:37.884695",
     "exception": false,
     "start_time": "2021-09-27T03:21:37.848975",
     "status": "completed"
    },
    "tags": []
   },
   "source": [
    "## Ronaldo"
   ]
  },
  {
   "cell_type": "code",
   "execution_count": 21,
   "id": "5bb7ac43",
   "metadata": {
    "execution": {
     "iopub.execute_input": "2021-09-27T03:21:37.962032Z",
     "iopub.status.busy": "2021-09-27T03:21:37.961073Z",
     "iopub.status.idle": "2021-09-27T03:21:38.452515Z",
     "shell.execute_reply": "2021-09-27T03:21:38.451307Z",
     "shell.execute_reply.started": "2021-09-27T03:00:22.154954Z"
    },
    "papermill": {
     "duration": 0.532488,
     "end_time": "2021-09-27T03:21:38.452695",
     "exception": false,
     "start_time": "2021-09-27T03:21:37.920207",
     "status": "completed"
    },
    "tags": []
   },
   "outputs": [],
   "source": [
    "dataset_ronaldo.to_csv(\"Predictions_ronaldo.csv\", index=False)"
   ]
  }
 ],
 "metadata": {
  "kernelspec": {
   "display_name": "Python 3",
   "language": "python",
   "name": "python3"
  },
  "language_info": {
   "codemirror_mode": {
    "name": "ipython",
    "version": 3
   },
   "file_extension": ".py",
   "mimetype": "text/x-python",
   "name": "python",
   "nbconvert_exporter": "python",
   "pygments_lexer": "ipython3",
   "version": "3.7.10"
  },
  "papermill": {
   "default_parameters": {},
   "duration": 255.818863,
   "end_time": "2021-09-27T03:21:41.796097",
   "environment_variables": {},
   "exception": null,
   "input_path": "__notebook__.ipynb",
   "output_path": "__notebook__.ipynb",
   "parameters": {},
   "start_time": "2021-09-27T03:17:25.977234",
   "version": "2.3.3"
  }
 },
 "nbformat": 4,
 "nbformat_minor": 5
}
